{
 "cells": [
  {
   "cell_type": "code",
   "execution_count": 1,
   "metadata": {},
   "outputs": [],
   "source": [
    "%reload_ext autoreload\n",
    "%autoreload 1\n",
    "import joblib\n",
    "from ray import tune, train\n",
    "import copy\n",
    "import shap\n",
    "import matplotlib.pyplot as plt\n",
    "import polars as pl\n",
    "import sys\n",
    "import numpy as np\n",
    "from sklearn.model_selection import train_test_split\n",
    "import functions.transformers as tr\n",
    "from functions.transformers import PolarsColumnTransformer as PCT\n",
    "import functions.data_cleaning as dmf\n",
    "import functions.plot_functions as pf\n",
    "import functions.tuning as tunes\n",
    "import functions.feature_engineering as feats\n",
    "import seaborn as sns\n",
    "from sklearn.pipeline import Pipeline\n",
    "from sklearn.metrics import classification_report\n",
    "from sklearn.preprocessing import LabelEncoder\n",
    "from sklearn.preprocessing import OneHotEncoder\n",
    "from sklearn.tree import DecisionTreeClassifier\n",
    "from sklearn.linear_model import LogisticRegression\n",
    "from IPython.display import display,Markdown\n",
    "import lightgbm as lgb\n",
    "%aimport functions.tuning\n",
    "%aimport functions.transformers\n",
    "%aimport functions.data_cleaning\n",
    "%aimport functions.plot_functions\n",
    "%aimport functions.feature_engineering"
   ]
  },
  {
   "cell_type": "code",
   "execution_count": 2,
   "metadata": {},
   "outputs": [],
   "source": [
    "data_train_single=pl.read_parquet('data/data_accepted_single_train.parquet')\n",
    "data_val_single=pl.read_parquet('data/data_accepted_single_val.parquet')\n",
    "data_train_joint=pl.read_parquet('data/data_accepted_joint_train.parquet')\n",
    "data_val_joint=pl.read_parquet('data/data_accepted_joint_val.parquet')"
   ]
  },
  {
   "cell_type": "code",
   "execution_count": 3,
   "metadata": {},
   "outputs": [],
   "source": [
    "data_train_single=dmf.clean_accepted_single(data_train_single)\n",
    "data_val_single=dmf.clean_accepted_single(data_val_single)\n",
    "data_train_joint=dmf.clean_accepted_joint(data_train_joint)\n",
    "data_val_joint=dmf.clean_accepted_joint(data_val_joint)"
   ]
  },
  {
   "cell_type": "markdown",
   "metadata": {},
   "source": [
    "### Feature Engineering"
   ]
  },
  {
   "cell_type": "code",
   "execution_count": 4,
   "metadata": {},
   "outputs": [],
   "source": [
    "data_train_single=feats.date_features(data_train_single,'issue_d')\n",
    "data_val_single=feats.date_features(data_val_single,'issue_d')\n",
    "data_train_joint=feats.date_features(data_train_joint,'issue_d')\n",
    "data_val_joint=feats.date_features(data_val_joint,'issue_d')"
   ]
  },
  {
   "cell_type": "code",
   "execution_count": 5,
   "metadata": {},
   "outputs": [],
   "source": [
    "X_train_single=data_train_single.drop(columns=['grade','sub_grade','int_rate','issue_d'])\n",
    "y_train_single=data_train_single['grade']\n",
    "\n",
    "X_val_single=data_val_single.drop(columns=['grade','sub_grade','int_rate','issue_d'])\n",
    "y_val_single=data_val_single['grade']\n",
    "\n",
    "X_train_single=data_train_joint.drop(columns=['grade','sub_grade','int_rate','issue_d'])\n",
    "y_train_single=data_train_joint['grade']\n",
    "\n",
    "X_val_joint=data_val_joint.drop(columns=['grade','sub_grade','int_rate','issue_d'])\n",
    "y_val_joint=data_train_joint['grade']\n"
   ]
  },
  {
   "cell_type": "markdown",
   "metadata": {},
   "source": [
    "#### Imputers"
   ]
  },
  {
   "cell_type": "code",
   "execution_count": 6,
   "metadata": {},
   "outputs": [],
   "source": [
    "full_pipline_single=Pipeline([])"
   ]
  },
  {
   "cell_type": "code",
   "execution_count": 7,
   "metadata": {},
   "outputs": [],
   "source": [
    "emp_title_imp = tr.NotInImputerPolars(cat_no=20, fill_value=\"other\")\n",
    "emp_length_imp = tr.NotInImputerPolars(cat_no=12, fill_value=None)\n",
    "zip_imp = tr.NotInImputerPolars(cat_no=12, fill_value='other')\n",
    "imputer = PCT(\n",
    "    [\n",
    "        PCT.Step(\"emp_title\", emp_title_imp, \"emp_title\"),\n",
    "        PCT.Step(\"emp_length\", emp_length_imp, \"emp_length\"),\n",
    "        PCT.Step(\"zip_code\", zip_imp,'zip_code')\n",
    "    ]\n",
    ")\n",
    "full_pipline_single.steps.append((\"imputer\",imputer))"
   ]
  },
  {
   "cell_type": "markdown",
   "metadata": {},
   "source": [
    "### Encoders"
   ]
  },
  {
   "cell_type": "code",
   "execution_count": 10,
   "metadata": {},
   "outputs": [],
   "source": [
    "emp_t_enc = tr.TargetMeanOrderedLabeler()\n",
    "emp_l_order = [\n",
    "    None,\n",
    "    \"< 1 year\",\n",
    "    \"1 year\",\n",
    "    \"2 years\",\n",
    "    \"3 years\",\n",
    "    \"4 years\",\n",
    "    \"5 years\",\n",
    "    \"6 years\",\n",
    "    \"7 years\",\n",
    "    \"8 years\",\n",
    "    \"9 years\",\n",
    "    \"10+ years\",\n",
    "]\n",
    "emp_l_enc = tr.PolarsOrdinalEncoder(order=emp_l_order)\n",
    "home_enc = tr.TargetMeanOrderedLabeler(how=\"label\")\n",
    "verif_enc = tr.TargetMeanOrderedLabeler(how=\"label\")\n",
    "paymnt_enc = tr.PolarsOneHotEncoder(drop=True)\n",
    "purpose_enc = tr.TargetMeanOrderedLabeler(how=\"mean\")\n",
    "zip_enc = tr.TargetMeanOrderedLabeler(how=\"mean\")\n",
    "state_enc = tr.TargetMeanOrderedLabeler(how=\"mean\")\n",
    "init_stat_enc = tr.PolarsOneHotEncoder(drop=True)\n",
    "disbursment_enc = tr.PolarsOneHotEncoder(drop=True)\n",
    "\n",
    "encoders = PCT(\n",
    "    [\n",
    "        PCT.Step(\"emp_t_enc\", emp_t_enc, \"emp_title\"),\n",
    "        PCT.Step(\"emp_l_enc\", emp_l_enc, \"emp_title\"),\n",
    "        PCT.Step(\"home_enc\", home_enc, \"emp_title\"),\n",
    "        PCT.Step(\"verif_enc\", verif_enc, \"emp_title\"),\n",
    "        PCT.Step(\"paymnt_enc\", paymnt_enc, \"emp_title\"),\n",
    "        PCT.Step(\"purpose_enc\", purpose_enc, \"emp_title\"),\n",
    "        PCT.Step(\"zip_enc\", zip_enc, \"emp_title\"),\n",
    "        PCT.Step(\"state_enc\", state_enc, \"emp_title\"),\n",
    "        PCT.Step(\"init_stat_enc\", init_stat_enc, \"emp_title\"),\n",
    "        PCT.Step(\"disbursment_enc\", disbursment_enc, \"emp_title\"),\n",
    "    ]\n",
    ")"
   ]
  },
  {
   "cell_type": "code",
   "execution_count": 15,
   "metadata": {},
   "outputs": [
    {
     "data": {
      "text/html": [
       "<div><style>\n",
       ".dataframe > thead > tr > th,\n",
       ".dataframe > tbody > tr > td {\n",
       "  text-align: right;\n",
       "  white-space: pre-wrap;\n",
       "}\n",
       "</style>\n",
       "<small>shape: (5, 92)</small><table border=\"1\" class=\"dataframe\"><thead><tr><th>loan_amnt</th><th>funded_amnt</th><th>funded_amnt_inv</th><th>term</th><th>int_rate</th><th>installment</th><th>grade</th><th>sub_grade</th><th>emp_title</th><th>emp_length</th><th>home_ownership</th><th>annual_inc</th><th>verification_status</th><th>pymnt_plan</th><th>purpose</th><th>zip_code</th><th>addr_state</th><th>dti</th><th>delinq_2yrs</th><th>earliest_cr_line</th><th>fico_range_low</th><th>fico_range_high</th><th>inq_last_6mths</th><th>mths_since_last_delinq</th><th>mths_since_last_record</th><th>open_acc</th><th>pub_rec</th><th>revol_bal</th><th>revol_util</th><th>total_acc</th><th>initial_list_status</th><th>last_credit_pull_d</th><th>last_fico_range_high</th><th>last_fico_range_low</th><th>mths_since_last_major_derog</th><th>acc_now_delinq</th><th>tot_cur_bal</th><th>&hellip;</th><th>bc_util</th><th>chargeoff_within_12_mths</th><th>delinq_amnt</th><th>mo_sin_old_il_acct</th><th>mo_sin_old_rev_tl_op</th><th>mo_sin_rcnt_rev_tl_op</th><th>mo_sin_rcnt_tl</th><th>mort_acc</th><th>mths_since_recent_bc</th><th>mths_since_recent_bc_dlq</th><th>mths_since_recent_inq</th><th>mths_since_recent_revol_delinq</th><th>num_accts_ever_120_pd</th><th>num_actv_bc_tl</th><th>num_actv_rev_tl</th><th>num_bc_sats</th><th>num_bc_tl</th><th>num_il_tl</th><th>num_op_rev_tl</th><th>num_rev_accts</th><th>num_rev_tl_bal_gt_0</th><th>num_sats</th><th>num_tl_120dpd_2m</th><th>num_tl_30dpd</th><th>num_tl_90g_dpd_24m</th><th>num_tl_op_past_12m</th><th>pct_tl_nvr_dlq</th><th>percent_bc_gt_75</th><th>pub_rec_bankruptcies</th><th>tax_liens</th><th>tot_hi_cred_lim</th><th>total_bal_ex_mort</th><th>total_bc_limit</th><th>total_il_high_credit_limit</th><th>disbursement_method</th><th>month_sin</th><th>month_cos</th></tr><tr><td>f64</td><td>f64</td><td>f64</td><td>f32</td><td>f64</td><td>f64</td><td>str</td><td>str</td><td>str</td><td>str</td><td>str</td><td>f64</td><td>str</td><td>str</td><td>str</td><td>str</td><td>str</td><td>f64</td><td>f64</td><td>i64</td><td>f64</td><td>f64</td><td>f64</td><td>f64</td><td>f64</td><td>f64</td><td>f64</td><td>f64</td><td>f64</td><td>f64</td><td>str</td><td>i64</td><td>f64</td><td>f64</td><td>f64</td><td>f64</td><td>f64</td><td>&hellip;</td><td>f64</td><td>f64</td><td>f64</td><td>f64</td><td>f64</td><td>f64</td><td>f64</td><td>f64</td><td>f64</td><td>f64</td><td>f64</td><td>f64</td><td>f64</td><td>f64</td><td>f64</td><td>f64</td><td>f64</td><td>f64</td><td>f64</td><td>f64</td><td>f64</td><td>f64</td><td>f64</td><td>f64</td><td>f64</td><td>f64</td><td>f64</td><td>f64</td><td>f64</td><td>f64</td><td>f64</td><td>f64</td><td>f64</td><td>f64</td><td>str</td><td>f64</td><td>f64</td></tr></thead><tbody><tr><td>3600.0</td><td>3600.0</td><td>3600.0</td><td>36.0</td><td>13.99</td><td>123.03</td><td>&quot;C&quot;</td><td>&quot;C4&quot;</td><td>&quot;leadman&quot;</td><td>&quot;10+ years&quot;</td><td>&quot;MORTGAGE&quot;</td><td>55000.0</td><td>&quot;Not Verified&quot;</td><td>&quot;n&quot;</td><td>&quot;debt_consolida…</td><td>&quot;190xx&quot;</td><td>&quot;PA&quot;</td><td>5.91</td><td>0.0</td><td>4505</td><td>675.0</td><td>679.0</td><td>1.0</td><td>30.0</td><td>null</td><td>7.0</td><td>0.0</td><td>2765.0</td><td>29.7</td><td>13.0</td><td>&quot;w&quot;</td><td>-1186</td><td>564.0</td><td>560.0</td><td>30.0</td><td>0.0</td><td>144904.0</td><td>&hellip;</td><td>37.2</td><td>0.0</td><td>0.0</td><td>148.0</td><td>128.0</td><td>3.0</td><td>3.0</td><td>1.0</td><td>4.0</td><td>69.0</td><td>4.0</td><td>69.0</td><td>2.0</td><td>2.0</td><td>4.0</td><td>2.0</td><td>5.0</td><td>3.0</td><td>4.0</td><td>9.0</td><td>4.0</td><td>7.0</td><td>0.0</td><td>0.0</td><td>0.0</td><td>3.0</td><td>76.9</td><td>0.0</td><td>0.0</td><td>0.0</td><td>178050.0</td><td>7746.0</td><td>2400.0</td><td>13734.0</td><td>&quot;Cash&quot;</td><td>-2.4493e-16</td><td>1.0</td></tr><tr><td>24700.0</td><td>24700.0</td><td>24700.0</td><td>36.0</td><td>11.99</td><td>820.28</td><td>&quot;C&quot;</td><td>&quot;C1&quot;</td><td>&quot;engineer&quot;</td><td>&quot;10+ years&quot;</td><td>&quot;MORTGAGE&quot;</td><td>65000.0</td><td>&quot;Not Verified&quot;</td><td>&quot;n&quot;</td><td>&quot;small_business…</td><td>&quot;577xx&quot;</td><td>&quot;SD&quot;</td><td>16.06</td><td>1.0</td><td>5844</td><td>715.0</td><td>719.0</td><td>4.0</td><td>6.0</td><td>null</td><td>22.0</td><td>0.0</td><td>21470.0</td><td>19.2</td><td>38.0</td><td>&quot;w&quot;</td><td>-1186</td><td>699.0</td><td>695.0</td><td>null</td><td>0.0</td><td>204396.0</td><td>&hellip;</td><td>27.1</td><td>0.0</td><td>0.0</td><td>113.0</td><td>192.0</td><td>2.0</td><td>2.0</td><td>4.0</td><td>2.0</td><td>null</td><td>0.0</td><td>6.0</td><td>0.0</td><td>5.0</td><td>5.0</td><td>13.0</td><td>17.0</td><td>6.0</td><td>20.0</td><td>27.0</td><td>5.0</td><td>22.0</td><td>0.0</td><td>0.0</td><td>0.0</td><td>2.0</td><td>97.4</td><td>7.7</td><td>0.0</td><td>0.0</td><td>314017.0</td><td>39475.0</td><td>79300.0</td><td>24667.0</td><td>&quot;Cash&quot;</td><td>-2.4493e-16</td><td>1.0</td></tr><tr><td>35000.0</td><td>35000.0</td><td>35000.0</td><td>60.0</td><td>14.85</td><td>829.9</td><td>&quot;C&quot;</td><td>&quot;C5&quot;</td><td>&quot;information_sy…</td><td>&quot;10+ years&quot;</td><td>&quot;MORTGAGE&quot;</td><td>110000.0</td><td>&quot;Source Verifie…</td><td>&quot;n&quot;</td><td>&quot;debt_consolida…</td><td>&quot;076xx&quot;</td><td>&quot;NJ&quot;</td><td>17.06</td><td>0.0</td><td>2647</td><td>785.0</td><td>789.0</td><td>0.0</td><td>null</td><td>null</td><td>13.0</td><td>0.0</td><td>7802.0</td><td>11.6</td><td>17.0</td><td>&quot;w&quot;</td><td>-1186</td><td>679.0</td><td>675.0</td><td>null</td><td>0.0</td><td>301500.0</td><td>&hellip;</td><td>12.1</td><td>0.0</td><td>0.0</td><td>36.0</td><td>87.0</td><td>2.0</td><td>2.0</td><td>1.0</td><td>2.0</td><td>null</td><td>null</td><td>null</td><td>0.0</td><td>4.0</td><td>5.0</td><td>8.0</td><td>10.0</td><td>2.0</td><td>10.0</td><td>13.0</td><td>5.0</td><td>13.0</td><td>0.0</td><td>0.0</td><td>0.0</td><td>1.0</td><td>100.0</td><td>0.0</td><td>0.0</td><td>0.0</td><td>381215.0</td><td>52226.0</td><td>62500.0</td><td>18000.0</td><td>&quot;Cash&quot;</td><td>-2.4493e-16</td><td>1.0</td></tr><tr><td>10400.0</td><td>10400.0</td><td>10400.0</td><td>60.0</td><td>22.45</td><td>289.91</td><td>&quot;F&quot;</td><td>&quot;F1&quot;</td><td>&quot;contract_speci…</td><td>&quot;3 years&quot;</td><td>&quot;MORTGAGE&quot;</td><td>104433.0</td><td>&quot;Source Verifie…</td><td>&quot;n&quot;</td><td>&quot;major_purchase…</td><td>&quot;174xx&quot;</td><td>&quot;PA&quot;</td><td>25.37</td><td>1.0</td><td>6392</td><td>695.0</td><td>699.0</td><td>3.0</td><td>12.0</td><td>null</td><td>12.0</td><td>0.0</td><td>21929.0</td><td>64.5</td><td>35.0</td><td>&quot;w&quot;</td><td>-821</td><td>704.0</td><td>700.0</td><td>null</td><td>0.0</td><td>331730.0</td><td>&hellip;</td><td>77.5</td><td>0.0</td><td>0.0</td><td>128.0</td><td>210.0</td><td>4.0</td><td>4.0</td><td>6.0</td><td>4.0</td><td>12.0</td><td>1.0</td><td>12.0</td><td>0.0</td><td>4.0</td><td>6.0</td><td>5.0</td><td>9.0</td><td>10.0</td><td>7.0</td><td>19.0</td><td>6.0</td><td>12.0</td><td>0.0</td><td>0.0</td><td>0.0</td><td>4.0</td><td>96.6</td><td>60.0</td><td>0.0</td><td>0.0</td><td>439570.0</td><td>95768.0</td><td>20300.0</td><td>88097.0</td><td>&quot;Cash&quot;</td><td>-2.4493e-16</td><td>1.0</td></tr><tr><td>11950.0</td><td>11950.0</td><td>11950.0</td><td>36.0</td><td>13.44</td><td>405.18</td><td>&quot;C&quot;</td><td>&quot;C3&quot;</td><td>&quot;veterinary_tec…</td><td>&quot;4 years&quot;</td><td>&quot;RENT&quot;</td><td>34000.0</td><td>&quot;Source Verifie…</td><td>&quot;n&quot;</td><td>&quot;debt_consolida…</td><td>&quot;300xx&quot;</td><td>&quot;GA&quot;</td><td>10.2</td><td>0.0</td><td>10288</td><td>690.0</td><td>694.0</td><td>0.0</td><td>null</td><td>null</td><td>5.0</td><td>0.0</td><td>8822.0</td><td>68.4</td><td>6.0</td><td>&quot;w&quot;</td><td>-517</td><td>759.0</td><td>755.0</td><td>null</td><td>0.0</td><td>12798.0</td><td>&hellip;</td><td>91.0</td><td>0.0</td><td>0.0</td><td>338.0</td><td>54.0</td><td>32.0</td><td>32.0</td><td>0.0</td><td>36.0</td><td>null</td><td>null</td><td>null</td><td>0.0</td><td>2.0</td><td>3.0</td><td>2.0</td><td>2.0</td><td>2.0</td><td>4.0</td><td>4.0</td><td>3.0</td><td>5.0</td><td>0.0</td><td>0.0</td><td>0.0</td><td>0.0</td><td>100.0</td><td>100.0</td><td>0.0</td><td>0.0</td><td>16900.0</td><td>12798.0</td><td>9400.0</td><td>4000.0</td><td>&quot;Cash&quot;</td><td>-2.4493e-16</td><td>1.0</td></tr></tbody></table></div>"
      ],
      "text/plain": [
       "shape: (5, 92)\n",
       "┌───────────┬────────────┬────────────┬──────┬───┬────────────┬────────────┬───────────┬───────────┐\n",
       "│ loan_amnt ┆ funded_amn ┆ funded_amn ┆ term ┆ … ┆ total_il_h ┆ disburseme ┆ month_sin ┆ month_cos │\n",
       "│ ---       ┆ t          ┆ t_inv      ┆ ---  ┆   ┆ igh_credit ┆ nt_method  ┆ ---       ┆ ---       │\n",
       "│ f64       ┆ ---        ┆ ---        ┆ f32  ┆   ┆ _limit     ┆ ---        ┆ f64       ┆ f64       │\n",
       "│           ┆ f64        ┆ f64        ┆      ┆   ┆ ---        ┆ str        ┆           ┆           │\n",
       "│           ┆            ┆            ┆      ┆   ┆ f64        ┆            ┆           ┆           │\n",
       "╞═══════════╪════════════╪════════════╪══════╪═══╪════════════╪════════════╪═══════════╪═══════════╡\n",
       "│ 3600.0    ┆ 3600.0     ┆ 3600.0     ┆ 36.0 ┆ … ┆ 13734.0    ┆ Cash       ┆ -2.4493e- ┆ 1.0       │\n",
       "│           ┆            ┆            ┆      ┆   ┆            ┆            ┆ 16        ┆           │\n",
       "│ 24700.0   ┆ 24700.0    ┆ 24700.0    ┆ 36.0 ┆ … ┆ 24667.0    ┆ Cash       ┆ -2.4493e- ┆ 1.0       │\n",
       "│           ┆            ┆            ┆      ┆   ┆            ┆            ┆ 16        ┆           │\n",
       "│ 35000.0   ┆ 35000.0    ┆ 35000.0    ┆ 60.0 ┆ … ┆ 18000.0    ┆ Cash       ┆ -2.4493e- ┆ 1.0       │\n",
       "│           ┆            ┆            ┆      ┆   ┆            ┆            ┆ 16        ┆           │\n",
       "│ 10400.0   ┆ 10400.0    ┆ 10400.0    ┆ 60.0 ┆ … ┆ 88097.0    ┆ Cash       ┆ -2.4493e- ┆ 1.0       │\n",
       "│           ┆            ┆            ┆      ┆   ┆            ┆            ┆ 16        ┆           │\n",
       "│ 11950.0   ┆ 11950.0    ┆ 11950.0    ┆ 36.0 ┆ … ┆ 4000.0     ┆ Cash       ┆ -2.4493e- ┆ 1.0       │\n",
       "│           ┆            ┆            ┆      ┆   ┆            ┆            ┆ 16        ┆           │\n",
       "└───────────┴────────────┴────────────┴──────┴───┴────────────┴────────────┴───────────┴───────────┘"
      ]
     },
     "execution_count": 15,
     "metadata": {},
     "output_type": "execute_result"
    }
   ],
   "source": [
    "data_train_single.head()"
   ]
  },
  {
   "cell_type": "code",
   "execution_count": 12,
   "metadata": {},
   "outputs": [
    {
     "data": {
      "text/html": [
       "<div><style>\n",
       ".dataframe > thead > tr > th,\n",
       ".dataframe > tbody > tr > td {\n",
       "  text-align: right;\n",
       "  white-space: pre-wrap;\n",
       "}\n",
       "</style>\n",
       "<small>shape: (2, 2)</small><table border=\"1\" class=\"dataframe\"><thead><tr><th>initial_list_status</th><th>counts</th></tr><tr><td>str</td><td>u32</td></tr></thead><tbody><tr><td>&quot;f&quot;</td><td>647968</td></tr><tr><td>&quot;w&quot;</td><td>1065733</td></tr></tbody></table></div>"
      ],
      "text/plain": [
       "shape: (2, 2)\n",
       "┌─────────────────────┬─────────┐\n",
       "│ initial_list_status ┆ counts  │\n",
       "│ ---                 ┆ ---     │\n",
       "│ str                 ┆ u32     │\n",
       "╞═════════════════════╪═════════╡\n",
       "│ f                   ┆ 647968  │\n",
       "│ w                   ┆ 1065733 │\n",
       "└─────────────────────┴─────────┘"
      ]
     },
     "execution_count": 12,
     "metadata": {},
     "output_type": "execute_result"
    }
   ],
   "source": [
    "data_train_single['initial_list_status'].value_counts()"
   ]
  },
  {
   "cell_type": "code",
   "execution_count": null,
   "metadata": {},
   "outputs": [],
   "source": []
  }
 ],
 "metadata": {
  "kernelspec": {
   "display_name": "base",
   "language": "python",
   "name": "python3"
  },
  "language_info": {
   "codemirror_mode": {
    "name": "ipython",
    "version": 3
   },
   "file_extension": ".py",
   "mimetype": "text/x-python",
   "name": "python",
   "nbconvert_exporter": "python",
   "pygments_lexer": "ipython3",
   "version": "3.9.13"
  }
 },
 "nbformat": 4,
 "nbformat_minor": 2
}
