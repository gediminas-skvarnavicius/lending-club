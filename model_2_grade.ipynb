{
 "cells": [
  {
   "cell_type": "code",
   "execution_count": 1,
   "metadata": {},
   "outputs": [],
   "source": [
    "%reload_ext autoreload\n",
    "%autoreload 1\n",
    "import joblib\n",
    "from ray import tune, train\n",
    "import copy\n",
    "import shap\n",
    "import matplotlib.pyplot as plt\n",
    "import polars as pl\n",
    "import sys\n",
    "import numpy as np\n",
    "from sklearn.model_selection import train_test_split\n",
    "import functions.transformers as tr\n",
    "from functions.transformers import PolarsColumnTransformer as PCT\n",
    "import functions.data_cleaning as dmf\n",
    "import functions.plot_functions as pf\n",
    "import functions.tuning as tunes\n",
    "import functions.feature_engineering as feats\n",
    "import seaborn as sns\n",
    "from sklearn.pipeline import Pipeline\n",
    "from sklearn.metrics import classification_report,f1_score\n",
    "from sklearn.preprocessing import LabelEncoder\n",
    "from sklearn.preprocessing import OneHotEncoder\n",
    "from sklearn.tree import DecisionTreeClassifier\n",
    "from sklearn.linear_model import LogisticRegression\n",
    "from IPython.display import display,Markdown\n",
    "import lightgbm as lgb\n",
    "%aimport functions.tuning\n",
    "%aimport functions.transformers\n",
    "%aimport functions.data_cleaning\n",
    "%aimport functions.plot_functions\n",
    "%aimport functions.feature_engineering"
   ]
  },
  {
   "cell_type": "code",
   "execution_count": 2,
   "metadata": {},
   "outputs": [],
   "source": [
    "data_train_single=pl.read_parquet('data/data_accepted_single_train.parquet')\n",
    "data_val_single=pl.read_parquet('data/data_accepted_single_val.parquet')\n",
    "data_train_joint=pl.read_parquet('data/data_accepted_joint_train.parquet')\n",
    "data_val_joint=pl.read_parquet('data/data_accepted_joint_val.parquet')"
   ]
  },
  {
   "cell_type": "code",
   "execution_count": 3,
   "metadata": {},
   "outputs": [],
   "source": [
    "data_train_single=dmf.clean_accepted_single(data_train_single)\n",
    "data_val_single=dmf.clean_accepted_single(data_val_single)\n",
    "data_train_joint=dmf.clean_accepted_joint(data_train_joint)\n",
    "data_val_joint=dmf.clean_accepted_joint(data_val_joint)"
   ]
  },
  {
   "cell_type": "markdown",
   "metadata": {},
   "source": [
    "##### Dropping Features:"
   ]
  },
  {
   "cell_type": "code",
   "execution_count": 4,
   "metadata": {},
   "outputs": [],
   "source": [
    "data_train_single=dmf.remove_poor_features_single(data_train_single)\n",
    "data_val_single=dmf.remove_poor_features_single(data_val_single)\n",
    "data_train_joint=dmf.remove_poor_features_joint(data_train_joint)\n",
    "data_val_joint=dmf.remove_poor_features_joint(data_val_joint)"
   ]
  },
  {
   "cell_type": "markdown",
   "metadata": {},
   "source": [
    "### Feature Engineering"
   ]
  },
  {
   "cell_type": "code",
   "execution_count": 5,
   "metadata": {},
   "outputs": [],
   "source": [
    "data_train_single=feats.date_features(data_train_single,'issue_d')\n",
    "data_val_single=feats.date_features(data_val_single,'issue_d')\n",
    "data_train_joint=feats.date_features(data_train_joint,'issue_d')\n",
    "data_val_joint=feats.date_features(data_val_joint,'issue_d')"
   ]
  },
  {
   "cell_type": "code",
   "execution_count": 6,
   "metadata": {},
   "outputs": [],
   "source": [
    "data_train_single=dmf.label_target_grades(data_train_single,)\n",
    "data_val_single=dmf.label_target_grades(data_val_single,)\n",
    "data_train_joint=dmf.label_target_grades(data_train_joint,)\n",
    "data_val_joint=dmf.label_target_grades(data_val_joint,)"
   ]
  },
  {
   "cell_type": "code",
   "execution_count": 7,
   "metadata": {},
   "outputs": [],
   "source": [
    "X_train_single=data_train_single.drop(columns=['grade','sub_grade','int_rate','issue_d'])\n",
    "y_train_single=data_train_single['grade']\n",
    "\n",
    "X_val_single=data_val_single.drop(columns=['grade','sub_grade','int_rate','issue_d'])\n",
    "y_val_single=data_val_single['grade']\n",
    "\n",
    "X_train_joint=data_train_joint.drop(columns=['grade','sub_grade','int_rate','issue_d'])\n",
    "y_train_joint=data_train_joint['grade']\n",
    "\n",
    "X_val_joint=data_val_joint.drop(columns=['grade','sub_grade','int_rate','issue_d'])\n",
    "y_val_joint=data_val_joint['grade']\n"
   ]
  },
  {
   "cell_type": "markdown",
   "metadata": {},
   "source": [
    "#### Imputers"
   ]
  },
  {
   "cell_type": "code",
   "execution_count": 8,
   "metadata": {},
   "outputs": [],
   "source": [
    "preprocess_single=Pipeline([])"
   ]
  },
  {
   "cell_type": "code",
   "execution_count": 9,
   "metadata": {},
   "outputs": [],
   "source": [
    "emp_title_imp = tr.NotInImputerPolars(cat_no=20, fill_value=\"other\")\n",
    "emp_length_imp = tr.NotInImputerPolars(cat_no=12, fill_value=None)\n",
    "zip_imp = tr.NotInImputerPolars(cat_no=12, fill_value='other')\n",
    "imputers = PCT(\n",
    "    [\n",
    "        PCT.Step(\"emp_title\", emp_title_imp, \"emp_title\"),\n",
    "        PCT.Step(\"emp_length\", emp_length_imp, \"emp_length\"),\n",
    "        PCT.Step(\"zip_code\", zip_imp,'zip_code')\n",
    "    ]\n",
    ")\n",
    "preprocess_single.steps.append((\"imputers\",imputers))"
   ]
  },
  {
   "cell_type": "markdown",
   "metadata": {},
   "source": [
    "### Encoders"
   ]
  },
  {
   "cell_type": "code",
   "execution_count": 10,
   "metadata": {},
   "outputs": [],
   "source": [
    "emp_t_enc = tr.TargetMeanOrderedLabeler(how=\"label\")\n",
    "emp_l_order = [\n",
    "    None,\n",
    "    \"< 1 year\",\n",
    "    \"1 year\",\n",
    "    \"2 years\",\n",
    "    \"3 years\",\n",
    "    \"4 years\",\n",
    "    \"5 years\",\n",
    "    \"6 years\",\n",
    "    \"7 years\",\n",
    "    \"8 years\",\n",
    "    \"9 years\",\n",
    "    \"10+ years\",\n",
    "]\n",
    "emp_l_enc = tr.PolarsOrdinalEncoder(order=emp_l_order)\n",
    "home_enc = tr.TargetMeanOrderedLabeler(how=\"label\")\n",
    "verif_enc = tr.TargetMeanOrderedLabeler(how=\"label\")\n",
    "paymnt_enc = tr.PolarsOneHotEncoder(drop=True)\n",
    "purpose_enc = tr.TargetMeanOrderedLabeler(how=\"label\")\n",
    "zip_enc = tr.TargetMeanOrderedLabeler(how=\"label\")\n",
    "state_enc = tr.TargetMeanOrderedLabeler(how=\"label\")\n",
    "init_stat_enc = tr.PolarsOneHotEncoder(drop=True)\n",
    "disbursement_enc = tr.PolarsOneHotEncoder(drop=True)\n",
    "\n",
    "encoders = PCT(\n",
    "    [\n",
    "        PCT.Step(\"emp_t_enc\", emp_t_enc, \"emp_title\"),\n",
    "        PCT.Step(\"emp_l_enc\", emp_l_enc, \"emp_length\"),\n",
    "        PCT.Step(\"home_enc\", home_enc, \"home_ownership\"),\n",
    "        PCT.Step(\"verif_enc\", verif_enc, \"verification_status\"),\n",
    "        PCT.Step(\"paymnt_enc\", paymnt_enc, \"pymnt_plan\"),\n",
    "        PCT.Step(\"purpose_enc\", purpose_enc, \"purpose\"),\n",
    "        PCT.Step(\"zip_enc\", zip_enc, \"zip_code\"),\n",
    "        PCT.Step(\"state_enc\", state_enc, \"addr_state\"),\n",
    "        PCT.Step(\"init_stat_enc\", init_stat_enc, \"initial_list_status\"),\n",
    "        PCT.Step(\"disbursement_enc\", disbursement_enc, \"disbursement_method\"),\n",
    "    ]\n",
    ")\n",
    "\n",
    "preprocess_single.steps.append((\"encoders\",encoders))\n",
    "null_imp = tr.PolarsNullImputer(fill_value=-9)\n",
    "preprocess_single.steps.append((\"null_imputer\",null_imp))"
   ]
  },
  {
   "cell_type": "code",
   "execution_count": 11,
   "metadata": {},
   "outputs": [],
   "source": [
    "model_single_lgbm = lgb.LGBMClassifier(\n",
    "    objective=\"multiclass\",\n",
    "    class_weight=\"balanced\",\n",
    "    verbose=-1,\n",
    "    force_col_wise=True,\n",
    "    random_state=1,\n",
    "    num_threads=1\n",
    ")"
   ]
  },
  {
   "cell_type": "markdown",
   "metadata": {},
   "source": [
    "##### Getting an space of sets of columns to drop:"
   ]
  },
  {
   "cell_type": "code",
   "execution_count": 12,
   "metadata": {},
   "outputs": [],
   "source": [
    "original_columns=preprocess_single.fit_transform(X_train_single.sample(10000,seed=1),y_train_single.sample(10000,seed=1)).columns\n",
    "\n",
    "boruta_selected_cols={}\n",
    "\n",
    "transformed_sample_X = preprocess_single.fit_transform(\n",
    "        X_train_single.sample(50000, seed=1), y_train_single.sample(50000, seed=1)\n",
    "    )\n",
    "transformed_sample_y=y_train_single.sample(50000, seed=1)\n",
    "for perc in np.arange(stop=101,start=10,step=10):\n",
    "    boruta = tr.BorutaFeatureSelectorPolars(model_single_lgbm, random_state=1, perc=perc)\n",
    "        \n",
    "    boruta.fit(\n",
    "        transformed_sample_X,\n",
    "        transformed_sample_y,\n",
    "    )\n",
    "    boruta_selected_cols[perc]=boruta.transform(preprocess_single.fit_transform(\n",
    "        X_train_single.sample(10000, seed=1), y_train_single.sample(10000, seed=1)\n",
    "    )).columns"
   ]
  },
  {
   "cell_type": "code",
   "execution_count": 13,
   "metadata": {},
   "outputs": [],
   "source": [
    "cols_to_drop_space={}\n",
    "for key, columns in boruta_selected_cols.items():\n",
    "    print(len(columns))\n",
    "    cols_to_drop_space[int(key/10)]=[col for col in original_columns if col not in columns]\n",
    "cols_to_drop_space[0]=[]\n",
    "joblib.dump(cols_to_drop_space,'temp/cols_to_drop.joblib')\n",
    "# cols_to_drop_space=joblib.load('temp/cols_to_drop.joblib')"
   ]
  },
  {
   "cell_type": "markdown",
   "metadata": {},
   "source": [
    "##### Dropper"
   ]
  },
  {
   "cell_type": "code",
   "execution_count": 13,
   "metadata": {},
   "outputs": [],
   "source": [
    "feature_dropper = tr.FeatureRemover([])\n",
    "preprocess_single.steps.append(('feature_dropper',feature_dropper))\n",
    "full_pipeline_single = Pipeline(\n",
    "    [(\"preprocess\", preprocess_single), (\"model\", model_single_lgbm)]\n",
    ")"
   ]
  },
  {
   "cell_type": "markdown",
   "metadata": {},
   "source": [
    "##### Baseline for tuning:"
   ]
  },
  {
   "cell_type": "code",
   "execution_count": 14,
   "metadata": {},
   "outputs": [],
   "source": [
    "full_pipeline_single.fit(X_train_single.sample(100000,seed=1),y_train_single.sample(100000,seed=1))\n",
    "preds=full_pipeline_single.predict(X_val_single)\n",
    "print(f1_score(y_val_single,preds,average='macro'))"
   ]
  },
  {
   "cell_type": "markdown",
   "metadata": {},
   "source": [
    "### Search space"
   ]
  },
  {
   "cell_type": "code",
   "execution_count": 15,
   "metadata": {},
   "outputs": [],
   "source": [
    "models = tunes.Models()\n",
    "search_space_lgbm = {\n",
    "    \"preprocess__feature_dropper__feats_to_drop\": cols_to_drop_space[tune.randint(0,11)],\n",
    "    \"model__num_leaves\": tune.randint(10, 251),\n",
    "    \"model__n_estimators\": tune.randint(10, 251),\n",
    "    \"model__learning_rate\": tune.loguniform(0.001, 0.1),\n",
    "    \"model__bagging_freq\": tune.randint(0, 11),\n",
    "    \"model__colsample_bytree\": tune.uniform(0.2, 1.0),\n",
    "    \"model__subsample\": tune.uniform(0.2, 1.0),\n",
    "    \"model__reg_alpha\": tune.loguniform(0.001, 100),\n",
    "    \"model__reg_lambda\": tune.loguniform(0.001, 100),\n",
    "    \"model__boosting_type\": tune.choice([\"gbdt\", \"dart\", \"rf\"]),\n",
    "    \"model__class_weight\": tune.choice([\"balanced\", None]),\n",
    "    \"model__max_bin\": tune.randint(5, 201),\n",
    "}\n",
    "\n",
    "models.add_model(\"lgbm_grade_single\", full_pipeline_single, search_space_lgbm, metric_threshold=0.5)"
   ]
  },
  {
   "cell_type": "markdown",
   "metadata": {},
   "source": [
    "### Tree"
   ]
  },
  {
   "cell_type": "code",
   "execution_count": 16,
   "metadata": {},
   "outputs": [],
   "source": [
    "preprocess_single_dtree = copy.deepcopy(preprocess_single)\n",
    "model_single_dtree = DecisionTreeClassifier(random_state=1)\n",
    "full_pipeline_single_dtree = Pipeline(\n",
    "    [(\"preprocess\", preprocess_single_dtree), (\"model\", model_single_dtree)]\n",
    ")\n",
    "\n",
    "search_space_tree = {\n",
    "    \"preprocess__feature_dropper__feats_to_drop\": tune.choice(cols_to_drop_space),\n",
    "    \"model__criterion\": tune.choice([\"gini\", \"entropy\"]),\n",
    "    \"model__splitter\": tune.choice([\"best\", \"random\"]),\n",
    "    \"model__max_depth\": tune.randint(3, 50),\n",
    "    \"model__max_features\": tune.choice([\"sqrt\", \"log2\", None]),\n",
    "    \"model__class_weight\": tune.choice([\"balanced\", None]),\n",
    "}\n",
    "\n",
    "models.add_model(\n",
    "    \"tree_grade_single\", full_pipeline_single_dtree, search_space_tree, metric_threshold=0.4\n",
    ")"
   ]
  },
  {
   "cell_type": "code",
   "execution_count": 17,
   "metadata": {},
   "outputs": [
    {
     "data": {
      "text/html": [
       "<div class=\"tuneStatus\">\n",
       "  <div style=\"display: flex;flex-direction: row\">\n",
       "    <div style=\"display: flex;flex-direction: column;\">\n",
       "      <h3>Tune Status</h3>\n",
       "      <table>\n",
       "<tbody>\n",
       "<tr><td>Current time:</td><td>2023-10-13 11:22:36</td></tr>\n",
       "<tr><td>Running for: </td><td>00:00:55.70        </td></tr>\n",
       "<tr><td>Memory:      </td><td>11.6/31.2 GiB      </td></tr>\n",
       "</tbody>\n",
       "</table>\n",
       "    </div>\n",
       "    <div class=\"vDivider\"></div>\n",
       "    <div class=\"systemInfo\">\n",
       "      <h3>System Info</h3>\n",
       "      Using FIFO scheduling algorithm.<br>Logical resource usage: 1.0/12 CPUs, 0/1 GPUs (0.0/1.0 accelerator_type:G)\n",
       "    </div>\n",
       "    \n",
       "  </div>\n",
       "  <div class=\"hDivider\"></div>\n",
       "  <div class=\"trialStatus\">\n",
       "    <h3>Trial Status</h3>\n",
       "    <table>\n",
       "<thead>\n",
       "<tr><th>Trial name        </th><th>status    </th><th>loc                </th><th>model__class_weight  </th><th>model__criterion  </th><th style=\"text-align: right;\">  model__max_depth</th><th>model__max_features  </th><th>model__splitter  </th><th>...ocess__feature_dr\n",
       "opper__feats_to_drop                     </th><th style=\"text-align: right;\">  iter</th><th style=\"text-align: right;\">  total time (s)</th><th style=\"text-align: right;\">   score</th></tr>\n",
       "</thead>\n",
       "<tbody>\n",
       "<tr><td>Trainable_21dd405f</td><td>TERMINATED</td><td>192.168.0.103:28622</td><td>balanced             </td><td>gini              </td><td style=\"text-align: right;\">                 6</td><td>sqrt                 </td><td>random           </td><td>[&#x27;home_ownershi_e600</td><td style=\"text-align: right;\">     3</td><td style=\"text-align: right;\">        0.270198</td><td style=\"text-align: right;\">0.183297</td></tr>\n",
       "<tr><td>Trainable_a00bd435</td><td>TERMINATED</td><td>192.168.0.103:28667</td><td>                     </td><td>entropy           </td><td style=\"text-align: right;\">                36</td><td>                     </td><td>best             </td><td>[&#x27;home_ownershi_6200</td><td style=\"text-align: right;\">     3</td><td style=\"text-align: right;\">        3.86019 </td><td style=\"text-align: right;\">0.314738</td></tr>\n",
       "<tr><td>Trainable_9564c3d0</td><td>TERMINATED</td><td>192.168.0.103:28714</td><td>                     </td><td>gini              </td><td style=\"text-align: right;\">                 4</td><td>                     </td><td>best             </td><td>[&#x27;delinq_2yrs&#x27;,_2840</td><td style=\"text-align: right;\">     3</td><td style=\"text-align: right;\">        0.980555</td><td style=\"text-align: right;\">0.241575</td></tr>\n",
       "<tr><td>Trainable_e0a3522f</td><td>TERMINATED</td><td>192.168.0.103:28760</td><td>balanced             </td><td>entropy           </td><td style=\"text-align: right;\">                43</td><td>log2                 </td><td>random           </td><td>[&#x27;home_ownershi_f5c0</td><td style=\"text-align: right;\">     3</td><td style=\"text-align: right;\">        0.352358</td><td style=\"text-align: right;\">0.249156</td></tr>\n",
       "<tr><td>Trainable_55845282</td><td>TERMINATED</td><td>192.168.0.103:28806</td><td>balanced             </td><td>gini              </td><td style=\"text-align: right;\">                45</td><td>sqrt                 </td><td>best             </td><td>[&#x27;home_ownershi_9180</td><td style=\"text-align: right;\">     3</td><td style=\"text-align: right;\">        0.669929</td><td style=\"text-align: right;\">0.23851 </td></tr>\n",
       "</tbody>\n",
       "</table>\n",
       "  </div>\n",
       "</div>\n",
       "<style>\n",
       ".tuneStatus {\n",
       "  color: var(--jp-ui-font-color1);\n",
       "}\n",
       ".tuneStatus .systemInfo {\n",
       "  display: flex;\n",
       "  flex-direction: column;\n",
       "}\n",
       ".tuneStatus td {\n",
       "  white-space: nowrap;\n",
       "}\n",
       ".tuneStatus .trialStatus {\n",
       "  display: flex;\n",
       "  flex-direction: column;\n",
       "}\n",
       ".tuneStatus h3 {\n",
       "  font-weight: bold;\n",
       "}\n",
       ".tuneStatus .hDivider {\n",
       "  border-bottom-width: var(--jp-border-width);\n",
       "  border-bottom-color: var(--jp-border-color0);\n",
       "  border-bottom-style: solid;\n",
       "}\n",
       ".tuneStatus .vDivider {\n",
       "  border-left-width: var(--jp-border-width);\n",
       "  border-left-color: var(--jp-border-color0);\n",
       "  border-left-style: solid;\n",
       "  margin: 0.5em 1em 0.5em 1em;\n",
       "}\n",
       "</style>\n"
      ],
      "text/plain": [
       "<IPython.core.display.HTML object>"
      ]
     },
     "metadata": {},
     "output_type": "display_data"
    },
    {
     "name": "stdout",
     "output_type": "stream",
     "text": [
      "\u001b[2m\u001b[36m(Trainable pid=28622)\u001b[0m Step 0 F-1 Score: 0.16244483570373736\n",
      "\u001b[2m\u001b[36m(Trainable pid=28622)\u001b[0m Step 1 F-1 Score: 0.20362034610590943\n",
      "\u001b[2m\u001b[36m(Trainable pid=28622)\u001b[0m Step 2 F-1 Score: 0.18329671339788547\n",
      "\u001b[2m\u001b[36m(Trainable pid=28667)\u001b[0m Step 0 F-1 Score: 0.35099852157868444\n",
      "\u001b[2m\u001b[36m(Trainable pid=28667)\u001b[0m Step 1 F-1 Score: 0.32033128446335735\n",
      "\u001b[2m\u001b[36m(Trainable pid=28667)\u001b[0m Step 2 F-1 Score: 0.3147377231391804\n",
      "\u001b[2m\u001b[36m(Trainable pid=28714)\u001b[0m Step 0 F-1 Score: 0.26116241088473663\n",
      "\u001b[2m\u001b[36m(Trainable pid=28714)\u001b[0m Step 1 F-1 Score: 0.23121384143221313\n",
      "\u001b[2m\u001b[36m(Trainable pid=28714)\u001b[0m Step 2 F-1 Score: 0.24157517227029382\n",
      "\u001b[2m\u001b[36m(Trainable pid=28760)\u001b[0m Step 0 F-1 Score: 0.2298366496195717\n",
      "\u001b[2m\u001b[36m(Trainable pid=28760)\u001b[0m Step 1 F-1 Score: 0.22064814187233414\n",
      "\u001b[2m\u001b[36m(Trainable pid=28760)\u001b[0m Step 2 F-1 Score: 0.24915606705770948\n",
      "\u001b[2m\u001b[36m(Trainable pid=28806)\u001b[0m Step 0 F-1 Score: 0.24438311688305805\n",
      "\u001b[2m\u001b[36m(Trainable pid=28806)\u001b[0m Step 1 F-1 Score: 0.24921692596904163\n"
     ]
    },
    {
     "name": "stderr",
     "output_type": "stream",
     "text": [
      "2023-10-13 11:22:36,590\tINFO tune.py:1143 -- Total run time: 55.70 seconds (55.67 seconds for the tuning loop).\n"
     ]
    },
    {
     "name": "stdout",
     "output_type": "stream",
     "text": [
      "tree_grade_single tuned.\n"
     ]
    },
    {
     "name": "stdout",
     "output_type": "stream",
     "text": [
      "\u001b[2m\u001b[36m(Trainable pid=28806)\u001b[0m Step 2 F-1 Score: 0.23850991309517938\n"
     ]
    }
   ],
   "source": [
    "models.tune_all(X_train_single,y_train_single,X_val_single,y_val_single,n=5,sample_size=25000,average='macro')"
   ]
  },
  {
   "cell_type": "code",
   "execution_count": 35,
   "metadata": {},
   "outputs": [
    {
     "data": {
      "text/plain": [
       "62"
      ]
     },
     "execution_count": 35,
     "metadata": {},
     "output_type": "execute_result"
    }
   ],
   "source": [
    "len(bestp['preprocess__feature_dropper__feats_to_drop'])"
   ]
  },
  {
   "cell_type": "code",
   "execution_count": 34,
   "metadata": {},
   "outputs": [
    {
     "data": {
      "text/plain": [
       "{'preprocess__feature_dropper__feats_to_drop': ['home_ownership',\n",
       "  'verification_status',\n",
       "  'addr_state',\n",
       "  'delinq_2yrs',\n",
       "  'fico_range_high',\n",
       "  'mths_since_last_delinq',\n",
       "  'mths_since_last_record',\n",
       "  'open_acc',\n",
       "  'pub_rec',\n",
       "  'last_fico_range_low',\n",
       "  'mths_since_last_major_derog',\n",
       "  'acc_now_delinq',\n",
       "  'tot_cur_bal',\n",
       "  'open_acc_6m',\n",
       "  'open_act_il',\n",
       "  'open_il_12m',\n",
       "  'open_il_24m',\n",
       "  'mths_since_rcnt_il',\n",
       "  'total_bal_il',\n",
       "  'il_util',\n",
       "  'open_rv_12m',\n",
       "  'open_rv_24m',\n",
       "  'all_util',\n",
       "  'inq_fi',\n",
       "  'total_cu_tl',\n",
       "  'inq_last_12m',\n",
       "  'avg_cur_bal',\n",
       "  'chargeoff_within_12_mths',\n",
       "  'delinq_amnt',\n",
       "  'mo_sin_rcnt_rev_tl_op',\n",
       "  'mo_sin_rcnt_tl',\n",
       "  'mort_acc',\n",
       "  'mths_since_recent_bc_dlq',\n",
       "  'mths_since_recent_inq',\n",
       "  'mths_since_recent_revol_delinq',\n",
       "  'num_accts_ever_120_pd',\n",
       "  'num_actv_bc_tl',\n",
       "  'num_actv_rev_tl',\n",
       "  'num_bc_sats',\n",
       "  'num_bc_tl',\n",
       "  'num_il_tl',\n",
       "  'num_op_rev_tl',\n",
       "  'num_rev_accts',\n",
       "  'num_rev_tl_bal_gt_0',\n",
       "  'num_sats',\n",
       "  'num_tl_120dpd_2m',\n",
       "  'num_tl_30dpd',\n",
       "  'num_tl_90g_dpd_24m',\n",
       "  'pct_tl_nvr_dlq',\n",
       "  'percent_bc_gt_75',\n",
       "  'pub_rec_bankruptcies',\n",
       "  'tax_liens',\n",
       "  'total_bal_ex_mort',\n",
       "  'total_il_high_credit_limit',\n",
       "  'month_sin',\n",
       "  'month_cos',\n",
       "  'emp_title',\n",
       "  'emp_length',\n",
       "  'zip_code',\n",
       "  'pymnt_plan_n',\n",
       "  'initial_list_status_f',\n",
       "  'disbursement_method_Cash'],\n",
       " 'model__num_leaves': 110,\n",
       " 'model__n_estimators': 220,\n",
       " 'model__learning_rate': 0.06172311800358904,\n",
       " 'model__bagging_freq': 4,\n",
       " 'model__colsample_bytree': 0.4639805678620486,\n",
       " 'model__subsample': 0.970587300466074,\n",
       " 'model__reg_alpha': 0.1166155820634464,\n",
       " 'model__reg_lambda': 0.49993526622521606,\n",
       " 'model__boosting_type': 'gbdt',\n",
       " 'model__class_weight': 'balanced',\n",
       " 'model__max_bin': 192}"
      ]
     },
     "execution_count": 34,
     "metadata": {},
     "output_type": "execute_result"
    }
   ],
   "source": [
    "bestp"
   ]
  },
  {
   "cell_type": "markdown",
   "metadata": {},
   "source": [
    "## Joint Applications."
   ]
  },
  {
   "cell_type": "code",
   "execution_count": null,
   "metadata": {},
   "outputs": [],
   "source": []
  }
 ],
 "metadata": {
  "kernelspec": {
   "display_name": "base",
   "language": "python",
   "name": "python3"
  },
  "language_info": {
   "codemirror_mode": {
    "name": "ipython",
    "version": 3
   },
   "file_extension": ".py",
   "mimetype": "text/x-python",
   "name": "python",
   "nbconvert_exporter": "python",
   "pygments_lexer": "ipython3",
   "version": "3.9.13"
  }
 },
 "nbformat": 4,
 "nbformat_minor": 2
}
