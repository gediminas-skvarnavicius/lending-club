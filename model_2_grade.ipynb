{
 "cells": [
  {
   "cell_type": "code",
   "execution_count": 1,
   "metadata": {},
   "outputs": [],
   "source": [
    "%reload_ext autoreload\n",
    "%autoreload 1\n",
    "import joblib\n",
    "from ray import tune, train\n",
    "import copy\n",
    "import shap\n",
    "import matplotlib.pyplot as plt\n",
    "import polars as pl\n",
    "import sys\n",
    "import numpy as np\n",
    "from sklearn.model_selection import train_test_split\n",
    "import functions.transformers as tr\n",
    "from functions.transformers import PolarsColumnTransformer as PCT\n",
    "import functions.data_cleaning as dmf\n",
    "import functions.plot_functions as pf\n",
    "import functions.tuning as tunes\n",
    "import functions.feature_engineering as feats\n",
    "import seaborn as sns\n",
    "from sklearn.pipeline import Pipeline\n",
    "from sklearn.metrics import classification_report,f1_score\n",
    "from sklearn.preprocessing import LabelEncoder\n",
    "from sklearn.preprocessing import OneHotEncoder\n",
    "from sklearn.tree import DecisionTreeClassifier\n",
    "from sklearn.linear_model import LogisticRegression\n",
    "from IPython.display import display,Markdown\n",
    "import lightgbm as lgb\n",
    "%aimport functions.tuning\n",
    "%aimport functions.transformers\n",
    "%aimport functions.data_cleaning\n",
    "%aimport functions.plot_functions\n",
    "%aimport functions.feature_engineering"
   ]
  },
  {
   "cell_type": "code",
   "execution_count": 2,
   "metadata": {},
   "outputs": [],
   "source": [
    "data_train_single=pl.read_parquet('data/data_accepted_single_train.parquet')\n",
    "data_val_single=pl.read_parquet('data/data_accepted_single_val.parquet')\n",
    "data_train_joint=pl.read_parquet('data/data_accepted_joint_train.parquet')\n",
    "data_val_joint=pl.read_parquet('data/data_accepted_joint_val.parquet')"
   ]
  },
  {
   "cell_type": "code",
   "execution_count": 3,
   "metadata": {},
   "outputs": [],
   "source": [
    "data_train_single=dmf.clean_accepted_single(data_train_single)\n",
    "data_val_single=dmf.clean_accepted_single(data_val_single)\n",
    "data_train_joint=dmf.clean_accepted_joint(data_train_joint)\n",
    "data_val_joint=dmf.clean_accepted_joint(data_val_joint)"
   ]
  },
  {
   "cell_type": "markdown",
   "metadata": {},
   "source": [
    "##### Dropping Features:"
   ]
  },
  {
   "cell_type": "code",
   "execution_count": 4,
   "metadata": {},
   "outputs": [],
   "source": [
    "data_train_single=dmf.remove_poor_features_single(data_train_single)\n",
    "data_val_single=dmf.remove_poor_features_single(data_val_single)\n",
    "data_train_joint=dmf.remove_poor_features_joint(data_train_joint)\n",
    "data_val_joint=dmf.remove_poor_features_joint(data_val_joint)"
   ]
  },
  {
   "cell_type": "markdown",
   "metadata": {},
   "source": [
    "### Feature Engineering"
   ]
  },
  {
   "cell_type": "code",
   "execution_count": 5,
   "metadata": {},
   "outputs": [],
   "source": [
    "data_train_single=feats.date_features(data_train_single,'issue_d')\n",
    "data_val_single=feats.date_features(data_val_single,'issue_d')\n",
    "data_train_joint=feats.date_features_joint(data_train_joint,'issue_d')\n",
    "data_val_joint=feats.date_features_joint(data_val_joint,'issue_d')"
   ]
  },
  {
   "cell_type": "code",
   "execution_count": 6,
   "metadata": {},
   "outputs": [],
   "source": [
    "data_train_single=dmf.label_target_grades(data_train_single,)\n",
    "data_val_single=dmf.label_target_grades(data_val_single,)\n",
    "data_train_joint=dmf.label_target_grades(data_train_joint,)\n",
    "data_val_joint=dmf.label_target_grades(data_val_joint,)"
   ]
  },
  {
   "cell_type": "code",
   "execution_count": 7,
   "metadata": {},
   "outputs": [],
   "source": [
    "X_train_single=data_train_single.drop(columns=['grade','sub_grade','int_rate','issue_d'])\n",
    "y_train_single=data_train_single['grade']\n",
    "\n",
    "X_val_single=data_val_single.drop(columns=['grade','sub_grade','int_rate','issue_d'])\n",
    "y_val_single=data_val_single['grade']\n",
    "\n",
    "X_train_joint=data_train_joint.drop(columns=['grade','sub_grade','int_rate','issue_d'])\n",
    "y_train_joint=data_train_joint['grade']\n",
    "\n",
    "X_val_joint=data_val_joint.drop(columns=['grade','sub_grade','int_rate','issue_d'])\n",
    "y_val_joint=data_val_joint['grade']\n"
   ]
  },
  {
   "cell_type": "markdown",
   "metadata": {},
   "source": [
    "#### Imputers"
   ]
  },
  {
   "cell_type": "code",
   "execution_count": 8,
   "metadata": {},
   "outputs": [],
   "source": [
    "preprocess_single=Pipeline([])"
   ]
  },
  {
   "cell_type": "code",
   "execution_count": 9,
   "metadata": {},
   "outputs": [],
   "source": [
    "emp_title_imp = tr.NotInImputerPolars(cat_no=20, fill_value=\"other\")\n",
    "emp_length_imp = tr.NotInImputerPolars(cat_no=12, fill_value=None)\n",
    "zip_imp = tr.NotInImputerPolars(cat_no=12, fill_value='other')\n",
    "imputers = PCT(\n",
    "    [\n",
    "        PCT.Step(\"emp_title\", emp_title_imp, \"emp_title\"),\n",
    "        PCT.Step(\"emp_length\", emp_length_imp, \"emp_length\"),\n",
    "        PCT.Step(\"zip_code\", zip_imp,'zip_code')\n",
    "    ]\n",
    ")\n",
    "preprocess_single.steps.append((\"imputers\",imputers))"
   ]
  },
  {
   "cell_type": "markdown",
   "metadata": {},
   "source": [
    "### Encoders"
   ]
  },
  {
   "cell_type": "code",
   "execution_count": 10,
   "metadata": {},
   "outputs": [],
   "source": [
    "emp_t_enc = tr.TargetMeanOrderedLabeler(how=\"label\")\n",
    "emp_l_order = [\n",
    "    None,\n",
    "    \"< 1 year\",\n",
    "    \"1 year\",\n",
    "    \"2 years\",\n",
    "    \"3 years\",\n",
    "    \"4 years\",\n",
    "    \"5 years\",\n",
    "    \"6 years\",\n",
    "    \"7 years\",\n",
    "    \"8 years\",\n",
    "    \"9 years\",\n",
    "    \"10+ years\",\n",
    "]\n",
    "emp_l_enc = tr.PolarsOrdinalEncoder(order=emp_l_order)\n",
    "home_enc = tr.TargetMeanOrderedLabeler(how=\"label\")\n",
    "verif_enc = tr.TargetMeanOrderedLabeler(how=\"label\")\n",
    "paymnt_enc = tr.PolarsOneHotEncoder(drop=True)\n",
    "purpose_enc = tr.TargetMeanOrderedLabeler(how=\"label\")\n",
    "zip_enc = tr.TargetMeanOrderedLabeler(how=\"label\")\n",
    "state_enc = tr.TargetMeanOrderedLabeler(how=\"label\")\n",
    "init_stat_enc = tr.PolarsOneHotEncoder(drop=True)\n",
    "disbursement_enc = tr.PolarsOneHotEncoder(drop=True)\n",
    "year_enc = tr.TargetMeanOrderedLabeler(how=\"last_mean\")\n",
    "\n",
    "encoders = PCT(\n",
    "    [\n",
    "        PCT.Step(\"emp_t_enc\", emp_t_enc, \"emp_title\"),\n",
    "        PCT.Step(\"emp_l_enc\", emp_l_enc, \"emp_length\"),\n",
    "        PCT.Step(\"home_enc\", home_enc, \"home_ownership\"),\n",
    "        PCT.Step(\"verif_enc\", verif_enc, \"verification_status\"),\n",
    "        PCT.Step(\"paymnt_enc\", paymnt_enc, \"pymnt_plan\"),\n",
    "        PCT.Step(\"purpose_enc\", purpose_enc, \"purpose\"),\n",
    "        PCT.Step(\"zip_enc\", zip_enc, \"zip_code\"),\n",
    "        PCT.Step(\"state_enc\", state_enc, \"addr_state\"),\n",
    "        PCT.Step(\"init_stat_enc\", init_stat_enc, \"initial_list_status\"),\n",
    "        PCT.Step(\"disbursement_enc\", disbursement_enc, \"disbursement_method\"),\n",
    "        PCT.Step(\"year_enc\", year_enc, \"year\")\n",
    "    ]\n",
    ")\n",
    "\n",
    "preprocess_single.steps.append((\"encoders\",encoders))\n",
    "null_imp = tr.PolarsNullImputer(fill_value=-9)\n",
    "preprocess_single.steps.append((\"null_imputer\",null_imp))"
   ]
  },
  {
   "cell_type": "code",
   "execution_count": 11,
   "metadata": {},
   "outputs": [],
   "source": [
    "model_single_lgbm = lgb.LGBMClassifier(\n",
    "    objective=\"multiclass\",\n",
    "    class_weight=\"balanced\",\n",
    "    verbose=-1,\n",
    "    force_col_wise=True,\n",
    "    random_state=1,\n",
    "    num_threads=6\n",
    ")"
   ]
  },
  {
   "cell_type": "markdown",
   "metadata": {},
   "source": [
    "##### Getting lists of selected features based on boruta algorithm with different strictness:"
   ]
  },
  {
   "cell_type": "markdown",
   "metadata": {},
   "source": [
    "```python\n",
    "original_columns = preprocess_single.fit_transform(\n",
    "    X_train_single.sample(10000, seed=1), y_train_single.sample(10000, seed=1)\n",
    ").columns\n",
    "\n",
    "boruta_selected_cols = {}\n",
    "\n",
    "transformed_sample_X = preprocess_single.fit_transform(\n",
    "    X_train_single.sample(50000, seed=1), y_train_single.sample(50000, seed=1)\n",
    ")\n",
    "transformed_sample_y = y_train_single.sample(50000, seed=1)\n",
    "for perc in np.arange(stop=101, start=10, step=10):\n",
    "    boruta = tr.BorutaFeatureSelectorPolars(\n",
    "        model_single_lgbm, random_state=1, perc=perc\n",
    "    )\n",
    "\n",
    "    boruta.fit(\n",
    "        transformed_sample_X,\n",
    "        transformed_sample_y,\n",
    "    )\n",
    "    boruta_selected_cols[perc] = boruta.transform(\n",
    "        preprocess_single.fit_transform(\n",
    "            X_train_single.sample(10000, seed=1), y_train_single.sample(10000, seed=1)\n",
    "        )\n",
    "    ).columns\n",
    "    print(f\"{perc} calculated\")\n",
    "\n",
    "# Setting the number of threads to 1 to avoid parallelization clash with ray tune.\n",
    "model_single_lgbm = lgb.LGBMClassifier(\n",
    "    objective=\"multiclass\",\n",
    "    class_weight=\"balanced\",\n",
    "    verbose=-1,\n",
    "    force_col_wise=True,\n",
    "    random_state=1,\n",
    "    num_threads=1,\n",
    ")\n",
    "```"
   ]
  },
  {
   "cell_type": "markdown",
   "metadata": {},
   "source": [
    "```python\n",
    "cols_to_drop_space=[]\n",
    "for key, columns in boruta_selected_cols.items():\n",
    "    cols_to_drop_space.append([col for col in original_columns if col not in columns])\n",
    "cols_to_drop_space.insert(0,[])\n",
    "joblib.dump(cols_to_drop_space,'temp/cols_to_drop.joblib')\n",
    "```\n"
   ]
  },
  {
   "cell_type": "code",
   "execution_count": 12,
   "metadata": {},
   "outputs": [],
   "source": [
    "cols_to_drop_space=joblib.load('temp/cols_to_drop.joblib')"
   ]
  },
  {
   "cell_type": "markdown",
   "metadata": {},
   "source": [
    "##### Dropper"
   ]
  },
  {
   "cell_type": "code",
   "execution_count": 13,
   "metadata": {},
   "outputs": [],
   "source": [
    "feature_dropper = tr.FeatureRemover([])\n",
    "preprocess_single.steps.append(('feature_dropper',feature_dropper))\n",
    "full_pipeline_single = Pipeline(\n",
    "    [(\"preprocess\", preprocess_single), (\"model\", model_single_lgbm)]\n",
    ")"
   ]
  },
  {
   "cell_type": "markdown",
   "metadata": {},
   "source": [
    "##### Baseline for tuning:"
   ]
  },
  {
   "cell_type": "code",
   "execution_count": 14,
   "metadata": {},
   "outputs": [
    {
     "name": "stdout",
     "output_type": "stream",
     "text": [
      "0.3314675878224738\n"
     ]
    }
   ],
   "source": [
    "full_pipeline_single.fit(X_train_single.sample(100000,seed=1),y_train_single.sample(100000,seed=1))\n",
    "preds=full_pipeline_single.predict(X_val_single)\n",
    "print(f1_score(y_val_single,preds,average='macro'))"
   ]
  },
  {
   "cell_type": "markdown",
   "metadata": {},
   "source": [
    "### Search space"
   ]
  },
  {
   "cell_type": "code",
   "execution_count": 15,
   "metadata": {},
   "outputs": [],
   "source": [
    "models = tunes.Models()\n",
    "search_space_lgbm = {\n",
    "    \"preprocess__feature_dropper__feats_to_drop\": tune.choice(cols_to_drop_space),\n",
    "    \"model__num_leaves\": tune.randint(10, 1025),\n",
    "    \"model__n_estimators\": tune.randint(10, 251),\n",
    "    \"model__learning_rate\": tune.loguniform(0.001, 0.1),\n",
    "    \"model__bagging_freq\": tune.randint(0, 11),\n",
    "    \"model__colsample_bytree\": tune.uniform(0.2, 1.0),\n",
    "    \"model__subsample\": tune.uniform(0.2, 1.0),\n",
    "    \"model__reg_alpha\": tune.loguniform(0.001, 100),\n",
    "    \"model__reg_lambda\": tune.loguniform(0.001, 100),\n",
    "    \"model__boosting_type\": tune.choice([\"gbdt\", \"dart\", \"rf\"]),\n",
    "    \"model__class_weight\": tune.choice([\"balanced\", None]),\n",
    "    \"model__max_bin\": tune.randint(5, 201),\n",
    "}\n",
    "\n",
    "models.add_model(\"lgbm_grade_single\", full_pipeline_single, search_space_lgbm, metric_threshold=0.35)"
   ]
  },
  {
   "cell_type": "markdown",
   "metadata": {},
   "source": [
    "### Tree"
   ]
  },
  {
   "cell_type": "code",
   "execution_count": 16,
   "metadata": {},
   "outputs": [],
   "source": [
    "preprocess_single_dtree = copy.deepcopy(preprocess_single)\n",
    "model_single_dtree = DecisionTreeClassifier(random_state=1)\n",
    "full_pipeline_single_dtree = Pipeline(\n",
    "    [(\"preprocess\", preprocess_single_dtree), (\"model\", model_single_dtree)]\n",
    ")\n",
    "\n",
    "search_space_tree = {\n",
    "    \"preprocess__feature_dropper__feats_to_drop\": tune.choice(cols_to_drop_space),\n",
    "    \"model__criterion\": tune.choice([\"gini\", \"entropy\"]),\n",
    "    \"model__splitter\": tune.choice([\"best\", \"random\"]),\n",
    "    \"model__max_depth\": tune.randint(3, 50),\n",
    "    \"model__max_features\": tune.choice([\"sqrt\", \"log2\", None]),\n",
    "    \"model__class_weight\": tune.choice([\"balanced\", None]),\n",
    "}\n",
    "\n",
    "models.add_model(\n",
    "    \"tree_grade_single\", full_pipeline_single_dtree, search_space_tree, metric_threshold=0.3,override_n=120\n",
    ")"
   ]
  },
  {
   "cell_type": "markdown",
   "metadata": {},
   "source": [
    "```python\n",
    "models.tune_all(\n",
    "    X_train_single,\n",
    "    y_train_single,\n",
    "    X_val_single,\n",
    "    y_val_single,\n",
    "    n=240,\n",
    "    sample_size=25000,\n",
    "    average=\"macro\",\n",
    ")\n",
    "joblib.dump(models, \"temp/tuned_grade_models.joblib\")\n",
    "```"
   ]
  },
  {
   "cell_type": "code",
   "execution_count": 17,
   "metadata": {},
   "outputs": [],
   "source": [
    "models=joblib.load('temp/tuned_grade_models.joblib')"
   ]
  },
  {
   "cell_type": "code",
   "execution_count": 18,
   "metadata": {},
   "outputs": [
    {
     "name": "stdout",
     "output_type": "stream",
     "text": [
      "'lgbm_grade_single'\n",
      "{'model__bagging_freq': 5,\n",
      " 'model__boosting_type': 'gbdt',\n",
      " 'model__class_weight': 'balanced',\n",
      " 'model__colsample_bytree': 0.8104455867113739,\n",
      " 'model__learning_rate': 0.029016364371331177,\n",
      " 'model__max_bin': 21,\n",
      " 'model__n_estimators': 94,\n",
      " 'model__num_leaves': 257,\n",
      " 'model__reg_alpha': 0.09372004044030545,\n",
      " 'model__reg_lambda': 1.0859668506115152,\n",
      " 'model__subsample': 0.9810518830725536,\n",
      " 'preprocess__feature_dropper__feats_to_drop': ['home_ownership',\n",
      "                                                'addr_state',\n",
      "                                                'delinq_2yrs',\n",
      "                                                'fico_range_high',\n",
      "                                                'mths_since_last_delinq',\n",
      "                                                'mths_since_last_record',\n",
      "                                                'open_acc',\n",
      "                                                'pub_rec',\n",
      "                                                'last_fico_range_low',\n",
      "                                                'mths_since_last_major_derog',\n",
      "                                                'acc_now_delinq',\n",
      "                                                'open_acc_6m',\n",
      "                                                'open_act_il',\n",
      "                                                'open_il_12m',\n",
      "                                                'open_il_24m',\n",
      "                                                'mths_since_rcnt_il',\n",
      "                                                'total_bal_il',\n",
      "                                                'il_util',\n",
      "                                                'open_rv_12m',\n",
      "                                                'open_rv_24m',\n",
      "                                                'max_bal_bc',\n",
      "                                                'all_util',\n",
      "                                                'inq_fi',\n",
      "                                                'total_cu_tl',\n",
      "                                                'inq_last_12m',\n",
      "                                                'chargeoff_within_12_mths',\n",
      "                                                'delinq_amnt',\n",
      "                                                'mo_sin_rcnt_rev_tl_op',\n",
      "                                                'mort_acc',\n",
      "                                                'mths_since_recent_bc_dlq',\n",
      "                                                'mths_since_recent_inq',\n",
      "                                                'mths_since_recent_revol_delinq',\n",
      "                                                'num_accts_ever_120_pd',\n",
      "                                                'num_actv_bc_tl',\n",
      "                                                'num_actv_rev_tl',\n",
      "                                                'num_bc_sats',\n",
      "                                                'num_bc_tl',\n",
      "                                                'num_il_tl',\n",
      "                                                'num_op_rev_tl',\n",
      "                                                'num_rev_accts',\n",
      "                                                'num_rev_tl_bal_gt_0',\n",
      "                                                'num_sats',\n",
      "                                                'num_tl_120dpd_2m',\n",
      "                                                'num_tl_30dpd',\n",
      "                                                'num_tl_90g_dpd_24m',\n",
      "                                                'pct_tl_nvr_dlq',\n",
      "                                                'percent_bc_gt_75',\n",
      "                                                'pub_rec_bankruptcies',\n",
      "                                                'tax_liens',\n",
      "                                                'total_il_high_credit_limit',\n",
      "                                                'month_sin',\n",
      "                                                'month_cos',\n",
      "                                                'emp_title',\n",
      "                                                'emp_length',\n",
      "                                                'zip_code',\n",
      "                                                'pymnt_plan_n',\n",
      "                                                'disbursement_method_Cash']}\n",
      "'tree_grade_single'\n",
      "{'model__class_weight': None,\n",
      " 'model__criterion': 'gini',\n",
      " 'model__max_depth': 14,\n",
      " 'model__max_features': None,\n",
      " 'model__splitter': 'random',\n",
      " 'preprocess__feature_dropper__feats_to_drop': ['home_ownership',\n",
      "                                                'verification_status',\n",
      "                                                'addr_state',\n",
      "                                                'delinq_2yrs',\n",
      "                                                'earliest_cr_line',\n",
      "                                                'fico_range_high',\n",
      "                                                'mths_since_last_delinq',\n",
      "                                                'mths_since_last_record',\n",
      "                                                'open_acc',\n",
      "                                                'pub_rec',\n",
      "                                                'revol_bal',\n",
      "                                                'last_fico_range_low',\n",
      "                                                'mths_since_last_major_derog',\n",
      "                                                'acc_now_delinq',\n",
      "                                                'open_acc_6m',\n",
      "                                                'open_act_il',\n",
      "                                                'open_il_12m',\n",
      "                                                'open_il_24m',\n",
      "                                                'mths_since_rcnt_il',\n",
      "                                                'total_bal_il',\n",
      "                                                'il_util',\n",
      "                                                'open_rv_12m',\n",
      "                                                'open_rv_24m',\n",
      "                                                'max_bal_bc',\n",
      "                                                'all_util',\n",
      "                                                'inq_fi',\n",
      "                                                'total_cu_tl',\n",
      "                                                'inq_last_12m',\n",
      "                                                'acc_open_past_24mths',\n",
      "                                                'avg_cur_bal',\n",
      "                                                'chargeoff_within_12_mths',\n",
      "                                                'delinq_amnt',\n",
      "                                                'mo_sin_rcnt_rev_tl_op',\n",
      "                                                'mo_sin_rcnt_tl',\n",
      "                                                'mort_acc',\n",
      "                                                'mths_since_recent_bc_dlq',\n",
      "                                                'mths_since_recent_inq',\n",
      "                                                'mths_since_recent_revol_delinq',\n",
      "                                                'num_accts_ever_120_pd',\n",
      "                                                'num_actv_bc_tl',\n",
      "                                                'num_actv_rev_tl',\n",
      "                                                'num_bc_sats',\n",
      "                                                'num_bc_tl',\n",
      "                                                'num_il_tl',\n",
      "                                                'num_op_rev_tl',\n",
      "                                                'num_rev_accts',\n",
      "                                                'num_rev_tl_bal_gt_0',\n",
      "                                                'num_sats',\n",
      "                                                'num_tl_120dpd_2m',\n",
      "                                                'num_tl_30dpd',\n",
      "                                                'num_tl_90g_dpd_24m',\n",
      "                                                'pct_tl_nvr_dlq',\n",
      "                                                'percent_bc_gt_75',\n",
      "                                                'pub_rec_bankruptcies',\n",
      "                                                'tax_liens',\n",
      "                                                'total_il_high_credit_limit',\n",
      "                                                'month_sin',\n",
      "                                                'month_cos',\n",
      "                                                'emp_title',\n",
      "                                                'emp_length',\n",
      "                                                'zip_code',\n",
      "                                                'pymnt_plan_n',\n",
      "                                                'initial_list_status_f',\n",
      "                                                'disbursement_method_Cash']}\n"
     ]
    }
   ],
   "source": [
    "from pprint import pprint\n",
    "for model in models.models.values():\n",
    "    pprint (model.name)\n",
    "    pprint(model.best_params)"
   ]
  },
  {
   "cell_type": "code",
   "execution_count": 19,
   "metadata": {},
   "outputs": [
    {
     "name": "stdout",
     "output_type": "stream",
     "text": [
      "              precision    recall  f1-score   support\n",
      "\n",
      "           1       0.64      0.75      0.69     72529\n",
      "           2       0.47      0.54      0.50    121365\n",
      "           3       0.53      0.30      0.39    130148\n",
      "           4       0.24      0.26      0.25     50567\n",
      "           5       0.12      0.10      0.11     17982\n",
      "           6       0.08      0.42      0.13      5509\n",
      "           7       0.12      0.19      0.14      3054\n",
      "\n",
      "    accuracy                           0.44    401154\n",
      "   macro avg       0.31      0.36      0.31    401154\n",
      "weighted avg       0.47      0.44      0.44    401154\n",
      "\n",
      "              precision    recall  f1-score   support\n",
      "\n",
      "           1       0.63      0.62      0.63     72529\n",
      "           2       0.43      0.53      0.48    121365\n",
      "           3       0.45      0.48      0.47    130148\n",
      "           4       0.23      0.12      0.16     50567\n",
      "           5       0.15      0.11      0.13     17982\n",
      "           6       0.09      0.04      0.06      5509\n",
      "           7       0.11      0.01      0.01      3054\n",
      "\n",
      "    accuracy                           0.45    401154\n",
      "   macro avg       0.30      0.27      0.28    401154\n",
      "weighted avg       0.43      0.45      0.44    401154\n",
      "\n"
     ]
    }
   ],
   "source": [
    "for model in models.models.values():\n",
    "    model.pipeline.fit(X_train_single,y_train_single)\n",
    "\n",
    "preds_lgbm=models.models['lgbm_grade_single'].pipeline.predict(X_val_single)\n",
    "preds_dtree=models.models['tree_grade_single'].pipeline.predict(X_val_single)\n",
    "print(classification_report(y_val_single,preds_lgbm))\n",
    "print(classification_report(y_val_single,preds_dtree))"
   ]
  },
  {
   "cell_type": "code",
   "execution_count": 20,
   "metadata": {},
   "outputs": [],
   "source": [
    "best_pipeline_single=models.models['lgbm_grade_single'].pipeline"
   ]
  },
  {
   "cell_type": "code",
   "execution_count": 21,
   "metadata": {},
   "outputs": [
    {
     "name": "stderr",
     "output_type": "stream",
     "text": [
      "100%|===================| 6995/7000 [08:21<00:00]        "
     ]
    },
    {
     "data": {
      "image/png": "[encoded data removed]",
      "text/plain": [
       "<Figure size 800x550 with 1 Axes>"
      ]
     },
     "metadata": {},
     "output_type": "display_data"
    }
   ],
   "source": [
    "names = models.models['lgbm_grade_single'].pipeline[\"preprocess\"].transform(X_val_single.sample(1000, seed=1)).columns\n",
    "explainer_tree = shap.TreeExplainer(\n",
    "    models.models['lgbm_grade_single'].pipeline[\"model\"],\n",
    "    data=models.models['lgbm_grade_single'].pipeline[\"preprocess\"]\n",
    "    .transform((X_val_single.sample(1000, seed=1)))\n",
    "    .to_numpy(),\n",
    "    model_output=\"raw\",\n",
    "    )\n",
    "\n",
    "shap_values = explainer_tree.shap_values(\n",
    "    models.models['lgbm_grade_single'].pipeline[\"preprocess\"].transform(X_val_single.sample(1000, seed=1)).to_numpy()\n",
    ")\n",
    "\n",
    "shap.summary_plot(\n",
    "    shap_values,\n",
    "    models.models['lgbm_grade_single'].pipeline[\"preprocess\"].transform(X_val_single.sample(10000, seed=1)).to_numpy(),\n",
    "    feature_names=names,\n",
    "    class_names={0:\"A\", 1:\"B\",2:\"C\",3:\"D\",4:\"E\",5:\"F\",6:\"G\"},\n",
    "    max_display=10\n",
    ")"
   ]
  },
  {
   "cell_type": "markdown",
   "metadata": {},
   "source": [
    "## Joint Applications"
   ]
  },
  {
   "cell_type": "markdown",
   "metadata": {},
   "source": [
    "##### Setting up joint application preprocessing:"
   ]
  },
  {
   "cell_type": "code",
   "execution_count": 23,
   "metadata": {},
   "outputs": [],
   "source": [
    "imputers_joint = copy.deepcopy(imputers)\n",
    "encoders_joint = copy.deepcopy(encoders)\n",
    "encoders_to_delete = [\"disbursement_enc\", \"paymnt_enc\"]\n",
    "\n",
    "for key in encoders_to_delete:\n",
    "    del encoders_joint.steps[key]\n",
    "\n",
    "verif_enc_joint = tr.TargetMeanOrderedLabeler(how=\"label\")\n",
    "\n",
    "encoders_joint.steps[\"verif_enc_joint\"] = PCT.Step(\n",
    "    \"verif_enc_joint\", verif_enc_joint, \"verification_status_joint\"\n",
    ")\n",
    "\n",
    "null_imp_joint = copy.deepcopy(null_imp)\n",
    "feature_dropper_joint = tr.FeatureRemover([])\n",
    "\n",
    "preprocess_joint = Pipeline(\n",
    "    [\n",
    "        (\"imputers\", imputers_joint),\n",
    "        (\"encoders\", encoders_joint),\n",
    "        (\"null_imputer\", null_imp_joint),\n",
    "        (\"feature_dropper\", feature_dropper_joint),\n",
    "    ]\n",
    ")\n",
    "\n",
    "model_joint = lgb.LGBMClassifier(\n",
    "    objective=\"multiclass\",\n",
    "    class_weight=\"balanced\",\n",
    "    verbose=-1,\n",
    "    force_col_wise=True,\n",
    "    random_state=1,\n",
    "    num_threads=12,\n",
    ")\n",
    "\n",
    "full_pipeline_joint = Pipeline(\n",
    "    [(\"preprocess\", preprocess_joint), (\"model\", model_joint)]\n",
    ")"
   ]
  },
  {
   "cell_type": "markdown",
   "metadata": {},
   "source": [
    "removal space:"
   ]
  },
  {
   "cell_type": "markdown",
   "metadata": {},
   "source": [
    "```python\n",
    "original_columns_joint = preprocess_joint.fit_transform(\n",
    "    X_train_joint.sample(10000, seed=1), y_train_joint.sample(10000, seed=1)\n",
    ").columns\n",
    "\n",
    "boruta_selected_cols_joint = {}\n",
    "\n",
    "transformed_sample_X = preprocess_joint.fit_transform(\n",
    "    X_train_joint.sample(50000, seed=1), y_train_joint.sample(50000, seed=1)\n",
    ")\n",
    "transformed_sample_y = y_train_joint.sample(50000, seed=1)\n",
    "for perc in np.arange(stop=101, start=10, step=10):\n",
    "    boruta = tr.BorutaFeatureSelectorPolars(\n",
    "        model_joint, random_state=1, perc=perc\n",
    "    )\n",
    "\n",
    "    boruta.fit(\n",
    "        transformed_sample_X,\n",
    "        transformed_sample_y,\n",
    "    )\n",
    "    boruta_selected_cols_joint[perc] = boruta.transform(\n",
    "        preprocess_joint.fit_transform(\n",
    "            X_train_joint.sample(10000, seed=1), y_train_joint.sample(10000, seed=1)\n",
    "        )\n",
    "    ).columns\n",
    "    print(f\"{perc} calculated\")\n",
    "\n",
    "# Setting the number of threads to 1 to avoid parallelization clash with ray tune.\n",
    "model_joint = lgb.LGBMClassifier(\n",
    "    objective=\"multiclass\",\n",
    "    class_weight=\"balanced\",\n",
    "    verbose=-1,\n",
    "    force_col_wise=True,\n",
    "    random_state=1,\n",
    "    num_threads=1,\n",
    ")\n",
    "```"
   ]
  },
  {
   "cell_type": "markdown",
   "metadata": {},
   "source": [
    "```python\n",
    "cols_to_drop_space_joint=[]\n",
    "for key, columns in boruta_selected_cols_joint.items():\n",
    "    cols_to_drop_space_joint.append([col for col in original_columns_joint if col not in columns])\n",
    "cols_to_drop_space_joint.insert(0,[])\n",
    "joblib.dump(cols_to_drop_space_joint,'temp/cols_to_drop_joint.joblib')\n",
    "```"
   ]
  },
  {
   "cell_type": "code",
   "execution_count": 26,
   "metadata": {},
   "outputs": [],
   "source": [
    "cols_to_drop_space_joint=joblib.load('temp/cols_to_drop_joint.joblib')"
   ]
  },
  {
   "cell_type": "code",
   "execution_count": 27,
   "metadata": {},
   "outputs": [
    {
     "data": {
      "text/html": [
       "<style>#sk-container-id-1 {color: black;}#sk-container-id-1 pre{padding: 0;}#sk-container-id-1 div.sk-toggleable {background-color: white;}#sk-container-id-1 label.sk-toggleable__label {cursor: pointer;display: block;width: 100%;margin-bottom: 0;padding: 0.3em;box-sizing: border-box;text-align: center;}#sk-container-id-1 label.sk-toggleable__label-arrow:before {content: \"▸\";float: left;margin-right: 0.25em;color: #696969;}#sk-container-id-1 label.sk-toggleable__label-arrow:hover:before {color: black;}#sk-container-id-1 div.sk-estimator:hover label.sk-toggleable__label-arrow:before {color: black;}#sk-container-id-1 div.sk-toggleable__content {max-height: 0;max-width: 0;overflow: hidden;text-align: left;background-color: #f0f8ff;}#sk-container-id-1 div.sk-toggleable__content pre {margin: 0.2em;color: black;border-radius: 0.25em;background-color: #f0f8ff;}#sk-container-id-1 input.sk-toggleable__control:checked~div.sk-toggleable__content {max-height: 200px;max-width: 100%;overflow: auto;}#sk-container-id-1 input.sk-toggleable__control:checked~label.sk-toggleable__label-arrow:before {content: \"▾\";}#sk-container-id-1 div.sk-estimator input.sk-toggleable__control:checked~label.sk-toggleable__label {background-color: #d4ebff;}#sk-container-id-1 div.sk-label input.sk-toggleable__control:checked~label.sk-toggleable__label {background-color: #d4ebff;}#sk-container-id-1 input.sk-hidden--visually {border: 0;clip: rect(1px 1px 1px 1px);clip: rect(1px, 1px, 1px, 1px);height: 1px;margin: -1px;overflow: hidden;padding: 0;position: absolute;width: 1px;}#sk-container-id-1 div.sk-estimator {font-family: monospace;background-color: #f0f8ff;border: 1px dotted black;border-radius: 0.25em;box-sizing: border-box;margin-bottom: 0.5em;}#sk-container-id-1 div.sk-estimator:hover {background-color: #d4ebff;}#sk-container-id-1 div.sk-parallel-item::after {content: \"\";width: 100%;border-bottom: 1px solid gray;flex-grow: 1;}#sk-container-id-1 div.sk-label:hover label.sk-toggleable__label {background-color: #d4ebff;}#sk-container-id-1 div.sk-serial::before {content: \"\";position: absolute;border-left: 1px solid gray;box-sizing: border-box;top: 0;bottom: 0;left: 50%;z-index: 0;}#sk-container-id-1 div.sk-serial {display: flex;flex-direction: column;align-items: center;background-color: white;padding-right: 0.2em;padding-left: 0.2em;position: relative;}#sk-container-id-1 div.sk-item {position: relative;z-index: 1;}#sk-container-id-1 div.sk-parallel {display: flex;align-items: stretch;justify-content: center;background-color: white;position: relative;}#sk-container-id-1 div.sk-item::before, #sk-container-id-1 div.sk-parallel-item::before {content: \"\";position: absolute;border-left: 1px solid gray;box-sizing: border-box;top: 0;bottom: 0;left: 50%;z-index: -1;}#sk-container-id-1 div.sk-parallel-item {display: flex;flex-direction: column;z-index: 1;position: relative;background-color: white;}#sk-container-id-1 div.sk-parallel-item:first-child::after {align-self: flex-end;width: 50%;}#sk-container-id-1 div.sk-parallel-item:last-child::after {align-self: flex-start;width: 50%;}#sk-container-id-1 div.sk-parallel-item:only-child::after {width: 0;}#sk-container-id-1 div.sk-dashed-wrapped {border: 1px dashed gray;margin: 0 0.4em 0.5em 0.4em;box-sizing: border-box;padding-bottom: 0.4em;background-color: white;}#sk-container-id-1 div.sk-label label {font-family: monospace;font-weight: bold;display: inline-block;line-height: 1.2em;}#sk-container-id-1 div.sk-label-container {text-align: center;}#sk-container-id-1 div.sk-container {/* jupyter's `normalize.less` sets `[hidden] { display: none; }` but bootstrap.min.css set `[hidden] { display: none !important; }` so we also need the `!important` here to be able to override the default hidden behavior on the sphinx rendered scikit-learn.org. See: https://github.com/scikit-learn/scikit-learn/issues/21755 */display: inline-block !important;position: relative;}#sk-container-id-1 div.sk-text-repr-fallback {display: none;}</style><div id=\"sk-container-id-1\" class=\"sk-top-container\"><div class=\"sk-text-repr-fallback\"><pre>LGBMClassifier(class_weight=&#x27;balanced&#x27;, force_col_wise=True, num_threads=1,\n",
       "               objective=&#x27;multiclass&#x27;, random_state=1, verbose=-1)</pre><b>In a Jupyter environment, please rerun this cell to show the HTML representation or trust the notebook. <br />On GitHub, the HTML representation is unable to render, please try loading this page with nbviewer.org.</b></div><div class=\"sk-container\" hidden><div class=\"sk-item\"><div class=\"sk-estimator sk-toggleable\"><input class=\"sk-toggleable__control sk-hidden--visually\" id=\"sk-estimator-id-1\" type=\"checkbox\" checked><label for=\"sk-estimator-id-1\" class=\"sk-toggleable__label sk-toggleable__label-arrow\">LGBMClassifier</label><div class=\"sk-toggleable__content\"><pre>LGBMClassifier(class_weight=&#x27;balanced&#x27;, force_col_wise=True, num_threads=1,\n",
       "               objective=&#x27;multiclass&#x27;, random_state=1, verbose=-1)</pre></div></div></div></div></div>"
      ],
      "text/plain": [
       "LGBMClassifier(class_weight='balanced', force_col_wise=True, num_threads=1,\n",
       "               objective='multiclass', random_state=1, verbose=-1)"
      ]
     },
     "execution_count": 27,
     "metadata": {},
     "output_type": "execute_result"
    }
   ],
   "source": [
    "search_space_lgbm_joint = {\n",
    "    \"preprocess__feature_dropper__feats_to_drop\": tune.choice(cols_to_drop_space_joint),\n",
    "    \"model__num_leaves\": tune.randint(10, 1025),\n",
    "    \"model__n_estimators\": tune.randint(10, 251),\n",
    "    \"model__learning_rate\": tune.loguniform(0.001, 0.1),\n",
    "    \"model__bagging_freq\": tune.randint(0, 11),\n",
    "    \"model__colsample_bytree\": tune.uniform(0.2, 1.0),\n",
    "    \"model__subsample\": tune.uniform(0.2, 1.0),\n",
    "    \"model__reg_alpha\": tune.loguniform(0.001, 100),\n",
    "    \"model__reg_lambda\": tune.loguniform(0.001, 100),\n",
    "    \"model__boosting_type\": tune.choice([\"gbdt\", \"dart\", \"rf\"]),\n",
    "    \"model__class_weight\": tune.choice([\"balanced\", None]),\n",
    "    \"model__max_bin\": tune.randint(5, 201),\n",
    "}\n",
    "\n",
    "joint_grade_classifier = tunes.Models.Model(\n",
    "    \"joint_grade_lgbm\",\n",
    "    pipeline=full_pipeline_joint,\n",
    "    param_grid=search_space_lgbm_joint,\n",
    "    metric_threshold=0.3,\n",
    ")\n",
    "\n",
    "joint_grade_classifier.pipeline['model'].set_params(**{'num_threads':1})"
   ]
  },
  {
   "cell_type": "markdown",
   "metadata": {},
   "source": [
    "```python\n",
    "joint_grade_classifier.tune_model(\n",
    "    X_train_joint,\n",
    "    y_train_joint,\n",
    "    X_val_joint,\n",
    "    y_val_joint,\n",
    "    n=300,\n",
    "    sample_size=60000,\n",
    "    n_training=1,\n",
    "    average=\"macro\",\n",
    ")\n",
    "joblib.dump(joint_grade_classifier, \"temp/tuned_joint_grade.joblib\")\n",
    "```"
   ]
  },
  {
   "cell_type": "code",
   "execution_count": 28,
   "metadata": {},
   "outputs": [],
   "source": [
    "joint_grade_classifier=joblib.load(\"temp/tuned_joint_grade.joblib\")"
   ]
  },
  {
   "cell_type": "code",
   "execution_count": 29,
   "metadata": {},
   "outputs": [
    {
     "data": {
      "text/plain": [
       "{'preprocess__feature_dropper__feats_to_drop': ['fico_range_high',\n",
       "  'last_fico_range_low',\n",
       "  'acc_now_delinq',\n",
       "  'chargeoff_within_12_mths',\n",
       "  'num_tl_30dpd',\n",
       "  'num_tl_90g_dpd_24m',\n",
       "  'tax_liens',\n",
       "  'sec_app_fico_range_high',\n",
       "  'sec_app_chargeoff_within_12_mths'],\n",
       " 'model__num_leaves': 540,\n",
       " 'model__n_estimators': 237,\n",
       " 'model__learning_rate': 0.026171137130242578,\n",
       " 'model__bagging_freq': 8,\n",
       " 'model__colsample_bytree': 0.7770020289663396,\n",
       " 'model__subsample': 0.6108258227385311,\n",
       " 'model__reg_alpha': 0.01514293570246572,\n",
       " 'model__reg_lambda': 15.907511756859641,\n",
       " 'model__boosting_type': 'gbdt',\n",
       " 'model__class_weight': 'balanced',\n",
       " 'model__max_bin': 149}"
      ]
     },
     "execution_count": 29,
     "metadata": {},
     "output_type": "execute_result"
    }
   ],
   "source": [
    "joint_grade_classifier.best_params"
   ]
  },
  {
   "cell_type": "code",
   "execution_count": 31,
   "metadata": {},
   "outputs": [
    {
     "name": "stdout",
     "output_type": "stream",
     "text": [
      "              precision    recall  f1-score   support\n",
      "\n",
      "           1       0.72      0.78      0.75      6153\n",
      "           2       0.52      0.56      0.54      8269\n",
      "           3       0.48      0.48      0.48      8318\n",
      "           4       0.41      0.25      0.31      4926\n",
      "           5       0.29      0.41      0.34      1511\n",
      "           6       0.19      0.22      0.20       488\n",
      "           7       0.11      0.07      0.08       137\n",
      "\n",
      "    accuracy                           0.52     29802\n",
      "   macro avg       0.39      0.39      0.39     29802\n",
      "weighted avg       0.51      0.52      0.51     29802\n",
      "\n"
     ]
    }
   ],
   "source": [
    "joint_grade_classifier.pipeline['model'].set_params(**{'num_threads':12})\n",
    "joint_grade_classifier.pipeline.fit(X_train_joint,y_train_joint)\n",
    "preds_joint_grade=joint_grade_classifier.pipeline.predict(X_val_joint)\n",
    "print(classification_report(y_val_joint,preds_joint_grade))\n"
   ]
  },
  {
   "cell_type": "code",
   "execution_count": null,
   "metadata": {},
   "outputs": [],
   "source": [
    "stop"
   ]
  },
  {
   "cell_type": "code",
   "execution_count": 32,
   "metadata": {},
   "outputs": [
    {
     "name": "stderr",
     "output_type": "stream",
     "text": [
      "100%|===================| 3498/3500 [28:51<00:00]        "
     ]
    },
    {
     "data": {
      "image/png": "[encoded data removed]",
      "text/plain": [
       "<Figure size 800x550 with 1 Axes>"
      ]
     },
     "metadata": {},
     "output_type": "display_data"
    }
   ],
   "source": [
    "names_joint_grade = (\n",
    "    joint_grade_classifier.pipeline[\"preprocess\"]\n",
    "    .transform(X_val_joint.sample(500, seed=1))\n",
    "    .columns\n",
    ")\n",
    "explainer_joint_grade = shap.TreeExplainer(\n",
    "    joint_grade_classifier.pipeline[\"model\"],\n",
    "    data=joint_grade_classifier.pipeline[\"preprocess\"]\n",
    "    .transform((X_val_joint.sample(500, seed=1)))\n",
    "    .to_numpy(),\n",
    "    model_output=\"raw\",\n",
    ")\n",
    "\n",
    "shap_values_joint_grade = explainer_joint_grade.shap_values(\n",
    "    joint_grade_classifier.pipeline[\"preprocess\"]\n",
    "    .transform(X_val_joint.sample(500, seed=1))\n",
    "    .to_numpy()\n",
    ")\n",
    "\n",
    "shap.summary_plot(\n",
    "    shap_values_joint_grade,\n",
    "    joint_grade_classifier.pipeline[\"preprocess\"]\n",
    "    .transform(X_val_joint.sample(10000, seed=1))\n",
    "    .to_numpy(),\n",
    "    feature_names=names_joint_grade,\n",
    "    class_names={0: \"A\", 1: \"B\", 2: \"C\", 3: \"D\", 4: \"E\", 5: \"F\", 6: \"G\"},\n",
    "    max_display=10,\n",
    ")"
   ]
  }
 ],
 "metadata": {
  "kernelspec": {
   "display_name": "base",
   "language": "python",
   "name": "python3"
  },
  "language_info": {
   "codemirror_mode": {
    "name": "ipython",
    "version": 3
   },
   "file_extension": ".py",
   "mimetype": "text/x-python",
   "name": "python",
   "nbconvert_exporter": "python",
   "pygments_lexer": "ipython3",
   "version": "3.9.13"
  }
 },
 "nbformat": 4,
 "nbformat_minor": 2
}
