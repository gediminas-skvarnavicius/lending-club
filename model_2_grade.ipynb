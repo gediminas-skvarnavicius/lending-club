{
 "cells": [
  {
   "cell_type": "markdown",
   "metadata": {},
   "source": [
    "# Loan Grade, Sub-Grade and Interest Rate Prediction"
   ]
  },
  {
   "cell_type": "markdown",
   "metadata": {},
   "source": [
    "## Setup"
   ]
  },
  {
   "cell_type": "markdown",
   "metadata": {},
   "source": [
    "### Imports"
   ]
  },
  {
   "cell_type": "code",
   "execution_count": 56,
   "metadata": {},
   "outputs": [],
   "source": [
    "%reload_ext autoreload\n",
    "%autoreload 1\n",
    "import joblib\n",
    "from sklearn.metrics import mean_squared_error\n",
    "from pprint import pprint\n",
    "from ray import tune\n",
    "import copy\n",
    "import shap\n",
    "import matplotlib.pyplot as plt\n",
    "import polars as pl\n",
    "import sys\n",
    "import numpy as np\n",
    "from sklearn.model_selection import train_test_split\n",
    "import functions.transformers as tr\n",
    "from functions.transformers import PolarsColumnTransformer as PCT\n",
    "import functions.data_cleaning as dmf\n",
    "import functions.plot_functions as pf\n",
    "import functions.tuning as tunes\n",
    "import functions.statistics as st\n",
    "import functions.feature_engineering as feats\n",
    "import seaborn as sns\n",
    "from sklearn.pipeline import Pipeline\n",
    "from sklearn.metrics import classification_report,f1_score\n",
    "from sklearn.tree import DecisionTreeClassifier\n",
    "from IPython.display import display,Markdown\n",
    "import lightgbm as lgb\n",
    "%aimport functions.tuning\n",
    "%aimport functions.transformers\n",
    "%aimport functions.data_cleaning\n",
    "%aimport functions.plot_functions\n",
    "%aimport functions.feature_engineering\n",
    "%aimport functions.statistics"
   ]
  },
  {
   "cell_type": "markdown",
   "metadata": {},
   "source": [
    "##### Settings:"
   ]
  },
  {
   "cell_type": "code",
   "execution_count": 55,
   "metadata": {},
   "outputs": [],
   "source": [
    "ALPHA = 0.05\n",
    "BASE_FIG_SIZE=(8.5,4.5)\n",
    "sns.set()"
   ]
  },
  {
   "cell_type": "markdown",
   "metadata": {},
   "source": [
    "### Data Preparation"
   ]
  },
  {
   "cell_type": "markdown",
   "metadata": {},
   "source": [
    "##### Loading the data:"
   ]
  },
  {
   "cell_type": "code",
   "execution_count": 2,
   "metadata": {},
   "outputs": [],
   "source": [
    "data_train_single=pl.read_parquet('data/data_accepted_single_train.parquet')\n",
    "data_val_single=pl.read_parquet('data/data_accepted_single_val.parquet')\n",
    "data_test_single=pl.read_parquet('data/data_accepted_single_test.parquet')\n",
    "data_train_joint=pl.read_parquet('data/data_accepted_joint_train.parquet')\n",
    "data_val_joint=pl.read_parquet('data/data_accepted_joint_val.parquet')\n",
    "data_test_joint=pl.read_parquet('data/data_accepted_joint_test.parquet')"
   ]
  },
  {
   "cell_type": "markdown",
   "metadata": {},
   "source": [
    "#### Oversampling"
   ]
  },
  {
   "cell_type": "markdown",
   "metadata": {},
   "source": [
    "##### Sub-grades with the lowest representation in single applications:"
   ]
  },
  {
   "cell_type": "code",
   "execution_count": 3,
   "metadata": {},
   "outputs": [
    {
     "data": {
      "text/html": [
       "<div><style>\n",
       ".dataframe > thead > tr > th,\n",
       ".dataframe > tbody > tr > td {\n",
       "  text-align: right;\n",
       "  white-space: pre-wrap;\n",
       "}\n",
       "</style>\n",
       "<small>shape: (10, 2)</small><table border=\"1\" class=\"dataframe\"><thead><tr><th>sub_grade</th><th>counts</th></tr><tr><td>str</td><td>u32</td></tr></thead><tbody><tr><td>&quot;G5&quot;</td><td>873</td></tr><tr><td>&quot;G4&quot;</td><td>1021</td></tr><tr><td>&quot;G3&quot;</td><td>1447</td></tr><tr><td>&quot;G2&quot;</td><td>2003</td></tr><tr><td>&quot;G1&quot;</td><td>2637</td></tr><tr><td>&quot;F5&quot;</td><td>3770</td></tr><tr><td>&quot;F4&quot;</td><td>4773</td></tr><tr><td>&quot;F3&quot;</td><td>6078</td></tr><tr><td>&quot;F2&quot;</td><td>7532</td></tr><tr><td>&quot;F1&quot;</td><td>10009</td></tr></tbody></table></div>"
      ],
      "text/plain": [
       "shape: (10, 2)\n",
       "┌───────────┬────────┐\n",
       "│ sub_grade ┆ counts │\n",
       "│ ---       ┆ ---    │\n",
       "│ str       ┆ u32    │\n",
       "╞═══════════╪════════╡\n",
       "│ G5        ┆ 873    │\n",
       "│ G4        ┆ 1021   │\n",
       "│ G3        ┆ 1447   │\n",
       "│ G2        ┆ 2003   │\n",
       "│ …         ┆ …      │\n",
       "│ F4        ┆ 4773   │\n",
       "│ F3        ┆ 6078   │\n",
       "│ F2        ┆ 7532   │\n",
       "│ F1        ┆ 10009  │\n",
       "└───────────┴────────┘"
      ]
     },
     "execution_count": 3,
     "metadata": {},
     "output_type": "execute_result"
    }
   ],
   "source": [
    "data_train_single['sub_grade'].value_counts().sort('counts')[:10]"
   ]
  },
  {
   "cell_type": "markdown",
   "metadata": {},
   "source": [
    "##### Sub-grades with the lowest representation in joint applications:"
   ]
  },
  {
   "cell_type": "code",
   "execution_count": 4,
   "metadata": {},
   "outputs": [
    {
     "data": {
      "text/html": [
       "<div><style>\n",
       ".dataframe > thead > tr > th,\n",
       ".dataframe > tbody > tr > td {\n",
       "  text-align: right;\n",
       "  white-space: pre-wrap;\n",
       "}\n",
       "</style>\n",
       "<small>shape: (10, 2)</small><table border=\"1\" class=\"dataframe\"><thead><tr><th>sub_grade</th><th>counts</th></tr><tr><td>str</td><td>u32</td></tr></thead><tbody><tr><td>&quot;G2&quot;</td><td>78</td></tr><tr><td>&quot;G4&quot;</td><td>79</td></tr><tr><td>&quot;G3&quot;</td><td>79</td></tr><tr><td>&quot;G5&quot;</td><td>90</td></tr><tr><td>&quot;F4&quot;</td><td>154</td></tr><tr><td>&quot;G1&quot;</td><td>171</td></tr><tr><td>&quot;F2&quot;</td><td>185</td></tr><tr><td>&quot;F5&quot;</td><td>187</td></tr><tr><td>&quot;F3&quot;</td><td>253</td></tr><tr><td>&quot;F1&quot;</td><td>321</td></tr></tbody></table></div>"
      ],
      "text/plain": [
       "shape: (10, 2)\n",
       "┌───────────┬────────┐\n",
       "│ sub_grade ┆ counts │\n",
       "│ ---       ┆ ---    │\n",
       "│ str       ┆ u32    │\n",
       "╞═══════════╪════════╡\n",
       "│ G2        ┆ 78     │\n",
       "│ G4        ┆ 79     │\n",
       "│ G3        ┆ 79     │\n",
       "│ G5        ┆ 90     │\n",
       "│ …         ┆ …      │\n",
       "│ F2        ┆ 185    │\n",
       "│ F5        ┆ 187    │\n",
       "│ F3        ┆ 253    │\n",
       "│ F1        ┆ 321    │\n",
       "└───────────┴────────┘"
      ]
     },
     "execution_count": 4,
     "metadata": {},
     "output_type": "execute_result"
    }
   ],
   "source": [
    "data_train_joint['sub_grade'].value_counts().sort('counts')[:10]"
   ]
  },
  {
   "cell_type": "markdown",
   "metadata": {},
   "source": [
    "##### Oversampling the classes with the lowest representation:"
   ]
  },
  {
   "cell_type": "code",
   "execution_count": 3,
   "metadata": {},
   "outputs": [],
   "source": [
    "data_train_single=data_train_single.vstack(st.oversample_polars(data_train_single,'sub_grade',10000))\n",
    "data_train_joint=data_train_joint.vstack(st.oversample_polars(data_train_joint,'sub_grade',500))"
   ]
  },
  {
   "cell_type": "markdown",
   "metadata": {},
   "source": [
    "Rare classes were over-sampled in the training set so that no sub-grade is rarer than 10000 samples in the single application set and 500 in the joint application set."
   ]
  },
  {
   "cell_type": "markdown",
   "metadata": {},
   "source": [
    "#### Data Preparation:"
   ]
  },
  {
   "cell_type": "markdown",
   "metadata": {},
   "source": [
    "##### Cleaning the data:"
   ]
  },
  {
   "cell_type": "code",
   "execution_count": 4,
   "metadata": {},
   "outputs": [],
   "source": [
    "data_train_single=dmf.clean_accepted_single(data_train_single)\n",
    "data_val_single=dmf.clean_accepted_single(data_val_single)\n",
    "data_test_single=dmf.clean_accepted_single(data_test_single)\n",
    "data_train_joint=dmf.clean_accepted_joint(data_train_joint)\n",
    "data_val_joint=dmf.clean_accepted_joint(data_val_joint)\n",
    "data_test_joint=dmf.clean_accepted_joint(data_test_joint)"
   ]
  },
  {
   "cell_type": "markdown",
   "metadata": {},
   "source": [
    "##### Dropping Features based on EDA:"
   ]
  },
  {
   "cell_type": "code",
   "execution_count": 5,
   "metadata": {},
   "outputs": [],
   "source": [
    "data_train_single=dmf.remove_poor_features_single(data_train_single)\n",
    "data_val_single=dmf.remove_poor_features_single(data_val_single)\n",
    "data_test_single=dmf.remove_poor_features_single(data_test_single)\n",
    "data_train_joint=dmf.remove_poor_features_joint(data_train_joint)\n",
    "data_val_joint=dmf.remove_poor_features_joint(data_val_joint)\n",
    "data_test_joint=dmf.remove_poor_features_joint(data_test_joint)"
   ]
  },
  {
   "cell_type": "markdown",
   "metadata": {},
   "source": [
    "### Feature Engineering"
   ]
  },
  {
   "cell_type": "markdown",
   "metadata": {},
   "source": [
    "##### Adding and modifying features:"
   ]
  },
  {
   "cell_type": "code",
   "execution_count": 6,
   "metadata": {},
   "outputs": [],
   "source": [
    "data_train_single=feats.date_features(data_train_single,'issue_d')\n",
    "data_val_single=feats.date_features(data_val_single,'issue_d')\n",
    "data_test_single=feats.date_features(data_test_single,'issue_d')\n",
    "data_train_joint=feats.date_features_joint(data_train_joint,'issue_d')\n",
    "data_val_joint=feats.date_features_joint(data_val_joint,'issue_d')\n",
    "data_test_joint=feats.date_features_joint(data_test_joint,'issue_d')"
   ]
  },
  {
   "cell_type": "markdown",
   "metadata": {},
   "source": [
    "The following date features were changed:\n",
    "1. The year of the month was changed into it's sine and cosine.\n",
    "2. Earliest credit line and last credit line was transformed to represent the day difference from the current date.\n",
    "3. Current year was extracted from the date."
   ]
  },
  {
   "cell_type": "markdown",
   "metadata": {},
   "source": [
    "##### Labeling grades with a sequence of numbers."
   ]
  },
  {
   "cell_type": "code",
   "execution_count": 7,
   "metadata": {},
   "outputs": [],
   "source": [
    "data_train_single=dmf.label_target_grades(data_train_single,)\n",
    "data_val_single=dmf.label_target_grades(data_val_single,)\n",
    "data_test_single=dmf.label_target_grades(data_test_single)\n",
    "data_train_joint=dmf.label_target_grades(data_train_joint,)\n",
    "data_val_joint=dmf.label_target_grades(data_val_joint,)\n",
    "data_test_joint=dmf.label_target_grades(data_test_joint)"
   ]
  },
  {
   "cell_type": "markdown",
   "metadata": {},
   "source": [
    "##### Specifying dependent and independent variables:"
   ]
  },
  {
   "cell_type": "code",
   "execution_count": 8,
   "metadata": {},
   "outputs": [],
   "source": [
    "X_train_single=data_train_single.drop(columns=['grade','sub_grade','int_rate','issue_d'])\n",
    "y_train_single=data_train_single['grade']\n",
    "\n",
    "X_val_single=data_val_single.drop(columns=['grade','sub_grade','int_rate','issue_d'])\n",
    "y_val_single=data_val_single['grade']\n",
    "\n",
    "X_train_joint=data_train_joint.drop(columns=['grade','sub_grade','int_rate','issue_d'])\n",
    "y_train_joint=data_train_joint['grade']\n",
    "\n",
    "X_val_joint=data_val_joint.drop(columns=['grade','sub_grade','int_rate','issue_d'])\n",
    "y_val_joint=data_val_joint['grade']\n",
    "\n",
    "X_test_single=data_test_single.drop(columns=['grade','sub_grade','int_rate','issue_d'])\n",
    "y_test_single=data_test_single['grade']\n",
    "\n",
    "X_test_joint=data_test_joint.drop(columns=['grade','sub_grade','int_rate','issue_d'])\n",
    "y_test_joint=data_test_joint['grade']"
   ]
  },
  {
   "cell_type": "markdown",
   "metadata": {},
   "source": [
    "## Grade Prediction"
   ]
  },
  {
   "cell_type": "markdown",
   "metadata": {},
   "source": [
    "### Single Applications"
   ]
  },
  {
   "cell_type": "markdown",
   "metadata": {},
   "source": [
    "#### Pipeline Construction"
   ]
  },
  {
   "cell_type": "markdown",
   "metadata": {},
   "source": [
    "##### Adding imputers:"
   ]
  },
  {
   "cell_type": "code",
   "execution_count": 10,
   "metadata": {},
   "outputs": [],
   "source": [
    "preprocess_single=Pipeline([])\n",
    "emp_title_imp = tr.NotInImputerPolars(cat_no=20, fill_value=\"other\")\n",
    "emp_length_imp = tr.NotInImputerPolars(cat_no=12, fill_value=None)\n",
    "zip_imp = tr.NotInImputerPolars(cat_no=50, fill_value='other')\n",
    "imputers = PCT(\n",
    "    [\n",
    "        PCT.Step(\"emp_title\", emp_title_imp, \"emp_title\"),\n",
    "        PCT.Step(\"emp_length\", emp_length_imp, \"emp_length\"),\n",
    "        PCT.Step(\"zip_code\", zip_imp,'zip_code')\n",
    "    ]\n",
    ")\n",
    "preprocess_single.steps.append((\"imputers\",imputers))"
   ]
  },
  {
   "cell_type": "markdown",
   "metadata": {},
   "source": [
    "Features with a high number of distinct categories, such as \"employment title\" and \"zip code,\" underwent a modification process using the \"NotInImputer\" technique. This method retains a predetermined quantity of the most frequently occurring values within these features while replacing all other less common values with a specific designated value. "
   ]
  },
  {
   "cell_type": "markdown",
   "metadata": {},
   "source": [
    "#### Adding encoders:"
   ]
  },
  {
   "cell_type": "code",
   "execution_count": 11,
   "metadata": {},
   "outputs": [],
   "source": [
    "emp_t_enc = tr.TargetMeanOrderedLabeler(how=\"label\")\n",
    "emp_l_order = [\n",
    "    None,\n",
    "    \"< 1 year\",\n",
    "    \"1 year\",\n",
    "    \"2 years\",\n",
    "    \"3 years\",\n",
    "    \"4 years\",\n",
    "    \"5 years\",\n",
    "    \"6 years\",\n",
    "    \"7 years\",\n",
    "    \"8 years\",\n",
    "    \"9 years\",\n",
    "    \"10+ years\",\n",
    "]\n",
    "emp_l_enc = tr.PolarsOrdinalEncoder(order=emp_l_order)\n",
    "home_enc = tr.TargetMeanOrderedLabeler(how=\"label\")\n",
    "verif_enc = tr.TargetMeanOrderedLabeler(how=\"label\")\n",
    "paymnt_enc = tr.PolarsOneHotEncoder(drop=True)\n",
    "purpose_enc = tr.TargetMeanOrderedLabeler(how=\"label\")\n",
    "zip_enc = tr.TargetMeanOrderedLabeler(how=\"label\")\n",
    "state_enc = tr.TargetMeanOrderedLabeler(how=\"label\")\n",
    "init_stat_enc = tr.PolarsOneHotEncoder(drop=True)\n",
    "disbursement_enc = tr.PolarsOneHotEncoder(drop=True)\n",
    "year_enc = tr.TargetMeanOrderedLabeler(how=\"last_mean\")\n",
    "\n",
    "encoders = PCT(\n",
    "    [\n",
    "        PCT.Step(\"emp_t_enc\", emp_t_enc, \"emp_title\"),\n",
    "        PCT.Step(\"emp_l_enc\", emp_l_enc, \"emp_length\"),\n",
    "        PCT.Step(\"home_enc\", home_enc, \"home_ownership\"),\n",
    "        PCT.Step(\"verif_enc\", verif_enc, \"verification_status\"),\n",
    "        PCT.Step(\"paymnt_enc\", paymnt_enc, \"pymnt_plan\"),\n",
    "        PCT.Step(\"purpose_enc\", purpose_enc, \"purpose\"),\n",
    "        PCT.Step(\"zip_enc\", zip_enc, \"zip_code\"),\n",
    "        PCT.Step(\"state_enc\", state_enc, \"addr_state\"),\n",
    "        PCT.Step(\"init_stat_enc\", init_stat_enc, \"initial_list_status\"),\n",
    "        PCT.Step(\"disbursement_enc\", disbursement_enc, \"disbursement_method\"),\n",
    "        PCT.Step(\"year_enc\", year_enc, \"year\")\n",
    "    ]\n",
    ")\n",
    "\n",
    "preprocess_single.steps.append((\"encoders\",encoders))\n",
    "null_imp = tr.PolarsNullImputer(fill_value=-9)\n",
    "preprocess_single.steps.append((\"null_imputer\",null_imp))"
   ]
  },
  {
   "cell_type": "markdown",
   "metadata": {},
   "source": [
    "A variety of encoding techniques were applied to handle categorical features within the dataset:\n",
    "\n",
    "1. **One-Hot Encoding for Two-Category Features:** Two-category features were encoded using a one-hot encoding approach, resulting in a single Boolean column.\n",
    "\n",
    "2. **Label Encoding for Inherently Unordered Categorical Data:** For inherently unordered categorical data, a label encoder was utilized. This method imparts an order to the unordered categories by calculating and the target mean and arranging the labels in accordance.\n",
    "\n",
    "3. **Ordered Labeling for Inherently Ordered Categories:** Categories with inherent ordering, such as \"employment length,\" were encoded using a predefined ordered labeling scheme.\n",
    "\n",
    "4. **Encoding Current Year with Mean Interest Rate:** To encode the current year, an encoder was employed that assigns the mean interest rate from the previous year. This helps incorporate historical interest rate data into the feature.\n",
    "\n",
    "For any remaining null values, they were substituted with the value -9 to ensure compatibility with BorutaPy, as decision-tree-based algorithms interpret this value differently, given that all other data is positive."
   ]
  },
  {
   "cell_type": "markdown",
   "metadata": {},
   "source": [
    "##### Specifying the model:"
   ]
  },
  {
   "cell_type": "code",
   "execution_count": 12,
   "metadata": {},
   "outputs": [],
   "source": [
    "model_single_lgbm = lgb.LGBMClassifier(\n",
    "    objective=\"multiclass\",\n",
    "    class_weight=\"balanced\",\n",
    "    verbose=-1,\n",
    "    force_col_wise=True,\n",
    "    random_state=1,\n",
    "    num_threads=6\n",
    ")"
   ]
  },
  {
   "cell_type": "markdown",
   "metadata": {},
   "source": [
    "#### Feature selection "
   ]
  },
  {
   "cell_type": "markdown",
   "metadata": {},
   "source": [
    "##### Getting lists of selected features based on boruta algorithm with different strictness:"
   ]
  },
  {
   "cell_type": "markdown",
   "metadata": {},
   "source": [
    "```python\n",
    "original_columns = preprocess_single.fit_transform(\n",
    "    X_train_single.sample(10000, seed=1), y_train_single.sample(10000, seed=1)\n",
    ").columns\n",
    "\n",
    "boruta_selected_cols = {}\n",
    "\n",
    "transformed_sample_X = preprocess_single.fit_transform(\n",
    "    X_train_single.sample(50000, seed=1), y_train_single.sample(50000, seed=1)\n",
    ")\n",
    "transformed_sample_y = y_train_single.sample(50000, seed=1)\n",
    "for perc in np.arange(stop=101, start=10, step=10):\n",
    "    boruta = tr.BorutaFeatureSelectorPolars(\n",
    "        model_single_lgbm, random_state=1, perc=perc\n",
    "    )\n",
    "\n",
    "    boruta.fit(\n",
    "        transformed_sample_X,\n",
    "        transformed_sample_y,\n",
    "    )\n",
    "    boruta_selected_cols[perc] = boruta.transform(\n",
    "        preprocess_single.fit_transform(\n",
    "            X_train_single.sample(10000, seed=1), y_train_single.sample(10000, seed=1)\n",
    "        )\n",
    "    ).columns\n",
    "    print(f\"{perc} calculated\")\n",
    "\n",
    "# Setting the number of threads to 1 to avoid parallelization clash with ray tune.\n",
    "model_single_lgbm = lgb.LGBMClassifier(\n",
    "    objective=\"multiclass\",\n",
    "    class_weight=\"balanced\",\n",
    "    verbose=-1,\n",
    "    force_col_wise=True,\n",
    "    random_state=1,\n",
    "    num_threads=1,\n",
    ")"
   ]
  },
  {
   "cell_type": "markdown",
   "metadata": {},
   "source": [
    "##### Getting lists of columns to drop:"
   ]
  },
  {
   "cell_type": "markdown",
   "metadata": {},
   "source": [
    "```python\n",
    "cols_to_drop_space=[]\n",
    "for key, columns in boruta_selected_cols.items():\n",
    "    cols_to_drop_space.append([col for col in original_columns if col not in columns])\n",
    "cols_to_drop_space.insert(0,[])\n",
    "joblib.dump(cols_to_drop_space,'temp/cols_to_drop.joblib')\n"
   ]
  },
  {
   "cell_type": "code",
   "execution_count": 18,
   "metadata": {},
   "outputs": [],
   "source": [
    "cols_to_drop_space=joblib.load('temp/cols_to_drop.joblib')"
   ]
  },
  {
   "cell_type": "markdown",
   "metadata": {},
   "source": [
    "##### Adding a feature removal step:"
   ]
  },
  {
   "cell_type": "code",
   "execution_count": 26,
   "metadata": {},
   "outputs": [],
   "source": [
    "feature_dropper = tr.FeatureRemover([])\n",
    "preprocess_single.steps.append(('feature_dropper',feature_dropper))\n",
    "full_pipeline_single = Pipeline(\n",
    "    [(\"preprocess\", preprocess_single), (\"model\", model_single_lgbm)]\n",
    ")"
   ]
  },
  {
   "cell_type": "markdown",
   "metadata": {},
   "source": [
    "Incorporating BorutaPy directly into the pipeline proved to be impractical due to the substantial slowdown it introduced in each training iteration, particularly when the dataset featured a significant number of features. To address this issue, an alternative approach was adopted:\n",
    "\n",
    "Several trials were conducted using different Boruta algorithm stringency settings on a sample of the data. In each trial, the selected features were identified and extracted into a list of collections of columns to be removed. This list of feature removal specifications is subsequently employed within a custom FeatureRemover transformer, allowing for manual control and tuning."
   ]
  },
  {
   "cell_type": "markdown",
   "metadata": {},
   "source": [
    "### Hyperparameter Tuning"
   ]
  },
  {
   "cell_type": "markdown",
   "metadata": {},
   "source": [
    "##### Baseline for tuning:"
   ]
  },
  {
   "cell_type": "code",
   "execution_count": 17,
   "metadata": {},
   "outputs": [
    {
     "name": "stdout",
     "output_type": "stream",
     "text": [
      "0.3321204198360338\n"
     ]
    }
   ],
   "source": [
    "full_pipeline_single.fit(X_train_single.sample(100000,seed=1),y_train_single.sample(100000,seed=1))\n",
    "preds=full_pipeline_single.predict(X_val_single)\n",
    "print(f1_score(y_val_single,preds,average='macro'))"
   ]
  },
  {
   "cell_type": "markdown",
   "metadata": {},
   "source": [
    "A baseline for the untuned model was established to serve as a benchmark for the early stopping of tuning trials."
   ]
  },
  {
   "cell_type": "markdown",
   "metadata": {},
   "source": [
    "#### Parameter Search Space"
   ]
  },
  {
   "cell_type": "markdown",
   "metadata": {},
   "source": [
    "##### LightGBM:"
   ]
  },
  {
   "cell_type": "code",
   "execution_count": 18,
   "metadata": {},
   "outputs": [],
   "source": [
    "models = tunes.Models()\n",
    "search_space_lgbm = {\n",
    "    \"preprocess__feature_dropper__feats_to_drop\": tune.choice(cols_to_drop_space),\n",
    "    \"model__max_depth\": tune.randint(5,50),\n",
    "    \"model__num_leaves\": tune.randint(10, 3051),\n",
    "    \"model__n_estimators\": tune.randint(10, 251),\n",
    "    \"model__learning_rate\": tune.loguniform(0.001, 0.1),\n",
    "    \"model__bagging_freq\": tune.randint(0, 11),\n",
    "    \"model__colsample_bytree\": tune.uniform(0.2, 1.0),\n",
    "    \"model__subsample\": tune.uniform(0.2, 1.0),\n",
    "    \"model__reg_alpha\": tune.loguniform(0.001, 100),\n",
    "    \"model__reg_lambda\": tune.loguniform(0.001, 100),\n",
    "    \"model__boosting_type\": tune.choice([\"gbdt\", \"dart\", \"rf\"]),\n",
    "    \"model__class_weight\": tune.choice([\"balanced\", None]),\n",
    "    \"model__max_bin\": tune.randint(5, 201),\n",
    "}\n",
    "\n",
    "models.add_model(\"lgbm_grade_single\", full_pipeline_single, search_space_lgbm, metric_threshold=0.35)"
   ]
  },
  {
   "cell_type": "markdown",
   "metadata": {},
   "source": [
    "##### Decision Tree:"
   ]
  },
  {
   "cell_type": "code",
   "execution_count": 19,
   "metadata": {},
   "outputs": [],
   "source": [
    "preprocess_single_dtree = copy.deepcopy(preprocess_single)\n",
    "model_single_dtree = DecisionTreeClassifier(random_state=1)\n",
    "full_pipeline_single_dtree = Pipeline(\n",
    "    [(\"preprocess\", preprocess_single_dtree), (\"model\", model_single_dtree)]\n",
    ")\n",
    "\n",
    "search_space_tree = {\n",
    "    \"preprocess__feature_dropper__feats_to_drop\": tune.choice(cols_to_drop_space),\n",
    "    \"model__criterion\": tune.choice([\"gini\", \"entropy\"]),\n",
    "    \"model__splitter\": tune.choice([\"best\", \"random\"]),\n",
    "    \"model__max_depth\": tune.randint(3, 50),\n",
    "    \"model__max_features\": tune.choice([\"sqrt\", \"log2\", None]),\n",
    "    \"model__class_weight\": tune.choice([\"balanced\", None]),\n",
    "}\n",
    "\n",
    "models.add_model(\n",
    "    \"tree_grade_single\", full_pipeline_single_dtree, search_space_tree, metric_threshold=0.3,override_n=120\n",
    ")"
   ]
  },
  {
   "cell_type": "markdown",
   "metadata": {},
   "source": [
    "In addition to the LightGBM model, a single decision tree model was included for the purpose of comparison. These models, along with their respective parameter configurations, were organized and managed within a dedicated \"model holder\" class. "
   ]
  },
  {
   "cell_type": "markdown",
   "metadata": {},
   "source": [
    "#### Parameter Tuning"
   ]
  },
  {
   "cell_type": "markdown",
   "metadata": {},
   "source": [
    "```python\n",
    "models.tune_all(\n",
    "    X_train_single,\n",
    "    y_train_single,\n",
    "    X_val_single,\n",
    "    y_val_single,\n",
    "    n=240,\n",
    "    sample_size=15000,\n",
    "    average=\"macro\",\n",
    ")\n",
    "joblib.dump(models, \"temp/tuned_grade_models.joblib\")\n"
   ]
  },
  {
   "cell_type": "code",
   "execution_count": 20,
   "metadata": {},
   "outputs": [],
   "source": [
    "models=joblib.load('temp/tuned_grade_models.joblib')"
   ]
  },
  {
   "cell_type": "markdown",
   "metadata": {},
   "source": [
    "The models were fine-tuned using the macro average of the F1 score as the primary evaluation criterion. This particular metric was selected because it places a strong emphasis on achieving a balanced and effective separation of all classes within the dataset, making it a robust measure of model performance across multiple categories or classes."
   ]
  },
  {
   "cell_type": "markdown",
   "metadata": {},
   "source": [
    "#### Tuning Results"
   ]
  },
  {
   "cell_type": "markdown",
   "metadata": {},
   "source": [
    "##### Best parameters for each model:"
   ]
  },
  {
   "cell_type": "code",
   "execution_count": 28,
   "metadata": {},
   "outputs": [
    {
     "name": "stdout",
     "output_type": "stream",
     "text": [
      "'lgbm_grade_single'\n",
      "{'model__bagging_freq': 9,\n",
      " 'model__boosting_type': 'gbdt',\n",
      " 'model__class_weight': 'balanced',\n",
      " 'model__colsample_bytree': 0.6849549665551705,\n",
      " 'model__learning_rate': 0.0558509334178991,\n",
      " 'model__max_bin': 40,\n",
      " 'model__max_depth': 33,\n",
      " 'model__n_estimators': 204,\n",
      " 'model__num_leaves': 2051,\n",
      " 'model__reg_alpha': 0.0010009764783985519,\n",
      " 'model__reg_lambda': 43.90677880592865,\n",
      " 'model__subsample': 0.9796606370081837,\n",
      " 'preprocess__feature_dropper__feats_to_drop': ['home_ownership',\n",
      "                                                'delinq_2yrs',\n",
      "                                                'fico_range_high',\n",
      "                                                'mths_since_last_record',\n",
      "                                                'pub_rec',\n",
      "                                                'last_fico_range_low',\n",
      "                                                'mths_since_last_major_derog',\n",
      "                                                'acc_now_delinq',\n",
      "                                                'open_acc_6m',\n",
      "                                                'open_act_il',\n",
      "                                                'open_il_12m',\n",
      "                                                'open_il_24m',\n",
      "                                                'total_bal_il',\n",
      "                                                'open_rv_12m',\n",
      "                                                'open_rv_24m',\n",
      "                                                'inq_fi',\n",
      "                                                'total_cu_tl',\n",
      "                                                'inq_last_12m',\n",
      "                                                'chargeoff_within_12_mths',\n",
      "                                                'delinq_amnt',\n",
      "                                                'mort_acc',\n",
      "                                                'mths_since_recent_bc_dlq',\n",
      "                                                'mths_since_recent_revol_delinq',\n",
      "                                                'num_accts_ever_120_pd',\n",
      "                                                'num_actv_bc_tl',\n",
      "                                                'num_actv_rev_tl',\n",
      "                                                'num_bc_sats',\n",
      "                                                'num_bc_tl',\n",
      "                                                'num_op_rev_tl',\n",
      "                                                'num_rev_tl_bal_gt_0',\n",
      "                                                'num_sats',\n",
      "                                                'num_tl_30dpd',\n",
      "                                                'num_tl_90g_dpd_24m',\n",
      "                                                'pub_rec_bankruptcies',\n",
      "                                                'tax_liens',\n",
      "                                                'emp_title',\n",
      "                                                'emp_length',\n",
      "                                                'zip_code',\n",
      "                                                'pymnt_plan_n',\n",
      "                                                'disbursement_method_Cash']}\n",
      "'tree_grade_single'\n",
      "{'model__class_weight': None,\n",
      " 'model__criterion': 'entropy',\n",
      " 'model__max_depth': 11,\n",
      " 'model__max_features': None,\n",
      " 'model__splitter': 'random',\n",
      " 'preprocess__feature_dropper__feats_to_drop': ['home_ownership',\n",
      "                                                'addr_state',\n",
      "                                                'delinq_2yrs',\n",
      "                                                'fico_range_high',\n",
      "                                                'mths_since_last_delinq',\n",
      "                                                'mths_since_last_record',\n",
      "                                                'open_acc',\n",
      "                                                'pub_rec',\n",
      "                                                'last_fico_range_low',\n",
      "                                                'mths_since_last_major_derog',\n",
      "                                                'acc_now_delinq',\n",
      "                                                'open_acc_6m',\n",
      "                                                'open_act_il',\n",
      "                                                'open_il_12m',\n",
      "                                                'open_il_24m',\n",
      "                                                'mths_since_rcnt_il',\n",
      "                                                'total_bal_il',\n",
      "                                                'il_util',\n",
      "                                                'open_rv_12m',\n",
      "                                                'open_rv_24m',\n",
      "                                                'max_bal_bc',\n",
      "                                                'all_util',\n",
      "                                                'inq_fi',\n",
      "                                                'total_cu_tl',\n",
      "                                                'inq_last_12m',\n",
      "                                                'chargeoff_within_12_mths',\n",
      "                                                'delinq_amnt',\n",
      "                                                'mo_sin_rcnt_rev_tl_op',\n",
      "                                                'mort_acc',\n",
      "                                                'mths_since_recent_bc_dlq',\n",
      "                                                'mths_since_recent_inq',\n",
      "                                                'mths_since_recent_revol_delinq',\n",
      "                                                'num_accts_ever_120_pd',\n",
      "                                                'num_actv_bc_tl',\n",
      "                                                'num_actv_rev_tl',\n",
      "                                                'num_bc_sats',\n",
      "                                                'num_bc_tl',\n",
      "                                                'num_il_tl',\n",
      "                                                'num_op_rev_tl',\n",
      "                                                'num_rev_accts',\n",
      "                                                'num_rev_tl_bal_gt_0',\n",
      "                                                'num_sats',\n",
      "                                                'num_tl_120dpd_2m',\n",
      "                                                'num_tl_30dpd',\n",
      "                                                'num_tl_90g_dpd_24m',\n",
      "                                                'pct_tl_nvr_dlq',\n",
      "                                                'percent_bc_gt_75',\n",
      "                                                'pub_rec_bankruptcies',\n",
      "                                                'tax_liens',\n",
      "                                                'total_il_high_credit_limit',\n",
      "                                                'month_sin',\n",
      "                                                'month_cos',\n",
      "                                                'emp_title',\n",
      "                                                'emp_length',\n",
      "                                                'zip_code',\n",
      "                                                'pymnt_plan_n',\n",
      "                                                'disbursement_method_Cash']}\n"
     ]
    }
   ],
   "source": [
    "for model in models.models.values():\n",
    "    pprint (model.name)\n",
    "    pprint(model.best_params)"
   ]
  },
  {
   "cell_type": "markdown",
   "metadata": {},
   "source": [
    "The Gradient Boosting Decision Tree (GBDT) algorithm was identified as the most suitable choice. The best LightGBM model exhibited specific hyperparameters:\n",
    "\n",
    "1. A large number of minimum leaves: The model employed 2050 minimum leaves, indicating a relatively complex tree structure.\n",
    "\n",
    "2. Feature Removal: A total of 40 features were removed from the dataset as part of the feature selection process.\n",
    "\n",
    "3. Slow Learning Rate: A learning rate of 0.06 was utilized.\n",
    "\n",
    "4. A Large Number of Estimators: The model employed 204 estimators.\n"
   ]
  },
  {
   "cell_type": "markdown",
   "metadata": {},
   "source": [
    "#### Model Selection"
   ]
  },
  {
   "cell_type": "markdown",
   "metadata": {},
   "source": [
    "##### Testing the models:"
   ]
  },
  {
   "cell_type": "code",
   "execution_count": 29,
   "metadata": {},
   "outputs": [
    {
     "name": "stdout",
     "output_type": "stream",
     "text": [
      "              precision    recall  f1-score   support\n",
      "\n",
      "           1       0.65      0.72      0.68     72529\n",
      "           2       0.48      0.55      0.51    121365\n",
      "           3       0.53      0.35      0.42    130148\n",
      "           4       0.26      0.29      0.27     50567\n",
      "           5       0.17      0.30      0.22     17982\n",
      "           6       0.14      0.18      0.16      5509\n",
      "           7       0.24      0.02      0.03      3054\n",
      "\n",
      "    accuracy                           0.46    401154\n",
      "   macro avg       0.35      0.34      0.33    401154\n",
      "weighted avg       0.48      0.46      0.46    401154\n",
      "\n",
      "              precision    recall  f1-score   support\n",
      "\n",
      "           1       0.60      0.64      0.62     72529\n",
      "           2       0.43      0.54      0.48    121365\n",
      "           3       0.45      0.51      0.48    130148\n",
      "           4       0.25      0.06      0.10     50567\n",
      "           5       0.16      0.04      0.06     17982\n",
      "           6       0.17      0.04      0.06      5509\n",
      "           7       0.08      0.15      0.11      3054\n",
      "\n",
      "    accuracy                           0.46    401154\n",
      "   macro avg       0.31      0.28      0.27    401154\n",
      "weighted avg       0.43      0.46      0.43    401154\n",
      "\n"
     ]
    }
   ],
   "source": [
    "for model in models.models.values():\n",
    "    model.pipeline.fit(X_train_single,y_train_single)\n",
    "\n",
    "preds_lgbm=models.models['lgbm_grade_single'].pipeline.predict(X_val_single)\n",
    "preds_dtree=models.models['tree_grade_single'].pipeline.predict(X_val_single)\n",
    "print(classification_report(y_val_single,preds_lgbm))\n",
    "print(classification_report(y_val_single,preds_dtree))"
   ]
  },
  {
   "cell_type": "markdown",
   "metadata": {},
   "source": [
    "Both the decision tree and the LightGBM model achieved an identical accuracy of 46%. However, the LightGBM model outperformed the decision tree in terms of average precision and recall. This indicates that the LightGBM model exhibits a better ability to distinguish and classify the rarer classes within the dataset, therefore it was chosen as the better model."
   ]
  },
  {
   "cell_type": "code",
   "execution_count": 30,
   "metadata": {},
   "outputs": [],
   "source": [
    "best_pipeline_single=models.models['lgbm_grade_single'].pipeline"
   ]
  },
  {
   "cell_type": "markdown",
   "metadata": {},
   "source": [
    "##### Feature importance based on SHAP values:"
   ]
  },
  {
   "cell_type": "code",
   "execution_count": 31,
   "metadata": {},
   "outputs": [
    {
     "name": "stderr",
     "output_type": "stream",
     "text": [
      "100%|===================| 3499/3500 [55:49<00:00]        "
     ]
    },
    {
     "data": {
      "image/png": "[encoded data removed]",
      "text/plain": [
       "<Figure size 800x550 with 1 Axes>"
      ]
     },
     "metadata": {},
     "output_type": "display_data"
    }
   ],
   "source": [
    "names = (\n",
    "    models.models[\"lgbm_grade_single\"]\n",
    "    .pipeline[\"preprocess\"]\n",
    "    .transform(X_val_single.sample(500, seed=1))\n",
    "    .columns\n",
    ")\n",
    "explainer_tree = shap.TreeExplainer(\n",
    "    best_pipeline_single.pipeline[\"model\"],\n",
    "    data=best_pipeline_single\n",
    "    .pipeline[\"preprocess\"]\n",
    "    .transform((X_val_single.sample(500, seed=1)))\n",
    "    .to_numpy(),\n",
    "    model_output=\"raw\",\n",
    ")\n",
    "\n",
    "shap_values = explainer_tree.shap_values(\n",
    "    best_pipeline_single\n",
    "    .pipeline[\"preprocess\"]\n",
    "    .transform(X_val_single.sample(500, seed=1))\n",
    "    .to_numpy()\n",
    ")\n",
    "\n",
    "shap.summary_plot(\n",
    "    shap_values,\n",
    "    best_pipeline_single\n",
    "    .pipeline[\"preprocess\"]\n",
    "    .transform(X_val_single.sample(10000, seed=1))\n",
    "    .to_numpy(),\n",
    "    feature_names=names,\n",
    "    class_names={0: \"A\", 1: \"B\", 2: \"C\", 3: \"D\", 4: \"E\", 5: \"F\", 6: \"G\"},\n",
    "    max_display=10,\n",
    ")"
   ]
  },
  {
   "cell_type": "markdown",
   "metadata": {},
   "source": [
    "According to SHAP, the most influential features in determining the model's predictions were:\n",
    "\n",
    "1. Term of the loan.\n",
    "\n",
    "2. FICO range: The range of the applicant's FICO credit score.\n",
    "\n",
    "3. Loan amount (loan_amnt).\n",
    "\n",
    "4. Annual income (annual_inc).\n",
    "\n",
    "5. Debt-to-Income ratio (DTI).\n"
   ]
  },
  {
   "cell_type": "markdown",
   "metadata": {},
   "source": [
    "#### Final Testing"
   ]
  },
  {
   "cell_type": "code",
   "execution_count": 35,
   "metadata": {},
   "outputs": [
    {
     "data": {
      "text/html": [
       "<style>#sk-container-id-3 {color: black;}#sk-container-id-3 pre{padding: 0;}#sk-container-id-3 div.sk-toggleable {background-color: white;}#sk-container-id-3 label.sk-toggleable__label {cursor: pointer;display: block;width: 100%;margin-bottom: 0;padding: 0.3em;box-sizing: border-box;text-align: center;}#sk-container-id-3 label.sk-toggleable__label-arrow:before {content: \"▸\";float: left;margin-right: 0.25em;color: #696969;}#sk-container-id-3 label.sk-toggleable__label-arrow:hover:before {color: black;}#sk-container-id-3 div.sk-estimator:hover label.sk-toggleable__label-arrow:before {color: black;}#sk-container-id-3 div.sk-toggleable__content {max-height: 0;max-width: 0;overflow: hidden;text-align: left;background-color: #f0f8ff;}#sk-container-id-3 div.sk-toggleable__content pre {margin: 0.2em;color: black;border-radius: 0.25em;background-color: #f0f8ff;}#sk-container-id-3 input.sk-toggleable__control:checked~div.sk-toggleable__content {max-height: 200px;max-width: 100%;overflow: auto;}#sk-container-id-3 input.sk-toggleable__control:checked~label.sk-toggleable__label-arrow:before {content: \"▾\";}#sk-container-id-3 div.sk-estimator input.sk-toggleable__control:checked~label.sk-toggleable__label {background-color: #d4ebff;}#sk-container-id-3 div.sk-label input.sk-toggleable__control:checked~label.sk-toggleable__label {background-color: #d4ebff;}#sk-container-id-3 input.sk-hidden--visually {border: 0;clip: rect(1px 1px 1px 1px);clip: rect(1px, 1px, 1px, 1px);height: 1px;margin: -1px;overflow: hidden;padding: 0;position: absolute;width: 1px;}#sk-container-id-3 div.sk-estimator {font-family: monospace;background-color: #f0f8ff;border: 1px dotted black;border-radius: 0.25em;box-sizing: border-box;margin-bottom: 0.5em;}#sk-container-id-3 div.sk-estimator:hover {background-color: #d4ebff;}#sk-container-id-3 div.sk-parallel-item::after {content: \"\";width: 100%;border-bottom: 1px solid gray;flex-grow: 1;}#sk-container-id-3 div.sk-label:hover label.sk-toggleable__label {background-color: #d4ebff;}#sk-container-id-3 div.sk-serial::before {content: \"\";position: absolute;border-left: 1px solid gray;box-sizing: border-box;top: 0;bottom: 0;left: 50%;z-index: 0;}#sk-container-id-3 div.sk-serial {display: flex;flex-direction: column;align-items: center;background-color: white;padding-right: 0.2em;padding-left: 0.2em;position: relative;}#sk-container-id-3 div.sk-item {position: relative;z-index: 1;}#sk-container-id-3 div.sk-parallel {display: flex;align-items: stretch;justify-content: center;background-color: white;position: relative;}#sk-container-id-3 div.sk-item::before, #sk-container-id-3 div.sk-parallel-item::before {content: \"\";position: absolute;border-left: 1px solid gray;box-sizing: border-box;top: 0;bottom: 0;left: 50%;z-index: -1;}#sk-container-id-3 div.sk-parallel-item {display: flex;flex-direction: column;z-index: 1;position: relative;background-color: white;}#sk-container-id-3 div.sk-parallel-item:first-child::after {align-self: flex-end;width: 50%;}#sk-container-id-3 div.sk-parallel-item:last-child::after {align-self: flex-start;width: 50%;}#sk-container-id-3 div.sk-parallel-item:only-child::after {width: 0;}#sk-container-id-3 div.sk-dashed-wrapped {border: 1px dashed gray;margin: 0 0.4em 0.5em 0.4em;box-sizing: border-box;padding-bottom: 0.4em;background-color: white;}#sk-container-id-3 div.sk-label label {font-family: monospace;font-weight: bold;display: inline-block;line-height: 1.2em;}#sk-container-id-3 div.sk-label-container {text-align: center;}#sk-container-id-3 div.sk-container {/* jupyter's `normalize.less` sets `[hidden] { display: none; }` but bootstrap.min.css set `[hidden] { display: none !important; }` so we also need the `!important` here to be able to override the default hidden behavior on the sphinx rendered scikit-learn.org. See: https://github.com/scikit-learn/scikit-learn/issues/21755 */display: inline-block !important;position: relative;}#sk-container-id-3 div.sk-text-repr-fallback {display: none;}</style><div id=\"sk-container-id-3\" class=\"sk-top-container\"><div class=\"sk-text-repr-fallback\"><pre>LGBMClassifier(bagging_freq=9, class_weight=&#x27;balanced&#x27;,\n",
       "               colsample_bytree=0.6849549665551705, force_col_wise=True,\n",
       "               learning_rate=0.0558509334178991, max_bin=40, max_depth=33,\n",
       "               n_estimators=204, num_leaves=2051, num_threads=3,\n",
       "               objective=&#x27;multiclass&#x27;, random_state=1,\n",
       "               reg_alpha=0.0010009764783985519, reg_lambda=43.90677880592865,\n",
       "               subsample=0.9796606370081837, verbose=-1)</pre><b>In a Jupyter environment, please rerun this cell to show the HTML representation or trust the notebook. <br />On GitHub, the HTML representation is unable to render, please try loading this page with nbviewer.org.</b></div><div class=\"sk-container\" hidden><div class=\"sk-item\"><div class=\"sk-estimator sk-toggleable\"><input class=\"sk-toggleable__control sk-hidden--visually\" id=\"sk-estimator-id-9\" type=\"checkbox\" checked><label for=\"sk-estimator-id-9\" class=\"sk-toggleable__label sk-toggleable__label-arrow\">LGBMClassifier</label><div class=\"sk-toggleable__content\"><pre>LGBMClassifier(bagging_freq=9, class_weight=&#x27;balanced&#x27;,\n",
       "               colsample_bytree=0.6849549665551705, force_col_wise=True,\n",
       "               learning_rate=0.0558509334178991, max_bin=40, max_depth=33,\n",
       "               n_estimators=204, num_leaves=2051, num_threads=3,\n",
       "               objective=&#x27;multiclass&#x27;, random_state=1,\n",
       "               reg_alpha=0.0010009764783985519, reg_lambda=43.90677880592865,\n",
       "               subsample=0.9796606370081837, verbose=-1)</pre></div></div></div></div></div>"
      ],
      "text/plain": [
       "LGBMClassifier(bagging_freq=9, class_weight='balanced',\n",
       "               colsample_bytree=0.6849549665551705, force_col_wise=True,\n",
       "               learning_rate=0.0558509334178991, max_bin=40, max_depth=33,\n",
       "               n_estimators=204, num_leaves=2051, num_threads=3,\n",
       "               objective='multiclass', random_state=1,\n",
       "               reg_alpha=0.0010009764783985519, reg_lambda=43.90677880592865,\n",
       "               subsample=0.9796606370081837, verbose=-1)"
      ]
     },
     "execution_count": 35,
     "metadata": {},
     "output_type": "execute_result"
    }
   ],
   "source": [
    "best_pipeline_single['model'].set_params(**{'num_threads':3})"
   ]
  },
  {
   "cell_type": "markdown",
   "metadata": {},
   "source": [
    "##### Training the model on the validation and training set combined:"
   ]
  },
  {
   "cell_type": "code",
   "execution_count": 33,
   "metadata": {},
   "outputs": [
    {
     "data": {
      "text/html": [
       "<style>#sk-container-id-2 {color: black;}#sk-container-id-2 pre{padding: 0;}#sk-container-id-2 div.sk-toggleable {background-color: white;}#sk-container-id-2 label.sk-toggleable__label {cursor: pointer;display: block;width: 100%;margin-bottom: 0;padding: 0.3em;box-sizing: border-box;text-align: center;}#sk-container-id-2 label.sk-toggleable__label-arrow:before {content: \"▸\";float: left;margin-right: 0.25em;color: #696969;}#sk-container-id-2 label.sk-toggleable__label-arrow:hover:before {color: black;}#sk-container-id-2 div.sk-estimator:hover label.sk-toggleable__label-arrow:before {color: black;}#sk-container-id-2 div.sk-toggleable__content {max-height: 0;max-width: 0;overflow: hidden;text-align: left;background-color: #f0f8ff;}#sk-container-id-2 div.sk-toggleable__content pre {margin: 0.2em;color: black;border-radius: 0.25em;background-color: #f0f8ff;}#sk-container-id-2 input.sk-toggleable__control:checked~div.sk-toggleable__content {max-height: 200px;max-width: 100%;overflow: auto;}#sk-container-id-2 input.sk-toggleable__control:checked~label.sk-toggleable__label-arrow:before {content: \"▾\";}#sk-container-id-2 div.sk-estimator input.sk-toggleable__control:checked~label.sk-toggleable__label {background-color: #d4ebff;}#sk-container-id-2 div.sk-label input.sk-toggleable__control:checked~label.sk-toggleable__label {background-color: #d4ebff;}#sk-container-id-2 input.sk-hidden--visually {border: 0;clip: rect(1px 1px 1px 1px);clip: rect(1px, 1px, 1px, 1px);height: 1px;margin: -1px;overflow: hidden;padding: 0;position: absolute;width: 1px;}#sk-container-id-2 div.sk-estimator {font-family: monospace;background-color: #f0f8ff;border: 1px dotted black;border-radius: 0.25em;box-sizing: border-box;margin-bottom: 0.5em;}#sk-container-id-2 div.sk-estimator:hover {background-color: #d4ebff;}#sk-container-id-2 div.sk-parallel-item::after {content: \"\";width: 100%;border-bottom: 1px solid gray;flex-grow: 1;}#sk-container-id-2 div.sk-label:hover label.sk-toggleable__label {background-color: #d4ebff;}#sk-container-id-2 div.sk-serial::before {content: \"\";position: absolute;border-left: 1px solid gray;box-sizing: border-box;top: 0;bottom: 0;left: 50%;z-index: 0;}#sk-container-id-2 div.sk-serial {display: flex;flex-direction: column;align-items: center;background-color: white;padding-right: 0.2em;padding-left: 0.2em;position: relative;}#sk-container-id-2 div.sk-item {position: relative;z-index: 1;}#sk-container-id-2 div.sk-parallel {display: flex;align-items: stretch;justify-content: center;background-color: white;position: relative;}#sk-container-id-2 div.sk-item::before, #sk-container-id-2 div.sk-parallel-item::before {content: \"\";position: absolute;border-left: 1px solid gray;box-sizing: border-box;top: 0;bottom: 0;left: 50%;z-index: -1;}#sk-container-id-2 div.sk-parallel-item {display: flex;flex-direction: column;z-index: 1;position: relative;background-color: white;}#sk-container-id-2 div.sk-parallel-item:first-child::after {align-self: flex-end;width: 50%;}#sk-container-id-2 div.sk-parallel-item:last-child::after {align-self: flex-start;width: 50%;}#sk-container-id-2 div.sk-parallel-item:only-child::after {width: 0;}#sk-container-id-2 div.sk-dashed-wrapped {border: 1px dashed gray;margin: 0 0.4em 0.5em 0.4em;box-sizing: border-box;padding-bottom: 0.4em;background-color: white;}#sk-container-id-2 div.sk-label label {font-family: monospace;font-weight: bold;display: inline-block;line-height: 1.2em;}#sk-container-id-2 div.sk-label-container {text-align: center;}#sk-container-id-2 div.sk-container {/* jupyter's `normalize.less` sets `[hidden] { display: none; }` but bootstrap.min.css set `[hidden] { display: none !important; }` so we also need the `!important` here to be able to override the default hidden behavior on the sphinx rendered scikit-learn.org. See: https://github.com/scikit-learn/scikit-learn/issues/21755 */display: inline-block !important;position: relative;}#sk-container-id-2 div.sk-text-repr-fallback {display: none;}</style><div id=\"sk-container-id-2\" class=\"sk-top-container\"><div class=\"sk-text-repr-fallback\"><pre>Pipeline(steps=[(&#x27;preprocess&#x27;,\n",
       "                 Pipeline(steps=[(&#x27;imputers&#x27;,\n",
       "                                  PolarsColumnTransformer(steps=OrderedDict([(&#x27;emp_title&#x27;,\n",
       "                                                                              &lt;functions.transformers.PolarsColumnTransformer.Step object at 0x7f5e17ac79d0&gt;),\n",
       "                                                                             (&#x27;emp_length&#x27;,\n",
       "                                                                              &lt;functions.transformers.PolarsColumnTransformer.Step object at 0x7f5e17ac74f0&gt;),\n",
       "                                                                             (&#x27;zip_code&#x27;,\n",
       "                                                                              &lt;functions.transformers.PolarsColumnTransformer.Step obje...\n",
       "                 LGBMClassifier(bagging_freq=9, class_weight=&#x27;balanced&#x27;,\n",
       "                                colsample_bytree=0.6849549665551705,\n",
       "                                force_col_wise=True,\n",
       "                                learning_rate=0.0558509334178991, max_bin=40,\n",
       "                                max_depth=33, n_estimators=204, num_leaves=2051,\n",
       "                                num_threads=2, objective=&#x27;multiclass&#x27;,\n",
       "                                random_state=1, reg_alpha=0.0010009764783985519,\n",
       "                                reg_lambda=43.90677880592865,\n",
       "                                subsample=0.9796606370081837, verbose=-1))])</pre><b>In a Jupyter environment, please rerun this cell to show the HTML representation or trust the notebook. <br />On GitHub, the HTML representation is unable to render, please try loading this page with nbviewer.org.</b></div><div class=\"sk-container\" hidden><div class=\"sk-item sk-dashed-wrapped\"><div class=\"sk-label-container\"><div class=\"sk-label sk-toggleable\"><input class=\"sk-toggleable__control sk-hidden--visually\" id=\"sk-estimator-id-2\" type=\"checkbox\" ><label for=\"sk-estimator-id-2\" class=\"sk-toggleable__label sk-toggleable__label-arrow\">Pipeline</label><div class=\"sk-toggleable__content\"><pre>Pipeline(steps=[(&#x27;preprocess&#x27;,\n",
       "                 Pipeline(steps=[(&#x27;imputers&#x27;,\n",
       "                                  PolarsColumnTransformer(steps=OrderedDict([(&#x27;emp_title&#x27;,\n",
       "                                                                              &lt;functions.transformers.PolarsColumnTransformer.Step object at 0x7f5e17ac79d0&gt;),\n",
       "                                                                             (&#x27;emp_length&#x27;,\n",
       "                                                                              &lt;functions.transformers.PolarsColumnTransformer.Step object at 0x7f5e17ac74f0&gt;),\n",
       "                                                                             (&#x27;zip_code&#x27;,\n",
       "                                                                              &lt;functions.transformers.PolarsColumnTransformer.Step obje...\n",
       "                 LGBMClassifier(bagging_freq=9, class_weight=&#x27;balanced&#x27;,\n",
       "                                colsample_bytree=0.6849549665551705,\n",
       "                                force_col_wise=True,\n",
       "                                learning_rate=0.0558509334178991, max_bin=40,\n",
       "                                max_depth=33, n_estimators=204, num_leaves=2051,\n",
       "                                num_threads=2, objective=&#x27;multiclass&#x27;,\n",
       "                                random_state=1, reg_alpha=0.0010009764783985519,\n",
       "                                reg_lambda=43.90677880592865,\n",
       "                                subsample=0.9796606370081837, verbose=-1))])</pre></div></div></div><div class=\"sk-serial\"><div class=\"sk-item\"><div class=\"sk-label-container\"><div class=\"sk-label sk-toggleable\"><input class=\"sk-toggleable__control sk-hidden--visually\" id=\"sk-estimator-id-3\" type=\"checkbox\" ><label for=\"sk-estimator-id-3\" class=\"sk-toggleable__label sk-toggleable__label-arrow\">preprocess: Pipeline</label><div class=\"sk-toggleable__content\"><pre>Pipeline(steps=[(&#x27;imputers&#x27;,\n",
       "                 PolarsColumnTransformer(steps=OrderedDict([(&#x27;emp_title&#x27;,\n",
       "                                                             &lt;functions.transformers.PolarsColumnTransformer.Step object at 0x7f5e17ac79d0&gt;),\n",
       "                                                            (&#x27;emp_length&#x27;,\n",
       "                                                             &lt;functions.transformers.PolarsColumnTransformer.Step object at 0x7f5e17ac74f0&gt;),\n",
       "                                                            (&#x27;zip_code&#x27;,\n",
       "                                                             &lt;functions.transformers.PolarsColumnTransformer.Step object at 0x7f5e166eb790&gt;)]))),\n",
       "                (&#x27;enc...\n",
       "                                               &#x27;open_act_il&#x27;, &#x27;open_il_12m&#x27;,\n",
       "                                               &#x27;open_il_24m&#x27;, &#x27;total_bal_il&#x27;,\n",
       "                                               &#x27;open_rv_12m&#x27;, &#x27;open_rv_24m&#x27;,\n",
       "                                               &#x27;inq_fi&#x27;, &#x27;total_cu_tl&#x27;,\n",
       "                                               &#x27;inq_last_12m&#x27;,\n",
       "                                               &#x27;chargeoff_within_12_mths&#x27;,\n",
       "                                               &#x27;delinq_amnt&#x27;, &#x27;mort_acc&#x27;,\n",
       "                                               &#x27;mths_since_recent_bc_dlq&#x27;,\n",
       "                                               &#x27;mths_since_recent_revol_delinq&#x27;,\n",
       "                                               &#x27;num_accts_ever_120_pd&#x27;,\n",
       "                                               &#x27;num_actv_bc_tl&#x27;,\n",
       "                                               &#x27;num_actv_rev_tl&#x27;, &#x27;num_bc_sats&#x27;,\n",
       "                                               &#x27;num_bc_tl&#x27;, &#x27;num_op_rev_tl&#x27;,\n",
       "                                               &#x27;num_rev_tl_bal_gt_0&#x27;, ...]))])</pre></div></div></div><div class=\"sk-serial\"><div class=\"sk-item\"><div class=\"sk-estimator sk-toggleable\"><input class=\"sk-toggleable__control sk-hidden--visually\" id=\"sk-estimator-id-4\" type=\"checkbox\" ><label for=\"sk-estimator-id-4\" class=\"sk-toggleable__label sk-toggleable__label-arrow\">PolarsColumnTransformer</label><div class=\"sk-toggleable__content\"><pre>PolarsColumnTransformer(steps=OrderedDict([(&#x27;emp_title&#x27;,\n",
       "                                            &lt;functions.transformers.PolarsColumnTransformer.Step object at 0x7f5e17ac79d0&gt;),\n",
       "                                           (&#x27;emp_length&#x27;,\n",
       "                                            &lt;functions.transformers.PolarsColumnTransformer.Step object at 0x7f5e17ac74f0&gt;),\n",
       "                                           (&#x27;zip_code&#x27;,\n",
       "                                            &lt;functions.transformers.PolarsColumnTransformer.Step object at 0x7f5e166eb790&gt;)]))</pre></div></div></div><div class=\"sk-item\"><div class=\"sk-estimator sk-toggleable\"><input class=\"sk-toggleable__control sk-hidden--visually\" id=\"sk-estimator-id-5\" type=\"checkbox\" ><label for=\"sk-estimator-id-5\" class=\"sk-toggleable__label sk-toggleable__label-arrow\">PolarsColumnTransformer</label><div class=\"sk-toggleable__content\"><pre>PolarsColumnTransformer(steps=OrderedDict([(&#x27;emp_t_enc&#x27;,\n",
       "                                            &lt;functions.transformers.PolarsColumnTransformer.Step object at 0x7f5f8f483ee0&gt;),\n",
       "                                           (&#x27;emp_l_enc&#x27;,\n",
       "                                            &lt;functions.transformers.PolarsColumnTransformer.Step object at 0x7f5f8f483cd0&gt;),\n",
       "                                           (&#x27;home_enc&#x27;,\n",
       "                                            &lt;functions.transformers.PolarsColumnTransformer.Step object at 0x7f5f8f483040&gt;),\n",
       "                                           (&#x27;verif_enc&#x27;,\n",
       "                                            &lt;functions.transformers.P...\n",
       "                                            &lt;functions.transformers.PolarsColumnTransformer.Step object at 0x7f5f8f483790&gt;),\n",
       "                                           (&#x27;init_stat_enc&#x27;,\n",
       "                                            &lt;functions.transformers.PolarsColumnTransformer.Step object at 0x7f5f8f483850&gt;),\n",
       "                                           (&#x27;disbursement_enc&#x27;,\n",
       "                                            &lt;functions.transformers.PolarsColumnTransformer.Step object at 0x7f5f8f4838b0&gt;),\n",
       "                                           (&#x27;year_enc&#x27;,\n",
       "                                            &lt;functions.transformers.PolarsColumnTransformer.Step object at 0x7f5f8f483880&gt;)]))</pre></div></div></div><div class=\"sk-item\"><div class=\"sk-estimator sk-toggleable\"><input class=\"sk-toggleable__control sk-hidden--visually\" id=\"sk-estimator-id-6\" type=\"checkbox\" ><label for=\"sk-estimator-id-6\" class=\"sk-toggleable__label sk-toggleable__label-arrow\">PolarsNullImputer</label><div class=\"sk-toggleable__content\"><pre>PolarsNullImputer(fill_value=-9)</pre></div></div></div><div class=\"sk-item\"><div class=\"sk-estimator sk-toggleable\"><input class=\"sk-toggleable__control sk-hidden--visually\" id=\"sk-estimator-id-7\" type=\"checkbox\" ><label for=\"sk-estimator-id-7\" class=\"sk-toggleable__label sk-toggleable__label-arrow\">FeatureRemover</label><div class=\"sk-toggleable__content\"><pre>FeatureRemover(feats_to_drop=[&#x27;home_ownership&#x27;, &#x27;delinq_2yrs&#x27;,\n",
       "                              &#x27;fico_range_high&#x27;, &#x27;mths_since_last_record&#x27;,\n",
       "                              &#x27;pub_rec&#x27;, &#x27;last_fico_range_low&#x27;,\n",
       "                              &#x27;mths_since_last_major_derog&#x27;, &#x27;acc_now_delinq&#x27;,\n",
       "                              &#x27;open_acc_6m&#x27;, &#x27;open_act_il&#x27;, &#x27;open_il_12m&#x27;,\n",
       "                              &#x27;open_il_24m&#x27;, &#x27;total_bal_il&#x27;, &#x27;open_rv_12m&#x27;,\n",
       "                              &#x27;open_rv_24m&#x27;, &#x27;inq_fi&#x27;, &#x27;total_cu_tl&#x27;,\n",
       "                              &#x27;inq_last_12m&#x27;, &#x27;chargeoff_within_12_mths&#x27;,\n",
       "                              &#x27;delinq_amnt&#x27;, &#x27;mort_acc&#x27;,\n",
       "                              &#x27;mths_since_recent_bc_dlq&#x27;,\n",
       "                              &#x27;mths_since_recent_revol_delinq&#x27;,\n",
       "                              &#x27;num_accts_ever_120_pd&#x27;, &#x27;num_actv_bc_tl&#x27;,\n",
       "                              &#x27;num_actv_rev_tl&#x27;, &#x27;num_bc_sats&#x27;, &#x27;num_bc_tl&#x27;,\n",
       "                              &#x27;num_op_rev_tl&#x27;, &#x27;num_rev_tl_bal_gt_0&#x27;, ...])</pre></div></div></div></div></div><div class=\"sk-item\"><div class=\"sk-estimator sk-toggleable\"><input class=\"sk-toggleable__control sk-hidden--visually\" id=\"sk-estimator-id-8\" type=\"checkbox\" ><label for=\"sk-estimator-id-8\" class=\"sk-toggleable__label sk-toggleable__label-arrow\">LGBMClassifier</label><div class=\"sk-toggleable__content\"><pre>LGBMClassifier(bagging_freq=9, class_weight=&#x27;balanced&#x27;,\n",
       "               colsample_bytree=0.6849549665551705, force_col_wise=True,\n",
       "               learning_rate=0.0558509334178991, max_bin=40, max_depth=33,\n",
       "               n_estimators=204, num_leaves=2051, num_threads=2,\n",
       "               objective=&#x27;multiclass&#x27;, random_state=1,\n",
       "               reg_alpha=0.0010009764783985519, reg_lambda=43.90677880592865,\n",
       "               subsample=0.9796606370081837, verbose=-1)</pre></div></div></div></div></div></div></div>"
      ],
      "text/plain": [
       "Pipeline(steps=[('preprocess',\n",
       "                 Pipeline(steps=[('imputers',\n",
       "                                  PolarsColumnTransformer(steps=OrderedDict([('emp_title',\n",
       "                                                                              <functions.transformers.PolarsColumnTransformer.Step object at 0x7f5e17ac79d0>),\n",
       "                                                                             ('emp_length',\n",
       "                                                                              <functions.transformers.PolarsColumnTransformer.Step object at 0x7f5e17ac74f0>),\n",
       "                                                                             ('zip_code',\n",
       "                                                                              <functions.transformers.PolarsColumnTransformer.Step obje...\n",
       "                 LGBMClassifier(bagging_freq=9, class_weight='balanced',\n",
       "                                colsample_bytree=0.6849549665551705,\n",
       "                                force_col_wise=True,\n",
       "                                learning_rate=0.0558509334178991, max_bin=40,\n",
       "                                max_depth=33, n_estimators=204, num_leaves=2051,\n",
       "                                num_threads=2, objective='multiclass',\n",
       "                                random_state=1, reg_alpha=0.0010009764783985519,\n",
       "                                reg_lambda=43.90677880592865,\n",
       "                                subsample=0.9796606370081837, verbose=-1))])"
      ]
     },
     "execution_count": 33,
     "metadata": {},
     "output_type": "execute_result"
    }
   ],
   "source": [
    "best_pipeline_single.fit(X_train_single.vstack(X_val_single),pl.concat([y_train_single,y_val_single]))"
   ]
  },
  {
   "cell_type": "markdown",
   "metadata": {},
   "source": [
    "##### Classification report of results on test data from the newest time range:"
   ]
  },
  {
   "cell_type": "code",
   "execution_count": 34,
   "metadata": {},
   "outputs": [
    {
     "name": "stdout",
     "output_type": "stream",
     "text": [
      "              precision    recall  f1-score   support\n",
      "\n",
      "           1       0.79      0.51      0.62    119923\n",
      "           2       0.41      0.47      0.43    121995\n",
      "           3       0.38      0.41      0.39    108373\n",
      "           4       0.28      0.24      0.26     57923\n",
      "           5       0.14      0.25      0.18     15356\n",
      "           6       0.05      0.29      0.09      2266\n",
      "           7       0.00      0.01      0.01       421\n",
      "\n",
      "    accuracy                           0.42    426257\n",
      "   macro avg       0.29      0.31      0.28    426257\n",
      "weighted avg       0.48      0.42      0.44    426257\n",
      "\n"
     ]
    }
   ],
   "source": [
    "preds_single_final=best_pipeline_single.predict(X_test_single)\n",
    "print(classification_report(y_test_single,preds_single_final))"
   ]
  },
  {
   "cell_type": "markdown",
   "metadata": {},
   "source": [
    "When testing the model on the final test set, which was collected from the most recent time range, the observed 3% decrease in accuracy, along with other metric changes, is likely attributable to a combination of two main factors:\n",
    "\n",
    "1. **Overfitting:** The model may have become overfitted to the training data, resulting in a decrease in its generalization performance on unseen data. Overfitting occurs when the model captures noise or specific patterns in the training data that do not generalize well to new, unseen data.\n",
    "\n",
    "2. **Changing Trends:** External factors, such as changes in central bank interest rates and shifts in the popularity or dynamics of the lending platform, can introduce variability and complexity into the data. These evolving trends and external factors may not have been adequately accounted for during model training.\n",
    "\n"
   ]
  },
  {
   "cell_type": "markdown",
   "metadata": {},
   "source": [
    "##### Exporting the final model:"
   ]
  },
  {
   "cell_type": "code",
   "execution_count": 36,
   "metadata": {},
   "outputs": [
    {
     "data": {
      "text/plain": [
       "['trained_models/model_single_grade.joblib']"
      ]
     },
     "execution_count": 36,
     "metadata": {},
     "output_type": "execute_result"
    }
   ],
   "source": [
    "best_pipeline_single.fit(\n",
    "    X_train_single.vstack(X_val_single).vstack(X_test_single),\n",
    "    pl.concat([y_train_single, y_val_single, y_test_single]),\n",
    ")\n",
    "\n",
    "joblib.dump(best_pipeline_single, \"trained_models/model_single_grade.joblib\")"
   ]
  },
  {
   "cell_type": "markdown",
   "metadata": {},
   "source": [
    "### Joint Applications"
   ]
  },
  {
   "cell_type": "markdown",
   "metadata": {},
   "source": [
    "#### Pipeline"
   ]
  },
  {
   "cell_type": "markdown",
   "metadata": {},
   "source": [
    "##### Setting up joint application preprocessing:"
   ]
  },
  {
   "cell_type": "code",
   "execution_count": 20,
   "metadata": {},
   "outputs": [],
   "source": [
    "imputers_joint = copy.deepcopy(imputers)\n",
    "encoders_joint = copy.deepcopy(encoders)\n",
    "encoders_to_delete = [\"disbursement_enc\", \"paymnt_enc\"]\n",
    "\n",
    "for key in encoders_to_delete:\n",
    "    del encoders_joint.steps[key]\n",
    "\n",
    "verif_enc_joint = tr.TargetMeanOrderedLabeler(how=\"label\")\n",
    "\n",
    "encoders_joint.steps[\"verif_enc_joint\"] = PCT.Step(\n",
    "    \"verif_enc_joint\", verif_enc_joint, \"verification_status_joint\"\n",
    ")\n",
    "\n",
    "null_imp_joint = copy.deepcopy(null_imp)\n",
    "feature_dropper_joint = tr.FeatureRemover([])\n",
    "\n",
    "preprocess_joint = Pipeline(\n",
    "    [\n",
    "        (\"imputers\", imputers_joint),\n",
    "        (\"encoders\", encoders_joint),\n",
    "        (\"null_imputer\", null_imp_joint),\n",
    "        (\"feature_dropper\", feature_dropper_joint),\n",
    "    ]\n",
    ")\n",
    "\n",
    "model_joint = lgb.LGBMClassifier(\n",
    "    objective=\"multiclass\",\n",
    "    class_weight=\"balanced\",\n",
    "    verbose=-1,\n",
    "    force_col_wise=True,\n",
    "    random_state=1,\n",
    "    num_threads=12,\n",
    ")\n",
    "\n",
    "full_pipeline_joint = Pipeline(\n",
    "    [(\"preprocess\", preprocess_joint), (\"model\", model_joint)]\n",
    ")"
   ]
  },
  {
   "cell_type": "markdown",
   "metadata": {},
   "source": [
    "#### Feature removal"
   ]
  },
  {
   "cell_type": "markdown",
   "metadata": {},
   "source": [
    "Gathering the lists of important features using the Boruta Algorithm:"
   ]
  },
  {
   "cell_type": "markdown",
   "metadata": {},
   "source": [
    "```python\n",
    "original_columns_joint = preprocess_joint.fit_transform(\n",
    "    X_train_joint.sample(10000, seed=1), y_train_joint.sample(10000, seed=1)\n",
    ").columns\n",
    "\n",
    "boruta_selected_cols_joint = {}\n",
    "\n",
    "transformed_sample_X = preprocess_joint.fit_transform(\n",
    "    X_train_joint.sample(20000, seed=1), y_train_joint.sample(20000, seed=1)\n",
    ")\n",
    "transformed_sample_y = y_train_joint.sample(20000, seed=1)\n",
    "for perc in np.arange(stop=101, start=10, step=10):\n",
    "    boruta = tr.BorutaFeatureSelectorPolars(\n",
    "        model_joint, random_state=1, perc=perc\n",
    "    )\n",
    "\n",
    "    boruta.fit(\n",
    "        transformed_sample_X,\n",
    "        transformed_sample_y,\n",
    "    )\n",
    "    boruta_selected_cols_joint[perc] = boruta.transform(\n",
    "        preprocess_joint.fit_transform(\n",
    "            X_train_joint.sample(10000, seed=1), y_train_joint.sample(10000, seed=1)\n",
    "        )\n",
    "    ).columns\n",
    "    print(f\"{perc} calculated\")\n",
    "\n",
    "# Setting the number of threads to 1 to avoid parallelization clash with ray tune.\n",
    "model_joint = lgb.LGBMClassifier(\n",
    "    objective=\"multiclass\",\n",
    "    class_weight=\"balanced\",\n",
    "    verbose=-1,\n",
    "    force_col_wise=True,\n",
    "    random_state=1,\n",
    "    num_threads=1,\n",
    ")\n"
   ]
  },
  {
   "cell_type": "markdown",
   "metadata": {},
   "source": [
    "##### Creating lists of columns to remove:"
   ]
  },
  {
   "cell_type": "markdown",
   "metadata": {},
   "source": [
    "```python\n",
    "cols_to_drop_space_joint=[]\n",
    "for key, columns in boruta_selected_cols_joint.items():\n",
    "    cols_to_drop_space_joint.append([col for col in original_columns_joint if col not in columns])\n",
    "cols_to_drop_space_joint.insert(0,[])\n",
    "joblib.dump(cols_to_drop_space_joint,'temp/cols_to_drop_joint.joblib')\n"
   ]
  },
  {
   "cell_type": "code",
   "execution_count": 29,
   "metadata": {},
   "outputs": [],
   "source": [
    "cols_to_drop_space_joint=joblib.load('temp/cols_to_drop_joint.joblib')"
   ]
  },
  {
   "cell_type": "markdown",
   "metadata": {},
   "source": [
    "#### Tuning"
   ]
  },
  {
   "cell_type": "markdown",
   "metadata": {},
   "source": [
    "##### Parameter space:"
   ]
  },
  {
   "cell_type": "code",
   "execution_count": 24,
   "metadata": {},
   "outputs": [
    {
     "data": {
      "text/html": [
       "<style>#sk-container-id-1 {color: black;}#sk-container-id-1 pre{padding: 0;}#sk-container-id-1 div.sk-toggleable {background-color: white;}#sk-container-id-1 label.sk-toggleable__label {cursor: pointer;display: block;width: 100%;margin-bottom: 0;padding: 0.3em;box-sizing: border-box;text-align: center;}#sk-container-id-1 label.sk-toggleable__label-arrow:before {content: \"▸\";float: left;margin-right: 0.25em;color: #696969;}#sk-container-id-1 label.sk-toggleable__label-arrow:hover:before {color: black;}#sk-container-id-1 div.sk-estimator:hover label.sk-toggleable__label-arrow:before {color: black;}#sk-container-id-1 div.sk-toggleable__content {max-height: 0;max-width: 0;overflow: hidden;text-align: left;background-color: #f0f8ff;}#sk-container-id-1 div.sk-toggleable__content pre {margin: 0.2em;color: black;border-radius: 0.25em;background-color: #f0f8ff;}#sk-container-id-1 input.sk-toggleable__control:checked~div.sk-toggleable__content {max-height: 200px;max-width: 100%;overflow: auto;}#sk-container-id-1 input.sk-toggleable__control:checked~label.sk-toggleable__label-arrow:before {content: \"▾\";}#sk-container-id-1 div.sk-estimator input.sk-toggleable__control:checked~label.sk-toggleable__label {background-color: #d4ebff;}#sk-container-id-1 div.sk-label input.sk-toggleable__control:checked~label.sk-toggleable__label {background-color: #d4ebff;}#sk-container-id-1 input.sk-hidden--visually {border: 0;clip: rect(1px 1px 1px 1px);clip: rect(1px, 1px, 1px, 1px);height: 1px;margin: -1px;overflow: hidden;padding: 0;position: absolute;width: 1px;}#sk-container-id-1 div.sk-estimator {font-family: monospace;background-color: #f0f8ff;border: 1px dotted black;border-radius: 0.25em;box-sizing: border-box;margin-bottom: 0.5em;}#sk-container-id-1 div.sk-estimator:hover {background-color: #d4ebff;}#sk-container-id-1 div.sk-parallel-item::after {content: \"\";width: 100%;border-bottom: 1px solid gray;flex-grow: 1;}#sk-container-id-1 div.sk-label:hover label.sk-toggleable__label {background-color: #d4ebff;}#sk-container-id-1 div.sk-serial::before {content: \"\";position: absolute;border-left: 1px solid gray;box-sizing: border-box;top: 0;bottom: 0;left: 50%;z-index: 0;}#sk-container-id-1 div.sk-serial {display: flex;flex-direction: column;align-items: center;background-color: white;padding-right: 0.2em;padding-left: 0.2em;position: relative;}#sk-container-id-1 div.sk-item {position: relative;z-index: 1;}#sk-container-id-1 div.sk-parallel {display: flex;align-items: stretch;justify-content: center;background-color: white;position: relative;}#sk-container-id-1 div.sk-item::before, #sk-container-id-1 div.sk-parallel-item::before {content: \"\";position: absolute;border-left: 1px solid gray;box-sizing: border-box;top: 0;bottom: 0;left: 50%;z-index: -1;}#sk-container-id-1 div.sk-parallel-item {display: flex;flex-direction: column;z-index: 1;position: relative;background-color: white;}#sk-container-id-1 div.sk-parallel-item:first-child::after {align-self: flex-end;width: 50%;}#sk-container-id-1 div.sk-parallel-item:last-child::after {align-self: flex-start;width: 50%;}#sk-container-id-1 div.sk-parallel-item:only-child::after {width: 0;}#sk-container-id-1 div.sk-dashed-wrapped {border: 1px dashed gray;margin: 0 0.4em 0.5em 0.4em;box-sizing: border-box;padding-bottom: 0.4em;background-color: white;}#sk-container-id-1 div.sk-label label {font-family: monospace;font-weight: bold;display: inline-block;line-height: 1.2em;}#sk-container-id-1 div.sk-label-container {text-align: center;}#sk-container-id-1 div.sk-container {/* jupyter's `normalize.less` sets `[hidden] { display: none; }` but bootstrap.min.css set `[hidden] { display: none !important; }` so we also need the `!important` here to be able to override the default hidden behavior on the sphinx rendered scikit-learn.org. See: https://github.com/scikit-learn/scikit-learn/issues/21755 */display: inline-block !important;position: relative;}#sk-container-id-1 div.sk-text-repr-fallback {display: none;}</style><div id=\"sk-container-id-1\" class=\"sk-top-container\"><div class=\"sk-text-repr-fallback\"><pre>LGBMClassifier(class_weight=&#x27;balanced&#x27;, force_col_wise=True, num_threads=1,\n",
       "               objective=&#x27;multiclass&#x27;,\n",
       "               random_state=RandomState(MT19937) at 0x7F1691AA8540, verbose=-1)</pre><b>In a Jupyter environment, please rerun this cell to show the HTML representation or trust the notebook. <br />On GitHub, the HTML representation is unable to render, please try loading this page with nbviewer.org.</b></div><div class=\"sk-container\" hidden><div class=\"sk-item\"><div class=\"sk-estimator sk-toggleable\"><input class=\"sk-toggleable__control sk-hidden--visually\" id=\"sk-estimator-id-1\" type=\"checkbox\" checked><label for=\"sk-estimator-id-1\" class=\"sk-toggleable__label sk-toggleable__label-arrow\">LGBMClassifier</label><div class=\"sk-toggleable__content\"><pre>LGBMClassifier(class_weight=&#x27;balanced&#x27;, force_col_wise=True, num_threads=1,\n",
       "               objective=&#x27;multiclass&#x27;,\n",
       "               random_state=RandomState(MT19937) at 0x7F1691AA8540, verbose=-1)</pre></div></div></div></div></div>"
      ],
      "text/plain": [
       "LGBMClassifier(class_weight='balanced', force_col_wise=True, num_threads=1,\n",
       "               objective='multiclass',\n",
       "               random_state=RandomState(MT19937) at 0x7F1691AA8540, verbose=-1)"
      ]
     },
     "execution_count": 24,
     "metadata": {},
     "output_type": "execute_result"
    }
   ],
   "source": [
    "search_space_lgbm_joint = {\n",
    "    \"preprocess__feature_dropper__feats_to_drop\": tune.choice(cols_to_drop_space_joint),\n",
    "    \"model__max_depth\": tune.randint(5,40),\n",
    "    \"model__num_leaves\": tune.randint(10, 2500),\n",
    "    \"model__n_estimators\": tune.randint(10, 251),\n",
    "    \"model__learning_rate\": tune.loguniform(0.001, 0.1),\n",
    "    \"model__bagging_freq\": tune.randint(0, 11),\n",
    "    \"model__colsample_bytree\": tune.uniform(0.2, 1.0),\n",
    "    \"model__subsample\": tune.uniform(0.2, 1.0),\n",
    "    \"model__reg_alpha\": tune.loguniform(0.001, 100),\n",
    "    \"model__reg_lambda\": tune.loguniform(0.001, 100),\n",
    "    \"model__boosting_type\": tune.choice([\"gbdt\", \"dart\", \"rf\"]),\n",
    "    \"model__class_weight\": tune.choice([\"balanced\", None]),\n",
    "    \"model__max_bin\": tune.randint(5, 201),\n",
    "}\n",
    "\n",
    "joint_grade_classifier = tunes.Models.Model(\n",
    "    \"joint_grade_lgbm\",\n",
    "    pipeline=full_pipeline_joint,\n",
    "    param_grid=search_space_lgbm_joint,\n",
    "    metric_threshold=0.3,\n",
    ")\n",
    "\n",
    "joint_grade_classifier.pipeline['model'].set_params(**{'num_threads':1})"
   ]
  },
  {
   "cell_type": "markdown",
   "metadata": {},
   "source": [
    "##### Tuning the parameters:"
   ]
  },
  {
   "cell_type": "markdown",
   "metadata": {},
   "source": [
    "```python\n",
    "joint_grade_classifier.tune_model(\n",
    "    X_train_joint,\n",
    "    y_train_joint,\n",
    "    X_val_joint,\n",
    "    y_val_joint,\n",
    "    n=240,\n",
    "    sample_size=50000,\n",
    "    n_training=1,\n",
    "    average=\"macro\",\n",
    ")\n",
    "joblib.dump(joint_grade_classifier, \"temp/tuned_joint_grade.joblib\")"
   ]
  },
  {
   "cell_type": "code",
   "execution_count": 31,
   "metadata": {},
   "outputs": [],
   "source": [
    "joint_grade_classifier=joblib.load(\"temp/tuned_joint_grade.joblib\")"
   ]
  },
  {
   "cell_type": "markdown",
   "metadata": {},
   "source": [
    "##### The best parameters:"
   ]
  },
  {
   "cell_type": "code",
   "execution_count": 26,
   "metadata": {},
   "outputs": [
    {
     "data": {
      "text/plain": [
       "{'preprocess__feature_dropper__feats_to_drop': [],\n",
       " 'model__max_depth': 23,\n",
       " 'model__num_leaves': 1914,\n",
       " 'model__n_estimators': 188,\n",
       " 'model__learning_rate': 0.07073565588841094,\n",
       " 'model__bagging_freq': 6,\n",
       " 'model__colsample_bytree': 0.5167584359479642,\n",
       " 'model__subsample': 0.8708296688477901,\n",
       " 'model__reg_alpha': 12.533291967833335,\n",
       " 'model__reg_lambda': 0.00745184747969614,\n",
       " 'model__boosting_type': 'gbdt',\n",
       " 'model__class_weight': None,\n",
       " 'model__max_bin': 48}"
      ]
     },
     "execution_count": 26,
     "metadata": {},
     "output_type": "execute_result"
    }
   ],
   "source": [
    "joint_grade_classifier.best_params"
   ]
  },
  {
   "cell_type": "markdown",
   "metadata": {},
   "source": [
    "The Gradient Boosting Decision Tree (GBDT) algorithm implemented with LightGBM was chosen as the best algorithm for joint applications. It's interesting that no features were dropped, and a significant alpha regularization parameter was chosen, indicating that feature selection was accomplished primarily through regularization rather than explicit feature dropping.\n",
    "\n",
    "Introducing a time-wise performance penalty to the tuning process would be interesting. This approach can encourage the model to prefer feature dropping over heavy regularization when performance is too slow."
   ]
  },
  {
   "cell_type": "markdown",
   "metadata": {},
   "source": [
    "##### Testing the model on the validation set:"
   ]
  },
  {
   "cell_type": "code",
   "execution_count": 27,
   "metadata": {},
   "outputs": [
    {
     "name": "stdout",
     "output_type": "stream",
     "text": [
      "              precision    recall  f1-score   support\n",
      "\n",
      "           1       0.77      0.73      0.75      6153\n",
      "           2       0.53      0.54      0.53      8269\n",
      "           3       0.44      0.63      0.52      8318\n",
      "           4       0.39      0.21      0.28      4926\n",
      "           5       0.38      0.18      0.25      1511\n",
      "           6       0.27      0.10      0.15       488\n",
      "           7       0.00      0.00      0.00       137\n",
      "\n",
      "    accuracy                           0.52     29802\n",
      "   macro avg       0.40      0.34      0.35     29802\n",
      "weighted avg       0.52      0.52      0.51     29802\n",
      "\n"
     ]
    }
   ],
   "source": [
    "joint_grade_classifier.pipeline['model'].set_params(**{'num_threads':12})\n",
    "joint_grade_classifier.pipeline.fit(X_train_joint,y_train_joint)\n",
    "preds_joint_grade=joint_grade_classifier.pipeline.predict(X_val_joint)\n",
    "print(classification_report(y_val_joint,preds_joint_grade))\n"
   ]
  },
  {
   "cell_type": "markdown",
   "metadata": {},
   "source": [
    "The observation that the joint application model achieved a higher accuracy despite having significantly less data for training is likely attributable to the nature of joint applications. Joint applications are often associated with a higher creditworthiness or credit grade, which can make them easier to classify as they tend to exhibit more favorable characteristics.\n",
    "\n",
    "However, it's worth noting that the model's difficulty in correctly identifying the lowest grade loans is a significant limitation."
   ]
  },
  {
   "cell_type": "markdown",
   "metadata": {},
   "source": [
    "##### Feature importance based on SHAP values:"
   ]
  },
  {
   "cell_type": "code",
   "execution_count": 29,
   "metadata": {},
   "outputs": [
    {
     "data": {
      "image/png": "[encoded data removed]",
      "text/plain": [
       "<Figure size 800x550 with 1 Axes>"
      ]
     },
     "metadata": {},
     "output_type": "display_data"
    }
   ],
   "source": [
    "names_joint_grade = (\n",
    "    joint_grade_classifier.pipeline[\"preprocess\"]\n",
    "    .transform(X_val_joint.sample(500, seed=1))\n",
    "    .columns\n",
    ")\n",
    "explainer_joint_grade = shap.TreeExplainer(\n",
    "    joint_grade_classifier.pipeline[\"model\"],\n",
    "    data=joint_grade_classifier.pipeline[\"preprocess\"]\n",
    "    .transform((X_val_joint.sample(500, seed=1)))\n",
    "    .to_numpy(),\n",
    "    model_output=\"raw\",\n",
    ")\n",
    "\n",
    "shap_values_joint_grade = explainer_joint_grade.shap_values(\n",
    "    joint_grade_classifier.pipeline[\"preprocess\"]\n",
    "    .transform(X_val_joint.sample(500, seed=1))\n",
    "    .to_numpy(),\n",
    "    approximate=True\n",
    ")\n",
    "\n",
    "shap.summary_plot(\n",
    "    shap_values_joint_grade,\n",
    "    joint_grade_classifier.pipeline[\"preprocess\"]\n",
    "    .transform(X_val_joint.sample(10000, seed=1))\n",
    "    .to_numpy(),\n",
    "    feature_names=names_joint_grade,\n",
    "    class_names={0: \"A\", 1: \"B\", 2: \"C\", 3: \"D\", 4: \"E\", 5: \"F\", 6: \"G\"},\n",
    "    max_display=10,\n",
    ")"
   ]
  },
  {
   "cell_type": "markdown",
   "metadata": {},
   "source": [
    "The observation of a similar pattern of the most important features for the joint model when compared to the single application model is indicative of a consistent set of influential factors that impact loan application outcomes. This suggests that certain attributes, such as the term of the loan, FICO range, loan amount, annual income, and debt-to-income ratio, play a pivotal role in shaping loan approval decisions across both single and joint applications.\n",
    "\n",
    "Additionally, in the joint model, the same attributes from the second applicant are incorporated. "
   ]
  },
  {
   "cell_type": "markdown",
   "metadata": {},
   "source": [
    "#### Final Testing"
   ]
  },
  {
   "cell_type": "code",
   "execution_count": 36,
   "metadata": {},
   "outputs": [
    {
     "name": "stdout",
     "output_type": "stream",
     "text": [
      "              precision    recall  f1-score   support\n",
      "\n",
      "           1       0.76      0.76      0.76      6921\n",
      "           2       0.50      0.60      0.55      8069\n",
      "           3       0.47      0.38      0.42      7397\n",
      "           4       0.39      0.50      0.44      4496\n",
      "           5       0.30      0.11      0.16      1521\n",
      "           6       0.16      0.03      0.04       275\n",
      "           7       0.00      0.00      0.00        78\n",
      "\n",
      "    accuracy                           0.53     28757\n",
      "   macro avg       0.37      0.34      0.34     28757\n",
      "weighted avg       0.52      0.53      0.52     28757\n",
      "\n"
     ]
    },
    {
     "name": "stderr",
     "output_type": "stream",
     "text": [
      "Precision and F-score are ill-defined and being set to 0.0 in labels with no predicted samples. Use `zero_division` parameter to control this behavior.\n",
      "Precision and F-score are ill-defined and being set to 0.0 in labels with no predicted samples. Use `zero_division` parameter to control this behavior.\n",
      "Precision and F-score are ill-defined and being set to 0.0 in labels with no predicted samples. Use `zero_division` parameter to control this behavior.\n"
     ]
    }
   ],
   "source": [
    "joint_grade_classifier.pipeline.fit(\n",
    "    X_train_joint.vstack(X_val_joint), pl.concat([y_train_joint, y_val_joint])\n",
    ")\n",
    "preds_joint_grade_final = joint_grade_classifier.pipeline.predict(X_test_joint)\n",
    "print(classification_report(y_test_joint, preds_joint_grade_final))"
   ]
  },
  {
   "cell_type": "markdown",
   "metadata": {},
   "source": [
    "The model's accuracy increased when tested on the most recent data. This suggests that the model is adapting well to changing trends and conditions. However, the persistent difficulty in identifying the lowest grade loans indicates that there may be specific challenges or complexities associated with this subset of loan applications."
   ]
  },
  {
   "cell_type": "markdown",
   "metadata": {},
   "source": [
    "##### Exporting the final model:"
   ]
  },
  {
   "cell_type": "code",
   "execution_count": 31,
   "metadata": {},
   "outputs": [
    {
     "data": {
      "text/plain": [
       "['trained_models/model_joint_grade.joblib']"
      ]
     },
     "execution_count": 31,
     "metadata": {},
     "output_type": "execute_result"
    }
   ],
   "source": [
    "joint_grade_classifier.pipeline.fit(\n",
    "    X_train_joint.vstack(X_val_joint).vstack(X_test_joint),\n",
    "    pl.concat([y_train_joint, y_val_joint, y_test_joint]),\n",
    ")\n",
    "\n",
    "joblib.dump(joint_grade_classifier.pipeline, \"trained_models/model_joint_grade.joblib\")"
   ]
  },
  {
   "cell_type": "markdown",
   "metadata": {},
   "source": [
    "## Sub-grade Prediction"
   ]
  },
  {
   "cell_type": "markdown",
   "metadata": {},
   "source": [
    "##### Setting up the target variables:"
   ]
  },
  {
   "cell_type": "code",
   "execution_count": 13,
   "metadata": {},
   "outputs": [],
   "source": [
    "data_train_single=dmf.label_target_sub_grades(data_train_single,)\n",
    "data_val_single=dmf.label_target_sub_grades(data_val_single,)\n",
    "data_test_single=dmf.label_target_sub_grades(data_test_single)\n",
    "data_train_joint=dmf.label_target_sub_grades(data_train_joint,)\n",
    "data_val_joint=dmf.label_target_sub_grades(data_val_joint,)\n",
    "data_test_joint=dmf.label_target_sub_grades(data_test_joint)"
   ]
  },
  {
   "cell_type": "code",
   "execution_count": 14,
   "metadata": {},
   "outputs": [],
   "source": [
    "y_train_single_subgrade=data_train_single['sub_grade']\n",
    "y_val_single_subgrade=data_val_single['sub_grade']\n",
    "y_test_single_subgrade=data_test_single['sub_grade']\n",
    "y_train_joint_subgrade=data_train_joint['sub_grade']\n",
    "y_val_joint_subgrade=data_val_joint['sub_grade']\n",
    "y_test_joint_subgrade=data_test_joint['sub_grade']"
   ]
  },
  {
   "cell_type": "markdown",
   "metadata": {},
   "source": [
    "### Single Application Sub-Grade Model"
   ]
  },
  {
   "cell_type": "markdown",
   "metadata": {},
   "source": [
    "#### Setting up the pipeline:"
   ]
  },
  {
   "cell_type": "code",
   "execution_count": 27,
   "metadata": {},
   "outputs": [],
   "source": [
    "preprocess_single_subgrade_cl = copy.deepcopy(preprocess_single)\n",
    "preprocess_single_subgrade_rg = copy.deepcopy(preprocess_single)\n",
    "\n",
    "model_single_sg_cl = lgb.LGBMClassifier(\n",
    "    objective=\"multiclass\",\n",
    "    verbose=-1,\n",
    "    force_col_wise=True,\n",
    "    random_state=1,\n",
    "    num_threads=1,\n",
    ")\n",
    "\n",
    "model_single_sg_rg = lgb.LGBMRegressor(\n",
    "    verbose=-1, force_col_wise=True, random_state=1, num_threads=1\n",
    ")\n",
    "regressor_wraper_single=tr.ModelWrapper(model_single_sg_rg)\n",
    "\n",
    "sub_grade_rounder = tr.RoundToRangeTransformer(1, 35)\n",
    "pipeline_single_sg_cl = Pipeline(\n",
    "    [(\"preprocess\", preprocess_single_subgrade_cl), (\"model\", model_single_sg_cl)]\n",
    ")\n",
    "pipeline_single_sg_rg = Pipeline(\n",
    "    [\n",
    "        (\"preprocess\", preprocess_single_subgrade_rg),\n",
    "        (\"model\", regressor_wraper_single),\n",
    "        (\"rounding\", sub_grade_rounder),\n",
    "    ]\n",
    ")"
   ]
  },
  {
   "cell_type": "code",
   "execution_count": 16,
   "metadata": {},
   "outputs": [
    {
     "name": "stdout",
     "output_type": "stream",
     "text": [
      "0.06784539357949627\n",
      "0.0775470528150547\n"
     ]
    }
   ],
   "source": [
    "pipeline_single_sg_cl.fit(\n",
    "    X_train_single.sample(50000, seed=1), y_train_single_subgrade.sample(50000, seed=1)\n",
    ")\n",
    "pipeline_single_sg_rg.fit(\n",
    "    X_train_single.sample(50000, seed=1), y_train_single_subgrade.sample(50000, seed=1)\n",
    ")\n",
    "\n",
    "initial_preds_sg_cl = pipeline_single_sg_cl.predict(X_val_single.sample(10000, seed=1))\n",
    "initial_preds_sg_rg = pipeline_single_sg_rg.predict(X_val_single.sample(10000, seed=1))\n",
    "\n",
    "print(\n",
    "    f1_score(\n",
    "        y_val_single_subgrade.sample(10000, seed=1),\n",
    "        initial_preds_sg_cl,\n",
    "        average=\"macro\",\n",
    "    )\n",
    ")\n",
    "print(\n",
    "    f1_score(\n",
    "        y_val_single_subgrade.sample(10000, seed=1),\n",
    "        initial_preds_sg_rg,\n",
    "        average=\"macro\",\n",
    "    )\n",
    ")"
   ]
  },
  {
   "cell_type": "markdown",
   "metadata": {},
   "source": [
    "#### Tuning"
   ]
  },
  {
   "cell_type": "code",
   "execution_count": 28,
   "metadata": {},
   "outputs": [],
   "source": [
    "models_sub_single = tunes.Models()\n",
    "search_space_sg_cl = {\n",
    "    \"preprocess__feature_dropper__feats_to_drop\": tune.choice(cols_to_drop_space),\n",
    "    \"model__max_depth\": tune.randint(5,40),\n",
    "    \"model__num_leaves\": tune.randint(10, 2500),\n",
    "    \"model__n_estimators\": tune.randint(10, 251),\n",
    "    \"model__learning_rate\": tune.loguniform(0.001, 0.1),\n",
    "    \"model__bagging_freq\": tune.randint(0, 11),\n",
    "    \"model__colsample_bytree\": tune.uniform(0.2, 1.0),\n",
    "    \"model__subsample\": tune.uniform(0.2, 1.0),\n",
    "    \"model__reg_alpha\": tune.loguniform(0.001, 100),\n",
    "    \"model__reg_lambda\": tune.loguniform(0.001, 100),\n",
    "    \"model__boosting_type\": tune.choice([\"gbdt\", \"dart\", \"rf\"]),\n",
    "    \"model__class_weight\": tune.choice([\"balanced\", None]),\n",
    "    \"model__max_bin\": tune.randint(5, 201),\n",
    "}\n",
    "\n",
    "models_sub_single.add_model(\"cl_subgrade_single\", pipeline_single_sg_cl, search_space_sg_cl, metric_threshold=0.1)"
   ]
  },
  {
   "cell_type": "code",
   "execution_count": 29,
   "metadata": {},
   "outputs": [],
   "source": [
    "search_space_sg_rg = {\n",
    "    \"preprocess__feature_dropper__feats_to_drop\": tune.choice(cols_to_drop_space),\n",
    "    \"model__param_grid\": {\n",
    "        \"num_leaves\": tune.randint(10, 2500),\n",
    "        \"max_depth\": tune.randint(10,40),\n",
    "        \"n_estimators\": tune.randint(10, 251),\n",
    "        \"learning_rate\": tune.loguniform(0.001, 0.1),\n",
    "        \"bagging_freq\": tune.randint(0, 11),\n",
    "        \"colsample_bytree\": tune.uniform(0.2, 1.0),\n",
    "        \"subsample\": tune.uniform(0.2, 1.0),\n",
    "        \"reg_alpha\": tune.loguniform(0.001, 100),\n",
    "        \"reg_lambda\": tune.loguniform(0.001, 100),\n",
    "        \"boosting_type\": tune.choice([\"gbdt\", \"dart\", \"rf\"]),\n",
    "        \"class_weight\": tune.choice([\"balanced\", None]),\n",
    "        \"max_bin\": tune.randint(5, 256),\n",
    "    },\n",
    "}\n",
    "\n",
    "models_sub_single.add_model(\n",
    "    \"rg_subgrade_single\",\n",
    "    pipeline_single_sg_rg,\n",
    "    search_space_sg_rg,\n",
    "    metric_threshold=0.1,\n",
    ")"
   ]
  },
  {
   "cell_type": "markdown",
   "metadata": {},
   "source": [
    "```python\n",
    "models_sub_single.tune_all(X_train_single,\n",
    "    y_train_single_subgrade,\n",
    "    X_val_single,\n",
    "    y_val_single_subgrade,\n",
    "    n=240,\n",
    "    n_training = 3,\n",
    "    sample_size=15000,\n",
    "    average=\"macro\",)\n",
    "\n",
    "joblib.dump(models_sub_single,'temp/models_sub_single.joblib')"
   ]
  },
  {
   "cell_type": "code",
   "execution_count": null,
   "metadata": {},
   "outputs": [],
   "source": [
    "models_sub_single=joblib.load('temp/models_sub_single.joblib')"
   ]
  },
  {
   "cell_type": "markdown",
   "metadata": {},
   "source": [
    "best params"
   ]
  },
  {
   "cell_type": "code",
   "execution_count": 36,
   "metadata": {},
   "outputs": [
    {
     "data": {
      "text/plain": [
       "{'cl_subgrade_single': <functions.tuning.Models.Model at 0x7fc46def8dc0>,\n",
       " 'rg_subgrade_single': <functions.tuning.Models.Model at 0x7fc46defa0d0>}"
      ]
     },
     "execution_count": 36,
     "metadata": {},
     "output_type": "execute_result"
    }
   ],
   "source": [
    "models_sub_single.models"
   ]
  },
  {
   "cell_type": "code",
   "execution_count": 37,
   "metadata": {},
   "outputs": [
    {
     "name": "stdout",
     "output_type": "stream",
     "text": [
      "{'model__bagging_freq': 3,\n",
      " 'model__boosting_type': 'gbdt',\n",
      " 'model__class_weight': 'balanced',\n",
      " 'model__colsample_bytree': 0.7402382756527682,\n",
      " 'model__learning_rate': 0.08034565850796604,\n",
      " 'model__max_bin': 137,\n",
      " 'model__max_depth': 8,\n",
      " 'model__n_estimators': 231,\n",
      " 'model__num_leaves': 1116,\n",
      " 'model__reg_alpha': 0.0146906759526997,\n",
      " 'model__reg_lambda': 6.4939727257369855,\n",
      " 'model__subsample': 0.4094460840515235,\n",
      " 'preprocess__feature_dropper__feats_to_drop': ['home_ownership',\n",
      "                                                'addr_state',\n",
      "                                                'delinq_2yrs',\n",
      "                                                'fico_range_high',\n",
      "                                                'mths_since_last_delinq',\n",
      "                                                'mths_since_last_record',\n",
      "                                                'open_acc',\n",
      "                                                'pub_rec',\n",
      "                                                'last_fico_range_low',\n",
      "                                                'mths_since_last_major_derog',\n",
      "                                                'acc_now_delinq',\n",
      "                                                'open_acc_6m',\n",
      "                                                'open_act_il',\n",
      "                                                'open_il_12m',\n",
      "                                                'open_il_24m',\n",
      "                                                'mths_since_rcnt_il',\n",
      "                                                'total_bal_il',\n",
      "                                                'il_util',\n",
      "                                                'open_rv_12m',\n",
      "                                                'open_rv_24m',\n",
      "                                                'max_bal_bc',\n",
      "                                                'all_util',\n",
      "                                                'inq_fi',\n",
      "                                                'total_cu_tl',\n",
      "                                                'inq_last_12m',\n",
      "                                                'chargeoff_within_12_mths',\n",
      "                                                'delinq_amnt',\n",
      "                                                'mo_sin_rcnt_rev_tl_op',\n",
      "                                                'mort_acc',\n",
      "                                                'mths_since_recent_bc_dlq',\n",
      "                                                'mths_since_recent_inq',\n",
      "                                                'mths_since_recent_revol_delinq',\n",
      "                                                'num_accts_ever_120_pd',\n",
      "                                                'num_actv_bc_tl',\n",
      "                                                'num_actv_rev_tl',\n",
      "                                                'num_bc_sats',\n",
      "                                                'num_bc_tl',\n",
      "                                                'num_il_tl',\n",
      "                                                'num_op_rev_tl',\n",
      "                                                'num_rev_accts',\n",
      "                                                'num_rev_tl_bal_gt_0',\n",
      "                                                'num_sats',\n",
      "                                                'num_tl_120dpd_2m',\n",
      "                                                'num_tl_30dpd',\n",
      "                                                'num_tl_90g_dpd_24m',\n",
      "                                                'pct_tl_nvr_dlq',\n",
      "                                                'percent_bc_gt_75',\n",
      "                                                'pub_rec_bankruptcies',\n",
      "                                                'tax_liens',\n",
      "                                                'total_il_high_credit_limit',\n",
      "                                                'month_sin',\n",
      "                                                'month_cos',\n",
      "                                                'emp_title',\n",
      "                                                'emp_length',\n",
      "                                                'zip_code',\n",
      "                                                'pymnt_plan_n',\n",
      "                                                'disbursement_method_Cash']}\n",
      "{'model__param_grid': {'bagging_freq': 7,\n",
      "                       'boosting_type': 'gbdt',\n",
      "                       'class_weight': None,\n",
      "                       'colsample_bytree': 0.5469039710628041,\n",
      "                       'learning_rate': 0.06445772008778562,\n",
      "                       'max_bin': 242,\n",
      "                       'max_depth': 21,\n",
      "                       'n_estimators': 240,\n",
      "                       'num_leaves': 1532,\n",
      "                       'reg_alpha': 0.04228411127161317,\n",
      "                       'reg_lambda': 6.398277385033161,\n",
      "                       'subsample': 0.20047425315969009},\n",
      " 'preprocess__feature_dropper__feats_to_drop': ['home_ownership',\n",
      "                                                'addr_state',\n",
      "                                                'delinq_2yrs',\n",
      "                                                'fico_range_high',\n",
      "                                                'mths_since_last_delinq',\n",
      "                                                'mths_since_last_record',\n",
      "                                                'open_acc',\n",
      "                                                'pub_rec',\n",
      "                                                'last_fico_range_low',\n",
      "                                                'mths_since_last_major_derog',\n",
      "                                                'acc_now_delinq',\n",
      "                                                'open_acc_6m',\n",
      "                                                'open_act_il',\n",
      "                                                'open_il_12m',\n",
      "                                                'open_il_24m',\n",
      "                                                'mths_since_rcnt_il',\n",
      "                                                'total_bal_il',\n",
      "                                                'il_util',\n",
      "                                                'open_rv_12m',\n",
      "                                                'open_rv_24m',\n",
      "                                                'max_bal_bc',\n",
      "                                                'all_util',\n",
      "                                                'inq_fi',\n",
      "                                                'total_cu_tl',\n",
      "                                                'inq_last_12m',\n",
      "                                                'chargeoff_within_12_mths',\n",
      "                                                'delinq_amnt',\n",
      "                                                'mo_sin_rcnt_rev_tl_op',\n",
      "                                                'mort_acc',\n",
      "                                                'mths_since_recent_bc_dlq',\n",
      "                                                'mths_since_recent_inq',\n",
      "                                                'mths_since_recent_revol_delinq',\n",
      "                                                'num_accts_ever_120_pd',\n",
      "                                                'num_actv_bc_tl',\n",
      "                                                'num_actv_rev_tl',\n",
      "                                                'num_bc_sats',\n",
      "                                                'num_bc_tl',\n",
      "                                                'num_il_tl',\n",
      "                                                'num_op_rev_tl',\n",
      "                                                'num_rev_accts',\n",
      "                                                'num_rev_tl_bal_gt_0',\n",
      "                                                'num_sats',\n",
      "                                                'num_tl_120dpd_2m',\n",
      "                                                'num_tl_30dpd',\n",
      "                                                'num_tl_90g_dpd_24m',\n",
      "                                                'pct_tl_nvr_dlq',\n",
      "                                                'percent_bc_gt_75',\n",
      "                                                'pub_rec_bankruptcies',\n",
      "                                                'tax_liens',\n",
      "                                                'total_il_high_credit_limit',\n",
      "                                                'month_sin',\n",
      "                                                'month_cos',\n",
      "                                                'emp_title',\n",
      "                                                'emp_length',\n",
      "                                                'zip_code',\n",
      "                                                'pymnt_plan_n',\n",
      "                                                'disbursement_method_Cash']}\n"
     ]
    }
   ],
   "source": [
    "for model in models_sub_single.models.values():\n",
    "    pprint(model.best_params)"
   ]
  },
  {
   "cell_type": "code",
   "execution_count": 43,
   "metadata": {},
   "outputs": [
    {
     "name": "stdout",
     "output_type": "stream",
     "text": [
      "cl_subgrade_single\n",
      "              precision    recall  f1-score   support\n",
      "\n",
      "           1       0.42      0.44      0.43     15383\n",
      "           2       0.17      0.21      0.19     12260\n",
      "           3       0.13      0.19      0.15     13287\n",
      "           4       0.11      0.19      0.14     13613\n",
      "           5       0.14      0.10      0.12     17986\n",
      "           6       0.19      0.13      0.15     25290\n",
      "           7       0.11      0.09      0.10     22268\n",
      "           8       0.09      0.25      0.13     23595\n",
      "           9       0.08      0.07      0.08     21745\n",
      "          10       0.12      0.09      0.10     28467\n",
      "          11       0.12      0.06      0.08     29441\n",
      "          12       0.10      0.08      0.09     24529\n",
      "          13       0.12      0.03      0.05     24407\n",
      "          14       0.12      0.03      0.05     25222\n",
      "          15       0.12      0.04      0.06     26549\n",
      "          16       0.05      0.07      0.06     12655\n",
      "          17       0.06      0.12      0.08     11964\n",
      "          18       0.06      0.05      0.06     11893\n",
      "          19       0.04      0.05      0.04      7693\n",
      "          20       0.03      0.04      0.03      6362\n",
      "          21       0.03      0.03      0.03      3526\n",
      "          22       0.04      0.03      0.04      4231\n",
      "          23       0.02      0.05      0.03      3114\n",
      "          24       0.03      0.07      0.04      3003\n",
      "          25       0.05      0.08      0.06      4108\n",
      "          26       0.02      0.09      0.04      1619\n",
      "          27       0.02      0.09      0.03      1028\n",
      "          28       0.02      0.09      0.04      1061\n",
      "          29       0.02      0.05      0.03       899\n",
      "          30       0.03      0.04      0.03       902\n",
      "          31       0.03      0.02      0.02       845\n",
      "          32       0.04      0.01      0.02       520\n",
      "          33       0.00      0.00      0.00       524\n",
      "          34       0.09      0.01      0.01       587\n",
      "          35       0.00      0.00      0.00       578\n",
      "\n",
      "    accuracy                           0.11    401154\n",
      "   macro avg       0.08      0.09      0.07    401154\n",
      "weighted avg       0.12      0.11      0.10    401154\n",
      "\n",
      "rg_subgrade_single\n"
     ]
    },
    {
     "name": "stderr",
     "output_type": "stream",
     "text": [
      "Precision and F-score are ill-defined and being set to 0.0 in labels with no predicted samples. Use `zero_division` parameter to control this behavior.\n"
     ]
    },
    {
     "name": "stdout",
     "output_type": "stream",
     "text": [
      "              precision    recall  f1-score   support\n",
      "\n",
      "           1       0.56      0.23      0.33     15383\n",
      "           2       0.23      0.18      0.20     12260\n",
      "           3       0.15      0.13      0.14     13287\n",
      "           4       0.13      0.14      0.13     13613\n",
      "           5       0.14      0.13      0.13     17986\n",
      "           6       0.13      0.10      0.11     25290\n",
      "           7       0.10      0.11      0.11     22268\n",
      "           8       0.10      0.12      0.11     23595\n",
      "           9       0.09      0.14      0.11     21745\n",
      "          10       0.11      0.12      0.12     28467\n",
      "          11       0.11      0.12      0.11     29441\n",
      "          12       0.10      0.12      0.11     24529\n",
      "          13       0.10      0.11      0.10     24407\n",
      "          14       0.11      0.10      0.10     25222\n",
      "          15       0.12      0.09      0.10     26549\n",
      "          16       0.06      0.07      0.07     12655\n",
      "          17       0.05      0.06      0.06     11964\n",
      "          18       0.07      0.07      0.07     11893\n",
      "          19       0.04      0.04      0.04      7693\n",
      "          20       0.04      0.05      0.04      6362\n",
      "          21       0.03      0.04      0.03      3526\n",
      "          22       0.04      0.04      0.04      4231\n",
      "          23       0.02      0.02      0.02      3114\n",
      "          24       0.04      0.03      0.04      3003\n",
      "          25       0.07      0.03      0.04      4108\n",
      "          26       0.05      0.03      0.04      1619\n",
      "          27       0.02      0.02      0.02      1028\n",
      "          28       0.05      0.02      0.02      1061\n",
      "          29       0.06      0.01      0.02       899\n",
      "          30       0.06      0.01      0.01       902\n",
      "          31       0.10      0.00      0.01       845\n",
      "          32       0.04      0.00      0.00       520\n",
      "          33       0.00      0.00      0.00       524\n",
      "          34       0.00      0.00      0.00       587\n",
      "          35       0.00      0.00      0.00       578\n",
      "\n",
      "    accuracy                           0.11    401154\n",
      "   macro avg       0.09      0.07      0.07    401154\n",
      "weighted avg       0.12      0.11      0.11    401154\n",
      "\n"
     ]
    },
    {
     "name": "stderr",
     "output_type": "stream",
     "text": [
      "Precision and F-score are ill-defined and being set to 0.0 in labels with no predicted samples. Use `zero_division` parameter to control this behavior.\n",
      "Precision and F-score are ill-defined and being set to 0.0 in labels with no predicted samples. Use `zero_division` parameter to control this behavior.\n"
     ]
    }
   ],
   "source": [
    "preds_subgrade_single={}\n",
    "for name, model in models_sub_single.models.items():\n",
    "    model.pipeline.fit(X_train_single,y_train_single_subgrade)\n",
    "    preds_subgrade_single[name]=model.pipeline.predict(X_val_single)\n",
    "    print(name)\n",
    "    print(classification_report(y_val_single_subgrade,preds_subgrade_single[name]))\n"
   ]
  },
  {
   "cell_type": "code",
   "execution_count": 46,
   "metadata": {},
   "outputs": [
    {
     "name": "stdout",
     "output_type": "stream",
     "text": [
      "cl_subgrade_single\n",
      "RMSE: 30.602950487842573\n",
      "rg_subgrade_single\n",
      "RMSE: 19.702707688319197\n"
     ]
    }
   ],
   "source": [
    "from sklearn.metrics import mean_squared_error\n",
    "for name,preds in preds_subgrade_single.items():\n",
    "    print(name)\n",
    "    print(f'RMSE: {mean_squared_error(y_val_single_subgrade,preds)}')"
   ]
  },
  {
   "cell_type": "code",
   "execution_count": 65,
   "metadata": {},
   "outputs": [
    {
     "data": {
      "image/png": "[encoded data removed]",
      "text/plain": [
       "<Figure size 850x450 with 1 Axes>"
      ]
     },
     "metadata": {},
     "output_type": "display_data"
    }
   ],
   "source": [
    "fig_rg_cl, ax_rg_cl = plt.subplots(figsize=BASE_FIG_SIZE)\n",
    "ax_rg_cl.scatter(\n",
    "    y_val_single_subgrade[:300],\n",
    "    preds_subgrade_single[\"cl_subgrade_single\"][:300],\n",
    "    alpha=0.6,\n",
    "    label='Classifier'\n",
    ")\n",
    "ax_rg_cl.scatter(\n",
    "    y_val_single_subgrade[:300],\n",
    "    preds_subgrade_single[\"rg_subgrade_single\"][:300],\n",
    "    alpha=0.6,\n",
    "    label = 'Regressor'\n",
    ")\n",
    "ax_rg_cl.legend()\n",
    "ax_rg_cl.set_xlabel('True Sub-Grade')\n",
    "ax_rg_cl.set_ylabel('Predicted Sub-Grade')\n",
    "plt.show()"
   ]
  },
  {
   "cell_type": "code",
   "execution_count": 67,
   "metadata": {},
   "outputs": [],
   "source": [
    "best_pipeline_single_sub=models_sub_single.models['rg_subgrade_single'].pipeline"
   ]
  },
  {
   "cell_type": "code",
   "execution_count": 75,
   "metadata": {},
   "outputs": [
    {
     "data": {
      "text/plain": [
       "(500, 28)"
      ]
     },
     "execution_count": 75,
     "metadata": {},
     "output_type": "execute_result"
    }
   ],
   "source": [
    "shap_values_single_subgrade.shape"
   ]
  },
  {
   "cell_type": "code",
   "execution_count": 76,
   "metadata": {},
   "outputs": [
    {
     "name": "stderr",
     "output_type": "stream",
     "text": [
      "No data for colormapping provided via 'c'. Parameters 'vmin', 'vmax' will be ignored\n"
     ]
    },
    {
     "data": {
      "image/png": "[encoded data removed]",
      "text/plain": [
       "<Figure size 800x550 with 2 Axes>"
      ]
     },
     "metadata": {},
     "output_type": "display_data"
    }
   ],
   "source": [
    "names_single_subgrade = (\n",
    "    best_pipeline_single_sub[\"preprocess\"]\n",
    "    .transform(X_val_single.sample(500, seed=1))\n",
    "    .columns\n",
    ")\n",
    "explainer_single_subgrade = shap.TreeExplainer(\n",
    "    best_pipeline_single_sub[\"model\"].model,\n",
    "    data=best_pipeline_single_sub[\"preprocess\"]\n",
    "    .transform((X_val_single.sample(500, seed=1)))\n",
    "    .to_numpy(),\n",
    "    model_output=\"raw\",\n",
    ")\n",
    "\n",
    "shap_values_single_subgrade = explainer_single_subgrade.shap_values(\n",
    "    best_pipeline_single_sub[\"preprocess\"]\n",
    "    .transform(X_val_single.sample(500, seed=1))\n",
    "    .to_numpy(),\n",
    "    approximate=True\n",
    ")\n",
    "\n",
    "shap.summary_plot(\n",
    "    shap_values_single_subgrade,\n",
    "    best_pipeline_single_sub[\"preprocess\"]\n",
    "    .transform(X_val_single.sample(500, seed=1))\n",
    "    .to_numpy(),\n",
    "    feature_names=names_single_subgrade,\n",
    "    max_display=10,\n",
    ")"
   ]
  },
  {
   "cell_type": "markdown",
   "metadata": {},
   "source": [
    "Final testing:"
   ]
  },
  {
   "cell_type": "code",
   "execution_count": null,
   "metadata": {},
   "outputs": [],
   "source": [
    "best_pipeline_single['model'].set_params(**{'num_threads':6})\n",
    "best_pipeline_single.fit(X_train_single.vstack(X_val_single),pl.concat([y_train_single,y_val_single]))\n",
    "preds_single_final=best_pipeline_single.predict(X_test_single)\n",
    "print(classification_report(y_test_single,preds_single_final))"
   ]
  }
 ],
 "metadata": {
  "kernelspec": {
   "display_name": "base",
   "language": "python",
   "name": "python3"
  },
  "language_info": {
   "codemirror_mode": {
    "name": "ipython",
    "version": 3
   },
   "file_extension": ".py",
   "mimetype": "text/x-python",
   "name": "python",
   "nbconvert_exporter": "python",
   "pygments_lexer": "ipython3",
   "version": "3.9.13"
  }
 },
 "nbformat": 4,
 "nbformat_minor": 2
}
