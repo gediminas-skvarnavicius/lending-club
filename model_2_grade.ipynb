{
 "cells": [
  {
   "cell_type": "code",
   "execution_count": 2,
   "metadata": {},
   "outputs": [],
   "source": [
    "%reload_ext autoreload\n",
    "%autoreload 1\n",
    "import joblib\n",
    "from ray import tune, train\n",
    "import copy\n",
    "import shap\n",
    "import matplotlib.pyplot as plt\n",
    "import polars as pl\n",
    "import sys\n",
    "import numpy as np\n",
    "from sklearn.model_selection import train_test_split\n",
    "import functions.transformers as tr\n",
    "from functions.transformers import PolarsColumnTransformer as PCT\n",
    "import functions.data_cleaning as dmf\n",
    "import functions.plot_functions as pf\n",
    "import functions.tuning as tunes\n",
    "import functions.feature_engineering as feats\n",
    "import seaborn as sns\n",
    "from sklearn.pipeline import Pipeline\n",
    "from sklearn.metrics import classification_report\n",
    "from sklearn.preprocessing import LabelEncoder\n",
    "from sklearn.preprocessing import OneHotEncoder\n",
    "from sklearn.tree import DecisionTreeClassifier\n",
    "from sklearn.linear_model import LogisticRegression\n",
    "from IPython.display import display,Markdown\n",
    "import lightgbm as lgb\n",
    "%aimport functions.tuning\n",
    "%aimport functions.transformers\n",
    "%aimport functions.data_cleaning\n",
    "%aimport functions.plot_functions\n",
    "%aimport functions.feature_engineering"
   ]
  },
  {
   "cell_type": "code",
   "execution_count": 3,
   "metadata": {},
   "outputs": [],
   "source": [
    "data_train_single=pl.read_parquet('data/data_accepted_single_train.parquet')\n",
    "data_val_single=pl.read_parquet('data/data_accepted_single_val.parquet')\n",
    "data_train_joint=pl.read_parquet('data/data_accepted_joint_train.parquet')\n",
    "data_val_joint=pl.read_parquet('data/data_accepted_joint_val.parquet')"
   ]
  },
  {
   "cell_type": "code",
   "execution_count": 4,
   "metadata": {},
   "outputs": [],
   "source": [
    "data_train_single=dmf.clean_accepted_single(data_train_single)\n",
    "data_val_single=dmf.clean_accepted_single(data_val_single)\n",
    "data_train_joint=dmf.clean_accepted_joint(data_train_joint)\n",
    "data_val_joint=dmf.clean_accepted_joint(data_val_joint)"
   ]
  },
  {
   "cell_type": "markdown",
   "metadata": {},
   "source": [
    "### Feature Engineering"
   ]
  },
  {
   "cell_type": "code",
   "execution_count": 5,
   "metadata": {},
   "outputs": [],
   "source": [
    "data_train_single=feats.date_features(data_train_single,'issue_d')\n",
    "data_val_single=feats.date_features(data_val_single,'issue_d')\n",
    "data_train_joint=feats.date_features(data_train_joint,'issue_d')\n",
    "data_val_joint=feats.date_features(data_val_joint,'issue_d')"
   ]
  },
  {
   "cell_type": "code",
   "execution_count": 6,
   "metadata": {},
   "outputs": [],
   "source": [
    "data_train_single=dmf.label_target_grades(data_train_single,)\n",
    "data_val_single=dmf.label_target_grades(data_val_single,)\n",
    "data_train_joint=dmf.label_target_grades(data_train_joint,)\n",
    "data_val_joint=dmf.label_target_grades(data_val_joint,)"
   ]
  },
  {
   "cell_type": "code",
   "execution_count": 7,
   "metadata": {},
   "outputs": [],
   "source": [
    "X_train_single=data_train_single.drop(columns=['grade','sub_grade','int_rate','issue_d'])\n",
    "y_train_single=data_train_single['grade']\n",
    "\n",
    "X_val_single=data_val_single.drop(columns=['grade','sub_grade','int_rate','issue_d'])\n",
    "y_val_single=data_val_single['grade']\n",
    "\n",
    "X_train_joint=data_train_joint.drop(columns=['grade','sub_grade','int_rate','issue_d'])\n",
    "y_train_joint=data_train_joint['grade']\n",
    "\n",
    "X_val_joint=data_val_joint.drop(columns=['grade','sub_grade','int_rate','issue_d'])\n",
    "y_val_joint=data_val_joint['grade']\n"
   ]
  },
  {
   "cell_type": "markdown",
   "metadata": {},
   "source": [
    "#### Imputers"
   ]
  },
  {
   "cell_type": "code",
   "execution_count": 8,
   "metadata": {},
   "outputs": [],
   "source": [
    "preprocess_single=Pipeline([])"
   ]
  },
  {
   "cell_type": "code",
   "execution_count": 9,
   "metadata": {},
   "outputs": [],
   "source": [
    "emp_title_imp = tr.NotInImputerPolars(cat_no=20, fill_value=\"other\")\n",
    "emp_length_imp = tr.NotInImputerPolars(cat_no=12, fill_value=None)\n",
    "zip_imp = tr.NotInImputerPolars(cat_no=12, fill_value='other')\n",
    "imputers = PCT(\n",
    "    [\n",
    "        PCT.Step(\"emp_title\", emp_title_imp, \"emp_title\"),\n",
    "        PCT.Step(\"emp_length\", emp_length_imp, \"emp_length\"),\n",
    "        PCT.Step(\"zip_code\", zip_imp,'zip_code')\n",
    "    ]\n",
    ")\n",
    "preprocess_single.steps.append((\"imputers\",imputers))"
   ]
  },
  {
   "cell_type": "markdown",
   "metadata": {},
   "source": [
    "### Encoders"
   ]
  },
  {
   "cell_type": "code",
   "execution_count": 10,
   "metadata": {},
   "outputs": [],
   "source": [
    "emp_t_enc = tr.TargetMeanOrderedLabeler(how=\"label\")\n",
    "emp_l_order = [\n",
    "    None,\n",
    "    \"< 1 year\",\n",
    "    \"1 year\",\n",
    "    \"2 years\",\n",
    "    \"3 years\",\n",
    "    \"4 years\",\n",
    "    \"5 years\",\n",
    "    \"6 years\",\n",
    "    \"7 years\",\n",
    "    \"8 years\",\n",
    "    \"9 years\",\n",
    "    \"10+ years\",\n",
    "]\n",
    "emp_l_enc = tr.PolarsOrdinalEncoder(order=emp_l_order)\n",
    "home_enc = tr.TargetMeanOrderedLabeler(how=\"label\")\n",
    "verif_enc = tr.TargetMeanOrderedLabeler(how=\"label\")\n",
    "paymnt_enc = tr.PolarsOneHotEncoder(drop=True)\n",
    "purpose_enc = tr.TargetMeanOrderedLabeler(how=\"label\")\n",
    "zip_enc = tr.TargetMeanOrderedLabeler(how=\"label\")\n",
    "state_enc = tr.TargetMeanOrderedLabeler(how=\"label\")\n",
    "init_stat_enc = tr.PolarsOneHotEncoder(drop=True)\n",
    "disbursement_enc = tr.PolarsOneHotEncoder(drop=True)\n",
    "\n",
    "encoders = PCT(\n",
    "    [\n",
    "        PCT.Step(\"emp_t_enc\", emp_t_enc, \"emp_title\"),\n",
    "        PCT.Step(\"emp_l_enc\", emp_l_enc, \"emp_length\"),\n",
    "        PCT.Step(\"home_enc\", home_enc, \"home_ownership\"),\n",
    "        PCT.Step(\"verif_enc\", verif_enc, \"verification_status\"),\n",
    "        PCT.Step(\"paymnt_enc\", paymnt_enc, \"pymnt_plan\"),\n",
    "        PCT.Step(\"purpose_enc\", purpose_enc, \"purpose\"),\n",
    "        PCT.Step(\"zip_enc\", zip_enc, \"zip_code\"),\n",
    "        PCT.Step(\"state_enc\", state_enc, \"addr_state\"),\n",
    "        PCT.Step(\"init_stat_enc\", init_stat_enc, \"initial_list_status\"),\n",
    "        PCT.Step(\"disbursement_enc\", disbursement_enc, \"disbursement_method\"),\n",
    "    ]\n",
    ")\n",
    "\n",
    "preprocess_single.steps.append((\"encoders\",encoders))\n",
    "null_imp = tr.PolarsNullImputer(fill_value=-9)\n",
    "preprocess_single.steps.append((\"null_imputer\",null_imp))"
   ]
  },
  {
   "cell_type": "code",
   "execution_count": 11,
   "metadata": {},
   "outputs": [],
   "source": [
    "model_single=lgb.LGBMClassifier(objective='multiclass',class_weight='balanced',verbose=-1,force_col_wise=True)"
   ]
  },
  {
   "cell_type": "markdown",
   "metadata": {},
   "source": [
    "##### Getting an space of sets of columns to drop:"
   ]
  },
  {
   "cell_type": "code",
   "execution_count": 12,
   "metadata": {},
   "outputs": [],
   "source": [
    "original_columns=preprocess_single.fit_transform(X_train_single.sample(10000,seed=1),y_train_single.sample(10000,seed=1)).columns\n",
    "\n",
    "boruta_selected_cols={}\n",
    "\n",
    "transformed_sample_X = preprocess_single.fit_transform(\n",
    "        X_train_single.sample(50000, seed=1), y_train_single.sample(50000, seed=1)\n",
    "    )\n",
    "transformed_sample_y=y_train_single.sample(50000, seed=1)\n",
    "for perc in np.arange(stop=100,start=10,step=10):\n",
    "    boruta = tr.BorutaFeatureSelectorPolars(model_single, random_state=1, perc=perc)\n",
    "        \n",
    "    boruta.fit(\n",
    "        transformed_sample_X,\n",
    "        transformed_sample_y,\n",
    "    )\n",
    "    boruta_selected_cols[perc]=boruta.transform(preprocess_single.fit_transform(\n",
    "        X_train_single.sample(10000, seed=1), y_train_single.sample(10000, seed=1)\n",
    "    )).columns"
   ]
  },
  {
   "cell_type": "code",
   "execution_count": 23,
   "metadata": {},
   "outputs": [
    {
     "name": "stdout",
     "output_type": "stream",
     "text": [
      "75\n",
      "67\n",
      "57\n",
      "50\n",
      "45\n",
      "40\n",
      "33\n",
      "27\n",
      "26\n"
     ]
    },
    {
     "data": {
      "text/plain": [
       "['temp/cols_to_drop.joblib']"
      ]
     },
     "execution_count": 23,
     "metadata": {},
     "output_type": "execute_result"
    }
   ],
   "source": [
    "cols_to_drop_space=[]\n",
    "for columns in boruta_selected_cols.values():\n",
    "    print(len(columns))\n",
    "    cols_to_drop_space.append([col for col in original_columns if col not in columns])\n",
    "cols_to_drop_space.append([])\n",
    "joblib.dump(cols_to_drop_space,'temp/cols_to_drop.joblib')"
   ]
  },
  {
   "cell_type": "markdown",
   "metadata": {},
   "source": [
    "##### Dropper"
   ]
  },
  {
   "cell_type": "code",
   "execution_count": 14,
   "metadata": {},
   "outputs": [
    {
     "data": {
      "text/html": [
       "<div><style>\n",
       ".dataframe > thead > tr > th,\n",
       ".dataframe > tbody > tr > td {\n",
       "  text-align: right;\n",
       "  white-space: pre-wrap;\n",
       "}\n",
       "</style>\n",
       "<small>shape: (4, 2)</small><table border=\"1\" class=\"dataframe\"><thead><tr><th>home_ownership</th><th>counts</th></tr><tr><td>str</td><td>u32</td></tr></thead><tbody><tr><td>&quot;OWN&quot;</td><td>139847</td></tr><tr><td>&quot;OTHER&quot;</td><td>345</td></tr><tr><td>&quot;MORTGAGE&quot;</td><td>648733</td></tr><tr><td>&quot;RENT&quot;</td><td>523622</td></tr></tbody></table></div>"
      ],
      "text/plain": [
       "shape: (4, 2)\n",
       "┌────────────────┬────────┐\n",
       "│ home_ownership ┆ counts │\n",
       "│ ---            ┆ ---    │\n",
       "│ str            ┆ u32    │\n",
       "╞════════════════╪════════╡\n",
       "│ OWN            ┆ 139847 │\n",
       "│ OTHER          ┆ 345    │\n",
       "│ MORTGAGE       ┆ 648733 │\n",
       "│ RENT           ┆ 523622 │\n",
       "└────────────────┴────────┘"
      ]
     },
     "execution_count": 14,
     "metadata": {},
     "output_type": "execute_result"
    }
   ],
   "source": [
    "data_train_single['home_ownership'].value_counts()"
   ]
  },
  {
   "cell_type": "code",
   "execution_count": 15,
   "metadata": {},
   "outputs": [],
   "source": [
    "feature_dropper = tr.FeatureRemover([])\n",
    "preprocess_single.steps.append(('feature_dropper',feature_dropper))\n",
    "full_pipeline_single = Pipeline(\n",
    "    [(\"preprocess\", preprocess_single), (\"model\", model_single)]\n",
    ")"
   ]
  },
  {
   "cell_type": "code",
   "execution_count": 21,
   "metadata": {},
   "outputs": [
    {
     "name": "stdout",
     "output_type": "stream",
     "text": [
      "              precision    recall  f1-score   support\n",
      "\n",
      "           1       0.57      0.89      0.69     72529\n",
      "           2       0.74      0.64      0.69    121365\n",
      "           3       0.83      0.68      0.75    130148\n",
      "           4       0.58      0.55      0.57     50567\n",
      "           5       0.28      0.17      0.21     17982\n",
      "           6       0.03      0.04      0.03      5509\n",
      "           7       0.25      0.78      0.37      3054\n",
      "\n",
      "    accuracy                           0.66    401154\n",
      "   macro avg       0.47      0.53      0.47    401154\n",
      "weighted avg       0.68      0.66      0.66    401154\n",
      "\n",
      "0.4727289392724257\n"
     ]
    }
   ],
   "source": [
    "preds=full_pipeline_single.predict(X_val_single)\n",
    "print(classification_report(y_val_single,preds))\n",
    "from sklearn.metrics import f1_score\n",
    "print(f1_score(y_val_single,preds,average='macro'))"
   ]
  },
  {
   "cell_type": "code",
   "execution_count": 16,
   "metadata": {},
   "outputs": [],
   "source": [
    "models = tunes.Models()\n",
    "search_space_lgbm = {\n",
    "    \"preprocess__feature_dropper__feats_to_drop\": tune.choice(cols_to_drop_space),\n",
    "    \"model__num_leaves\": tune.randint(10, 250),\n",
    "    \"model__n_estimators\": tune.randint(10, 250),\n",
    "    \"model__learning_rate\": tune.loguniform(0.001, 0.1),\n",
    "    \"model__bagging_freq\": tune.randint(0, 10),\n",
    "    \"model__colsample_bytree\": tune.uniform(0.2, 1.0),\n",
    "    \"model__subsample\": tune.uniform(0.2, 1.0),\n",
    "    \"model__reg_alpha\": tune.loguniform(0.001, 100),\n",
    "    \"model__reg_lambda\": tune.loguniform(0.001, 100),\n",
    "    \"model__boosting_type\": tune.choice([\"gbdt\", \"dart\", \"rf\"]),\n",
    "    \"model__class_weight\": tune.choice([\"balanced\", None]),\n",
    "    \"model__max_bin\": tune.randint(5, 200),\n",
    "}\n",
    "\n",
    "models.add_model(\"lgbm_grade_single\", full_pipeline_single, search_space_lgbm, metric_threshold=0.4)"
   ]
  },
  {
   "cell_type": "code",
   "execution_count": 24,
   "metadata": {},
   "outputs": [
    {
     "data": {
      "text/html": [
       "<div class=\"tuneStatus\">\n",
       "  <div style=\"display: flex;flex-direction: row\">\n",
       "    <div style=\"display: flex;flex-direction: column;\">\n",
       "      <h3>Tune Status</h3>\n",
       "      <table>\n",
       "<tbody>\n",
       "<tr><td>Current time:</td><td>2023-10-12 12:21:31</td></tr>\n",
       "<tr><td>Running for: </td><td>00:04:00.65        </td></tr>\n",
       "<tr><td>Memory:      </td><td>12.0/31.2 GiB      </td></tr>\n",
       "</tbody>\n",
       "</table>\n",
       "    </div>\n",
       "    <div class=\"vDivider\"></div>\n",
       "    <div class=\"systemInfo\">\n",
       "      <h3>System Info</h3>\n",
       "      Using FIFO scheduling algorithm.<br>Logical resource usage: 1.0/12 CPUs, 0/1 GPUs (0.0/1.0 accelerator_type:G)\n",
       "    </div>\n",
       "    \n",
       "  </div>\n",
       "  <div class=\"hDivider\"></div>\n",
       "  <div class=\"trialStatus\">\n",
       "    <h3>Trial Status</h3>\n",
       "    <table>\n",
       "<thead>\n",
       "<tr><th>Trial name        </th><th>status    </th><th>loc                </th><th style=\"text-align: right;\">  model__bagging_freq</th><th>model__boosting_type  </th><th>model__class_weight  </th><th style=\"text-align: right;\">         model__colsample_byt\n",
       "ree</th><th style=\"text-align: right;\">  model__learning_rate</th><th style=\"text-align: right;\">  model__max_bin</th><th style=\"text-align: right;\">  model__n_estimators</th><th style=\"text-align: right;\">  model__num_leaves</th><th style=\"text-align: right;\">  model__reg_alpha</th><th style=\"text-align: right;\">  model__reg_lambda</th><th style=\"text-align: right;\">  model__subsample</th><th>...ocess__feature_dr\n",
       "opper__feats_to_drop                     </th><th style=\"text-align: right;\">  iter</th><th style=\"text-align: right;\">  total time (s)</th><th style=\"text-align: right;\">   score</th></tr>\n",
       "</thead>\n",
       "<tbody>\n",
       "<tr><td>Trainable_e9183ce3</td><td>TERMINATED</td><td>192.168.0.103:19500</td><td style=\"text-align: right;\">                    7</td><td>gbdt                  </td><td>balanced             </td><td style=\"text-align: right;\">0.645035</td><td style=\"text-align: right;\">            0.0111429 </td><td style=\"text-align: right;\">             192</td><td style=\"text-align: right;\">                  134</td><td style=\"text-align: right;\">                 28</td><td style=\"text-align: right;\">       82.2006    </td><td style=\"text-align: right;\">         0.00909809</td><td style=\"text-align: right;\">          0.336229</td><td>[&#x27;home_ownershi_7380</td><td style=\"text-align: right;\">     3</td><td style=\"text-align: right;\">        0.684761</td><td style=\"text-align: right;\">0.162838</td></tr>\n",
       "<tr><td>Trainable_48ce93b1</td><td>TERMINATED</td><td>192.168.0.103:19545</td><td style=\"text-align: right;\">                    0</td><td>rf                    </td><td>balanced             </td><td style=\"text-align: right;\">0.54535 </td><td style=\"text-align: right;\">            0.0381468 </td><td style=\"text-align: right;\">             185</td><td style=\"text-align: right;\">                   90</td><td style=\"text-align: right;\">                170</td><td style=\"text-align: right;\">        0.884491  </td><td style=\"text-align: right;\">         0.00106831</td><td style=\"text-align: right;\">          0.763687</td><td>[&#x27;delinq_2yrs&#x27;,_9e40</td><td style=\"text-align: right;\">     3</td><td style=\"text-align: right;\">        5.71969 </td><td style=\"text-align: right;\">0.354988</td></tr>\n",
       "<tr><td>Trainable_1cac6658</td><td>TERMINATED</td><td>192.168.0.103:19601</td><td style=\"text-align: right;\">                    1</td><td>rf                    </td><td>balanced             </td><td style=\"text-align: right;\">0.928115</td><td style=\"text-align: right;\">            0.0538549 </td><td style=\"text-align: right;\">              98</td><td style=\"text-align: right;\">                  230</td><td style=\"text-align: right;\">                194</td><td style=\"text-align: right;\">        0.00193928</td><td style=\"text-align: right;\">        35.7895    </td><td style=\"text-align: right;\">          0.430891</td><td>[&#x27;home_ownershi_0380</td><td style=\"text-align: right;\">     3</td><td style=\"text-align: right;\">        3.53596 </td><td style=\"text-align: right;\">0.275327</td></tr>\n",
       "<tr><td>Trainable_0c52134e</td><td>TERMINATED</td><td>192.168.0.103:19655</td><td style=\"text-align: right;\">                    7</td><td>gbdt                  </td><td>balanced             </td><td style=\"text-align: right;\">0.618703</td><td style=\"text-align: right;\">            0.0556487 </td><td style=\"text-align: right;\">             129</td><td style=\"text-align: right;\">                  218</td><td style=\"text-align: right;\">                 21</td><td style=\"text-align: right;\">        4.5849    </td><td style=\"text-align: right;\">         0.0170802 </td><td style=\"text-align: right;\">          0.78594 </td><td>[&#x27;home_ownershi_11c0</td><td style=\"text-align: right;\">     3</td><td style=\"text-align: right;\">        3.94585 </td><td style=\"text-align: right;\">0.406647</td></tr>\n",
       "<tr><td>Trainable_1dc2cb7d</td><td>TERMINATED</td><td>192.168.0.103:19707</td><td style=\"text-align: right;\">                    7</td><td>gbdt                  </td><td>balanced             </td><td style=\"text-align: right;\">0.983048</td><td style=\"text-align: right;\">            0.00261553</td><td style=\"text-align: right;\">             122</td><td style=\"text-align: right;\">                  235</td><td style=\"text-align: right;\">                105</td><td style=\"text-align: right;\">        0.252589  </td><td style=\"text-align: right;\">        17.8163    </td><td style=\"text-align: right;\">          0.786424</td><td>[&#x27;home_ownershi_a800</td><td style=\"text-align: right;\">     3</td><td style=\"text-align: right;\">        7.13656 </td><td style=\"text-align: right;\">0.307921</td></tr>\n",
       "<tr><td>Trainable_84e5af11</td><td>TERMINATED</td><td>192.168.0.103:19802</td><td style=\"text-align: right;\">                    3</td><td>rf                    </td><td>                     </td><td style=\"text-align: right;\">0.220323</td><td style=\"text-align: right;\">            0.052315  </td><td style=\"text-align: right;\">             126</td><td style=\"text-align: right;\">                   11</td><td style=\"text-align: right;\">                 84</td><td style=\"text-align: right;\">       19.1544    </td><td style=\"text-align: right;\">         0.00249373</td><td style=\"text-align: right;\">          0.853591</td><td>[&#x27;home_ownershi_2c80</td><td style=\"text-align: right;\">     3</td><td style=\"text-align: right;\">        0.314125</td><td style=\"text-align: right;\">0.206669</td></tr>\n",
       "<tr><td>Trainable_d3c11957</td><td>TERMINATED</td><td>192.168.0.103:19862</td><td style=\"text-align: right;\">                    4</td><td>dart                  </td><td>balanced             </td><td style=\"text-align: right;\">0.267598</td><td style=\"text-align: right;\">            0.00815006</td><td style=\"text-align: right;\">              94</td><td style=\"text-align: right;\">                   76</td><td style=\"text-align: right;\">                 62</td><td style=\"text-align: right;\">        0.00692338</td><td style=\"text-align: right;\">         1.10084   </td><td style=\"text-align: right;\">          0.403924</td><td>[&#x27;home_ownershi_7600</td><td style=\"text-align: right;\">     3</td><td style=\"text-align: right;\">        2.04868 </td><td style=\"text-align: right;\">0.296038</td></tr>\n",
       "<tr><td>Trainable_3c3b0133</td><td>TERMINATED</td><td>192.168.0.103:19915</td><td style=\"text-align: right;\">                    1</td><td>gbdt                  </td><td>                     </td><td style=\"text-align: right;\">0.649104</td><td style=\"text-align: right;\">            0.00108699</td><td style=\"text-align: right;\">             169</td><td style=\"text-align: right;\">                  109</td><td style=\"text-align: right;\">                 19</td><td style=\"text-align: right;\">       47.9802    </td><td style=\"text-align: right;\">         0.00464048</td><td style=\"text-align: right;\">          0.550626</td><td>[&#x27;home_ownershi_bc00</td><td style=\"text-align: right;\">     3</td><td style=\"text-align: right;\">        1.06332 </td><td style=\"text-align: right;\">0.118032</td></tr>\n",
       "<tr><td>Trainable_eb8f406a</td><td>TERMINATED</td><td>192.168.0.103:19979</td><td style=\"text-align: right;\">                    1</td><td>dart                  </td><td>                     </td><td style=\"text-align: right;\">0.378812</td><td style=\"text-align: right;\">            0.0245077 </td><td style=\"text-align: right;\">              87</td><td style=\"text-align: right;\">                  195</td><td style=\"text-align: right;\">                141</td><td style=\"text-align: right;\">       12.1218    </td><td style=\"text-align: right;\">         0.520988  </td><td style=\"text-align: right;\">          0.38492 </td><td>[&#x27;home_ownershi_3480</td><td style=\"text-align: right;\">     3</td><td style=\"text-align: right;\">        4.12599 </td><td style=\"text-align: right;\">0.235042</td></tr>\n",
       "<tr><td>Trainable_09c70bda</td><td>TERMINATED</td><td>192.168.0.103:20031</td><td style=\"text-align: right;\">                    4</td><td>dart                  </td><td>balanced             </td><td style=\"text-align: right;\">0.795956</td><td style=\"text-align: right;\">            0.0230489 </td><td style=\"text-align: right;\">             106</td><td style=\"text-align: right;\">                   10</td><td style=\"text-align: right;\">                245</td><td style=\"text-align: right;\">        0.048353  </td><td style=\"text-align: right;\">         0.0168488 </td><td style=\"text-align: right;\">          0.514953</td><td>[&#x27;home_ownershi_4b40</td><td style=\"text-align: right;\">     3</td><td style=\"text-align: right;\">        0.701465</td><td style=\"text-align: right;\">0.327085</td></tr>\n",
       "<tr><td>Trainable_7e64e116</td><td>TERMINATED</td><td>192.168.0.103:20092</td><td style=\"text-align: right;\">                    0</td><td>gbdt                  </td><td>balanced             </td><td style=\"text-align: right;\">0.591958</td><td style=\"text-align: right;\">            0.0337828 </td><td style=\"text-align: right;\">               8</td><td style=\"text-align: right;\">                  146</td><td style=\"text-align: right;\">                102</td><td style=\"text-align: right;\">        0.00921193</td><td style=\"text-align: right;\">         0.0023826 </td><td style=\"text-align: right;\">          0.34319 </td><td>[&#x27;home_ownershi_56c0</td><td style=\"text-align: right;\">     3</td><td style=\"text-align: right;\">        3.38519 </td><td style=\"text-align: right;\">0.346611</td></tr>\n",
       "<tr><td>Trainable_4f842d5b</td><td>TERMINATED</td><td>192.168.0.103:20152</td><td style=\"text-align: right;\">                    9</td><td>gbdt                  </td><td>                     </td><td style=\"text-align: right;\">0.463411</td><td style=\"text-align: right;\">            0.0845384 </td><td style=\"text-align: right;\">              21</td><td style=\"text-align: right;\">                  179</td><td style=\"text-align: right;\">                 54</td><td style=\"text-align: right;\">        2.81859   </td><td style=\"text-align: right;\">         0.0597978 </td><td style=\"text-align: right;\">          0.996883</td><td>[&#x27;home_ownershi_9780</td><td style=\"text-align: right;\">     3</td><td style=\"text-align: right;\">        3.96729 </td><td style=\"text-align: right;\">0.35024 </td></tr>\n",
       "<tr><td>Trainable_a4f4324e</td><td>TERMINATED</td><td>192.168.0.103:20205</td><td style=\"text-align: right;\">                    9</td><td>rf                    </td><td>balanced             </td><td style=\"text-align: right;\">0.48282 </td><td style=\"text-align: right;\">            0.0843233 </td><td style=\"text-align: right;\">             157</td><td style=\"text-align: right;\">                   79</td><td style=\"text-align: right;\">                165</td><td style=\"text-align: right;\">        2.20493   </td><td style=\"text-align: right;\">         0.041366  </td><td style=\"text-align: right;\">          0.724703</td><td>[&#x27;delinq_2yrs&#x27;,_5f40</td><td style=\"text-align: right;\">     3</td><td style=\"text-align: right;\">        3.62822 </td><td style=\"text-align: right;\">0.346059</td></tr>\n",
       "<tr><td>Trainable_fab58b18</td><td>TERMINATED</td><td>192.168.0.103:20319</td><td style=\"text-align: right;\">                    6</td><td>rf                    </td><td>balanced             </td><td style=\"text-align: right;\">0.527777</td><td style=\"text-align: right;\">            0.0725744 </td><td style=\"text-align: right;\">             157</td><td style=\"text-align: right;\">                   72</td><td style=\"text-align: right;\">                157</td><td style=\"text-align: right;\">        2.4684    </td><td style=\"text-align: right;\">         0.00129524</td><td style=\"text-align: right;\">          0.703084</td><td>[&#x27;delinq_2yrs&#x27;,_6f80</td><td style=\"text-align: right;\">     3</td><td style=\"text-align: right;\">        3.17354 </td><td style=\"text-align: right;\">0.332343</td></tr>\n",
       "<tr><td>Trainable_5392f735</td><td>TERMINATED</td><td>192.168.0.103:20372</td><td style=\"text-align: right;\">                    6</td><td>rf                    </td><td>balanced             </td><td style=\"text-align: right;\">0.719985</td><td style=\"text-align: right;\">            0.0925757 </td><td style=\"text-align: right;\">             165</td><td style=\"text-align: right;\">                   67</td><td style=\"text-align: right;\">                198</td><td style=\"text-align: right;\">        0.805535  </td><td style=\"text-align: right;\">         0.00120976</td><td style=\"text-align: right;\">          0.68747 </td><td>[&#x27;home_ownershi_d380</td><td style=\"text-align: right;\">     3</td><td style=\"text-align: right;\">        3.74726 </td><td style=\"text-align: right;\">0.348564</td></tr>\n",
       "<tr><td>Trainable_465cfce5</td><td>TERMINATED</td><td>192.168.0.103:20425</td><td style=\"text-align: right;\">                    6</td><td>rf                    </td><td>balanced             </td><td style=\"text-align: right;\">0.730062</td><td style=\"text-align: right;\">            0.0369216 </td><td style=\"text-align: right;\">              51</td><td style=\"text-align: right;\">                  176</td><td style=\"text-align: right;\">                191</td><td style=\"text-align: right;\">        0.40191   </td><td style=\"text-align: right;\">         0.00121148</td><td style=\"text-align: right;\">          0.209491</td><td>[&#x27;home_ownershi_4e80</td><td style=\"text-align: right;\">     3</td><td style=\"text-align: right;\">        2.8065  </td><td style=\"text-align: right;\">0.314485</td></tr>\n",
       "<tr><td>Trainable_2319ee0a</td><td>TERMINATED</td><td>192.168.0.103:20483</td><td style=\"text-align: right;\">                    3</td><td>gbdt                  </td><td>balanced             </td><td style=\"text-align: right;\">0.383531</td><td style=\"text-align: right;\">            0.0353461 </td><td style=\"text-align: right;\">              63</td><td style=\"text-align: right;\">                  173</td><td style=\"text-align: right;\">                231</td><td style=\"text-align: right;\">        0.13014   </td><td style=\"text-align: right;\">         0.0111113 </td><td style=\"text-align: right;\">          0.225889</td><td>[&#x27;home_ownershi_5500</td><td style=\"text-align: right;\">     3</td><td style=\"text-align: right;\">        3.16251 </td><td style=\"text-align: right;\">0.317079</td></tr>\n",
       "<tr><td>Trainable_c3739f4e</td><td>TERMINATED</td><td>192.168.0.103:20542</td><td style=\"text-align: right;\">                    3</td><td>gbdt                  </td><td>balanced             </td><td style=\"text-align: right;\">0.383559</td><td style=\"text-align: right;\">            0.0177099 </td><td style=\"text-align: right;\">             186</td><td style=\"text-align: right;\">                  112</td><td style=\"text-align: right;\">                119</td><td style=\"text-align: right;\">        0.112225  </td><td style=\"text-align: right;\">         0.00973506</td><td style=\"text-align: right;\">          0.868061</td><td>[]                  </td><td style=\"text-align: right;\">     3</td><td style=\"text-align: right;\">        6.10262 </td><td style=\"text-align: right;\">0.38927 </td></tr>\n",
       "<tr><td>Trainable_6dadd492</td><td>TERMINATED</td><td>192.168.0.103:20594</td><td style=\"text-align: right;\">                    8</td><td>rf                    </td><td>balanced             </td><td style=\"text-align: right;\">0.569015</td><td style=\"text-align: right;\">            0.0151695 </td><td style=\"text-align: right;\">             190</td><td style=\"text-align: right;\">                  117</td><td style=\"text-align: right;\">                124</td><td style=\"text-align: right;\">        5.86883   </td><td style=\"text-align: right;\">         0.0774314 </td><td style=\"text-align: right;\">          0.624428</td><td>[&#x27;home_ownershi_5fc0</td><td style=\"text-align: right;\">     3</td><td style=\"text-align: right;\">        3.54306 </td><td style=\"text-align: right;\">0.310365</td></tr>\n",
       "<tr><td>Trainable_bce1cfaf</td><td>TERMINATED</td><td>192.168.0.103:20648</td><td style=\"text-align: right;\">                    8</td><td>gbdt                  </td><td>                     </td><td style=\"text-align: right;\">0.371321</td><td style=\"text-align: right;\">            0.0161783 </td><td style=\"text-align: right;\">             135</td><td style=\"text-align: right;\">                  209</td><td style=\"text-align: right;\">                112</td><td style=\"text-align: right;\">        0.0652349 </td><td style=\"text-align: right;\">         0.101082  </td><td style=\"text-align: right;\">          0.909875</td><td>[]                  </td><td style=\"text-align: right;\">     3</td><td style=\"text-align: right;\">        8.94875 </td><td style=\"text-align: right;\">0.350346</td></tr>\n",
       "</tbody>\n",
       "</table>\n",
       "  </div>\n",
       "</div>\n",
       "<style>\n",
       ".tuneStatus {\n",
       "  color: var(--jp-ui-font-color1);\n",
       "}\n",
       ".tuneStatus .systemInfo {\n",
       "  display: flex;\n",
       "  flex-direction: column;\n",
       "}\n",
       ".tuneStatus td {\n",
       "  white-space: nowrap;\n",
       "}\n",
       ".tuneStatus .trialStatus {\n",
       "  display: flex;\n",
       "  flex-direction: column;\n",
       "}\n",
       ".tuneStatus h3 {\n",
       "  font-weight: bold;\n",
       "}\n",
       ".tuneStatus .hDivider {\n",
       "  border-bottom-width: var(--jp-border-width);\n",
       "  border-bottom-color: var(--jp-border-color0);\n",
       "  border-bottom-style: solid;\n",
       "}\n",
       ".tuneStatus .vDivider {\n",
       "  border-left-width: var(--jp-border-width);\n",
       "  border-left-color: var(--jp-border-color0);\n",
       "  border-left-style: solid;\n",
       "  margin: 0.5em 1em 0.5em 1em;\n",
       "}\n",
       "</style>\n"
      ],
      "text/plain": [
       "<IPython.core.display.HTML object>"
      ]
     },
     "metadata": {},
     "output_type": "display_data"
    },
    {
     "name": "stdout",
     "output_type": "stream",
     "text": [
      "\u001b[2m\u001b[36m(Trainable pid=19500)\u001b[0m Step 0 F-1 Score: 0.16160797819441686\n",
      "\u001b[2m\u001b[36m(Trainable pid=19500)\u001b[0m Step 1 F-1 Score: 0.19385723441207228\n",
      "\u001b[2m\u001b[36m(Trainable pid=19500)\u001b[0m Step 2 F-1 Score: 0.16283795408468626\n",
      "\u001b[2m\u001b[36m(Trainable pid=19545)\u001b[0m Step 0 F-1 Score: 0.3643678607135766\n",
      "\u001b[2m\u001b[36m(Trainable pid=19545)\u001b[0m Step 1 F-1 Score: 0.371014149583794\n",
      "\u001b[2m\u001b[36m(Trainable pid=19545)\u001b[0m Step 2 F-1 Score: 0.35498780413858205\n"
     ]
    },
    {
     "name": "stderr",
     "output_type": "stream",
     "text": [
      "\u001b[2m\u001b[36m(Trainable pid=19601)\u001b[0m Trainable.setup took 10.115 seconds. If your trainable is slow to initialize, consider setting reuse_actors=True to reduce actor creation overheads.\n"
     ]
    },
    {
     "name": "stdout",
     "output_type": "stream",
     "text": [
      "\u001b[2m\u001b[36m(Trainable pid=19601)\u001b[0m Step 0 F-1 Score: 0.27825031316164067\n",
      "\u001b[2m\u001b[36m(Trainable pid=19601)\u001b[0m Step 1 F-1 Score: 0.28565060095901484\n",
      "\u001b[2m\u001b[36m(Trainable pid=19601)\u001b[0m Step 2 F-1 Score: 0.2753270631114353\n",
      "\u001b[2m\u001b[36m(Trainable pid=19655)\u001b[0m Step 0 F-1 Score: 0.40289077678216284\n",
      "\u001b[2m\u001b[36m(Trainable pid=19655)\u001b[0m Step 1 F-1 Score: 0.39200295696535786\n",
      "\u001b[2m\u001b[36m(Trainable pid=19655)\u001b[0m Step 2 F-1 Score: 0.4066474262070133\n"
     ]
    },
    {
     "name": "stderr",
     "output_type": "stream",
     "text": [
      "\u001b[2m\u001b[36m(Trainable pid=19707)\u001b[0m Trainable.setup took 10.635 seconds. If your trainable is slow to initialize, consider setting reuse_actors=True to reduce actor creation overheads.\n"
     ]
    },
    {
     "name": "stdout",
     "output_type": "stream",
     "text": [
      "\u001b[2m\u001b[36m(Trainable pid=19707)\u001b[0m Step 0 F-1 Score: 0.32004979024299784\n",
      "\u001b[2m\u001b[36m(Trainable pid=19707)\u001b[0m Step 1 F-1 Score: 0.32192491716036137\n",
      "\u001b[2m\u001b[36m(Trainable pid=19707)\u001b[0m Step 2 F-1 Score: 0.3079205639655122\n",
      "\u001b[2m\u001b[36m(Trainable pid=19802)\u001b[0m Step 0 F-1 Score: 0.21464033102564642\n",
      "\u001b[2m\u001b[36m(Trainable pid=19802)\u001b[0m Step 1 F-1 Score: 0.21954858344984549\n",
      "\u001b[2m\u001b[36m(Trainable pid=19802)\u001b[0m Step 2 F-1 Score: 0.20666883714118997\n"
     ]
    },
    {
     "name": "stderr",
     "output_type": "stream",
     "text": [
      "\u001b[2m\u001b[36m(Trainable pid=19862)\u001b[0m Trainable.setup took 10.027 seconds. If your trainable is slow to initialize, consider setting reuse_actors=True to reduce actor creation overheads.\n"
     ]
    },
    {
     "name": "stdout",
     "output_type": "stream",
     "text": [
      "\u001b[2m\u001b[36m(Trainable pid=19862)\u001b[0m Step 0 F-1 Score: 0.30560920130656094\n",
      "\u001b[2m\u001b[36m(Trainable pid=19862)\u001b[0m Step 1 F-1 Score: 0.3163896928666006\n",
      "\u001b[2m\u001b[36m(Trainable pid=19862)\u001b[0m Step 2 F-1 Score: 0.2960376942800328\n"
     ]
    },
    {
     "name": "stderr",
     "output_type": "stream",
     "text": [
      "\u001b[2m\u001b[36m(Trainable pid=19915)\u001b[0m Trainable.setup took 10.152 seconds. If your trainable is slow to initialize, consider setting reuse_actors=True to reduce actor creation overheads.\n"
     ]
    },
    {
     "name": "stdout",
     "output_type": "stream",
     "text": [
      "\u001b[2m\u001b[36m(Trainable pid=19915)\u001b[0m Step 0 F-1 Score: 0.11142397835144734\n",
      "\u001b[2m\u001b[36m(Trainable pid=19915)\u001b[0m Step 1 F-1 Score: 0.114646168201794\n",
      "\u001b[2m\u001b[36m(Trainable pid=19915)\u001b[0m Step 2 F-1 Score: 0.11803170935744732\n"
     ]
    },
    {
     "name": "stderr",
     "output_type": "stream",
     "text": [
      "\u001b[2m\u001b[36m(Trainable pid=19979)\u001b[0m Trainable.setup took 10.224 seconds. If your trainable is slow to initialize, consider setting reuse_actors=True to reduce actor creation overheads.\n"
     ]
    },
    {
     "name": "stdout",
     "output_type": "stream",
     "text": [
      "\u001b[2m\u001b[36m(Trainable pid=19979)\u001b[0m Step 0 F-1 Score: 0.24313949166091114\n",
      "\u001b[2m\u001b[36m(Trainable pid=19979)\u001b[0m Step 1 F-1 Score: 0.2356367648572089\n",
      "\u001b[2m\u001b[36m(Trainable pid=19979)\u001b[0m Step 2 F-1 Score: 0.2350420646266366\n"
     ]
    },
    {
     "name": "stderr",
     "output_type": "stream",
     "text": [
      "\u001b[2m\u001b[36m(Trainable pid=20031)\u001b[0m Trainable.setup took 10.108 seconds. If your trainable is slow to initialize, consider setting reuse_actors=True to reduce actor creation overheads.\n"
     ]
    },
    {
     "name": "stdout",
     "output_type": "stream",
     "text": [
      "\u001b[2m\u001b[36m(Trainable pid=20031)\u001b[0m Step 0 F-1 Score: 0.3040643322441361\n",
      "\u001b[2m\u001b[36m(Trainable pid=20031)\u001b[0m Step 1 F-1 Score: 0.3259734014111011\n",
      "\u001b[2m\u001b[36m(Trainable pid=20031)\u001b[0m Step 2 F-1 Score: 0.32708511257039957\n"
     ]
    },
    {
     "name": "stderr",
     "output_type": "stream",
     "text": [
      "\u001b[2m\u001b[36m(Trainable pid=20092)\u001b[0m Trainable.setup took 10.048 seconds. If your trainable is slow to initialize, consider setting reuse_actors=True to reduce actor creation overheads.\n"
     ]
    },
    {
     "name": "stdout",
     "output_type": "stream",
     "text": [
      "\u001b[2m\u001b[36m(Trainable pid=20092)\u001b[0m Step 0 F-1 Score: 0.32159221695701995\n",
      "\u001b[2m\u001b[36m(Trainable pid=20092)\u001b[0m Step 1 F-1 Score: 0.3180190058675227\n",
      "\u001b[2m\u001b[36m(Trainable pid=20092)\u001b[0m Step 2 F-1 Score: 0.3466106775937181\n"
     ]
    },
    {
     "name": "stderr",
     "output_type": "stream",
     "text": [
      "\u001b[2m\u001b[36m(Trainable pid=20152)\u001b[0m Trainable.setup took 10.303 seconds. If your trainable is slow to initialize, consider setting reuse_actors=True to reduce actor creation overheads.\n"
     ]
    },
    {
     "name": "stdout",
     "output_type": "stream",
     "text": [
      "\u001b[2m\u001b[36m(Trainable pid=20152)\u001b[0m Step 0 F-1 Score: 0.3099598880031735\n",
      "\u001b[2m\u001b[36m(Trainable pid=20152)\u001b[0m Step 1 F-1 Score: 0.33118986038088544\n",
      "\u001b[2m\u001b[36m(Trainable pid=20152)\u001b[0m Step 2 F-1 Score: 0.3502403099304881\n",
      "\u001b[2m\u001b[36m(Trainable pid=20205)\u001b[0m Step 0 F-1 Score: 0.33848063262183753\n",
      "\u001b[2m\u001b[36m(Trainable pid=20205)\u001b[0m Step 1 F-1 Score: 0.3469062347210686\n",
      "\u001b[2m\u001b[36m(Trainable pid=20205)\u001b[0m Step 2 F-1 Score: 0.3460589601973972\n"
     ]
    },
    {
     "name": "stderr",
     "output_type": "stream",
     "text": [
      "\u001b[2m\u001b[36m(Trainable pid=20319)\u001b[0m Trainable.setup took 10.067 seconds. If your trainable is slow to initialize, consider setting reuse_actors=True to reduce actor creation overheads.\n"
     ]
    },
    {
     "name": "stdout",
     "output_type": "stream",
     "text": [
      "\u001b[2m\u001b[36m(Trainable pid=20319)\u001b[0m Step 0 F-1 Score: 0.33634850359082497\n",
      "\u001b[2m\u001b[36m(Trainable pid=20319)\u001b[0m Step 1 F-1 Score: 0.338726439891441\n",
      "\u001b[2m\u001b[36m(Trainable pid=20319)\u001b[0m Step 2 F-1 Score: 0.3323433397189505\n"
     ]
    },
    {
     "name": "stderr",
     "output_type": "stream",
     "text": [
      "\u001b[2m\u001b[36m(Trainable pid=20372)\u001b[0m Trainable.setup took 10.189 seconds. If your trainable is slow to initialize, consider setting reuse_actors=True to reduce actor creation overheads.\n"
     ]
    },
    {
     "name": "stdout",
     "output_type": "stream",
     "text": [
      "\u001b[2m\u001b[36m(Trainable pid=20372)\u001b[0m Step 0 F-1 Score: 0.3465238090306429\n",
      "\u001b[2m\u001b[36m(Trainable pid=20372)\u001b[0m Step 1 F-1 Score: 0.3567269882965193\n",
      "\u001b[2m\u001b[36m(Trainable pid=20372)\u001b[0m Step 2 F-1 Score: 0.34856368726365716\n"
     ]
    },
    {
     "name": "stderr",
     "output_type": "stream",
     "text": [
      "\u001b[2m\u001b[36m(Trainable pid=20425)\u001b[0m Trainable.setup took 10.254 seconds. If your trainable is slow to initialize, consider setting reuse_actors=True to reduce actor creation overheads.\n"
     ]
    },
    {
     "name": "stdout",
     "output_type": "stream",
     "text": [
      "\u001b[2m\u001b[36m(Trainable pid=20425)\u001b[0m Step 0 F-1 Score: 0.29008576265287267\n",
      "\u001b[2m\u001b[36m(Trainable pid=20425)\u001b[0m Step 1 F-1 Score: 0.310666421914931\n",
      "\u001b[2m\u001b[36m(Trainable pid=20425)\u001b[0m Step 2 F-1 Score: 0.3144851836434609\n",
      "\u001b[2m\u001b[36m(Trainable pid=20483)\u001b[0m Step 0 F-1 Score: 0.3234068229334325\n",
      "\u001b[2m\u001b[36m(Trainable pid=20483)\u001b[0m Step 1 F-1 Score: 0.3122260467253711\n",
      "\u001b[2m\u001b[36m(Trainable pid=20483)\u001b[0m Step 2 F-1 Score: 0.31707902567012525\n",
      "\u001b[2m\u001b[36m(Trainable pid=20542)\u001b[0m Step 0 F-1 Score: 0.39537119032890533\n",
      "\u001b[2m\u001b[36m(Trainable pid=20542)\u001b[0m Step 1 F-1 Score: 0.39012866679544794\n",
      "\u001b[2m\u001b[36m(Trainable pid=20542)\u001b[0m Step 2 F-1 Score: 0.3892699212134033\n",
      "\u001b[2m\u001b[36m(Trainable pid=20594)\u001b[0m Step 0 F-1 Score: 0.3053622763210117\n",
      "\u001b[2m\u001b[36m(Trainable pid=20594)\u001b[0m Step 1 F-1 Score: 0.30794718239788116\n",
      "\u001b[2m\u001b[36m(Trainable pid=20594)\u001b[0m Step 2 F-1 Score: 0.31036457212766233\n"
     ]
    },
    {
     "name": "stderr",
     "output_type": "stream",
     "text": [
      "\u001b[2m\u001b[36m(Trainable pid=20648)\u001b[0m Trainable.setup took 10.040 seconds. If your trainable is slow to initialize, consider setting reuse_actors=True to reduce actor creation overheads.\n"
     ]
    },
    {
     "name": "stdout",
     "output_type": "stream",
     "text": [
      "\u001b[2m\u001b[36m(Trainable pid=20648)\u001b[0m Step 0 F-1 Score: 0.3182956886944798\n",
      "\u001b[2m\u001b[36m(Trainable pid=20648)\u001b[0m Step 1 F-1 Score: 0.3312540667873666\n"
     ]
    },
    {
     "name": "stderr",
     "output_type": "stream",
     "text": [
      "2023-10-12 12:21:31,727\tINFO tune.py:1143 -- Total run time: 240.66 seconds (240.60 seconds for the tuning loop).\n"
     ]
    },
    {
     "name": "stdout",
     "output_type": "stream",
     "text": [
      "\u001b[2m\u001b[36m(Trainable pid=20648)\u001b[0m Step 2 F-1 Score: 0.3503459583137092\n",
      "lgbm_grade_single tuned.\n"
     ]
    }
   ],
   "source": [
    "models.tune_all(X_train_single,y_train_single,X_val_single,y_val_single,n=20,sample_size=10000,average='macro')"
   ]
  },
  {
   "cell_type": "code",
   "execution_count": null,
   "metadata": {},
   "outputs": [],
   "source": []
  }
 ],
 "metadata": {
  "kernelspec": {
   "display_name": "base",
   "language": "python",
   "name": "python3"
  },
  "language_info": {
   "codemirror_mode": {
    "name": "ipython",
    "version": 3
   },
   "file_extension": ".py",
   "mimetype": "text/x-python",
   "name": "python",
   "nbconvert_exporter": "python",
   "pygments_lexer": "ipython3",
   "version": "3.9.13"
  }
 },
 "nbformat": 4,
 "nbformat_minor": 2
}
