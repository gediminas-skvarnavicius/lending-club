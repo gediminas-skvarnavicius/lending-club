{
 "cells": [
  {
   "cell_type": "markdown",
   "metadata": {},
   "source": [
    "# Loan Grade, Sub-Grade and Interest Rate Prediction"
   ]
  },
  {
   "cell_type": "markdown",
   "metadata": {},
   "source": [
    "## Setup"
   ]
  },
  {
   "cell_type": "markdown",
   "metadata": {},
   "source": [
    "### Imports"
   ]
  },
  {
   "cell_type": "code",
   "execution_count": 1,
   "metadata": {},
   "outputs": [],
   "source": [
    "%reload_ext autoreload\n",
    "%autoreload 1\n",
    "import joblib\n",
    "from ray import tune\n",
    "import copy\n",
    "import shap\n",
    "import matplotlib.pyplot as plt\n",
    "import polars as pl\n",
    "import sys\n",
    "import numpy as np\n",
    "from sklearn.model_selection import train_test_split\n",
    "import functions.transformers as tr\n",
    "from functions.transformers import PolarsColumnTransformer as PCT\n",
    "import functions.data_cleaning as dmf\n",
    "import functions.plot_functions as pf\n",
    "import functions.tuning as tunes\n",
    "import functions.statistics as st\n",
    "import functions.feature_engineering as feats\n",
    "import seaborn as sns\n",
    "from sklearn.pipeline import Pipeline\n",
    "from sklearn.metrics import classification_report,f1_score\n",
    "from sklearn.tree import DecisionTreeClassifier\n",
    "from IPython.display import display,Markdown\n",
    "import lightgbm as lgb\n",
    "%aimport functions.tuning\n",
    "%aimport functions.transformers\n",
    "%aimport functions.data_cleaning\n",
    "%aimport functions.plot_functions\n",
    "%aimport functions.feature_engineering\n",
    "%aimport functions.statistics"
   ]
  },
  {
   "cell_type": "markdown",
   "metadata": {},
   "source": [
    "### Data Preparation"
   ]
  },
  {
   "cell_type": "markdown",
   "metadata": {},
   "source": [
    "##### Loading the data:"
   ]
  },
  {
   "cell_type": "code",
   "execution_count": 2,
   "metadata": {},
   "outputs": [],
   "source": [
    "data_train_single=pl.read_parquet('data/data_accepted_single_train.parquet')\n",
    "data_val_single=pl.read_parquet('data/data_accepted_single_val.parquet')\n",
    "data_test_single=pl.read_parquet('data/data_accepted_single_test.parquet')\n",
    "data_train_joint=pl.read_parquet('data/data_accepted_joint_train.parquet')\n",
    "data_val_joint=pl.read_parquet('data/data_accepted_joint_val.parquet')\n",
    "data_test_joint=pl.read_parquet('data/data_accepted_joint_test.parquet')"
   ]
  },
  {
   "cell_type": "markdown",
   "metadata": {},
   "source": [
    "#### Oversampling"
   ]
  },
  {
   "cell_type": "markdown",
   "metadata": {},
   "source": [
    "##### Sub-grades with the lowest representation in single applications:"
   ]
  },
  {
   "cell_type": "code",
   "execution_count": 3,
   "metadata": {},
   "outputs": [
    {
     "data": {
      "text/html": [
       "<div><style>\n",
       ".dataframe > thead > tr > th,\n",
       ".dataframe > tbody > tr > td {\n",
       "  text-align: right;\n",
       "  white-space: pre-wrap;\n",
       "}\n",
       "</style>\n",
       "<small>shape: (10, 2)</small><table border=\"1\" class=\"dataframe\"><thead><tr><th>sub_grade</th><th>counts</th></tr><tr><td>str</td><td>u32</td></tr></thead><tbody><tr><td>&quot;G5&quot;</td><td>873</td></tr><tr><td>&quot;G4&quot;</td><td>1021</td></tr><tr><td>&quot;G3&quot;</td><td>1447</td></tr><tr><td>&quot;G2&quot;</td><td>2003</td></tr><tr><td>&quot;G1&quot;</td><td>2637</td></tr><tr><td>&quot;F5&quot;</td><td>3770</td></tr><tr><td>&quot;F4&quot;</td><td>4773</td></tr><tr><td>&quot;F3&quot;</td><td>6078</td></tr><tr><td>&quot;F2&quot;</td><td>7532</td></tr><tr><td>&quot;F1&quot;</td><td>10009</td></tr></tbody></table></div>"
      ],
      "text/plain": [
       "shape: (10, 2)\n",
       "┌───────────┬────────┐\n",
       "│ sub_grade ┆ counts │\n",
       "│ ---       ┆ ---    │\n",
       "│ str       ┆ u32    │\n",
       "╞═══════════╪════════╡\n",
       "│ G5        ┆ 873    │\n",
       "│ G4        ┆ 1021   │\n",
       "│ G3        ┆ 1447   │\n",
       "│ G2        ┆ 2003   │\n",
       "│ …         ┆ …      │\n",
       "│ F4        ┆ 4773   │\n",
       "│ F3        ┆ 6078   │\n",
       "│ F2        ┆ 7532   │\n",
       "│ F1        ┆ 10009  │\n",
       "└───────────┴────────┘"
      ]
     },
     "execution_count": 3,
     "metadata": {},
     "output_type": "execute_result"
    }
   ],
   "source": [
    "data_train_single['sub_grade'].value_counts().sort('counts')[:10]"
   ]
  },
  {
   "cell_type": "markdown",
   "metadata": {},
   "source": [
    "##### Sub-grades with the lowest representation in joint applications:"
   ]
  },
  {
   "cell_type": "code",
   "execution_count": 4,
   "metadata": {},
   "outputs": [
    {
     "data": {
      "text/html": [
       "<div><style>\n",
       ".dataframe > thead > tr > th,\n",
       ".dataframe > tbody > tr > td {\n",
       "  text-align: right;\n",
       "  white-space: pre-wrap;\n",
       "}\n",
       "</style>\n",
       "<small>shape: (10, 2)</small><table border=\"1\" class=\"dataframe\"><thead><tr><th>sub_grade</th><th>counts</th></tr><tr><td>str</td><td>u32</td></tr></thead><tbody><tr><td>&quot;G2&quot;</td><td>78</td></tr><tr><td>&quot;G4&quot;</td><td>79</td></tr><tr><td>&quot;G3&quot;</td><td>79</td></tr><tr><td>&quot;G5&quot;</td><td>90</td></tr><tr><td>&quot;F4&quot;</td><td>154</td></tr><tr><td>&quot;G1&quot;</td><td>171</td></tr><tr><td>&quot;F2&quot;</td><td>185</td></tr><tr><td>&quot;F5&quot;</td><td>187</td></tr><tr><td>&quot;F3&quot;</td><td>253</td></tr><tr><td>&quot;F1&quot;</td><td>321</td></tr></tbody></table></div>"
      ],
      "text/plain": [
       "shape: (10, 2)\n",
       "┌───────────┬────────┐\n",
       "│ sub_grade ┆ counts │\n",
       "│ ---       ┆ ---    │\n",
       "│ str       ┆ u32    │\n",
       "╞═══════════╪════════╡\n",
       "│ G2        ┆ 78     │\n",
       "│ G4        ┆ 79     │\n",
       "│ G3        ┆ 79     │\n",
       "│ G5        ┆ 90     │\n",
       "│ …         ┆ …      │\n",
       "│ F2        ┆ 185    │\n",
       "│ F5        ┆ 187    │\n",
       "│ F3        ┆ 253    │\n",
       "│ F1        ┆ 321    │\n",
       "└───────────┴────────┘"
      ]
     },
     "execution_count": 4,
     "metadata": {},
     "output_type": "execute_result"
    }
   ],
   "source": [
    "data_train_joint['sub_grade'].value_counts().sort('counts')[:10]"
   ]
  },
  {
   "cell_type": "code",
   "execution_count": 5,
   "metadata": {},
   "outputs": [],
   "source": [
    "data_train_single=data_train_single.vstack(st.oversample_polars(data_train_single,'sub_grade',10000))\n",
    "data_train_joint=data_train_joint.vstack(st.oversample_polars(data_train_joint,'sub_grade',10000))"
   ]
  },
  {
   "cell_type": "code",
   "execution_count": 6,
   "metadata": {},
   "outputs": [],
   "source": [
    "data_train_single=dmf.clean_accepted_single(data_train_single)\n",
    "data_val_single=dmf.clean_accepted_single(data_val_single)\n",
    "data_test_single=dmf.clean_accepted_single(data_test_single)\n",
    "data_train_joint=dmf.clean_accepted_joint(data_train_joint)\n",
    "data_val_joint=dmf.clean_accepted_joint(data_val_joint)\n",
    "data_test_joint=dmf.clean_accepted_joint(data_test_joint)"
   ]
  },
  {
   "cell_type": "markdown",
   "metadata": {},
   "source": [
    "##### Dropping Features:"
   ]
  },
  {
   "cell_type": "code",
   "execution_count": 7,
   "metadata": {},
   "outputs": [],
   "source": [
    "data_train_single=dmf.remove_poor_features_single(data_train_single)\n",
    "data_val_single=dmf.remove_poor_features_single(data_val_single)\n",
    "data_test_single=dmf.remove_poor_features_single(data_test_single)\n",
    "data_train_joint=dmf.remove_poor_features_joint(data_train_joint)\n",
    "data_val_joint=dmf.remove_poor_features_joint(data_val_joint)\n",
    "data_test_joint=dmf.remove_poor_features_joint(data_test_joint)"
   ]
  },
  {
   "cell_type": "markdown",
   "metadata": {},
   "source": [
    "### Feature Engineering"
   ]
  },
  {
   "cell_type": "code",
   "execution_count": 8,
   "metadata": {},
   "outputs": [],
   "source": [
    "data_train_single=feats.date_features(data_train_single,'issue_d')\n",
    "data_val_single=feats.date_features(data_val_single,'issue_d')\n",
    "data_test_single=feats.date_features(data_test_single,'issue_d')\n",
    "data_train_joint=feats.date_features_joint(data_train_joint,'issue_d')\n",
    "data_val_joint=feats.date_features_joint(data_val_joint,'issue_d')\n",
    "data_test_joint=feats.date_features_joint(data_test_joint,'issue_d')"
   ]
  },
  {
   "cell_type": "code",
   "execution_count": 9,
   "metadata": {},
   "outputs": [],
   "source": [
    "data_train_single=dmf.label_target_grades(data_train_single,)\n",
    "data_val_single=dmf.label_target_grades(data_val_single,)\n",
    "data_test_single=dmf.label_target_grades(data_test_single)\n",
    "data_train_joint=dmf.label_target_grades(data_train_joint,)\n",
    "data_val_joint=dmf.label_target_grades(data_val_joint,)\n",
    "data_test_joint=dmf.label_target_grades(data_test_joint)"
   ]
  },
  {
   "cell_type": "code",
   "execution_count": 10,
   "metadata": {},
   "outputs": [],
   "source": [
    "X_train_single=data_train_single.drop(columns=['grade','sub_grade','int_rate','issue_d'])\n",
    "y_train_single=data_train_single['grade']\n",
    "\n",
    "X_val_single=data_val_single.drop(columns=['grade','sub_grade','int_rate','issue_d'])\n",
    "y_val_single=data_val_single['grade']\n",
    "\n",
    "X_train_joint=data_train_joint.drop(columns=['grade','sub_grade','int_rate','issue_d'])\n",
    "y_train_joint=data_train_joint['grade']\n",
    "\n",
    "X_val_joint=data_val_joint.drop(columns=['grade','sub_grade','int_rate','issue_d'])\n",
    "y_val_joint=data_val_joint['grade']\n",
    "\n",
    "X_test_single=data_test_single.drop(columns=['grade','sub_grade','int_rate','issue_d'])\n",
    "y_test_single=data_test_single['grade']\n",
    "\n",
    "X_test_joint=data_test_joint.drop(columns=['grade','sub_grade','int_rate','issue_d'])\n",
    "y_test_joint=data_test_joint['grade']"
   ]
  },
  {
   "cell_type": "markdown",
   "metadata": {},
   "source": [
    "#### Imputers"
   ]
  },
  {
   "cell_type": "code",
   "execution_count": 11,
   "metadata": {},
   "outputs": [],
   "source": [
    "preprocess_single=Pipeline([])"
   ]
  },
  {
   "cell_type": "code",
   "execution_count": 12,
   "metadata": {},
   "outputs": [],
   "source": [
    "emp_title_imp = tr.NotInImputerPolars(cat_no=20, fill_value=\"other\")\n",
    "emp_length_imp = tr.NotInImputerPolars(cat_no=12, fill_value=None)\n",
    "zip_imp = tr.NotInImputerPolars(cat_no=12, fill_value='other')\n",
    "imputers = PCT(\n",
    "    [\n",
    "        PCT.Step(\"emp_title\", emp_title_imp, \"emp_title\"),\n",
    "        PCT.Step(\"emp_length\", emp_length_imp, \"emp_length\"),\n",
    "        PCT.Step(\"zip_code\", zip_imp,'zip_code')\n",
    "    ]\n",
    ")\n",
    "preprocess_single.steps.append((\"imputers\",imputers))"
   ]
  },
  {
   "cell_type": "markdown",
   "metadata": {},
   "source": [
    "### Encoders"
   ]
  },
  {
   "cell_type": "code",
   "execution_count": 13,
   "metadata": {},
   "outputs": [],
   "source": [
    "emp_t_enc = tr.TargetMeanOrderedLabeler(how=\"label\")\n",
    "emp_l_order = [\n",
    "    None,\n",
    "    \"< 1 year\",\n",
    "    \"1 year\",\n",
    "    \"2 years\",\n",
    "    \"3 years\",\n",
    "    \"4 years\",\n",
    "    \"5 years\",\n",
    "    \"6 years\",\n",
    "    \"7 years\",\n",
    "    \"8 years\",\n",
    "    \"9 years\",\n",
    "    \"10+ years\",\n",
    "]\n",
    "emp_l_enc = tr.PolarsOrdinalEncoder(order=emp_l_order)\n",
    "home_enc = tr.TargetMeanOrderedLabeler(how=\"label\")\n",
    "verif_enc = tr.TargetMeanOrderedLabeler(how=\"label\")\n",
    "paymnt_enc = tr.PolarsOneHotEncoder(drop=True)\n",
    "purpose_enc = tr.TargetMeanOrderedLabeler(how=\"label\")\n",
    "zip_enc = tr.TargetMeanOrderedLabeler(how=\"label\")\n",
    "state_enc = tr.TargetMeanOrderedLabeler(how=\"label\")\n",
    "init_stat_enc = tr.PolarsOneHotEncoder(drop=True)\n",
    "disbursement_enc = tr.PolarsOneHotEncoder(drop=True)\n",
    "year_enc = tr.TargetMeanOrderedLabeler(how=\"last_mean\")\n",
    "\n",
    "encoders = PCT(\n",
    "    [\n",
    "        PCT.Step(\"emp_t_enc\", emp_t_enc, \"emp_title\"),\n",
    "        PCT.Step(\"emp_l_enc\", emp_l_enc, \"emp_length\"),\n",
    "        PCT.Step(\"home_enc\", home_enc, \"home_ownership\"),\n",
    "        PCT.Step(\"verif_enc\", verif_enc, \"verification_status\"),\n",
    "        PCT.Step(\"paymnt_enc\", paymnt_enc, \"pymnt_plan\"),\n",
    "        PCT.Step(\"purpose_enc\", purpose_enc, \"purpose\"),\n",
    "        PCT.Step(\"zip_enc\", zip_enc, \"zip_code\"),\n",
    "        PCT.Step(\"state_enc\", state_enc, \"addr_state\"),\n",
    "        PCT.Step(\"init_stat_enc\", init_stat_enc, \"initial_list_status\"),\n",
    "        PCT.Step(\"disbursement_enc\", disbursement_enc, \"disbursement_method\"),\n",
    "        PCT.Step(\"year_enc\", year_enc, \"year\")\n",
    "    ]\n",
    ")\n",
    "\n",
    "preprocess_single.steps.append((\"encoders\",encoders))\n",
    "null_imp = tr.PolarsNullImputer(fill_value=-9)\n",
    "preprocess_single.steps.append((\"null_imputer\",null_imp))"
   ]
  },
  {
   "cell_type": "code",
   "execution_count": 14,
   "metadata": {},
   "outputs": [],
   "source": [
    "model_single_lgbm = lgb.LGBMClassifier(\n",
    "    objective=\"multiclass\",\n",
    "    class_weight=\"balanced\",\n",
    "    verbose=-1,\n",
    "    force_col_wise=True,\n",
    "    random_state=1,\n",
    "    num_threads=6\n",
    ")"
   ]
  },
  {
   "cell_type": "markdown",
   "metadata": {},
   "source": [
    "##### Getting lists of selected features based on boruta algorithm with different strictness:"
   ]
  },
  {
   "cell_type": "markdown",
   "metadata": {},
   "source": [
    "```python\n",
    "original_columns = preprocess_single.fit_transform(\n",
    "    X_train_single.sample(10000, seed=1), y_train_single.sample(10000, seed=1)\n",
    ").columns\n",
    "\n",
    "boruta_selected_cols = {}\n",
    "\n",
    "transformed_sample_X = preprocess_single.fit_transform(\n",
    "    X_train_single.sample(50000, seed=1), y_train_single.sample(50000, seed=1)\n",
    ")\n",
    "transformed_sample_y = y_train_single.sample(50000, seed=1)\n",
    "for perc in np.arange(stop=101, start=10, step=10):\n",
    "    boruta = tr.BorutaFeatureSelectorPolars(\n",
    "        model_single_lgbm, random_state=1, perc=perc\n",
    "    )\n",
    "\n",
    "    boruta.fit(\n",
    "        transformed_sample_X,\n",
    "        transformed_sample_y,\n",
    "    )\n",
    "    boruta_selected_cols[perc] = boruta.transform(\n",
    "        preprocess_single.fit_transform(\n",
    "            X_train_single.sample(10000, seed=1), y_train_single.sample(10000, seed=1)\n",
    "        )\n",
    "    ).columns\n",
    "    print(f\"{perc} calculated\")\n",
    "\n",
    "# Setting the number of threads to 1 to avoid parallelization clash with ray tune.\n",
    "model_single_lgbm = lgb.LGBMClassifier(\n",
    "    objective=\"multiclass\",\n",
    "    class_weight=\"balanced\",\n",
    "    verbose=-1,\n",
    "    force_col_wise=True,\n",
    "    random_state=1,\n",
    "    num_threads=1,\n",
    ")"
   ]
  },
  {
   "cell_type": "markdown",
   "metadata": {},
   "source": [
    "```python\n",
    "cols_to_drop_space=[]\n",
    "for key, columns in boruta_selected_cols.items():\n",
    "    cols_to_drop_space.append([col for col in original_columns if col not in columns])\n",
    "cols_to_drop_space.insert(0,[])\n",
    "joblib.dump(cols_to_drop_space,'temp/cols_to_drop.joblib')\n"
   ]
  },
  {
   "cell_type": "code",
   "execution_count": 15,
   "metadata": {},
   "outputs": [],
   "source": [
    "cols_to_drop_space=joblib.load('temp/cols_to_drop.joblib')"
   ]
  },
  {
   "cell_type": "markdown",
   "metadata": {},
   "source": [
    "##### Dropper"
   ]
  },
  {
   "cell_type": "code",
   "execution_count": 16,
   "metadata": {},
   "outputs": [],
   "source": [
    "feature_dropper = tr.FeatureRemover([])\n",
    "preprocess_single.steps.append(('feature_dropper',feature_dropper))\n",
    "full_pipeline_single = Pipeline(\n",
    "    [(\"preprocess\", preprocess_single), (\"model\", model_single_lgbm)]\n",
    ")"
   ]
  },
  {
   "cell_type": "markdown",
   "metadata": {},
   "source": [
    "##### Baseline for tuning:"
   ]
  },
  {
   "cell_type": "code",
   "execution_count": 17,
   "metadata": {},
   "outputs": [
    {
     "name": "stdout",
     "output_type": "stream",
     "text": [
      "0.3321204198360338\n"
     ]
    }
   ],
   "source": [
    "full_pipeline_single.fit(X_train_single.sample(100000,seed=1),y_train_single.sample(100000,seed=1))\n",
    "preds=full_pipeline_single.predict(X_val_single)\n",
    "print(f1_score(y_val_single,preds,average='macro'))"
   ]
  },
  {
   "cell_type": "markdown",
   "metadata": {},
   "source": [
    "### Search space"
   ]
  },
  {
   "cell_type": "code",
   "execution_count": 18,
   "metadata": {},
   "outputs": [],
   "source": [
    "models = tunes.Models()\n",
    "search_space_lgbm = {\n",
    "    \"preprocess__feature_dropper__feats_to_drop\": tune.choice(cols_to_drop_space),\n",
    "    \"model__max_depth\": tune.randint(5,50),\n",
    "    \"model__num_leaves\": tune.randint(10, 3051),\n",
    "    \"model__n_estimators\": tune.randint(10, 251),\n",
    "    \"model__learning_rate\": tune.loguniform(0.001, 0.1),\n",
    "    \"model__bagging_freq\": tune.randint(0, 11),\n",
    "    \"model__colsample_bytree\": tune.uniform(0.2, 1.0),\n",
    "    \"model__subsample\": tune.uniform(0.2, 1.0),\n",
    "    \"model__reg_alpha\": tune.loguniform(0.001, 100),\n",
    "    \"model__reg_lambda\": tune.loguniform(0.001, 100),\n",
    "    \"model__boosting_type\": tune.choice([\"gbdt\", \"dart\", \"rf\"]),\n",
    "    \"model__class_weight\": tune.choice([\"balanced\", None]),\n",
    "    \"model__max_bin\": tune.randint(5, 201),\n",
    "}\n",
    "\n",
    "models.add_model(\"lgbm_grade_single\", full_pipeline_single, search_space_lgbm, metric_threshold=0.35)"
   ]
  },
  {
   "cell_type": "markdown",
   "metadata": {},
   "source": [
    "### Tree"
   ]
  },
  {
   "cell_type": "code",
   "execution_count": 19,
   "metadata": {},
   "outputs": [],
   "source": [
    "preprocess_single_dtree = copy.deepcopy(preprocess_single)\n",
    "model_single_dtree = DecisionTreeClassifier(random_state=1)\n",
    "full_pipeline_single_dtree = Pipeline(\n",
    "    [(\"preprocess\", preprocess_single_dtree), (\"model\", model_single_dtree)]\n",
    ")\n",
    "\n",
    "search_space_tree = {\n",
    "    \"preprocess__feature_dropper__feats_to_drop\": tune.choice(cols_to_drop_space),\n",
    "    \"model__criterion\": tune.choice([\"gini\", \"entropy\"]),\n",
    "    \"model__splitter\": tune.choice([\"best\", \"random\"]),\n",
    "    \"model__max_depth\": tune.randint(3, 50),\n",
    "    \"model__max_features\": tune.choice([\"sqrt\", \"log2\", None]),\n",
    "    \"model__class_weight\": tune.choice([\"balanced\", None]),\n",
    "}\n",
    "\n",
    "models.add_model(\n",
    "    \"tree_grade_single\", full_pipeline_single_dtree, search_space_tree, metric_threshold=0.3,override_n=120\n",
    ")"
   ]
  },
  {
   "cell_type": "markdown",
   "metadata": {},
   "source": [
    "```python\n",
    "models.tune_all(\n",
    "    X_train_single,\n",
    "    y_train_single,\n",
    "    X_val_single,\n",
    "    y_val_single,\n",
    "    n=240,\n",
    "    sample_size=15000,\n",
    "    average=\"macro\",\n",
    ")\n",
    "joblib.dump(models, \"temp/tuned_grade_models.joblib\")\n"
   ]
  },
  {
   "cell_type": "code",
   "execution_count": 20,
   "metadata": {},
   "outputs": [],
   "source": [
    "models=joblib.load('temp/tuned_grade_models.joblib')"
   ]
  },
  {
   "cell_type": "code",
   "execution_count": 28,
   "metadata": {},
   "outputs": [
    {
     "name": "stdout",
     "output_type": "stream",
     "text": [
      "'lgbm_grade_single'\n",
      "{'model__bagging_freq': 9,\n",
      " 'model__boosting_type': 'gbdt',\n",
      " 'model__class_weight': 'balanced',\n",
      " 'model__colsample_bytree': 0.6849549665551705,\n",
      " 'model__learning_rate': 0.0558509334178991,\n",
      " 'model__max_bin': 40,\n",
      " 'model__max_depth': 33,\n",
      " 'model__n_estimators': 204,\n",
      " 'model__num_leaves': 2051,\n",
      " 'model__reg_alpha': 0.0010009764783985519,\n",
      " 'model__reg_lambda': 43.90677880592865,\n",
      " 'model__subsample': 0.9796606370081837,\n",
      " 'preprocess__feature_dropper__feats_to_drop': ['home_ownership',\n",
      "                                                'delinq_2yrs',\n",
      "                                                'fico_range_high',\n",
      "                                                'mths_since_last_record',\n",
      "                                                'pub_rec',\n",
      "                                                'last_fico_range_low',\n",
      "                                                'mths_since_last_major_derog',\n",
      "                                                'acc_now_delinq',\n",
      "                                                'open_acc_6m',\n",
      "                                                'open_act_il',\n",
      "                                                'open_il_12m',\n",
      "                                                'open_il_24m',\n",
      "                                                'total_bal_il',\n",
      "                                                'open_rv_12m',\n",
      "                                                'open_rv_24m',\n",
      "                                                'inq_fi',\n",
      "                                                'total_cu_tl',\n",
      "                                                'inq_last_12m',\n",
      "                                                'chargeoff_within_12_mths',\n",
      "                                                'delinq_amnt',\n",
      "                                                'mort_acc',\n",
      "                                                'mths_since_recent_bc_dlq',\n",
      "                                                'mths_since_recent_revol_delinq',\n",
      "                                                'num_accts_ever_120_pd',\n",
      "                                                'num_actv_bc_tl',\n",
      "                                                'num_actv_rev_tl',\n",
      "                                                'num_bc_sats',\n",
      "                                                'num_bc_tl',\n",
      "                                                'num_op_rev_tl',\n",
      "                                                'num_rev_tl_bal_gt_0',\n",
      "                                                'num_sats',\n",
      "                                                'num_tl_30dpd',\n",
      "                                                'num_tl_90g_dpd_24m',\n",
      "                                                'pub_rec_bankruptcies',\n",
      "                                                'tax_liens',\n",
      "                                                'emp_title',\n",
      "                                                'emp_length',\n",
      "                                                'zip_code',\n",
      "                                                'pymnt_plan_n',\n",
      "                                                'disbursement_method_Cash']}\n",
      "'tree_grade_single'\n",
      "{'model__class_weight': None,\n",
      " 'model__criterion': 'entropy',\n",
      " 'model__max_depth': 11,\n",
      " 'model__max_features': None,\n",
      " 'model__splitter': 'random',\n",
      " 'preprocess__feature_dropper__feats_to_drop': ['home_ownership',\n",
      "                                                'addr_state',\n",
      "                                                'delinq_2yrs',\n",
      "                                                'fico_range_high',\n",
      "                                                'mths_since_last_delinq',\n",
      "                                                'mths_since_last_record',\n",
      "                                                'open_acc',\n",
      "                                                'pub_rec',\n",
      "                                                'last_fico_range_low',\n",
      "                                                'mths_since_last_major_derog',\n",
      "                                                'acc_now_delinq',\n",
      "                                                'open_acc_6m',\n",
      "                                                'open_act_il',\n",
      "                                                'open_il_12m',\n",
      "                                                'open_il_24m',\n",
      "                                                'mths_since_rcnt_il',\n",
      "                                                'total_bal_il',\n",
      "                                                'il_util',\n",
      "                                                'open_rv_12m',\n",
      "                                                'open_rv_24m',\n",
      "                                                'max_bal_bc',\n",
      "                                                'all_util',\n",
      "                                                'inq_fi',\n",
      "                                                'total_cu_tl',\n",
      "                                                'inq_last_12m',\n",
      "                                                'chargeoff_within_12_mths',\n",
      "                                                'delinq_amnt',\n",
      "                                                'mo_sin_rcnt_rev_tl_op',\n",
      "                                                'mort_acc',\n",
      "                                                'mths_since_recent_bc_dlq',\n",
      "                                                'mths_since_recent_inq',\n",
      "                                                'mths_since_recent_revol_delinq',\n",
      "                                                'num_accts_ever_120_pd',\n",
      "                                                'num_actv_bc_tl',\n",
      "                                                'num_actv_rev_tl',\n",
      "                                                'num_bc_sats',\n",
      "                                                'num_bc_tl',\n",
      "                                                'num_il_tl',\n",
      "                                                'num_op_rev_tl',\n",
      "                                                'num_rev_accts',\n",
      "                                                'num_rev_tl_bal_gt_0',\n",
      "                                                'num_sats',\n",
      "                                                'num_tl_120dpd_2m',\n",
      "                                                'num_tl_30dpd',\n",
      "                                                'num_tl_90g_dpd_24m',\n",
      "                                                'pct_tl_nvr_dlq',\n",
      "                                                'percent_bc_gt_75',\n",
      "                                                'pub_rec_bankruptcies',\n",
      "                                                'tax_liens',\n",
      "                                                'total_il_high_credit_limit',\n",
      "                                                'month_sin',\n",
      "                                                'month_cos',\n",
      "                                                'emp_title',\n",
      "                                                'emp_length',\n",
      "                                                'zip_code',\n",
      "                                                'pymnt_plan_n',\n",
      "                                                'disbursement_method_Cash']}\n"
     ]
    }
   ],
   "source": [
    "from pprint import pprint\n",
    "for model in models.models.values():\n",
    "    pprint (model.name)\n",
    "    pprint(model.best_params)"
   ]
  },
  {
   "cell_type": "code",
   "execution_count": 29,
   "metadata": {},
   "outputs": [
    {
     "name": "stdout",
     "output_type": "stream",
     "text": [
      "              precision    recall  f1-score   support\n",
      "\n",
      "           1       0.65      0.72      0.68     72529\n",
      "           2       0.48      0.55      0.51    121365\n",
      "           3       0.53      0.35      0.42    130148\n",
      "           4       0.26      0.29      0.27     50567\n",
      "           5       0.17      0.30      0.22     17982\n",
      "           6       0.14      0.18      0.16      5509\n",
      "           7       0.24      0.02      0.03      3054\n",
      "\n",
      "    accuracy                           0.46    401154\n",
      "   macro avg       0.35      0.34      0.33    401154\n",
      "weighted avg       0.48      0.46      0.46    401154\n",
      "\n",
      "              precision    recall  f1-score   support\n",
      "\n",
      "           1       0.60      0.64      0.62     72529\n",
      "           2       0.43      0.54      0.48    121365\n",
      "           3       0.45      0.51      0.48    130148\n",
      "           4       0.25      0.06      0.10     50567\n",
      "           5       0.16      0.04      0.06     17982\n",
      "           6       0.17      0.04      0.06      5509\n",
      "           7       0.08      0.15      0.11      3054\n",
      "\n",
      "    accuracy                           0.46    401154\n",
      "   macro avg       0.31      0.28      0.27    401154\n",
      "weighted avg       0.43      0.46      0.43    401154\n",
      "\n"
     ]
    }
   ],
   "source": [
    "for model in models.models.values():\n",
    "    model.pipeline.fit(X_train_single,y_train_single)\n",
    "\n",
    "preds_lgbm=models.models['lgbm_grade_single'].pipeline.predict(X_val_single)\n",
    "preds_dtree=models.models['tree_grade_single'].pipeline.predict(X_val_single)\n",
    "print(classification_report(y_val_single,preds_lgbm))\n",
    "print(classification_report(y_val_single,preds_dtree))"
   ]
  },
  {
   "cell_type": "code",
   "execution_count": 30,
   "metadata": {},
   "outputs": [],
   "source": [
    "best_pipeline_single=models.models['lgbm_grade_single'].pipeline"
   ]
  },
  {
   "cell_type": "code",
   "execution_count": 31,
   "metadata": {},
   "outputs": [
    {
     "name": "stderr",
     "output_type": "stream",
     "text": [
      "100%|===================| 3499/3500 [55:49<00:00]        "
     ]
    },
    {
     "data": {
      "image/png": "[encoded data removed]",
      "text/plain": [
       "<Figure size 800x550 with 1 Axes>"
      ]
     },
     "metadata": {},
     "output_type": "display_data"
    }
   ],
   "source": [
    "names = (\n",
    "    models.models[\"lgbm_grade_single\"]\n",
    "    .pipeline[\"preprocess\"]\n",
    "    .transform(X_val_single.sample(500, seed=1))\n",
    "    .columns\n",
    ")\n",
    "explainer_tree = shap.TreeExplainer(\n",
    "    best_pipeline_single.pipeline[\"model\"],\n",
    "    data=best_pipeline_single\n",
    "    .pipeline[\"preprocess\"]\n",
    "    .transform((X_val_single.sample(500, seed=1)))\n",
    "    .to_numpy(),\n",
    "    model_output=\"raw\",\n",
    ")\n",
    "\n",
    "shap_values = explainer_tree.shap_values(\n",
    "    best_pipeline_single\n",
    "    .pipeline[\"preprocess\"]\n",
    "    .transform(X_val_single.sample(500, seed=1))\n",
    "    .to_numpy()\n",
    ")\n",
    "\n",
    "shap.summary_plot(\n",
    "    shap_values,\n",
    "    best_pipeline_single\n",
    "    .pipeline[\"preprocess\"]\n",
    "    .transform(X_val_single.sample(10000, seed=1))\n",
    "    .to_numpy(),\n",
    "    feature_names=names,\n",
    "    class_names={0: \"A\", 1: \"B\", 2: \"C\", 3: \"D\", 4: \"E\", 5: \"F\", 6: \"G\"},\n",
    "    max_display=10,\n",
    ")"
   ]
  },
  {
   "cell_type": "markdown",
   "metadata": {},
   "source": [
    "### Final Testing"
   ]
  },
  {
   "cell_type": "code",
   "execution_count": 35,
   "metadata": {},
   "outputs": [
    {
     "data": {
      "text/html": [
       "<style>#sk-container-id-3 {color: black;}#sk-container-id-3 pre{padding: 0;}#sk-container-id-3 div.sk-toggleable {background-color: white;}#sk-container-id-3 label.sk-toggleable__label {cursor: pointer;display: block;width: 100%;margin-bottom: 0;padding: 0.3em;box-sizing: border-box;text-align: center;}#sk-container-id-3 label.sk-toggleable__label-arrow:before {content: \"▸\";float: left;margin-right: 0.25em;color: #696969;}#sk-container-id-3 label.sk-toggleable__label-arrow:hover:before {color: black;}#sk-container-id-3 div.sk-estimator:hover label.sk-toggleable__label-arrow:before {color: black;}#sk-container-id-3 div.sk-toggleable__content {max-height: 0;max-width: 0;overflow: hidden;text-align: left;background-color: #f0f8ff;}#sk-container-id-3 div.sk-toggleable__content pre {margin: 0.2em;color: black;border-radius: 0.25em;background-color: #f0f8ff;}#sk-container-id-3 input.sk-toggleable__control:checked~div.sk-toggleable__content {max-height: 200px;max-width: 100%;overflow: auto;}#sk-container-id-3 input.sk-toggleable__control:checked~label.sk-toggleable__label-arrow:before {content: \"▾\";}#sk-container-id-3 div.sk-estimator input.sk-toggleable__control:checked~label.sk-toggleable__label {background-color: #d4ebff;}#sk-container-id-3 div.sk-label input.sk-toggleable__control:checked~label.sk-toggleable__label {background-color: #d4ebff;}#sk-container-id-3 input.sk-hidden--visually {border: 0;clip: rect(1px 1px 1px 1px);clip: rect(1px, 1px, 1px, 1px);height: 1px;margin: -1px;overflow: hidden;padding: 0;position: absolute;width: 1px;}#sk-container-id-3 div.sk-estimator {font-family: monospace;background-color: #f0f8ff;border: 1px dotted black;border-radius: 0.25em;box-sizing: border-box;margin-bottom: 0.5em;}#sk-container-id-3 div.sk-estimator:hover {background-color: #d4ebff;}#sk-container-id-3 div.sk-parallel-item::after {content: \"\";width: 100%;border-bottom: 1px solid gray;flex-grow: 1;}#sk-container-id-3 div.sk-label:hover label.sk-toggleable__label {background-color: #d4ebff;}#sk-container-id-3 div.sk-serial::before {content: \"\";position: absolute;border-left: 1px solid gray;box-sizing: border-box;top: 0;bottom: 0;left: 50%;z-index: 0;}#sk-container-id-3 div.sk-serial {display: flex;flex-direction: column;align-items: center;background-color: white;padding-right: 0.2em;padding-left: 0.2em;position: relative;}#sk-container-id-3 div.sk-item {position: relative;z-index: 1;}#sk-container-id-3 div.sk-parallel {display: flex;align-items: stretch;justify-content: center;background-color: white;position: relative;}#sk-container-id-3 div.sk-item::before, #sk-container-id-3 div.sk-parallel-item::before {content: \"\";position: absolute;border-left: 1px solid gray;box-sizing: border-box;top: 0;bottom: 0;left: 50%;z-index: -1;}#sk-container-id-3 div.sk-parallel-item {display: flex;flex-direction: column;z-index: 1;position: relative;background-color: white;}#sk-container-id-3 div.sk-parallel-item:first-child::after {align-self: flex-end;width: 50%;}#sk-container-id-3 div.sk-parallel-item:last-child::after {align-self: flex-start;width: 50%;}#sk-container-id-3 div.sk-parallel-item:only-child::after {width: 0;}#sk-container-id-3 div.sk-dashed-wrapped {border: 1px dashed gray;margin: 0 0.4em 0.5em 0.4em;box-sizing: border-box;padding-bottom: 0.4em;background-color: white;}#sk-container-id-3 div.sk-label label {font-family: monospace;font-weight: bold;display: inline-block;line-height: 1.2em;}#sk-container-id-3 div.sk-label-container {text-align: center;}#sk-container-id-3 div.sk-container {/* jupyter's `normalize.less` sets `[hidden] { display: none; }` but bootstrap.min.css set `[hidden] { display: none !important; }` so we also need the `!important` here to be able to override the default hidden behavior on the sphinx rendered scikit-learn.org. See: https://github.com/scikit-learn/scikit-learn/issues/21755 */display: inline-block !important;position: relative;}#sk-container-id-3 div.sk-text-repr-fallback {display: none;}</style><div id=\"sk-container-id-3\" class=\"sk-top-container\"><div class=\"sk-text-repr-fallback\"><pre>LGBMClassifier(bagging_freq=9, class_weight=&#x27;balanced&#x27;,\n",
       "               colsample_bytree=0.6849549665551705, force_col_wise=True,\n",
       "               learning_rate=0.0558509334178991, max_bin=40, max_depth=33,\n",
       "               n_estimators=204, num_leaves=2051, num_threads=3,\n",
       "               objective=&#x27;multiclass&#x27;, random_state=1,\n",
       "               reg_alpha=0.0010009764783985519, reg_lambda=43.90677880592865,\n",
       "               subsample=0.9796606370081837, verbose=-1)</pre><b>In a Jupyter environment, please rerun this cell to show the HTML representation or trust the notebook. <br />On GitHub, the HTML representation is unable to render, please try loading this page with nbviewer.org.</b></div><div class=\"sk-container\" hidden><div class=\"sk-item\"><div class=\"sk-estimator sk-toggleable\"><input class=\"sk-toggleable__control sk-hidden--visually\" id=\"sk-estimator-id-9\" type=\"checkbox\" checked><label for=\"sk-estimator-id-9\" class=\"sk-toggleable__label sk-toggleable__label-arrow\">LGBMClassifier</label><div class=\"sk-toggleable__content\"><pre>LGBMClassifier(bagging_freq=9, class_weight=&#x27;balanced&#x27;,\n",
       "               colsample_bytree=0.6849549665551705, force_col_wise=True,\n",
       "               learning_rate=0.0558509334178991, max_bin=40, max_depth=33,\n",
       "               n_estimators=204, num_leaves=2051, num_threads=3,\n",
       "               objective=&#x27;multiclass&#x27;, random_state=1,\n",
       "               reg_alpha=0.0010009764783985519, reg_lambda=43.90677880592865,\n",
       "               subsample=0.9796606370081837, verbose=-1)</pre></div></div></div></div></div>"
      ],
      "text/plain": [
       "LGBMClassifier(bagging_freq=9, class_weight='balanced',\n",
       "               colsample_bytree=0.6849549665551705, force_col_wise=True,\n",
       "               learning_rate=0.0558509334178991, max_bin=40, max_depth=33,\n",
       "               n_estimators=204, num_leaves=2051, num_threads=3,\n",
       "               objective='multiclass', random_state=1,\n",
       "               reg_alpha=0.0010009764783985519, reg_lambda=43.90677880592865,\n",
       "               subsample=0.9796606370081837, verbose=-1)"
      ]
     },
     "execution_count": 35,
     "metadata": {},
     "output_type": "execute_result"
    }
   ],
   "source": [
    "best_pipeline_single['model'].set_params(**{'num_threads':3})"
   ]
  },
  {
   "cell_type": "code",
   "execution_count": 33,
   "metadata": {},
   "outputs": [
    {
     "data": {
      "text/html": [
       "<style>#sk-container-id-2 {color: black;}#sk-container-id-2 pre{padding: 0;}#sk-container-id-2 div.sk-toggleable {background-color: white;}#sk-container-id-2 label.sk-toggleable__label {cursor: pointer;display: block;width: 100%;margin-bottom: 0;padding: 0.3em;box-sizing: border-box;text-align: center;}#sk-container-id-2 label.sk-toggleable__label-arrow:before {content: \"▸\";float: left;margin-right: 0.25em;color: #696969;}#sk-container-id-2 label.sk-toggleable__label-arrow:hover:before {color: black;}#sk-container-id-2 div.sk-estimator:hover label.sk-toggleable__label-arrow:before {color: black;}#sk-container-id-2 div.sk-toggleable__content {max-height: 0;max-width: 0;overflow: hidden;text-align: left;background-color: #f0f8ff;}#sk-container-id-2 div.sk-toggleable__content pre {margin: 0.2em;color: black;border-radius: 0.25em;background-color: #f0f8ff;}#sk-container-id-2 input.sk-toggleable__control:checked~div.sk-toggleable__content {max-height: 200px;max-width: 100%;overflow: auto;}#sk-container-id-2 input.sk-toggleable__control:checked~label.sk-toggleable__label-arrow:before {content: \"▾\";}#sk-container-id-2 div.sk-estimator input.sk-toggleable__control:checked~label.sk-toggleable__label {background-color: #d4ebff;}#sk-container-id-2 div.sk-label input.sk-toggleable__control:checked~label.sk-toggleable__label {background-color: #d4ebff;}#sk-container-id-2 input.sk-hidden--visually {border: 0;clip: rect(1px 1px 1px 1px);clip: rect(1px, 1px, 1px, 1px);height: 1px;margin: -1px;overflow: hidden;padding: 0;position: absolute;width: 1px;}#sk-container-id-2 div.sk-estimator {font-family: monospace;background-color: #f0f8ff;border: 1px dotted black;border-radius: 0.25em;box-sizing: border-box;margin-bottom: 0.5em;}#sk-container-id-2 div.sk-estimator:hover {background-color: #d4ebff;}#sk-container-id-2 div.sk-parallel-item::after {content: \"\";width: 100%;border-bottom: 1px solid gray;flex-grow: 1;}#sk-container-id-2 div.sk-label:hover label.sk-toggleable__label {background-color: #d4ebff;}#sk-container-id-2 div.sk-serial::before {content: \"\";position: absolute;border-left: 1px solid gray;box-sizing: border-box;top: 0;bottom: 0;left: 50%;z-index: 0;}#sk-container-id-2 div.sk-serial {display: flex;flex-direction: column;align-items: center;background-color: white;padding-right: 0.2em;padding-left: 0.2em;position: relative;}#sk-container-id-2 div.sk-item {position: relative;z-index: 1;}#sk-container-id-2 div.sk-parallel {display: flex;align-items: stretch;justify-content: center;background-color: white;position: relative;}#sk-container-id-2 div.sk-item::before, #sk-container-id-2 div.sk-parallel-item::before {content: \"\";position: absolute;border-left: 1px solid gray;box-sizing: border-box;top: 0;bottom: 0;left: 50%;z-index: -1;}#sk-container-id-2 div.sk-parallel-item {display: flex;flex-direction: column;z-index: 1;position: relative;background-color: white;}#sk-container-id-2 div.sk-parallel-item:first-child::after {align-self: flex-end;width: 50%;}#sk-container-id-2 div.sk-parallel-item:last-child::after {align-self: flex-start;width: 50%;}#sk-container-id-2 div.sk-parallel-item:only-child::after {width: 0;}#sk-container-id-2 div.sk-dashed-wrapped {border: 1px dashed gray;margin: 0 0.4em 0.5em 0.4em;box-sizing: border-box;padding-bottom: 0.4em;background-color: white;}#sk-container-id-2 div.sk-label label {font-family: monospace;font-weight: bold;display: inline-block;line-height: 1.2em;}#sk-container-id-2 div.sk-label-container {text-align: center;}#sk-container-id-2 div.sk-container {/* jupyter's `normalize.less` sets `[hidden] { display: none; }` but bootstrap.min.css set `[hidden] { display: none !important; }` so we also need the `!important` here to be able to override the default hidden behavior on the sphinx rendered scikit-learn.org. See: https://github.com/scikit-learn/scikit-learn/issues/21755 */display: inline-block !important;position: relative;}#sk-container-id-2 div.sk-text-repr-fallback {display: none;}</style><div id=\"sk-container-id-2\" class=\"sk-top-container\"><div class=\"sk-text-repr-fallback\"><pre>Pipeline(steps=[(&#x27;preprocess&#x27;,\n",
       "                 Pipeline(steps=[(&#x27;imputers&#x27;,\n",
       "                                  PolarsColumnTransformer(steps=OrderedDict([(&#x27;emp_title&#x27;,\n",
       "                                                                              &lt;functions.transformers.PolarsColumnTransformer.Step object at 0x7f5e17ac79d0&gt;),\n",
       "                                                                             (&#x27;emp_length&#x27;,\n",
       "                                                                              &lt;functions.transformers.PolarsColumnTransformer.Step object at 0x7f5e17ac74f0&gt;),\n",
       "                                                                             (&#x27;zip_code&#x27;,\n",
       "                                                                              &lt;functions.transformers.PolarsColumnTransformer.Step obje...\n",
       "                 LGBMClassifier(bagging_freq=9, class_weight=&#x27;balanced&#x27;,\n",
       "                                colsample_bytree=0.6849549665551705,\n",
       "                                force_col_wise=True,\n",
       "                                learning_rate=0.0558509334178991, max_bin=40,\n",
       "                                max_depth=33, n_estimators=204, num_leaves=2051,\n",
       "                                num_threads=2, objective=&#x27;multiclass&#x27;,\n",
       "                                random_state=1, reg_alpha=0.0010009764783985519,\n",
       "                                reg_lambda=43.90677880592865,\n",
       "                                subsample=0.9796606370081837, verbose=-1))])</pre><b>In a Jupyter environment, please rerun this cell to show the HTML representation or trust the notebook. <br />On GitHub, the HTML representation is unable to render, please try loading this page with nbviewer.org.</b></div><div class=\"sk-container\" hidden><div class=\"sk-item sk-dashed-wrapped\"><div class=\"sk-label-container\"><div class=\"sk-label sk-toggleable\"><input class=\"sk-toggleable__control sk-hidden--visually\" id=\"sk-estimator-id-2\" type=\"checkbox\" ><label for=\"sk-estimator-id-2\" class=\"sk-toggleable__label sk-toggleable__label-arrow\">Pipeline</label><div class=\"sk-toggleable__content\"><pre>Pipeline(steps=[(&#x27;preprocess&#x27;,\n",
       "                 Pipeline(steps=[(&#x27;imputers&#x27;,\n",
       "                                  PolarsColumnTransformer(steps=OrderedDict([(&#x27;emp_title&#x27;,\n",
       "                                                                              &lt;functions.transformers.PolarsColumnTransformer.Step object at 0x7f5e17ac79d0&gt;),\n",
       "                                                                             (&#x27;emp_length&#x27;,\n",
       "                                                                              &lt;functions.transformers.PolarsColumnTransformer.Step object at 0x7f5e17ac74f0&gt;),\n",
       "                                                                             (&#x27;zip_code&#x27;,\n",
       "                                                                              &lt;functions.transformers.PolarsColumnTransformer.Step obje...\n",
       "                 LGBMClassifier(bagging_freq=9, class_weight=&#x27;balanced&#x27;,\n",
       "                                colsample_bytree=0.6849549665551705,\n",
       "                                force_col_wise=True,\n",
       "                                learning_rate=0.0558509334178991, max_bin=40,\n",
       "                                max_depth=33, n_estimators=204, num_leaves=2051,\n",
       "                                num_threads=2, objective=&#x27;multiclass&#x27;,\n",
       "                                random_state=1, reg_alpha=0.0010009764783985519,\n",
       "                                reg_lambda=43.90677880592865,\n",
       "                                subsample=0.9796606370081837, verbose=-1))])</pre></div></div></div><div class=\"sk-serial\"><div class=\"sk-item\"><div class=\"sk-label-container\"><div class=\"sk-label sk-toggleable\"><input class=\"sk-toggleable__control sk-hidden--visually\" id=\"sk-estimator-id-3\" type=\"checkbox\" ><label for=\"sk-estimator-id-3\" class=\"sk-toggleable__label sk-toggleable__label-arrow\">preprocess: Pipeline</label><div class=\"sk-toggleable__content\"><pre>Pipeline(steps=[(&#x27;imputers&#x27;,\n",
       "                 PolarsColumnTransformer(steps=OrderedDict([(&#x27;emp_title&#x27;,\n",
       "                                                             &lt;functions.transformers.PolarsColumnTransformer.Step object at 0x7f5e17ac79d0&gt;),\n",
       "                                                            (&#x27;emp_length&#x27;,\n",
       "                                                             &lt;functions.transformers.PolarsColumnTransformer.Step object at 0x7f5e17ac74f0&gt;),\n",
       "                                                            (&#x27;zip_code&#x27;,\n",
       "                                                             &lt;functions.transformers.PolarsColumnTransformer.Step object at 0x7f5e166eb790&gt;)]))),\n",
       "                (&#x27;enc...\n",
       "                                               &#x27;open_act_il&#x27;, &#x27;open_il_12m&#x27;,\n",
       "                                               &#x27;open_il_24m&#x27;, &#x27;total_bal_il&#x27;,\n",
       "                                               &#x27;open_rv_12m&#x27;, &#x27;open_rv_24m&#x27;,\n",
       "                                               &#x27;inq_fi&#x27;, &#x27;total_cu_tl&#x27;,\n",
       "                                               &#x27;inq_last_12m&#x27;,\n",
       "                                               &#x27;chargeoff_within_12_mths&#x27;,\n",
       "                                               &#x27;delinq_amnt&#x27;, &#x27;mort_acc&#x27;,\n",
       "                                               &#x27;mths_since_recent_bc_dlq&#x27;,\n",
       "                                               &#x27;mths_since_recent_revol_delinq&#x27;,\n",
       "                                               &#x27;num_accts_ever_120_pd&#x27;,\n",
       "                                               &#x27;num_actv_bc_tl&#x27;,\n",
       "                                               &#x27;num_actv_rev_tl&#x27;, &#x27;num_bc_sats&#x27;,\n",
       "                                               &#x27;num_bc_tl&#x27;, &#x27;num_op_rev_tl&#x27;,\n",
       "                                               &#x27;num_rev_tl_bal_gt_0&#x27;, ...]))])</pre></div></div></div><div class=\"sk-serial\"><div class=\"sk-item\"><div class=\"sk-estimator sk-toggleable\"><input class=\"sk-toggleable__control sk-hidden--visually\" id=\"sk-estimator-id-4\" type=\"checkbox\" ><label for=\"sk-estimator-id-4\" class=\"sk-toggleable__label sk-toggleable__label-arrow\">PolarsColumnTransformer</label><div class=\"sk-toggleable__content\"><pre>PolarsColumnTransformer(steps=OrderedDict([(&#x27;emp_title&#x27;,\n",
       "                                            &lt;functions.transformers.PolarsColumnTransformer.Step object at 0x7f5e17ac79d0&gt;),\n",
       "                                           (&#x27;emp_length&#x27;,\n",
       "                                            &lt;functions.transformers.PolarsColumnTransformer.Step object at 0x7f5e17ac74f0&gt;),\n",
       "                                           (&#x27;zip_code&#x27;,\n",
       "                                            &lt;functions.transformers.PolarsColumnTransformer.Step object at 0x7f5e166eb790&gt;)]))</pre></div></div></div><div class=\"sk-item\"><div class=\"sk-estimator sk-toggleable\"><input class=\"sk-toggleable__control sk-hidden--visually\" id=\"sk-estimator-id-5\" type=\"checkbox\" ><label for=\"sk-estimator-id-5\" class=\"sk-toggleable__label sk-toggleable__label-arrow\">PolarsColumnTransformer</label><div class=\"sk-toggleable__content\"><pre>PolarsColumnTransformer(steps=OrderedDict([(&#x27;emp_t_enc&#x27;,\n",
       "                                            &lt;functions.transformers.PolarsColumnTransformer.Step object at 0x7f5f8f483ee0&gt;),\n",
       "                                           (&#x27;emp_l_enc&#x27;,\n",
       "                                            &lt;functions.transformers.PolarsColumnTransformer.Step object at 0x7f5f8f483cd0&gt;),\n",
       "                                           (&#x27;home_enc&#x27;,\n",
       "                                            &lt;functions.transformers.PolarsColumnTransformer.Step object at 0x7f5f8f483040&gt;),\n",
       "                                           (&#x27;verif_enc&#x27;,\n",
       "                                            &lt;functions.transformers.P...\n",
       "                                            &lt;functions.transformers.PolarsColumnTransformer.Step object at 0x7f5f8f483790&gt;),\n",
       "                                           (&#x27;init_stat_enc&#x27;,\n",
       "                                            &lt;functions.transformers.PolarsColumnTransformer.Step object at 0x7f5f8f483850&gt;),\n",
       "                                           (&#x27;disbursement_enc&#x27;,\n",
       "                                            &lt;functions.transformers.PolarsColumnTransformer.Step object at 0x7f5f8f4838b0&gt;),\n",
       "                                           (&#x27;year_enc&#x27;,\n",
       "                                            &lt;functions.transformers.PolarsColumnTransformer.Step object at 0x7f5f8f483880&gt;)]))</pre></div></div></div><div class=\"sk-item\"><div class=\"sk-estimator sk-toggleable\"><input class=\"sk-toggleable__control sk-hidden--visually\" id=\"sk-estimator-id-6\" type=\"checkbox\" ><label for=\"sk-estimator-id-6\" class=\"sk-toggleable__label sk-toggleable__label-arrow\">PolarsNullImputer</label><div class=\"sk-toggleable__content\"><pre>PolarsNullImputer(fill_value=-9)</pre></div></div></div><div class=\"sk-item\"><div class=\"sk-estimator sk-toggleable\"><input class=\"sk-toggleable__control sk-hidden--visually\" id=\"sk-estimator-id-7\" type=\"checkbox\" ><label for=\"sk-estimator-id-7\" class=\"sk-toggleable__label sk-toggleable__label-arrow\">FeatureRemover</label><div class=\"sk-toggleable__content\"><pre>FeatureRemover(feats_to_drop=[&#x27;home_ownership&#x27;, &#x27;delinq_2yrs&#x27;,\n",
       "                              &#x27;fico_range_high&#x27;, &#x27;mths_since_last_record&#x27;,\n",
       "                              &#x27;pub_rec&#x27;, &#x27;last_fico_range_low&#x27;,\n",
       "                              &#x27;mths_since_last_major_derog&#x27;, &#x27;acc_now_delinq&#x27;,\n",
       "                              &#x27;open_acc_6m&#x27;, &#x27;open_act_il&#x27;, &#x27;open_il_12m&#x27;,\n",
       "                              &#x27;open_il_24m&#x27;, &#x27;total_bal_il&#x27;, &#x27;open_rv_12m&#x27;,\n",
       "                              &#x27;open_rv_24m&#x27;, &#x27;inq_fi&#x27;, &#x27;total_cu_tl&#x27;,\n",
       "                              &#x27;inq_last_12m&#x27;, &#x27;chargeoff_within_12_mths&#x27;,\n",
       "                              &#x27;delinq_amnt&#x27;, &#x27;mort_acc&#x27;,\n",
       "                              &#x27;mths_since_recent_bc_dlq&#x27;,\n",
       "                              &#x27;mths_since_recent_revol_delinq&#x27;,\n",
       "                              &#x27;num_accts_ever_120_pd&#x27;, &#x27;num_actv_bc_tl&#x27;,\n",
       "                              &#x27;num_actv_rev_tl&#x27;, &#x27;num_bc_sats&#x27;, &#x27;num_bc_tl&#x27;,\n",
       "                              &#x27;num_op_rev_tl&#x27;, &#x27;num_rev_tl_bal_gt_0&#x27;, ...])</pre></div></div></div></div></div><div class=\"sk-item\"><div class=\"sk-estimator sk-toggleable\"><input class=\"sk-toggleable__control sk-hidden--visually\" id=\"sk-estimator-id-8\" type=\"checkbox\" ><label for=\"sk-estimator-id-8\" class=\"sk-toggleable__label sk-toggleable__label-arrow\">LGBMClassifier</label><div class=\"sk-toggleable__content\"><pre>LGBMClassifier(bagging_freq=9, class_weight=&#x27;balanced&#x27;,\n",
       "               colsample_bytree=0.6849549665551705, force_col_wise=True,\n",
       "               learning_rate=0.0558509334178991, max_bin=40, max_depth=33,\n",
       "               n_estimators=204, num_leaves=2051, num_threads=2,\n",
       "               objective=&#x27;multiclass&#x27;, random_state=1,\n",
       "               reg_alpha=0.0010009764783985519, reg_lambda=43.90677880592865,\n",
       "               subsample=0.9796606370081837, verbose=-1)</pre></div></div></div></div></div></div></div>"
      ],
      "text/plain": [
       "Pipeline(steps=[('preprocess',\n",
       "                 Pipeline(steps=[('imputers',\n",
       "                                  PolarsColumnTransformer(steps=OrderedDict([('emp_title',\n",
       "                                                                              <functions.transformers.PolarsColumnTransformer.Step object at 0x7f5e17ac79d0>),\n",
       "                                                                             ('emp_length',\n",
       "                                                                              <functions.transformers.PolarsColumnTransformer.Step object at 0x7f5e17ac74f0>),\n",
       "                                                                             ('zip_code',\n",
       "                                                                              <functions.transformers.PolarsColumnTransformer.Step obje...\n",
       "                 LGBMClassifier(bagging_freq=9, class_weight='balanced',\n",
       "                                colsample_bytree=0.6849549665551705,\n",
       "                                force_col_wise=True,\n",
       "                                learning_rate=0.0558509334178991, max_bin=40,\n",
       "                                max_depth=33, n_estimators=204, num_leaves=2051,\n",
       "                                num_threads=2, objective='multiclass',\n",
       "                                random_state=1, reg_alpha=0.0010009764783985519,\n",
       "                                reg_lambda=43.90677880592865,\n",
       "                                subsample=0.9796606370081837, verbose=-1))])"
      ]
     },
     "execution_count": 33,
     "metadata": {},
     "output_type": "execute_result"
    }
   ],
   "source": [
    "best_pipeline_single.fit(X_train_single.vstack(X_val_single),pl.concat([y_train_single,y_val_single]))"
   ]
  },
  {
   "cell_type": "code",
   "execution_count": 34,
   "metadata": {},
   "outputs": [
    {
     "name": "stdout",
     "output_type": "stream",
     "text": [
      "              precision    recall  f1-score   support\n",
      "\n",
      "           1       0.79      0.51      0.62    119923\n",
      "           2       0.41      0.47      0.43    121995\n",
      "           3       0.38      0.41      0.39    108373\n",
      "           4       0.28      0.24      0.26     57923\n",
      "           5       0.14      0.25      0.18     15356\n",
      "           6       0.05      0.29      0.09      2266\n",
      "           7       0.00      0.01      0.01       421\n",
      "\n",
      "    accuracy                           0.42    426257\n",
      "   macro avg       0.29      0.31      0.28    426257\n",
      "weighted avg       0.48      0.42      0.44    426257\n",
      "\n"
     ]
    }
   ],
   "source": [
    "preds_single_final=best_pipeline_single.predict(X_test_single)\n",
    "print(classification_report(y_test_single,preds_single_final))"
   ]
  },
  {
   "cell_type": "markdown",
   "metadata": {},
   "source": [
    "##### Exporting the final model:"
   ]
  },
  {
   "cell_type": "code",
   "execution_count": 36,
   "metadata": {},
   "outputs": [
    {
     "data": {
      "text/plain": [
       "['trained_models/model_single_grade.joblib']"
      ]
     },
     "execution_count": 36,
     "metadata": {},
     "output_type": "execute_result"
    }
   ],
   "source": [
    "best_pipeline_single.fit(\n",
    "    X_train_single.vstack(X_val_single).vstack(X_test_single),\n",
    "    pl.concat([y_train_single, y_val_single, y_test_single]),\n",
    ")\n",
    "\n",
    "joblib.dump(best_pipeline_single, \"trained_models/model_single_grade.joblib\")"
   ]
  },
  {
   "cell_type": "markdown",
   "metadata": {},
   "source": [
    "### Joint Applications"
   ]
  },
  {
   "cell_type": "markdown",
   "metadata": {},
   "source": [
    "##### Setting up joint application preprocessing:"
   ]
  },
  {
   "cell_type": "code",
   "execution_count": 20,
   "metadata": {},
   "outputs": [],
   "source": [
    "imputers_joint = copy.deepcopy(imputers)\n",
    "encoders_joint = copy.deepcopy(encoders)\n",
    "encoders_to_delete = [\"disbursement_enc\", \"paymnt_enc\"]\n",
    "\n",
    "for key in encoders_to_delete:\n",
    "    del encoders_joint.steps[key]\n",
    "\n",
    "verif_enc_joint = tr.TargetMeanOrderedLabeler(how=\"label\")\n",
    "\n",
    "encoders_joint.steps[\"verif_enc_joint\"] = PCT.Step(\n",
    "    \"verif_enc_joint\", verif_enc_joint, \"verification_status_joint\"\n",
    ")\n",
    "\n",
    "null_imp_joint = copy.deepcopy(null_imp)\n",
    "feature_dropper_joint = tr.FeatureRemover([])\n",
    "\n",
    "preprocess_joint = Pipeline(\n",
    "    [\n",
    "        (\"imputers\", imputers_joint),\n",
    "        (\"encoders\", encoders_joint),\n",
    "        (\"null_imputer\", null_imp_joint),\n",
    "        (\"feature_dropper\", feature_dropper_joint),\n",
    "    ]\n",
    ")\n",
    "\n",
    "model_joint = lgb.LGBMClassifier(\n",
    "    objective=\"multiclass\",\n",
    "    class_weight=\"balanced\",\n",
    "    verbose=-1,\n",
    "    force_col_wise=True,\n",
    "    random_state=1,\n",
    "    num_threads=12,\n",
    ")\n",
    "\n",
    "full_pipeline_joint = Pipeline(\n",
    "    [(\"preprocess\", preprocess_joint), (\"model\", model_joint)]\n",
    ")"
   ]
  },
  {
   "cell_type": "markdown",
   "metadata": {},
   "source": [
    "removal space:"
   ]
  },
  {
   "cell_type": "markdown",
   "metadata": {},
   "source": [
    "```python\n",
    "original_columns_joint = preprocess_joint.fit_transform(\n",
    "    X_train_joint.sample(10000, seed=1), y_train_joint.sample(10000, seed=1)\n",
    ").columns\n",
    "\n",
    "boruta_selected_cols_joint = {}\n",
    "\n",
    "transformed_sample_X = preprocess_joint.fit_transform(\n",
    "    X_train_joint.sample(20000, seed=1), y_train_joint.sample(20000, seed=1)\n",
    ")\n",
    "transformed_sample_y = y_train_joint.sample(20000, seed=1)\n",
    "for perc in np.arange(stop=101, start=10, step=10):\n",
    "    boruta = tr.BorutaFeatureSelectorPolars(\n",
    "        model_joint, random_state=1, perc=perc\n",
    "    )\n",
    "\n",
    "    boruta.fit(\n",
    "        transformed_sample_X,\n",
    "        transformed_sample_y,\n",
    "    )\n",
    "    boruta_selected_cols_joint[perc] = boruta.transform(\n",
    "        preprocess_joint.fit_transform(\n",
    "            X_train_joint.sample(10000, seed=1), y_train_joint.sample(10000, seed=1)\n",
    "        )\n",
    "    ).columns\n",
    "    print(f\"{perc} calculated\")\n",
    "\n",
    "# Setting the number of threads to 1 to avoid parallelization clash with ray tune.\n",
    "model_joint = lgb.LGBMClassifier(\n",
    "    objective=\"multiclass\",\n",
    "    class_weight=\"balanced\",\n",
    "    verbose=-1,\n",
    "    force_col_wise=True,\n",
    "    random_state=1,\n",
    "    num_threads=1,\n",
    ")\n"
   ]
  },
  {
   "cell_type": "markdown",
   "metadata": {},
   "source": [
    "```python\n",
    "cols_to_drop_space_joint=[]\n",
    "for key, columns in boruta_selected_cols_joint.items():\n",
    "    cols_to_drop_space_joint.append([col for col in original_columns_joint if col not in columns])\n",
    "cols_to_drop_space_joint.insert(0,[])\n",
    "joblib.dump(cols_to_drop_space_joint,'temp/cols_to_drop_joint.joblib')\n"
   ]
  },
  {
   "cell_type": "code",
   "execution_count": 29,
   "metadata": {},
   "outputs": [],
   "source": [
    "cols_to_drop_space_joint=joblib.load('temp/cols_to_drop_joint.joblib')"
   ]
  },
  {
   "cell_type": "code",
   "execution_count": 24,
   "metadata": {},
   "outputs": [
    {
     "data": {
      "text/html": [
       "<style>#sk-container-id-1 {color: black;}#sk-container-id-1 pre{padding: 0;}#sk-container-id-1 div.sk-toggleable {background-color: white;}#sk-container-id-1 label.sk-toggleable__label {cursor: pointer;display: block;width: 100%;margin-bottom: 0;padding: 0.3em;box-sizing: border-box;text-align: center;}#sk-container-id-1 label.sk-toggleable__label-arrow:before {content: \"▸\";float: left;margin-right: 0.25em;color: #696969;}#sk-container-id-1 label.sk-toggleable__label-arrow:hover:before {color: black;}#sk-container-id-1 div.sk-estimator:hover label.sk-toggleable__label-arrow:before {color: black;}#sk-container-id-1 div.sk-toggleable__content {max-height: 0;max-width: 0;overflow: hidden;text-align: left;background-color: #f0f8ff;}#sk-container-id-1 div.sk-toggleable__content pre {margin: 0.2em;color: black;border-radius: 0.25em;background-color: #f0f8ff;}#sk-container-id-1 input.sk-toggleable__control:checked~div.sk-toggleable__content {max-height: 200px;max-width: 100%;overflow: auto;}#sk-container-id-1 input.sk-toggleable__control:checked~label.sk-toggleable__label-arrow:before {content: \"▾\";}#sk-container-id-1 div.sk-estimator input.sk-toggleable__control:checked~label.sk-toggleable__label {background-color: #d4ebff;}#sk-container-id-1 div.sk-label input.sk-toggleable__control:checked~label.sk-toggleable__label {background-color: #d4ebff;}#sk-container-id-1 input.sk-hidden--visually {border: 0;clip: rect(1px 1px 1px 1px);clip: rect(1px, 1px, 1px, 1px);height: 1px;margin: -1px;overflow: hidden;padding: 0;position: absolute;width: 1px;}#sk-container-id-1 div.sk-estimator {font-family: monospace;background-color: #f0f8ff;border: 1px dotted black;border-radius: 0.25em;box-sizing: border-box;margin-bottom: 0.5em;}#sk-container-id-1 div.sk-estimator:hover {background-color: #d4ebff;}#sk-container-id-1 div.sk-parallel-item::after {content: \"\";width: 100%;border-bottom: 1px solid gray;flex-grow: 1;}#sk-container-id-1 div.sk-label:hover label.sk-toggleable__label {background-color: #d4ebff;}#sk-container-id-1 div.sk-serial::before {content: \"\";position: absolute;border-left: 1px solid gray;box-sizing: border-box;top: 0;bottom: 0;left: 50%;z-index: 0;}#sk-container-id-1 div.sk-serial {display: flex;flex-direction: column;align-items: center;background-color: white;padding-right: 0.2em;padding-left: 0.2em;position: relative;}#sk-container-id-1 div.sk-item {position: relative;z-index: 1;}#sk-container-id-1 div.sk-parallel {display: flex;align-items: stretch;justify-content: center;background-color: white;position: relative;}#sk-container-id-1 div.sk-item::before, #sk-container-id-1 div.sk-parallel-item::before {content: \"\";position: absolute;border-left: 1px solid gray;box-sizing: border-box;top: 0;bottom: 0;left: 50%;z-index: -1;}#sk-container-id-1 div.sk-parallel-item {display: flex;flex-direction: column;z-index: 1;position: relative;background-color: white;}#sk-container-id-1 div.sk-parallel-item:first-child::after {align-self: flex-end;width: 50%;}#sk-container-id-1 div.sk-parallel-item:last-child::after {align-self: flex-start;width: 50%;}#sk-container-id-1 div.sk-parallel-item:only-child::after {width: 0;}#sk-container-id-1 div.sk-dashed-wrapped {border: 1px dashed gray;margin: 0 0.4em 0.5em 0.4em;box-sizing: border-box;padding-bottom: 0.4em;background-color: white;}#sk-container-id-1 div.sk-label label {font-family: monospace;font-weight: bold;display: inline-block;line-height: 1.2em;}#sk-container-id-1 div.sk-label-container {text-align: center;}#sk-container-id-1 div.sk-container {/* jupyter's `normalize.less` sets `[hidden] { display: none; }` but bootstrap.min.css set `[hidden] { display: none !important; }` so we also need the `!important` here to be able to override the default hidden behavior on the sphinx rendered scikit-learn.org. See: https://github.com/scikit-learn/scikit-learn/issues/21755 */display: inline-block !important;position: relative;}#sk-container-id-1 div.sk-text-repr-fallback {display: none;}</style><div id=\"sk-container-id-1\" class=\"sk-top-container\"><div class=\"sk-text-repr-fallback\"><pre>LGBMClassifier(class_weight=&#x27;balanced&#x27;, force_col_wise=True, num_threads=1,\n",
       "               objective=&#x27;multiclass&#x27;,\n",
       "               random_state=RandomState(MT19937) at 0x7F1691AA8540, verbose=-1)</pre><b>In a Jupyter environment, please rerun this cell to show the HTML representation or trust the notebook. <br />On GitHub, the HTML representation is unable to render, please try loading this page with nbviewer.org.</b></div><div class=\"sk-container\" hidden><div class=\"sk-item\"><div class=\"sk-estimator sk-toggleable\"><input class=\"sk-toggleable__control sk-hidden--visually\" id=\"sk-estimator-id-1\" type=\"checkbox\" checked><label for=\"sk-estimator-id-1\" class=\"sk-toggleable__label sk-toggleable__label-arrow\">LGBMClassifier</label><div class=\"sk-toggleable__content\"><pre>LGBMClassifier(class_weight=&#x27;balanced&#x27;, force_col_wise=True, num_threads=1,\n",
       "               objective=&#x27;multiclass&#x27;,\n",
       "               random_state=RandomState(MT19937) at 0x7F1691AA8540, verbose=-1)</pre></div></div></div></div></div>"
      ],
      "text/plain": [
       "LGBMClassifier(class_weight='balanced', force_col_wise=True, num_threads=1,\n",
       "               objective='multiclass',\n",
       "               random_state=RandomState(MT19937) at 0x7F1691AA8540, verbose=-1)"
      ]
     },
     "execution_count": 24,
     "metadata": {},
     "output_type": "execute_result"
    }
   ],
   "source": [
    "search_space_lgbm_joint = {\n",
    "    \"preprocess__feature_dropper__feats_to_drop\": tune.choice(cols_to_drop_space_joint),\n",
    "    \"model__max_depth\": tune.randint(5,40),\n",
    "    \"model__num_leaves\": tune.randint(10, 2500),\n",
    "    \"model__n_estimators\": tune.randint(10, 251),\n",
    "    \"model__learning_rate\": tune.loguniform(0.001, 0.1),\n",
    "    \"model__bagging_freq\": tune.randint(0, 11),\n",
    "    \"model__colsample_bytree\": tune.uniform(0.2, 1.0),\n",
    "    \"model__subsample\": tune.uniform(0.2, 1.0),\n",
    "    \"model__reg_alpha\": tune.loguniform(0.001, 100),\n",
    "    \"model__reg_lambda\": tune.loguniform(0.001, 100),\n",
    "    \"model__boosting_type\": tune.choice([\"gbdt\", \"dart\", \"rf\"]),\n",
    "    \"model__class_weight\": tune.choice([\"balanced\", None]),\n",
    "    \"model__max_bin\": tune.randint(5, 201),\n",
    "}\n",
    "\n",
    "joint_grade_classifier = tunes.Models.Model(\n",
    "    \"joint_grade_lgbm\",\n",
    "    pipeline=full_pipeline_joint,\n",
    "    param_grid=search_space_lgbm_joint,\n",
    "    metric_threshold=0.3,\n",
    ")\n",
    "\n",
    "joint_grade_classifier.pipeline['model'].set_params(**{'num_threads':1})"
   ]
  },
  {
   "cell_type": "code",
   "execution_count": 25,
   "metadata": {},
   "outputs": [
    {
     "data": {
      "text/html": [
       "<div class=\"tuneStatus\">\n",
       "  <div style=\"display: flex;flex-direction: row\">\n",
       "    <div style=\"display: flex;flex-direction: column;\">\n",
       "      <h3>Tune Status</h3>\n",
       "      <table>\n",
       "<tbody>\n",
       "<tr><td>Current time:</td><td>2023-10-15 19:36:31</td></tr>\n",
       "<tr><td>Running for: </td><td>00:25:31.50        </td></tr>\n",
       "<tr><td>Memory:      </td><td>8.5/31.2 GiB       </td></tr>\n",
       "</tbody>\n",
       "</table>\n",
       "    </div>\n",
       "    <div class=\"vDivider\"></div>\n",
       "    <div class=\"systemInfo\">\n",
       "      <h3>System Info</h3>\n",
       "      Using FIFO scheduling algorithm.<br>Logical resource usage: 1.0/12 CPUs, 0/1 GPUs (0.0/1.0 accelerator_type:G)\n",
       "    </div>\n",
       "    \n",
       "  </div>\n",
       "  <div class=\"hDivider\"></div>\n",
       "  <div class=\"trialStatus\">\n",
       "    <h3>Trial Status</h3>\n",
       "    <table>\n",
       "<thead>\n",
       "<tr><th>Trial name        </th><th>status    </th><th>loc                </th><th style=\"text-align: right;\">  model__bagging_freq</th><th>model__boosting_type  </th><th>model__class_weight  </th><th style=\"text-align: right;\">         model__colsample_byt\n",
       "ree</th><th style=\"text-align: right;\">  model__learning_rate</th><th style=\"text-align: right;\">  model__max_bin</th><th style=\"text-align: right;\">  model__max_depth</th><th style=\"text-align: right;\">  model__n_estimators</th><th style=\"text-align: right;\">  model__num_leaves</th><th style=\"text-align: right;\">  model__reg_alpha</th><th style=\"text-align: right;\">  model__reg_lambda</th><th style=\"text-align: right;\">  model__subsample</th><th>...ocess__feature_dr\n",
       "opper__feats_to_drop                     </th><th style=\"text-align: right;\">  iter</th><th style=\"text-align: right;\">  total time (s)</th><th style=\"text-align: right;\">   score</th></tr>\n",
       "</thead>\n",
       "<tbody>\n",
       "<tr><td>Trainable_07d513c1</td><td>TERMINATED</td><td>192.168.0.103:52645</td><td style=\"text-align: right;\">                   10</td><td>gbdt                  </td><td>                     </td><td style=\"text-align: right;\">0.272264</td><td style=\"text-align: right;\">            0.00215234</td><td style=\"text-align: right;\">             167</td><td style=\"text-align: right;\">                24</td><td style=\"text-align: right;\">                  104</td><td style=\"text-align: right;\">               1969</td><td style=\"text-align: right;\">       23.9213    </td><td style=\"text-align: right;\">         2.03605   </td><td style=\"text-align: right;\">          0.223803</td><td>[&#x27;home_ownershi_61c0</td><td style=\"text-align: right;\">     1</td><td style=\"text-align: right;\">         3.98225</td><td style=\"text-align: right;\">0.185068</td></tr>\n",
       "<tr><td>Trainable_698fa8dc</td><td>TERMINATED</td><td>192.168.0.103:52704</td><td style=\"text-align: right;\">                    6</td><td>rf                    </td><td>balanced             </td><td style=\"text-align: right;\">0.42171 </td><td style=\"text-align: right;\">            0.0425298 </td><td style=\"text-align: right;\">             113</td><td style=\"text-align: right;\">                28</td><td style=\"text-align: right;\">                  196</td><td style=\"text-align: right;\">                358</td><td style=\"text-align: right;\">        0.87173   </td><td style=\"text-align: right;\">         0.00586516</td><td style=\"text-align: right;\">          0.578445</td><td>[]                  </td><td style=\"text-align: right;\">     1</td><td style=\"text-align: right;\">        31.0727 </td><td style=\"text-align: right;\">0.334328</td></tr>\n",
       "<tr><td>Trainable_034165e2</td><td>TERMINATED</td><td>192.168.0.103:52756</td><td style=\"text-align: right;\">                    5</td><td>dart                  </td><td>balanced             </td><td style=\"text-align: right;\">0.765947</td><td style=\"text-align: right;\">            0.0058256 </td><td style=\"text-align: right;\">              73</td><td style=\"text-align: right;\">                21</td><td style=\"text-align: right;\">                   57</td><td style=\"text-align: right;\">                416</td><td style=\"text-align: right;\">        0.0135122 </td><td style=\"text-align: right;\">         0.00224449</td><td style=\"text-align: right;\">          0.899402</td><td>[&#x27;home_ownershi_28c0</td><td style=\"text-align: right;\">     1</td><td style=\"text-align: right;\">        17.5021 </td><td style=\"text-align: right;\">0.351958</td></tr>\n",
       "<tr><td>Trainable_5ffdaf73</td><td>TERMINATED</td><td>192.168.0.103:52842</td><td style=\"text-align: right;\">                    5</td><td>rf                    </td><td>balanced             </td><td style=\"text-align: right;\">0.408229</td><td style=\"text-align: right;\">            0.0220388 </td><td style=\"text-align: right;\">             148</td><td style=\"text-align: right;\">                23</td><td style=\"text-align: right;\">                  196</td><td style=\"text-align: right;\">                605</td><td style=\"text-align: right;\">        0.209889  </td><td style=\"text-align: right;\">         0.0423678 </td><td style=\"text-align: right;\">          0.351092</td><td>[&#x27;fico_range_hi_6a80</td><td style=\"text-align: right;\">     1</td><td style=\"text-align: right;\">        30.6738 </td><td style=\"text-align: right;\">0.338338</td></tr>\n",
       "<tr><td>Trainable_ad5e7fe6</td><td>TERMINATED</td><td>192.168.0.103:52890</td><td style=\"text-align: right;\">                    9</td><td>rf                    </td><td>                     </td><td style=\"text-align: right;\">0.666489</td><td style=\"text-align: right;\">            0.0511561 </td><td style=\"text-align: right;\">             105</td><td style=\"text-align: right;\">                16</td><td style=\"text-align: right;\">                   44</td><td style=\"text-align: right;\">               2089</td><td style=\"text-align: right;\">        4.92978   </td><td style=\"text-align: right;\">         6.69601   </td><td style=\"text-align: right;\">          0.923229</td><td>[&#x27;home_ownershi_3640</td><td style=\"text-align: right;\">     1</td><td style=\"text-align: right;\">         8.98273</td><td style=\"text-align: right;\">0.333923</td></tr>\n",
       "<tr><td>Trainable_68e4cef9</td><td>TERMINATED</td><td>192.168.0.103:52938</td><td style=\"text-align: right;\">                    3</td><td>dart                  </td><td>balanced             </td><td style=\"text-align: right;\">0.491022</td><td style=\"text-align: right;\">            0.016061  </td><td style=\"text-align: right;\">             159</td><td style=\"text-align: right;\">                38</td><td style=\"text-align: right;\">                   68</td><td style=\"text-align: right;\">                943</td><td style=\"text-align: right;\">        3.90932   </td><td style=\"text-align: right;\">         0.0306973 </td><td style=\"text-align: right;\">          0.858541</td><td>[&#x27;home_ownershi_d400</td><td style=\"text-align: right;\">     1</td><td style=\"text-align: right;\">        18.4838 </td><td style=\"text-align: right;\">0.349082</td></tr>\n",
       "<tr><td>Trainable_9240ae3e</td><td>TERMINATED</td><td>192.168.0.103:52989</td><td style=\"text-align: right;\">                    0</td><td>gbdt                  </td><td>balanced             </td><td style=\"text-align: right;\">0.707757</td><td style=\"text-align: right;\">            0.0129069 </td><td style=\"text-align: right;\">             110</td><td style=\"text-align: right;\">                 8</td><td style=\"text-align: right;\">                   54</td><td style=\"text-align: right;\">                 37</td><td style=\"text-align: right;\">       13.6562    </td><td style=\"text-align: right;\">         0.00191521</td><td style=\"text-align: right;\">          0.715348</td><td>[&#x27;fico_range_hi_4240</td><td style=\"text-align: right;\">     1</td><td style=\"text-align: right;\">         5.26188</td><td style=\"text-align: right;\">0.292146</td></tr>\n",
       "<tr><td>Trainable_bd9fa9a6</td><td>TERMINATED</td><td>192.168.0.103:53034</td><td style=\"text-align: right;\">                    5</td><td>gbdt                  </td><td>                     </td><td style=\"text-align: right;\">0.624019</td><td style=\"text-align: right;\">            0.00722212</td><td style=\"text-align: right;\">              47</td><td style=\"text-align: right;\">                12</td><td style=\"text-align: right;\">                   62</td><td style=\"text-align: right;\">                612</td><td style=\"text-align: right;\">        0.0942747 </td><td style=\"text-align: right;\">         0.00324614</td><td style=\"text-align: right;\">          0.511998</td><td>[&#x27;home_ownershi_07c0</td><td style=\"text-align: right;\">     1</td><td style=\"text-align: right;\">         8.20449</td><td style=\"text-align: right;\">0.348442</td></tr>\n",
       "<tr><td>Trainable_42ad2efc</td><td>TERMINATED</td><td>192.168.0.103:53081</td><td style=\"text-align: right;\">                    9</td><td>rf                    </td><td>balanced             </td><td style=\"text-align: right;\">0.737318</td><td style=\"text-align: right;\">            0.0023624 </td><td style=\"text-align: right;\">              33</td><td style=\"text-align: right;\">                 7</td><td style=\"text-align: right;\">                   64</td><td style=\"text-align: right;\">                710</td><td style=\"text-align: right;\">        0.397723  </td><td style=\"text-align: right;\">        66.2448    </td><td style=\"text-align: right;\">          0.516793</td><td>[&#x27;home_ownershi_f5c0</td><td style=\"text-align: right;\">     1</td><td style=\"text-align: right;\">         4.45965</td><td style=\"text-align: right;\">0.276263</td></tr>\n",
       "<tr><td>Trainable_33b22d14</td><td>TERMINATED</td><td>192.168.0.103:53123</td><td style=\"text-align: right;\">                   10</td><td>gbdt                  </td><td>                     </td><td style=\"text-align: right;\">0.405091</td><td style=\"text-align: right;\">            0.0415706 </td><td style=\"text-align: right;\">              83</td><td style=\"text-align: right;\">                19</td><td style=\"text-align: right;\">                  241</td><td style=\"text-align: right;\">                597</td><td style=\"text-align: right;\">        4.09075   </td><td style=\"text-align: right;\">         0.0380796 </td><td style=\"text-align: right;\">          0.595701</td><td>[&#x27;home_ownershi_9ec0</td><td style=\"text-align: right;\">     1</td><td style=\"text-align: right;\">        24.4247 </td><td style=\"text-align: right;\">0.371024</td></tr>\n",
       "<tr><td>Trainable_acd7ca39</td><td>TERMINATED</td><td>192.168.0.103:53170</td><td style=\"text-align: right;\">                    1</td><td>rf                    </td><td>                     </td><td style=\"text-align: right;\">0.266229</td><td style=\"text-align: right;\">            0.0914225 </td><td style=\"text-align: right;\">             181</td><td style=\"text-align: right;\">                10</td><td style=\"text-align: right;\">                  112</td><td style=\"text-align: right;\">               1995</td><td style=\"text-align: right;\">       78.5145    </td><td style=\"text-align: right;\">         0.0128275 </td><td style=\"text-align: right;\">          0.467535</td><td>[&#x27;home_ownershi_3b40</td><td style=\"text-align: right;\">     1</td><td style=\"text-align: right;\">         4.3733 </td><td style=\"text-align: right;\">0.242499</td></tr>\n",
       "<tr><td>Trainable_851f2569</td><td>TERMINATED</td><td>192.168.0.103:53213</td><td style=\"text-align: right;\">                    5</td><td>gbdt                  </td><td>balanced             </td><td style=\"text-align: right;\">0.670902</td><td style=\"text-align: right;\">            0.0857902 </td><td style=\"text-align: right;\">             160</td><td style=\"text-align: right;\">                11</td><td style=\"text-align: right;\">                   10</td><td style=\"text-align: right;\">               1742</td><td style=\"text-align: right;\">        0.010722  </td><td style=\"text-align: right;\">        10.9166    </td><td style=\"text-align: right;\">          0.925965</td><td>[&#x27;home_ownershi_05c0</td><td style=\"text-align: right;\">     1</td><td style=\"text-align: right;\">         1.96677</td><td style=\"text-align: right;\">0.325448</td></tr>\n",
       "<tr><td>Trainable_5957375b</td><td>TERMINATED</td><td>192.168.0.103:53259</td><td style=\"text-align: right;\">                    2</td><td>dart                  </td><td>balanced             </td><td style=\"text-align: right;\">0.621696</td><td style=\"text-align: right;\">            0.00185667</td><td style=\"text-align: right;\">             189</td><td style=\"text-align: right;\">                34</td><td style=\"text-align: right;\">                   54</td><td style=\"text-align: right;\">               1543</td><td style=\"text-align: right;\">       80.6934    </td><td style=\"text-align: right;\">         0.018448  </td><td style=\"text-align: right;\">          0.640613</td><td>[]                  </td><td style=\"text-align: right;\">     1</td><td style=\"text-align: right;\">         7.12601</td><td style=\"text-align: right;\">0.246936</td></tr>\n",
       "<tr><td>Trainable_1cf33bdc</td><td>TERMINATED</td><td>192.168.0.103:53303</td><td style=\"text-align: right;\">                    2</td><td>dart                  </td><td>balanced             </td><td style=\"text-align: right;\">0.887875</td><td style=\"text-align: right;\">            0.00585216</td><td style=\"text-align: right;\">              68</td><td style=\"text-align: right;\">                39</td><td style=\"text-align: right;\">                  145</td><td style=\"text-align: right;\">               1143</td><td style=\"text-align: right;\">        0.00159688</td><td style=\"text-align: right;\">         0.0822224 </td><td style=\"text-align: right;\">          0.766464</td><td>[&#x27;home_ownershi_d980</td><td style=\"text-align: right;\">     1</td><td style=\"text-align: right;\">       118.164  </td><td style=\"text-align: right;\">0.346407</td></tr>\n",
       "<tr><td>Trainable_3aa16af0</td><td>TERMINATED</td><td>192.168.0.103:53344</td><td style=\"text-align: right;\">                    2</td><td>dart                  </td><td>balanced             </td><td style=\"text-align: right;\">0.921657</td><td style=\"text-align: right;\">            0.00583379</td><td style=\"text-align: right;\">              62</td><td style=\"text-align: right;\">                37</td><td style=\"text-align: right;\">                  137</td><td style=\"text-align: right;\">               1186</td><td style=\"text-align: right;\">        0.00140706</td><td style=\"text-align: right;\">         0.0830908 </td><td style=\"text-align: right;\">          0.776162</td><td>[&#x27;home_ownershi_e480</td><td style=\"text-align: right;\">     1</td><td style=\"text-align: right;\">       101.969  </td><td style=\"text-align: right;\">0.338085</td></tr>\n",
       "<tr><td>Trainable_22f3581a</td><td>TERMINATED</td><td>192.168.0.103:53390</td><td style=\"text-align: right;\">                    3</td><td>dart                  </td><td>balanced             </td><td style=\"text-align: right;\">0.922018</td><td style=\"text-align: right;\">            0.0059854 </td><td style=\"text-align: right;\">              65</td><td style=\"text-align: right;\">                35</td><td style=\"text-align: right;\">                  151</td><td style=\"text-align: right;\">               1117</td><td style=\"text-align: right;\">        0.00275164</td><td style=\"text-align: right;\">         0.105392  </td><td style=\"text-align: right;\">          0.802413</td><td>[&#x27;home_ownershi_f680</td><td style=\"text-align: right;\">     1</td><td style=\"text-align: right;\">       131.751  </td><td style=\"text-align: right;\">0.341307</td></tr>\n",
       "<tr><td>Trainable_18673056</td><td>TERMINATED</td><td>192.168.0.103:53437</td><td style=\"text-align: right;\">                    3</td><td>dart                  </td><td>balanced             </td><td style=\"text-align: right;\">0.888964</td><td style=\"text-align: right;\">            0.00611153</td><td style=\"text-align: right;\">              64</td><td style=\"text-align: right;\">                35</td><td style=\"text-align: right;\">                  143</td><td style=\"text-align: right;\">               1143</td><td style=\"text-align: right;\">        0.00103069</td><td style=\"text-align: right;\">         0.104308  </td><td style=\"text-align: right;\">          0.806378</td><td>[&#x27;home_ownershi_0a00</td><td style=\"text-align: right;\">     1</td><td style=\"text-align: right;\">       125.11   </td><td style=\"text-align: right;\">0.339219</td></tr>\n",
       "<tr><td>Trainable_f444c78b</td><td>TERMINATED</td><td>192.168.0.103:53482</td><td style=\"text-align: right;\">                    7</td><td>dart                  </td><td>                     </td><td style=\"text-align: right;\">0.890033</td><td style=\"text-align: right;\">            0.00630954</td><td style=\"text-align: right;\">              66</td><td style=\"text-align: right;\">                18</td><td style=\"text-align: right;\">                  238</td><td style=\"text-align: right;\">               1163</td><td style=\"text-align: right;\">        0.00132607</td><td style=\"text-align: right;\">         0.00119173</td><td style=\"text-align: right;\">          0.767349</td><td>[&#x27;home_ownershi_c300</td><td style=\"text-align: right;\">     1</td><td style=\"text-align: right;\">       263.86   </td><td style=\"text-align: right;\">0.345163</td></tr>\n",
       "<tr><td>Trainable_97585a0f</td><td>TERMINATED</td><td>192.168.0.103:53527</td><td style=\"text-align: right;\">                    8</td><td>dart                  </td><td>                     </td><td style=\"text-align: right;\">0.934071</td><td style=\"text-align: right;\">            0.00513288</td><td style=\"text-align: right;\">              68</td><td style=\"text-align: right;\">                18</td><td style=\"text-align: right;\">                  237</td><td style=\"text-align: right;\">               1275</td><td style=\"text-align: right;\">        0.00174374</td><td style=\"text-align: right;\">         0.137148  </td><td style=\"text-align: right;\">          0.744547</td><td>[&#x27;home_ownershi_07c0</td><td style=\"text-align: right;\">     1</td><td style=\"text-align: right;\">       280.781  </td><td style=\"text-align: right;\">0.343934</td></tr>\n",
       "<tr><td>Trainable_611da197</td><td>TERMINATED</td><td>192.168.0.103:53573</td><td style=\"text-align: right;\">                    7</td><td>dart                  </td><td>                     </td><td style=\"text-align: right;\">0.889399</td><td style=\"text-align: right;\">            0.00492732</td><td style=\"text-align: right;\">              66</td><td style=\"text-align: right;\">                18</td><td style=\"text-align: right;\">                  235</td><td style=\"text-align: right;\">               1113</td><td style=\"text-align: right;\">        0.00189805</td><td style=\"text-align: right;\">         0.167872  </td><td style=\"text-align: right;\">          0.74351 </td><td>[&#x27;home_ownershi_c380</td><td style=\"text-align: right;\">     1</td><td style=\"text-align: right;\">       285.414  </td><td style=\"text-align: right;\">0.346018</td></tr>\n",
       "<tr><td>Trainable_e033d11e</td><td>TERMINATED</td><td>192.168.0.103:53621</td><td style=\"text-align: right;\">                    7</td><td>dart                  </td><td>                     </td><td style=\"text-align: right;\">0.899702</td><td style=\"text-align: right;\">            0.00648938</td><td style=\"text-align: right;\">              67</td><td style=\"text-align: right;\">                17</td><td style=\"text-align: right;\">                  248</td><td style=\"text-align: right;\">               1202</td><td style=\"text-align: right;\">        0.00157577</td><td style=\"text-align: right;\">         0.243136  </td><td style=\"text-align: right;\">          0.750364</td><td>[&#x27;home_ownershi_2580</td><td style=\"text-align: right;\">     1</td><td style=\"text-align: right;\">       283.626  </td><td style=\"text-align: right;\">0.34084 </td></tr>\n",
       "<tr><td>Trainable_0ff2b59b</td><td>TERMINATED</td><td>192.168.0.103:53672</td><td style=\"text-align: right;\">                    7</td><td>dart                  </td><td>                     </td><td style=\"text-align: right;\">0.876885</td><td style=\"text-align: right;\">            0.00588589</td><td style=\"text-align: right;\">              69</td><td style=\"text-align: right;\">                16</td><td style=\"text-align: right;\">                  246</td><td style=\"text-align: right;\">               1175</td><td style=\"text-align: right;\">        0.00403559</td><td style=\"text-align: right;\">         0.118965  </td><td style=\"text-align: right;\">          0.786373</td><td>[&#x27;home_ownershi_d340</td><td style=\"text-align: right;\">     1</td><td style=\"text-align: right;\">       287.993  </td><td style=\"text-align: right;\">0.346153</td></tr>\n",
       "<tr><td>Trainable_7f112474</td><td>TERMINATED</td><td>192.168.0.103:53720</td><td style=\"text-align: right;\">                    7</td><td>dart                  </td><td>                     </td><td style=\"text-align: right;\">0.877873</td><td style=\"text-align: right;\">            0.00703992</td><td style=\"text-align: right;\">              64</td><td style=\"text-align: right;\">                17</td><td style=\"text-align: right;\">                  233</td><td style=\"text-align: right;\">               1212</td><td style=\"text-align: right;\">        0.00148987</td><td style=\"text-align: right;\">         0.15958   </td><td style=\"text-align: right;\">          0.78243 </td><td>[&#x27;home_ownershi_2480</td><td style=\"text-align: right;\">     1</td><td style=\"text-align: right;\">       268.683  </td><td style=\"text-align: right;\">0.349159</td></tr>\n",
       "<tr><td>Trainable_5d60e410</td><td>TERMINATED</td><td>192.168.0.103:53773</td><td style=\"text-align: right;\">                    7</td><td>dart                  </td><td>                     </td><td style=\"text-align: right;\">0.887762</td><td style=\"text-align: right;\">            0.00644005</td><td style=\"text-align: right;\">              68</td><td style=\"text-align: right;\">                18</td><td style=\"text-align: right;\">                  249</td><td style=\"text-align: right;\">               1138</td><td style=\"text-align: right;\">        0.00188   </td><td style=\"text-align: right;\">         0.0011252 </td><td style=\"text-align: right;\">          0.760175</td><td>[&#x27;home_ownershi_8bc0</td><td style=\"text-align: right;\">     1</td><td style=\"text-align: right;\">       330.467  </td><td style=\"text-align: right;\">0.345079</td></tr>\n",
       "<tr><td>Trainable_bfed4052</td><td>TERMINATED</td><td>192.168.0.103:53821</td><td style=\"text-align: right;\">                    7</td><td>dart                  </td><td>                     </td><td style=\"text-align: right;\">0.930308</td><td style=\"text-align: right;\">            0.00588093</td><td style=\"text-align: right;\">              64</td><td style=\"text-align: right;\">                17</td><td style=\"text-align: right;\">                  245</td><td style=\"text-align: right;\">               1184</td><td style=\"text-align: right;\">        0.00129945</td><td style=\"text-align: right;\">         0.0010893 </td><td style=\"text-align: right;\">          0.771426</td><td>[&#x27;home_ownershi_5f40</td><td style=\"text-align: right;\">     1</td><td style=\"text-align: right;\">       292.283  </td><td style=\"text-align: right;\">0.342372</td></tr>\n",
       "<tr><td>Trainable_0844f79b</td><td>TERMINATED</td><td>192.168.0.103:53904</td><td style=\"text-align: right;\">                    7</td><td>dart                  </td><td>                     </td><td style=\"text-align: right;\">0.879893</td><td style=\"text-align: right;\">            0.00626321</td><td style=\"text-align: right;\">              65</td><td style=\"text-align: right;\">                17</td><td style=\"text-align: right;\">                  249</td><td style=\"text-align: right;\">               1118</td><td style=\"text-align: right;\">        0.00178918</td><td style=\"text-align: right;\">         0.00108027</td><td style=\"text-align: right;\">          0.763818</td><td>[&#x27;home_ownershi_d2c0</td><td style=\"text-align: right;\">     1</td><td style=\"text-align: right;\">       308.503  </td><td style=\"text-align: right;\">0.342838</td></tr>\n",
       "<tr><td>Trainable_476c5822</td><td>TERMINATED</td><td>192.168.0.103:53982</td><td style=\"text-align: right;\">                    7</td><td>dart                  </td><td>                     </td><td style=\"text-align: right;\">0.917243</td><td style=\"text-align: right;\">            0.00472043</td><td style=\"text-align: right;\">              72</td><td style=\"text-align: right;\">                18</td><td style=\"text-align: right;\">                  243</td><td style=\"text-align: right;\">                109</td><td style=\"text-align: right;\">        0.0425848 </td><td style=\"text-align: right;\">         0.00139046</td><td style=\"text-align: right;\">          0.994103</td><td>[&#x27;home_ownershi_33c0</td><td style=\"text-align: right;\">     1</td><td style=\"text-align: right;\">       133.969  </td><td style=\"text-align: right;\">0.314933</td></tr>\n",
       "<tr><td>Trainable_66f25f82</td><td>TERMINATED</td><td>192.168.0.103:54059</td><td style=\"text-align: right;\">                    8</td><td>dart                  </td><td>                     </td><td style=\"text-align: right;\">0.504811</td><td style=\"text-align: right;\">            0.0291965 </td><td style=\"text-align: right;\">               7</td><td style=\"text-align: right;\">                19</td><td style=\"text-align: right;\">                  238</td><td style=\"text-align: right;\">                219</td><td style=\"text-align: right;\">        0.0374354 </td><td style=\"text-align: right;\">         0.0010537 </td><td style=\"text-align: right;\">          0.962342</td><td>[&#x27;fico_range_hi_f300</td><td style=\"text-align: right;\">     1</td><td style=\"text-align: right;\">       169.12   </td><td style=\"text-align: right;\">0.371413</td></tr>\n",
       "<tr><td>Trainable_9695bcc0</td><td>TERMINATED</td><td>192.168.0.103:54101</td><td style=\"text-align: right;\">                    7</td><td>gbdt                  </td><td>                     </td><td style=\"text-align: right;\">0.803662</td><td style=\"text-align: right;\">            0.025694  </td><td style=\"text-align: right;\">               5</td><td style=\"text-align: right;\">                18</td><td style=\"text-align: right;\">                  238</td><td style=\"text-align: right;\">                 59</td><td style=\"text-align: right;\">        0.0456552 </td><td style=\"text-align: right;\">         0.00193864</td><td style=\"text-align: right;\">          0.988971</td><td>[&#x27;home_ownershi_3d80</td><td style=\"text-align: right;\">     1</td><td style=\"text-align: right;\">        46.2537 </td><td style=\"text-align: right;\">0.355019</td></tr>\n",
       "<tr><td>Trainable_73a8c015</td><td>TERMINATED</td><td>192.168.0.103:54192</td><td style=\"text-align: right;\">                    7</td><td>gbdt                  </td><td>                     </td><td style=\"text-align: right;\">0.808646</td><td style=\"text-align: right;\">            0.00100181</td><td style=\"text-align: right;\">              84</td><td style=\"text-align: right;\">                18</td><td style=\"text-align: right;\">                  249</td><td style=\"text-align: right;\">                 42</td><td style=\"text-align: right;\">        0.0233806 </td><td style=\"text-align: right;\">         0.00107052</td><td style=\"text-align: right;\">          0.996979</td><td>[&#x27;fico_range_hi_55c0</td><td style=\"text-align: right;\">     1</td><td style=\"text-align: right;\">        45.6315 </td><td style=\"text-align: right;\">0.313696</td></tr>\n",
       "<tr><td>Trainable_923ff49f</td><td>TERMINATED</td><td>192.168.0.103:54273</td><td style=\"text-align: right;\">                    7</td><td>gbdt                  </td><td>                     </td><td style=\"text-align: right;\">0.529679</td><td style=\"text-align: right;\">            0.027844  </td><td style=\"text-align: right;\">              27</td><td style=\"text-align: right;\">                18</td><td style=\"text-align: right;\">                  247</td><td style=\"text-align: right;\">                 82</td><td style=\"text-align: right;\">        0.0667867 </td><td style=\"text-align: right;\">         0.00107706</td><td style=\"text-align: right;\">          0.983966</td><td>[&#x27;home_ownershi_cec0</td><td style=\"text-align: right;\">     1</td><td style=\"text-align: right;\">        41.1763 </td><td style=\"text-align: right;\">0.372029</td></tr>\n",
       "<tr><td>Trainable_308e9fe3</td><td>TERMINATED</td><td>192.168.0.103:54346</td><td style=\"text-align: right;\">                    8</td><td>gbdt                  </td><td>                     </td><td style=\"text-align: right;\">0.559954</td><td style=\"text-align: right;\">            0.0256777 </td><td style=\"text-align: right;\">              11</td><td style=\"text-align: right;\">                15</td><td style=\"text-align: right;\">                  238</td><td style=\"text-align: right;\">                244</td><td style=\"text-align: right;\">        1.2091    </td><td style=\"text-align: right;\">         0.0096927 </td><td style=\"text-align: right;\">          0.651486</td><td>[&#x27;home_ownershi_30c0</td><td style=\"text-align: right;\">     1</td><td style=\"text-align: right;\">        54.527  </td><td style=\"text-align: right;\">0.374426</td></tr>\n",
       "<tr><td>Trainable_8ed94f58</td><td>TERMINATED</td><td>192.168.0.103:54435</td><td style=\"text-align: right;\">                   10</td><td>gbdt                  </td><td>                     </td><td style=\"text-align: right;\">0.999601</td><td style=\"text-align: right;\">            0.0279228 </td><td style=\"text-align: right;\">              11</td><td style=\"text-align: right;\">                27</td><td style=\"text-align: right;\">                  215</td><td style=\"text-align: right;\">                321</td><td style=\"text-align: right;\">        1.33006   </td><td style=\"text-align: right;\">         0.00728203</td><td style=\"text-align: right;\">          0.680624</td><td>[&#x27;home_ownershi_8f80</td><td style=\"text-align: right;\">     1</td><td style=\"text-align: right;\">        68.5952 </td><td style=\"text-align: right;\">0.365373</td></tr>\n",
       "<tr><td>Trainable_e22c2bbe</td><td>TERMINATED</td><td>192.168.0.103:54513</td><td style=\"text-align: right;\">                   10</td><td>gbdt                  </td><td>                     </td><td style=\"text-align: right;\">0.783456</td><td style=\"text-align: right;\">            0.0244891 </td><td style=\"text-align: right;\">               5</td><td style=\"text-align: right;\">                27</td><td style=\"text-align: right;\">                  197</td><td style=\"text-align: right;\">                336</td><td style=\"text-align: right;\">        0.00712787</td><td style=\"text-align: right;\">         0.00729502</td><td style=\"text-align: right;\">          0.668705</td><td>[&#x27;home_ownershi_4d80</td><td style=\"text-align: right;\">     1</td><td style=\"text-align: right;\">        52.5751 </td><td style=\"text-align: right;\">0.364614</td></tr>\n",
       "<tr><td>Trainable_42a3dc11</td><td>TERMINATED</td><td>192.168.0.103:54589</td><td style=\"text-align: right;\">                   10</td><td>gbdt                  </td><td>                     </td><td style=\"text-align: right;\">0.567436</td><td style=\"text-align: right;\">            0.0263186 </td><td style=\"text-align: right;\">              12</td><td style=\"text-align: right;\">                27</td><td style=\"text-align: right;\">                  208</td><td style=\"text-align: right;\">               2421</td><td style=\"text-align: right;\">        0.0966911 </td><td style=\"text-align: right;\">         0.00638856</td><td style=\"text-align: right;\">          0.659467</td><td>[&#x27;home_ownershi_0f80</td><td style=\"text-align: right;\">     1</td><td style=\"text-align: right;\">        91.3705 </td><td style=\"text-align: right;\">0.361588</td></tr>\n",
       "<tr><td>Trainable_5ba32c9f</td><td>TERMINATED</td><td>192.168.0.103:54667</td><td style=\"text-align: right;\">                   10</td><td>gbdt                  </td><td>                     </td><td style=\"text-align: right;\">0.539126</td><td style=\"text-align: right;\">            0.0277431 </td><td style=\"text-align: right;\">               6</td><td style=\"text-align: right;\">                27</td><td style=\"text-align: right;\">                  210</td><td style=\"text-align: right;\">                316</td><td style=\"text-align: right;\">        0.121731  </td><td style=\"text-align: right;\">         0.00724435</td><td style=\"text-align: right;\">          0.658498</td><td>[&#x27;home_ownershi_fa40</td><td style=\"text-align: right;\">     1</td><td style=\"text-align: right;\">        48.9965 </td><td style=\"text-align: right;\">0.361617</td></tr>\n",
       "<tr><td>Trainable_8dd92dee</td><td>TERMINATED</td><td>192.168.0.103:54714</td><td style=\"text-align: right;\">                   10</td><td>gbdt                  </td><td>                     </td><td style=\"text-align: right;\">0.541335</td><td style=\"text-align: right;\">            0.0345581 </td><td style=\"text-align: right;\">               6</td><td style=\"text-align: right;\">                26</td><td style=\"text-align: right;\">                  207</td><td style=\"text-align: right;\">               2433</td><td style=\"text-align: right;\">        1.23505   </td><td style=\"text-align: right;\">         0.00627837</td><td style=\"text-align: right;\">          0.660427</td><td>[&#x27;fico_range_hi_0cc0</td><td style=\"text-align: right;\">     1</td><td style=\"text-align: right;\">        58.7005 </td><td style=\"text-align: right;\">0.374558</td></tr>\n",
       "<tr><td>Trainable_d4772bee</td><td>TERMINATED</td><td>192.168.0.103:54763</td><td style=\"text-align: right;\">                    9</td><td>gbdt                  </td><td>                     </td><td style=\"text-align: right;\">0.527868</td><td style=\"text-align: right;\">            0.0291641 </td><td style=\"text-align: right;\">               5</td><td style=\"text-align: right;\">                14</td><td style=\"text-align: right;\">                  208</td><td style=\"text-align: right;\">                307</td><td style=\"text-align: right;\">        0.172021  </td><td style=\"text-align: right;\">         0.00566885</td><td style=\"text-align: right;\">          0.861479</td><td>[&#x27;home_ownershi_4480</td><td style=\"text-align: right;\">     1</td><td style=\"text-align: right;\">        54.4372 </td><td style=\"text-align: right;\">0.358582</td></tr>\n",
       "<tr><td>Trainable_fdee841f</td><td>TERMINATED</td><td>192.168.0.103:54809</td><td style=\"text-align: right;\">                    9</td><td>gbdt                  </td><td>                     </td><td style=\"text-align: right;\">0.553139</td><td style=\"text-align: right;\">            0.0273477 </td><td style=\"text-align: right;\">               7</td><td style=\"text-align: right;\">                27</td><td style=\"text-align: right;\">                  208</td><td style=\"text-align: right;\">                309</td><td style=\"text-align: right;\">        0.125401  </td><td style=\"text-align: right;\">         0.00581304</td><td style=\"text-align: right;\">          0.851428</td><td>[&#x27;home_ownershi_7bc0</td><td style=\"text-align: right;\">     1</td><td style=\"text-align: right;\">        59.5681 </td><td style=\"text-align: right;\">0.367123</td></tr>\n",
       "<tr><td>Trainable_e23995e8</td><td>TERMINATED</td><td>192.168.0.103:54854</td><td style=\"text-align: right;\">                    9</td><td>gbdt                  </td><td>                     </td><td style=\"text-align: right;\">0.536442</td><td style=\"text-align: right;\">            0.0247624 </td><td style=\"text-align: right;\">              12</td><td style=\"text-align: right;\">                25</td><td style=\"text-align: right;\">                  208</td><td style=\"text-align: right;\">               2327</td><td style=\"text-align: right;\">        0.134374  </td><td style=\"text-align: right;\">         0.00545631</td><td style=\"text-align: right;\">          0.875031</td><td>[&#x27;home_ownershi_ff80</td><td style=\"text-align: right;\">     1</td><td style=\"text-align: right;\">       110.76   </td><td style=\"text-align: right;\">0.356991</td></tr>\n",
       "<tr><td>Trainable_7bebea86</td><td>TERMINATED</td><td>192.168.0.103:54900</td><td style=\"text-align: right;\">                    9</td><td>gbdt                  </td><td>                     </td><td style=\"text-align: right;\">0.542385</td><td style=\"text-align: right;\">            0.0267423 </td><td style=\"text-align: right;\">              11</td><td style=\"text-align: right;\">                26</td><td style=\"text-align: right;\">                  208</td><td style=\"text-align: right;\">                257</td><td style=\"text-align: right;\">        0.163638  </td><td style=\"text-align: right;\">         0.00568411</td><td style=\"text-align: right;\">          0.880232</td><td>[&#x27;home_ownershi_5300</td><td style=\"text-align: right;\">     1</td><td style=\"text-align: right;\">        59.7248 </td><td style=\"text-align: right;\">0.368728</td></tr>\n",
       "<tr><td>Trainable_ed85e1c2</td><td>TERMINATED</td><td>192.168.0.103:54975</td><td style=\"text-align: right;\">                    9</td><td>gbdt                  </td><td>                     </td><td style=\"text-align: right;\">0.548566</td><td style=\"text-align: right;\">            0.0244201 </td><td style=\"text-align: right;\">               8</td><td style=\"text-align: right;\">                27</td><td style=\"text-align: right;\">                  208</td><td style=\"text-align: right;\">                351</td><td style=\"text-align: right;\">        0.13751   </td><td style=\"text-align: right;\">         0.00661452</td><td style=\"text-align: right;\">          0.861717</td><td>[&#x27;home_ownershi_0d00</td><td style=\"text-align: right;\">     1</td><td style=\"text-align: right;\">        67.5647 </td><td style=\"text-align: right;\">0.369739</td></tr>\n",
       "<tr><td>Trainable_373f5d7a</td><td>TERMINATED</td><td>192.168.0.103:55054</td><td style=\"text-align: right;\">                    9</td><td>gbdt                  </td><td>                     </td><td style=\"text-align: right;\">0.54844 </td><td style=\"text-align: right;\">            0.027066  </td><td style=\"text-align: right;\">               5</td><td style=\"text-align: right;\">                14</td><td style=\"text-align: right;\">                  204</td><td style=\"text-align: right;\">                339</td><td style=\"text-align: right;\">        0.138398  </td><td style=\"text-align: right;\">         0.00574249</td><td style=\"text-align: right;\">          0.862103</td><td>[&#x27;home_ownershi_cd40</td><td style=\"text-align: right;\">     1</td><td style=\"text-align: right;\">        61.7641 </td><td style=\"text-align: right;\">0.35915 </td></tr>\n",
       "<tr><td>Trainable_32cddc82</td><td>TERMINATED</td><td>192.168.0.103:55100</td><td style=\"text-align: right;\">                    9</td><td>gbdt                  </td><td>                     </td><td style=\"text-align: right;\">0.541733</td><td style=\"text-align: right;\">            0.0379139 </td><td style=\"text-align: right;\">              20</td><td style=\"text-align: right;\">                14</td><td style=\"text-align: right;\">                  214</td><td style=\"text-align: right;\">               2394</td><td style=\"text-align: right;\">        0.143913  </td><td style=\"text-align: right;\">         0.00342972</td><td style=\"text-align: right;\">          0.614965</td><td>[&#x27;fico_range_hi_4740</td><td style=\"text-align: right;\">     1</td><td style=\"text-align: right;\">        80.8517 </td><td style=\"text-align: right;\">0.36498 </td></tr>\n",
       "<tr><td>Trainable_82d850b0</td><td>TERMINATED</td><td>192.168.0.103:55177</td><td style=\"text-align: right;\">                    9</td><td>gbdt                  </td><td>                     </td><td style=\"text-align: right;\">0.362024</td><td style=\"text-align: right;\">            0.0366271 </td><td style=\"text-align: right;\">              26</td><td style=\"text-align: right;\">                14</td><td style=\"text-align: right;\">                  174</td><td style=\"text-align: right;\">                200</td><td style=\"text-align: right;\">        0.759169  </td><td style=\"text-align: right;\">         0.00307234</td><td style=\"text-align: right;\">          0.848105</td><td>[&#x27;fico_range_hi_32c0</td><td style=\"text-align: right;\">     1</td><td style=\"text-align: right;\">        33.7773 </td><td style=\"text-align: right;\">0.36752 </td></tr>\n",
       "<tr><td>Trainable_89f099d8</td><td>TERMINATED</td><td>192.168.0.103:55254</td><td style=\"text-align: right;\">                    9</td><td>gbdt                  </td><td>                     </td><td style=\"text-align: right;\">0.380981</td><td style=\"text-align: right;\">            0.0399645 </td><td style=\"text-align: right;\">              27</td><td style=\"text-align: right;\">                14</td><td style=\"text-align: right;\">                  171</td><td style=\"text-align: right;\">                202</td><td style=\"text-align: right;\">        0.568065  </td><td style=\"text-align: right;\">         0.0040095 </td><td style=\"text-align: right;\">          0.857629</td><td>[&#x27;fico_range_hi_7540</td><td style=\"text-align: right;\">     1</td><td style=\"text-align: right;\">        35.4022 </td><td style=\"text-align: right;\">0.367578</td></tr>\n",
       "<tr><td>Trainable_7f3c05e9</td><td>TERMINATED</td><td>192.168.0.103:55356</td><td style=\"text-align: right;\">                    8</td><td>gbdt                  </td><td>                     </td><td style=\"text-align: right;\">0.459133</td><td style=\"text-align: right;\">            0.0181384 </td><td style=\"text-align: right;\">              24</td><td style=\"text-align: right;\">                21</td><td style=\"text-align: right;\">                  176</td><td style=\"text-align: right;\">               2420</td><td style=\"text-align: right;\">        0.603688  </td><td style=\"text-align: right;\">         0.00335864</td><td style=\"text-align: right;\">          0.93558 </td><td>[&#x27;fico_range_hi_2c40</td><td style=\"text-align: right;\">     1</td><td style=\"text-align: right;\">        91.4485 </td><td style=\"text-align: right;\">0.355623</td></tr>\n",
       "<tr><td>Trainable_843ffa7c</td><td>TERMINATED</td><td>192.168.0.103:55407</td><td style=\"text-align: right;\">                    8</td><td>gbdt                  </td><td>                     </td><td style=\"text-align: right;\">0.453995</td><td style=\"text-align: right;\">            0.037495  </td><td style=\"text-align: right;\">              24</td><td style=\"text-align: right;\">                24</td><td style=\"text-align: right;\">                  175</td><td style=\"text-align: right;\">               2376</td><td style=\"text-align: right;\">        0.434309  </td><td style=\"text-align: right;\">         0.00300017</td><td style=\"text-align: right;\">          0.846672</td><td>[&#x27;fico_range_hi_02c0</td><td style=\"text-align: right;\">     1</td><td style=\"text-align: right;\">        77.6479 </td><td style=\"text-align: right;\">0.361267</td></tr>\n",
       "<tr><td>Trainable_22fe5d45</td><td>TERMINATED</td><td>192.168.0.103:55457</td><td style=\"text-align: right;\">                    8</td><td>gbdt                  </td><td>                     </td><td style=\"text-align: right;\">0.447512</td><td style=\"text-align: right;\">            0.0159332 </td><td style=\"text-align: right;\">              24</td><td style=\"text-align: right;\">                21</td><td style=\"text-align: right;\">                  172</td><td style=\"text-align: right;\">               2382</td><td style=\"text-align: right;\">        0.433727  </td><td style=\"text-align: right;\">         0.00292347</td><td style=\"text-align: right;\">          0.940033</td><td>[&#x27;fico_range_hi_df40</td><td style=\"text-align: right;\">     1</td><td style=\"text-align: right;\">        93.1203 </td><td style=\"text-align: right;\">0.354113</td></tr>\n",
       "<tr><td>Trainable_983e02f2</td><td>TERMINATED</td><td>192.168.0.103:55556</td><td style=\"text-align: right;\">                    8</td><td>rf                    </td><td>                     </td><td style=\"text-align: right;\">0.47691 </td><td style=\"text-align: right;\">            0.037744  </td><td style=\"text-align: right;\">              26</td><td style=\"text-align: right;\">                22</td><td style=\"text-align: right;\">                  179</td><td style=\"text-align: right;\">                782</td><td style=\"text-align: right;\">        0.385654  </td><td style=\"text-align: right;\">         0.00225032</td><td style=\"text-align: right;\">          0.946097</td><td>[&#x27;fico_range_hi_8a00</td><td style=\"text-align: right;\">     1</td><td style=\"text-align: right;\">        88.492  </td><td style=\"text-align: right;\">0.357191</td></tr>\n",
       "<tr><td>Trainable_77229e4f</td><td>TERMINATED</td><td>192.168.0.103:55609</td><td style=\"text-align: right;\">                    6</td><td>rf                    </td><td>                     </td><td style=\"text-align: right;\">0.484678</td><td style=\"text-align: right;\">            0.0195655 </td><td style=\"text-align: right;\">              26</td><td style=\"text-align: right;\">                21</td><td style=\"text-align: right;\">                  177</td><td style=\"text-align: right;\">                463</td><td style=\"text-align: right;\">        0.433122  </td><td style=\"text-align: right;\">         0.00304852</td><td style=\"text-align: right;\">          0.943544</td><td>[&#x27;fico_range_hi_0400</td><td style=\"text-align: right;\">     1</td><td style=\"text-align: right;\">        64.7011 </td><td style=\"text-align: right;\">0.360551</td></tr>\n",
       "<tr><td>Trainable_73ac3bdc</td><td>TERMINATED</td><td>192.168.0.103:55659</td><td style=\"text-align: right;\">                    8</td><td>rf                    </td><td>                     </td><td style=\"text-align: right;\">0.474993</td><td style=\"text-align: right;\">            0.0178435 </td><td style=\"text-align: right;\">              29</td><td style=\"text-align: right;\">                21</td><td style=\"text-align: right;\">                  182</td><td style=\"text-align: right;\">                466</td><td style=\"text-align: right;\">        0.357858  </td><td style=\"text-align: right;\">         0.00295385</td><td style=\"text-align: right;\">          0.92127 </td><td>[&#x27;fico_range_hi_5280</td><td style=\"text-align: right;\">     1</td><td style=\"text-align: right;\">        73.0833 </td><td style=\"text-align: right;\">0.355461</td></tr>\n",
       "<tr><td>Trainable_b5027317</td><td>TERMINATED</td><td>192.168.0.103:55707</td><td style=\"text-align: right;\">                    8</td><td>rf                    </td><td>                     </td><td style=\"text-align: right;\">0.45315 </td><td style=\"text-align: right;\">            0.0186743 </td><td style=\"text-align: right;\">              42</td><td style=\"text-align: right;\">                22</td><td style=\"text-align: right;\">                  221</td><td style=\"text-align: right;\">                515</td><td style=\"text-align: right;\">        1.73443   </td><td style=\"text-align: right;\">         0.0148444 </td><td style=\"text-align: right;\">          0.608571</td><td>[&#x27;fico_range_hi_c540</td><td style=\"text-align: right;\">     1</td><td style=\"text-align: right;\">        75.2954 </td><td style=\"text-align: right;\">0.347568</td></tr>\n",
       "<tr><td>Trainable_a8856019</td><td>TERMINATED</td><td>192.168.0.103:55751</td><td style=\"text-align: right;\">                    8</td><td>rf                    </td><td>                     </td><td style=\"text-align: right;\">0.471441</td><td style=\"text-align: right;\">            0.0169718 </td><td style=\"text-align: right;\">              44</td><td style=\"text-align: right;\">                22</td><td style=\"text-align: right;\">                  228</td><td style=\"text-align: right;\">                554</td><td style=\"text-align: right;\">        1.40558   </td><td style=\"text-align: right;\">         0.0156201 </td><td style=\"text-align: right;\">          0.60374 </td><td>[&#x27;fico_range_hi_ca00</td><td style=\"text-align: right;\">     1</td><td style=\"text-align: right;\">        82.1409 </td><td style=\"text-align: right;\">0.350876</td></tr>\n",
       "<tr><td>Trainable_dbf6d41e</td><td>TERMINATED</td><td>192.168.0.103:55804</td><td style=\"text-align: right;\">                    8</td><td>rf                    </td><td>                     </td><td style=\"text-align: right;\">0.44402 </td><td style=\"text-align: right;\">            0.0183098 </td><td style=\"text-align: right;\">              41</td><td style=\"text-align: right;\">                23</td><td style=\"text-align: right;\">                  227</td><td style=\"text-align: right;\">                499</td><td style=\"text-align: right;\">        1.42218   </td><td style=\"text-align: right;\">         0.0159382 </td><td style=\"text-align: right;\">          0.591202</td><td>[&#x27;fico_range_hi_4f00</td><td style=\"text-align: right;\">     1</td><td style=\"text-align: right;\">        76.8234 </td><td style=\"text-align: right;\">0.348668</td></tr>\n",
       "<tr><td>Trainable_514967bd</td><td>TERMINATED</td><td>192.168.0.103:55849</td><td style=\"text-align: right;\">                    8</td><td>rf                    </td><td>                     </td><td style=\"text-align: right;\">0.472112</td><td style=\"text-align: right;\">            0.0176815 </td><td style=\"text-align: right;\">              42</td><td style=\"text-align: right;\">                22</td><td style=\"text-align: right;\">                  222</td><td style=\"text-align: right;\">                540</td><td style=\"text-align: right;\">        1.61865   </td><td style=\"text-align: right;\">         0.0176718 </td><td style=\"text-align: right;\">          0.611643</td><td>[&#x27;fico_range_hi_d840</td><td style=\"text-align: right;\">     1</td><td style=\"text-align: right;\">        78.4289 </td><td style=\"text-align: right;\">0.349618</td></tr>\n",
       "<tr><td>Trainable_1445723a</td><td>TERMINATED</td><td>192.168.0.103:55948</td><td style=\"text-align: right;\">                    8</td><td>rf                    </td><td>                     </td><td style=\"text-align: right;\">0.475389</td><td style=\"text-align: right;\">            0.0177297 </td><td style=\"text-align: right;\">              44</td><td style=\"text-align: right;\">                22</td><td style=\"text-align: right;\">                  225</td><td style=\"text-align: right;\">                478</td><td style=\"text-align: right;\">        1.67028   </td><td style=\"text-align: right;\">         0.0144016 </td><td style=\"text-align: right;\">          0.564884</td><td>[&#x27;fico_range_hi_a9c0</td><td style=\"text-align: right;\">     1</td><td style=\"text-align: right;\">        75.2786 </td><td style=\"text-align: right;\">0.347845</td></tr>\n",
       "<tr><td>Trainable_3a1fb335</td><td>TERMINATED</td><td>192.168.0.103:56000</td><td style=\"text-align: right;\">                    8</td><td>rf                    </td><td>                     </td><td style=\"text-align: right;\">0.46759 </td><td style=\"text-align: right;\">            0.0162539 </td><td style=\"text-align: right;\">              47</td><td style=\"text-align: right;\">                21</td><td style=\"text-align: right;\">                  224</td><td style=\"text-align: right;\">                531</td><td style=\"text-align: right;\">        2.62044   </td><td style=\"text-align: right;\">         0.0135841 </td><td style=\"text-align: right;\">          0.557533</td><td>[&#x27;fico_range_hi_a480</td><td style=\"text-align: right;\">     1</td><td style=\"text-align: right;\">        72.9727 </td><td style=\"text-align: right;\">0.350985</td></tr>\n",
       "<tr><td>Trainable_0cdba704</td><td>TERMINATED</td><td>192.168.0.103:56082</td><td style=\"text-align: right;\">                    8</td><td>rf                    </td><td>                     </td><td style=\"text-align: right;\">0.463495</td><td style=\"text-align: right;\">            0.0188955 </td><td style=\"text-align: right;\">              41</td><td style=\"text-align: right;\">                22</td><td style=\"text-align: right;\">                  222</td><td style=\"text-align: right;\">                576</td><td style=\"text-align: right;\">        1.79624   </td><td style=\"text-align: right;\">         0.0173833 </td><td style=\"text-align: right;\">          0.547004</td><td>[&#x27;fico_range_hi_2f80</td><td style=\"text-align: right;\">     1</td><td style=\"text-align: right;\">        70.8477 </td><td style=\"text-align: right;\">0.345696</td></tr>\n",
       "<tr><td>Trainable_99b5053f</td><td>TERMINATED</td><td>192.168.0.103:56180</td><td style=\"text-align: right;\">                    6</td><td>rf                    </td><td>                     </td><td style=\"text-align: right;\">0.610786</td><td style=\"text-align: right;\">            0.0509649 </td><td style=\"text-align: right;\">              42</td><td style=\"text-align: right;\">                32</td><td style=\"text-align: right;\">                  228</td><td style=\"text-align: right;\">                546</td><td style=\"text-align: right;\">        1.56176   </td><td style=\"text-align: right;\">         0.0359098 </td><td style=\"text-align: right;\">          0.588178</td><td>[&#x27;home_ownershi_9c00</td><td style=\"text-align: right;\">     1</td><td style=\"text-align: right;\">        83.4529 </td><td style=\"text-align: right;\">0.352167</td></tr>\n",
       "<tr><td>Trainable_617fb7f4</td><td>TERMINATED</td><td>192.168.0.103:56234</td><td style=\"text-align: right;\">                    6</td><td>rf                    </td><td>                     </td><td style=\"text-align: right;\">0.591218</td><td style=\"text-align: right;\">            0.0539218 </td><td style=\"text-align: right;\">              45</td><td style=\"text-align: right;\">                23</td><td style=\"text-align: right;\">                  222</td><td style=\"text-align: right;\">                787</td><td style=\"text-align: right;\">        2.05787   </td><td style=\"text-align: right;\">         0.0142335 </td><td style=\"text-align: right;\">          0.576472</td><td>[&#x27;home_ownershi_6b00</td><td style=\"text-align: right;\">     1</td><td style=\"text-align: right;\">        80.5336 </td><td style=\"text-align: right;\">0.347308</td></tr>\n",
       "<tr><td>Trainable_1c541702</td><td>TERMINATED</td><td>192.168.0.103:56312</td><td style=\"text-align: right;\">                    6</td><td>rf                    </td><td>balanced             </td><td style=\"text-align: right;\">0.607202</td><td style=\"text-align: right;\">            0.0530634 </td><td style=\"text-align: right;\">              46</td><td style=\"text-align: right;\">                32</td><td style=\"text-align: right;\">                  224</td><td style=\"text-align: right;\">                801</td><td style=\"text-align: right;\">        2.25975   </td><td style=\"text-align: right;\">         0.015615  </td><td style=\"text-align: right;\">          0.575943</td><td>[&#x27;fico_range_hi_6ec0</td><td style=\"text-align: right;\">     1</td><td style=\"text-align: right;\">        79.1179 </td><td style=\"text-align: right;\">0.343963</td></tr>\n",
       "<tr><td>Trainable_d2cf7320</td><td>TERMINATED</td><td>192.168.0.103:56359</td><td style=\"text-align: right;\">                    6</td><td>gbdt                  </td><td>balanced             </td><td style=\"text-align: right;\">0.609078</td><td style=\"text-align: right;\">            0.0502392 </td><td style=\"text-align: right;\">             133</td><td style=\"text-align: right;\">                31</td><td style=\"text-align: right;\">                  227</td><td style=\"text-align: right;\">                620</td><td style=\"text-align: right;\">        0.252762  </td><td style=\"text-align: right;\">         0.0288841 </td><td style=\"text-align: right;\">          0.693604</td><td>[&#x27;home_ownershi_71c0</td><td style=\"text-align: right;\">     1</td><td style=\"text-align: right;\">        95.6635 </td><td style=\"text-align: right;\">0.363097</td></tr>\n",
       "<tr><td>Trainable_8dff3d70</td><td>TERMINATED</td><td>192.168.0.103:56408</td><td style=\"text-align: right;\">                    6</td><td>gbdt                  </td><td>balanced             </td><td style=\"text-align: right;\">0.59171 </td><td style=\"text-align: right;\">            0.064611  </td><td style=\"text-align: right;\">              44</td><td style=\"text-align: right;\">                31</td><td style=\"text-align: right;\">                  227</td><td style=\"text-align: right;\">                730</td><td style=\"text-align: right;\">        4.14827   </td><td style=\"text-align: right;\">         0.036461  </td><td style=\"text-align: right;\">          0.537004</td><td>[&#x27;fico_range_hi_7e80</td><td style=\"text-align: right;\">     1</td><td style=\"text-align: right;\">        53.2755 </td><td style=\"text-align: right;\">0.368516</td></tr>\n",
       "<tr><td>Trainable_8a018836</td><td>TERMINATED</td><td>192.168.0.103:56455</td><td style=\"text-align: right;\">                    6</td><td>gbdt                  </td><td>balanced             </td><td style=\"text-align: right;\">0.596087</td><td style=\"text-align: right;\">            0.0541286 </td><td style=\"text-align: right;\">             121</td><td style=\"text-align: right;\">                31</td><td style=\"text-align: right;\">                  224</td><td style=\"text-align: right;\">                696</td><td style=\"text-align: right;\">        4.49539   </td><td style=\"text-align: right;\">         0.0368489 </td><td style=\"text-align: right;\">          0.564025</td><td>[&#x27;home_ownershi_d7c0</td><td style=\"text-align: right;\">     1</td><td style=\"text-align: right;\">        57.2655 </td><td style=\"text-align: right;\">0.368252</td></tr>\n",
       "<tr><td>Trainable_56c9b470</td><td>TERMINATED</td><td>192.168.0.103:56509</td><td style=\"text-align: right;\">                    6</td><td>gbdt                  </td><td>balanced             </td><td style=\"text-align: right;\">0.586905</td><td style=\"text-align: right;\">            0.0498796 </td><td style=\"text-align: right;\">             130</td><td style=\"text-align: right;\">                30</td><td style=\"text-align: right;\">                  189</td><td style=\"text-align: right;\">                728</td><td style=\"text-align: right;\">        0.258671  </td><td style=\"text-align: right;\">         0.0300011 </td><td style=\"text-align: right;\">          0.725394</td><td>[&#x27;home_ownershi_d900</td><td style=\"text-align: right;\">     1</td><td style=\"text-align: right;\">        78.649  </td><td style=\"text-align: right;\">0.360203</td></tr>\n",
       "<tr><td>Trainable_e1488af5</td><td>TERMINATED</td><td>192.168.0.103:56557</td><td style=\"text-align: right;\">                    6</td><td>gbdt                  </td><td>balanced             </td><td style=\"text-align: right;\">0.591901</td><td style=\"text-align: right;\">            0.0530136 </td><td style=\"text-align: right;\">             142</td><td style=\"text-align: right;\">                30</td><td style=\"text-align: right;\">                   86</td><td style=\"text-align: right;\">                693</td><td style=\"text-align: right;\">        0.237983  </td><td style=\"text-align: right;\">         0.0553298 </td><td style=\"text-align: right;\">          0.724235</td><td>[&#x27;home_ownershi_4c40</td><td style=\"text-align: right;\">     1</td><td style=\"text-align: right;\">        42.9142 </td><td style=\"text-align: right;\">0.352366</td></tr>\n",
       "<tr><td>Trainable_70e38a79</td><td>TERMINATED</td><td>192.168.0.103:56603</td><td style=\"text-align: right;\">                    6</td><td>gbdt                  </td><td>balanced             </td><td style=\"text-align: right;\">0.587163</td><td style=\"text-align: right;\">            0.0484171 </td><td style=\"text-align: right;\">             136</td><td style=\"text-align: right;\">                30</td><td style=\"text-align: right;\">                  105</td><td style=\"text-align: right;\">                730</td><td style=\"text-align: right;\">        0.244203  </td><td style=\"text-align: right;\">         0.0484322 </td><td style=\"text-align: right;\">          0.71184 </td><td>[&#x27;home_ownershi_a700</td><td style=\"text-align: right;\">     1</td><td style=\"text-align: right;\">        50.5813 </td><td style=\"text-align: right;\">0.358687</td></tr>\n",
       "<tr><td>Trainable_ca44de75</td><td>TERMINATED</td><td>192.168.0.103:56648</td><td style=\"text-align: right;\">                    6</td><td>gbdt                  </td><td>balanced             </td><td style=\"text-align: right;\">0.586388</td><td style=\"text-align: right;\">            0.0494341 </td><td style=\"text-align: right;\">             129</td><td style=\"text-align: right;\">                31</td><td style=\"text-align: right;\">                  194</td><td style=\"text-align: right;\">                732</td><td style=\"text-align: right;\">        8.3454    </td><td style=\"text-align: right;\">         0.0256971 </td><td style=\"text-align: right;\">          0.688034</td><td>[&#x27;home_ownershi_2a40</td><td style=\"text-align: right;\">     1</td><td style=\"text-align: right;\">        42.4658 </td><td style=\"text-align: right;\">0.37605 </td></tr>\n",
       "<tr><td>Trainable_e2f49e66</td><td>TERMINATED</td><td>192.168.0.103:56696</td><td style=\"text-align: right;\">                    6</td><td>gbdt                  </td><td>balanced             </td><td style=\"text-align: right;\">0.601212</td><td style=\"text-align: right;\">            0.0489976 </td><td style=\"text-align: right;\">             127</td><td style=\"text-align: right;\">                30</td><td style=\"text-align: right;\">                  194</td><td style=\"text-align: right;\">                714</td><td style=\"text-align: right;\">        6.26673   </td><td style=\"text-align: right;\">         0.0350642 </td><td style=\"text-align: right;\">          0.711409</td><td>[&#x27;home_ownershi_d500</td><td style=\"text-align: right;\">     1</td><td style=\"text-align: right;\">        44.2318 </td><td style=\"text-align: right;\">0.369209</td></tr>\n",
       "<tr><td>Trainable_e6922fa7</td><td>TERMINATED</td><td>192.168.0.103:56770</td><td style=\"text-align: right;\">                    6</td><td>gbdt                  </td><td>balanced             </td><td style=\"text-align: right;\">0.57707 </td><td style=\"text-align: right;\">            0.0490248 </td><td style=\"text-align: right;\">             142</td><td style=\"text-align: right;\">                31</td><td style=\"text-align: right;\">                   82</td><td style=\"text-align: right;\">                795</td><td style=\"text-align: right;\">        5.20691   </td><td style=\"text-align: right;\">         0.0308409 </td><td style=\"text-align: right;\">          0.689137</td><td>[&#x27;home_ownershi_3bc0</td><td style=\"text-align: right;\">     1</td><td style=\"text-align: right;\">        21.4998 </td><td style=\"text-align: right;\">0.366195</td></tr>\n",
       "<tr><td>Trainable_94fd92ce</td><td>TERMINATED</td><td>192.168.0.103:56851</td><td style=\"text-align: right;\">                    6</td><td>gbdt                  </td><td>balanced             </td><td style=\"text-align: right;\">0.601294</td><td style=\"text-align: right;\">            0.0573749 </td><td style=\"text-align: right;\">              81</td><td style=\"text-align: right;\">                30</td><td style=\"text-align: right;\">                  113</td><td style=\"text-align: right;\">                701</td><td style=\"text-align: right;\">        0.234927  </td><td style=\"text-align: right;\">         0.0278068 </td><td style=\"text-align: right;\">          0.707153</td><td>[&#x27;home_ownershi_d540</td><td style=\"text-align: right;\">     1</td><td style=\"text-align: right;\">        36.1868 </td><td style=\"text-align: right;\">0.361207</td></tr>\n",
       "<tr><td>Trainable_c955948a</td><td>TERMINATED</td><td>192.168.0.103:56950</td><td style=\"text-align: right;\">                   10</td><td>gbdt                  </td><td>balanced             </td><td style=\"text-align: right;\">0.639482</td><td style=\"text-align: right;\">            0.0326308 </td><td style=\"text-align: right;\">              95</td><td style=\"text-align: right;\">                29</td><td style=\"text-align: right;\">                   94</td><td style=\"text-align: right;\">                196</td><td style=\"text-align: right;\">        0.281359  </td><td style=\"text-align: right;\">         0.0018081 </td><td style=\"text-align: right;\">          0.707354</td><td>[&#x27;home_ownershi_0500</td><td style=\"text-align: right;\">     1</td><td style=\"text-align: right;\">        17.2188 </td><td style=\"text-align: right;\">0.362897</td></tr>\n",
       "<tr><td>Trainable_6ac2afdd</td><td>TERMINATED</td><td>192.168.0.103:56998</td><td style=\"text-align: right;\">                   10</td><td>gbdt                  </td><td>                     </td><td style=\"text-align: right;\">0.512261</td><td style=\"text-align: right;\">            0.0311274 </td><td style=\"text-align: right;\">              17</td><td style=\"text-align: right;\">                25</td><td style=\"text-align: right;\">                  190</td><td style=\"text-align: right;\">                202</td><td style=\"text-align: right;\">        0.066621  </td><td style=\"text-align: right;\">         0.00159157</td><td style=\"text-align: right;\">          0.894817</td><td>[&#x27;home_ownershi_afc0</td><td style=\"text-align: right;\">     1</td><td style=\"text-align: right;\">        30.9743 </td><td style=\"text-align: right;\">0.370212</td></tr>\n",
       "<tr><td>Trainable_f72edc29</td><td>TERMINATED</td><td>192.168.0.103:57045</td><td style=\"text-align: right;\">                   10</td><td>gbdt                  </td><td>                     </td><td style=\"text-align: right;\">0.516071</td><td style=\"text-align: right;\">            0.0343592 </td><td style=\"text-align: right;\">              16</td><td style=\"text-align: right;\">                25</td><td style=\"text-align: right;\">                  198</td><td style=\"text-align: right;\">                178</td><td style=\"text-align: right;\">        0.231177  </td><td style=\"text-align: right;\">         0.00164049</td><td style=\"text-align: right;\">          0.900016</td><td>[&#x27;home_ownershi_f240</td><td style=\"text-align: right;\">     1</td><td style=\"text-align: right;\">        25.9105 </td><td style=\"text-align: right;\">0.37156 </td></tr>\n",
       "<tr><td>Trainable_3bd96885</td><td>TERMINATED</td><td>192.168.0.103:57095</td><td style=\"text-align: right;\">                    5</td><td>gbdt                  </td><td>balanced             </td><td style=\"text-align: right;\">0.516098</td><td style=\"text-align: right;\">            0.0325036 </td><td style=\"text-align: right;\">             100</td><td style=\"text-align: right;\">                 5</td><td style=\"text-align: right;\">                  193</td><td style=\"text-align: right;\">                970</td><td style=\"text-align: right;\">        9.33714   </td><td style=\"text-align: right;\">         0.00156571</td><td style=\"text-align: right;\">          0.638384</td><td>[]                  </td><td style=\"text-align: right;\">     1</td><td style=\"text-align: right;\">        13.2455 </td><td style=\"text-align: right;\">0.335826</td></tr>\n",
       "<tr><td>Trainable_1d4c623b</td><td>TERMINATED</td><td>192.168.0.103:57140</td><td style=\"text-align: right;\">                    5</td><td>gbdt                  </td><td>balanced             </td><td style=\"text-align: right;\">0.510088</td><td style=\"text-align: right;\">            0.0339919 </td><td style=\"text-align: right;\">              93</td><td style=\"text-align: right;\">                19</td><td style=\"text-align: right;\">                  191</td><td style=\"text-align: right;\">               1673</td><td style=\"text-align: right;\">        0.0612423 </td><td style=\"text-align: right;\">         0.00934063</td><td style=\"text-align: right;\">          0.640765</td><td>[]                  </td><td style=\"text-align: right;\">     1</td><td style=\"text-align: right;\">        58.2142 </td><td style=\"text-align: right;\">0.357741</td></tr>\n",
       "<tr><td>Trainable_e81883f3</td><td>TERMINATED</td><td>192.168.0.103:57187</td><td style=\"text-align: right;\">                    5</td><td>gbdt                  </td><td>                     </td><td style=\"text-align: right;\">0.513583</td><td style=\"text-align: right;\">            0.0333845 </td><td style=\"text-align: right;\">              53</td><td style=\"text-align: right;\">                19</td><td style=\"text-align: right;\">                  190</td><td style=\"text-align: right;\">                977</td><td style=\"text-align: right;\">        8.36261   </td><td style=\"text-align: right;\">         0.00867905</td><td style=\"text-align: right;\">          0.62859 </td><td>[&#x27;home_ownershi_dbc0</td><td style=\"text-align: right;\">     1</td><td style=\"text-align: right;\">        20.2881 </td><td style=\"text-align: right;\">0.379188</td></tr>\n",
       "<tr><td>Trainable_fab56f19</td><td>TERMINATED</td><td>192.168.0.103:57234</td><td style=\"text-align: right;\">                    5</td><td>gbdt                  </td><td>balanced             </td><td style=\"text-align: right;\">0.517693</td><td style=\"text-align: right;\">            0.0327257 </td><td style=\"text-align: right;\">             160</td><td style=\"text-align: right;\">                19</td><td style=\"text-align: right;\">                  198</td><td style=\"text-align: right;\">               1005</td><td style=\"text-align: right;\">       10.0146    </td><td style=\"text-align: right;\">         0.0102036 </td><td style=\"text-align: right;\">          0.633462</td><td>[&#x27;home_ownershi_e100</td><td style=\"text-align: right;\">     1</td><td style=\"text-align: right;\">        22.32   </td><td style=\"text-align: right;\">0.371252</td></tr>\n",
       "<tr><td>Trainable_b8407c5e</td><td>TERMINATED</td><td>192.168.0.103:57285</td><td style=\"text-align: right;\">                    5</td><td>gbdt                  </td><td>balanced             </td><td style=\"text-align: right;\">0.499817</td><td style=\"text-align: right;\">            0.0319666 </td><td style=\"text-align: right;\">              18</td><td style=\"text-align: right;\">                19</td><td style=\"text-align: right;\">                  238</td><td style=\"text-align: right;\">               1688</td><td style=\"text-align: right;\">        7.11477   </td><td style=\"text-align: right;\">         0.0105235 </td><td style=\"text-align: right;\">          0.639976</td><td>[&#x27;home_ownershi_74c0</td><td style=\"text-align: right;\">     1</td><td style=\"text-align: right;\">        24.5335 </td><td style=\"text-align: right;\">0.366044</td></tr>\n",
       "<tr><td>Trainable_8778cb84</td><td>TERMINATED</td><td>192.168.0.103:57331</td><td style=\"text-align: right;\">                    5</td><td>gbdt                  </td><td>balanced             </td><td style=\"text-align: right;\">0.500258</td><td style=\"text-align: right;\">            0.0435073 </td><td style=\"text-align: right;\">             158</td><td style=\"text-align: right;\">                19</td><td style=\"text-align: right;\">                  239</td><td style=\"text-align: right;\">               1851</td><td style=\"text-align: right;\">        1.02116   </td><td style=\"text-align: right;\">         0.00152329</td><td style=\"text-align: right;\">          0.649056</td><td>[&#x27;home_ownershi_0cc0</td><td style=\"text-align: right;\">     1</td><td style=\"text-align: right;\">        51.1078 </td><td style=\"text-align: right;\">0.365036</td></tr>\n",
       "<tr><td>Trainable_bcd1ce19</td><td>TERMINATED</td><td>192.168.0.103:57378</td><td style=\"text-align: right;\">                   10</td><td>gbdt                  </td><td>                     </td><td style=\"text-align: right;\">0.515789</td><td style=\"text-align: right;\">            0.0318095 </td><td style=\"text-align: right;\">              17</td><td style=\"text-align: right;\">                19</td><td style=\"text-align: right;\">                  157</td><td style=\"text-align: right;\">               1492</td><td style=\"text-align: right;\">        0.0790821 </td><td style=\"text-align: right;\">         0.00177333</td><td style=\"text-align: right;\">          0.905056</td><td>[&#x27;home_ownershi_0200</td><td style=\"text-align: right;\">     1</td><td style=\"text-align: right;\">        50.2298 </td><td style=\"text-align: right;\">0.343443</td></tr>\n",
       "<tr><td>Trainable_fbd927f2</td><td>TERMINATED</td><td>192.168.0.103:57424</td><td style=\"text-align: right;\">                   10</td><td>gbdt                  </td><td>                     </td><td style=\"text-align: right;\">0.51186 </td><td style=\"text-align: right;\">            0.0323585 </td><td style=\"text-align: right;\">              19</td><td style=\"text-align: right;\">                16</td><td style=\"text-align: right;\">                  161</td><td style=\"text-align: right;\">               1331</td><td style=\"text-align: right;\">        0.0805646 </td><td style=\"text-align: right;\">         0.00154949</td><td style=\"text-align: right;\">          0.96967 </td><td>[&#x27;home_ownershi_8300</td><td style=\"text-align: right;\">     1</td><td style=\"text-align: right;\">        53.7532 </td><td style=\"text-align: right;\">0.34136 </td></tr>\n",
       "<tr><td>Trainable_caaa4513</td><td>TERMINATED</td><td>192.168.0.103:57470</td><td style=\"text-align: right;\">                    4</td><td>dart                  </td><td>                     </td><td style=\"text-align: right;\">0.50567 </td><td style=\"text-align: right;\">            0.0426418 </td><td style=\"text-align: right;\">              18</td><td style=\"text-align: right;\">                16</td><td style=\"text-align: right;\">                  166</td><td style=\"text-align: right;\">               1320</td><td style=\"text-align: right;\">       14.1762    </td><td style=\"text-align: right;\">         0.0084007 </td><td style=\"text-align: right;\">          0.968548</td><td>[&#x27;home_ownershi_8c80</td><td style=\"text-align: right;\">     1</td><td style=\"text-align: right;\">        78.5749 </td><td style=\"text-align: right;\">0.3517  </td></tr>\n",
       "<tr><td>Trainable_c264d861</td><td>TERMINATED</td><td>192.168.0.103:57516</td><td style=\"text-align: right;\">                    4</td><td>dart                  </td><td>balanced             </td><td style=\"text-align: right;\">0.564863</td><td style=\"text-align: right;\">            0.0220026 </td><td style=\"text-align: right;\">              57</td><td style=\"text-align: right;\">                19</td><td style=\"text-align: right;\">                  154</td><td style=\"text-align: right;\">                981</td><td style=\"text-align: right;\">       15.1126    </td><td style=\"text-align: right;\">         0.00205503</td><td style=\"text-align: right;\">          0.975692</td><td>[&#x27;home_ownershi_f980</td><td style=\"text-align: right;\">     1</td><td style=\"text-align: right;\">        75.9067 </td><td style=\"text-align: right;\">0.333081</td></tr>\n",
       "<tr><td>Trainable_60cfa241</td><td>TERMINATED</td><td>192.168.0.103:57561</td><td style=\"text-align: right;\">                    4</td><td>dart                  </td><td>balanced             </td><td style=\"text-align: right;\">0.516848</td><td style=\"text-align: right;\">            0.022054  </td><td style=\"text-align: right;\">              34</td><td style=\"text-align: right;\">                19</td><td style=\"text-align: right;\">                  200</td><td style=\"text-align: right;\">               1416</td><td style=\"text-align: right;\">       10.1593    </td><td style=\"text-align: right;\">         0.0102178 </td><td style=\"text-align: right;\">          0.969719</td><td>[&#x27;home_ownershi_a800</td><td style=\"text-align: right;\">     1</td><td style=\"text-align: right;\">       123.486  </td><td style=\"text-align: right;\">0.351147</td></tr>\n",
       "<tr><td>Trainable_727a761f</td><td>TERMINATED</td><td>192.168.0.103:57607</td><td style=\"text-align: right;\">                    5</td><td>gbdt                  </td><td>                     </td><td style=\"text-align: right;\">0.503956</td><td style=\"text-align: right;\">            0.0434831 </td><td style=\"text-align: right;\">              55</td><td style=\"text-align: right;\">                16</td><td style=\"text-align: right;\">                  163</td><td style=\"text-align: right;\">               1322</td><td style=\"text-align: right;\">       22.3153    </td><td style=\"text-align: right;\">         0.00917348</td><td style=\"text-align: right;\">          0.96992 </td><td>[&#x27;home_ownershi_a980</td><td style=\"text-align: right;\">     1</td><td style=\"text-align: right;\">        26.5284 </td><td style=\"text-align: right;\">0.375005</td></tr>\n",
       "<tr><td>Trainable_a474939e</td><td>TERMINATED</td><td>192.168.0.103:57653</td><td style=\"text-align: right;\">                    4</td><td>dart                  </td><td>                     </td><td style=\"text-align: right;\">0.56647 </td><td style=\"text-align: right;\">            0.0424898 </td><td style=\"text-align: right;\">              33</td><td style=\"text-align: right;\">                16</td><td style=\"text-align: right;\">                  159</td><td style=\"text-align: right;\">                124</td><td style=\"text-align: right;\">       17.8126    </td><td style=\"text-align: right;\">         0.0101418 </td><td style=\"text-align: right;\">          0.670581</td><td>[&#x27;home_ownershi_abc0</td><td style=\"text-align: right;\">     1</td><td style=\"text-align: right;\">        66.9363 </td><td style=\"text-align: right;\">0.340849</td></tr>\n",
       "<tr><td>Trainable_7a5c7c8e</td><td>TERMINATED</td><td>192.168.0.103:57698</td><td style=\"text-align: right;\">                    4</td><td>dart                  </td><td>                     </td><td style=\"text-align: right;\">0.56387 </td><td style=\"text-align: right;\">            0.0425659 </td><td style=\"text-align: right;\">              54</td><td style=\"text-align: right;\">                16</td><td style=\"text-align: right;\">                  162</td><td style=\"text-align: right;\">               1300</td><td style=\"text-align: right;\">       15.4488    </td><td style=\"text-align: right;\">         0.00965549</td><td style=\"text-align: right;\">          0.979605</td><td>[&#x27;home_ownershi_5d00</td><td style=\"text-align: right;\">     1</td><td style=\"text-align: right;\">        89.5121 </td><td style=\"text-align: right;\">0.354536</td></tr>\n",
       "<tr><td>Trainable_068746a2</td><td>TERMINATED</td><td>192.168.0.103:57747</td><td style=\"text-align: right;\">                    5</td><td>dart                  </td><td>                     </td><td style=\"text-align: right;\">0.561967</td><td style=\"text-align: right;\">            0.0417743 </td><td style=\"text-align: right;\">             172</td><td style=\"text-align: right;\">                16</td><td style=\"text-align: right;\">                  163</td><td style=\"text-align: right;\">               1362</td><td style=\"text-align: right;\">        3.18347   </td><td style=\"text-align: right;\">         0.0013161 </td><td style=\"text-align: right;\">          0.966481</td><td>[&#x27;home_ownershi_1d00</td><td style=\"text-align: right;\">     1</td><td style=\"text-align: right;\">       134.465  </td><td style=\"text-align: right;\">0.36624 </td></tr>\n",
       "<tr><td>Trainable_33b26473</td><td>TERMINATED</td><td>192.168.0.103:57792</td><td style=\"text-align: right;\">                    4</td><td>dart                  </td><td>                     </td><td style=\"text-align: right;\">0.566407</td><td style=\"text-align: right;\">            0.0428866 </td><td style=\"text-align: right;\">             168</td><td style=\"text-align: right;\">                16</td><td style=\"text-align: right;\">                  164</td><td style=\"text-align: right;\">               1302</td><td style=\"text-align: right;\">       19.0759    </td><td style=\"text-align: right;\">         0.00210018</td><td style=\"text-align: right;\">          0.97747 </td><td>[&#x27;home_ownershi_8e00</td><td style=\"text-align: right;\">     1</td><td style=\"text-align: right;\">        92.6032 </td><td style=\"text-align: right;\">0.34942 </td></tr>\n",
       "<tr><td>Trainable_1f120460</td><td>TERMINATED</td><td>192.168.0.103:57841</td><td style=\"text-align: right;\">                    5</td><td>dart                  </td><td>                     </td><td style=\"text-align: right;\">0.561463</td><td style=\"text-align: right;\">            0.0414915 </td><td style=\"text-align: right;\">              35</td><td style=\"text-align: right;\">                12</td><td style=\"text-align: right;\">                  155</td><td style=\"text-align: right;\">               1375</td><td style=\"text-align: right;\">       12.0993    </td><td style=\"text-align: right;\">         0.00208567</td><td style=\"text-align: right;\">          0.964821</td><td>[&#x27;home_ownershi_34c0</td><td style=\"text-align: right;\">     1</td><td style=\"text-align: right;\">        75.8893 </td><td style=\"text-align: right;\">0.355665</td></tr>\n",
       "<tr><td>Trainable_5da1eefa</td><td>TERMINATED</td><td>192.168.0.103:57889</td><td style=\"text-align: right;\">                    4</td><td>dart                  </td><td>                     </td><td style=\"text-align: right;\">0.562716</td><td style=\"text-align: right;\">            0.0220939 </td><td style=\"text-align: right;\">              55</td><td style=\"text-align: right;\">                16</td><td style=\"text-align: right;\">                  200</td><td style=\"text-align: right;\">               1295</td><td style=\"text-align: right;\">       20.9429    </td><td style=\"text-align: right;\">         0.0044711 </td><td style=\"text-align: right;\">          0.975606</td><td>[&#x27;home_ownershi_8640</td><td style=\"text-align: right;\">     1</td><td style=\"text-align: right;\">       120.239  </td><td style=\"text-align: right;\">0.340873</td></tr>\n",
       "<tr><td>Trainable_c855c550</td><td>TERMINATED</td><td>192.168.0.103:57935</td><td style=\"text-align: right;\">                    4</td><td>dart                  </td><td>                     </td><td style=\"text-align: right;\">0.566585</td><td style=\"text-align: right;\">            0.0225423 </td><td style=\"text-align: right;\">              34</td><td style=\"text-align: right;\">                12</td><td style=\"text-align: right;\">                  201</td><td style=\"text-align: right;\">               1037</td><td style=\"text-align: right;\">       24.041     </td><td style=\"text-align: right;\">         0.00443649</td><td style=\"text-align: right;\">          0.968041</td><td>[&#x27;home_ownershi_d800</td><td style=\"text-align: right;\">     1</td><td style=\"text-align: right;\">       113.528  </td><td style=\"text-align: right;\">0.338513</td></tr>\n",
       "<tr><td>Trainable_7347ec7a</td><td>TERMINATED</td><td>192.168.0.103:57980</td><td style=\"text-align: right;\">                    4</td><td>dart                  </td><td>                     </td><td style=\"text-align: right;\">0.564406</td><td style=\"text-align: right;\">            0.0218663 </td><td style=\"text-align: right;\">              56</td><td style=\"text-align: right;\">                15</td><td style=\"text-align: right;\">                  164</td><td style=\"text-align: right;\">               1009</td><td style=\"text-align: right;\">       21.7456    </td><td style=\"text-align: right;\">         0.0044086 </td><td style=\"text-align: right;\">          0.963952</td><td>[&#x27;home_ownershi_1e40</td><td style=\"text-align: right;\">     1</td><td style=\"text-align: right;\">        81.9411 </td><td style=\"text-align: right;\">0.339107</td></tr>\n",
       "<tr><td>Trainable_8a30effa</td><td>TERMINATED</td><td>192.168.0.103:58022</td><td style=\"text-align: right;\">                    4</td><td>dart                  </td><td>                     </td><td style=\"text-align: right;\">0.558616</td><td style=\"text-align: right;\">            0.022309  </td><td style=\"text-align: right;\">              34</td><td style=\"text-align: right;\">                15</td><td style=\"text-align: right;\">                  202</td><td style=\"text-align: right;\">                944</td><td style=\"text-align: right;\">       17.4549    </td><td style=\"text-align: right;\">         0.00411012</td><td style=\"text-align: right;\">          0.965471</td><td>[&#x27;home_ownershi_d5c0</td><td style=\"text-align: right;\">     1</td><td style=\"text-align: right;\">       113.119  </td><td style=\"text-align: right;\">0.344982</td></tr>\n",
       "<tr><td>Trainable_30ae81a9</td><td>TERMINATED</td><td>192.168.0.103:58105</td><td style=\"text-align: right;\">                    4</td><td>dart                  </td><td>                     </td><td style=\"text-align: right;\">0.534707</td><td style=\"text-align: right;\">            0.022334  </td><td style=\"text-align: right;\">             200</td><td style=\"text-align: right;\">                15</td><td style=\"text-align: right;\">                  199</td><td style=\"text-align: right;\">                968</td><td style=\"text-align: right;\">       16.562     </td><td style=\"text-align: right;\">         0.00896204</td><td style=\"text-align: right;\">          0.973989</td><td>[&#x27;home_ownershi_4b80</td><td style=\"text-align: right;\">     1</td><td style=\"text-align: right;\">       122.014  </td><td style=\"text-align: right;\">0.349947</td></tr>\n",
       "<tr><td>Trainable_e9bdde7a</td><td>TERMINATED</td><td>192.168.0.103:58147</td><td style=\"text-align: right;\">                    4</td><td>gbdt                  </td><td>                     </td><td style=\"text-align: right;\">0.560324</td><td style=\"text-align: right;\">            0.0219391 </td><td style=\"text-align: right;\">             182</td><td style=\"text-align: right;\">                15</td><td style=\"text-align: right;\">                  202</td><td style=\"text-align: right;\">                124</td><td style=\"text-align: right;\">       34.8994    </td><td style=\"text-align: right;\">         0.00481114</td><td style=\"text-align: right;\">          0.999755</td><td>[&#x27;home_ownershi_7c40</td><td style=\"text-align: right;\">     1</td><td style=\"text-align: right;\">        34.0289 </td><td style=\"text-align: right;\">0.353464</td></tr>\n",
       "<tr><td>Trainable_e0acc06a</td><td>TERMINATED</td><td>192.168.0.103:58223</td><td style=\"text-align: right;\">                    4</td><td>gbdt                  </td><td>                     </td><td style=\"text-align: right;\">0.56421 </td><td style=\"text-align: right;\">            0.0230913 </td><td style=\"text-align: right;\">             186</td><td style=\"text-align: right;\">                12</td><td style=\"text-align: right;\">                  183</td><td style=\"text-align: right;\">               1023</td><td style=\"text-align: right;\">       43.4281    </td><td style=\"text-align: right;\">         0.00447161</td><td style=\"text-align: right;\">          0.951795</td><td>[&#x27;home_ownershi_a7c0</td><td style=\"text-align: right;\">     1</td><td style=\"text-align: right;\">        27.3003 </td><td style=\"text-align: right;\">0.347874</td></tr>\n",
       "<tr><td>Trainable_37443716</td><td>TERMINATED</td><td>192.168.0.103:58305</td><td style=\"text-align: right;\">                    4</td><td>gbdt                  </td><td>                     </td><td style=\"text-align: right;\">0.533768</td><td style=\"text-align: right;\">            0.0226032 </td><td style=\"text-align: right;\">             177</td><td style=\"text-align: right;\">                13</td><td style=\"text-align: right;\">                  201</td><td style=\"text-align: right;\">               2204</td><td style=\"text-align: right;\">       34.7672    </td><td style=\"text-align: right;\">         0.00415357</td><td style=\"text-align: right;\">          0.994488</td><td>[&#x27;home_ownershi_d580</td><td style=\"text-align: right;\">     1</td><td style=\"text-align: right;\">        33.185  </td><td style=\"text-align: right;\">0.352135</td></tr>\n",
       "<tr><td>Trainable_4a0d3071</td><td>TERMINATED</td><td>192.168.0.103:58379</td><td style=\"text-align: right;\">                    7</td><td>gbdt                  </td><td>                     </td><td style=\"text-align: right;\">0.53814 </td><td style=\"text-align: right;\">            0.0220093 </td><td style=\"text-align: right;\">             200</td><td style=\"text-align: right;\">                15</td><td style=\"text-align: right;\">                  202</td><td style=\"text-align: right;\">               2212</td><td style=\"text-align: right;\">       24.2565    </td><td style=\"text-align: right;\">         0.00449791</td><td style=\"text-align: right;\">          0.999228</td><td>[&#x27;home_ownershi_82c0</td><td style=\"text-align: right;\">     1</td><td style=\"text-align: right;\">        41.197  </td><td style=\"text-align: right;\">0.357085</td></tr>\n",
       "<tr><td>Trainable_55dacec4</td><td>TERMINATED</td><td>192.168.0.103:58481</td><td style=\"text-align: right;\">                    5</td><td>gbdt                  </td><td>                     </td><td style=\"text-align: right;\">0.53055 </td><td style=\"text-align: right;\">            0.0351502 </td><td style=\"text-align: right;\">              81</td><td style=\"text-align: right;\">                17</td><td style=\"text-align: right;\">                  215</td><td style=\"text-align: right;\">                907</td><td style=\"text-align: right;\">        9.6913    </td><td style=\"text-align: right;\">         0.0223173 </td><td style=\"text-align: right;\">          0.624617</td><td>[&#x27;home_ownershi_6c40</td><td style=\"text-align: right;\">     1</td><td style=\"text-align: right;\">        38.4754 </td><td style=\"text-align: right;\">0.372801</td></tr>\n",
       "<tr><td>Trainable_b2341f85</td><td>TERMINATED</td><td>192.168.0.103:58533</td><td style=\"text-align: right;\">                   10</td><td>gbdt                  </td><td>                     </td><td style=\"text-align: right;\">0.529596</td><td style=\"text-align: right;\">            0.0353478 </td><td style=\"text-align: right;\">              54</td><td style=\"text-align: right;\">                20</td><td style=\"text-align: right;\">                  130</td><td style=\"text-align: right;\">               2175</td><td style=\"text-align: right;\">        6.32484   </td><td style=\"text-align: right;\">         0.00104848</td><td style=\"text-align: right;\">          0.919159</td><td>[&#x27;home_ownershi_ed80</td><td style=\"text-align: right;\">     1</td><td style=\"text-align: right;\">        33.3327 </td><td style=\"text-align: right;\">0.375692</td></tr>\n",
       "<tr><td>Trainable_a2e3276e</td><td>TERMINATED</td><td>192.168.0.103:58585</td><td style=\"text-align: right;\">                   10</td><td>gbdt                  </td><td>                     </td><td style=\"text-align: right;\">0.531592</td><td style=\"text-align: right;\">            0.0292022 </td><td style=\"text-align: right;\">              81</td><td style=\"text-align: right;\">                20</td><td style=\"text-align: right;\">                  215</td><td style=\"text-align: right;\">                888</td><td style=\"text-align: right;\">        3.78941   </td><td style=\"text-align: right;\">         0.022405  </td><td style=\"text-align: right;\">          0.919781</td><td>[&#x27;home_ownershi_7c80</td><td style=\"text-align: right;\">     1</td><td style=\"text-align: right;\">        53.8198 </td><td style=\"text-align: right;\">0.374301</td></tr>\n",
       "<tr><td>Trainable_e5f56e36</td><td>TERMINATED</td><td>192.168.0.103:58632</td><td style=\"text-align: right;\">                   10</td><td>gbdt                  </td><td>                     </td><td style=\"text-align: right;\">0.533093</td><td style=\"text-align: right;\">            0.0361121 </td><td style=\"text-align: right;\">              12</td><td style=\"text-align: right;\">                20</td><td style=\"text-align: right;\">                  243</td><td style=\"text-align: right;\">                883</td><td style=\"text-align: right;\">        3.38815   </td><td style=\"text-align: right;\">         0.00131627</td><td style=\"text-align: right;\">          0.625403</td><td>[&#x27;home_ownershi_9e40</td><td style=\"text-align: right;\">     1</td><td style=\"text-align: right;\">        40.5002 </td><td style=\"text-align: right;\">0.364705</td></tr>\n",
       "<tr><td>Trainable_11dd8a93</td><td>TERMINATED</td><td>192.168.0.103:58680</td><td style=\"text-align: right;\">                    0</td><td>gbdt                  </td><td>                     </td><td style=\"text-align: right;\">0.529331</td><td style=\"text-align: right;\">            0.0350046 </td><td style=\"text-align: right;\">              83</td><td style=\"text-align: right;\">                20</td><td style=\"text-align: right;\">                  243</td><td style=\"text-align: right;\">                 16</td><td style=\"text-align: right;\">        7.51296   </td><td style=\"text-align: right;\">         0.0217729 </td><td style=\"text-align: right;\">          0.621893</td><td>[&#x27;home_ownershi_7fc0</td><td style=\"text-align: right;\">     1</td><td style=\"text-align: right;\">        19.1167 </td><td style=\"text-align: right;\">0.342285</td></tr>\n",
       "<tr><td>Trainable_101a57a0</td><td>TERMINATED</td><td>192.168.0.103:58756</td><td style=\"text-align: right;\">                    0</td><td>gbdt                  </td><td>                     </td><td style=\"text-align: right;\">0.491635</td><td style=\"text-align: right;\">            0.0293426 </td><td style=\"text-align: right;\">              80</td><td style=\"text-align: right;\">                20</td><td style=\"text-align: right;\">                  233</td><td style=\"text-align: right;\">                875</td><td style=\"text-align: right;\">        2.92948   </td><td style=\"text-align: right;\">         0.00101706</td><td style=\"text-align: right;\">          0.628714</td><td>[&#x27;home_ownershi_36c0</td><td style=\"text-align: right;\">     1</td><td style=\"text-align: right;\">        54.9455 </td><td style=\"text-align: right;\">0.366476</td></tr>\n",
       "<tr><td>Trainable_dd17a3e5</td><td>TERMINATED</td><td>192.168.0.103:59113</td><td style=\"text-align: right;\">                    7</td><td>gbdt                  </td><td>                     </td><td style=\"text-align: right;\">0.421758</td><td style=\"text-align: right;\">            0.028441  </td><td style=\"text-align: right;\">             110</td><td style=\"text-align: right;\">                20</td><td style=\"text-align: right;\">                  215</td><td style=\"text-align: right;\">                411</td><td style=\"text-align: right;\">        7.52273   </td><td style=\"text-align: right;\">         0.0237587 </td><td style=\"text-align: right;\">          0.623751</td><td>[&#x27;home_ownershi_7a40</td><td style=\"text-align: right;\">     1</td><td style=\"text-align: right;\">        29.4894 </td><td style=\"text-align: right;\">0.363624</td></tr>\n",
       "<tr><td>Trainable_0734cc23</td><td>TERMINATED</td><td>192.168.0.103:59161</td><td style=\"text-align: right;\">                    5</td><td>gbdt                  </td><td>                     </td><td style=\"text-align: right;\">0.487593</td><td style=\"text-align: right;\">            0.0350291 </td><td style=\"text-align: right;\">              75</td><td style=\"text-align: right;\">                20</td><td style=\"text-align: right;\">                  128</td><td style=\"text-align: right;\">                416</td><td style=\"text-align: right;\">        3.40025   </td><td style=\"text-align: right;\">         0.00108073</td><td style=\"text-align: right;\">          0.917941</td><td>[&#x27;home_ownershi_7fc0</td><td style=\"text-align: right;\">     1</td><td style=\"text-align: right;\">        26.4554 </td><td style=\"text-align: right;\">0.373983</td></tr>\n",
       "<tr><td>Trainable_fdc00f02</td><td>TERMINATED</td><td>192.168.0.103:59207</td><td style=\"text-align: right;\">                    5</td><td>gbdt                  </td><td>                     </td><td style=\"text-align: right;\">0.487432</td><td style=\"text-align: right;\">            0.0295308 </td><td style=\"text-align: right;\">             108</td><td style=\"text-align: right;\">                20</td><td style=\"text-align: right;\">                  136</td><td style=\"text-align: right;\">                878</td><td style=\"text-align: right;\">        3.5682    </td><td style=\"text-align: right;\">         0.00118621</td><td style=\"text-align: right;\">          0.93064 </td><td>[&#x27;home_ownershi_1f80</td><td style=\"text-align: right;\">     1</td><td style=\"text-align: right;\">        33.5629 </td><td style=\"text-align: right;\">0.365077</td></tr>\n",
       "<tr><td>Trainable_0876a5aa</td><td>TERMINATED</td><td>192.168.0.103:59255</td><td style=\"text-align: right;\">                    5</td><td>gbdt                  </td><td>                     </td><td style=\"text-align: right;\">0.492465</td><td style=\"text-align: right;\">            0.0293623 </td><td style=\"text-align: right;\">             116</td><td style=\"text-align: right;\">                20</td><td style=\"text-align: right;\">                  215</td><td style=\"text-align: right;\">                872</td><td style=\"text-align: right;\">        3.32941   </td><td style=\"text-align: right;\">         0.0068898 </td><td style=\"text-align: right;\">          0.922833</td><td>[&#x27;home_ownershi_9580</td><td style=\"text-align: right;\">     1</td><td style=\"text-align: right;\">        44.6871 </td><td style=\"text-align: right;\">0.373257</td></tr>\n",
       "<tr><td>Trainable_5aa19d0d</td><td>TERMINATED</td><td>192.168.0.103:59302</td><td style=\"text-align: right;\">                    5</td><td>gbdt                  </td><td>                     </td><td style=\"text-align: right;\">0.489828</td><td style=\"text-align: right;\">            0.0287387 </td><td style=\"text-align: right;\">             110</td><td style=\"text-align: right;\">                17</td><td style=\"text-align: right;\">                  129</td><td style=\"text-align: right;\">               2047</td><td style=\"text-align: right;\">        5.4788    </td><td style=\"text-align: right;\">         0.00117327</td><td style=\"text-align: right;\">          0.911799</td><td>[&#x27;home_ownershi_9e80</td><td style=\"text-align: right;\">     1</td><td style=\"text-align: right;\">        27.6541 </td><td style=\"text-align: right;\">0.37251 </td></tr>\n",
       "<tr><td>Trainable_1ee2d526</td><td>TERMINATED</td><td>192.168.0.103:59382</td><td style=\"text-align: right;\">                    5</td><td>gbdt                  </td><td>                     </td><td style=\"text-align: right;\">0.490381</td><td style=\"text-align: right;\">            0.0270949 </td><td style=\"text-align: right;\">              52</td><td style=\"text-align: right;\">                37</td><td style=\"text-align: right;\">                  131</td><td style=\"text-align: right;\">                428</td><td style=\"text-align: right;\">        6.01946   </td><td style=\"text-align: right;\">         0.00246382</td><td style=\"text-align: right;\">          0.665965</td><td>[&#x27;home_ownershi_3400</td><td style=\"text-align: right;\">     1</td><td style=\"text-align: right;\">        20.8838 </td><td style=\"text-align: right;\">0.371135</td></tr>\n",
       "<tr><td>Trainable_f7d187ee</td><td>TERMINATED</td><td>192.168.0.103:59450</td><td style=\"text-align: right;\">                   10</td><td>gbdt                  </td><td>                     </td><td style=\"text-align: right;\">0.492847</td><td style=\"text-align: right;\">            0.0290911 </td><td style=\"text-align: right;\">              61</td><td style=\"text-align: right;\">                20</td><td style=\"text-align: right;\">                  215</td><td style=\"text-align: right;\">                423</td><td style=\"text-align: right;\">        2.8819    </td><td style=\"text-align: right;\">         0.00108036</td><td style=\"text-align: right;\">          0.922736</td><td>[&#x27;home_ownershi_08c0</td><td style=\"text-align: right;\">     1</td><td style=\"text-align: right;\">        38.6057 </td><td style=\"text-align: right;\">0.371677</td></tr>\n",
       "<tr><td>Trainable_e1f94dfe</td><td>TERMINATED</td><td>192.168.0.103:59497</td><td style=\"text-align: right;\">                   10</td><td>gbdt                  </td><td>                     </td><td style=\"text-align: right;\">0.484031</td><td style=\"text-align: right;\">            0.0374996 </td><td style=\"text-align: right;\">              76</td><td style=\"text-align: right;\">                24</td><td style=\"text-align: right;\">                  128</td><td style=\"text-align: right;\">                889</td><td style=\"text-align: right;\">        2.65193   </td><td style=\"text-align: right;\">         0.00106431</td><td style=\"text-align: right;\">          0.923472</td><td>[&#x27;home_ownershi_a940</td><td style=\"text-align: right;\">     1</td><td style=\"text-align: right;\">        24.1527 </td><td style=\"text-align: right;\">0.367949</td></tr>\n",
       "<tr><td>Trainable_4e9d055a</td><td>TERMINATED</td><td>192.168.0.103:59543</td><td style=\"text-align: right;\">                   10</td><td>gbdt                  </td><td>                     </td><td style=\"text-align: right;\">0.488618</td><td style=\"text-align: right;\">            0.0295035 </td><td style=\"text-align: right;\">              88</td><td style=\"text-align: right;\">                24</td><td style=\"text-align: right;\">                  131</td><td style=\"text-align: right;\">                878</td><td style=\"text-align: right;\">        5.34259   </td><td style=\"text-align: right;\">         0.00106753</td><td style=\"text-align: right;\">          0.924216</td><td>[&#x27;home_ownershi_6140</td><td style=\"text-align: right;\">     1</td><td style=\"text-align: right;\">        22.8682 </td><td style=\"text-align: right;\">0.372822</td></tr>\n",
       "<tr><td>Trainable_af19b8b2</td><td>TERMINATED</td><td>192.168.0.103:59628</td><td style=\"text-align: right;\">                   10</td><td>gbdt                  </td><td>                     </td><td style=\"text-align: right;\">0.492225</td><td style=\"text-align: right;\">            0.0378359 </td><td style=\"text-align: right;\">              75</td><td style=\"text-align: right;\">                24</td><td style=\"text-align: right;\">                  120</td><td style=\"text-align: right;\">                417</td><td style=\"text-align: right;\">        5.49703   </td><td style=\"text-align: right;\">         0.00262917</td><td style=\"text-align: right;\">          0.912753</td><td>[&#x27;home_ownershi_cfc0</td><td style=\"text-align: right;\">     1</td><td style=\"text-align: right;\">        18.0914 </td><td style=\"text-align: right;\">0.374884</td></tr>\n",
       "<tr><td>Trainable_1da8aa25</td><td>TERMINATED</td><td>192.168.0.103:59690</td><td style=\"text-align: right;\">                   10</td><td>gbdt                  </td><td>                     </td><td style=\"text-align: right;\">0.492958</td><td style=\"text-align: right;\">            0.0373515 </td><td style=\"text-align: right;\">             123</td><td style=\"text-align: right;\">                17</td><td style=\"text-align: right;\">                  121</td><td style=\"text-align: right;\">               2021</td><td style=\"text-align: right;\">        4.59272   </td><td style=\"text-align: right;\">         0.00100093</td><td style=\"text-align: right;\">          0.921056</td><td>[&#x27;home_ownershi_51c0</td><td style=\"text-align: right;\">     1</td><td style=\"text-align: right;\">        22.0973 </td><td style=\"text-align: right;\">0.369053</td></tr>\n",
       "<tr><td>Trainable_acebd5d4</td><td>TERMINATED</td><td>192.168.0.103:59732</td><td style=\"text-align: right;\">                   10</td><td>gbdt                  </td><td>                     </td><td style=\"text-align: right;\">0.546635</td><td style=\"text-align: right;\">            0.0293362 </td><td style=\"text-align: right;\">              76</td><td style=\"text-align: right;\">                17</td><td style=\"text-align: right;\">                  120</td><td style=\"text-align: right;\">               2071</td><td style=\"text-align: right;\">        4.87601   </td><td style=\"text-align: right;\">         0.00231039</td><td style=\"text-align: right;\">          0.921505</td><td>[&#x27;home_ownershi_7e00</td><td style=\"text-align: right;\">     1</td><td style=\"text-align: right;\">        20.7818 </td><td style=\"text-align: right;\">0.369293</td></tr>\n",
       "<tr><td>Trainable_44b53f5b</td><td>TERMINATED</td><td>192.168.0.103:59779</td><td style=\"text-align: right;\">                    5</td><td>gbdt                  </td><td>                     </td><td style=\"text-align: right;\">0.545866</td><td style=\"text-align: right;\">            0.0260898 </td><td style=\"text-align: right;\">             116</td><td style=\"text-align: right;\">                17</td><td style=\"text-align: right;\">                  129</td><td style=\"text-align: right;\">               2002</td><td style=\"text-align: right;\">        4.77965   </td><td style=\"text-align: right;\">         0.00686939</td><td style=\"text-align: right;\">          0.928044</td><td>[&#x27;home_ownershi_5f00</td><td style=\"text-align: right;\">     1</td><td style=\"text-align: right;\">        26.3271 </td><td style=\"text-align: right;\">0.368377</td></tr>\n",
       "<tr><td>Trainable_8f9d3e09</td><td>TERMINATED</td><td>192.168.0.103:59825</td><td style=\"text-align: right;\">                    5</td><td>gbdt                  </td><td>                     </td><td style=\"text-align: right;\">0.547067</td><td style=\"text-align: right;\">            0.0385668 </td><td style=\"text-align: right;\">              60</td><td style=\"text-align: right;\">                17</td><td style=\"text-align: right;\">                  121</td><td style=\"text-align: right;\">               1980</td><td style=\"text-align: right;\">        4.9232    </td><td style=\"text-align: right;\">         0.0067871 </td><td style=\"text-align: right;\">          0.920471</td><td>[&#x27;home_ownershi_91c0</td><td style=\"text-align: right;\">     1</td><td style=\"text-align: right;\">        20.2379 </td><td style=\"text-align: right;\">0.375148</td></tr>\n",
       "<tr><td>Trainable_bb34b448</td><td>TERMINATED</td><td>192.168.0.103:59873</td><td style=\"text-align: right;\">                    9</td><td>gbdt                  </td><td>                     </td><td style=\"text-align: right;\">0.434763</td><td style=\"text-align: right;\">            0.0458717 </td><td style=\"text-align: right;\">              90</td><td style=\"text-align: right;\">                23</td><td style=\"text-align: right;\">                  120</td><td style=\"text-align: right;\">                624</td><td style=\"text-align: right;\">        4.78111   </td><td style=\"text-align: right;\">         0.00695091</td><td style=\"text-align: right;\">          0.925692</td><td>[&#x27;home_ownershi_5b00</td><td style=\"text-align: right;\">     1</td><td style=\"text-align: right;\">        17.6301 </td><td style=\"text-align: right;\">0.368292</td></tr>\n",
       "<tr><td>Trainable_7d664ce1</td><td>TERMINATED</td><td>192.168.0.103:59920</td><td style=\"text-align: right;\">                    9</td><td>gbdt                  </td><td>                     </td><td style=\"text-align: right;\">0.435106</td><td style=\"text-align: right;\">            0.0389133 </td><td style=\"text-align: right;\">              92</td><td style=\"text-align: right;\">                24</td><td style=\"text-align: right;\">                  119</td><td style=\"text-align: right;\">               1104</td><td style=\"text-align: right;\">        4.36642   </td><td style=\"text-align: right;\">         0.0026235 </td><td style=\"text-align: right;\">          0.882419</td><td>[&#x27;home_ownershi_4cc0</td><td style=\"text-align: right;\">     1</td><td style=\"text-align: right;\">        17.5942 </td><td style=\"text-align: right;\">0.370769</td></tr>\n",
       "<tr><td>Trainable_e9708d5c</td><td>TERMINATED</td><td>192.168.0.103:59966</td><td style=\"text-align: right;\">                    9</td><td>gbdt                  </td><td>                     </td><td style=\"text-align: right;\">0.547752</td><td style=\"text-align: right;\">            0.0259759 </td><td style=\"text-align: right;\">              72</td><td style=\"text-align: right;\">                23</td><td style=\"text-align: right;\">                  144</td><td style=\"text-align: right;\">               1072</td><td style=\"text-align: right;\">        4.58338   </td><td style=\"text-align: right;\">         0.00684675</td><td style=\"text-align: right;\">          0.886916</td><td>[&#x27;home_ownershi_5ec0</td><td style=\"text-align: right;\">     1</td><td style=\"text-align: right;\">        24.5178 </td><td style=\"text-align: right;\">0.363091</td></tr>\n",
       "<tr><td>Trainable_b02156b1</td><td>TERMINATED</td><td>192.168.0.103:60013</td><td style=\"text-align: right;\">                    9</td><td>gbdt                  </td><td>                     </td><td style=\"text-align: right;\">0.457218</td><td style=\"text-align: right;\">            0.0255675 </td><td style=\"text-align: right;\">              90</td><td style=\"text-align: right;\">                23</td><td style=\"text-align: right;\">                  144</td><td style=\"text-align: right;\">                628</td><td style=\"text-align: right;\">        3.66674   </td><td style=\"text-align: right;\">         0.00734396</td><td style=\"text-align: right;\">          0.947649</td><td>[&#x27;home_ownershi_a100</td><td style=\"text-align: right;\">     1</td><td style=\"text-align: right;\">        24.6174 </td><td style=\"text-align: right;\">0.361675</td></tr>\n",
       "<tr><td>Trainable_40c33fea</td><td>TERMINATED</td><td>192.168.0.103:60058</td><td style=\"text-align: right;\">                    9</td><td>gbdt                  </td><td>                     </td><td style=\"text-align: right;\">0.437439</td><td style=\"text-align: right;\">            0.0251565 </td><td style=\"text-align: right;\">              92</td><td style=\"text-align: right;\">                23</td><td style=\"text-align: right;\">                  111</td><td style=\"text-align: right;\">               1101</td><td style=\"text-align: right;\">        7.6205    </td><td style=\"text-align: right;\">         0.00656266</td><td style=\"text-align: right;\">          0.881237</td><td>[&#x27;home_ownershi_1e80</td><td style=\"text-align: right;\">     1</td><td style=\"text-align: right;\">        14.6054 </td><td style=\"text-align: right;\">0.366198</td></tr>\n",
       "<tr><td>Trainable_01b74b1b</td><td>TERMINATED</td><td>192.168.0.103:60107</td><td style=\"text-align: right;\">                    9</td><td>gbdt                  </td><td>                     </td><td style=\"text-align: right;\">0.459708</td><td style=\"text-align: right;\">            0.03922   </td><td style=\"text-align: right;\">              88</td><td style=\"text-align: right;\">                26</td><td style=\"text-align: right;\">                  146</td><td style=\"text-align: right;\">               2277</td><td style=\"text-align: right;\">        3.58809   </td><td style=\"text-align: right;\">         0.0202229 </td><td style=\"text-align: right;\">          0.874649</td><td>[&#x27;home_ownershi_0200</td><td style=\"text-align: right;\">     1</td><td style=\"text-align: right;\">        24.4922 </td><td style=\"text-align: right;\">0.368026</td></tr>\n",
       "<tr><td>Trainable_810bb424</td><td>TERMINATED</td><td>192.168.0.103:60153</td><td style=\"text-align: right;\">                    5</td><td>gbdt                  </td><td>                     </td><td style=\"text-align: right;\">0.463688</td><td style=\"text-align: right;\">            0.0359079 </td><td style=\"text-align: right;\">              88</td><td style=\"text-align: right;\">                28</td><td style=\"text-align: right;\">                  145</td><td style=\"text-align: right;\">               2271</td><td style=\"text-align: right;\">        2.22236   </td><td style=\"text-align: right;\">         0.0134425 </td><td style=\"text-align: right;\">          0.946815</td><td>[&#x27;home_ownershi_ea80</td><td style=\"text-align: right;\">     1</td><td style=\"text-align: right;\">        30.2919 </td><td style=\"text-align: right;\">0.371444</td></tr>\n",
       "<tr><td>Trainable_280bff24</td><td>TERMINATED</td><td>192.168.0.103:60199</td><td style=\"text-align: right;\">                    5</td><td>gbdt                  </td><td>                     </td><td style=\"text-align: right;\">0.462944</td><td style=\"text-align: right;\">            0.0385321 </td><td style=\"text-align: right;\">              71</td><td style=\"text-align: right;\">                26</td><td style=\"text-align: right;\">                  145</td><td style=\"text-align: right;\">               2225</td><td style=\"text-align: right;\">        8.30231   </td><td style=\"text-align: right;\">         0.0219342 </td><td style=\"text-align: right;\">          0.896932</td><td>[&#x27;home_ownershi_ee80</td><td style=\"text-align: right;\">     1</td><td style=\"text-align: right;\">        18.9575 </td><td style=\"text-align: right;\">0.37247 </td></tr>\n",
       "<tr><td>Trainable_385bd7f0</td><td>TERMINATED</td><td>192.168.0.103:60244</td><td style=\"text-align: right;\">                    5</td><td>gbdt                  </td><td>                     </td><td style=\"text-align: right;\">0.460745</td><td style=\"text-align: right;\">            0.0340438 </td><td style=\"text-align: right;\">              72</td><td style=\"text-align: right;\">                26</td><td style=\"text-align: right;\">                  143</td><td style=\"text-align: right;\">               2481</td><td style=\"text-align: right;\">        8.50202   </td><td style=\"text-align: right;\">         0.0120652 </td><td style=\"text-align: right;\">          0.943225</td><td>[&#x27;home_ownershi_42c0</td><td style=\"text-align: right;\">     1</td><td style=\"text-align: right;\">        20.538  </td><td style=\"text-align: right;\">0.374777</td></tr>\n",
       "<tr><td>Trainable_1c3bf7a2</td><td>TERMINATED</td><td>192.168.0.103:60291</td><td style=\"text-align: right;\">                    1</td><td>gbdt                  </td><td>                     </td><td style=\"text-align: right;\">0.522507</td><td style=\"text-align: right;\">            0.0345981 </td><td style=\"text-align: right;\">             102</td><td style=\"text-align: right;\">                26</td><td style=\"text-align: right;\">                  138</td><td style=\"text-align: right;\">                282</td><td style=\"text-align: right;\">        2.2517    </td><td style=\"text-align: right;\">         0.0221564 </td><td style=\"text-align: right;\">          0.942222</td><td>[&#x27;home_ownershi_3540</td><td style=\"text-align: right;\">     1</td><td style=\"text-align: right;\">        18.4949 </td><td style=\"text-align: right;\">0.36822 </td></tr>\n",
       "<tr><td>Trainable_c05b1303</td><td>TERMINATED</td><td>192.168.0.103:60337</td><td style=\"text-align: right;\">                    1</td><td>gbdt                  </td><td>                     </td><td style=\"text-align: right;\">0.580156</td><td style=\"text-align: right;\">            0.0392055 </td><td style=\"text-align: right;\">              61</td><td style=\"text-align: right;\">                26</td><td style=\"text-align: right;\">                   40</td><td style=\"text-align: right;\">               2467</td><td style=\"text-align: right;\">       11.0137    </td><td style=\"text-align: right;\">         0.0122723 </td><td style=\"text-align: right;\">          0.825374</td><td>[&#x27;fico_range_hi_52c0</td><td style=\"text-align: right;\">     1</td><td style=\"text-align: right;\">         6.49969</td><td style=\"text-align: right;\">0.35621 </td></tr>\n",
       "<tr><td>Trainable_35b2e7fe</td><td>TERMINATED</td><td>192.168.0.103:60382</td><td style=\"text-align: right;\">                    5</td><td>gbdt                  </td><td>                     </td><td style=\"text-align: right;\">0.471696</td><td style=\"text-align: right;\">            0.0358872 </td><td style=\"text-align: right;\">              86</td><td style=\"text-align: right;\">                28</td><td style=\"text-align: right;\">                  102</td><td style=\"text-align: right;\">               1891</td><td style=\"text-align: right;\">        6.37762   </td><td style=\"text-align: right;\">         0.0197133 </td><td style=\"text-align: right;\">          0.841717</td><td>[&#x27;fico_range_hi_64c0</td><td style=\"text-align: right;\">     1</td><td style=\"text-align: right;\">        17.5368 </td><td style=\"text-align: right;\">0.372347</td></tr>\n",
       "<tr><td>Trainable_6be59449</td><td>TERMINATED</td><td>192.168.0.103:60428</td><td style=\"text-align: right;\">                    5</td><td>gbdt                  </td><td>                     </td><td style=\"text-align: right;\">0.519494</td><td style=\"text-align: right;\">            0.034359  </td><td style=\"text-align: right;\">              61</td><td style=\"text-align: right;\">                18</td><td style=\"text-align: right;\">                  138</td><td style=\"text-align: right;\">               2499</td><td style=\"text-align: right;\">        2.35538   </td><td style=\"text-align: right;\">         0.00334044</td><td style=\"text-align: right;\">          0.825747</td><td>[&#x27;fico_range_hi_6d00</td><td style=\"text-align: right;\">     1</td><td style=\"text-align: right;\">        31.8377 </td><td style=\"text-align: right;\">0.369665</td></tr>\n",
       "<tr><td>Trainable_522bdf30</td><td>TERMINATED</td><td>192.168.0.103:60474</td><td style=\"text-align: right;\">                    5</td><td>gbdt                  </td><td>                     </td><td style=\"text-align: right;\">0.524603</td><td style=\"text-align: right;\">            0.0353165 </td><td style=\"text-align: right;\">              99</td><td style=\"text-align: right;\">                18</td><td style=\"text-align: right;\">                  135</td><td style=\"text-align: right;\">               1919</td><td style=\"text-align: right;\">        5.92816   </td><td style=\"text-align: right;\">         0.0191849 </td><td style=\"text-align: right;\">          0.907072</td><td>[&#x27;fico_range_hi_d0c0</td><td style=\"text-align: right;\">     1</td><td style=\"text-align: right;\">        29.9694 </td><td style=\"text-align: right;\">0.375291</td></tr>\n",
       "<tr><td>Trainable_cd2bbd3d</td><td>TERMINATED</td><td>192.168.0.103:60521</td><td style=\"text-align: right;\">                    5</td><td>gbdt                  </td><td>                     </td><td style=\"text-align: right;\">0.526749</td><td style=\"text-align: right;\">            0.0345245 </td><td style=\"text-align: right;\">              99</td><td style=\"text-align: right;\">                18</td><td style=\"text-align: right;\">                  138</td><td style=\"text-align: right;\">               2336</td><td style=\"text-align: right;\">        6.03951   </td><td style=\"text-align: right;\">         0.0117975 </td><td style=\"text-align: right;\">          0.939328</td><td>[&#x27;fico_range_hi_8d40</td><td style=\"text-align: right;\">     1</td><td style=\"text-align: right;\">        29.6586 </td><td style=\"text-align: right;\">0.372031</td></tr>\n",
       "<tr><td>Trainable_572c240e</td><td>TERMINATED</td><td>192.168.0.103:60567</td><td style=\"text-align: right;\">                    5</td><td>gbdt                  </td><td>                     </td><td style=\"text-align: right;\">0.50271 </td><td style=\"text-align: right;\">            0.0454743 </td><td style=\"text-align: right;\">              50</td><td style=\"text-align: right;\">                18</td><td style=\"text-align: right;\">                  137</td><td style=\"text-align: right;\">               2154</td><td style=\"text-align: right;\">        6.44074   </td><td style=\"text-align: right;\">         0.011648  </td><td style=\"text-align: right;\">          0.91149 </td><td>[&#x27;home_ownershi_9300</td><td style=\"text-align: right;\">     1</td><td style=\"text-align: right;\">        22.9803 </td><td style=\"text-align: right;\">0.377074</td></tr>\n",
       "<tr><td>Trainable_53d92b6d</td><td>TERMINATED</td><td>192.168.0.103:60613</td><td style=\"text-align: right;\">                    5</td><td>gbdt                  </td><td>                     </td><td style=\"text-align: right;\">0.506376</td><td style=\"text-align: right;\">            0.0472878 </td><td style=\"text-align: right;\">              76</td><td style=\"text-align: right;\">                18</td><td style=\"text-align: right;\">                  107</td><td style=\"text-align: right;\">               2138</td><td style=\"text-align: right;\">        6.74641   </td><td style=\"text-align: right;\">         0.0118212 </td><td style=\"text-align: right;\">          0.909799</td><td>[&#x27;home_ownershi_a540</td><td style=\"text-align: right;\">     1</td><td style=\"text-align: right;\">        19.5105 </td><td style=\"text-align: right;\">0.369127</td></tr>\n",
       "<tr><td>Trainable_67badde6</td><td>TERMINATED</td><td>192.168.0.103:60659</td><td style=\"text-align: right;\">                   10</td><td>gbdt                  </td><td>                     </td><td style=\"text-align: right;\">0.505907</td><td style=\"text-align: right;\">            0.0465468 </td><td style=\"text-align: right;\">              76</td><td style=\"text-align: right;\">                18</td><td style=\"text-align: right;\">                  187</td><td style=\"text-align: right;\">                849</td><td style=\"text-align: right;\">        9.20187   </td><td style=\"text-align: right;\">         0.0112512 </td><td style=\"text-align: right;\">          0.902392</td><td>[]                  </td><td style=\"text-align: right;\">     1</td><td style=\"text-align: right;\">        33.8619 </td><td style=\"text-align: right;\">0.383887</td></tr>\n",
       "<tr><td>Trainable_071e2927</td><td>TERMINATED</td><td>192.168.0.103:60704</td><td style=\"text-align: right;\">                   10</td><td>gbdt                  </td><td>                     </td><td style=\"text-align: right;\">0.514143</td><td style=\"text-align: right;\">            0.0450481 </td><td style=\"text-align: right;\">              97</td><td style=\"text-align: right;\">                34</td><td style=\"text-align: right;\">                  126</td><td style=\"text-align: right;\">               2123</td><td style=\"text-align: right;\">       11.9798    </td><td style=\"text-align: right;\">         0.0123639 </td><td style=\"text-align: right;\">          0.907742</td><td>[&#x27;fico_range_hi_3bc0</td><td style=\"text-align: right;\">     1</td><td style=\"text-align: right;\">        22.5067 </td><td style=\"text-align: right;\">0.372078</td></tr>\n",
       "<tr><td>Trainable_29e9ec81</td><td>TERMINATED</td><td>192.168.0.103:60754</td><td style=\"text-align: right;\">                   10</td><td>gbdt                  </td><td>                     </td><td style=\"text-align: right;\">0.504218</td><td style=\"text-align: right;\">            0.0451592 </td><td style=\"text-align: right;\">              77</td><td style=\"text-align: right;\">                18</td><td style=\"text-align: right;\">                  136</td><td style=\"text-align: right;\">                828</td><td style=\"text-align: right;\">        8.71016   </td><td style=\"text-align: right;\">         0.0115036 </td><td style=\"text-align: right;\">          0.913196</td><td>[&#x27;fico_range_hi_8f00</td><td style=\"text-align: right;\">     1</td><td style=\"text-align: right;\">        22.1156 </td><td style=\"text-align: right;\">0.372406</td></tr>\n",
       "<tr><td>Trainable_444ef35a</td><td>TERMINATED</td><td>192.168.0.103:60799</td><td style=\"text-align: right;\">                   10</td><td>gbdt                  </td><td>                     </td><td style=\"text-align: right;\">0.507291</td><td style=\"text-align: right;\">            0.0461108 </td><td style=\"text-align: right;\">              49</td><td style=\"text-align: right;\">                18</td><td style=\"text-align: right;\">                  136</td><td style=\"text-align: right;\">                915</td><td style=\"text-align: right;\">        6.52815   </td><td style=\"text-align: right;\">         0.00324779</td><td style=\"text-align: right;\">          0.899632</td><td>[&#x27;fico_range_hi_8200</td><td style=\"text-align: right;\">     1</td><td style=\"text-align: right;\">        21.519  </td><td style=\"text-align: right;\">0.369178</td></tr>\n",
       "<tr><td>Trainable_aeed58d6</td><td>TERMINATED</td><td>192.168.0.103:60847</td><td style=\"text-align: right;\">                    5</td><td>gbdt                  </td><td>                     </td><td style=\"text-align: right;\">0.502398</td><td style=\"text-align: right;\">            0.0452355 </td><td style=\"text-align: right;\">              67</td><td style=\"text-align: right;\">                18</td><td style=\"text-align: right;\">                  124</td><td style=\"text-align: right;\">               2130</td><td style=\"text-align: right;\">       12.8441    </td><td style=\"text-align: right;\">         0.0118994 </td><td style=\"text-align: right;\">          0.906723</td><td>[&#x27;fico_range_hi_c980</td><td style=\"text-align: right;\">     1</td><td style=\"text-align: right;\">        18.1061 </td><td style=\"text-align: right;\">0.3707  </td></tr>\n",
       "<tr><td>Trainable_9ec5dcdb</td><td>TERMINATED</td><td>192.168.0.103:60894</td><td style=\"text-align: right;\">                    5</td><td>gbdt                  </td><td>                     </td><td style=\"text-align: right;\">0.504272</td><td style=\"text-align: right;\">            0.0592668 </td><td style=\"text-align: right;\">              50</td><td style=\"text-align: right;\">                21</td><td style=\"text-align: right;\">                  114</td><td style=\"text-align: right;\">               1956</td><td style=\"text-align: right;\">       12.6474    </td><td style=\"text-align: right;\">         0.00835741</td><td style=\"text-align: right;\">          0.904882</td><td>[&#x27;fico_range_hi_8840</td><td style=\"text-align: right;\">     1</td><td style=\"text-align: right;\">        17.2681 </td><td style=\"text-align: right;\">0.370541</td></tr>\n",
       "<tr><td>Trainable_a7ef65b2</td><td>TERMINATED</td><td>192.168.0.103:60939</td><td style=\"text-align: right;\">                    5</td><td>gbdt                  </td><td>                     </td><td style=\"text-align: right;\">0.504446</td><td style=\"text-align: right;\">            0.0656638 </td><td style=\"text-align: right;\">              67</td><td style=\"text-align: right;\">                21</td><td style=\"text-align: right;\">                  123</td><td style=\"text-align: right;\">               1940</td><td style=\"text-align: right;\">       11.9043    </td><td style=\"text-align: right;\">         0.00898118</td><td style=\"text-align: right;\">          0.899581</td><td>[&#x27;fico_range_hi_96c0</td><td style=\"text-align: right;\">     1</td><td style=\"text-align: right;\">        17.5826 </td><td style=\"text-align: right;\">0.369905</td></tr>\n",
       "<tr><td>Trainable_b47da274</td><td>TERMINATED</td><td>192.168.0.103:60985</td><td style=\"text-align: right;\">                    5</td><td>gbdt                  </td><td>                     </td><td style=\"text-align: right;\">0.624766</td><td style=\"text-align: right;\">            0.045017  </td><td style=\"text-align: right;\">              52</td><td style=\"text-align: right;\">                21</td><td style=\"text-align: right;\">                  123</td><td style=\"text-align: right;\">               1932</td><td style=\"text-align: right;\">        8.04451   </td><td style=\"text-align: right;\">         0.00845791</td><td style=\"text-align: right;\">          0.872669</td><td>[&#x27;fico_range_hi_e0c0</td><td style=\"text-align: right;\">     1</td><td style=\"text-align: right;\">        20.3191 </td><td style=\"text-align: right;\">0.368849</td></tr>\n",
       "<tr><td>Trainable_6afbca5f</td><td>TERMINATED</td><td>192.168.0.103:61032</td><td style=\"text-align: right;\">                    5</td><td>gbdt                  </td><td>                     </td><td style=\"text-align: right;\">0.478478</td><td style=\"text-align: right;\">            0.059395  </td><td style=\"text-align: right;\">             117</td><td style=\"text-align: right;\">                21</td><td style=\"text-align: right;\">                  151</td><td style=\"text-align: right;\">               1974</td><td style=\"text-align: right;\">       11.8342    </td><td style=\"text-align: right;\">         0.00840832</td><td style=\"text-align: right;\">          0.893834</td><td>[]                  </td><td style=\"text-align: right;\">     1</td><td style=\"text-align: right;\">        21.8767 </td><td style=\"text-align: right;\">0.377588</td></tr>\n",
       "<tr><td>Trainable_1969b94c</td><td>TERMINATED</td><td>192.168.0.103:61079</td><td style=\"text-align: right;\">                    5</td><td>gbdt                  </td><td>                     </td><td style=\"text-align: right;\">0.542903</td><td style=\"text-align: right;\">            0.0587532 </td><td style=\"text-align: right;\">              51</td><td style=\"text-align: right;\">                21</td><td style=\"text-align: right;\">                  187</td><td style=\"text-align: right;\">               1903</td><td style=\"text-align: right;\">        8.84792   </td><td style=\"text-align: right;\">         0.00881707</td><td style=\"text-align: right;\">          0.87724 </td><td>[]                  </td><td style=\"text-align: right;\">     1</td><td style=\"text-align: right;\">        29.4642 </td><td style=\"text-align: right;\">0.378364</td></tr>\n",
       "<tr><td>Trainable_d610be5c</td><td>TERMINATED</td><td>192.168.0.103:61126</td><td style=\"text-align: right;\">                    6</td><td>gbdt                  </td><td>                     </td><td style=\"text-align: right;\">0.478668</td><td style=\"text-align: right;\">            0.0675866 </td><td style=\"text-align: right;\">              69</td><td style=\"text-align: right;\">                21</td><td style=\"text-align: right;\">                  186</td><td style=\"text-align: right;\">               1838</td><td style=\"text-align: right;\">        9.45525   </td><td style=\"text-align: right;\">         0.0170703 </td><td style=\"text-align: right;\">          0.869056</td><td>[]                  </td><td style=\"text-align: right;\">     1</td><td style=\"text-align: right;\">        26.78   </td><td style=\"text-align: right;\">0.37974 </td></tr>\n",
       "<tr><td>Trainable_e0241abc</td><td>TERMINATED</td><td>192.168.0.103:61173</td><td style=\"text-align: right;\">                    6</td><td>gbdt                  </td><td>                     </td><td style=\"text-align: right;\">0.477243</td><td style=\"text-align: right;\">            0.0319175 </td><td style=\"text-align: right;\">             116</td><td style=\"text-align: right;\">                19</td><td style=\"text-align: right;\">                  184</td><td style=\"text-align: right;\">               1232</td><td style=\"text-align: right;\">        8.86752   </td><td style=\"text-align: right;\">         0.0054426 </td><td style=\"text-align: right;\">          0.869293</td><td>[]                  </td><td style=\"text-align: right;\">     1</td><td style=\"text-align: right;\">        33.5205 </td><td style=\"text-align: right;\">0.377228</td></tr>\n",
       "<tr><td>Trainable_6df3f740</td><td>TERMINATED</td><td>192.168.0.103:61219</td><td style=\"text-align: right;\">                    6</td><td>gbdt                  </td><td>                     </td><td style=\"text-align: right;\">0.480158</td><td style=\"text-align: right;\">            0.0315671 </td><td style=\"text-align: right;\">              58</td><td style=\"text-align: right;\">                19</td><td style=\"text-align: right;\">                  149</td><td style=\"text-align: right;\">               1734</td><td style=\"text-align: right;\">        8.29759   </td><td style=\"text-align: right;\">         0.0166709 </td><td style=\"text-align: right;\">          0.864521</td><td>[]                  </td><td style=\"text-align: right;\">     1</td><td style=\"text-align: right;\">        24.0489 </td><td style=\"text-align: right;\">0.36757 </td></tr>\n",
       "<tr><td>Trainable_170cc2ff</td><td>TERMINATED</td><td>192.168.0.103:61267</td><td style=\"text-align: right;\">                    3</td><td>gbdt                  </td><td>                     </td><td style=\"text-align: right;\">0.472925</td><td style=\"text-align: right;\">            0.0321564 </td><td style=\"text-align: right;\">              58</td><td style=\"text-align: right;\">                20</td><td style=\"text-align: right;\">                  187</td><td style=\"text-align: right;\">               1736</td><td style=\"text-align: right;\">        3.62643   </td><td style=\"text-align: right;\">         0.015769  </td><td style=\"text-align: right;\">          0.950327</td><td>[]                  </td><td style=\"text-align: right;\">     1</td><td style=\"text-align: right;\">        54.7071 </td><td style=\"text-align: right;\">0.381095</td></tr>\n",
       "<tr><td>Trainable_aae4dd59</td><td>TERMINATED</td><td>192.168.0.103:61312</td><td style=\"text-align: right;\">                    6</td><td>gbdt                  </td><td>                     </td><td style=\"text-align: right;\">0.545472</td><td style=\"text-align: right;\">            0.0315786 </td><td style=\"text-align: right;\">             118</td><td style=\"text-align: right;\">                20</td><td style=\"text-align: right;\">                  153</td><td style=\"text-align: right;\">               2436</td><td style=\"text-align: right;\">        3.74478   </td><td style=\"text-align: right;\">         0.0176269 </td><td style=\"text-align: right;\">          0.862795</td><td>[]                  </td><td style=\"text-align: right;\">     1</td><td style=\"text-align: right;\">        47.9223 </td><td style=\"text-align: right;\">0.379661</td></tr>\n",
       "<tr><td>Trainable_5dd01ab7</td><td>TERMINATED</td><td>192.168.0.103:61358</td><td style=\"text-align: right;\">                    6</td><td>gbdt                  </td><td>                     </td><td style=\"text-align: right;\">0.5449  </td><td style=\"text-align: right;\">            0.0594717 </td><td style=\"text-align: right;\">              71</td><td style=\"text-align: right;\">                22</td><td style=\"text-align: right;\">                  151</td><td style=\"text-align: right;\">               1817</td><td style=\"text-align: right;\">        9.66027   </td><td style=\"text-align: right;\">         0.0166914 </td><td style=\"text-align: right;\">          0.950383</td><td>[]                  </td><td style=\"text-align: right;\">     1</td><td style=\"text-align: right;\">        32.233  </td><td style=\"text-align: right;\">0.376017</td></tr>\n",
       "<tr><td>Trainable_50c7332e</td><td>TERMINATED</td><td>192.168.0.103:61404</td><td style=\"text-align: right;\">                    6</td><td>gbdt                  </td><td>                     </td><td style=\"text-align: right;\">0.54209 </td><td style=\"text-align: right;\">            0.0579718 </td><td style=\"text-align: right;\">              59</td><td style=\"text-align: right;\">                19</td><td style=\"text-align: right;\">                  186</td><td style=\"text-align: right;\">               1831</td><td style=\"text-align: right;\">       10.1039    </td><td style=\"text-align: right;\">         0.0167035 </td><td style=\"text-align: right;\">          0.867344</td><td>[]                  </td><td style=\"text-align: right;\">     1</td><td style=\"text-align: right;\">        33.4171 </td><td style=\"text-align: right;\">0.377052</td></tr>\n",
       "<tr><td>Trainable_bd610e7c</td><td>TERMINATED</td><td>192.168.0.103:61451</td><td style=\"text-align: right;\">                    6</td><td>gbdt                  </td><td>                     </td><td style=\"text-align: right;\">0.58147 </td><td style=\"text-align: right;\">            0.0668761 </td><td style=\"text-align: right;\">              56</td><td style=\"text-align: right;\">                22</td><td style=\"text-align: right;\">                  149</td><td style=\"text-align: right;\">               1831</td><td style=\"text-align: right;\">        8.36518   </td><td style=\"text-align: right;\">         0.0162196 </td><td style=\"text-align: right;\">          0.871859</td><td>[]                  </td><td style=\"text-align: right;\">     1</td><td style=\"text-align: right;\">        34.9132 </td><td style=\"text-align: right;\">0.378049</td></tr>\n",
       "<tr><td>Trainable_3fd22330</td><td>TERMINATED</td><td>192.168.0.103:61497</td><td style=\"text-align: right;\">                    6</td><td>gbdt                  </td><td>                     </td><td style=\"text-align: right;\">0.544908</td><td style=\"text-align: right;\">            0.0653686 </td><td style=\"text-align: right;\">              60</td><td style=\"text-align: right;\">                22</td><td style=\"text-align: right;\">                  181</td><td style=\"text-align: right;\">               1878</td><td style=\"text-align: right;\">        8.85325   </td><td style=\"text-align: right;\">         0.0164904 </td><td style=\"text-align: right;\">          0.861327</td><td>[]                  </td><td style=\"text-align: right;\">     1</td><td style=\"text-align: right;\">        40.2432 </td><td style=\"text-align: right;\">0.378774</td></tr>\n",
       "<tr><td>Trainable_1e534329</td><td>TERMINATED</td><td>192.168.0.103:61543</td><td style=\"text-align: right;\">                    6</td><td>gbdt                  </td><td>                     </td><td style=\"text-align: right;\">0.575736</td><td style=\"text-align: right;\">            0.0742149 </td><td style=\"text-align: right;\">              59</td><td style=\"text-align: right;\">                22</td><td style=\"text-align: right;\">                  186</td><td style=\"text-align: right;\">               1813</td><td style=\"text-align: right;\">        9.84307   </td><td style=\"text-align: right;\">         0.00578636</td><td style=\"text-align: right;\">          0.793545</td><td>[]                  </td><td style=\"text-align: right;\">     1</td><td style=\"text-align: right;\">        35.5359 </td><td style=\"text-align: right;\">0.374217</td></tr>\n",
       "<tr><td>Trainable_0f8c8b20</td><td>TERMINATED</td><td>192.168.0.103:61589</td><td style=\"text-align: right;\">                    6</td><td>gbdt                  </td><td>                     </td><td style=\"text-align: right;\">0.544448</td><td style=\"text-align: right;\">            0.0630415 </td><td style=\"text-align: right;\">             125</td><td style=\"text-align: right;\">                22</td><td style=\"text-align: right;\">                  184</td><td style=\"text-align: right;\">               1826</td><td style=\"text-align: right;\">       10.6244    </td><td style=\"text-align: right;\">         0.00522313</td><td style=\"text-align: right;\">          0.8869  </td><td>[]                  </td><td style=\"text-align: right;\">     1</td><td style=\"text-align: right;\">        35.1155 </td><td style=\"text-align: right;\">0.379551</td></tr>\n",
       "<tr><td>Trainable_42195b6d</td><td>TERMINATED</td><td>192.168.0.103:61634</td><td style=\"text-align: right;\">                    6</td><td>gbdt                  </td><td>                     </td><td style=\"text-align: right;\">0.580587</td><td style=\"text-align: right;\">            0.063305  </td><td style=\"text-align: right;\">             120</td><td style=\"text-align: right;\">                22</td><td style=\"text-align: right;\">                  186</td><td style=\"text-align: right;\">               1828</td><td style=\"text-align: right;\">        9.94181   </td><td style=\"text-align: right;\">         0.00594447</td><td style=\"text-align: right;\">          0.884958</td><td>[]                  </td><td style=\"text-align: right;\">     1</td><td style=\"text-align: right;\">        39.9161 </td><td style=\"text-align: right;\">0.379071</td></tr>\n",
       "<tr><td>Trainable_5304805f</td><td>TERMINATED</td><td>192.168.0.103:61679</td><td style=\"text-align: right;\">                    6</td><td>gbdt                  </td><td>                     </td><td style=\"text-align: right;\">0.581482</td><td style=\"text-align: right;\">            0.0639552 </td><td style=\"text-align: right;\">             125</td><td style=\"text-align: right;\">                22</td><td style=\"text-align: right;\">                  185</td><td style=\"text-align: right;\">               1824</td><td style=\"text-align: right;\">       10.58      </td><td style=\"text-align: right;\">         0.00574679</td><td style=\"text-align: right;\">          0.879735</td><td>[]                  </td><td style=\"text-align: right;\">     1</td><td style=\"text-align: right;\">        37.2787 </td><td style=\"text-align: right;\">0.371097</td></tr>\n",
       "<tr><td>Trainable_17142b15</td><td>TERMINATED</td><td>192.168.0.103:61728</td><td style=\"text-align: right;\">                    6</td><td>gbdt                  </td><td>                     </td><td style=\"text-align: right;\">0.542044</td><td style=\"text-align: right;\">            0.0749297 </td><td style=\"text-align: right;\">              63</td><td style=\"text-align: right;\">                22</td><td style=\"text-align: right;\">                  182</td><td style=\"text-align: right;\">               1872</td><td style=\"text-align: right;\">       10.1782    </td><td style=\"text-align: right;\">         0.0161669 </td><td style=\"text-align: right;\">          0.892438</td><td>[]                  </td><td style=\"text-align: right;\">     1</td><td style=\"text-align: right;\">        32.8071 </td><td style=\"text-align: right;\">0.381896</td></tr>\n",
       "<tr><td>Trainable_aeb5f392</td><td>TERMINATED</td><td>192.168.0.103:61775</td><td style=\"text-align: right;\">                    6</td><td>gbdt                  </td><td>                     </td><td style=\"text-align: right;\">0.547367</td><td style=\"text-align: right;\">            0.0749904 </td><td style=\"text-align: right;\">              60</td><td style=\"text-align: right;\">                22</td><td style=\"text-align: right;\">                  185</td><td style=\"text-align: right;\">               1633</td><td style=\"text-align: right;\">        9.6618    </td><td style=\"text-align: right;\">         0.0174016 </td><td style=\"text-align: right;\">          0.880422</td><td>[]                  </td><td style=\"text-align: right;\">     1</td><td style=\"text-align: right;\">        31.0011 </td><td style=\"text-align: right;\">0.379025</td></tr>\n",
       "<tr><td>Trainable_b162d71f</td><td>TERMINATED</td><td>192.168.0.103:61824</td><td style=\"text-align: right;\">                    6</td><td>gbdt                  </td><td>                     </td><td style=\"text-align: right;\">0.540066</td><td style=\"text-align: right;\">            0.0727062 </td><td style=\"text-align: right;\">             121</td><td style=\"text-align: right;\">                22</td><td style=\"text-align: right;\">                  183</td><td style=\"text-align: right;\">               1843</td><td style=\"text-align: right;\">       10.4626    </td><td style=\"text-align: right;\">         0.0185902 </td><td style=\"text-align: right;\">          0.860843</td><td>[]                  </td><td style=\"text-align: right;\">     1</td><td style=\"text-align: right;\">        30.7658 </td><td style=\"text-align: right;\">0.373696</td></tr>\n",
       "<tr><td>Trainable_3ccfb648</td><td>TERMINATED</td><td>192.168.0.103:61868</td><td style=\"text-align: right;\">                    3</td><td>gbdt                  </td><td>                     </td><td style=\"text-align: right;\">0.579279</td><td style=\"text-align: right;\">            0.0737105 </td><td style=\"text-align: right;\">             123</td><td style=\"text-align: right;\">                22</td><td style=\"text-align: right;\">                  183</td><td style=\"text-align: right;\">               1835</td><td style=\"text-align: right;\">        9.9635    </td><td style=\"text-align: right;\">         0.0169409 </td><td style=\"text-align: right;\">          0.861186</td><td>[]                  </td><td style=\"text-align: right;\">     1</td><td style=\"text-align: right;\">        31.3722 </td><td style=\"text-align: right;\">0.370442</td></tr>\n",
       "<tr><td>Trainable_c6a156e8</td><td>TERMINATED</td><td>192.168.0.103:61917</td><td style=\"text-align: right;\">                    6</td><td>gbdt                  </td><td>                     </td><td style=\"text-align: right;\">0.577589</td><td style=\"text-align: right;\">            0.0598466 </td><td style=\"text-align: right;\">             120</td><td style=\"text-align: right;\">                22</td><td style=\"text-align: right;\">                  169</td><td style=\"text-align: right;\">               1797</td><td style=\"text-align: right;\">       10.3385    </td><td style=\"text-align: right;\">         0.016774  </td><td style=\"text-align: right;\">          0.853597</td><td>[]                  </td><td style=\"text-align: right;\">     1</td><td style=\"text-align: right;\">        28.7985 </td><td style=\"text-align: right;\">0.377707</td></tr>\n",
       "<tr><td>Trainable_f57fd040</td><td>TERMINATED</td><td>192.168.0.103:61963</td><td style=\"text-align: right;\">                    6</td><td>gbdt                  </td><td>                     </td><td style=\"text-align: right;\">0.549024</td><td style=\"text-align: right;\">            0.0729313 </td><td style=\"text-align: right;\">             125</td><td style=\"text-align: right;\">                22</td><td style=\"text-align: right;\">                  181</td><td style=\"text-align: right;\">               1807</td><td style=\"text-align: right;\">       14.2168    </td><td style=\"text-align: right;\">         0.0154045 </td><td style=\"text-align: right;\">          0.860132</td><td>[]                  </td><td style=\"text-align: right;\">     1</td><td style=\"text-align: right;\">        29.1631 </td><td style=\"text-align: right;\">0.378582</td></tr>\n",
       "<tr><td>Trainable_968e9723</td><td>TERMINATED</td><td>192.168.0.103:62010</td><td style=\"text-align: right;\">                    6</td><td>gbdt                  </td><td>                     </td><td style=\"text-align: right;\">0.582866</td><td style=\"text-align: right;\">            0.0696468 </td><td style=\"text-align: right;\">             125</td><td style=\"text-align: right;\">                22</td><td style=\"text-align: right;\">                  181</td><td style=\"text-align: right;\">               1812</td><td style=\"text-align: right;\">       14.6193    </td><td style=\"text-align: right;\">         0.0168795 </td><td style=\"text-align: right;\">          0.858857</td><td>[]                  </td><td style=\"text-align: right;\">     1</td><td style=\"text-align: right;\">        26.5237 </td><td style=\"text-align: right;\">0.370207</td></tr>\n",
       "<tr><td>Trainable_1c8a1d72</td><td>TERMINATED</td><td>192.168.0.103:62057</td><td style=\"text-align: right;\">                    6</td><td>gbdt                  </td><td>                     </td><td style=\"text-align: right;\">0.547701</td><td style=\"text-align: right;\">            0.0579799 </td><td style=\"text-align: right;\">             115</td><td style=\"text-align: right;\">                22</td><td style=\"text-align: right;\">                  179</td><td style=\"text-align: right;\">               1757</td><td style=\"text-align: right;\">       14.3765    </td><td style=\"text-align: right;\">         0.0176593 </td><td style=\"text-align: right;\">          0.854631</td><td>[]                  </td><td style=\"text-align: right;\">     1</td><td style=\"text-align: right;\">        27.9494 </td><td style=\"text-align: right;\">0.378014</td></tr>\n",
       "<tr><td>Trainable_9fc6c1bb</td><td>TERMINATED</td><td>192.168.0.103:62104</td><td style=\"text-align: right;\">                    6</td><td>gbdt                  </td><td>                     </td><td style=\"text-align: right;\">0.581791</td><td style=\"text-align: right;\">            0.0741122 </td><td style=\"text-align: right;\">             117</td><td style=\"text-align: right;\">                21</td><td style=\"text-align: right;\">                  170</td><td style=\"text-align: right;\">               1750</td><td style=\"text-align: right;\">       13.0112    </td><td style=\"text-align: right;\">         0.0278138 </td><td style=\"text-align: right;\">          0.85846 </td><td>[]                  </td><td style=\"text-align: right;\">     1</td><td style=\"text-align: right;\">        29.4626 </td><td style=\"text-align: right;\">0.378376</td></tr>\n",
       "<tr><td>Trainable_0621ce08</td><td>TERMINATED</td><td>192.168.0.103:62150</td><td style=\"text-align: right;\">                    3</td><td>gbdt                  </td><td>                     </td><td style=\"text-align: right;\">0.583371</td><td style=\"text-align: right;\">            0.0897733 </td><td style=\"text-align: right;\">             117</td><td style=\"text-align: right;\">                21</td><td style=\"text-align: right;\">                  178</td><td style=\"text-align: right;\">               1585</td><td style=\"text-align: right;\">       14.577     </td><td style=\"text-align: right;\">         0.0274183 </td><td style=\"text-align: right;\">          0.847682</td><td>[]                  </td><td style=\"text-align: right;\">     1</td><td style=\"text-align: right;\">        24.2586 </td><td style=\"text-align: right;\">0.378679</td></tr>\n",
       "<tr><td>Trainable_19b77108</td><td>TERMINATED</td><td>192.168.0.103:62195</td><td style=\"text-align: right;\">                    3</td><td>gbdt                  </td><td>                     </td><td style=\"text-align: right;\">0.574986</td><td style=\"text-align: right;\">            0.077283  </td><td style=\"text-align: right;\">             115</td><td style=\"text-align: right;\">                21</td><td style=\"text-align: right;\">                  169</td><td style=\"text-align: right;\">               1591</td><td style=\"text-align: right;\">       15.9777    </td><td style=\"text-align: right;\">         0.027361  </td><td style=\"text-align: right;\">          0.846091</td><td>[]                  </td><td style=\"text-align: right;\">     1</td><td style=\"text-align: right;\">        26.918  </td><td style=\"text-align: right;\">0.367004</td></tr>\n",
       "<tr><td>Trainable_a976c2dc</td><td>TERMINATED</td><td>192.168.0.103:62243</td><td style=\"text-align: right;\">                    7</td><td>gbdt                  </td><td>                     </td><td style=\"text-align: right;\">0.621713</td><td style=\"text-align: right;\">            0.0931623 </td><td style=\"text-align: right;\">             119</td><td style=\"text-align: right;\">                21</td><td style=\"text-align: right;\">                  170</td><td style=\"text-align: right;\">               1603</td><td style=\"text-align: right;\">       14.6648    </td><td style=\"text-align: right;\">         0.0292419 </td><td style=\"text-align: right;\">          0.846262</td><td>[]                  </td><td style=\"text-align: right;\">     1</td><td style=\"text-align: right;\">        24.0395 </td><td style=\"text-align: right;\">0.36835 </td></tr>\n",
       "<tr><td>Trainable_a0fe93f4</td><td>TERMINATED</td><td>192.168.0.103:62290</td><td style=\"text-align: right;\">                    6</td><td>gbdt                  </td><td>                     </td><td style=\"text-align: right;\">0.551957</td><td style=\"text-align: right;\">            0.0896095 </td><td style=\"text-align: right;\">             117</td><td style=\"text-align: right;\">                21</td><td style=\"text-align: right;\">                  176</td><td style=\"text-align: right;\">               1590</td><td style=\"text-align: right;\">       14.8109    </td><td style=\"text-align: right;\">         0.0135668 </td><td style=\"text-align: right;\">          0.850685</td><td>[]                  </td><td style=\"text-align: right;\">     1</td><td style=\"text-align: right;\">        23.13   </td><td style=\"text-align: right;\">0.384512</td></tr>\n",
       "<tr><td>Trainable_a7b22fac</td><td>TERMINATED</td><td>192.168.0.103:62343</td><td style=\"text-align: right;\">                    7</td><td>gbdt                  </td><td>                     </td><td style=\"text-align: right;\">0.594108</td><td style=\"text-align: right;\">            0.0802757 </td><td style=\"text-align: right;\">             114</td><td style=\"text-align: right;\">                21</td><td style=\"text-align: right;\">                  171</td><td style=\"text-align: right;\">               1592</td><td style=\"text-align: right;\">       13.93      </td><td style=\"text-align: right;\">         0.0281857 </td><td style=\"text-align: right;\">          0.838598</td><td>[]                  </td><td style=\"text-align: right;\">     1</td><td style=\"text-align: right;\">        25.2009 </td><td style=\"text-align: right;\">0.379167</td></tr>\n",
       "<tr><td>Trainable_20a90f1d</td><td>TERMINATED</td><td>192.168.0.103:62390</td><td style=\"text-align: right;\">                    7</td><td>gbdt                  </td><td>                     </td><td style=\"text-align: right;\">0.622985</td><td style=\"text-align: right;\">            0.0822959 </td><td style=\"text-align: right;\">             117</td><td style=\"text-align: right;\">                21</td><td style=\"text-align: right;\">                  168</td><td style=\"text-align: right;\">               1574</td><td style=\"text-align: right;\">       16.5301    </td><td style=\"text-align: right;\">         0.0294372 </td><td style=\"text-align: right;\">          0.835235</td><td>[]                  </td><td style=\"text-align: right;\">     1</td><td style=\"text-align: right;\">        23.4946 </td><td style=\"text-align: right;\">0.364513</td></tr>\n",
       "<tr><td>Trainable_0a4bb00c</td><td>TERMINATED</td><td>192.168.0.103:62439</td><td style=\"text-align: right;\">                    3</td><td>gbdt                  </td><td>                     </td><td style=\"text-align: right;\">0.616928</td><td style=\"text-align: right;\">            0.0832852 </td><td style=\"text-align: right;\">             118</td><td style=\"text-align: right;\">                21</td><td style=\"text-align: right;\">                  170</td><td style=\"text-align: right;\">               1619</td><td style=\"text-align: right;\">       15.4571    </td><td style=\"text-align: right;\">         0.029034  </td><td style=\"text-align: right;\">          0.840861</td><td>[]                  </td><td style=\"text-align: right;\">     1</td><td style=\"text-align: right;\">        23.564  </td><td style=\"text-align: right;\">0.37647 </td></tr>\n",
       "<tr><td>Trainable_c1da4aaf</td><td>TERMINATED</td><td>192.168.0.103:62482</td><td style=\"text-align: right;\">                    2</td><td>gbdt                  </td><td>                     </td><td style=\"text-align: right;\">0.600347</td><td style=\"text-align: right;\">            0.0871974 </td><td style=\"text-align: right;\">             117</td><td style=\"text-align: right;\">                21</td><td style=\"text-align: right;\">                  169</td><td style=\"text-align: right;\">               1628</td><td style=\"text-align: right;\">       14.6199    </td><td style=\"text-align: right;\">         0.0241159 </td><td style=\"text-align: right;\">          0.836183</td><td>[]                  </td><td style=\"text-align: right;\">     1</td><td style=\"text-align: right;\">        22.7846 </td><td style=\"text-align: right;\">0.379095</td></tr>\n",
       "<tr><td>Trainable_6e60dbe6</td><td>TERMINATED</td><td>192.168.0.103:62530</td><td style=\"text-align: right;\">                    2</td><td>gbdt                  </td><td>                     </td><td style=\"text-align: right;\">0.61148 </td><td style=\"text-align: right;\">            0.0833319 </td><td style=\"text-align: right;\">             105</td><td style=\"text-align: right;\">                23</td><td style=\"text-align: right;\">                  176</td><td style=\"text-align: right;\">               1751</td><td style=\"text-align: right;\">       12.9759    </td><td style=\"text-align: right;\">         0.0143406 </td><td style=\"text-align: right;\">          0.82681 </td><td>[]                  </td><td style=\"text-align: right;\">     1</td><td style=\"text-align: right;\">        24.6113 </td><td style=\"text-align: right;\">0.377087</td></tr>\n",
       "<tr><td>Trainable_405b346b</td><td>TERMINATED</td><td>192.168.0.103:62576</td><td style=\"text-align: right;\">                    6</td><td>gbdt                  </td><td>                     </td><td style=\"text-align: right;\">0.599745</td><td style=\"text-align: right;\">            0.0842104 </td><td style=\"text-align: right;\">             133</td><td style=\"text-align: right;\">                23</td><td style=\"text-align: right;\">                  173</td><td style=\"text-align: right;\">               1752</td><td style=\"text-align: right;\">       18.1838    </td><td style=\"text-align: right;\">         0.0387952 </td><td style=\"text-align: right;\">          0.83543 </td><td>[]                  </td><td style=\"text-align: right;\">     1</td><td style=\"text-align: right;\">        23.4784 </td><td style=\"text-align: right;\">0.365403</td></tr>\n",
       "<tr><td>Trainable_688a8ea6</td><td>TERMINATED</td><td>192.168.0.103:62621</td><td style=\"text-align: right;\">                    6</td><td>gbdt                  </td><td>                     </td><td style=\"text-align: right;\">0.604224</td><td style=\"text-align: right;\">            0.0818813 </td><td style=\"text-align: right;\">             136</td><td style=\"text-align: right;\">                23</td><td style=\"text-align: right;\">                  176</td><td style=\"text-align: right;\">               1748</td><td style=\"text-align: right;\">       18.9362    </td><td style=\"text-align: right;\">         0.0143559 </td><td style=\"text-align: right;\">          0.831548</td><td>[]                  </td><td style=\"text-align: right;\">     1</td><td style=\"text-align: right;\">        22.8727 </td><td style=\"text-align: right;\">0.36829 </td></tr>\n",
       "<tr><td>Trainable_710630f4</td><td>TERMINATED</td><td>192.168.0.103:62667</td><td style=\"text-align: right;\">                    7</td><td>gbdt                  </td><td>                     </td><td style=\"text-align: right;\">0.611463</td><td style=\"text-align: right;\">            0.0819616 </td><td style=\"text-align: right;\">             131</td><td style=\"text-align: right;\">                23</td><td style=\"text-align: right;\">                  176</td><td style=\"text-align: right;\">               1746</td><td style=\"text-align: right;\">       18.8555    </td><td style=\"text-align: right;\">         0.0479273 </td><td style=\"text-align: right;\">          0.818653</td><td>[]                  </td><td style=\"text-align: right;\">     1</td><td style=\"text-align: right;\">        23.5355 </td><td style=\"text-align: right;\">0.371789</td></tr>\n",
       "<tr><td>Trainable_8af30c06</td><td>TERMINATED</td><td>192.168.0.103:62713</td><td style=\"text-align: right;\">                    3</td><td>gbdt                  </td><td>                     </td><td style=\"text-align: right;\">0.605012</td><td style=\"text-align: right;\">            0.0863095 </td><td style=\"text-align: right;\">             105</td><td style=\"text-align: right;\">                23</td><td style=\"text-align: right;\">                  177</td><td style=\"text-align: right;\">               1668</td><td style=\"text-align: right;\">       21.2797    </td><td style=\"text-align: right;\">         0.0549719 </td><td style=\"text-align: right;\">          0.807957</td><td>[]                  </td><td style=\"text-align: right;\">     1</td><td style=\"text-align: right;\">        21.0577 </td><td style=\"text-align: right;\">0.367933</td></tr>\n",
       "<tr><td>Trainable_1f494b4a</td><td>TERMINATED</td><td>192.168.0.103:62759</td><td style=\"text-align: right;\">                    2</td><td>gbdt                  </td><td>                     </td><td style=\"text-align: right;\">0.599314</td><td style=\"text-align: right;\">            0.0895056 </td><td style=\"text-align: right;\">             106</td><td style=\"text-align: right;\">                24</td><td style=\"text-align: right;\">                  177</td><td style=\"text-align: right;\">               1731</td><td style=\"text-align: right;\">       19.1695    </td><td style=\"text-align: right;\">         0.0488963 </td><td style=\"text-align: right;\">          0.81886 </td><td>[]                  </td><td style=\"text-align: right;\">     1</td><td style=\"text-align: right;\">        22.1706 </td><td style=\"text-align: right;\">0.3661  </td></tr>\n",
       "<tr><td>Trainable_11ba9900</td><td>TERMINATED</td><td>192.168.0.103:62805</td><td style=\"text-align: right;\">                    2</td><td>gbdt                  </td><td>                     </td><td style=\"text-align: right;\">0.603766</td><td style=\"text-align: right;\">            0.089511  </td><td style=\"text-align: right;\">             106</td><td style=\"text-align: right;\">                23</td><td style=\"text-align: right;\">                  178</td><td style=\"text-align: right;\">               1693</td><td style=\"text-align: right;\">       22.0209    </td><td style=\"text-align: right;\">         0.062534  </td><td style=\"text-align: right;\">          0.824906</td><td>[]                  </td><td style=\"text-align: right;\">     1</td><td style=\"text-align: right;\">        21.5306 </td><td style=\"text-align: right;\">0.365619</td></tr>\n",
       "<tr><td>Trainable_c259bb22</td><td>TERMINATED</td><td>192.168.0.103:62851</td><td style=\"text-align: right;\">                    2</td><td>gbdt                  </td><td>                     </td><td style=\"text-align: right;\">0.59684 </td><td style=\"text-align: right;\">            0.0988502 </td><td style=\"text-align: right;\">             138</td><td style=\"text-align: right;\">                23</td><td style=\"text-align: right;\">                  189</td><td style=\"text-align: right;\">               1500</td><td style=\"text-align: right;\">       21.4079    </td><td style=\"text-align: right;\">         0.0395313 </td><td style=\"text-align: right;\">          0.817877</td><td>[]                  </td><td style=\"text-align: right;\">     1</td><td style=\"text-align: right;\">        22.6099 </td><td style=\"text-align: right;\">0.377902</td></tr>\n",
       "<tr><td>Trainable_390700da</td><td>TERMINATED</td><td>192.168.0.103:62898</td><td style=\"text-align: right;\">                    7</td><td>gbdt                  </td><td>                     </td><td style=\"text-align: right;\">0.593898</td><td style=\"text-align: right;\">            0.0982958 </td><td style=\"text-align: right;\">             110</td><td style=\"text-align: right;\">                20</td><td style=\"text-align: right;\">                  190</td><td style=\"text-align: right;\">               1473</td><td style=\"text-align: right;\">       26.6921    </td><td style=\"text-align: right;\">         0.0473289 </td><td style=\"text-align: right;\">          0.804513</td><td>[]                  </td><td style=\"text-align: right;\">     1</td><td style=\"text-align: right;\">        19.983  </td><td style=\"text-align: right;\">0.371047</td></tr>\n",
       "<tr><td>Trainable_9f81a9b0</td><td>TERMINATED</td><td>192.168.0.103:62943</td><td style=\"text-align: right;\">                    7</td><td>gbdt                  </td><td>                     </td><td style=\"text-align: right;\">0.561593</td><td style=\"text-align: right;\">            0.0998368 </td><td style=\"text-align: right;\">             112</td><td style=\"text-align: right;\">                20</td><td style=\"text-align: right;\">                  190</td><td style=\"text-align: right;\">               1511</td><td style=\"text-align: right;\">       22.6102    </td><td style=\"text-align: right;\">         0.0464749 </td><td style=\"text-align: right;\">          0.808821</td><td>[]                  </td><td style=\"text-align: right;\">     1</td><td style=\"text-align: right;\">        20.0648 </td><td style=\"text-align: right;\">0.370579</td></tr>\n",
       "<tr><td>Trainable_1f3ee102</td><td>TERMINATED</td><td>192.168.0.103:62991</td><td style=\"text-align: right;\">                    1</td><td>gbdt                  </td><td>                     </td><td style=\"text-align: right;\">0.558491</td><td style=\"text-align: right;\">            0.0974144 </td><td style=\"text-align: right;\">             111</td><td style=\"text-align: right;\">                20</td><td style=\"text-align: right;\">                  191</td><td style=\"text-align: right;\">               1512</td><td style=\"text-align: right;\">       27.4939    </td><td style=\"text-align: right;\">         0.0393374 </td><td style=\"text-align: right;\">          0.883143</td><td>[]                  </td><td style=\"text-align: right;\">     1</td><td style=\"text-align: right;\">        18.4847 </td><td style=\"text-align: right;\">0.372402</td></tr>\n",
       "<tr><td>Trainable_8af045ec</td><td>TERMINATED</td><td>192.168.0.103:63038</td><td style=\"text-align: right;\">                    1</td><td>gbdt                  </td><td>                     </td><td style=\"text-align: right;\">0.565523</td><td style=\"text-align: right;\">            0.0955145 </td><td style=\"text-align: right;\">             110</td><td style=\"text-align: right;\">                20</td><td style=\"text-align: right;\">                  191</td><td style=\"text-align: right;\">               1506</td><td style=\"text-align: right;\">       28.1175    </td><td style=\"text-align: right;\">         0.0220143 </td><td style=\"text-align: right;\">          0.880872</td><td>[]                  </td><td style=\"text-align: right;\">     1</td><td style=\"text-align: right;\">        18.1243 </td><td style=\"text-align: right;\">0.369459</td></tr>\n",
       "<tr><td>Trainable_645be1ec</td><td>TERMINATED</td><td>192.168.0.103:63084</td><td style=\"text-align: right;\">                    6</td><td>gbdt                  </td><td>                     </td><td style=\"text-align: right;\">0.5569  </td><td style=\"text-align: right;\">            0.068125  </td><td style=\"text-align: right;\">             128</td><td style=\"text-align: right;\">                21</td><td style=\"text-align: right;\">                  193</td><td style=\"text-align: right;\">               1537</td><td style=\"text-align: right;\">       12.8889    </td><td style=\"text-align: right;\">         0.0257131 </td><td style=\"text-align: right;\">          0.884942</td><td>[]                  </td><td style=\"text-align: right;\">     1</td><td style=\"text-align: right;\">        27.884  </td><td style=\"text-align: right;\">0.378004</td></tr>\n",
       "<tr><td>Trainable_452e5837</td><td>TERMINATED</td><td>192.168.0.103:63129</td><td style=\"text-align: right;\">                    6</td><td>gbdt                  </td><td>                     </td><td style=\"text-align: right;\">0.553001</td><td style=\"text-align: right;\">            0.0990054 </td><td style=\"text-align: right;\">             111</td><td style=\"text-align: right;\">                21</td><td style=\"text-align: right;\">                  188</td><td style=\"text-align: right;\">               1516</td><td style=\"text-align: right;\">       13.023     </td><td style=\"text-align: right;\">         0.0358091 </td><td style=\"text-align: right;\">          0.881876</td><td>[]                  </td><td style=\"text-align: right;\">     1</td><td style=\"text-align: right;\">        28.1355 </td><td style=\"text-align: right;\">0.373689</td></tr>\n",
       "<tr><td>Trainable_86e73056</td><td>TERMINATED</td><td>192.168.0.103:63176</td><td style=\"text-align: right;\">                    1</td><td>gbdt                  </td><td>                     </td><td style=\"text-align: right;\">0.552221</td><td style=\"text-align: right;\">            0.0674378 </td><td style=\"text-align: right;\">             129</td><td style=\"text-align: right;\">                21</td><td style=\"text-align: right;\">                  194</td><td style=\"text-align: right;\">               1885</td><td style=\"text-align: right;\">       13.9453    </td><td style=\"text-align: right;\">         0.0246951 </td><td style=\"text-align: right;\">          0.882457</td><td>[]                  </td><td style=\"text-align: right;\">     1</td><td style=\"text-align: right;\">        24.4931 </td><td style=\"text-align: right;\">0.373517</td></tr>\n",
       "<tr><td>Trainable_4b378f78</td><td>TERMINATED</td><td>192.168.0.103:63222</td><td style=\"text-align: right;\">                    1</td><td>gbdt                  </td><td>                     </td><td style=\"text-align: right;\">0.554373</td><td style=\"text-align: right;\">            0.067626  </td><td style=\"text-align: right;\">             129</td><td style=\"text-align: right;\">                21</td><td style=\"text-align: right;\">                  195</td><td style=\"text-align: right;\">               1643</td><td style=\"text-align: right;\">       13.072     </td><td style=\"text-align: right;\">         0.0235309 </td><td style=\"text-align: right;\">          0.884846</td><td>[]                  </td><td style=\"text-align: right;\">     1</td><td style=\"text-align: right;\">        25.3523 </td><td style=\"text-align: right;\">0.382634</td></tr>\n",
       "<tr><td>Trainable_1458b055</td><td>TERMINATED</td><td>192.168.0.103:63268</td><td style=\"text-align: right;\">                    6</td><td>gbdt                  </td><td>                     </td><td style=\"text-align: right;\">0.637718</td><td style=\"text-align: right;\">            0.0660485 </td><td style=\"text-align: right;\">             128</td><td style=\"text-align: right;\">                21</td><td style=\"text-align: right;\">                  181</td><td style=\"text-align: right;\">               1884</td><td style=\"text-align: right;\">       14.2038    </td><td style=\"text-align: right;\">         0.0232575 </td><td style=\"text-align: right;\">          0.884518</td><td>[]                  </td><td style=\"text-align: right;\">     1</td><td style=\"text-align: right;\">        31.024  </td><td style=\"text-align: right;\">0.372332</td></tr>\n",
       "<tr><td>Trainable_33d331a5</td><td>TERMINATED</td><td>192.168.0.103:63314</td><td style=\"text-align: right;\">                    6</td><td>gbdt                  </td><td>                     </td><td style=\"text-align: right;\">0.551969</td><td style=\"text-align: right;\">            0.0678968 </td><td style=\"text-align: right;\">              64</td><td style=\"text-align: right;\">                22</td><td style=\"text-align: right;\">                  194</td><td style=\"text-align: right;\">               1883</td><td style=\"text-align: right;\">       13.7857    </td><td style=\"text-align: right;\">         0.024518  </td><td style=\"text-align: right;\">          0.85312 </td><td>[]                  </td><td style=\"text-align: right;\">     1</td><td style=\"text-align: right;\">        27.034  </td><td style=\"text-align: right;\">0.376849</td></tr>\n",
       "<tr><td>Trainable_51632319</td><td>TERMINATED</td><td>192.168.0.103:63359</td><td style=\"text-align: right;\">                    6</td><td>gbdt                  </td><td>                     </td><td style=\"text-align: right;\">0.642136</td><td style=\"text-align: right;\">            0.0672656 </td><td style=\"text-align: right;\">             128</td><td style=\"text-align: right;\">                22</td><td style=\"text-align: right;\">                  180</td><td style=\"text-align: right;\">               1650</td><td style=\"text-align: right;\">       15.0444    </td><td style=\"text-align: right;\">         0.0244556 </td><td style=\"text-align: right;\">          0.850679</td><td>[]                  </td><td style=\"text-align: right;\">     1</td><td style=\"text-align: right;\">        28.3751 </td><td style=\"text-align: right;\">0.37793 </td></tr>\n",
       "<tr><td>Trainable_2a9abaf8</td><td>TERMINATED</td><td>192.168.0.103:63404</td><td style=\"text-align: right;\">                    6</td><td>gbdt                  </td><td>                     </td><td style=\"text-align: right;\">0.553215</td><td style=\"text-align: right;\">            0.0675834 </td><td style=\"text-align: right;\">             128</td><td style=\"text-align: right;\">                22</td><td style=\"text-align: right;\">                  195</td><td style=\"text-align: right;\">               1649</td><td style=\"text-align: right;\">       13.0367    </td><td style=\"text-align: right;\">         0.0239678 </td><td style=\"text-align: right;\">          0.848375</td><td>[]                  </td><td style=\"text-align: right;\">     1</td><td style=\"text-align: right;\">        29.1213 </td><td style=\"text-align: right;\">0.376242</td></tr>\n",
       "<tr><td>Trainable_f65619bb</td><td>TERMINATED</td><td>192.168.0.103:63450</td><td style=\"text-align: right;\">                    6</td><td>gbdt                  </td><td>                     </td><td style=\"text-align: right;\">0.550281</td><td style=\"text-align: right;\">            0.0688403 </td><td style=\"text-align: right;\">             127</td><td style=\"text-align: right;\">                22</td><td style=\"text-align: right;\">                  180</td><td style=\"text-align: right;\">               1652</td><td style=\"text-align: right;\">       13.4094    </td><td style=\"text-align: right;\">         0.025399  </td><td style=\"text-align: right;\">          0.84781 </td><td>[]                  </td><td style=\"text-align: right;\">     1</td><td style=\"text-align: right;\">        27.7479 </td><td style=\"text-align: right;\">0.382126</td></tr>\n",
       "<tr><td>Trainable_c73c603a</td><td>TERMINATED</td><td>192.168.0.103:63497</td><td style=\"text-align: right;\">                    6</td><td>gbdt                  </td><td>                     </td><td style=\"text-align: right;\">0.577698</td><td style=\"text-align: right;\">            0.0680995 </td><td style=\"text-align: right;\">             127</td><td style=\"text-align: right;\">                22</td><td style=\"text-align: right;\">                  180</td><td style=\"text-align: right;\">               1641</td><td style=\"text-align: right;\">        7.54615   </td><td style=\"text-align: right;\">         0.023954  </td><td style=\"text-align: right;\">          0.853433</td><td>[]                  </td><td style=\"text-align: right;\">     1</td><td style=\"text-align: right;\">        31.4868 </td><td style=\"text-align: right;\">0.381525</td></tr>\n",
       "<tr><td>Trainable_fc8d6bcd</td><td>TERMINATED</td><td>192.168.0.103:63543</td><td style=\"text-align: right;\">                    6</td><td>gbdt                  </td><td>                     </td><td style=\"text-align: right;\">0.578703</td><td style=\"text-align: right;\">            0.0753833 </td><td style=\"text-align: right;\">              63</td><td style=\"text-align: right;\">                22</td><td style=\"text-align: right;\">                  180</td><td style=\"text-align: right;\">               1637</td><td style=\"text-align: right;\">        8.27952   </td><td style=\"text-align: right;\">         0.0135279 </td><td style=\"text-align: right;\">          0.852295</td><td>[]                  </td><td style=\"text-align: right;\">     1</td><td style=\"text-align: right;\">        29.0156 </td><td style=\"text-align: right;\">0.371361</td></tr>\n",
       "<tr><td>Trainable_5bca6d1c</td><td>TERMINATED</td><td>192.168.0.103:63590</td><td style=\"text-align: right;\">                    6</td><td>gbdt                  </td><td>                     </td><td style=\"text-align: right;\">0.581183</td><td style=\"text-align: right;\">            0.0726779 </td><td style=\"text-align: right;\">              64</td><td style=\"text-align: right;\">                22</td><td style=\"text-align: right;\">                  173</td><td style=\"text-align: right;\">               1643</td><td style=\"text-align: right;\">        8.53871   </td><td style=\"text-align: right;\">         0.0143466 </td><td style=\"text-align: right;\">          0.85091 </td><td>[]                  </td><td style=\"text-align: right;\">     1</td><td style=\"text-align: right;\">        26.5009 </td><td style=\"text-align: right;\">0.376425</td></tr>\n",
       "<tr><td>Trainable_860c86db</td><td>TERMINATED</td><td>192.168.0.103:63638</td><td style=\"text-align: right;\">                    6</td><td>gbdt                  </td><td>                     </td><td style=\"text-align: right;\">0.580686</td><td style=\"text-align: right;\">            0.0763603 </td><td style=\"text-align: right;\">             124</td><td style=\"text-align: right;\">                22</td><td style=\"text-align: right;\">                  180</td><td style=\"text-align: right;\">               1628</td><td style=\"text-align: right;\">        6.97399   </td><td style=\"text-align: right;\">         0.0149467 </td><td style=\"text-align: right;\">          0.853876</td><td>[]                  </td><td style=\"text-align: right;\">     1</td><td style=\"text-align: right;\">        32.0533 </td><td style=\"text-align: right;\">0.377318</td></tr>\n",
       "<tr><td>Trainable_6f60e9c8</td><td>TERMINATED</td><td>192.168.0.103:63684</td><td style=\"text-align: right;\">                    6</td><td>gbdt                  </td><td>                     </td><td style=\"text-align: right;\">0.574694</td><td style=\"text-align: right;\">            0.075516  </td><td style=\"text-align: right;\">             122</td><td style=\"text-align: right;\">                22</td><td style=\"text-align: right;\">                  173</td><td style=\"text-align: right;\">               1645</td><td style=\"text-align: right;\">        7.23491   </td><td style=\"text-align: right;\">         0.0146123 </td><td style=\"text-align: right;\">          0.864722</td><td>[&#x27;home_ownershi_f640</td><td style=\"text-align: right;\">     1</td><td style=\"text-align: right;\">        23.9944 </td><td style=\"text-align: right;\">0.366138</td></tr>\n",
       "<tr><td>Trainable_180384c0</td><td>TERMINATED</td><td>192.168.0.103:63730</td><td style=\"text-align: right;\">                    6</td><td>gbdt                  </td><td>                     </td><td style=\"text-align: right;\">0.581046</td><td style=\"text-align: right;\">            0.0761113 </td><td style=\"text-align: right;\">             122</td><td style=\"text-align: right;\">                22</td><td style=\"text-align: right;\">                  185</td><td style=\"text-align: right;\">               1707</td><td style=\"text-align: right;\">        7.60727   </td><td style=\"text-align: right;\">         0.0152904 </td><td style=\"text-align: right;\">          0.867428</td><td>[&#x27;home_ownershi_4280</td><td style=\"text-align: right;\">     1</td><td style=\"text-align: right;\">        24.2431 </td><td style=\"text-align: right;\">0.374289</td></tr>\n",
       "<tr><td>Trainable_c785f0b6</td><td>TERMINATED</td><td>192.168.0.103:63776</td><td style=\"text-align: right;\">                    6</td><td>gbdt                  </td><td>                     </td><td style=\"text-align: right;\">0.530677</td><td style=\"text-align: right;\">            0.0750778 </td><td style=\"text-align: right;\">             124</td><td style=\"text-align: right;\">                20</td><td style=\"text-align: right;\">                  186</td><td style=\"text-align: right;\">               1695</td><td style=\"text-align: right;\">        7.62395   </td><td style=\"text-align: right;\">         0.0102453 </td><td style=\"text-align: right;\">          0.86325 </td><td>[&#x27;home_ownershi_ea40</td><td style=\"text-align: right;\">     1</td><td style=\"text-align: right;\">        22.4388 </td><td style=\"text-align: right;\">0.369907</td></tr>\n",
       "<tr><td>Trainable_a0b82064</td><td>TERMINATED</td><td>192.168.0.103:63822</td><td style=\"text-align: right;\">                    6</td><td>gbdt                  </td><td>                     </td><td style=\"text-align: right;\">0.581415</td><td style=\"text-align: right;\">            0.0761358 </td><td style=\"text-align: right;\">             121</td><td style=\"text-align: right;\">                20</td><td style=\"text-align: right;\">                  174</td><td style=\"text-align: right;\">               1443</td><td style=\"text-align: right;\">        7.55773   </td><td style=\"text-align: right;\">         0.0140437 </td><td style=\"text-align: right;\">          0.870784</td><td>[]                  </td><td style=\"text-align: right;\">     1</td><td style=\"text-align: right;\">        29.106  </td><td style=\"text-align: right;\">0.371821</td></tr>\n",
       "<tr><td>Trainable_60838868</td><td>TERMINATED</td><td>192.168.0.103:63870</td><td style=\"text-align: right;\">                    6</td><td>gbdt                  </td><td>                     </td><td style=\"text-align: right;\">0.532283</td><td style=\"text-align: right;\">            0.0761519 </td><td style=\"text-align: right;\">             124</td><td style=\"text-align: right;\">                21</td><td style=\"text-align: right;\">                  172</td><td style=\"text-align: right;\">               1701</td><td style=\"text-align: right;\">        8.04087   </td><td style=\"text-align: right;\">         0.0144835 </td><td style=\"text-align: right;\">          0.869489</td><td>[&#x27;home_ownershi_2e00</td><td style=\"text-align: right;\">     1</td><td style=\"text-align: right;\">        20.7044 </td><td style=\"text-align: right;\">0.371458</td></tr>\n",
       "<tr><td>Trainable_b191268c</td><td>TERMINATED</td><td>192.168.0.103:63917</td><td style=\"text-align: right;\">                    6</td><td>gbdt                  </td><td>                     </td><td style=\"text-align: right;\">0.527383</td><td style=\"text-align: right;\">            0.0765089 </td><td style=\"text-align: right;\">             124</td><td style=\"text-align: right;\">                21</td><td style=\"text-align: right;\">                  184</td><td style=\"text-align: right;\">               1710</td><td style=\"text-align: right;\">        7.2698    </td><td style=\"text-align: right;\">         0.0313651 </td><td style=\"text-align: right;\">          0.78479 </td><td>[&#x27;home_ownershi_d780</td><td style=\"text-align: right;\">     1</td><td style=\"text-align: right;\">        20.9737 </td><td style=\"text-align: right;\">0.360763</td></tr>\n",
       "<tr><td>Trainable_c56f0802</td><td>TERMINATED</td><td>192.168.0.103:63963</td><td style=\"text-align: right;\">                    6</td><td>gbdt                  </td><td>                     </td><td style=\"text-align: right;\">0.529979</td><td style=\"text-align: right;\">            0.0630351 </td><td style=\"text-align: right;\">             121</td><td style=\"text-align: right;\">                21</td><td style=\"text-align: right;\">                  185</td><td style=\"text-align: right;\">               1702</td><td style=\"text-align: right;\">       10.7942    </td><td style=\"text-align: right;\">         0.0108385 </td><td style=\"text-align: right;\">          0.8679  </td><td>[]                  </td><td style=\"text-align: right;\">     1</td><td style=\"text-align: right;\">        29.4246 </td><td style=\"text-align: right;\">0.378272</td></tr>\n",
       "<tr><td>Trainable_ecbbd288</td><td>TERMINATED</td><td>192.168.0.103:64010</td><td style=\"text-align: right;\">                    6</td><td>gbdt                  </td><td>                     </td><td style=\"text-align: right;\">0.528873</td><td style=\"text-align: right;\">            0.0634148 </td><td style=\"text-align: right;\">              55</td><td style=\"text-align: right;\">                21</td><td style=\"text-align: right;\">                  185</td><td style=\"text-align: right;\">               1570</td><td style=\"text-align: right;\">       11.18      </td><td style=\"text-align: right;\">         0.0103266 </td><td style=\"text-align: right;\">          0.779614</td><td>[]                  </td><td style=\"text-align: right;\">     1</td><td style=\"text-align: right;\">        25.8434 </td><td style=\"text-align: right;\">0.377916</td></tr>\n",
       "<tr><td>Trainable_87c83fb3</td><td>TERMINATED</td><td>192.168.0.103:64056</td><td style=\"text-align: right;\">                    7</td><td>gbdt                  </td><td>                     </td><td style=\"text-align: right;\">0.522968</td><td style=\"text-align: right;\">            0.0633097 </td><td style=\"text-align: right;\">             142</td><td style=\"text-align: right;\">                21</td><td style=\"text-align: right;\">                  165</td><td style=\"text-align: right;\">               1444</td><td style=\"text-align: right;\">       10.7686    </td><td style=\"text-align: right;\">         0.0323221 </td><td style=\"text-align: right;\">          0.891763</td><td>[]                  </td><td style=\"text-align: right;\">     1</td><td style=\"text-align: right;\">        27.1792 </td><td style=\"text-align: right;\">0.374943</td></tr>\n",
       "<tr><td>Trainable_c9e4998e</td><td>TERMINATED</td><td>192.168.0.103:64106</td><td style=\"text-align: right;\">                    7</td><td>gbdt                  </td><td>                     </td><td style=\"text-align: right;\">0.533708</td><td style=\"text-align: right;\">            0.0653602 </td><td style=\"text-align: right;\">              55</td><td style=\"text-align: right;\">                21</td><td style=\"text-align: right;\">                  166</td><td style=\"text-align: right;\">               1796</td><td style=\"text-align: right;\">       11.0763    </td><td style=\"text-align: right;\">         0.0201035 </td><td style=\"text-align: right;\">          0.832193</td><td>[]                  </td><td style=\"text-align: right;\">     1</td><td style=\"text-align: right;\">        23.3846 </td><td style=\"text-align: right;\">0.377474</td></tr>\n",
       "<tr><td>Trainable_e7125fe0</td><td>TERMINATED</td><td>192.168.0.103:64153</td><td style=\"text-align: right;\">                    3</td><td>gbdt                  </td><td>                     </td><td style=\"text-align: right;\">0.52483 </td><td style=\"text-align: right;\">            0.0534344 </td><td style=\"text-align: right;\">             132</td><td style=\"text-align: right;\">                21</td><td style=\"text-align: right;\">                  186</td><td style=\"text-align: right;\">               1566</td><td style=\"text-align: right;\">       10.3793    </td><td style=\"text-align: right;\">         0.0311366 </td><td style=\"text-align: right;\">          0.787181</td><td>[]                  </td><td style=\"text-align: right;\">     1</td><td style=\"text-align: right;\">        29.1347 </td><td style=\"text-align: right;\">0.376687</td></tr>\n",
       "<tr><td>Trainable_e536750d</td><td>TERMINATED</td><td>192.168.0.103:64200</td><td style=\"text-align: right;\">                    7</td><td>rf                    </td><td>                     </td><td style=\"text-align: right;\">0.534805</td><td style=\"text-align: right;\">            0.0614488 </td><td style=\"text-align: right;\">             114</td><td style=\"text-align: right;\">                21</td><td style=\"text-align: right;\">                  165</td><td style=\"text-align: right;\">               1576</td><td style=\"text-align: right;\">       10.7727    </td><td style=\"text-align: right;\">         0.0183459 </td><td style=\"text-align: right;\">          0.892684</td><td>[]                  </td><td style=\"text-align: right;\">     1</td><td style=\"text-align: right;\">        37.4226 </td><td style=\"text-align: right;\">0.332333</td></tr>\n",
       "<tr><td>Trainable_77250236</td><td>TERMINATED</td><td>192.168.0.103:64245</td><td style=\"text-align: right;\">                    7</td><td>rf                    </td><td>                     </td><td style=\"text-align: right;\">0.54134 </td><td style=\"text-align: right;\">            0.0635337 </td><td style=\"text-align: right;\">              55</td><td style=\"text-align: right;\">                21</td><td style=\"text-align: right;\">                  186</td><td style=\"text-align: right;\">               1572</td><td style=\"text-align: right;\">       10.2395    </td><td style=\"text-align: right;\">         0.0212443 </td><td style=\"text-align: right;\">          0.891623</td><td>[]                  </td><td style=\"text-align: right;\">     1</td><td style=\"text-align: right;\">        37.8119 </td><td style=\"text-align: right;\">0.335824</td></tr>\n",
       "<tr><td>Trainable_82e4891c</td><td>TERMINATED</td><td>192.168.0.103:64290</td><td style=\"text-align: right;\">                    7</td><td>rf                    </td><td>                     </td><td style=\"text-align: right;\">0.541243</td><td style=\"text-align: right;\">            0.0628141 </td><td style=\"text-align: right;\">             134</td><td style=\"text-align: right;\">                21</td><td style=\"text-align: right;\">                  167</td><td style=\"text-align: right;\">               1578</td><td style=\"text-align: right;\">       10.6614    </td><td style=\"text-align: right;\">         0.0206849 </td><td style=\"text-align: right;\">          0.898062</td><td>[]                  </td><td style=\"text-align: right;\">     1</td><td style=\"text-align: right;\">        37.9072 </td><td style=\"text-align: right;\">0.335176</td></tr>\n",
       "<tr><td>Trainable_e748dd55</td><td>TERMINATED</td><td>192.168.0.103:64337</td><td style=\"text-align: right;\">                    7</td><td>gbdt                  </td><td>                     </td><td style=\"text-align: right;\">0.539443</td><td style=\"text-align: right;\">            0.0545581 </td><td style=\"text-align: right;\">             114</td><td style=\"text-align: right;\">                20</td><td style=\"text-align: right;\">                  166</td><td style=\"text-align: right;\">               1784</td><td style=\"text-align: right;\">       10.9541    </td><td style=\"text-align: right;\">         0.0195741 </td><td style=\"text-align: right;\">          0.893818</td><td>[]                  </td><td style=\"text-align: right;\">     1</td><td style=\"text-align: right;\">        30.1281 </td><td style=\"text-align: right;\">0.378502</td></tr>\n",
       "<tr><td>Trainable_380fa93e</td><td>TERMINATED</td><td>192.168.0.103:64384</td><td style=\"text-align: right;\">                    6</td><td>gbdt                  </td><td>                     </td><td style=\"text-align: right;\">0.566956</td><td style=\"text-align: right;\">            0.0544179 </td><td style=\"text-align: right;\">             134</td><td style=\"text-align: right;\">                19</td><td style=\"text-align: right;\">                  159</td><td style=\"text-align: right;\">               1568</td><td style=\"text-align: right;\">       10.0911    </td><td style=\"text-align: right;\">         0.0185276 </td><td style=\"text-align: right;\">          0.835854</td><td>[]                  </td><td style=\"text-align: right;\">     1</td><td style=\"text-align: right;\">        31.4979 </td><td style=\"text-align: right;\">0.375522</td></tr>\n",
       "<tr><td>Trainable_fe3d66cd</td><td>TERMINATED</td><td>192.168.0.103:64429</td><td style=\"text-align: right;\">                    6</td><td>rf                    </td><td>                     </td><td style=\"text-align: right;\">0.545892</td><td style=\"text-align: right;\">            0.0589333 </td><td style=\"text-align: right;\">             114</td><td style=\"text-align: right;\">                 9</td><td style=\"text-align: right;\">                  197</td><td style=\"text-align: right;\">               1572</td><td style=\"text-align: right;\">       10.112     </td><td style=\"text-align: right;\">         0.0199502 </td><td style=\"text-align: right;\">          0.893043</td><td>[]                  </td><td style=\"text-align: right;\">     1</td><td style=\"text-align: right;\">        33.0118 </td><td style=\"text-align: right;\">0.327737</td></tr>\n",
       "<tr><td>Trainable_597d4d5e</td><td>TERMINATED</td><td>192.168.0.103:64474</td><td style=\"text-align: right;\">                    3</td><td>rf                    </td><td>                     </td><td style=\"text-align: right;\">0.565523</td><td style=\"text-align: right;\">            0.0543359 </td><td style=\"text-align: right;\">             117</td><td style=\"text-align: right;\">                19</td><td style=\"text-align: right;\">                  197</td><td style=\"text-align: right;\">               1779</td><td style=\"text-align: right;\">        9.76234   </td><td style=\"text-align: right;\">         0.0195506 </td><td style=\"text-align: right;\">          0.891477</td><td>[]                  </td><td style=\"text-align: right;\">     1</td><td style=\"text-align: right;\">        50.0933 </td><td style=\"text-align: right;\">0.334491</td></tr>\n",
       "<tr><td>Trainable_8141676b</td><td>TERMINATED</td><td>192.168.0.103:64520</td><td style=\"text-align: right;\">                    6</td><td>gbdt                  </td><td>                     </td><td style=\"text-align: right;\">0.566621</td><td style=\"text-align: right;\">            0.0547446 </td><td style=\"text-align: right;\">             118</td><td style=\"text-align: right;\">                19</td><td style=\"text-align: right;\">                  197</td><td style=\"text-align: right;\">               1796</td><td style=\"text-align: right;\">       17.3923    </td><td style=\"text-align: right;\">         0.0195701 </td><td style=\"text-align: right;\">          0.837868</td><td>[]                  </td><td style=\"text-align: right;\">     1</td><td style=\"text-align: right;\">        31.5152 </td><td style=\"text-align: right;\">0.375217</td></tr>\n",
       "<tr><td>Trainable_f43b2d99</td><td>TERMINATED</td><td>192.168.0.103:64569</td><td style=\"text-align: right;\">                    6</td><td>rf                    </td><td>                     </td><td style=\"text-align: right;\">0.545663</td><td style=\"text-align: right;\">            0.0552701 </td><td style=\"text-align: right;\">             117</td><td style=\"text-align: right;\">                19</td><td style=\"text-align: right;\">                  157</td><td style=\"text-align: right;\">               1771</td><td style=\"text-align: right;\">        9.68912   </td><td style=\"text-align: right;\">         0.0182649 </td><td style=\"text-align: right;\">          0.894491</td><td>[]                  </td><td style=\"text-align: right;\">     1</td><td style=\"text-align: right;\">        36.337  </td><td style=\"text-align: right;\">0.334614</td></tr>\n",
       "<tr><td>Trainable_30db63ce</td><td>TERMINATED</td><td>192.168.0.103:64614</td><td style=\"text-align: right;\">                    6</td><td>gbdt                  </td><td>                     </td><td style=\"text-align: right;\">0.561346</td><td style=\"text-align: right;\">            0.0551972 </td><td style=\"text-align: right;\">             119</td><td style=\"text-align: right;\">                24</td><td style=\"text-align: right;\">                  158</td><td style=\"text-align: right;\">               1865</td><td style=\"text-align: right;\">       18.0059    </td><td style=\"text-align: right;\">         0.0200858 </td><td style=\"text-align: right;\">          0.837748</td><td>[]                  </td><td style=\"text-align: right;\">     1</td><td style=\"text-align: right;\">        25.5259 </td><td style=\"text-align: right;\">0.375782</td></tr>\n",
       "<tr><td>Trainable_79018bc7</td><td>TERMINATED</td><td>192.168.0.103:64658</td><td style=\"text-align: right;\">                    2</td><td>gbdt                  </td><td>                     </td><td style=\"text-align: right;\">0.563014</td><td style=\"text-align: right;\">            0.0547144 </td><td style=\"text-align: right;\">             118</td><td style=\"text-align: right;\">                19</td><td style=\"text-align: right;\">                  180</td><td style=\"text-align: right;\">               1770</td><td style=\"text-align: right;\">        5.81963   </td><td style=\"text-align: right;\">         0.0102956 </td><td style=\"text-align: right;\">          0.83842 </td><td>[]                  </td><td style=\"text-align: right;\">     1</td><td style=\"text-align: right;\">        47.4749 </td><td style=\"text-align: right;\">0.371375</td></tr>\n",
       "<tr><td>Trainable_09456616</td><td>TERMINATED</td><td>192.168.0.103:64704</td><td style=\"text-align: right;\">                    2</td><td>gbdt                  </td><td>                     </td><td style=\"text-align: right;\">0.559987</td><td style=\"text-align: right;\">            0.054128  </td><td style=\"text-align: right;\">             118</td><td style=\"text-align: right;\">                19</td><td style=\"text-align: right;\">                  197</td><td style=\"text-align: right;\">               1789</td><td style=\"text-align: right;\">       18.3998    </td><td style=\"text-align: right;\">         0.0102466 </td><td style=\"text-align: right;\">          0.837097</td><td>[]                  </td><td style=\"text-align: right;\">     1</td><td style=\"text-align: right;\">        33.3303 </td><td style=\"text-align: right;\">0.372394</td></tr>\n",
       "<tr><td>Trainable_840d6705</td><td>TERMINATED</td><td>192.168.0.103:64751</td><td style=\"text-align: right;\">                    2</td><td>gbdt                  </td><td>                     </td><td style=\"text-align: right;\">0.557212</td><td style=\"text-align: right;\">            0.0550487 </td><td style=\"text-align: right;\">             120</td><td style=\"text-align: right;\">                20</td><td style=\"text-align: right;\">                  197</td><td style=\"text-align: right;\">               1766</td><td style=\"text-align: right;\">       17.4271    </td><td style=\"text-align: right;\">         0.0101634 </td><td style=\"text-align: right;\">          0.83888 </td><td>[]                  </td><td style=\"text-align: right;\">     1</td><td style=\"text-align: right;\">        35.3009 </td><td style=\"text-align: right;\">0.37572 </td></tr>\n",
       "<tr><td>Trainable_9585c32c</td><td>TERMINATED</td><td>192.168.0.103:64797</td><td style=\"text-align: right;\">                    2</td><td>gbdt                  </td><td>                     </td><td style=\"text-align: right;\">0.560854</td><td style=\"text-align: right;\">            0.0559353 </td><td style=\"text-align: right;\">             119</td><td style=\"text-align: right;\">                20</td><td style=\"text-align: right;\">                  180</td><td style=\"text-align: right;\">               1792</td><td style=\"text-align: right;\">       19.095     </td><td style=\"text-align: right;\">         0.0104625 </td><td style=\"text-align: right;\">          0.739658</td><td>[&#x27;home_ownershi_5d00</td><td style=\"text-align: right;\">     1</td><td style=\"text-align: right;\">        24.1775 </td><td style=\"text-align: right;\">0.364018</td></tr>\n",
       "<tr><td>Trainable_3c6d4c65</td><td>TERMINATED</td><td>192.168.0.103:64842</td><td style=\"text-align: right;\">                    0</td><td>gbdt                  </td><td>                     </td><td style=\"text-align: right;\">0.567129</td><td style=\"text-align: right;\">            0.0850079 </td><td style=\"text-align: right;\">             116</td><td style=\"text-align: right;\">                20</td><td style=\"text-align: right;\">                  181</td><td style=\"text-align: right;\">               1777</td><td style=\"text-align: right;\">       17.8069    </td><td style=\"text-align: right;\">         0.00938925</td><td style=\"text-align: right;\">          0.761453</td><td>[]                  </td><td style=\"text-align: right;\">     1</td><td style=\"text-align: right;\">        25.0739 </td><td style=\"text-align: right;\">0.375407</td></tr>\n",
       "<tr><td>Trainable_e28ceb41</td><td>TERMINATED</td><td>192.168.0.103:64892</td><td style=\"text-align: right;\">                    0</td><td>gbdt                  </td><td>                     </td><td style=\"text-align: right;\">0.591957</td><td style=\"text-align: right;\">            0.0705794 </td><td style=\"text-align: right;\">             119</td><td style=\"text-align: right;\">                20</td><td style=\"text-align: right;\">                  180</td><td style=\"text-align: right;\">               1769</td><td style=\"text-align: right;\">        5.82223   </td><td style=\"text-align: right;\">         0.0111775 </td><td style=\"text-align: right;\">          0.760091</td><td>[]                  </td><td style=\"text-align: right;\">     1</td><td style=\"text-align: right;\">        38.1104 </td><td style=\"text-align: right;\">0.368029</td></tr>\n",
       "<tr><td>Trainable_a076f9ec</td><td>TERMINATED</td><td>192.168.0.103:64935</td><td style=\"text-align: right;\">                    6</td><td>gbdt                  </td><td>                     </td><td style=\"text-align: right;\">0.554715</td><td style=\"text-align: right;\">            0.0891595 </td><td style=\"text-align: right;\">              48</td><td style=\"text-align: right;\">                20</td><td style=\"text-align: right;\">                  180</td><td style=\"text-align: right;\">               1788</td><td style=\"text-align: right;\">        5.85987   </td><td style=\"text-align: right;\">         0.010069  </td><td style=\"text-align: right;\">          0.875221</td><td>[]                  </td><td style=\"text-align: right;\">     1</td><td style=\"text-align: right;\">        35.5433 </td><td style=\"text-align: right;\">0.376083</td></tr>\n",
       "<tr><td>Trainable_5e5e828c</td><td>TERMINATED</td><td>192.168.0.103:64982</td><td style=\"text-align: right;\">                    2</td><td>gbdt                  </td><td>                     </td><td style=\"text-align: right;\">0.591539</td><td style=\"text-align: right;\">            0.0875098 </td><td style=\"text-align: right;\">              50</td><td style=\"text-align: right;\">                20</td><td style=\"text-align: right;\">                  179</td><td style=\"text-align: right;\">               1690</td><td style=\"text-align: right;\">        5.92434   </td><td style=\"text-align: right;\">         0.00943009</td><td style=\"text-align: right;\">          0.871227</td><td>[&#x27;home_ownershi_9980</td><td style=\"text-align: right;\">     1</td><td style=\"text-align: right;\">        30.6676 </td><td style=\"text-align: right;\">0.365314</td></tr>\n",
       "<tr><td>Trainable_def606a5</td><td>TERMINATED</td><td>192.168.0.103:65029</td><td style=\"text-align: right;\">                    6</td><td>gbdt                  </td><td>                     </td><td style=\"text-align: right;\">0.585284</td><td style=\"text-align: right;\">            0.0885703 </td><td style=\"text-align: right;\">              69</td><td style=\"text-align: right;\">                20</td><td style=\"text-align: right;\">                  182</td><td style=\"text-align: right;\">               1933</td><td style=\"text-align: right;\">        6.14037   </td><td style=\"text-align: right;\">         0.010366  </td><td style=\"text-align: right;\">          0.875036</td><td>[]                  </td><td style=\"text-align: right;\">     1</td><td style=\"text-align: right;\">        34.4859 </td><td style=\"text-align: right;\">0.371009</td></tr>\n",
       "<tr><td>Trainable_57f55f2d</td><td>TERMINATED</td><td>192.168.0.103:65080</td><td style=\"text-align: right;\">                    6</td><td>gbdt                  </td><td>                     </td><td style=\"text-align: right;\">0.596922</td><td style=\"text-align: right;\">            0.0856873 </td><td style=\"text-align: right;\">              68</td><td style=\"text-align: right;\">                20</td><td style=\"text-align: right;\">                  181</td><td style=\"text-align: right;\">               1928</td><td style=\"text-align: right;\">        5.7162    </td><td style=\"text-align: right;\">         0.00757452</td><td style=\"text-align: right;\">          0.872989</td><td>[]                  </td><td style=\"text-align: right;\">     1</td><td style=\"text-align: right;\">        30.9632 </td><td style=\"text-align: right;\">0.373221</td></tr>\n",
       "<tr><td>Trainable_df06bb50</td><td>TERMINATED</td><td>192.168.0.103:65129</td><td style=\"text-align: right;\">                    6</td><td>gbdt                  </td><td>                     </td><td style=\"text-align: right;\">0.589693</td><td style=\"text-align: right;\">            0.0698309 </td><td style=\"text-align: right;\">             127</td><td style=\"text-align: right;\">                23</td><td style=\"text-align: right;\">                  174</td><td style=\"text-align: right;\">               1685</td><td style=\"text-align: right;\">       13.7111    </td><td style=\"text-align: right;\">         0.405852  </td><td style=\"text-align: right;\">          0.865039</td><td>[]                  </td><td style=\"text-align: right;\">     1</td><td style=\"text-align: right;\">        29.9246 </td><td style=\"text-align: right;\">0.377059</td></tr>\n",
       "<tr><td>Trainable_757158d8</td><td>TERMINATED</td><td>192.168.0.103:65172</td><td style=\"text-align: right;\">                    6</td><td>gbdt                  </td><td>                     </td><td style=\"text-align: right;\">0.587018</td><td style=\"text-align: right;\">            0.0699929 </td><td style=\"text-align: right;\">              59</td><td style=\"text-align: right;\">                23</td><td style=\"text-align: right;\">                  190</td><td style=\"text-align: right;\">               1677</td><td style=\"text-align: right;\">       13.076     </td><td style=\"text-align: right;\">         0.0076815 </td><td style=\"text-align: right;\">          0.87794 </td><td>[]                  </td><td style=\"text-align: right;\">     1</td><td style=\"text-align: right;\">        29.7865 </td><td style=\"text-align: right;\">0.379604</td></tr>\n",
       "<tr><td>Trainable_bb8a4e53</td><td>TERMINATED</td><td>192.168.0.103:65218</td><td style=\"text-align: right;\">                    6</td><td>gbdt                  </td><td>                     </td><td style=\"text-align: right;\">0.516758</td><td style=\"text-align: right;\">            0.0707357 </td><td style=\"text-align: right;\">              48</td><td style=\"text-align: right;\">                23</td><td style=\"text-align: right;\">                  188</td><td style=\"text-align: right;\">               1914</td><td style=\"text-align: right;\">       12.5333    </td><td style=\"text-align: right;\">         0.00745185</td><td style=\"text-align: right;\">          0.87083 </td><td>[]                  </td><td style=\"text-align: right;\">     1</td><td style=\"text-align: right;\">        25.4542 </td><td style=\"text-align: right;\">0.388356</td></tr>\n",
       "<tr><td>Trainable_b595def1</td><td>TERMINATED</td><td>192.168.0.103:65264</td><td style=\"text-align: right;\">                    6</td><td>gbdt                  </td><td>                     </td><td style=\"text-align: right;\">0.592715</td><td style=\"text-align: right;\">            0.0679001 </td><td style=\"text-align: right;\">              47</td><td style=\"text-align: right;\">                23</td><td style=\"text-align: right;\">                  189</td><td style=\"text-align: right;\">               1683</td><td style=\"text-align: right;\">       14.1315    </td><td style=\"text-align: right;\">         0.00796985</td><td style=\"text-align: right;\">          0.869963</td><td>[]                  </td><td style=\"text-align: right;\">     1</td><td style=\"text-align: right;\">        28.2207 </td><td style=\"text-align: right;\">0.378679</td></tr>\n",
       "<tr><td>Trainable_523cd422</td><td>TERMINATED</td><td>192.168.0.103:65313</td><td style=\"text-align: right;\">                    6</td><td>gbdt                  </td><td>                     </td><td style=\"text-align: right;\">0.511144</td><td style=\"text-align: right;\">            0.0689637 </td><td style=\"text-align: right;\">             113</td><td style=\"text-align: right;\">                22</td><td style=\"text-align: right;\">                  189</td><td style=\"text-align: right;\">               1920</td><td style=\"text-align: right;\">       13.5446    </td><td style=\"text-align: right;\">         0.0279654 </td><td style=\"text-align: right;\">          0.860359</td><td>[]                  </td><td style=\"text-align: right;\">     1</td><td style=\"text-align: right;\">        26.4935 </td><td style=\"text-align: right;\">0.376144</td></tr>\n",
       "<tr><td>Trainable_1cc95486</td><td>TERMINATED</td><td>192.168.0.103:65358</td><td style=\"text-align: right;\">                    6</td><td>gbdt                  </td><td>                     </td><td style=\"text-align: right;\">0.517798</td><td style=\"text-align: right;\">            0.0701422 </td><td style=\"text-align: right;\">             126</td><td style=\"text-align: right;\">                22</td><td style=\"text-align: right;\">                  173</td><td style=\"text-align: right;\">               1897</td><td style=\"text-align: right;\">       13.7096    </td><td style=\"text-align: right;\">         0.0292345 </td><td style=\"text-align: right;\">          0.858954</td><td>[]                  </td><td style=\"text-align: right;\">     1</td><td style=\"text-align: right;\">        23.6068 </td><td style=\"text-align: right;\">0.374079</td></tr>\n",
       "</tbody>\n",
       "</table>\n",
       "  </div>\n",
       "</div>\n",
       "<style>\n",
       ".tuneStatus {\n",
       "  color: var(--jp-ui-font-color1);\n",
       "}\n",
       ".tuneStatus .systemInfo {\n",
       "  display: flex;\n",
       "  flex-direction: column;\n",
       "}\n",
       ".tuneStatus td {\n",
       "  white-space: nowrap;\n",
       "}\n",
       ".tuneStatus .trialStatus {\n",
       "  display: flex;\n",
       "  flex-direction: column;\n",
       "}\n",
       ".tuneStatus h3 {\n",
       "  font-weight: bold;\n",
       "}\n",
       ".tuneStatus .hDivider {\n",
       "  border-bottom-width: var(--jp-border-width);\n",
       "  border-bottom-color: var(--jp-border-color0);\n",
       "  border-bottom-style: solid;\n",
       "}\n",
       ".tuneStatus .vDivider {\n",
       "  border-left-width: var(--jp-border-width);\n",
       "  border-left-color: var(--jp-border-color0);\n",
       "  border-left-style: solid;\n",
       "  margin: 0.5em 1em 0.5em 1em;\n",
       "}\n",
       "</style>\n"
      ],
      "text/plain": [
       "<IPython.core.display.HTML object>"
      ]
     },
     "metadata": {},
     "output_type": "display_data"
    },
    {
     "name": "stdout",
     "output_type": "stream",
     "text": [
      "\u001b[2m\u001b[36m(Trainable pid=52645)\u001b[0m Step 0 F-1 Score: 0.185068337505191\n",
      "\u001b[2m\u001b[36m(Trainable pid=52890)\u001b[0m Step 0 F-1 Score: 0.33392284800940286\n",
      "\u001b[2m\u001b[36m(Trainable pid=52756)\u001b[0m Step 0 F-1 Score: 0.35195802413766447\n",
      "\u001b[2m\u001b[36m(Trainable pid=52704)\u001b[0m Step 0 F-1 Score: 0.3343281564022974\u001b[32m [repeated 2x across cluster] (Ray deduplicates logs by default. Set RAY_DEDUP_LOGS=0 to disable log deduplication, or see https://docs.ray.io/en/master/ray-observability/ray-logging.html#log-deduplication for more options.)\u001b[0m\n",
      "\u001b[2m\u001b[36m(Trainable pid=52842)\u001b[0m Step 0 F-1 Score: 0.3383380385633325\u001b[32m [repeated 4x across cluster]\u001b[0m\n",
      "\u001b[2m\u001b[36m(Trainable pid=53259)\u001b[0m Step 0 F-1 Score: 0.2469360169263586\u001b[32m [repeated 3x across cluster]\u001b[0m\n",
      "\u001b[2m\u001b[36m(Trainable pid=53123)\u001b[0m Step 0 F-1 Score: 0.37102361956968805\n",
      "\u001b[2m\u001b[36m(Trainable pid=53344)\u001b[0m Step 0 F-1 Score: 0.3380848926753154\n",
      "\u001b[2m\u001b[36m(Trainable pid=53303)\u001b[0m Step 0 F-1 Score: 0.3464068402896095\n",
      "\u001b[2m\u001b[36m(Trainable pid=53437)\u001b[0m Step 0 F-1 Score: 0.33921883890305715\n",
      "\u001b[2m\u001b[36m(Trainable pid=54101)\u001b[0m Step 0 F-1 Score: 0.3550187400775106\u001b[32m [repeated 2x across cluster]\u001b[0m\n",
      "\u001b[2m\u001b[36m(Trainable pid=54192)\u001b[0m Step 0 F-1 Score: 0.31369552672328677\n",
      "\u001b[2m\u001b[36m(Trainable pid=53982)\u001b[0m Step 0 F-1 Score: 0.31493268627227017\n",
      "\u001b[2m\u001b[36m(Trainable pid=53482)\u001b[0m Step 0 F-1 Score: 0.3451634387320747\n",
      "\u001b[2m\u001b[36m(Trainable pid=54273)\u001b[0m Step 0 F-1 Score: 0.37202926957196086\n",
      "\u001b[2m\u001b[36m(Trainable pid=53573)\u001b[0m Step 0 F-1 Score: 0.3460178267270732\u001b[32m [repeated 2x across cluster]\u001b[0m\n",
      "\u001b[2m\u001b[36m(Trainable pid=54346)\u001b[0m Step 0 F-1 Score: 0.3744257080992494\u001b[32m [repeated 4x across cluster]\u001b[0m\n",
      "\u001b[2m\u001b[36m(Trainable pid=53672)\u001b[0m Step 0 F-1 Score: 0.3461534894306397\n",
      "\u001b[2m\u001b[36m(Trainable pid=53821)\u001b[0m Step 0 F-1 Score: 0.34237217847953383\n",
      "\u001b[2m\u001b[36m(Trainable pid=54435)\u001b[0m Step 0 F-1 Score: 0.36537315013693256\n",
      "\u001b[2m\u001b[36m(Trainable pid=54513)\u001b[0m Step 0 F-1 Score: 0.36461402820680794\n",
      "\u001b[2m\u001b[36m(Trainable pid=54667)\u001b[0m Step 0 F-1 Score: 0.36161736887007684\n",
      "\u001b[2m\u001b[36m(Trainable pid=53773)\u001b[0m Step 0 F-1 Score: 0.3450793542568057\n",
      "\u001b[2m\u001b[36m(Trainable pid=54809)\u001b[0m Step 0 F-1 Score: 0.3671229180402594\u001b[32m [repeated 3x across cluster]\u001b[0m\n",
      "\u001b[2m\u001b[36m(Trainable pid=54589)\u001b[0m Step 0 F-1 Score: 0.3615883374840205\n",
      "\u001b[2m\u001b[36m(Trainable pid=54900)\u001b[0m Step 0 F-1 Score: 0.36872785754453535\n",
      "\u001b[2m\u001b[36m(Trainable pid=55177)\u001b[0m Step 0 F-1 Score: 0.367519590029223\n",
      "\u001b[2m\u001b[36m(Trainable pid=53904)\u001b[0m Step 0 F-1 Score: 0.3428383798082236\n",
      "\u001b[2m\u001b[36m(Trainable pid=54854)\u001b[0m Step 0 F-1 Score: 0.3569906998992304\u001b[32m [repeated 4x across cluster]\u001b[0m\n",
      "\u001b[2m\u001b[36m(Trainable pid=55407)\u001b[0m Step 0 F-1 Score: 0.36126748714928075\u001b[32m [repeated 2x across cluster]\u001b[0m\n",
      "\u001b[2m\u001b[36m(Trainable pid=55356)\u001b[0m Step 0 F-1 Score: 0.35562260850366373\n",
      "\u001b[2m\u001b[36m(Trainable pid=55609)\u001b[0m Step 0 F-1 Score: 0.3605510742503514\n",
      "\u001b[2m\u001b[36m(Trainable pid=55659)\u001b[0m Step 0 F-1 Score: 0.3554608363125992\n",
      "\u001b[2m\u001b[36m(Trainable pid=55457)\u001b[0m Step 0 F-1 Score: 0.3541134944901197\n",
      "\u001b[2m\u001b[36m(Trainable pid=55707)\u001b[0m Step 0 F-1 Score: 0.34756774760044246\u001b[32m [repeated 2x across cluster]\u001b[0m\n",
      "\u001b[2m\u001b[36m(Trainable pid=55751)\u001b[0m Step 0 F-1 Score: 0.35087589192695356\n",
      "\u001b[2m\u001b[36m(Trainable pid=55804)\u001b[0m Step 0 F-1 Score: 0.3486676224719808\n",
      "\u001b[2m\u001b[36m(Trainable pid=55849)\u001b[0m Step 0 F-1 Score: 0.34961836983326217\n",
      "\u001b[2m\u001b[36m(Trainable pid=55948)\u001b[0m Step 0 F-1 Score: 0.3478452137116845\n",
      "\u001b[2m\u001b[36m(Trainable pid=56082)\u001b[0m Step 0 F-1 Score: 0.3456961054721182\u001b[32m [repeated 2x across cluster]\u001b[0m\n",
      "\u001b[2m\u001b[36m(Trainable pid=56408)\u001b[0m Step 0 F-1 Score: 0.3685157481604837\n",
      "\u001b[2m\u001b[36m(Trainable pid=56180)\u001b[0m Step 0 F-1 Score: 0.3521668166347466\n",
      "\u001b[2m\u001b[36m(Trainable pid=56557)\u001b[0m Step 0 F-1 Score: 0.35236629644308104\u001b[32m [repeated 2x across cluster]\u001b[0m\n",
      "\u001b[2m\u001b[36m(Trainable pid=56770)\u001b[0m Step 0 F-1 Score: 0.36619494336377206\u001b[32m [repeated 3x across cluster]\u001b[0m\n",
      "\u001b[2m\u001b[36m(Trainable pid=56648)\u001b[0m Step 0 F-1 Score: 0.3760503599968638\n",
      "\u001b[2m\u001b[36m(Trainable pid=56603)\u001b[0m Step 0 F-1 Score: 0.35868668885500726\n",
      "\u001b[2m\u001b[36m(Trainable pid=56696)\u001b[0m Step 0 F-1 Score: 0.3692089543018739\n",
      "\u001b[2m\u001b[36m(Trainable pid=56950)\u001b[0m Step 0 F-1 Score: 0.36289744451386124\n",
      "\u001b[2m\u001b[36m(Trainable pid=56509)\u001b[0m Step 0 F-1 Score: 0.3602032190957745\u001b[32m [repeated 2x across cluster]\u001b[0m\n",
      "\u001b[2m\u001b[36m(Trainable pid=56851)\u001b[0m Step 0 F-1 Score: 0.3612069626025886\u001b[32m [repeated 2x across cluster]\u001b[0m\n",
      "\u001b[2m\u001b[36m(Trainable pid=57045)\u001b[0m Step 0 F-1 Score: 0.37155957783815363\n",
      "\u001b[2m\u001b[36m(Trainable pid=56998)\u001b[0m Step 0 F-1 Score: 0.3702115735002566\n",
      "\u001b[2m\u001b[36m(Trainable pid=57187)\u001b[0m Step 0 F-1 Score: 0.37918796577911856\n",
      "\u001b[2m\u001b[36m(Trainable pid=57234)\u001b[0m Step 0 F-1 Score: 0.3712520609639284\n",
      "\u001b[2m\u001b[36m(Trainable pid=57285)\u001b[0m Step 0 F-1 Score: 0.366044188865905\n",
      "\u001b[2m\u001b[36m(Trainable pid=57140)\u001b[0m Step 0 F-1 Score: 0.35774102712145034\n",
      "\u001b[2m\u001b[36m(Trainable pid=57331)\u001b[0m Step 0 F-1 Score: 0.36503564993829\n",
      "\u001b[2m\u001b[36m(Trainable pid=57607)\u001b[0m Step 0 F-1 Score: 0.3750047541708404\n",
      "\u001b[2m\u001b[36m(Trainable pid=57424)\u001b[0m Step 0 F-1 Score: 0.3413599324555494\u001b[32m [repeated 2x across cluster]\u001b[0m\n",
      "\u001b[2m\u001b[36m(Trainable pid=57470)\u001b[0m Step 0 F-1 Score: 0.351699923371915\n",
      "\u001b[2m\u001b[36m(Trainable pid=57516)\u001b[0m Step 0 F-1 Score: 0.3330809617310329\n",
      "\u001b[2m\u001b[36m(Trainable pid=57653)\u001b[0m Step 0 F-1 Score: 0.34084908578444517\n",
      "\u001b[2m\u001b[36m(Trainable pid=57698)\u001b[0m Step 0 F-1 Score: 0.3545360053791874\n",
      "\u001b[2m\u001b[36m(Trainable pid=58223)\u001b[0m Step 0 F-1 Score: 0.34787386966858086\u001b[32m [repeated 2x across cluster]\u001b[0m\n",
      "\u001b[2m\u001b[36m(Trainable pid=57792)\u001b[0m Step 0 F-1 Score: 0.34942036576671237\u001b[32m [repeated 2x across cluster]\u001b[0m\n",
      "\u001b[2m\u001b[36m(Trainable pid=57980)\u001b[0m Step 0 F-1 Score: 0.3391070308182363\u001b[32m [repeated 2x across cluster]\u001b[0m\n",
      "\u001b[2m\u001b[36m(Trainable pid=58305)\u001b[0m Step 0 F-1 Score: 0.3521346692447759\n",
      "\u001b[2m\u001b[36m(Trainable pid=57747)\u001b[0m Step 0 F-1 Score: 0.3662399057916641\n",
      "\u001b[2m\u001b[36m(Trainable pid=58533)\u001b[0m Step 0 F-1 Score: 0.37569166645023405\u001b[32m [repeated 4x across cluster]\u001b[0m\n",
      "\u001b[2m\u001b[36m(Trainable pid=58022)\u001b[0m Step 0 F-1 Score: 0.344981514852047\u001b[32m [repeated 3x across cluster]\u001b[0m\n",
      "\u001b[2m\u001b[36m(Trainable pid=58632)\u001b[0m Step 0 F-1 Score: 0.36470501298333513\n",
      "\u001b[2m\u001b[36m(Trainable pid=58585)\u001b[0m Step 0 F-1 Score: 0.3743009245781308\n",
      "\u001b[2m\u001b[36m(Trainable pid=59113)\u001b[0m Step 0 F-1 Score: 0.36362428620549886\n",
      "\u001b[2m\u001b[36m(Trainable pid=59161)\u001b[0m Step 0 F-1 Score: 0.3739832720753009\n",
      "\u001b[2m\u001b[36m(Trainable pid=59207)\u001b[0m Step 0 F-1 Score: 0.36507729316970083\u001b[32m [repeated 2x across cluster]\u001b[0m\n",
      "\u001b[2m\u001b[36m(Trainable pid=59302)\u001b[0m Step 0 F-1 Score: 0.3725100527694877\u001b[32m [repeated 3x across cluster]\u001b[0m\n",
      "\u001b[2m\u001b[36m(Trainable pid=59255)\u001b[0m Step 0 F-1 Score: 0.3732573443815407\n",
      "\u001b[2m\u001b[36m(Trainable pid=59497)\u001b[0m Step 0 F-1 Score: 0.3679493731596886\n",
      "\u001b[2m\u001b[36m(Trainable pid=59543)\u001b[0m Step 0 F-1 Score: 0.37282222483870214\n",
      "\u001b[2m\u001b[36m(Trainable pid=59628)\u001b[0m Step 0 F-1 Score: 0.374884328566916\n",
      "\u001b[2m\u001b[36m(Trainable pid=59690)\u001b[0m Step 0 F-1 Score: 0.369053311199424\u001b[32m [repeated 2x across cluster]\u001b[0m\n",
      "\u001b[2m\u001b[36m(Trainable pid=59825)\u001b[0m Step 0 F-1 Score: 0.37514844135973396\u001b[32m [repeated 2x across cluster]\u001b[0m\n",
      "\u001b[2m\u001b[36m(Trainable pid=59920)\u001b[0m Step 0 F-1 Score: 0.3707692601024946\u001b[32m [repeated 3x across cluster]\u001b[0m\n",
      "\u001b[2m\u001b[36m(Trainable pid=60058)\u001b[0m Step 0 F-1 Score: 0.36619783773990877\n",
      "\u001b[2m\u001b[36m(Trainable pid=59966)\u001b[0m Step 0 F-1 Score: 0.3630914517224232\n",
      "\u001b[2m\u001b[36m(Trainable pid=60107)\u001b[0m Step 0 F-1 Score: 0.3680255027959799\u001b[32m [repeated 2x across cluster]\u001b[0m\n",
      "\u001b[2m\u001b[36m(Trainable pid=60244)\u001b[0m Step 0 F-1 Score: 0.37477693181527727\u001b[32m [repeated 3x across cluster]\u001b[0m\n",
      "\u001b[2m\u001b[36m(Trainable pid=60382)\u001b[0m Step 0 F-1 Score: 0.3723465557320102\u001b[32m [repeated 3x across cluster]\u001b[0m\n",
      "\u001b[2m\u001b[36m(Trainable pid=60428)\u001b[0m Step 0 F-1 Score: 0.3696647722069387\n",
      "\u001b[2m\u001b[36m(Trainable pid=60474)\u001b[0m Step 0 F-1 Score: 0.375291108647323\n",
      "\u001b[2m\u001b[36m(Trainable pid=60704)\u001b[0m Step 0 F-1 Score: 0.37207833242853755\u001b[32m [repeated 4x across cluster]\u001b[0m\n",
      "\u001b[2m\u001b[36m(Trainable pid=60659)\u001b[0m Step 0 F-1 Score: 0.38388672581816696\u001b[32m [repeated 2x across cluster]\u001b[0m\n",
      "\u001b[2m\u001b[36m(Trainable pid=60894)\u001b[0m Step 0 F-1 Score: 0.37054078380640104\u001b[32m [repeated 3x across cluster]\u001b[0m\n",
      "\u001b[2m\u001b[36m(Trainable pid=60939)\u001b[0m Step 0 F-1 Score: 0.369905183318437\n",
      "\u001b[2m\u001b[36m(Trainable pid=60985)\u001b[0m Step 0 F-1 Score: 0.36884851060140783\n",
      "\u001b[2m\u001b[36m(Trainable pid=61032)\u001b[0m Step 0 F-1 Score: 0.37758771735706925\n",
      "\u001b[2m\u001b[36m(Trainable pid=61079)\u001b[0m Step 0 F-1 Score: 0.37836448047908133\n",
      "\u001b[2m\u001b[36m(Trainable pid=61219)\u001b[0m Step 0 F-1 Score: 0.367570146161638\u001b[32m [repeated 2x across cluster]\u001b[0m\n",
      "\u001b[2m\u001b[36m(Trainable pid=61173)\u001b[0m Step 0 F-1 Score: 0.37722814308441965\n",
      "\u001b[2m\u001b[36m(Trainable pid=61358)\u001b[0m Step 0 F-1 Score: 0.3760169135652656\n",
      "\u001b[2m\u001b[36m(Trainable pid=61404)\u001b[0m Step 0 F-1 Score: 0.37705176063485846\n",
      "\u001b[2m\u001b[36m(Trainable pid=61312)\u001b[0m Step 0 F-1 Score: 0.379660564460372\n",
      "\u001b[2m\u001b[36m(Trainable pid=61543)\u001b[0m Step 0 F-1 Score: 0.37421731111784323\u001b[32m [repeated 3x across cluster]\u001b[0m\n",
      "\u001b[2m\u001b[36m(Trainable pid=61634)\u001b[0m Step 0 F-1 Score: 0.37907130625171553\u001b[32m [repeated 3x across cluster]\u001b[0m\n",
      "\u001b[2m\u001b[36m(Trainable pid=61728)\u001b[0m Step 0 F-1 Score: 0.3818963920999182\u001b[32m [repeated 2x across cluster]\u001b[0m\n",
      "\u001b[2m\u001b[36m(Trainable pid=61824)\u001b[0m Step 0 F-1 Score: 0.3736961919241927\u001b[32m [repeated 2x across cluster]\u001b[0m\n",
      "\u001b[2m\u001b[36m(Trainable pid=61868)\u001b[0m Step 0 F-1 Score: 0.3704423965805819\n",
      "\u001b[2m\u001b[36m(Trainable pid=61917)\u001b[0m Step 0 F-1 Score: 0.3777069464480607\n",
      "\u001b[2m\u001b[36m(Trainable pid=61963)\u001b[0m Step 0 F-1 Score: 0.37858227763391683\n",
      "\u001b[2m\u001b[36m(Trainable pid=62010)\u001b[0m Step 0 F-1 Score: 0.37020688813177277\n",
      "\u001b[2m\u001b[36m(Trainable pid=62057)\u001b[0m Step 0 F-1 Score: 0.3780135823691291\n",
      "\u001b[2m\u001b[36m(Trainable pid=62150)\u001b[0m Step 0 F-1 Score: 0.378679423941818\n",
      "\u001b[2m\u001b[36m(Trainable pid=62195)\u001b[0m Step 0 F-1 Score: 0.3670035215978042\u001b[32m [repeated 2x across cluster]\u001b[0m\n",
      "\u001b[2m\u001b[36m(Trainable pid=62290)\u001b[0m Step 0 F-1 Score: 0.3845118170570464\u001b[32m [repeated 2x across cluster]\u001b[0m\n",
      "\u001b[2m\u001b[36m(Trainable pid=62343)\u001b[0m Step 0 F-1 Score: 0.37916683770902954\n",
      "\u001b[2m\u001b[36m(Trainable pid=62390)\u001b[0m Step 0 F-1 Score: 0.3645129872462828\n",
      "\u001b[2m\u001b[36m(Trainable pid=62482)\u001b[0m Step 0 F-1 Score: 0.3790949397699956\u001b[32m [repeated 2x across cluster]\u001b[0m\n",
      "\u001b[2m\u001b[36m(Trainable pid=62530)\u001b[0m Step 0 F-1 Score: 0.37708687156732257\n",
      "\u001b[2m\u001b[36m(Trainable pid=62576)\u001b[0m Step 0 F-1 Score: 0.36540274796737104\n",
      "\u001b[2m\u001b[36m(Trainable pid=62667)\u001b[0m Step 0 F-1 Score: 0.3717892230034936\u001b[32m [repeated 2x across cluster]\u001b[0m\n",
      "\u001b[2m\u001b[36m(Trainable pid=62759)\u001b[0m Step 0 F-1 Score: 0.3661003102649228\u001b[32m [repeated 2x across cluster]\u001b[0m\n",
      "\u001b[2m\u001b[36m(Trainable pid=62851)\u001b[0m Step 0 F-1 Score: 0.3779020623940446\u001b[32m [repeated 2x across cluster]\u001b[0m\n",
      "\u001b[2m\u001b[36m(Trainable pid=62943)\u001b[0m Step 0 F-1 Score: 0.37057888117279775\u001b[32m [repeated 2x across cluster]\u001b[0m\n",
      "\u001b[2m\u001b[36m(Trainable pid=63038)\u001b[0m Step 0 F-1 Score: 0.36945873807614965\u001b[32m [repeated 2x across cluster]\u001b[0m\n",
      "\u001b[2m\u001b[36m(Trainable pid=63084)\u001b[0m Step 0 F-1 Score: 0.3780037073084999\n",
      "\u001b[2m\u001b[36m(Trainable pid=63129)\u001b[0m Step 0 F-1 Score: 0.37368896279658337\n",
      "\u001b[2m\u001b[36m(Trainable pid=63222)\u001b[0m Step 0 F-1 Score: 0.3826341571316834\u001b[32m [repeated 2x across cluster]\u001b[0m\n",
      "\u001b[2m\u001b[36m(Trainable pid=63268)\u001b[0m Step 0 F-1 Score: 0.3723316370174098\n",
      "\u001b[2m\u001b[36m(Trainable pid=63314)\u001b[0m Step 0 F-1 Score: 0.3768494139119501\n",
      "\u001b[2m\u001b[36m(Trainable pid=63359)\u001b[0m Step 0 F-1 Score: 0.3779300398192264\n",
      "\u001b[2m\u001b[36m(Trainable pid=63404)\u001b[0m Step 0 F-1 Score: 0.37624152013018336\n",
      "\u001b[2m\u001b[36m(Trainable pid=63497)\u001b[0m Step 0 F-1 Score: 0.3815252374441779\u001b[32m [repeated 2x across cluster]\u001b[0m\n",
      "\u001b[2m\u001b[36m(Trainable pid=63590)\u001b[0m Step 0 F-1 Score: 0.3764248596123024\u001b[32m [repeated 2x across cluster]\u001b[0m\n",
      "\u001b[2m\u001b[36m(Trainable pid=63684)\u001b[0m Step 0 F-1 Score: 0.3661377789129866\n",
      "\u001b[2m\u001b[36m(Trainable pid=63638)\u001b[0m Step 0 F-1 Score: 0.37731782169476624\n",
      "\u001b[2m\u001b[36m(Trainable pid=63776)\u001b[0m Step 0 F-1 Score: 0.3699073812939123\u001b[32m [repeated 2x across cluster]\u001b[0m\n",
      "\u001b[2m\u001b[36m(Trainable pid=63870)\u001b[0m Step 0 F-1 Score: 0.37145802992423865\n",
      "\u001b[2m\u001b[36m(Trainable pid=63822)\u001b[0m Step 0 F-1 Score: 0.37182147852235864\n",
      "\u001b[2m\u001b[36m(Trainable pid=63963)\u001b[0m Step 0 F-1 Score: 0.37827202997024506\u001b[32m [repeated 2x across cluster]\u001b[0m\n",
      "\u001b[2m\u001b[36m(Trainable pid=64056)\u001b[0m Step 0 F-1 Score: 0.3749433000050591\u001b[32m [repeated 2x across cluster]\u001b[0m\n",
      "\u001b[2m\u001b[36m(Trainable pid=64153)\u001b[0m Step 0 F-1 Score: 0.3766871626829355\u001b[32m [repeated 2x across cluster]\u001b[0m\n",
      "\u001b[2m\u001b[36m(Trainable pid=64200)\u001b[0m Step 0 F-1 Score: 0.3323334296040903\n",
      "\u001b[2m\u001b[36m(Trainable pid=64245)\u001b[0m Step 0 F-1 Score: 0.335823871750231\n",
      "\u001b[2m\u001b[36m(Trainable pid=64290)\u001b[0m Step 0 F-1 Score: 0.3351760829272294\u001b[32m [repeated 2x across cluster]\u001b[0m\n",
      "\u001b[2m\u001b[36m(Trainable pid=64429)\u001b[0m Step 0 F-1 Score: 0.327737328492653\u001b[32m [repeated 2x across cluster]\u001b[0m\n",
      "\u001b[2m\u001b[36m(Trainable pid=64520)\u001b[0m Step 0 F-1 Score: 0.375217044741939\n",
      "\u001b[2m\u001b[36m(Trainable pid=64614)\u001b[0m Step 0 F-1 Score: 0.3757815329144128\n",
      "\u001b[2m\u001b[36m(Trainable pid=64569)\u001b[0m Step 0 F-1 Score: 0.33461392172805954\n",
      "\u001b[2m\u001b[36m(Trainable pid=64474)\u001b[0m Step 0 F-1 Score: 0.33449142015857686\n",
      "\u001b[2m\u001b[36m(Trainable pid=64704)\u001b[0m Step 0 F-1 Score: 0.3723937406287908\n",
      "\u001b[2m\u001b[36m(Trainable pid=64797)\u001b[0m Step 0 F-1 Score: 0.36401757560659204\n",
      "\u001b[2m\u001b[36m(Trainable pid=64751)\u001b[0m Step 0 F-1 Score: 0.37572030510989\n",
      "\u001b[2m\u001b[36m(Trainable pid=64842)\u001b[0m Step 0 F-1 Score: 0.3754067945802018\n",
      "\u001b[2m\u001b[36m(Trainable pid=64892)\u001b[0m Step 0 F-1 Score: 0.3680285641751189\u001b[32m [repeated 2x across cluster]\u001b[0m\n",
      "\u001b[2m\u001b[36m(Trainable pid=65029)\u001b[0m Step 0 F-1 Score: 0.37100896964268365\u001b[32m [repeated 3x across cluster]\u001b[0m\n",
      "\u001b[2m\u001b[36m(Trainable pid=65129)\u001b[0m Step 0 F-1 Score: 0.37705872907670435\u001b[32m [repeated 2x across cluster]\u001b[0m\n",
      "\u001b[2m\u001b[36m(Trainable pid=65264)\u001b[0m Step 0 F-1 Score: 0.3786790954626225\u001b[32m [repeated 3x across cluster]\u001b[0m\n"
     ]
    },
    {
     "name": "stderr",
     "output_type": "stream",
     "text": [
      "2023-10-15 19:36:31,665\tWARNING experiment_state.py:371 -- Experiment checkpoint syncing has been triggered multiple times in the last 30.0 seconds. A sync will be triggered whenever a trial has checkpointed more than `num_to_keep` times since last sync or if 300 seconds have passed since last sync. If you have set `num_to_keep` in your `CheckpointConfig`, consider increasing the checkpoint frequency or keeping more checkpoints. You can supress this warning by changing the `TUNE_WARN_EXCESSIVE_EXPERIMENT_CHECKPOINT_SYNC_THRESHOLD_S` environment variable.\n",
      "2023-10-15 19:36:31,698\tINFO tune.py:1143 -- Total run time: 1531.54 seconds (1531.19 seconds for the tuning loop).\n"
     ]
    },
    {
     "data": {
      "text/plain": [
       "['temp/tuned_joint_grade.joblib']"
      ]
     },
     "execution_count": 25,
     "metadata": {},
     "output_type": "execute_result"
    }
   ],
   "source": [
    "#```python\n",
    "joint_grade_classifier.tune_model(\n",
    "    X_train_joint,\n",
    "    y_train_joint,\n",
    "    X_val_joint,\n",
    "    y_val_joint,\n",
    "    n=240,\n",
    "    sample_size=50000,\n",
    "    n_training=1,\n",
    "    average=\"macro\",\n",
    ")\n",
    "joblib.dump(joint_grade_classifier, \"temp/tuned_joint_grade.joblib\")"
   ]
  },
  {
   "cell_type": "code",
   "execution_count": 31,
   "metadata": {},
   "outputs": [],
   "source": [
    "joint_grade_classifier=joblib.load(\"temp/tuned_joint_grade.joblib\")"
   ]
  },
  {
   "cell_type": "code",
   "execution_count": 26,
   "metadata": {},
   "outputs": [
    {
     "data": {
      "text/plain": [
       "{'preprocess__feature_dropper__feats_to_drop': [],\n",
       " 'model__max_depth': 23,\n",
       " 'model__num_leaves': 1914,\n",
       " 'model__n_estimators': 188,\n",
       " 'model__learning_rate': 0.07073565588841094,\n",
       " 'model__bagging_freq': 6,\n",
       " 'model__colsample_bytree': 0.5167584359479642,\n",
       " 'model__subsample': 0.8708296688477901,\n",
       " 'model__reg_alpha': 12.533291967833335,\n",
       " 'model__reg_lambda': 0.00745184747969614,\n",
       " 'model__boosting_type': 'gbdt',\n",
       " 'model__class_weight': None,\n",
       " 'model__max_bin': 48}"
      ]
     },
     "execution_count": 26,
     "metadata": {},
     "output_type": "execute_result"
    }
   ],
   "source": [
    "joint_grade_classifier.best_params"
   ]
  },
  {
   "cell_type": "code",
   "execution_count": 27,
   "metadata": {},
   "outputs": [
    {
     "name": "stdout",
     "output_type": "stream",
     "text": [
      "              precision    recall  f1-score   support\n",
      "\n",
      "           1       0.77      0.73      0.75      6153\n",
      "           2       0.53      0.54      0.53      8269\n",
      "           3       0.44      0.63      0.52      8318\n",
      "           4       0.39      0.21      0.28      4926\n",
      "           5       0.38      0.18      0.25      1511\n",
      "           6       0.27      0.10      0.15       488\n",
      "           7       0.00      0.00      0.00       137\n",
      "\n",
      "    accuracy                           0.52     29802\n",
      "   macro avg       0.40      0.34      0.35     29802\n",
      "weighted avg       0.52      0.52      0.51     29802\n",
      "\n"
     ]
    }
   ],
   "source": [
    "joint_grade_classifier.pipeline['model'].set_params(**{'num_threads':12})\n",
    "joint_grade_classifier.pipeline.fit(X_train_joint,y_train_joint)\n",
    "preds_joint_grade=joint_grade_classifier.pipeline.predict(X_val_joint)\n",
    "print(classification_report(y_val_joint,preds_joint_grade))\n"
   ]
  },
  {
   "cell_type": "code",
   "execution_count": 29,
   "metadata": {},
   "outputs": [
    {
     "data": {
      "image/png": "[encoded data removed]",
      "text/plain": [
       "<Figure size 800x550 with 1 Axes>"
      ]
     },
     "metadata": {},
     "output_type": "display_data"
    }
   ],
   "source": [
    "names_joint_grade = (\n",
    "    joint_grade_classifier.pipeline[\"preprocess\"]\n",
    "    .transform(X_val_joint.sample(500, seed=1))\n",
    "    .columns\n",
    ")\n",
    "explainer_joint_grade = shap.TreeExplainer(\n",
    "    joint_grade_classifier.pipeline[\"model\"],\n",
    "    data=joint_grade_classifier.pipeline[\"preprocess\"]\n",
    "    .transform((X_val_joint.sample(500, seed=1)))\n",
    "    .to_numpy(),\n",
    "    model_output=\"raw\",\n",
    ")\n",
    "\n",
    "shap_values_joint_grade = explainer_joint_grade.shap_values(\n",
    "    joint_grade_classifier.pipeline[\"preprocess\"]\n",
    "    .transform(X_val_joint.sample(500, seed=1))\n",
    "    .to_numpy(),\n",
    "    approximate=True\n",
    ")\n",
    "\n",
    "shap.summary_plot(\n",
    "    shap_values_joint_grade,\n",
    "    joint_grade_classifier.pipeline[\"preprocess\"]\n",
    "    .transform(X_val_joint.sample(10000, seed=1))\n",
    "    .to_numpy(),\n",
    "    feature_names=names_joint_grade,\n",
    "    class_names={0: \"A\", 1: \"B\", 2: \"C\", 3: \"D\", 4: \"E\", 5: \"F\", 6: \"G\"},\n",
    "    max_display=10,\n",
    ")"
   ]
  },
  {
   "cell_type": "markdown",
   "metadata": {},
   "source": [
    "#### Final Testing"
   ]
  },
  {
   "cell_type": "code",
   "execution_count": 30,
   "metadata": {},
   "outputs": [
    {
     "data": {
      "text/html": [
       "<style>#sk-container-id-2 {color: black;}#sk-container-id-2 pre{padding: 0;}#sk-container-id-2 div.sk-toggleable {background-color: white;}#sk-container-id-2 label.sk-toggleable__label {cursor: pointer;display: block;width: 100%;margin-bottom: 0;padding: 0.3em;box-sizing: border-box;text-align: center;}#sk-container-id-2 label.sk-toggleable__label-arrow:before {content: \"▸\";float: left;margin-right: 0.25em;color: #696969;}#sk-container-id-2 label.sk-toggleable__label-arrow:hover:before {color: black;}#sk-container-id-2 div.sk-estimator:hover label.sk-toggleable__label-arrow:before {color: black;}#sk-container-id-2 div.sk-toggleable__content {max-height: 0;max-width: 0;overflow: hidden;text-align: left;background-color: #f0f8ff;}#sk-container-id-2 div.sk-toggleable__content pre {margin: 0.2em;color: black;border-radius: 0.25em;background-color: #f0f8ff;}#sk-container-id-2 input.sk-toggleable__control:checked~div.sk-toggleable__content {max-height: 200px;max-width: 100%;overflow: auto;}#sk-container-id-2 input.sk-toggleable__control:checked~label.sk-toggleable__label-arrow:before {content: \"▾\";}#sk-container-id-2 div.sk-estimator input.sk-toggleable__control:checked~label.sk-toggleable__label {background-color: #d4ebff;}#sk-container-id-2 div.sk-label input.sk-toggleable__control:checked~label.sk-toggleable__label {background-color: #d4ebff;}#sk-container-id-2 input.sk-hidden--visually {border: 0;clip: rect(1px 1px 1px 1px);clip: rect(1px, 1px, 1px, 1px);height: 1px;margin: -1px;overflow: hidden;padding: 0;position: absolute;width: 1px;}#sk-container-id-2 div.sk-estimator {font-family: monospace;background-color: #f0f8ff;border: 1px dotted black;border-radius: 0.25em;box-sizing: border-box;margin-bottom: 0.5em;}#sk-container-id-2 div.sk-estimator:hover {background-color: #d4ebff;}#sk-container-id-2 div.sk-parallel-item::after {content: \"\";width: 100%;border-bottom: 1px solid gray;flex-grow: 1;}#sk-container-id-2 div.sk-label:hover label.sk-toggleable__label {background-color: #d4ebff;}#sk-container-id-2 div.sk-serial::before {content: \"\";position: absolute;border-left: 1px solid gray;box-sizing: border-box;top: 0;bottom: 0;left: 50%;z-index: 0;}#sk-container-id-2 div.sk-serial {display: flex;flex-direction: column;align-items: center;background-color: white;padding-right: 0.2em;padding-left: 0.2em;position: relative;}#sk-container-id-2 div.sk-item {position: relative;z-index: 1;}#sk-container-id-2 div.sk-parallel {display: flex;align-items: stretch;justify-content: center;background-color: white;position: relative;}#sk-container-id-2 div.sk-item::before, #sk-container-id-2 div.sk-parallel-item::before {content: \"\";position: absolute;border-left: 1px solid gray;box-sizing: border-box;top: 0;bottom: 0;left: 50%;z-index: -1;}#sk-container-id-2 div.sk-parallel-item {display: flex;flex-direction: column;z-index: 1;position: relative;background-color: white;}#sk-container-id-2 div.sk-parallel-item:first-child::after {align-self: flex-end;width: 50%;}#sk-container-id-2 div.sk-parallel-item:last-child::after {align-self: flex-start;width: 50%;}#sk-container-id-2 div.sk-parallel-item:only-child::after {width: 0;}#sk-container-id-2 div.sk-dashed-wrapped {border: 1px dashed gray;margin: 0 0.4em 0.5em 0.4em;box-sizing: border-box;padding-bottom: 0.4em;background-color: white;}#sk-container-id-2 div.sk-label label {font-family: monospace;font-weight: bold;display: inline-block;line-height: 1.2em;}#sk-container-id-2 div.sk-label-container {text-align: center;}#sk-container-id-2 div.sk-container {/* jupyter's `normalize.less` sets `[hidden] { display: none; }` but bootstrap.min.css set `[hidden] { display: none !important; }` so we also need the `!important` here to be able to override the default hidden behavior on the sphinx rendered scikit-learn.org. See: https://github.com/scikit-learn/scikit-learn/issues/21755 */display: inline-block !important;position: relative;}#sk-container-id-2 div.sk-text-repr-fallback {display: none;}</style><div id=\"sk-container-id-2\" class=\"sk-top-container\"><div class=\"sk-text-repr-fallback\"><pre>Pipeline(steps=[(&#x27;preprocess&#x27;,\n",
       "                 Pipeline(steps=[(&#x27;imputers&#x27;,\n",
       "                                  PolarsColumnTransformer(steps=OrderedDict([(&#x27;emp_title&#x27;,\n",
       "                                                                              &lt;functions.transformers.PolarsColumnTransformer.Step object at 0x7f168fe8ee80&gt;),\n",
       "                                                                             (&#x27;emp_length&#x27;,\n",
       "                                                                              &lt;functions.transformers.PolarsColumnTransformer.Step object at 0x7f168fe8ef70&gt;),\n",
       "                                                                             (&#x27;zip_code&#x27;,\n",
       "                                                                              &lt;functions.transformers.PolarsColumnTransformer.Step obje...\n",
       "                 LGBMClassifier(bagging_freq=6,\n",
       "                                colsample_bytree=0.5167584359479642,\n",
       "                                force_col_wise=True,\n",
       "                                learning_rate=0.07073565588841094, max_bin=48,\n",
       "                                max_depth=23, n_estimators=188, num_leaves=1914,\n",
       "                                num_threads=12, objective=&#x27;multiclass&#x27;,\n",
       "                                random_state=RandomState(MT19937) at 0x7F1691AA8540,\n",
       "                                reg_alpha=12.533291967833335,\n",
       "                                reg_lambda=0.00745184747969614,\n",
       "                                subsample=0.8708296688477901, verbose=-1))])</pre><b>In a Jupyter environment, please rerun this cell to show the HTML representation or trust the notebook. <br />On GitHub, the HTML representation is unable to render, please try loading this page with nbviewer.org.</b></div><div class=\"sk-container\" hidden><div class=\"sk-item sk-dashed-wrapped\"><div class=\"sk-label-container\"><div class=\"sk-label sk-toggleable\"><input class=\"sk-toggleable__control sk-hidden--visually\" id=\"sk-estimator-id-2\" type=\"checkbox\" ><label for=\"sk-estimator-id-2\" class=\"sk-toggleable__label sk-toggleable__label-arrow\">Pipeline</label><div class=\"sk-toggleable__content\"><pre>Pipeline(steps=[(&#x27;preprocess&#x27;,\n",
       "                 Pipeline(steps=[(&#x27;imputers&#x27;,\n",
       "                                  PolarsColumnTransformer(steps=OrderedDict([(&#x27;emp_title&#x27;,\n",
       "                                                                              &lt;functions.transformers.PolarsColumnTransformer.Step object at 0x7f168fe8ee80&gt;),\n",
       "                                                                             (&#x27;emp_length&#x27;,\n",
       "                                                                              &lt;functions.transformers.PolarsColumnTransformer.Step object at 0x7f168fe8ef70&gt;),\n",
       "                                                                             (&#x27;zip_code&#x27;,\n",
       "                                                                              &lt;functions.transformers.PolarsColumnTransformer.Step obje...\n",
       "                 LGBMClassifier(bagging_freq=6,\n",
       "                                colsample_bytree=0.5167584359479642,\n",
       "                                force_col_wise=True,\n",
       "                                learning_rate=0.07073565588841094, max_bin=48,\n",
       "                                max_depth=23, n_estimators=188, num_leaves=1914,\n",
       "                                num_threads=12, objective=&#x27;multiclass&#x27;,\n",
       "                                random_state=RandomState(MT19937) at 0x7F1691AA8540,\n",
       "                                reg_alpha=12.533291967833335,\n",
       "                                reg_lambda=0.00745184747969614,\n",
       "                                subsample=0.8708296688477901, verbose=-1))])</pre></div></div></div><div class=\"sk-serial\"><div class=\"sk-item\"><div class=\"sk-label-container\"><div class=\"sk-label sk-toggleable\"><input class=\"sk-toggleable__control sk-hidden--visually\" id=\"sk-estimator-id-3\" type=\"checkbox\" ><label for=\"sk-estimator-id-3\" class=\"sk-toggleable__label sk-toggleable__label-arrow\">preprocess: Pipeline</label><div class=\"sk-toggleable__content\"><pre>Pipeline(steps=[(&#x27;imputers&#x27;,\n",
       "                 PolarsColumnTransformer(steps=OrderedDict([(&#x27;emp_title&#x27;,\n",
       "                                                             &lt;functions.transformers.PolarsColumnTransformer.Step object at 0x7f168fe8ee80&gt;),\n",
       "                                                            (&#x27;emp_length&#x27;,\n",
       "                                                             &lt;functions.transformers.PolarsColumnTransformer.Step object at 0x7f168fe8ef70&gt;),\n",
       "                                                            (&#x27;zip_code&#x27;,\n",
       "                                                             &lt;functions.transformers.PolarsColumnTransformer.Step object at 0x7f168fe8e0a0&gt;)]))),\n",
       "                (&#x27;enc...\n",
       "                                                             &lt;functions.transformers.PolarsColumnTransformer.Step object at 0x7f1849f28760&gt;),\n",
       "                                                            (&#x27;year_enc&#x27;,\n",
       "                                                             &lt;functions.transformers.PolarsColumnTransformer.Step object at 0x7f1849f2d940&gt;),\n",
       "                                                            (&#x27;verif_enc_joint&#x27;,\n",
       "                                                             &lt;functions.transformers.PolarsColumnTransformer.Step object at 0x7f16b90fbb20&gt;)]))),\n",
       "                (&#x27;null_imputer&#x27;, PolarsNullImputer(fill_value=-9)),\n",
       "                (&#x27;feature_dropper&#x27;, FeatureRemover())])</pre></div></div></div><div class=\"sk-serial\"><div class=\"sk-item\"><div class=\"sk-estimator sk-toggleable\"><input class=\"sk-toggleable__control sk-hidden--visually\" id=\"sk-estimator-id-4\" type=\"checkbox\" ><label for=\"sk-estimator-id-4\" class=\"sk-toggleable__label sk-toggleable__label-arrow\">PolarsColumnTransformer</label><div class=\"sk-toggleable__content\"><pre>PolarsColumnTransformer(steps=OrderedDict([(&#x27;emp_title&#x27;,\n",
       "                                            &lt;functions.transformers.PolarsColumnTransformer.Step object at 0x7f168fe8ee80&gt;),\n",
       "                                           (&#x27;emp_length&#x27;,\n",
       "                                            &lt;functions.transformers.PolarsColumnTransformer.Step object at 0x7f168fe8ef70&gt;),\n",
       "                                           (&#x27;zip_code&#x27;,\n",
       "                                            &lt;functions.transformers.PolarsColumnTransformer.Step object at 0x7f168fe8e0a0&gt;)]))</pre></div></div></div><div class=\"sk-item\"><div class=\"sk-estimator sk-toggleable\"><input class=\"sk-toggleable__control sk-hidden--visually\" id=\"sk-estimator-id-5\" type=\"checkbox\" ><label for=\"sk-estimator-id-5\" class=\"sk-toggleable__label sk-toggleable__label-arrow\">PolarsColumnTransformer</label><div class=\"sk-toggleable__content\"><pre>PolarsColumnTransformer(steps=OrderedDict([(&#x27;emp_t_enc&#x27;,\n",
       "                                            &lt;functions.transformers.PolarsColumnTransformer.Step object at 0x7f168fe8e970&gt;),\n",
       "                                           (&#x27;emp_l_enc&#x27;,\n",
       "                                            &lt;functions.transformers.PolarsColumnTransformer.Step object at 0x7f168fe8e0d0&gt;),\n",
       "                                           (&#x27;home_enc&#x27;,\n",
       "                                            &lt;functions.transformers.PolarsColumnTransformer.Step object at 0x7f168fe8eeb0&gt;),\n",
       "                                           (&#x27;verif_enc&#x27;,\n",
       "                                            &lt;functions.transformers.P...\n",
       "                                            &lt;functions.transformers.PolarsColumnTransformer.Step object at 0x7f1849f28520&gt;),\n",
       "                                           (&#x27;init_stat_enc&#x27;,\n",
       "                                            &lt;functions.transformers.PolarsColumnTransformer.Step object at 0x7f1849f28760&gt;),\n",
       "                                           (&#x27;year_enc&#x27;,\n",
       "                                            &lt;functions.transformers.PolarsColumnTransformer.Step object at 0x7f1849f2d940&gt;),\n",
       "                                           (&#x27;verif_enc_joint&#x27;,\n",
       "                                            &lt;functions.transformers.PolarsColumnTransformer.Step object at 0x7f16b90fbb20&gt;)]))</pre></div></div></div><div class=\"sk-item\"><div class=\"sk-estimator sk-toggleable\"><input class=\"sk-toggleable__control sk-hidden--visually\" id=\"sk-estimator-id-6\" type=\"checkbox\" ><label for=\"sk-estimator-id-6\" class=\"sk-toggleable__label sk-toggleable__label-arrow\">PolarsNullImputer</label><div class=\"sk-toggleable__content\"><pre>PolarsNullImputer(fill_value=-9)</pre></div></div></div><div class=\"sk-item\"><div class=\"sk-estimator sk-toggleable\"><input class=\"sk-toggleable__control sk-hidden--visually\" id=\"sk-estimator-id-7\" type=\"checkbox\" ><label for=\"sk-estimator-id-7\" class=\"sk-toggleable__label sk-toggleable__label-arrow\">FeatureRemover</label><div class=\"sk-toggleable__content\"><pre>FeatureRemover()</pre></div></div></div></div></div><div class=\"sk-item\"><div class=\"sk-estimator sk-toggleable\"><input class=\"sk-toggleable__control sk-hidden--visually\" id=\"sk-estimator-id-8\" type=\"checkbox\" ><label for=\"sk-estimator-id-8\" class=\"sk-toggleable__label sk-toggleable__label-arrow\">LGBMClassifier</label><div class=\"sk-toggleable__content\"><pre>LGBMClassifier(bagging_freq=6, colsample_bytree=0.5167584359479642,\n",
       "               force_col_wise=True, learning_rate=0.07073565588841094,\n",
       "               max_bin=48, max_depth=23, n_estimators=188, num_leaves=1914,\n",
       "               num_threads=12, objective=&#x27;multiclass&#x27;,\n",
       "               random_state=RandomState(MT19937) at 0x7F1691AA8540,\n",
       "               reg_alpha=12.533291967833335, reg_lambda=0.00745184747969614,\n",
       "               subsample=0.8708296688477901, verbose=-1)</pre></div></div></div></div></div></div></div>"
      ],
      "text/plain": [
       "Pipeline(steps=[('preprocess',\n",
       "                 Pipeline(steps=[('imputers',\n",
       "                                  PolarsColumnTransformer(steps=OrderedDict([('emp_title',\n",
       "                                                                              <functions.transformers.PolarsColumnTransformer.Step object at 0x7f168fe8ee80>),\n",
       "                                                                             ('emp_length',\n",
       "                                                                              <functions.transformers.PolarsColumnTransformer.Step object at 0x7f168fe8ef70>),\n",
       "                                                                             ('zip_code',\n",
       "                                                                              <functions.transformers.PolarsColumnTransformer.Step obje...\n",
       "                 LGBMClassifier(bagging_freq=6,\n",
       "                                colsample_bytree=0.5167584359479642,\n",
       "                                force_col_wise=True,\n",
       "                                learning_rate=0.07073565588841094, max_bin=48,\n",
       "                                max_depth=23, n_estimators=188, num_leaves=1914,\n",
       "                                num_threads=12, objective='multiclass',\n",
       "                                random_state=RandomState(MT19937) at 0x7F1691AA8540,\n",
       "                                reg_alpha=12.533291967833335,\n",
       "                                reg_lambda=0.00745184747969614,\n",
       "                                subsample=0.8708296688477901, verbose=-1))])"
      ]
     },
     "execution_count": 30,
     "metadata": {},
     "output_type": "execute_result"
    }
   ],
   "source": [
    "joint_grade_classifier.pipeline.fit(X_train_joint.vstack(X_val_joint),pl.concat([y_train_joint,y_val_joint]))"
   ]
  },
  {
   "cell_type": "code",
   "execution_count": 36,
   "metadata": {},
   "outputs": [
    {
     "name": "stdout",
     "output_type": "stream",
     "text": [
      "              precision    recall  f1-score   support\n",
      "\n",
      "           1       0.76      0.76      0.76      6921\n",
      "           2       0.50      0.60      0.55      8069\n",
      "           3       0.47      0.38      0.42      7397\n",
      "           4       0.39      0.50      0.44      4496\n",
      "           5       0.30      0.11      0.16      1521\n",
      "           6       0.16      0.03      0.04       275\n",
      "           7       0.00      0.00      0.00        78\n",
      "\n",
      "    accuracy                           0.53     28757\n",
      "   macro avg       0.37      0.34      0.34     28757\n",
      "weighted avg       0.52      0.53      0.52     28757\n",
      "\n"
     ]
    },
    {
     "name": "stderr",
     "output_type": "stream",
     "text": [
      "Precision and F-score are ill-defined and being set to 0.0 in labels with no predicted samples. Use `zero_division` parameter to control this behavior.\n",
      "Precision and F-score are ill-defined and being set to 0.0 in labels with no predicted samples. Use `zero_division` parameter to control this behavior.\n",
      "Precision and F-score are ill-defined and being set to 0.0 in labels with no predicted samples. Use `zero_division` parameter to control this behavior.\n"
     ]
    }
   ],
   "source": [
    "preds_joint_grade_final=joint_grade_classifier.pipeline.predict(X_test_joint)\n",
    "print(classification_report(y_test_joint,preds_joint_grade_final))"
   ]
  },
  {
   "cell_type": "markdown",
   "metadata": {},
   "source": [
    "##### Exporting the final model:"
   ]
  },
  {
   "cell_type": "code",
   "execution_count": 31,
   "metadata": {},
   "outputs": [
    {
     "data": {
      "text/plain": [
       "['trained_models/model_joint_grade.joblib']"
      ]
     },
     "execution_count": 31,
     "metadata": {},
     "output_type": "execute_result"
    }
   ],
   "source": [
    "joint_grade_classifier.pipeline.fit(\n",
    "    X_train_joint.vstack(X_val_joint).vstack(X_test_joint),\n",
    "    pl.concat([y_train_joint, y_val_joint, y_test_joint]),\n",
    ")\n",
    "\n",
    "joblib.dump(joint_grade_classifier.pipeline, \"trained_models/model_joint_grade.joblib\")"
   ]
  },
  {
   "cell_type": "markdown",
   "metadata": {},
   "source": [
    "## Sub-grade Prediction"
   ]
  },
  {
   "cell_type": "markdown",
   "metadata": {},
   "source": [
    "##### Setting up the target variables:"
   ]
  },
  {
   "cell_type": "code",
   "execution_count": 38,
   "metadata": {},
   "outputs": [],
   "source": [
    "data_train_single=dmf.label_target_sub_grades(data_train_single,)\n",
    "data_val_single=dmf.label_target_sub_grades(data_val_single,)\n",
    "data_test_single=dmf.label_target_sub_grades(data_test_single)\n",
    "data_train_joint=dmf.label_target_sub_grades(data_train_joint,)\n",
    "data_val_joint=dmf.label_target_sub_grades(data_val_joint,)\n",
    "data_test_joint=dmf.label_target_sub_grades(data_test_joint)"
   ]
  },
  {
   "cell_type": "code",
   "execution_count": 39,
   "metadata": {},
   "outputs": [],
   "source": [
    "y_train_single_subgrade=data_train_single['sub_grade']\n",
    "y_val_single_subgrade=data_val_single['sub_grade']\n",
    "y_test_single_subgrade=data_test_single['sub_grade']\n",
    "y_train_joint_subgrade=data_train_joint['sub_grade']\n",
    "y_val_joint_subgrade=data_val_joint['sub_grade']\n",
    "y_test_joint_subgrade=data_test_joint['sub_grade']"
   ]
  },
  {
   "cell_type": "markdown",
   "metadata": {},
   "source": [
    "### Single Application Sub-Grade Model"
   ]
  },
  {
   "cell_type": "markdown",
   "metadata": {},
   "source": [
    "#### Setting up the pipeline:"
   ]
  },
  {
   "cell_type": "code",
   "execution_count": 52,
   "metadata": {},
   "outputs": [],
   "source": [
    "preprocess_single_subgrade_cl = copy.deepcopy(preprocess_single)\n",
    "preprocess_single_subgrade_rg = copy.deepcopy(preprocess_single)\n",
    "\n",
    "model_single_sg_cl = lgb.LGBMClassifier(\n",
    "    objective=\"multiclass\",\n",
    "    verbose=-1,\n",
    "    force_col_wise=True,\n",
    "    random_state=1,\n",
    "    num_threads=1,\n",
    ")\n",
    "\n",
    "model_single_sg_rg = lgb.LGBMRegressor(\n",
    "    verbose=-1, force_col_wise=True, random_state=1, num_threads=1\n",
    ")\n",
    "regressor_wraper_single=tr.ModelWrapper(model_single_sg_rg)\n",
    "\n",
    "sub_grade_rounder = tr.RoundToRangeTransformer(1, 35)\n",
    "pipeline_single_sg_cl = Pipeline(\n",
    "    [(\"preprocess\", preprocess_single_subgrade_cl), (\"model\", model_single_sg_cl)]\n",
    ")\n",
    "pipeline_single_sg_rg = Pipeline(\n",
    "    [\n",
    "        (\"preprocess\", preprocess_single_subgrade_rg),\n",
    "        (\"model\", regressor_wraper_single),\n",
    "        (\"rounding\", sub_grade_rounder),\n",
    "    ]\n",
    ")"
   ]
  },
  {
   "cell_type": "code",
   "execution_count": 51,
   "metadata": {},
   "outputs": [
    {
     "ename": "KeyboardInterrupt",
     "evalue": "",
     "output_type": "error",
     "traceback": [
      "\u001b[0;31m---------------------------------------------------------------------------\u001b[0m",
      "\u001b[0;31mKeyboardInterrupt\u001b[0m                         Traceback (most recent call last)",
      "\u001b[1;32m/home/gediminas/Documents/turing_projects/module3_s3/gskvar-ML.3/model_2_grade.ipynb Cell 76\u001b[0m line \u001b[0;36m1\n\u001b[0;32m----> <a href='vscode-notebook-cell:/home/gediminas/Documents/turing_projects/module3_s3/gskvar-ML.3/model_2_grade.ipynb#Y123sZmlsZQ%3D%3D?line=0'>1</a>\u001b[0m pipeline_single_sg_cl\u001b[39m.\u001b[39;49mfit(\n\u001b[1;32m      <a href='vscode-notebook-cell:/home/gediminas/Documents/turing_projects/module3_s3/gskvar-ML.3/model_2_grade.ipynb#Y123sZmlsZQ%3D%3D?line=1'>2</a>\u001b[0m     X_train_single\u001b[39m.\u001b[39;49msample(\u001b[39m50000\u001b[39;49m, seed\u001b[39m=\u001b[39;49m\u001b[39m1\u001b[39;49m), y_train_single_subgrade\u001b[39m.\u001b[39;49msample(\u001b[39m50000\u001b[39;49m, seed\u001b[39m=\u001b[39;49m\u001b[39m1\u001b[39;49m)\n\u001b[1;32m      <a href='vscode-notebook-cell:/home/gediminas/Documents/turing_projects/module3_s3/gskvar-ML.3/model_2_grade.ipynb#Y123sZmlsZQ%3D%3D?line=2'>3</a>\u001b[0m )\n\u001b[1;32m      <a href='vscode-notebook-cell:/home/gediminas/Documents/turing_projects/module3_s3/gskvar-ML.3/model_2_grade.ipynb#Y123sZmlsZQ%3D%3D?line=3'>4</a>\u001b[0m pipeline_single_sg_rg\u001b[39m.\u001b[39mfit(\n\u001b[1;32m      <a href='vscode-notebook-cell:/home/gediminas/Documents/turing_projects/module3_s3/gskvar-ML.3/model_2_grade.ipynb#Y123sZmlsZQ%3D%3D?line=4'>5</a>\u001b[0m     X_train_single\u001b[39m.\u001b[39msample(\u001b[39m50000\u001b[39m, seed\u001b[39m=\u001b[39m\u001b[39m1\u001b[39m), y_train_single_subgrade\u001b[39m.\u001b[39msample(\u001b[39m50000\u001b[39m, seed\u001b[39m=\u001b[39m\u001b[39m1\u001b[39m)\n\u001b[1;32m      <a href='vscode-notebook-cell:/home/gediminas/Documents/turing_projects/module3_s3/gskvar-ML.3/model_2_grade.ipynb#Y123sZmlsZQ%3D%3D?line=5'>6</a>\u001b[0m )\n\u001b[1;32m      <a href='vscode-notebook-cell:/home/gediminas/Documents/turing_projects/module3_s3/gskvar-ML.3/model_2_grade.ipynb#Y123sZmlsZQ%3D%3D?line=7'>8</a>\u001b[0m initial_preds_sg_cl \u001b[39m=\u001b[39m pipeline_single_sg_cl\u001b[39m.\u001b[39mpredict(X_val_single\u001b[39m.\u001b[39msample(\u001b[39m10000\u001b[39m, seed\u001b[39m=\u001b[39m\u001b[39m1\u001b[39m))\n",
      "File \u001b[0;32m~/anaconda3/lib/python3.9/site-packages/sklearn/base.py:1152\u001b[0m, in \u001b[0;36m_fit_context.<locals>.decorator.<locals>.wrapper\u001b[0;34m(estimator, *args, **kwargs)\u001b[0m\n\u001b[1;32m   1145\u001b[0m     estimator\u001b[39m.\u001b[39m_validate_params()\n\u001b[1;32m   1147\u001b[0m \u001b[39mwith\u001b[39;00m config_context(\n\u001b[1;32m   1148\u001b[0m     skip_parameter_validation\u001b[39m=\u001b[39m(\n\u001b[1;32m   1149\u001b[0m         prefer_skip_nested_validation \u001b[39mor\u001b[39;00m global_skip_validation\n\u001b[1;32m   1150\u001b[0m     )\n\u001b[1;32m   1151\u001b[0m ):\n\u001b[0;32m-> 1152\u001b[0m     \u001b[39mreturn\u001b[39;00m fit_method(estimator, \u001b[39m*\u001b[39;49margs, \u001b[39m*\u001b[39;49m\u001b[39m*\u001b[39;49mkwargs)\n",
      "File \u001b[0;32m~/anaconda3/lib/python3.9/site-packages/sklearn/pipeline.py:427\u001b[0m, in \u001b[0;36mPipeline.fit\u001b[0;34m(self, X, y, **fit_params)\u001b[0m\n\u001b[1;32m    425\u001b[0m     \u001b[39mif\u001b[39;00m \u001b[39mself\u001b[39m\u001b[39m.\u001b[39m_final_estimator \u001b[39m!=\u001b[39m \u001b[39m\"\u001b[39m\u001b[39mpassthrough\u001b[39m\u001b[39m\"\u001b[39m:\n\u001b[1;32m    426\u001b[0m         fit_params_last_step \u001b[39m=\u001b[39m fit_params_steps[\u001b[39mself\u001b[39m\u001b[39m.\u001b[39msteps[\u001b[39m-\u001b[39m\u001b[39m1\u001b[39m][\u001b[39m0\u001b[39m]]\n\u001b[0;32m--> 427\u001b[0m         \u001b[39mself\u001b[39;49m\u001b[39m.\u001b[39;49m_final_estimator\u001b[39m.\u001b[39;49mfit(Xt, y, \u001b[39m*\u001b[39;49m\u001b[39m*\u001b[39;49mfit_params_last_step)\n\u001b[1;32m    429\u001b[0m \u001b[39mreturn\u001b[39;00m \u001b[39mself\u001b[39m\n",
      "File \u001b[0;32m~/anaconda3/lib/python3.9/site-packages/lightgbm/sklearn.py:1142\u001b[0m, in \u001b[0;36mLGBMClassifier.fit\u001b[0;34m(self, X, y, sample_weight, init_score, eval_set, eval_names, eval_sample_weight, eval_class_weight, eval_init_score, eval_metric, feature_name, categorical_feature, callbacks, init_model)\u001b[0m\n\u001b[1;32m   1139\u001b[0m         \u001b[39melse\u001b[39;00m:\n\u001b[1;32m   1140\u001b[0m             valid_sets\u001b[39m.\u001b[39mappend((valid_x, \u001b[39mself\u001b[39m\u001b[39m.\u001b[39m_le\u001b[39m.\u001b[39mtransform(valid_y)))\n\u001b[0;32m-> 1142\u001b[0m \u001b[39msuper\u001b[39;49m()\u001b[39m.\u001b[39;49mfit(\n\u001b[1;32m   1143\u001b[0m     X,\n\u001b[1;32m   1144\u001b[0m     _y,\n\u001b[1;32m   1145\u001b[0m     sample_weight\u001b[39m=\u001b[39;49msample_weight,\n\u001b[1;32m   1146\u001b[0m     init_score\u001b[39m=\u001b[39;49minit_score,\n\u001b[1;32m   1147\u001b[0m     eval_set\u001b[39m=\u001b[39;49mvalid_sets,\n\u001b[1;32m   1148\u001b[0m     eval_names\u001b[39m=\u001b[39;49meval_names,\n\u001b[1;32m   1149\u001b[0m     eval_sample_weight\u001b[39m=\u001b[39;49meval_sample_weight,\n\u001b[1;32m   1150\u001b[0m     eval_class_weight\u001b[39m=\u001b[39;49meval_class_weight,\n\u001b[1;32m   1151\u001b[0m     eval_init_score\u001b[39m=\u001b[39;49meval_init_score,\n\u001b[1;32m   1152\u001b[0m     eval_metric\u001b[39m=\u001b[39;49meval_metric,\n\u001b[1;32m   1153\u001b[0m     feature_name\u001b[39m=\u001b[39;49mfeature_name,\n\u001b[1;32m   1154\u001b[0m     categorical_feature\u001b[39m=\u001b[39;49mcategorical_feature,\n\u001b[1;32m   1155\u001b[0m     callbacks\u001b[39m=\u001b[39;49mcallbacks,\n\u001b[1;32m   1156\u001b[0m     init_model\u001b[39m=\u001b[39;49minit_model\n\u001b[1;32m   1157\u001b[0m )\n\u001b[1;32m   1158\u001b[0m \u001b[39mreturn\u001b[39;00m \u001b[39mself\u001b[39m\n",
      "File \u001b[0;32m~/anaconda3/lib/python3.9/site-packages/lightgbm/sklearn.py:842\u001b[0m, in \u001b[0;36mLGBMModel.fit\u001b[0;34m(self, X, y, sample_weight, init_score, group, eval_set, eval_names, eval_sample_weight, eval_class_weight, eval_init_score, eval_group, eval_metric, feature_name, categorical_feature, callbacks, init_model)\u001b[0m\n\u001b[1;32m    839\u001b[0m evals_result: _EvalResultDict \u001b[39m=\u001b[39m {}\n\u001b[1;32m    840\u001b[0m callbacks\u001b[39m.\u001b[39mappend(record_evaluation(evals_result))\n\u001b[0;32m--> 842\u001b[0m \u001b[39mself\u001b[39m\u001b[39m.\u001b[39m_Booster \u001b[39m=\u001b[39m train(\n\u001b[1;32m    843\u001b[0m     params\u001b[39m=\u001b[39;49mparams,\n\u001b[1;32m    844\u001b[0m     train_set\u001b[39m=\u001b[39;49mtrain_set,\n\u001b[1;32m    845\u001b[0m     num_boost_round\u001b[39m=\u001b[39;49m\u001b[39mself\u001b[39;49m\u001b[39m.\u001b[39;49mn_estimators,\n\u001b[1;32m    846\u001b[0m     valid_sets\u001b[39m=\u001b[39;49mvalid_sets,\n\u001b[1;32m    847\u001b[0m     valid_names\u001b[39m=\u001b[39;49meval_names,\n\u001b[1;32m    848\u001b[0m     feval\u001b[39m=\u001b[39;49meval_metrics_callable,  \u001b[39m# type: ignore[arg-type]\u001b[39;49;00m\n\u001b[1;32m    849\u001b[0m     init_model\u001b[39m=\u001b[39;49minit_model,\n\u001b[1;32m    850\u001b[0m     feature_name\u001b[39m=\u001b[39;49mfeature_name,\n\u001b[1;32m    851\u001b[0m     callbacks\u001b[39m=\u001b[39;49mcallbacks\n\u001b[1;32m    852\u001b[0m )\n\u001b[1;32m    854\u001b[0m \u001b[39mself\u001b[39m\u001b[39m.\u001b[39m_evals_result \u001b[39m=\u001b[39m evals_result\n\u001b[1;32m    855\u001b[0m \u001b[39mself\u001b[39m\u001b[39m.\u001b[39m_best_iteration \u001b[39m=\u001b[39m \u001b[39mself\u001b[39m\u001b[39m.\u001b[39m_Booster\u001b[39m.\u001b[39mbest_iteration\n",
      "File \u001b[0;32m~/anaconda3/lib/python3.9/site-packages/lightgbm/engine.py:266\u001b[0m, in \u001b[0;36mtrain\u001b[0;34m(params, train_set, num_boost_round, valid_sets, valid_names, feval, init_model, feature_name, categorical_feature, keep_training_booster, callbacks)\u001b[0m\n\u001b[1;32m    258\u001b[0m \u001b[39mfor\u001b[39;00m cb \u001b[39min\u001b[39;00m callbacks_before_iter:\n\u001b[1;32m    259\u001b[0m     cb(callback\u001b[39m.\u001b[39mCallbackEnv(model\u001b[39m=\u001b[39mbooster,\n\u001b[1;32m    260\u001b[0m                             params\u001b[39m=\u001b[39mparams,\n\u001b[1;32m    261\u001b[0m                             iteration\u001b[39m=\u001b[39mi,\n\u001b[1;32m    262\u001b[0m                             begin_iteration\u001b[39m=\u001b[39minit_iteration,\n\u001b[1;32m    263\u001b[0m                             end_iteration\u001b[39m=\u001b[39minit_iteration \u001b[39m+\u001b[39m num_boost_round,\n\u001b[1;32m    264\u001b[0m                             evaluation_result_list\u001b[39m=\u001b[39m\u001b[39mNone\u001b[39;00m))\n\u001b[0;32m--> 266\u001b[0m booster\u001b[39m.\u001b[39;49mupdate(fobj\u001b[39m=\u001b[39;49mfobj)\n\u001b[1;32m    268\u001b[0m evaluation_result_list: List[_LGBM_BoosterEvalMethodResultType] \u001b[39m=\u001b[39m []\n\u001b[1;32m    269\u001b[0m \u001b[39m# check evaluation result.\u001b[39;00m\n",
      "File \u001b[0;32m~/anaconda3/lib/python3.9/site-packages/lightgbm/basic.py:3557\u001b[0m, in \u001b[0;36mBooster.update\u001b[0;34m(self, train_set, fobj)\u001b[0m\n\u001b[1;32m   3555\u001b[0m \u001b[39mif\u001b[39;00m \u001b[39mself\u001b[39m\u001b[39m.\u001b[39m__set_objective_to_none:\n\u001b[1;32m   3556\u001b[0m     \u001b[39mraise\u001b[39;00m LightGBMError(\u001b[39m'\u001b[39m\u001b[39mCannot update due to null objective function.\u001b[39m\u001b[39m'\u001b[39m)\n\u001b[0;32m-> 3557\u001b[0m _safe_call(_LIB\u001b[39m.\u001b[39;49mLGBM_BoosterUpdateOneIter(\n\u001b[1;32m   3558\u001b[0m     \u001b[39mself\u001b[39;49m\u001b[39m.\u001b[39;49m_handle,\n\u001b[1;32m   3559\u001b[0m     ctypes\u001b[39m.\u001b[39;49mbyref(is_finished)))\n\u001b[1;32m   3560\u001b[0m \u001b[39mself\u001b[39m\u001b[39m.\u001b[39m__is_predicted_cur_iter \u001b[39m=\u001b[39m [\u001b[39mFalse\u001b[39;00m \u001b[39mfor\u001b[39;00m _ \u001b[39min\u001b[39;00m \u001b[39mrange\u001b[39m(\u001b[39mself\u001b[39m\u001b[39m.\u001b[39m__num_dataset)]\n\u001b[1;32m   3561\u001b[0m \u001b[39mreturn\u001b[39;00m is_finished\u001b[39m.\u001b[39mvalue \u001b[39m==\u001b[39m \u001b[39m1\u001b[39m\n",
      "\u001b[0;31mKeyboardInterrupt\u001b[0m: "
     ]
    }
   ],
   "source": [
    "pipeline_single_sg_cl.fit(\n",
    "    X_train_single.sample(50000, seed=1), y_train_single_subgrade.sample(50000, seed=1)\n",
    ")\n",
    "pipeline_single_sg_rg.fit(\n",
    "    X_train_single.sample(50000, seed=1), y_train_single_subgrade.sample(50000, seed=1)\n",
    ")\n",
    "\n",
    "initial_preds_sg_cl = pipeline_single_sg_cl.predict(X_val_single.sample(10000, seed=1))\n",
    "initial_preds_sg_rg = pipeline_single_sg_rg.predict(X_val_single.sample(10000, seed=1))\n",
    "\n",
    "print(\n",
    "    f1_score(\n",
    "        y_val_single_subgrade.sample(10000, seed=1),\n",
    "        initial_preds_sg_cl,\n",
    "        average=\"macro\",\n",
    "    )\n",
    ")\n",
    "print(\n",
    "    f1_score(\n",
    "        y_val_single_subgrade.sample(10000, seed=1),\n",
    "        initial_preds_sg_rg,\n",
    "        average=\"macro\",\n",
    "    )\n",
    ")"
   ]
  },
  {
   "cell_type": "code",
   "execution_count": 54,
   "metadata": {},
   "outputs": [
    {
     "data": {
      "text/plain": [
       "[('preprocess',\n",
       "  Pipeline(steps=[('imputers',\n",
       "                   PolarsColumnTransformer(steps=OrderedDict([('emp_title',\n",
       "                                                               <functions.transformers.PolarsColumnTransformer.Step object at 0x7f9899d2d580>),\n",
       "                                                              ('emp_length',\n",
       "                                                               <functions.transformers.PolarsColumnTransformer.Step object at 0x7f9899d2c430>),\n",
       "                                                              ('zip_code',\n",
       "                                                               <functions.transformers.PolarsColumnTransformer.Step object at 0x7f9899d2c520>)]))),\n",
       "                  ('enc...\n",
       "                                                               <functions.transformers.PolarsColumnTransformer.Step object at 0x7f9899d2f4f0>),\n",
       "                                                              ('disbursement_enc',\n",
       "                                                               <functions.transformers.PolarsColumnTransformer.Step object at 0x7f9899d2f640>),\n",
       "                                                              ('year_enc',\n",
       "                                                               <functions.transformers.PolarsColumnTransformer.Step object at 0x7f9899d2f790>)]))),\n",
       "                  ('null_imputer', PolarsNullImputer(fill_value=-9)),\n",
       "                  ('feature_dropper', FeatureRemover())])),\n",
       " ('model',\n",
       "  ModelWrapper(model=LGBMRegressor(force_col_wise=True, num_threads=1,\n",
       "                                   random_state=1, verbose=-1))),\n",
       " ('rounding', RoundToRangeTransformer(max_value=35, min_value=1))]"
      ]
     },
     "execution_count": 54,
     "metadata": {},
     "output_type": "execute_result"
    }
   ],
   "source": [
    "pipeline_single_sg_rg.steps"
   ]
  },
  {
   "cell_type": "markdown",
   "metadata": {},
   "source": [
    "#### Tuning"
   ]
  },
  {
   "cell_type": "code",
   "execution_count": 59,
   "metadata": {},
   "outputs": [],
   "source": [
    "models_sub_single = tunes.Models()\n",
    "search_space_sg_cl = {\n",
    "    \"preprocess__feature_dropper__feats_to_drop\": tune.choice(cols_to_drop_space),\n",
    "    \"model__num_leaves\": tune.randint(10, 1025),\n",
    "    \"model__n_estimators\": tune.randint(10, 251),\n",
    "    \"model__learning_rate\": tune.loguniform(0.001, 0.1),\n",
    "    \"model__bagging_freq\": tune.randint(0, 11),\n",
    "    \"model__colsample_bytree\": tune.uniform(0.2, 1.0),\n",
    "    \"model__subsample\": tune.uniform(0.2, 1.0),\n",
    "    \"model__reg_alpha\": tune.loguniform(0.001, 100),\n",
    "    \"model__reg_lambda\": tune.loguniform(0.001, 100),\n",
    "    \"model__boosting_type\": tune.choice([\"gbdt\", \"dart\", \"rf\"]),\n",
    "    \"model__class_weight\": tune.choice([\"balanced\", None]),\n",
    "    \"model__max_bin\": tune.randint(5, 201),\n",
    "}\n",
    "\n",
    "models_sub_single.add_model(\"cl_subgrade_single\", pipeline_single_sg_cl, search_space_sg_cl, metric_threshold=0.1)"
   ]
  },
  {
   "cell_type": "code",
   "execution_count": 60,
   "metadata": {},
   "outputs": [],
   "source": [
    "search_space_sg_rg = {\n",
    "    \"preprocess__feature_dropper__feats_to_drop\": tune.choice(cols_to_drop_space),\n",
    "    'model__param_grid': {\n",
    "    \"num_leaves\": tune.randint(10, 1025),\n",
    "    \"n_estimators\": tune.randint(10, 251),\n",
    "    \"learning_rate\": tune.loguniform(0.001, 0.1),\n",
    "    \"bagging_freq\": tune.randint(0, 11),\n",
    "    \"colsample_bytree\": tune.uniform(0.2, 1.0),\n",
    "    \"subsample\": tune.uniform(0.2, 1.0),\n",
    "    \"reg_alpha\": tune.loguniform(0.001, 100),\n",
    "    \"reg_lambda\": tune.loguniform(0.001, 100),\n",
    "    \"boosting_type\": tune.choice([\"gbdt\", \"dart\", \"rf\"]),\n",
    "    \"class_weight\": tune.choice([\"balanced\", None]),\n",
    "    \"max_bin\": tune.randint(5, 256)}\n",
    "}\n",
    "\n",
    "models_sub_single.add_model(\"rg_subgrade_single\", pipeline_single_sg_rg, search_space_sg_rg, metric_threshold=0.1)"
   ]
  },
  {
   "cell_type": "code",
   "execution_count": 63,
   "metadata": {},
   "outputs": [
    {
     "data": {
      "text/html": [
       "<div class=\"tuneStatus\">\n",
       "  <div style=\"display: flex;flex-direction: row\">\n",
       "    <div style=\"display: flex;flex-direction: column;\">\n",
       "      <h3>Tune Status</h3>\n",
       "      <table>\n",
       "<tbody>\n",
       "<tr><td>Current time:</td><td>2023-10-15 13:16:30</td></tr>\n",
       "<tr><td>Running for: </td><td>00:00:03.43        </td></tr>\n",
       "<tr><td>Memory:      </td><td>14.1/31.2 GiB      </td></tr>\n",
       "</tbody>\n",
       "</table>\n",
       "    </div>\n",
       "    <div class=\"vDivider\"></div>\n",
       "    <div class=\"systemInfo\">\n",
       "      <h3>System Info</h3>\n",
       "      Using FIFO scheduling algorithm.<br>Logical resource usage: 1.0/12 CPUs, 0/1 GPUs (0.0/1.0 accelerator_type:G)\n",
       "    </div>\n",
       "    \n",
       "  </div>\n",
       "  <div class=\"hDivider\"></div>\n",
       "  <div class=\"trialStatus\">\n",
       "    <h3>Trial Status</h3>\n",
       "    <table>\n",
       "<thead>\n",
       "<tr><th>Trial name        </th><th>status  </th><th>loc  </th><th style=\"text-align: right;\">  model__param_grid/ba\n",
       "gging_freq</th><th>model__param_grid/bo\n",
       "osting_type   </th><th>model__param_grid/cl\n",
       "ass_weight         </th><th style=\"text-align: right;\">         model__param_grid/co\n",
       "lsample_bytree</th><th style=\"text-align: right;\">          model__param_grid/le\n",
       "arning_rate</th><th style=\"text-align: right;\">    model__param_grid/ma\n",
       "x_bin</th><th style=\"text-align: right;\">   model__param_grid/n_\n",
       "estimators</th><th style=\"text-align: right;\">    model__param_grid/nu\n",
       "m_leaves</th><th style=\"text-align: right;\">        model__param_grid/re\n",
       "g_alpha</th><th style=\"text-align: right;\">        model__param_grid/re\n",
       "g_lambda</th><th style=\"text-align: right;\">         model__param_grid/su\n",
       "bsample</th><th>...ocess__feature_dr\n",
       "opper__feats_to_drop                     </th></tr>\n",
       "</thead>\n",
       "<tbody>\n",
       "<tr><td>Trainable_76828474</td><td>PENDING </td><td>     </td><td style=\"text-align: right;\">2</td><td>rf</td><td>balanced</td><td style=\"text-align: right;\">0.690884</td><td style=\"text-align: right;\">0.0137112</td><td style=\"text-align: right;\">218</td><td style=\"text-align: right;\">17</td><td style=\"text-align: right;\">930</td><td style=\"text-align: right;\">0.65976</td><td style=\"text-align: right;\">1.62415</td><td style=\"text-align: right;\">0.776151</td><td>[&#x27;home_ownershi_0c00</td></tr>\n",
       "</tbody>\n",
       "</table>\n",
       "  </div>\n",
       "</div>\n",
       "<style>\n",
       ".tuneStatus {\n",
       "  color: var(--jp-ui-font-color1);\n",
       "}\n",
       ".tuneStatus .systemInfo {\n",
       "  display: flex;\n",
       "  flex-direction: column;\n",
       "}\n",
       ".tuneStatus td {\n",
       "  white-space: nowrap;\n",
       "}\n",
       ".tuneStatus .trialStatus {\n",
       "  display: flex;\n",
       "  flex-direction: column;\n",
       "}\n",
       ".tuneStatus h3 {\n",
       "  font-weight: bold;\n",
       "}\n",
       ".tuneStatus .hDivider {\n",
       "  border-bottom-width: var(--jp-border-width);\n",
       "  border-bottom-color: var(--jp-border-color0);\n",
       "  border-bottom-style: solid;\n",
       "}\n",
       ".tuneStatus .vDivider {\n",
       "  border-left-width: var(--jp-border-width);\n",
       "  border-left-color: var(--jp-border-color0);\n",
       "  border-left-style: solid;\n",
       "  margin: 0.5em 1em 0.5em 1em;\n",
       "}\n",
       "</style>\n"
      ],
      "text/plain": [
       "<IPython.core.display.HTML object>"
      ]
     },
     "metadata": {},
     "output_type": "display_data"
    },
    {
     "name": "stderr",
     "output_type": "stream",
     "text": [
      "2023-10-15 13:16:30,343\tWARNING tune.py:194 -- Stop signal received (e.g. via SIGINT/Ctrl+C), ending Ray Tune run. This will try to checkpoint the experiment state one last time. Press CTRL+C (or send SIGINT/SIGKILL/SIGTERM) to skip. \n",
      "2023-10-15 13:16:30,353\tWARNING experiment_state.py:371 -- Experiment checkpoint syncing has been triggered multiple times in the last 30.0 seconds. A sync will be triggered whenever a trial has checkpointed more than `num_to_keep` times since last sync or if 300 seconds have passed since last sync. If you have set `num_to_keep` in your `CheckpointConfig`, consider increasing the checkpoint frequency or keeping more checkpoints. You can supress this warning by changing the `TUNE_WARN_EXCESSIVE_EXPERIMENT_CHECKPOINT_SYNC_THRESHOLD_S` environment variable.\n",
      "2023-10-15 13:16:38,277\tINFO tune.py:1143 -- Total run time: 11.36 seconds (3.42 seconds for the tuning loop).\n",
      "2023-10-15 13:16:38,278\tWARNING tune.py:1158 -- Experiment has been interrupted, but the most recent state was saved.\n",
      "Resume experiment with: Tuner.restore(path=\"/tmp/tune_results/rg_subgrade_single\", trainable=...)\n",
      "2023-10-15 13:16:38,279\tWARNING experiment_analysis.py:205 -- Failed to fetch metrics for 1 trial(s):\n",
      "- Trainable_76828474: FileNotFoundError('Could not fetch metrics for Trainable_76828474: both result.json and progress.csv were not found at /tmp/tune_results/rg_subgrade_single/Trainable_76828474_1_bagging_freq=2,boosting_type=rf,class_weight=balanced,colsample_bytree=0.6909,learning_rate=0.0137,max_bin=21_2023-10-15_13-16-26')\n"
     ]
    },
    {
     "ename": "TypeError",
     "evalue": "sklearn.pipeline.Pipeline.set_params() argument after ** must be a mapping, not NoneType",
     "output_type": "error",
     "traceback": [
      "\u001b[0;31m---------------------------------------------------------------------------\u001b[0m",
      "\u001b[0;31mTypeError\u001b[0m                                 Traceback (most recent call last)",
      "\u001b[1;32m/home/gediminas/Documents/turing_projects/module3_s3/gskvar-ML.3/model_2_grade.ipynb Cell 81\u001b[0m line \u001b[0;36m1\n\u001b[0;32m----> <a href='vscode-notebook-cell:/home/gediminas/Documents/turing_projects/module3_s3/gskvar-ML.3/model_2_grade.ipynb#Y126sZmlsZQ%3D%3D?line=0'>1</a>\u001b[0m models_sub_single\u001b[39m.\u001b[39;49mtune_all(X_train_single,\n\u001b[1;32m      <a href='vscode-notebook-cell:/home/gediminas/Documents/turing_projects/module3_s3/gskvar-ML.3/model_2_grade.ipynb#Y126sZmlsZQ%3D%3D?line=1'>2</a>\u001b[0m     y_train_single_subgrade,\n\u001b[1;32m      <a href='vscode-notebook-cell:/home/gediminas/Documents/turing_projects/module3_s3/gskvar-ML.3/model_2_grade.ipynb#Y126sZmlsZQ%3D%3D?line=2'>3</a>\u001b[0m     X_val_single,\n\u001b[1;32m      <a href='vscode-notebook-cell:/home/gediminas/Documents/turing_projects/module3_s3/gskvar-ML.3/model_2_grade.ipynb#Y126sZmlsZQ%3D%3D?line=3'>4</a>\u001b[0m     y_val_single_subgrade,\n\u001b[1;32m      <a href='vscode-notebook-cell:/home/gediminas/Documents/turing_projects/module3_s3/gskvar-ML.3/model_2_grade.ipynb#Y126sZmlsZQ%3D%3D?line=4'>5</a>\u001b[0m     n\u001b[39m=\u001b[39;49m\u001b[39m360\u001b[39;49m,\n\u001b[1;32m      <a href='vscode-notebook-cell:/home/gediminas/Documents/turing_projects/module3_s3/gskvar-ML.3/model_2_grade.ipynb#Y126sZmlsZQ%3D%3D?line=5'>6</a>\u001b[0m     sample_size\u001b[39m=\u001b[39;49m\u001b[39m20000\u001b[39;49m,\n\u001b[1;32m      <a href='vscode-notebook-cell:/home/gediminas/Documents/turing_projects/module3_s3/gskvar-ML.3/model_2_grade.ipynb#Y126sZmlsZQ%3D%3D?line=6'>7</a>\u001b[0m     average\u001b[39m=\u001b[39;49m\u001b[39m\"\u001b[39;49m\u001b[39mmacro\u001b[39;49m\u001b[39m\"\u001b[39;49m,)\n\u001b[1;32m      <a href='vscode-notebook-cell:/home/gediminas/Documents/turing_projects/module3_s3/gskvar-ML.3/model_2_grade.ipynb#Y126sZmlsZQ%3D%3D?line=8'>9</a>\u001b[0m joblib\u001b[39m.\u001b[39mdump(models_sub_single,\u001b[39m'\u001b[39m\u001b[39mtemp/models_sub_single.joblib\u001b[39m\u001b[39m'\u001b[39m)\n",
      "File \u001b[0;32m~/Documents/turing_projects/module3_s3/gskvar-ML.3/functions/tuning.py:297\u001b[0m, in \u001b[0;36mModels.tune_all\u001b[0;34m(self, X_train, y_train, X_val, y_val, **kwargs)\u001b[0m\n\u001b[1;32m    295\u001b[0m \u001b[39mif\u001b[39;00m model\u001b[39m.\u001b[39moverride_n:\n\u001b[1;32m    296\u001b[0m     kwargs[\u001b[39m\"\u001b[39m\u001b[39mn\u001b[39m\u001b[39m\"\u001b[39m] \u001b[39m=\u001b[39m model\u001b[39m.\u001b[39moverride_n\n\u001b[0;32m--> 297\u001b[0m model\u001b[39m.\u001b[39;49mtune_model(X_train, y_train, X_val, y_val, \u001b[39m*\u001b[39;49m\u001b[39m*\u001b[39;49mkwargs)\n\u001b[1;32m    298\u001b[0m \u001b[39mprint\u001b[39m(\u001b[39mf\u001b[39m\u001b[39m\"\u001b[39m\u001b[39m{\u001b[39;00mname\u001b[39m}\u001b[39;00m\u001b[39m tuned.\u001b[39m\u001b[39m\"\u001b[39m)\n",
      "File \u001b[0;32m~/Documents/turing_projects/module3_s3/gskvar-ML.3/functions/tuning.py:231\u001b[0m, in \u001b[0;36mModels.Model.tune_model\u001b[0;34m(self, X_train, y_train, X_val, y_val, n, n_training, sample_size, average)\u001b[0m\n\u001b[1;32m    229\u001b[0m results \u001b[39m=\u001b[39m tuner\u001b[39m.\u001b[39mfit()\n\u001b[1;32m    230\u001b[0m \u001b[39mself\u001b[39m\u001b[39m.\u001b[39mbest_params \u001b[39m=\u001b[39m results\u001b[39m.\u001b[39mget_best_result()\u001b[39m.\u001b[39mconfig\n\u001b[0;32m--> 231\u001b[0m \u001b[39mself\u001b[39m\u001b[39m.\u001b[39mpipeline\u001b[39m.\u001b[39mset_params(\u001b[39m*\u001b[39m\u001b[39m*\u001b[39m\u001b[39mself\u001b[39m\u001b[39m.\u001b[39mbest_params)\n",
      "\u001b[0;31mTypeError\u001b[0m: sklearn.pipeline.Pipeline.set_params() argument after ** must be a mapping, not NoneType"
     ]
    },
    {
     "name": "stderr",
     "output_type": "stream",
     "text": [
      "\u001b[2m\u001b[36m(Trainable pid=10162)\u001b[0m Trainable.setup took 10.024 seconds. If your trainable is slow to initialize, consider setting reuse_actors=True to reduce actor creation overheads.\n"
     ]
    }
   ],
   "source": [
    "models_sub_single.tune_all(X_train_single,\n",
    "    y_train_single_subgrade,\n",
    "    X_val_single,\n",
    "    y_val_single_subgrade,\n",
    "    n=360,\n",
    "    n_training = 3,\n",
    "    sample_size=20000,\n",
    "    average=\"macro\",)\n",
    "\n",
    "joblib.dump(models_sub_single,'temp/models_sub_single.joblib')"
   ]
  }
 ],
 "metadata": {
  "kernelspec": {
   "display_name": "base",
   "language": "python",
   "name": "python3"
  },
  "language_info": {
   "codemirror_mode": {
    "name": "ipython",
    "version": 3
   },
   "file_extension": ".py",
   "mimetype": "text/x-python",
   "name": "python",
   "nbconvert_exporter": "python",
   "pygments_lexer": "ipython3",
   "version": "3.9.13"
  }
 },
 "nbformat": 4,
 "nbformat_minor": 2
}
