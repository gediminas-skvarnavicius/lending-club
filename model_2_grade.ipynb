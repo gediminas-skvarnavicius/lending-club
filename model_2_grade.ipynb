{
 "cells": [
  {
   "cell_type": "code",
   "execution_count": 12,
   "metadata": {},
   "outputs": [],
   "source": [
    "%reload_ext autoreload\n",
    "%autoreload 1\n",
    "import joblib\n",
    "from ray import tune, train\n",
    "import copy\n",
    "import shap\n",
    "import matplotlib.pyplot as plt\n",
    "import polars as pl\n",
    "import sys\n",
    "import numpy as np\n",
    "from sklearn.model_selection import train_test_split\n",
    "import functions.transformers as tr\n",
    "from functions.transformers import PolarsColumnTransformer as PCT\n",
    "import functions.data_cleaning as dmf\n",
    "import functions.plot_functions as pf\n",
    "import functions.tuning as tunes\n",
    "import functions.feature_engineering as feats\n",
    "import seaborn as sns\n",
    "from sklearn.pipeline import Pipeline\n",
    "from sklearn.metrics import classification_report\n",
    "from sklearn.preprocessing import LabelEncoder\n",
    "from sklearn.preprocessing import OneHotEncoder\n",
    "from sklearn.tree import DecisionTreeClassifier\n",
    "from sklearn.linear_model import LogisticRegression\n",
    "from IPython.display import display,Markdown\n",
    "import lightgbm as lgb\n",
    "%aimport functions.tuning\n",
    "%aimport functions.transformers\n",
    "%aimport functions.data_cleaning\n",
    "%aimport functions.plot_functions\n",
    "%aimport functions.feature_engineering"
   ]
  },
  {
   "cell_type": "code",
   "execution_count": 13,
   "metadata": {},
   "outputs": [],
   "source": [
    "data_train_single=pl.read_parquet('data/data_accepted_single_train.parquet')\n",
    "data_val_single=pl.read_parquet('data/data_accepted_single_val.parquet')\n",
    "data_train_joint=pl.read_parquet('data/data_accepted_joint_train.parquet')\n",
    "data_val_joint=pl.read_parquet('data/data_accepted_joint_val.parquet')"
   ]
  },
  {
   "cell_type": "code",
   "execution_count": 14,
   "metadata": {},
   "outputs": [],
   "source": [
    "data_train_single=dmf.clean_accepted_single(data_train_single)\n",
    "data_val_single=dmf.clean_accepted_single(data_val_single)\n",
    "data_train_joint=dmf.clean_accepted_joint(data_train_joint)\n",
    "data_val_joint=dmf.clean_accepted_joint(data_val_joint)"
   ]
  },
  {
   "cell_type": "markdown",
   "metadata": {},
   "source": [
    "### Feature Engineering"
   ]
  },
  {
   "cell_type": "code",
   "execution_count": 15,
   "metadata": {},
   "outputs": [],
   "source": [
    "data_train_single=feats.date_features(data_train_single,'issue_d')\n",
    "data_val_single=feats.date_features(data_val_single,'issue_d')\n",
    "data_train_joint=feats.date_features(data_train_joint,'issue_d')\n",
    "data_val_joint=feats.date_features(data_val_joint,'issue_d')"
   ]
  },
  {
   "cell_type": "code",
   "execution_count": 16,
   "metadata": {},
   "outputs": [],
   "source": [
    "data_train_single=dmf.label_target_grades(data_train_single,)\n",
    "data_val_single=dmf.label_target_grades(data_val_single,)\n",
    "data_train_joint=dmf.label_target_grades(data_train_joint,)\n",
    "data_val_joint=dmf.label_target_grades(data_val_joint,)"
   ]
  },
  {
   "cell_type": "code",
   "execution_count": 17,
   "metadata": {},
   "outputs": [],
   "source": [
    "X_train_single=data_train_single.drop(columns=['grade','sub_grade','int_rate','issue_d'])\n",
    "y_train_single=data_train_single['grade']\n",
    "\n",
    "X_val_single=data_val_single.drop(columns=['grade','sub_grade','int_rate','issue_d'])\n",
    "y_val_single=data_val_single['grade']\n",
    "\n",
    "X_train_joint=data_train_joint.drop(columns=['grade','sub_grade','int_rate','issue_d'])\n",
    "y_train_joint=data_train_joint['grade']\n",
    "\n",
    "X_val_joint=data_val_joint.drop(columns=['grade','sub_grade','int_rate','issue_d'])\n",
    "y_val_joint=data_val_joint['grade']\n"
   ]
  },
  {
   "cell_type": "markdown",
   "metadata": {},
   "source": [
    "#### Imputers"
   ]
  },
  {
   "cell_type": "code",
   "execution_count": 18,
   "metadata": {},
   "outputs": [],
   "source": [
    "preprocess_single=Pipeline([])"
   ]
  },
  {
   "cell_type": "code",
   "execution_count": 19,
   "metadata": {},
   "outputs": [],
   "source": [
    "emp_title_imp = tr.NotInImputerPolars(cat_no=20, fill_value=\"other\")\n",
    "emp_length_imp = tr.NotInImputerPolars(cat_no=12, fill_value=None)\n",
    "zip_imp = tr.NotInImputerPolars(cat_no=12, fill_value='other')\n",
    "imputers = PCT(\n",
    "    [\n",
    "        PCT.Step(\"emp_title\", emp_title_imp, \"emp_title\"),\n",
    "        PCT.Step(\"emp_length\", emp_length_imp, \"emp_length\"),\n",
    "        PCT.Step(\"zip_code\", zip_imp,'zip_code')\n",
    "    ]\n",
    ")\n",
    "preprocess_single.steps.append((\"imputers\",imputers))"
   ]
  },
  {
   "cell_type": "markdown",
   "metadata": {},
   "source": [
    "### Encoders"
   ]
  },
  {
   "cell_type": "code",
   "execution_count": 20,
   "metadata": {},
   "outputs": [],
   "source": [
    "emp_t_enc = tr.TargetMeanOrderedLabeler(how=\"label\")\n",
    "emp_l_order = [\n",
    "    None,\n",
    "    \"< 1 year\",\n",
    "    \"1 year\",\n",
    "    \"2 years\",\n",
    "    \"3 years\",\n",
    "    \"4 years\",\n",
    "    \"5 years\",\n",
    "    \"6 years\",\n",
    "    \"7 years\",\n",
    "    \"8 years\",\n",
    "    \"9 years\",\n",
    "    \"10+ years\",\n",
    "]\n",
    "emp_l_enc = tr.PolarsOrdinalEncoder(order=emp_l_order)\n",
    "home_enc = tr.TargetMeanOrderedLabeler(how=\"label\")\n",
    "verif_enc = tr.TargetMeanOrderedLabeler(how=\"label\")\n",
    "paymnt_enc = tr.PolarsOneHotEncoder(drop=True)\n",
    "purpose_enc = tr.TargetMeanOrderedLabeler(how=\"label\")\n",
    "zip_enc = tr.TargetMeanOrderedLabeler(how=\"label\")\n",
    "state_enc = tr.TargetMeanOrderedLabeler(how=\"label\")\n",
    "init_stat_enc = tr.PolarsOneHotEncoder(drop=True)\n",
    "disbursement_enc = tr.PolarsOneHotEncoder(drop=True)\n",
    "\n",
    "encoders = PCT(\n",
    "    [\n",
    "        PCT.Step(\"emp_t_enc\", emp_t_enc, \"emp_title\"),\n",
    "        PCT.Step(\"emp_l_enc\", emp_l_enc, \"emp_length\"),\n",
    "        PCT.Step(\"home_enc\", home_enc, \"home_ownership\"),\n",
    "        PCT.Step(\"verif_enc\", verif_enc, \"verification_status\"),\n",
    "        PCT.Step(\"paymnt_enc\", paymnt_enc, \"pymnt_plan\"),\n",
    "        PCT.Step(\"purpose_enc\", purpose_enc, \"purpose\"),\n",
    "        PCT.Step(\"zip_enc\", zip_enc, \"zip_code\"),\n",
    "        PCT.Step(\"state_enc\", state_enc, \"addr_state\"),\n",
    "        PCT.Step(\"init_stat_enc\", init_stat_enc, \"initial_list_status\"),\n",
    "        PCT.Step(\"disbursement_enc\", disbursement_enc, \"disbursement_method\"),\n",
    "    ]\n",
    ")\n",
    "\n",
    "preprocess_single.steps.append((\"encoders\",encoders))"
   ]
  },
  {
   "cell_type": "code",
   "execution_count": 21,
   "metadata": {},
   "outputs": [
    {
     "data": {
      "text/html": [
       "<div><style>\n",
       ".dataframe > thead > tr > th,\n",
       ".dataframe > tbody > tr > td {\n",
       "  text-align: right;\n",
       "  white-space: pre-wrap;\n",
       "}\n",
       "</style>\n",
       "<small>shape: (5, 89)</small><table border=\"1\" class=\"dataframe\"><thead><tr><th>loan_amnt</th><th>funded_amnt</th><th>funded_amnt_inv</th><th>term</th><th>installment</th><th>home_ownership</th><th>annual_inc</th><th>verification_status</th><th>pymnt_plan</th><th>purpose</th><th>addr_state</th><th>dti</th><th>delinq_2yrs</th><th>earliest_cr_line</th><th>fico_range_low</th><th>fico_range_high</th><th>inq_last_6mths</th><th>mths_since_last_delinq</th><th>mths_since_last_record</th><th>open_acc</th><th>pub_rec</th><th>revol_bal</th><th>revol_util</th><th>total_acc</th><th>initial_list_status</th><th>last_credit_pull_d</th><th>last_fico_range_high</th><th>last_fico_range_low</th><th>mths_since_last_major_derog</th><th>acc_now_delinq</th><th>tot_cur_bal</th><th>open_acc_6m</th><th>open_act_il</th><th>open_il_12m</th><th>open_il_24m</th><th>mths_since_rcnt_il</th><th>total_bal_il</th><th>&hellip;</th><th>mo_sin_old_il_acct</th><th>mo_sin_old_rev_tl_op</th><th>mo_sin_rcnt_rev_tl_op</th><th>mo_sin_rcnt_tl</th><th>mort_acc</th><th>mths_since_recent_bc</th><th>mths_since_recent_bc_dlq</th><th>mths_since_recent_inq</th><th>mths_since_recent_revol_delinq</th><th>num_accts_ever_120_pd</th><th>num_actv_bc_tl</th><th>num_actv_rev_tl</th><th>num_bc_sats</th><th>num_bc_tl</th><th>num_il_tl</th><th>num_op_rev_tl</th><th>num_rev_accts</th><th>num_rev_tl_bal_gt_0</th><th>num_sats</th><th>num_tl_120dpd_2m</th><th>num_tl_30dpd</th><th>num_tl_90g_dpd_24m</th><th>num_tl_op_past_12m</th><th>pct_tl_nvr_dlq</th><th>percent_bc_gt_75</th><th>pub_rec_bankruptcies</th><th>tax_liens</th><th>tot_hi_cred_lim</th><th>total_bal_ex_mort</th><th>total_bc_limit</th><th>total_il_high_credit_limit</th><th>disbursement_method</th><th>month_sin</th><th>month_cos</th><th>emp_title</th><th>emp_length</th><th>zip_code</th></tr><tr><td>f64</td><td>f64</td><td>f64</td><td>f32</td><td>f64</td><td>str</td><td>f64</td><td>str</td><td>str</td><td>str</td><td>str</td><td>f64</td><td>f64</td><td>i64</td><td>f64</td><td>f64</td><td>f64</td><td>f64</td><td>f64</td><td>f64</td><td>f64</td><td>f64</td><td>f64</td><td>f64</td><td>str</td><td>i64</td><td>f64</td><td>f64</td><td>f64</td><td>f64</td><td>f64</td><td>f64</td><td>f64</td><td>f64</td><td>f64</td><td>f64</td><td>f64</td><td>&hellip;</td><td>f64</td><td>f64</td><td>f64</td><td>f64</td><td>f64</td><td>f64</td><td>f64</td><td>f64</td><td>f64</td><td>f64</td><td>f64</td><td>f64</td><td>f64</td><td>f64</td><td>f64</td><td>f64</td><td>f64</td><td>f64</td><td>f64</td><td>f64</td><td>f64</td><td>f64</td><td>f64</td><td>f64</td><td>f64</td><td>f64</td><td>f64</td><td>f64</td><td>f64</td><td>f64</td><td>f64</td><td>str</td><td>f64</td><td>f64</td><td>str</td><td>str</td><td>str</td></tr></thead><tbody><tr><td>20000.0</td><td>20000.0</td><td>20000.0</td><td>36.0</td><td>758.14</td><td>&quot;OWN&quot;</td><td>45548.0</td><td>&quot;Verified&quot;</td><td>&quot;n&quot;</td><td>&quot;debt_consolida…</td><td>&quot;NY&quot;</td><td>30.01</td><td>3.0</td><td>8584</td><td>660.0</td><td>664.0</td><td>0.0</td><td>9.0</td><td>null</td><td>14.0</td><td>0.0</td><td>14443.0</td><td>72.2</td><td>22.0</td><td>&quot;w&quot;</td><td>-516</td><td>634.0</td><td>630.0</td><td>32.0</td><td>0.0</td><td>40261.0</td><td>1.0</td><td>1.0</td><td>0.0</td><td>1.0</td><td>16.0</td><td>25818.0</td><td>&hellip;</td><td>137.0</td><td>282.0</td><td>2.0</td><td>2.0</td><td>1.0</td><td>2.0</td><td>32.0</td><td>1.0</td><td>20.0</td><td>0.0</td><td>7.0</td><td>12.0</td><td>7.0</td><td>10.0</td><td>4.0</td><td>13.0</td><td>17.0</td><td>12.0</td><td>14.0</td><td>0.0</td><td>0.0</td><td>0.0</td><td>2.0</td><td>77.3</td><td>85.7</td><td>0.0</td><td>0.0</td><td>47542.0</td><td>40261.0</td><td>8700.0</td><td>27542.0</td><td>&quot;Cash&quot;</td><td>-0.866025</td><td>0.5</td><td>null</td><td>null</td><td>&quot;other&quot;</td></tr><tr><td>13250.0</td><td>13250.0</td><td>13250.0</td><td>60.0</td><td>294.68</td><td>&quot;MORTGAGE&quot;</td><td>115000.0</td><td>&quot;Not Verified&quot;</td><td>&quot;n&quot;</td><td>&quot;home_improveme…</td><td>&quot;MA&quot;</td><td>4.89</td><td>0.0</td><td>10318</td><td>660.0</td><td>664.0</td><td>0.0</td><td>null</td><td>41.0</td><td>9.0</td><td>1.0</td><td>7917.0</td><td>56.5</td><td>42.0</td><td>&quot;w&quot;</td><td>-1064</td><td>664.0</td><td>660.0</td><td>null</td><td>0.0</td><td>17309.0</td><td>0.0</td><td>1.0</td><td>0.0</td><td>0.0</td><td>63.0</td><td>9392.0</td><td>&hellip;</td><td>89.0</td><td>339.0</td><td>17.0</td><td>17.0</td><td>6.0</td><td>17.0</td><td>null</td><td>17.0</td><td>null</td><td>0.0</td><td>3.0</td><td>5.0</td><td>3.0</td><td>15.0</td><td>4.0</td><td>8.0</td><td>32.0</td><td>5.0</td><td>8.0</td><td>0.0</td><td>0.0</td><td>0.0</td><td>0.0</td><td>100.0</td><td>66.7</td><td>1.0</td><td>0.0</td><td>30120.0</td><td>17309.0</td><td>9500.0</td><td>16120.0</td><td>&quot;Cash&quot;</td><td>0.866025</td><td>-0.5</td><td>&quot;other&quot;</td><td>&quot;&lt; 1 year&quot;</td><td>&quot;other&quot;</td></tr><tr><td>13300.0</td><td>13300.0</td><td>13300.0</td><td>60.0</td><td>302.55</td><td>&quot;MORTGAGE&quot;</td><td>220000.0</td><td>&quot;Source Verifie…</td><td>&quot;n&quot;</td><td>&quot;medical&quot;</td><td>&quot;NJ&quot;</td><td>19.09</td><td>2.0</td><td>12145</td><td>705.0</td><td>709.0</td><td>0.0</td><td>10.0</td><td>null</td><td>24.0</td><td>0.0</td><td>7422.0</td><td>60.8</td><td>45.0</td><td>&quot;w&quot;</td><td>-1706</td><td>704.0</td><td>700.0</td><td>null</td><td>0.0</td><td>826111.0</td><td>null</td><td>null</td><td>null</td><td>null</td><td>null</td><td>null</td><td>&hellip;</td><td>139.0</td><td>397.0</td><td>44.0</td><td>10.0</td><td>5.0</td><td>44.0</td><td>10.0</td><td>9.0</td><td>10.0</td><td>0.0</td><td>2.0</td><td>4.0</td><td>3.0</td><td>8.0</td><td>18.0</td><td>7.0</td><td>20.0</td><td>4.0</td><td>24.0</td><td>0.0</td><td>0.0</td><td>0.0</td><td>1.0</td><td>70.5</td><td>66.7</td><td>0.0</td><td>0.0</td><td>870190.0</td><td>267207.0</td><td>4800.0</td><td>267089.0</td><td>&quot;Cash&quot;</td><td>1.2246e-16</td><td>-1.0</td><td>&quot;other&quot;</td><td>&quot;6 years&quot;</td><td>&quot;other&quot;</td></tr><tr><td>3900.0</td><td>3900.0</td><td>3900.0</td><td>36.0</td><td>145.34</td><td>&quot;RENT&quot;</td><td>72000.0</td><td>&quot;Not Verified&quot;</td><td>&quot;n&quot;</td><td>&quot;debt_consolida…</td><td>&quot;TN&quot;</td><td>5.0</td><td>1.0</td><td>5632</td><td>680.0</td><td>684.0</td><td>1.0</td><td>9.0</td><td>null</td><td>14.0</td><td>0.0</td><td>5117.0</td><td>68.2</td><td>34.0</td><td>&quot;f&quot;</td><td>-882</td><td>659.0</td><td>655.0</td><td>null</td><td>0.0</td><td>275744.0</td><td>null</td><td>null</td><td>null</td><td>null</td><td>null</td><td>null</td><td>&hellip;</td><td>143.0</td><td>185.0</td><td>27.0</td><td>26.0</td><td>2.0</td><td>27.0</td><td>9.0</td><td>2.0</td><td>9.0</td><td>0.0</td><td>2.0</td><td>4.0</td><td>2.0</td><td>4.0</td><td>24.0</td><td>5.0</td><td>8.0</td><td>4.0</td><td>14.0</td><td>0.0</td><td>0.0</td><td>0.0</td><td>0.0</td><td>92.3</td><td>100.0</td><td>0.0</td><td>0.0</td><td>256919.0</td><td>275744.0</td><td>4500.0</td><td>249419.0</td><td>&quot;Cash&quot;</td><td>-0.866025</td><td>0.5</td><td>&quot;nurse&quot;</td><td>&quot;3 years&quot;</td><td>&quot;other&quot;</td></tr><tr><td>30000.0</td><td>30000.0</td><td>30000.0</td><td>36.0</td><td>988.86</td><td>&quot;RENT&quot;</td><td>150000.0</td><td>&quot;Source Verifie…</td><td>&quot;n&quot;</td><td>&quot;debt_consolida…</td><td>&quot;TX&quot;</td><td>5.65</td><td>0.0</td><td>2192</td><td>730.0</td><td>734.0</td><td>0.0</td><td>null</td><td>null</td><td>6.0</td><td>0.0</td><td>11382.0</td><td>40.9</td><td>8.0</td><td>&quot;w&quot;</td><td>-396</td><td>679.0</td><td>675.0</td><td>null</td><td>0.0</td><td>22070.0</td><td>0.0</td><td>1.0</td><td>0.0</td><td>1.0</td><td>16.0</td><td>10688.0</td><td>&hellip;</td><td>42.0</td><td>72.0</td><td>13.0</td><td>13.0</td><td>1.0</td><td>13.0</td><td>null</td><td>13.0</td><td>null</td><td>0.0</td><td>3.0</td><td>4.0</td><td>4.0</td><td>4.0</td><td>2.0</td><td>5.0</td><td>5.0</td><td>4.0</td><td>6.0</td><td>0.0</td><td>0.0</td><td>0.0</td><td>0.0</td><td>100.0</td><td>0.0</td><td>0.0</td><td>0.0</td><td>50536.0</td><td>22070.0</td><td>25300.0</td><td>22736.0</td><td>&quot;Cash&quot;</td><td>1.0</td><td>6.1232e-17</td><td>&quot;other&quot;</td><td>&quot;7 years&quot;</td><td>&quot;750xx&quot;</td></tr></tbody></table></div>"
      ],
      "text/plain": [
       "shape: (5, 89)\n",
       "┌───────────┬─────────────┬────────────┬──────┬───┬────────────┬───────────┬────────────┬──────────┐\n",
       "│ loan_amnt ┆ funded_amnt ┆ funded_amn ┆ term ┆ … ┆ month_cos  ┆ emp_title ┆ emp_length ┆ zip_code │\n",
       "│ ---       ┆ ---         ┆ t_inv      ┆ ---  ┆   ┆ ---        ┆ ---       ┆ ---        ┆ ---      │\n",
       "│ f64       ┆ f64         ┆ ---        ┆ f32  ┆   ┆ f64        ┆ str       ┆ str        ┆ str      │\n",
       "│           ┆             ┆ f64        ┆      ┆   ┆            ┆           ┆            ┆          │\n",
       "╞═══════════╪═════════════╪════════════╪══════╪═══╪════════════╪═══════════╪════════════╪══════════╡\n",
       "│ 20000.0   ┆ 20000.0     ┆ 20000.0    ┆ 36.0 ┆ … ┆ 0.5        ┆ null      ┆ null       ┆ other    │\n",
       "│ 13250.0   ┆ 13250.0     ┆ 13250.0    ┆ 60.0 ┆ … ┆ -0.5       ┆ other     ┆ < 1 year   ┆ other    │\n",
       "│ 13300.0   ┆ 13300.0     ┆ 13300.0    ┆ 60.0 ┆ … ┆ -1.0       ┆ other     ┆ 6 years    ┆ other    │\n",
       "│ 3900.0    ┆ 3900.0      ┆ 3900.0     ┆ 36.0 ┆ … ┆ 0.5        ┆ nurse     ┆ 3 years    ┆ other    │\n",
       "│ 30000.0   ┆ 30000.0     ┆ 30000.0    ┆ 36.0 ┆ … ┆ 6.1232e-17 ┆ other     ┆ 7 years    ┆ 750xx    │\n",
       "└───────────┴─────────────┴────────────┴──────┴───┴────────────┴───────────┴────────────┴──────────┘"
      ]
     },
     "execution_count": 21,
     "metadata": {},
     "output_type": "execute_result"
    }
   ],
   "source": [
    "imputers.fit_transform(X_train_single.sample(10000,seed=1),y_train_single.sample(10000,seed=1)).head()"
   ]
  },
  {
   "cell_type": "code",
   "execution_count": 22,
   "metadata": {},
   "outputs": [],
   "source": [
    "model=lgb.LGBMClassifier(objective='multiclass',class_weight='balanced')"
   ]
  },
  {
   "cell_type": "code",
   "execution_count": 23,
   "metadata": {},
   "outputs": [],
   "source": [
    "boruta = tr.BorutaFeatureSelectorPolars(model, random_state=1, perc=100)"
   ]
  },
  {
   "cell_type": "code",
   "execution_count": null,
   "metadata": {},
   "outputs": [],
   "source": [
    "boruta.fit_transform(preprocess_single.fit_transform(X_train_single,y_train_single),y_train_single)"
   ]
  },
  {
   "cell_type": "code",
   "execution_count": 13,
   "metadata": {},
   "outputs": [
    {
     "name": "stdout",
     "output_type": "stream",
     "text": [
      "[LightGBM] [Warning] Auto-choosing row-wise multi-threading, the overhead of testing was 0.066884 seconds.\n",
      "You can set `force_row_wise=true` to remove the overhead.\n",
      "And if memory is not enough, you can set `force_col_wise=true`.\n",
      "[LightGBM] [Info] Total Bins 9664\n",
      "[LightGBM] [Info] Number of data points in the train set: 1199590, number of used features: 89\n",
      "[LightGBM] [Info] Start training from score -1.945910\n",
      "[LightGBM] [Info] Start training from score -1.945910\n",
      "[LightGBM] [Info] Start training from score -1.945910\n",
      "[LightGBM] [Info] Start training from score -1.945910\n",
      "[LightGBM] [Info] Start training from score -1.945910\n",
      "[LightGBM] [Info] Start training from score -1.945910\n",
      "[LightGBM] [Info] Start training from score -1.945910\n"
     ]
    },
    {
     "data": {
      "text/html": [
       "<style>#sk-container-id-1 {color: black;}#sk-container-id-1 pre{padding: 0;}#sk-container-id-1 div.sk-toggleable {background-color: white;}#sk-container-id-1 label.sk-toggleable__label {cursor: pointer;display: block;width: 100%;margin-bottom: 0;padding: 0.3em;box-sizing: border-box;text-align: center;}#sk-container-id-1 label.sk-toggleable__label-arrow:before {content: \"▸\";float: left;margin-right: 0.25em;color: #696969;}#sk-container-id-1 label.sk-toggleable__label-arrow:hover:before {color: black;}#sk-container-id-1 div.sk-estimator:hover label.sk-toggleable__label-arrow:before {color: black;}#sk-container-id-1 div.sk-toggleable__content {max-height: 0;max-width: 0;overflow: hidden;text-align: left;background-color: #f0f8ff;}#sk-container-id-1 div.sk-toggleable__content pre {margin: 0.2em;color: black;border-radius: 0.25em;background-color: #f0f8ff;}#sk-container-id-1 input.sk-toggleable__control:checked~div.sk-toggleable__content {max-height: 200px;max-width: 100%;overflow: auto;}#sk-container-id-1 input.sk-toggleable__control:checked~label.sk-toggleable__label-arrow:before {content: \"▾\";}#sk-container-id-1 div.sk-estimator input.sk-toggleable__control:checked~label.sk-toggleable__label {background-color: #d4ebff;}#sk-container-id-1 div.sk-label input.sk-toggleable__control:checked~label.sk-toggleable__label {background-color: #d4ebff;}#sk-container-id-1 input.sk-hidden--visually {border: 0;clip: rect(1px 1px 1px 1px);clip: rect(1px, 1px, 1px, 1px);height: 1px;margin: -1px;overflow: hidden;padding: 0;position: absolute;width: 1px;}#sk-container-id-1 div.sk-estimator {font-family: monospace;background-color: #f0f8ff;border: 1px dotted black;border-radius: 0.25em;box-sizing: border-box;margin-bottom: 0.5em;}#sk-container-id-1 div.sk-estimator:hover {background-color: #d4ebff;}#sk-container-id-1 div.sk-parallel-item::after {content: \"\";width: 100%;border-bottom: 1px solid gray;flex-grow: 1;}#sk-container-id-1 div.sk-label:hover label.sk-toggleable__label {background-color: #d4ebff;}#sk-container-id-1 div.sk-serial::before {content: \"\";position: absolute;border-left: 1px solid gray;box-sizing: border-box;top: 0;bottom: 0;left: 50%;z-index: 0;}#sk-container-id-1 div.sk-serial {display: flex;flex-direction: column;align-items: center;background-color: white;padding-right: 0.2em;padding-left: 0.2em;position: relative;}#sk-container-id-1 div.sk-item {position: relative;z-index: 1;}#sk-container-id-1 div.sk-parallel {display: flex;align-items: stretch;justify-content: center;background-color: white;position: relative;}#sk-container-id-1 div.sk-item::before, #sk-container-id-1 div.sk-parallel-item::before {content: \"\";position: absolute;border-left: 1px solid gray;box-sizing: border-box;top: 0;bottom: 0;left: 50%;z-index: -1;}#sk-container-id-1 div.sk-parallel-item {display: flex;flex-direction: column;z-index: 1;position: relative;background-color: white;}#sk-container-id-1 div.sk-parallel-item:first-child::after {align-self: flex-end;width: 50%;}#sk-container-id-1 div.sk-parallel-item:last-child::after {align-self: flex-start;width: 50%;}#sk-container-id-1 div.sk-parallel-item:only-child::after {width: 0;}#sk-container-id-1 div.sk-dashed-wrapped {border: 1px dashed gray;margin: 0 0.4em 0.5em 0.4em;box-sizing: border-box;padding-bottom: 0.4em;background-color: white;}#sk-container-id-1 div.sk-label label {font-family: monospace;font-weight: bold;display: inline-block;line-height: 1.2em;}#sk-container-id-1 div.sk-label-container {text-align: center;}#sk-container-id-1 div.sk-container {/* jupyter's `normalize.less` sets `[hidden] { display: none; }` but bootstrap.min.css set `[hidden] { display: none !important; }` so we also need the `!important` here to be able to override the default hidden behavior on the sphinx rendered scikit-learn.org. See: https://github.com/scikit-learn/scikit-learn/issues/21755 */display: inline-block !important;position: relative;}#sk-container-id-1 div.sk-text-repr-fallback {display: none;}</style><div id=\"sk-container-id-1\" class=\"sk-top-container\"><div class=\"sk-text-repr-fallback\"><pre>LGBMClassifier(class_weight=&#x27;balanced&#x27;, objective=&#x27;multiclass&#x27;)</pre><b>In a Jupyter environment, please rerun this cell to show the HTML representation or trust the notebook. <br />On GitHub, the HTML representation is unable to render, please try loading this page with nbviewer.org.</b></div><div class=\"sk-container\" hidden><div class=\"sk-item\"><div class=\"sk-estimator sk-toggleable\"><input class=\"sk-toggleable__control sk-hidden--visually\" id=\"sk-estimator-id-1\" type=\"checkbox\" checked><label for=\"sk-estimator-id-1\" class=\"sk-toggleable__label sk-toggleable__label-arrow\">LGBMClassifier</label><div class=\"sk-toggleable__content\"><pre>LGBMClassifier(class_weight=&#x27;balanced&#x27;, objective=&#x27;multiclass&#x27;)</pre></div></div></div></div></div>"
      ],
      "text/plain": [
       "LGBMClassifier(class_weight='balanced', objective='multiclass')"
      ]
     },
     "execution_count": 13,
     "metadata": {},
     "output_type": "execute_result"
    }
   ],
   "source": [
    "model.fit(preprocess_single.fit_transform(X_train_single,y_train_single),y_train_single)"
   ]
  },
  {
   "cell_type": "code",
   "execution_count": 14,
   "metadata": {},
   "outputs": [],
   "source": [
    "preds=model.predict(preprocess_single.transform(X_val_single))"
   ]
  },
  {
   "cell_type": "code",
   "execution_count": 15,
   "metadata": {},
   "outputs": [
    {
     "name": "stdout",
     "output_type": "stream",
     "text": [
      "              precision    recall  f1-score   support\n",
      "\n",
      "           1       0.81      0.90      0.86     87225\n",
      "           2       0.81      0.78      0.79    152406\n",
      "           3       0.83      0.77      0.80    151476\n",
      "           4       0.72      0.73      0.72     74272\n",
      "           5       0.63      0.62      0.63     34120\n",
      "           6       0.48      0.61      0.54     11301\n",
      "           7       0.40      0.84      0.54      3311\n",
      "\n",
      "    accuracy                           0.78    514111\n",
      "   macro avg       0.67      0.75      0.70    514111\n",
      "weighted avg       0.78      0.78      0.78    514111\n",
      "\n"
     ]
    }
   ],
   "source": [
    "print(classification_report(y_val_single,preds))"
   ]
  },
  {
   "cell_type": "code",
   "execution_count": 17,
   "metadata": {},
   "outputs": [
    {
     "name": "stdout",
     "output_type": "stream",
     "text": [
      "[0.85519554 0.79180167 0.79754131 0.72293842 0.62717295 0.53962027\n",
      " 0.54191148]\n"
     ]
    }
   ],
   "source": [
    "from sklearn.metrics import f1_score\n",
    "print(f1_score(y_val_single,preds,average=None))"
   ]
  },
  {
   "cell_type": "code",
   "execution_count": null,
   "metadata": {},
   "outputs": [],
   "source": []
  }
 ],
 "metadata": {
  "kernelspec": {
   "display_name": "base",
   "language": "python",
   "name": "python3"
  },
  "language_info": {
   "codemirror_mode": {
    "name": "ipython",
    "version": 3
   },
   "file_extension": ".py",
   "mimetype": "text/x-python",
   "name": "python",
   "nbconvert_exporter": "python",
   "pygments_lexer": "ipython3",
   "version": "3.9.13"
  }
 },
 "nbformat": 4,
 "nbformat_minor": 2
}
