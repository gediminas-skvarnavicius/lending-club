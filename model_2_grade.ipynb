{
 "cells": [
  {
   "cell_type": "markdown",
   "metadata": {},
   "source": [
    "# Loan Grade, Sub-Grade and Interest Rate Prediction"
   ]
  },
  {
   "cell_type": "markdown",
   "metadata": {},
   "source": [
    "**Table of contents**<a id='toc0_'></a>    \n",
    "- [Setup](#toc1_)    \n",
    "  - [Imports and Settings](#toc1_1_)    \n",
    "  - [Data Preparation](#toc1_2_)    \n",
    "    - [Oversampling](#toc1_2_1_)    \n",
    "    - [Data Cleaning](#toc1_2_2_)    \n",
    "  - [Feature Engineering](#toc1_3_)    \n",
    "- [Grade Prediction](#toc2_)    \n",
    "  - [Single Applications](#toc2_1_)    \n",
    "    - [Pipeline Construction](#toc2_1_1_)    \n",
    "    - [Feature selection](#toc2_1_2_)    \n",
    "    - [Hyperparameter Tuning](#toc2_1_3_)    \n",
    "    - [Model Selection](#toc2_1_4_)    \n",
    "  - [Joint Applications](#toc2_2_)    \n",
    "    - [Pipeline](#toc2_2_1_)    \n",
    "    - [Feature removal](#toc2_2_2_)    \n",
    "    - [Hyperparameter tuning](#toc2_2_3_)    \n",
    "- [Sub-grade Prediction](#toc3_)    \n",
    "  - [Single Application Sub-Grade Model](#toc3_1_)    \n",
    "    - [Pipelines](#toc3_1_1_)    \n",
    "    - [Hyperparameter Tuning](#toc3_1_2_)    \n",
    "    - [Model Selection](#toc3_1_3_)    \n",
    "  - [Joint Application Sub-grade Model](#toc3_2_)    \n",
    "    - [Pipeline](#toc3_2_1_)    \n",
    "    - [Hyperparameter tuning](#toc3_2_2_)    \n",
    "- [Interest Rate Prediction](#toc4_)    \n",
    "  - [Single Application Interest Rate Model](#toc4_1_)    \n",
    "    - [Pipeline](#toc4_1_1_)    \n",
    "    - [Hyperparameter Tuning](#toc4_1_2_)    \n",
    "  - [Joint Application Interest Rate Model](#toc4_2_)    \n",
    "    - [Pipeline](#toc4_2_1_)    \n",
    "    - [Hyperparameter tuning](#toc4_2_2_)    \n",
    "- [Testing](#toc5_)    \n",
    "  - [Time-wise analysis](#toc5_1_)    \n",
    "  - [Feature importance based on SHAP values](#toc5_2_)    \n",
    "  - [Final Testing and Exports](#toc5_3_)    \n",
    "    - [Single Application Grade Model](#toc5_3_1_)    \n",
    "    - [Joint Application Grade model](#toc5_3_2_)    \n",
    "    - [Single Application Sub-Grade Model](#toc5_3_3_)    \n",
    "    - [Joint Application Sub-Grade Model](#toc5_3_4_)    \n",
    "    - [Single Application Interest Rate Model](#toc5_3_5_)    \n",
    "    - [Joint Application Interest Rate Model](#toc5_3_6_)    \n",
    "    - [Testing Overview](#toc5_3_7_)    \n",
    "\n",
    "<!-- vscode-jupyter-toc-config\n",
    "\tnumbering=false\n",
    "\tanchor=true\n",
    "\tflat=false\n",
    "\tminLevel=2\n",
    "\tmaxLevel=4\n",
    "\t/vscode-jupyter-toc-config -->\n",
    "<!-- THIS CELL WILL BE REPLACED ON TOC UPDATE. DO NOT WRITE YOUR TEXT IN THIS CELL -->"
   ]
  },
  {
   "cell_type": "markdown",
   "metadata": {},
   "source": [
    "## <a id='toc1_'></a>[Setup](#toc0_)"
   ]
  },
  {
   "cell_type": "markdown",
   "metadata": {},
   "source": [
    "### <a id='toc1_1_'></a>[Imports and Settings](#toc0_)"
   ]
  },
  {
   "cell_type": "markdown",
   "metadata": {},
   "source": [
    "**Imports:**"
   ]
  },
  {
   "cell_type": "code",
   "execution_count": 1,
   "metadata": {},
   "outputs": [],
   "source": [
    "%reload_ext autoreload\n",
    "%autoreload 1\n",
    "import joblib\n",
    "from sklearn.metrics import mean_squared_error\n",
    "from pprint import pprint\n",
    "from ray import tune\n",
    "import copy\n",
    "import shap\n",
    "import matplotlib.pyplot as plt\n",
    "import polars as pl\n",
    "import sys\n",
    "import numpy as np\n",
    "from sklearn.model_selection import train_test_split\n",
    "import functions.transformers as tr\n",
    "from functions.transformers import PolarsColumnTransformer as PCT\n",
    "import functions.data_cleaning as dmf\n",
    "import functions.plot_functions as pf\n",
    "import functions.tuning as tunes\n",
    "import functions.statistics as st\n",
    "import functions.feature_engineering as feats\n",
    "import seaborn as sns\n",
    "from sklearn.pipeline import Pipeline\n",
    "from sklearn.metrics import classification_report,f1_score\n",
    "from sklearn.tree import DecisionTreeClassifier\n",
    "from IPython.display import display,Markdown\n",
    "import lightgbm as lgb\n",
    "%aimport functions.tuning\n",
    "%aimport functions.transformers\n",
    "%aimport functions.data_cleaning\n",
    "%aimport functions.plot_functions\n",
    "%aimport functions.feature_engineering\n",
    "%aimport functions.statistics"
   ]
  },
  {
   "cell_type": "markdown",
   "metadata": {},
   "source": [
    "**Settings:**"
   ]
  },
  {
   "cell_type": "code",
   "execution_count": 2,
   "metadata": {},
   "outputs": [],
   "source": [
    "ALPHA = 0.05\n",
    "BASE_FIG_SIZE = (8.5, 4.5)\n",
    "sns.set()\n"
   ]
  },
  {
   "cell_type": "markdown",
   "metadata": {},
   "source": [
    "### <a id='toc1_2_'></a>[Data Preparation](#toc0_)"
   ]
  },
  {
   "cell_type": "markdown",
   "metadata": {},
   "source": [
    "**Loading the data:**"
   ]
  },
  {
   "cell_type": "code",
   "execution_count": 3,
   "metadata": {},
   "outputs": [],
   "source": [
    "data_train_single = pl.read_parquet(\"data/data_accepted_single_train.parquet\")\n",
    "data_val_single = pl.read_parquet(\"data/data_accepted_single_val.parquet\")\n",
    "data_test_single = pl.read_parquet(\"data/data_accepted_single_test.parquet\")\n",
    "data_train_joint = pl.read_parquet(\"data/data_accepted_joint_train.parquet\")\n",
    "data_val_joint = pl.read_parquet(\"data/data_accepted_joint_val.parquet\")\n",
    "data_test_joint = pl.read_parquet(\"data/data_accepted_joint_test.parquet\")\n"
   ]
  },
  {
   "cell_type": "markdown",
   "metadata": {},
   "source": [
    "#### <a id='toc1_2_1_'></a>[Oversampling](#toc0_)"
   ]
  },
  {
   "cell_type": "markdown",
   "metadata": {},
   "source": [
    "**Sub-grades with the lowest representation in single applications:**"
   ]
  },
  {
   "cell_type": "code",
   "execution_count": 4,
   "metadata": {},
   "outputs": [
    {
     "data": {
      "text/html": [
       "<div><style>\n",
       ".dataframe > thead > tr > th,\n",
       ".dataframe > tbody > tr > td {\n",
       "  text-align: right;\n",
       "  white-space: pre-wrap;\n",
       "}\n",
       "</style>\n",
       "<small>shape: (10, 2)</small><table border=\"1\" class=\"dataframe\"><thead><tr><th>sub_grade</th><th>counts</th></tr><tr><td>str</td><td>u32</td></tr></thead><tbody><tr><td>&quot;G5&quot;</td><td>873</td></tr><tr><td>&quot;G4&quot;</td><td>1021</td></tr><tr><td>&quot;G3&quot;</td><td>1447</td></tr><tr><td>&quot;G2&quot;</td><td>2003</td></tr><tr><td>&quot;G1&quot;</td><td>2637</td></tr><tr><td>&quot;F5&quot;</td><td>3770</td></tr><tr><td>&quot;F4&quot;</td><td>4773</td></tr><tr><td>&quot;F3&quot;</td><td>6078</td></tr><tr><td>&quot;F2&quot;</td><td>7532</td></tr><tr><td>&quot;F1&quot;</td><td>10009</td></tr></tbody></table></div>"
      ],
      "text/plain": [
       "shape: (10, 2)\n",
       "┌───────────┬────────┐\n",
       "│ sub_grade ┆ counts │\n",
       "│ ---       ┆ ---    │\n",
       "│ str       ┆ u32    │\n",
       "╞═══════════╪════════╡\n",
       "│ G5        ┆ 873    │\n",
       "│ G4        ┆ 1021   │\n",
       "│ G3        ┆ 1447   │\n",
       "│ G2        ┆ 2003   │\n",
       "│ …         ┆ …      │\n",
       "│ F4        ┆ 4773   │\n",
       "│ F3        ┆ 6078   │\n",
       "│ F2        ┆ 7532   │\n",
       "│ F1        ┆ 10009  │\n",
       "└───────────┴────────┘"
      ]
     },
     "execution_count": 4,
     "metadata": {},
     "output_type": "execute_result"
    }
   ],
   "source": [
    "data_train_single[\"sub_grade\"].value_counts().sort(\"counts\")[:10]\n"
   ]
  },
  {
   "cell_type": "markdown",
   "metadata": {},
   "source": [
    "**Sub-grades with the lowest representation in joint applications:**"
   ]
  },
  {
   "cell_type": "code",
   "execution_count": 5,
   "metadata": {},
   "outputs": [
    {
     "data": {
      "text/html": [
       "<div><style>\n",
       ".dataframe > thead > tr > th,\n",
       ".dataframe > tbody > tr > td {\n",
       "  text-align: right;\n",
       "  white-space: pre-wrap;\n",
       "}\n",
       "</style>\n",
       "<small>shape: (10, 2)</small><table border=\"1\" class=\"dataframe\"><thead><tr><th>sub_grade</th><th>counts</th></tr><tr><td>str</td><td>u32</td></tr></thead><tbody><tr><td>&quot;G2&quot;</td><td>78</td></tr><tr><td>&quot;G3&quot;</td><td>79</td></tr><tr><td>&quot;G4&quot;</td><td>79</td></tr><tr><td>&quot;G5&quot;</td><td>90</td></tr><tr><td>&quot;F4&quot;</td><td>154</td></tr><tr><td>&quot;G1&quot;</td><td>171</td></tr><tr><td>&quot;F2&quot;</td><td>185</td></tr><tr><td>&quot;F5&quot;</td><td>187</td></tr><tr><td>&quot;F3&quot;</td><td>253</td></tr><tr><td>&quot;F1&quot;</td><td>321</td></tr></tbody></table></div>"
      ],
      "text/plain": [
       "shape: (10, 2)\n",
       "┌───────────┬────────┐\n",
       "│ sub_grade ┆ counts │\n",
       "│ ---       ┆ ---    │\n",
       "│ str       ┆ u32    │\n",
       "╞═══════════╪════════╡\n",
       "│ G2        ┆ 78     │\n",
       "│ G3        ┆ 79     │\n",
       "│ G4        ┆ 79     │\n",
       "│ G5        ┆ 90     │\n",
       "│ …         ┆ …      │\n",
       "│ F2        ┆ 185    │\n",
       "│ F5        ┆ 187    │\n",
       "│ F3        ┆ 253    │\n",
       "│ F1        ┆ 321    │\n",
       "└───────────┴────────┘"
      ]
     },
     "execution_count": 5,
     "metadata": {},
     "output_type": "execute_result"
    }
   ],
   "source": [
    "data_train_joint[\"sub_grade\"].value_counts().sort(\"counts\")[:10]\n"
   ]
  },
  {
   "cell_type": "markdown",
   "metadata": {},
   "source": [
    "**Oversampling the classes with the lowest representation in the training set:**"
   ]
  },
  {
   "cell_type": "code",
   "execution_count": 6,
   "metadata": {},
   "outputs": [],
   "source": [
    "data_train_single = data_train_single.vstack(\n",
    "    st.oversample_polars(data_train_single, \"sub_grade\", 10000)\n",
    ")\n",
    "data_train_joint = data_train_joint.vstack(\n",
    "    st.oversample_polars(data_train_joint, \"sub_grade\", 500)\n",
    ")\n"
   ]
  },
  {
   "cell_type": "markdown",
   "metadata": {},
   "source": [
    "Rare classes were over-sampled in the training set so that no sub-grade is rarer than 10000 samples in the single application set and 500 in the joint application set."
   ]
  },
  {
   "cell_type": "markdown",
   "metadata": {},
   "source": [
    "**Saving the dates for the data:**"
   ]
  },
  {
   "cell_type": "code",
   "execution_count": 7,
   "metadata": {},
   "outputs": [],
   "source": [
    "dates_train = data_train_single[\"issue_d\"]\n",
    "dates_val = data_val_single[\"issue_d\"]\n",
    "dates_test = data_test_single[\"issue_d\"]\n"
   ]
  },
  {
   "cell_type": "markdown",
   "metadata": {},
   "source": [
    "#### <a id='toc1_2_2_'></a>[Data Cleaning](#toc0_)"
   ]
  },
  {
   "cell_type": "markdown",
   "metadata": {},
   "source": [
    "**Cleaning the data:**"
   ]
  },
  {
   "cell_type": "code",
   "execution_count": 8,
   "metadata": {},
   "outputs": [],
   "source": [
    "data_train_single = dmf.clean_accepted_single(data_train_single)\n",
    "data_val_single = dmf.clean_accepted_single(data_val_single)\n",
    "data_test_single = dmf.clean_accepted_single(data_test_single)\n",
    "data_train_joint = dmf.clean_accepted_joint(data_train_joint)\n",
    "data_val_joint = dmf.clean_accepted_joint(data_val_joint)\n",
    "data_test_joint = dmf.clean_accepted_joint(data_test_joint)\n"
   ]
  },
  {
   "cell_type": "markdown",
   "metadata": {},
   "source": [
    "**Dropping Features based on EDA:**"
   ]
  },
  {
   "cell_type": "code",
   "execution_count": 9,
   "metadata": {},
   "outputs": [],
   "source": [
    "data_train_single = dmf.remove_poor_features_single(data_train_single)\n",
    "data_val_single = dmf.remove_poor_features_single(data_val_single)\n",
    "data_test_single = dmf.remove_poor_features_single(data_test_single)\n",
    "data_train_joint = dmf.remove_poor_features_joint(data_train_joint)\n",
    "data_val_joint = dmf.remove_poor_features_joint(data_val_joint)\n",
    "data_test_joint = dmf.remove_poor_features_joint(data_test_joint)\n"
   ]
  },
  {
   "cell_type": "markdown",
   "metadata": {},
   "source": [
    "### <a id='toc1_3_'></a>[Feature Engineering](#toc0_)"
   ]
  },
  {
   "cell_type": "markdown",
   "metadata": {},
   "source": [
    "**Adding and modifying features:**"
   ]
  },
  {
   "cell_type": "code",
   "execution_count": 10,
   "metadata": {},
   "outputs": [],
   "source": [
    "data_train_single = feats.date_features(data_train_single, \"issue_d\")\n",
    "data_val_single = feats.date_features(data_val_single, \"issue_d\")\n",
    "data_test_single = feats.date_features(data_test_single, \"issue_d\")\n",
    "data_train_joint = feats.date_features_joint(data_train_joint, \"issue_d\")\n",
    "data_val_joint = feats.date_features_joint(data_val_joint, \"issue_d\")\n",
    "data_test_joint = feats.date_features_joint(data_test_joint, \"issue_d\")\n"
   ]
  },
  {
   "cell_type": "markdown",
   "metadata": {},
   "source": [
    "The following date features were changed:\n",
    "1. The month of the year was changed into it's sine and cosine transformations.\n",
    "2. Earliest credit line and last credit line was transformed to represent the day difference from the current date.\n",
    "3. Current year was extracted from the date."
   ]
  },
  {
   "cell_type": "markdown",
   "metadata": {},
   "source": [
    "**Labeling grades with a sequence of numbers:**"
   ]
  },
  {
   "cell_type": "code",
   "execution_count": 11,
   "metadata": {},
   "outputs": [],
   "source": [
    "data_train_single = dmf.label_target_grades(\n",
    "    data_train_single,\n",
    ")\n",
    "data_val_single = dmf.label_target_grades(\n",
    "    data_val_single,\n",
    ")\n",
    "data_test_single = dmf.label_target_grades(data_test_single)\n",
    "data_train_joint = dmf.label_target_grades(\n",
    "    data_train_joint,\n",
    ")\n",
    "data_val_joint = dmf.label_target_grades(\n",
    "    data_val_joint,\n",
    ")\n",
    "data_test_joint = dmf.label_target_grades(data_test_joint)\n"
   ]
  },
  {
   "cell_type": "markdown",
   "metadata": {},
   "source": [
    "**Specifying dependent and independent variables:**"
   ]
  },
  {
   "cell_type": "code",
   "execution_count": 12,
   "metadata": {},
   "outputs": [],
   "source": [
    "X_train_single = data_train_single.drop(\n",
    "    columns=[\"grade\", \"sub_grade\", \"int_rate\", \"issue_d\"]\n",
    ")\n",
    "y_train_single = data_train_single[\"grade\"]\n",
    "\n",
    "X_val_single = data_val_single.drop(\n",
    "    columns=[\"grade\", \"sub_grade\", \"int_rate\", \"issue_d\"]\n",
    ")\n",
    "y_val_single = data_val_single[\"grade\"]\n",
    "\n",
    "X_train_joint = data_train_joint.drop(\n",
    "    columns=[\"grade\", \"sub_grade\", \"int_rate\", \"issue_d\"]\n",
    ")\n",
    "y_train_joint = data_train_joint[\"grade\"]\n",
    "\n",
    "X_val_joint = data_val_joint.drop(columns=[\"grade\", \"sub_grade\", \"int_rate\", \"issue_d\"])\n",
    "y_val_joint = data_val_joint[\"grade\"]\n",
    "\n",
    "X_test_single = data_test_single.drop(\n",
    "    columns=[\"grade\", \"sub_grade\", \"int_rate\", \"issue_d\"]\n",
    ")\n",
    "y_test_single = data_test_single[\"grade\"]\n",
    "\n",
    "X_test_joint = data_test_joint.drop(\n",
    "    columns=[\"grade\", \"sub_grade\", \"int_rate\", \"issue_d\"]\n",
    ")\n",
    "y_test_joint = data_test_joint[\"grade\"]"
   ]
  },
  {
   "cell_type": "markdown",
   "metadata": {},
   "source": [
    "**Specifying targets:**"
   ]
  },
  {
   "cell_type": "code",
   "execution_count": 13,
   "metadata": {},
   "outputs": [],
   "source": [
    "data_train_single = dmf.label_target_sub_grades(\n",
    "    data_train_single,\n",
    ")\n",
    "data_val_single = dmf.label_target_sub_grades(\n",
    "    data_val_single,\n",
    ")\n",
    "data_test_single = dmf.label_target_sub_grades(data_test_single)\n",
    "data_train_joint = dmf.label_target_sub_grades(\n",
    "    data_train_joint,\n",
    ")\n",
    "data_val_joint = dmf.label_target_sub_grades(\n",
    "    data_val_joint,\n",
    ")\n",
    "data_test_joint = dmf.label_target_sub_grades(data_test_joint)\n",
    "\n",
    "y_train_single_subgrade = data_train_single[\"sub_grade\"]\n",
    "y_val_single_subgrade = data_val_single[\"sub_grade\"]\n",
    "y_test_single_subgrade = data_test_single[\"sub_grade\"]\n",
    "y_train_joint_subgrade = data_train_joint[\"sub_grade\"]\n",
    "y_val_joint_subgrade = data_val_joint[\"sub_grade\"]\n",
    "y_test_joint_subgrade = data_test_joint[\"sub_grade\"]\n",
    "\n",
    "y_train_single_intr = data_train_single[\"int_rate\"]\n",
    "y_val_single_intr = data_val_single[\"int_rate\"]\n",
    "y_test_single_intr = data_test_single[\"int_rate\"]\n",
    "y_train_joint_intr = data_train_joint[\"int_rate\"]\n",
    "y_val_joint_intr = data_val_joint[\"int_rate\"]\n",
    "y_test_joint_intr = data_test_joint[\"int_rate\"]\n"
   ]
  },
  {
   "cell_type": "markdown",
   "metadata": {},
   "source": [
    "## <a id='toc2_'></a>[Grade Prediction](#toc0_)"
   ]
  },
  {
   "cell_type": "markdown",
   "metadata": {},
   "source": [
    "### <a id='toc2_1_'></a>[Single Applications](#toc0_)"
   ]
  },
  {
   "cell_type": "markdown",
   "metadata": {},
   "source": [
    "#### <a id='toc2_1_1_'></a>[Pipeline Construction](#toc0_)"
   ]
  },
  {
   "cell_type": "markdown",
   "metadata": {},
   "source": [
    "**Adding imputers:**"
   ]
  },
  {
   "cell_type": "code",
   "execution_count": 14,
   "metadata": {},
   "outputs": [],
   "source": [
    "preprocess_single = Pipeline([])\n",
    "emp_title_imp = tr.NotInImputerPolars(cat_no=20, fill_value=\"other\")\n",
    "emp_length_imp = tr.NotInImputerPolars(cat_no=12, fill_value=None)\n",
    "zip_imp = tr.NotInImputerPolars(cat_no=50, fill_value=\"other\")\n",
    "imputers = PCT(\n",
    "    [\n",
    "        PCT.Step(\"emp_title\", emp_title_imp, \"emp_title\"),\n",
    "        PCT.Step(\"emp_length\", emp_length_imp, \"emp_length\"),\n",
    "        PCT.Step(\"zip_code\", zip_imp, \"zip_code\"),\n",
    "    ]\n",
    ")\n",
    "preprocess_single.steps.append((\"imputers\", imputers))\n"
   ]
  },
  {
   "cell_type": "markdown",
   "metadata": {},
   "source": [
    "Features with a high number of distinct categories, such as \"employment title\" and \"zip code,\" underwent a modification process using the \"NotInImputer\" technique. This method retains a predetermined quantity of the most frequently occurring values within these features while replacing all other less common values with a specific designated value. "
   ]
  },
  {
   "cell_type": "markdown",
   "metadata": {},
   "source": [
    "**Adding encoders:**"
   ]
  },
  {
   "cell_type": "code",
   "execution_count": 15,
   "metadata": {},
   "outputs": [],
   "source": [
    "emp_t_enc = tr.TargetMeanOrderedLabeler(how=\"label\")\n",
    "emp_l_order = [\n",
    "    None,\n",
    "    \"< 1 year\",\n",
    "    \"1 year\",\n",
    "    \"2 years\",\n",
    "    \"3 years\",\n",
    "    \"4 years\",\n",
    "    \"5 years\",\n",
    "    \"6 years\",\n",
    "    \"7 years\",\n",
    "    \"8 years\",\n",
    "    \"9 years\",\n",
    "    \"10+ years\",\n",
    "]\n",
    "emp_l_enc = tr.PolarsOrdinalEncoder(order=emp_l_order)\n",
    "home_enc = tr.TargetMeanOrderedLabeler(how=\"label\")\n",
    "verif_enc = tr.TargetMeanOrderedLabeler(how=\"label\")\n",
    "paymnt_enc = tr.PolarsOneHotEncoder(drop=True)\n",
    "purpose_enc = tr.TargetMeanOrderedLabeler(how=\"label\")\n",
    "zip_enc = tr.TargetMeanOrderedLabeler(how=\"label\")\n",
    "state_enc = tr.TargetMeanOrderedLabeler(how=\"label\")\n",
    "init_stat_enc = tr.PolarsOneHotEncoder(drop=True)\n",
    "disbursement_enc = tr.PolarsOneHotEncoder(drop=True)\n",
    "year_enc = tr.TargetMeanOrderedLabeler(how=\"last_mean\")\n",
    "\n",
    "encoders = PCT(\n",
    "    [\n",
    "        PCT.Step(\"emp_t_enc\", emp_t_enc, \"emp_title\"),\n",
    "        PCT.Step(\"emp_l_enc\", emp_l_enc, \"emp_length\"),\n",
    "        PCT.Step(\"home_enc\", home_enc, \"home_ownership\"),\n",
    "        PCT.Step(\"verif_enc\", verif_enc, \"verification_status\"),\n",
    "        PCT.Step(\"paymnt_enc\", paymnt_enc, \"pymnt_plan\"),\n",
    "        PCT.Step(\"purpose_enc\", purpose_enc, \"purpose\"),\n",
    "        PCT.Step(\"zip_enc\", zip_enc, \"zip_code\"),\n",
    "        PCT.Step(\"state_enc\", state_enc, \"addr_state\"),\n",
    "        PCT.Step(\"init_stat_enc\", init_stat_enc, \"initial_list_status\"),\n",
    "        PCT.Step(\"disbursement_enc\", disbursement_enc, \"disbursement_method\"),\n",
    "        PCT.Step(\"year_enc\", year_enc, \"year\"),\n",
    "    ]\n",
    ")\n",
    "\n",
    "preprocess_single.steps.append((\"encoders\", encoders))\n",
    "null_imp = tr.PolarsNullImputer(fill_value=-9)\n",
    "preprocess_single.steps.append((\"null_imputer\", null_imp))\n"
   ]
  },
  {
   "cell_type": "markdown",
   "metadata": {},
   "source": [
    "A variety of encoding techniques were applied to handle categorical features within the dataset:\n",
    "\n",
    "1. **One-Hot Encoding for Two-Category Features:** Two-category features were encoded using a one-hot encoding approach, resulting in a single Boolean column.\n",
    "\n",
    "2. **Label Encoding for Inherently Unordered Categorical Data:** For inherently unordered categorical data, a label encoder was utilized. This method imparts an order to the unordered categories by calculating and the target mean and arranging the labels in accordance.\n",
    "\n",
    "3. **Ordered Labeling for Inherently Ordered Categories:** Categories with inherent ordering, such as \"employment length,\" were encoded using a predefined ordered labeling scheme.\n",
    "\n",
    "4. **Encoding Current Year with Mean Interest Rate:** To encode the current year, an encoder was employed that assigns the mean interest rate from the previous year. This helps incorporate historical interest rate data into the feature.\n",
    "\n",
    "For any remaining null values, they were substituted with the value -9 to ensure compatibility with BorutaPy, as decision-tree-based algorithms interpret this value differently, given that all other data is positive."
   ]
  },
  {
   "cell_type": "markdown",
   "metadata": {},
   "source": [
    "**Specifying the model:**"
   ]
  },
  {
   "cell_type": "code",
   "execution_count": 16,
   "metadata": {},
   "outputs": [],
   "source": [
    "model_single_lgbm = lgb.LGBMClassifier(\n",
    "    objective=\"multiclass\",\n",
    "    class_weight=\"balanced\",\n",
    "    verbose=-1,\n",
    "    force_col_wise=True,\n",
    "    random_state=1,\n",
    "    num_threads=6,\n",
    ")\n"
   ]
  },
  {
   "cell_type": "markdown",
   "metadata": {},
   "source": [
    "#### <a id='toc2_1_2_'></a>[Feature selection](#toc0_)"
   ]
  },
  {
   "cell_type": "markdown",
   "metadata": {},
   "source": [
    "**Getting lists of selected features based on boruta algorithm with different strictness:**"
   ]
  },
  {
   "cell_type": "raw",
   "metadata": {},
   "source": [
    "original_columns = preprocess_single.fit_transform(\n",
    "    X_train_single.sample(10000, seed=1), y_train_single.sample(10000, seed=1)\n",
    ").columns\n",
    "\n",
    "boruta_selected_cols = {}\n",
    "\n",
    "transformed_sample_X = preprocess_single.fit_transform(\n",
    "    X_train_single.sample(50000, seed=1), y_train_single.sample(50000, seed=1)\n",
    ")\n",
    "transformed_sample_y = y_train_single.sample(50000, seed=1)\n",
    "for perc in np.arange(stop=101, start=10, step=10):\n",
    "    boruta = tr.BorutaFeatureSelectorPolars(\n",
    "        model_single_lgbm, random_state=1, perc=perc\n",
    "    )\n",
    "\n",
    "    boruta.fit(\n",
    "        transformed_sample_X,\n",
    "        transformed_sample_y,\n",
    "    )\n",
    "    boruta_selected_cols[perc] = boruta.transform(\n",
    "        preprocess_single.fit_transform(\n",
    "            X_train_single.sample(10000, seed=1), y_train_single.sample(10000, seed=1)\n",
    "        )\n",
    "    ).columns\n",
    "    print(f\"{perc} calculated\")\n",
    "\n",
    "# Setting the number of threads to 1 to avoid parallelization clash with ray tune.\n",
    "model_single_lgbm = lgb.LGBMClassifier(\n",
    "    objective=\"multiclass\",\n",
    "    class_weight=\"balanced\",\n",
    "    verbose=-1,\n",
    "    force_col_wise=True,\n",
    "    random_state=1,\n",
    "    num_threads=1,\n",
    ")"
   ]
  },
  {
   "cell_type": "markdown",
   "metadata": {},
   "source": [
    "**Getting lists of columns to drop:**"
   ]
  },
  {
   "cell_type": "raw",
   "metadata": {},
   "source": [
    "cols_to_drop_space=[]\n",
    "for key, columns in boruta_selected_cols.items():\n",
    "    cols_to_drop_space.append([col for col in original_columns if col not in columns])\n",
    "cols_to_drop_space.insert(0,[])\n",
    "joblib.dump(cols_to_drop_space,'temp/cols_to_drop.joblib')\n"
   ]
  },
  {
   "cell_type": "code",
   "execution_count": 17,
   "metadata": {},
   "outputs": [],
   "source": [
    "cols_to_drop_space = joblib.load(\"temp/cols_to_drop.joblib\")\n"
   ]
  },
  {
   "cell_type": "markdown",
   "metadata": {},
   "source": [
    "**Adding a feature removal step:**"
   ]
  },
  {
   "cell_type": "code",
   "execution_count": 18,
   "metadata": {},
   "outputs": [],
   "source": [
    "feature_dropper = tr.FeatureRemover([])\n",
    "preprocess_single.steps.append((\"feature_dropper\", feature_dropper))\n",
    "full_pipeline_single = Pipeline(\n",
    "    [(\"preprocess\", preprocess_single), (\"model\", model_single_lgbm)]\n",
    ")\n"
   ]
  },
  {
   "cell_type": "markdown",
   "metadata": {},
   "source": [
    "Incorporating BorutaPy directly into the pipeline proved to be impractical due to the substantial slowdown it introduced in each training iteration, particularly when the dataset featured a significant number of features. To address this issue, an alternative approach was adopted:\n",
    "\n",
    "Several trials were conducted using different Boruta algorithm stringency settings on a sample of the data. In each trial, the selected features were identified and extracted into a list of collections of columns to be removed. This list of feature removal specifications is subsequently employed within a custom FeatureRemover transformer, allowing for manual control and tuning."
   ]
  },
  {
   "cell_type": "markdown",
   "metadata": {},
   "source": [
    "#### <a id='toc2_1_3_'></a>[Hyperparameter Tuning](#toc0_)"
   ]
  },
  {
   "cell_type": "markdown",
   "metadata": {},
   "source": [
    "**Baseline for tuning:**"
   ]
  },
  {
   "cell_type": "code",
   "execution_count": 19,
   "metadata": {},
   "outputs": [
    {
     "name": "stdout",
     "output_type": "stream",
     "text": [
      "0.32921260768360766\n"
     ]
    }
   ],
   "source": [
    "full_pipeline_single.fit(\n",
    "    X_train_single.sample(100000, seed=1), y_train_single.sample(100000, seed=1)\n",
    ")\n",
    "preds = full_pipeline_single.predict(X_val_single)\n",
    "print(f1_score(y_val_single, preds, average=\"macro\"))\n"
   ]
  },
  {
   "cell_type": "markdown",
   "metadata": {},
   "source": [
    "A baseline for the untuned model was established to serve as a benchmark for the early stopping of tuning trials."
   ]
  },
  {
   "cell_type": "markdown",
   "metadata": {},
   "source": [
    "##### Parameter Search Space"
   ]
  },
  {
   "cell_type": "markdown",
   "metadata": {},
   "source": [
    "**LightGBM:**"
   ]
  },
  {
   "cell_type": "code",
   "execution_count": 20,
   "metadata": {},
   "outputs": [],
   "source": [
    "models = tunes.Models()\n",
    "search_space_lgbm = {\n",
    "    \"preprocess__feature_dropper__feats_to_drop\": tune.choice(cols_to_drop_space),\n",
    "    \"model__max_depth\": tune.randint(5, 50),\n",
    "    \"model__num_leaves\": tune.randint(10, 3051),\n",
    "    \"model__n_estimators\": tune.randint(10, 251),\n",
    "    \"model__learning_rate\": tune.loguniform(0.001, 0.1),\n",
    "    \"model__bagging_freq\": tune.randint(0, 11),\n",
    "    \"model__colsample_bytree\": tune.uniform(0.2, 1.0),\n",
    "    \"model__subsample\": tune.uniform(0.2, 1.0),\n",
    "    \"model__reg_alpha\": tune.loguniform(0.001, 100),\n",
    "    \"model__reg_lambda\": tune.loguniform(0.001, 100),\n",
    "    \"model__boosting_type\": tune.choice([\"gbdt\", \"dart\", \"rf\"]),\n",
    "    \"model__class_weight\": tune.choice([\"balanced\", None]),\n",
    "    \"model__max_bin\": tune.randint(5, 201),\n",
    "}\n",
    "\n",
    "models.add_model(\n",
    "    \"lgbm_grade_single\", full_pipeline_single, search_space_lgbm, metric_threshold=0.35\n",
    ")\n"
   ]
  },
  {
   "cell_type": "markdown",
   "metadata": {},
   "source": [
    "**Decision Tree:**"
   ]
  },
  {
   "cell_type": "code",
   "execution_count": 21,
   "metadata": {},
   "outputs": [],
   "source": [
    "preprocess_single_dtree = copy.deepcopy(preprocess_single)\n",
    "model_single_dtree = DecisionTreeClassifier(random_state=1)\n",
    "full_pipeline_single_dtree = Pipeline(\n",
    "    [(\"preprocess\", preprocess_single_dtree), (\"model\", model_single_dtree)]\n",
    ")\n",
    "\n",
    "search_space_tree = {\n",
    "    \"preprocess__feature_dropper__feats_to_drop\": tune.choice(cols_to_drop_space),\n",
    "    \"model__criterion\": tune.choice([\"gini\", \"entropy\"]),\n",
    "    \"model__splitter\": tune.choice([\"best\", \"random\"]),\n",
    "    \"model__max_depth\": tune.randint(3, 50),\n",
    "    \"model__max_features\": tune.choice([\"sqrt\", \"log2\", None]),\n",
    "    \"model__class_weight\": tune.choice([\"balanced\", None]),\n",
    "}\n",
    "\n",
    "models.add_model(\n",
    "    \"tree_grade_single\",\n",
    "    full_pipeline_single_dtree,\n",
    "    search_space_tree,\n",
    "    metric_threshold=0.3,\n",
    "    override_n=120,\n",
    ")\n"
   ]
  },
  {
   "cell_type": "markdown",
   "metadata": {},
   "source": [
    "In addition to the LightGBM model, a single decision tree model was included for the purpose of comparison. These models, along with their respective parameter configurations, were organized and managed within a dedicated \"model holder\" class. "
   ]
  },
  {
   "cell_type": "markdown",
   "metadata": {},
   "source": [
    "##### Parameter Tuning"
   ]
  },
  {
   "cell_type": "raw",
   "metadata": {},
   "source": [
    "models.tune_all(\n",
    "    X_train_single,\n",
    "    y_train_single,\n",
    "    X_val_single,\n",
    "    y_val_single,\n",
    "    n=240,\n",
    "    sample_size=15000,\n",
    "    average=\"macro\",\n",
    ")\n",
    "joblib.dump(models, \"temp/tuned_grade_models.joblib\")\n"
   ]
  },
  {
   "cell_type": "code",
   "execution_count": 22,
   "metadata": {},
   "outputs": [],
   "source": [
    "models = joblib.load(\"temp/tuned_grade_models.joblib\")\n"
   ]
  },
  {
   "cell_type": "markdown",
   "metadata": {},
   "source": [
    "The models were fine-tuned using the macro average of the F1 score as the primary evaluation criterion. This particular metric was selected because it places a strong emphasis on achieving a balanced and effective separation of all classes within the dataset, making it a robust measure of model performance across multiple categories or classes."
   ]
  },
  {
   "cell_type": "markdown",
   "metadata": {},
   "source": [
    "##### Tuning Results"
   ]
  },
  {
   "cell_type": "markdown",
   "metadata": {},
   "source": [
    "**Best parameters for each model:**"
   ]
  },
  {
   "cell_type": "code",
   "execution_count": 23,
   "metadata": {},
   "outputs": [
    {
     "name": "stdout",
     "output_type": "stream",
     "text": [
      "'lgbm_grade_single'\n",
      "{'model__bagging_freq': 9,\n",
      " 'model__boosting_type': 'gbdt',\n",
      " 'model__class_weight': 'balanced',\n",
      " 'model__colsample_bytree': 0.6849549665551705,\n",
      " 'model__learning_rate': 0.0558509334178991,\n",
      " 'model__max_bin': 40,\n",
      " 'model__max_depth': 33,\n",
      " 'model__n_estimators': 204,\n",
      " 'model__num_leaves': 2051,\n",
      " 'model__reg_alpha': 0.0010009764783985519,\n",
      " 'model__reg_lambda': 43.90677880592865,\n",
      " 'model__subsample': 0.9796606370081837}\n",
      "'tree_grade_single'\n",
      "{'model__class_weight': None,\n",
      " 'model__criterion': 'entropy',\n",
      " 'model__max_depth': 11,\n",
      " 'model__max_features': None,\n",
      " 'model__splitter': 'random'}\n"
     ]
    }
   ],
   "source": [
    "for model in models.models.values():\n",
    "    pprint(model.name)\n",
    "    pprint(\n",
    "        {\n",
    "            key: value\n",
    "            for key, value in model.best_params.items()\n",
    "            if key != \"preprocess__feature_dropper__feats_to_drop\"\n",
    "        }\n",
    "    )"
   ]
  },
  {
   "cell_type": "markdown",
   "metadata": {},
   "source": [
    "**Number of features removed in each model:**"
   ]
  },
  {
   "cell_type": "code",
   "execution_count": 24,
   "metadata": {},
   "outputs": [
    {
     "name": "stdout",
     "output_type": "stream",
     "text": [
      "'lgbm_grade_single'\n",
      "40\n",
      "'tree_grade_single'\n",
      "57\n"
     ]
    }
   ],
   "source": [
    "for model in models.models.values():\n",
    "    pprint(model.name)\n",
    "    pprint(len(model.best_params[\"preprocess__feature_dropper__feats_to_drop\"]))"
   ]
  },
  {
   "cell_type": "markdown",
   "metadata": {},
   "source": [
    "The Gradient Boosting Decision Tree (GBDT) algorithm was identified as the most suitable choice. The best LightGBM model exhibited specific hyperparameters:\n",
    "\n",
    "1. A large number of minimum leaves: The model employed 2050 minimum leaves, indicating a relatively complex tree structure.\n",
    "\n",
    "2. Feature Removal: A total of 40 features were removed from the dataset as part of the feature selection process.\n",
    "\n",
    "3. Slow Learning Rate: A learning rate of 0.06 was utilized.\n",
    "\n",
    "4. A Large Number of Estimators: The model employed 204 estimators.\n"
   ]
  },
  {
   "cell_type": "markdown",
   "metadata": {},
   "source": [
    "#### <a id='toc2_1_4_'></a>[Model Selection](#toc0_)"
   ]
  },
  {
   "cell_type": "markdown",
   "metadata": {},
   "source": [
    "**Testing the models:**"
   ]
  },
  {
   "cell_type": "code",
   "execution_count": 25,
   "metadata": {},
   "outputs": [
    {
     "name": "stdout",
     "output_type": "stream",
     "text": [
      "              precision    recall  f1-score   support\n",
      "\n",
      "           1       0.65      0.71      0.68     72529\n",
      "           2       0.48      0.55      0.51    121365\n",
      "           3       0.52      0.35      0.42    130148\n",
      "           4       0.26      0.30      0.28     50567\n",
      "           5       0.17      0.28      0.21     17982\n",
      "           6       0.14      0.20      0.16      5509\n",
      "           7       0.26      0.02      0.03      3054\n",
      "\n",
      "    accuracy                           0.46    401154\n",
      "   macro avg       0.35      0.34      0.33    401154\n",
      "weighted avg       0.48      0.46      0.46    401154\n",
      "\n",
      "              precision    recall  f1-score   support\n",
      "\n",
      "           1       0.60      0.64      0.62     72529\n",
      "           2       0.43      0.54      0.48    121365\n",
      "           3       0.45      0.51      0.48    130148\n",
      "           4       0.25      0.06      0.10     50567\n",
      "           5       0.16      0.04      0.06     17982\n",
      "           6       0.17      0.04      0.06      5509\n",
      "           7       0.08      0.15      0.11      3054\n",
      "\n",
      "    accuracy                           0.46    401154\n",
      "   macro avg       0.31      0.28      0.27    401154\n",
      "weighted avg       0.43      0.46      0.43    401154\n",
      "\n"
     ]
    }
   ],
   "source": [
    "models.models[\"lgbm_grade_single\"].pipeline[\"model\"].set_params(**{\"num_threads\": 6})\n",
    "for model in models.models.values():\n",
    "    model.pipeline.fit(X_train_single, y_train_single)\n",
    "\n",
    "preds_lgbm = models.models[\"lgbm_grade_single\"].pipeline.predict(X_val_single)\n",
    "preds_dtree = models.models[\"tree_grade_single\"].pipeline.predict(X_val_single)\n",
    "print(classification_report(y_val_single, preds_lgbm))\n",
    "print(classification_report(y_val_single, preds_dtree))\n"
   ]
  },
  {
   "cell_type": "markdown",
   "metadata": {},
   "source": [
    "Both the decision tree and the LightGBM model achieved an identical accuracy of 46%. However, the LightGBM model outperformed the decision tree in terms of average precision and recall. This indicates that the LightGBM model exhibits a better ability to distinguish and classify the rarer classes within the dataset, therefore it was chosen as the better model."
   ]
  },
  {
   "cell_type": "code",
   "execution_count": 26,
   "metadata": {},
   "outputs": [],
   "source": [
    "best_pipeline_single = models.models[\"lgbm_grade_single\"].pipeline\n"
   ]
  },
  {
   "cell_type": "markdown",
   "metadata": {},
   "source": [
    "### <a id='toc2_2_'></a>[Joint Applications](#toc0_)"
   ]
  },
  {
   "cell_type": "markdown",
   "metadata": {},
   "source": [
    "#### <a id='toc2_2_1_'></a>[Pipeline](#toc0_)"
   ]
  },
  {
   "cell_type": "markdown",
   "metadata": {},
   "source": [
    "**Setting up joint application preprocessing:**"
   ]
  },
  {
   "cell_type": "code",
   "execution_count": 27,
   "metadata": {},
   "outputs": [],
   "source": [
    "imputers_joint = copy.deepcopy(imputers)\n",
    "encoders_joint = copy.deepcopy(encoders)\n",
    "encoders_to_delete = [\"disbursement_enc\", \"paymnt_enc\"]\n",
    "\n",
    "for key in encoders_to_delete:\n",
    "    del encoders_joint.steps[key]\n",
    "\n",
    "verif_enc_joint = tr.TargetMeanOrderedLabeler(how=\"label\")\n",
    "\n",
    "encoders_joint.steps[\"verif_enc_joint\"] = PCT.Step(\n",
    "    \"verif_enc_joint\", verif_enc_joint, \"verification_status_joint\"\n",
    ")\n",
    "\n",
    "null_imp_joint = copy.deepcopy(null_imp)\n",
    "feature_dropper_joint = tr.FeatureRemover([])\n",
    "\n",
    "preprocess_joint = Pipeline(\n",
    "    [\n",
    "        (\"imputers\", imputers_joint),\n",
    "        (\"encoders\", encoders_joint),\n",
    "        (\"null_imputer\", null_imp_joint),\n",
    "        (\"feature_dropper\", feature_dropper_joint),\n",
    "    ]\n",
    ")\n",
    "\n",
    "model_joint = lgb.LGBMClassifier(\n",
    "    objective=\"multiclass\",\n",
    "    class_weight=\"balanced\",\n",
    "    verbose=-1,\n",
    "    force_col_wise=True,\n",
    "    random_state=1,\n",
    "    num_threads=12,\n",
    ")\n",
    "\n",
    "full_pipeline_joint = Pipeline(\n",
    "    [(\"preprocess\", preprocess_joint), (\"model\", model_joint)]\n",
    ")"
   ]
  },
  {
   "cell_type": "markdown",
   "metadata": {},
   "source": [
    "#### <a id='toc2_2_2_'></a>[Feature removal](#toc0_)"
   ]
  },
  {
   "cell_type": "markdown",
   "metadata": {},
   "source": [
    "**Gathering the lists of important features using the Boruta Algorithm:**"
   ]
  },
  {
   "cell_type": "raw",
   "metadata": {},
   "source": [
    "original_columns_joint = preprocess_joint.fit_transform(\n",
    "    X_train_joint.sample(10000, seed=1), y_train_joint.sample(10000, seed=1)\n",
    ").columns\n",
    "\n",
    "boruta_selected_cols_joint = {}\n",
    "\n",
    "transformed_sample_X = preprocess_joint.fit_transform(\n",
    "    X_train_joint.sample(20000, seed=1), y_train_joint.sample(20000, seed=1)\n",
    ")\n",
    "transformed_sample_y = y_train_joint.sample(20000, seed=1)\n",
    "for perc in np.arange(stop=101, start=10, step=10):\n",
    "    boruta = tr.BorutaFeatureSelectorPolars(\n",
    "        model_joint, random_state=1, perc=perc\n",
    "    )\n",
    "\n",
    "    boruta.fit(\n",
    "        transformed_sample_X,\n",
    "        transformed_sample_y,\n",
    "    )\n",
    "    boruta_selected_cols_joint[perc] = boruta.transform(\n",
    "        preprocess_joint.fit_transform(\n",
    "            X_train_joint.sample(10000, seed=1), y_train_joint.sample(10000, seed=1)\n",
    "        )\n",
    "    ).columns\n",
    "    print(f\"{perc} calculated\")\n",
    "\n",
    "model_joint = lgb.LGBMClassifier(\n",
    "    objective=\"multiclass\",\n",
    "    class_weight=\"balanced\",\n",
    "    verbose=-1,\n",
    "    force_col_wise=True,\n",
    "    random_state=1,\n",
    "    num_threads=1,\n",
    ")\n"
   ]
  },
  {
   "cell_type": "markdown",
   "metadata": {},
   "source": [
    "**Creating lists of columns to remove:**"
   ]
  },
  {
   "cell_type": "raw",
   "metadata": {},
   "source": [
    "cols_to_drop_space_joint=[]\n",
    "for key, columns in boruta_selected_cols_joint.items():\n",
    "    cols_to_drop_space_joint.append([col for col in original_columns_joint if col not in columns])\n",
    "cols_to_drop_space_joint.insert(0,[])\n",
    "joblib.dump(cols_to_drop_space_joint,'temp/cols_to_drop_joint.joblib')"
   ]
  },
  {
   "cell_type": "code",
   "execution_count": 28,
   "metadata": {},
   "outputs": [],
   "source": [
    "cols_to_drop_space_joint = joblib.load(\"temp/cols_to_drop_joint.joblib\")\n"
   ]
  },
  {
   "cell_type": "markdown",
   "metadata": {},
   "source": [
    "#### <a id='toc2_2_3_'></a>[Hyperparameter tuning](#toc0_)"
   ]
  },
  {
   "cell_type": "markdown",
   "metadata": {},
   "source": [
    "**Parameter space:**"
   ]
  },
  {
   "cell_type": "code",
   "execution_count": 29,
   "metadata": {},
   "outputs": [
    {
     "data": {
      "text/html": [
       "<style>#sk-container-id-1 {color: black;}#sk-container-id-1 pre{padding: 0;}#sk-container-id-1 div.sk-toggleable {background-color: white;}#sk-container-id-1 label.sk-toggleable__label {cursor: pointer;display: block;width: 100%;margin-bottom: 0;padding: 0.3em;box-sizing: border-box;text-align: center;}#sk-container-id-1 label.sk-toggleable__label-arrow:before {content: \"▸\";float: left;margin-right: 0.25em;color: #696969;}#sk-container-id-1 label.sk-toggleable__label-arrow:hover:before {color: black;}#sk-container-id-1 div.sk-estimator:hover label.sk-toggleable__label-arrow:before {color: black;}#sk-container-id-1 div.sk-toggleable__content {max-height: 0;max-width: 0;overflow: hidden;text-align: left;background-color: #f0f8ff;}#sk-container-id-1 div.sk-toggleable__content pre {margin: 0.2em;color: black;border-radius: 0.25em;background-color: #f0f8ff;}#sk-container-id-1 input.sk-toggleable__control:checked~div.sk-toggleable__content {max-height: 200px;max-width: 100%;overflow: auto;}#sk-container-id-1 input.sk-toggleable__control:checked~label.sk-toggleable__label-arrow:before {content: \"▾\";}#sk-container-id-1 div.sk-estimator input.sk-toggleable__control:checked~label.sk-toggleable__label {background-color: #d4ebff;}#sk-container-id-1 div.sk-label input.sk-toggleable__control:checked~label.sk-toggleable__label {background-color: #d4ebff;}#sk-container-id-1 input.sk-hidden--visually {border: 0;clip: rect(1px 1px 1px 1px);clip: rect(1px, 1px, 1px, 1px);height: 1px;margin: -1px;overflow: hidden;padding: 0;position: absolute;width: 1px;}#sk-container-id-1 div.sk-estimator {font-family: monospace;background-color: #f0f8ff;border: 1px dotted black;border-radius: 0.25em;box-sizing: border-box;margin-bottom: 0.5em;}#sk-container-id-1 div.sk-estimator:hover {background-color: #d4ebff;}#sk-container-id-1 div.sk-parallel-item::after {content: \"\";width: 100%;border-bottom: 1px solid gray;flex-grow: 1;}#sk-container-id-1 div.sk-label:hover label.sk-toggleable__label {background-color: #d4ebff;}#sk-container-id-1 div.sk-serial::before {content: \"\";position: absolute;border-left: 1px solid gray;box-sizing: border-box;top: 0;bottom: 0;left: 50%;z-index: 0;}#sk-container-id-1 div.sk-serial {display: flex;flex-direction: column;align-items: center;background-color: white;padding-right: 0.2em;padding-left: 0.2em;position: relative;}#sk-container-id-1 div.sk-item {position: relative;z-index: 1;}#sk-container-id-1 div.sk-parallel {display: flex;align-items: stretch;justify-content: center;background-color: white;position: relative;}#sk-container-id-1 div.sk-item::before, #sk-container-id-1 div.sk-parallel-item::before {content: \"\";position: absolute;border-left: 1px solid gray;box-sizing: border-box;top: 0;bottom: 0;left: 50%;z-index: -1;}#sk-container-id-1 div.sk-parallel-item {display: flex;flex-direction: column;z-index: 1;position: relative;background-color: white;}#sk-container-id-1 div.sk-parallel-item:first-child::after {align-self: flex-end;width: 50%;}#sk-container-id-1 div.sk-parallel-item:last-child::after {align-self: flex-start;width: 50%;}#sk-container-id-1 div.sk-parallel-item:only-child::after {width: 0;}#sk-container-id-1 div.sk-dashed-wrapped {border: 1px dashed gray;margin: 0 0.4em 0.5em 0.4em;box-sizing: border-box;padding-bottom: 0.4em;background-color: white;}#sk-container-id-1 div.sk-label label {font-family: monospace;font-weight: bold;display: inline-block;line-height: 1.2em;}#sk-container-id-1 div.sk-label-container {text-align: center;}#sk-container-id-1 div.sk-container {/* jupyter's `normalize.less` sets `[hidden] { display: none; }` but bootstrap.min.css set `[hidden] { display: none !important; }` so we also need the `!important` here to be able to override the default hidden behavior on the sphinx rendered scikit-learn.org. See: https://github.com/scikit-learn/scikit-learn/issues/21755 */display: inline-block !important;position: relative;}#sk-container-id-1 div.sk-text-repr-fallback {display: none;}</style><div id=\"sk-container-id-1\" class=\"sk-top-container\"><div class=\"sk-text-repr-fallback\"><pre>LGBMClassifier(class_weight=&#x27;balanced&#x27;, force_col_wise=True, num_threads=1,\n",
       "               objective=&#x27;multiclass&#x27;, random_state=1, verbose=-1)</pre><b>In a Jupyter environment, please rerun this cell to show the HTML representation or trust the notebook. <br />On GitHub, the HTML representation is unable to render, please try loading this page with nbviewer.org.</b></div><div class=\"sk-container\" hidden><div class=\"sk-item\"><div class=\"sk-estimator sk-toggleable\"><input class=\"sk-toggleable__control sk-hidden--visually\" id=\"sk-estimator-id-1\" type=\"checkbox\" checked><label for=\"sk-estimator-id-1\" class=\"sk-toggleable__label sk-toggleable__label-arrow\">LGBMClassifier</label><div class=\"sk-toggleable__content\"><pre>LGBMClassifier(class_weight=&#x27;balanced&#x27;, force_col_wise=True, num_threads=1,\n",
       "               objective=&#x27;multiclass&#x27;, random_state=1, verbose=-1)</pre></div></div></div></div></div>"
      ],
      "text/plain": [
       "LGBMClassifier(class_weight='balanced', force_col_wise=True, num_threads=1,\n",
       "               objective='multiclass', random_state=1, verbose=-1)"
      ]
     },
     "execution_count": 29,
     "metadata": {},
     "output_type": "execute_result"
    }
   ],
   "source": [
    "search_space_lgbm_joint = {\n",
    "    \"preprocess__feature_dropper__feats_to_drop\": tune.choice(cols_to_drop_space_joint),\n",
    "    \"model__max_depth\": tune.randint(5, 40),\n",
    "    \"model__num_leaves\": tune.randint(10, 2500),\n",
    "    \"model__n_estimators\": tune.randint(10, 251),\n",
    "    \"model__learning_rate\": tune.loguniform(0.001, 0.1),\n",
    "    \"model__bagging_freq\": tune.randint(0, 11),\n",
    "    \"model__colsample_bytree\": tune.uniform(0.2, 1.0),\n",
    "    \"model__subsample\": tune.uniform(0.2, 1.0),\n",
    "    \"model__reg_alpha\": tune.loguniform(0.001, 100),\n",
    "    \"model__reg_lambda\": tune.loguniform(0.001, 100),\n",
    "    \"model__boosting_type\": tune.choice([\"gbdt\", \"dart\", \"rf\"]),\n",
    "    \"model__class_weight\": tune.choice([\"balanced\", None]),\n",
    "    \"model__max_bin\": tune.randint(5, 201),\n",
    "}\n",
    "\n",
    "joint_grade_classifier = tunes.Models.Model(\n",
    "    \"joint_grade_lgbm\",\n",
    "    pipeline=full_pipeline_joint,\n",
    "    param_grid=search_space_lgbm_joint,\n",
    "    metric_threshold=0.3,\n",
    ")\n",
    "\n",
    "joint_grade_classifier.pipeline[\"model\"].set_params(**{\"num_threads\": 1})\n"
   ]
  },
  {
   "cell_type": "markdown",
   "metadata": {},
   "source": [
    "**Tuning the parameters:**"
   ]
  },
  {
   "cell_type": "raw",
   "metadata": {},
   "source": [
    "joint_grade_classifier.tune_model(\n",
    "    X_train_joint,\n",
    "    y_train_joint,\n",
    "    X_val_joint,\n",
    "    y_val_joint,\n",
    "    n=240,\n",
    "    sample_size=50000,\n",
    "    n_training=1,\n",
    "    average=\"macro\",\n",
    ")\n",
    "joblib.dump(joint_grade_classifier, \"temp/tuned_joint_grade.joblib\")"
   ]
  },
  {
   "cell_type": "code",
   "execution_count": 30,
   "metadata": {},
   "outputs": [],
   "source": [
    "joint_grade_classifier = joblib.load(\"temp/tuned_joint_grade.joblib\")\n"
   ]
  },
  {
   "cell_type": "markdown",
   "metadata": {},
   "source": [
    "**The best parameters:**"
   ]
  },
  {
   "cell_type": "code",
   "execution_count": 31,
   "metadata": {},
   "outputs": [
    {
     "data": {
      "text/plain": [
       "{'preprocess__feature_dropper__feats_to_drop': [],\n",
       " 'model__max_depth': 23,\n",
       " 'model__num_leaves': 1914,\n",
       " 'model__n_estimators': 188,\n",
       " 'model__learning_rate': 0.07073565588841094,\n",
       " 'model__bagging_freq': 6,\n",
       " 'model__colsample_bytree': 0.5167584359479642,\n",
       " 'model__subsample': 0.8708296688477901,\n",
       " 'model__reg_alpha': 12.533291967833335,\n",
       " 'model__reg_lambda': 0.00745184747969614,\n",
       " 'model__boosting_type': 'gbdt',\n",
       " 'model__class_weight': None,\n",
       " 'model__max_bin': 48}"
      ]
     },
     "execution_count": 31,
     "metadata": {},
     "output_type": "execute_result"
    }
   ],
   "source": [
    "joint_grade_classifier.best_params"
   ]
  },
  {
   "cell_type": "markdown",
   "metadata": {},
   "source": [
    "The Gradient Boosting Decision Tree (GBDT) algorithm implemented with LightGBM was chosen as the best algorithm for joint applications. It's interesting that no features were dropped, and a significant alpha regularization parameter was chosen, indicating that feature selection was accomplished primarily through regularization rather than explicit feature dropping.\n",
    "\n",
    "Introducing a time-wise performance penalty to the tuning process would be interesting. This approach can encourage the model to prefer feature dropping over heavy regularization when performance is too slow."
   ]
  },
  {
   "cell_type": "markdown",
   "metadata": {},
   "source": [
    "**Testing the model on the validation set:**"
   ]
  },
  {
   "cell_type": "code",
   "execution_count": 32,
   "metadata": {},
   "outputs": [
    {
     "name": "stdout",
     "output_type": "stream",
     "text": [
      "              precision    recall  f1-score   support\n",
      "\n",
      "           1       0.80      0.69      0.74      6153\n",
      "           2       0.52      0.55      0.54      8269\n",
      "           3       0.44      0.67      0.53      8318\n",
      "           4       0.42      0.17      0.25      4926\n",
      "           5       0.38      0.15      0.21      1511\n",
      "           6       0.24      0.17      0.20       488\n",
      "           7       0.10      0.05      0.07       137\n",
      "\n",
      "    accuracy                           0.52     29802\n",
      "   macro avg       0.41      0.35      0.36     29802\n",
      "weighted avg       0.53      0.52      0.51     29802\n",
      "\n"
     ]
    }
   ],
   "source": [
    "joint_grade_classifier.pipeline[\"model\"].set_params(**{\"num_threads\": 12})\n",
    "joint_grade_classifier.pipeline.fit(X_train_joint, y_train_joint)\n",
    "preds_joint_grade = joint_grade_classifier.pipeline.predict(X_val_joint)\n",
    "print(classification_report(y_val_joint, preds_joint_grade))\n"
   ]
  },
  {
   "cell_type": "markdown",
   "metadata": {},
   "source": [
    "The observation that the joint application model achieved a higher accuracy despite having significantly less data for training is likely attributable to the nature of joint applications. Joint applications are often associated with a higher creditworthiness or credit grade, which can make them easier to classify as they tend to exhibit more favorable characteristics.\n",
    "\n",
    "However, it's worth noting that the model's difficulty in correctly identifying the lowest grade loans is a significant limitation."
   ]
  },
  {
   "cell_type": "markdown",
   "metadata": {},
   "source": [
    "## <a id='toc3_'></a>[Sub-grade Prediction](#toc0_)"
   ]
  },
  {
   "cell_type": "markdown",
   "metadata": {},
   "source": [
    "**Setting up the target variables:**"
   ]
  },
  {
   "cell_type": "markdown",
   "metadata": {},
   "source": [
    "### <a id='toc3_1_'></a>[Single Application Sub-Grade Model](#toc0_)"
   ]
  },
  {
   "cell_type": "markdown",
   "metadata": {},
   "source": [
    "#### <a id='toc3_1_1_'></a>[Pipelines](#toc0_)"
   ]
  },
  {
   "cell_type": "markdown",
   "metadata": {},
   "source": [
    "**Setting up the pipelines:**"
   ]
  },
  {
   "cell_type": "code",
   "execution_count": 33,
   "metadata": {},
   "outputs": [],
   "source": [
    "preprocess_single_subgrade_cl = copy.deepcopy(preprocess_single)\n",
    "preprocess_single_subgrade_rg = copy.deepcopy(preprocess_single)\n",
    "\n",
    "model_single_sg_cl = lgb.LGBMClassifier(\n",
    "    objective=\"multiclass\",\n",
    "    verbose=-1,\n",
    "    force_col_wise=True,\n",
    "    random_state=1,\n",
    "    num_threads=1,\n",
    ")\n",
    "\n",
    "model_single_sg_rg = lgb.LGBMRegressor(\n",
    "    verbose=-1, force_col_wise=True, random_state=1, num_threads=1\n",
    ")\n",
    "regressor_wraper_single = tr.ModelWrapper(model_single_sg_rg)\n",
    "\n",
    "sub_grade_rounder = tr.RoundToRangeTransformer(1, 35)\n",
    "pipeline_single_sg_cl = Pipeline(\n",
    "    [(\"preprocess\", preprocess_single_subgrade_cl), (\"model\", model_single_sg_cl)]\n",
    ")\n",
    "pipeline_single_sg_rg = Pipeline(\n",
    "    [\n",
    "        (\"preprocess\", preprocess_single_subgrade_rg),\n",
    "        (\"model\", regressor_wraper_single),\n",
    "        (\"rounding\", sub_grade_rounder),\n",
    "    ]\n",
    ")\n"
   ]
  },
  {
   "cell_type": "markdown",
   "metadata": {},
   "source": [
    "Two models were compared for subgrade prediction: first, the LightGBM classifier, and second, the LightGBM regressor. Since subgrades consist of 35 ordinal values in total, it was deemed feasible to treat the prediction as a regression task. An additional post-processing rounding function was introduced into the regressor pipeline to round the predictions to the nearest integer between 1 and 35. This approach combined the advantages of regression, providing more fine-grained predictions, with the interpretability and compatibility of ordinal subgrades."
   ]
  },
  {
   "cell_type": "markdown",
   "metadata": {},
   "source": [
    "#### <a id='toc3_1_2_'></a>[Hyperparameter Tuning](#toc0_)"
   ]
  },
  {
   "cell_type": "markdown",
   "metadata": {},
   "source": [
    "**Search Space of the Classifier:**"
   ]
  },
  {
   "cell_type": "code",
   "execution_count": 34,
   "metadata": {},
   "outputs": [],
   "source": [
    "models_sub_single = tunes.Models()\n",
    "search_space_sg_cl = {\n",
    "    \"preprocess__feature_dropper__feats_to_drop\": tune.choice(cols_to_drop_space),\n",
    "    \"model__max_depth\": tune.randint(5, 40),\n",
    "    \"model__num_leaves\": tune.randint(10, 2500),\n",
    "    \"model__n_estimators\": tune.randint(10, 251),\n",
    "    \"model__learning_rate\": tune.loguniform(0.001, 0.1),\n",
    "    \"model__bagging_freq\": tune.randint(0, 11),\n",
    "    \"model__colsample_bytree\": tune.uniform(0.2, 1.0),\n",
    "    \"model__subsample\": tune.uniform(0.2, 1.0),\n",
    "    \"model__reg_alpha\": tune.loguniform(0.001, 100),\n",
    "    \"model__reg_lambda\": tune.loguniform(0.001, 100),\n",
    "    \"model__boosting_type\": tune.choice([\"gbdt\", \"dart\", \"rf\"]),\n",
    "    \"model__class_weight\": tune.choice([\"balanced\", None]),\n",
    "    \"model__max_bin\": tune.randint(5, 201),\n",
    "}\n",
    "\n",
    "models_sub_single.add_model(\n",
    "    \"cl_subgrade_single\",\n",
    "    pipeline_single_sg_cl,\n",
    "    search_space_sg_cl,\n",
    "    metric_threshold=0.1,\n",
    ")"
   ]
  },
  {
   "cell_type": "markdown",
   "metadata": {},
   "source": [
    "**Search space of the regressor:**"
   ]
  },
  {
   "cell_type": "code",
   "execution_count": 35,
   "metadata": {},
   "outputs": [],
   "source": [
    "search_space_sg_rg = {\n",
    "    \"preprocess__feature_dropper__feats_to_drop\": tune.choice(cols_to_drop_space),\n",
    "    \"model__param_grid\": {\n",
    "        \"num_leaves\": tune.randint(10, 2500),\n",
    "        \"max_depth\": tune.randint(10, 40),\n",
    "        \"n_estimators\": tune.randint(10, 251),\n",
    "        \"learning_rate\": tune.loguniform(0.001, 0.1),\n",
    "        \"bagging_freq\": tune.randint(0, 11),\n",
    "        \"colsample_bytree\": tune.uniform(0.2, 1.0),\n",
    "        \"subsample\": tune.uniform(0.2, 1.0),\n",
    "        \"reg_alpha\": tune.loguniform(0.001, 100),\n",
    "        \"reg_lambda\": tune.loguniform(0.001, 100),\n",
    "        \"boosting_type\": tune.choice([\"gbdt\", \"dart\", \"rf\"]),\n",
    "        \"class_weight\": tune.choice([\"balanced\", None]),\n",
    "        \"max_bin\": tune.randint(5, 256),\n",
    "    },\n",
    "}\n",
    "\n",
    "models_sub_single.add_model(\n",
    "    \"rg_subgrade_single\",\n",
    "    pipeline_single_sg_rg,\n",
    "    search_space_sg_rg,\n",
    "    metric_threshold=0.1,\n",
    ")\n"
   ]
  },
  {
   "cell_type": "markdown",
   "metadata": {},
   "source": [
    "**Tuning the parameters:**"
   ]
  },
  {
   "cell_type": "raw",
   "metadata": {},
   "source": [
    "models_sub_single.tune_all(X_train_single,\n",
    "    y_train_single_subgrade,\n",
    "    X_val_single,\n",
    "    y_val_single_subgrade,\n",
    "    n=240,\n",
    "    n_training = 3,\n",
    "    sample_size=15000,\n",
    "    average=\"macro\",)\n",
    "\n",
    "joblib.dump(models_sub_single,'temp/models_sub_single.joblib')"
   ]
  },
  {
   "cell_type": "code",
   "execution_count": 36,
   "metadata": {},
   "outputs": [],
   "source": [
    "models_sub_single = joblib.load(\"temp/models_sub_single.joblib\")\n"
   ]
  },
  {
   "cell_type": "markdown",
   "metadata": {},
   "source": [
    "**Best parameters for each model:**"
   ]
  },
  {
   "cell_type": "code",
   "execution_count": 37,
   "metadata": {},
   "outputs": [
    {
     "name": "stdout",
     "output_type": "stream",
     "text": [
      "cl_subgrade_single\n",
      "{'model__bagging_freq': 3,\n",
      " 'model__boosting_type': 'gbdt',\n",
      " 'model__class_weight': 'balanced',\n",
      " 'model__colsample_bytree': 0.7402382756527682,\n",
      " 'model__learning_rate': 0.08034565850796604,\n",
      " 'model__max_bin': 137,\n",
      " 'model__max_depth': 8,\n",
      " 'model__n_estimators': 231,\n",
      " 'model__num_leaves': 1116,\n",
      " 'model__reg_alpha': 0.0146906759526997,\n",
      " 'model__reg_lambda': 6.4939727257369855,\n",
      " 'model__subsample': 0.4094460840515235}\n",
      "\n",
      "\n",
      "rg_subgrade_single\n",
      "{'model__param_grid': {'bagging_freq': 7,\n",
      "                       'boosting_type': 'gbdt',\n",
      "                       'class_weight': None,\n",
      "                       'colsample_bytree': 0.5469039710628041,\n",
      "                       'learning_rate': 0.06445772008778562,\n",
      "                       'max_bin': 242,\n",
      "                       'max_depth': 21,\n",
      "                       'n_estimators': 240,\n",
      "                       'num_leaves': 1532,\n",
      "                       'reg_alpha': 0.04228411127161317,\n",
      "                       'reg_lambda': 6.398277385033161,\n",
      "                       'subsample': 0.20047425315969009}}\n",
      "\n",
      "\n"
     ]
    }
   ],
   "source": [
    "for model in models_sub_single.models.values():\n",
    "    print(model.name)\n",
    "    pprint(\n",
    "        {\n",
    "            key: value\n",
    "            for key, value in model.best_params.items()\n",
    "            if key != \"preprocess__feature_dropper__feats_to_drop\"\n",
    "        }\n",
    "    )\n",
    "    print(\"\\n\")\n"
   ]
  },
  {
   "cell_type": "markdown",
   "metadata": {},
   "source": [
    "**Number of features removed in each model:**"
   ]
  },
  {
   "cell_type": "code",
   "execution_count": 38,
   "metadata": {},
   "outputs": [
    {
     "name": "stdout",
     "output_type": "stream",
     "text": [
      "cl_subgrade_single\n",
      "57\n",
      "rg_subgrade_single\n",
      "57\n"
     ]
    }
   ],
   "source": [
    "for model in models_sub_single.models.values():\n",
    "    print(model.name)\n",
    "    pprint(len(model.best_params[\"preprocess__feature_dropper__feats_to_drop\"]))"
   ]
  },
  {
   "cell_type": "markdown",
   "metadata": {},
   "source": [
    "#### <a id='toc3_1_3_'></a>[Model Selection](#toc0_)"
   ]
  },
  {
   "cell_type": "markdown",
   "metadata": {},
   "source": [
    "**Classification report of each model:**"
   ]
  },
  {
   "cell_type": "code",
   "execution_count": 39,
   "metadata": {},
   "outputs": [
    {
     "name": "stdout",
     "output_type": "stream",
     "text": [
      "cl_subgrade_single\n",
      "              precision    recall  f1-score   support\n",
      "\n",
      "           1       0.41      0.44      0.42     15383\n",
      "           2       0.17      0.23      0.20     12260\n",
      "           3       0.13      0.18      0.15     13287\n",
      "           4       0.11      0.18      0.14     13613\n",
      "           5       0.14      0.11      0.12     17986\n",
      "           6       0.19      0.14      0.16     25290\n",
      "           7       0.11      0.08      0.09     22268\n",
      "           8       0.09      0.25      0.13     23595\n",
      "           9       0.08      0.08      0.08     21745\n",
      "          10       0.12      0.09      0.10     28467\n",
      "          11       0.12      0.06      0.08     29441\n",
      "          12       0.10      0.08      0.09     24529\n",
      "          13       0.12      0.02      0.04     24407\n",
      "          14       0.12      0.03      0.04     25222\n",
      "          15       0.12      0.05      0.07     26549\n",
      "          16       0.05      0.07      0.06     12655\n",
      "          17       0.06      0.11      0.08     11964\n",
      "          18       0.06      0.04      0.05     11893\n",
      "          19       0.04      0.05      0.05      7693\n",
      "          20       0.03      0.06      0.04      6362\n",
      "          21       0.03      0.03      0.03      3526\n",
      "          22       0.04      0.03      0.03      4231\n",
      "          23       0.02      0.04      0.03      3114\n",
      "          24       0.03      0.08      0.04      3003\n",
      "          25       0.05      0.08      0.06      4108\n",
      "          26       0.03      0.11      0.04      1619\n",
      "          27       0.02      0.07      0.03      1028\n",
      "          28       0.02      0.08      0.03      1061\n",
      "          29       0.02      0.05      0.03       899\n",
      "          30       0.03      0.05      0.03       902\n",
      "          31       0.03      0.02      0.02       845\n",
      "          32       0.03      0.01      0.01       520\n",
      "          33       0.04      0.01      0.01       524\n",
      "          34       0.05      0.00      0.01       587\n",
      "          35       0.05      0.00      0.00       578\n",
      "\n",
      "    accuracy                           0.11    401154\n",
      "   macro avg       0.08      0.09      0.07    401154\n",
      "weighted avg       0.12      0.11      0.10    401154\n",
      "\n",
      "rg_subgrade_single\n",
      "              precision    recall  f1-score   support\n",
      "\n",
      "           1       0.56      0.22      0.31     15383\n",
      "           2       0.23      0.18      0.20     12260\n",
      "           3       0.15      0.13      0.14     13287\n",
      "           4       0.13      0.13      0.13     13613\n",
      "           5       0.13      0.13      0.13     17986\n",
      "           6       0.12      0.10      0.11     25290\n",
      "           7       0.10      0.11      0.10     22268\n",
      "           8       0.10      0.12      0.11     23595\n",
      "           9       0.09      0.13      0.11     21745\n",
      "          10       0.11      0.13      0.12     28467\n",
      "          11       0.11      0.12      0.11     29441\n",
      "          12       0.09      0.12      0.10     24529\n",
      "          13       0.10      0.10      0.10     24407\n",
      "          14       0.10      0.09      0.10     25222\n",
      "          15       0.12      0.08      0.10     26549\n",
      "          16       0.06      0.07      0.06     12655\n",
      "          17       0.06      0.06      0.06     11964\n",
      "          18       0.07      0.07      0.07     11893\n",
      "          19       0.04      0.05      0.04      7693\n",
      "          20       0.04      0.05      0.05      6362\n",
      "          21       0.03      0.05      0.04      3526\n",
      "          22       0.04      0.04      0.04      4231\n",
      "          23       0.03      0.03      0.03      3114\n",
      "          24       0.03      0.03      0.03      3003\n",
      "          25       0.08      0.03      0.05      4108\n",
      "          26       0.05      0.04      0.04      1619\n",
      "          27       0.03      0.02      0.03      1028\n",
      "          28       0.04      0.02      0.03      1061\n",
      "          29       0.04      0.01      0.02       899\n",
      "          30       0.08      0.01      0.02       902\n",
      "          31       0.12      0.01      0.02       845\n",
      "          32       0.09      0.00      0.01       520\n",
      "          33       0.00      0.00      0.00       524\n",
      "          34       0.00      0.00      0.00       587\n",
      "          35       0.00      0.00      0.00       578\n",
      "\n",
      "    accuracy                           0.11    401154\n",
      "   macro avg       0.09      0.07      0.07    401154\n",
      "weighted avg       0.12      0.11      0.11    401154\n",
      "\n"
     ]
    }
   ],
   "source": [
    "preds_subgrade_single = {}\n",
    "for name, model in models_sub_single.models.items():\n",
    "    model.pipeline.fit(X_train_single, y_train_single_subgrade)\n",
    "    preds_subgrade_single[name] = model.pipeline.predict(X_val_single)\n",
    "    print(name)\n",
    "    print(classification_report(y_val_single_subgrade, preds_subgrade_single[name]))\n"
   ]
  },
  {
   "cell_type": "markdown",
   "metadata": {},
   "source": [
    "Both the model and the regressor achieved a similar, albeit very low accuracy of 11%, and they displayed identical average F1-scores. However, as subgrades follow an ordinal order, misclassifying a subgrade far away in the order should carry a greater penalty. To facilitate a more comprehensive comparison of these two models, the mean squared error is also employed as an evaluation metric. This approach accounts for the magnitude of the errors."
   ]
  },
  {
   "cell_type": "markdown",
   "metadata": {},
   "source": [
    "**Mean squared error of each model:**"
   ]
  },
  {
   "cell_type": "code",
   "execution_count": 40,
   "metadata": {},
   "outputs": [
    {
     "name": "stdout",
     "output_type": "stream",
     "text": [
      "cl_subgrade_single\n",
      "MSE: 30.540126734371338\n",
      "rg_subgrade_single\n",
      "MSE: 19.811127397458332\n"
     ]
    }
   ],
   "source": [
    "from sklearn.metrics import mean_squared_error\n",
    "\n",
    "for name, preds in preds_subgrade_single.items():\n",
    "    print(name)\n",
    "    print(f\"MSE: {mean_squared_error(y_val_single_subgrade,preds)}\")\n"
   ]
  },
  {
   "cell_type": "markdown",
   "metadata": {},
   "source": [
    "The regressor exhibited a significantly lower Mean Squared Error (MSE), indicating its superior performance. As a result, it was selected as the preferred option for subgrade prediction."
   ]
  },
  {
   "cell_type": "markdown",
   "metadata": {},
   "source": [
    "**Visual comparison of model predictions:**"
   ]
  },
  {
   "cell_type": "code",
   "execution_count": 41,
   "metadata": {},
   "outputs": [
    {
     "data": {
      "image/png": "[encoded data removed]",
      "text/plain": [
       "<Figure size 850x450 with 1 Axes>"
      ]
     },
     "metadata": {},
     "output_type": "display_data"
    }
   ],
   "source": [
    "fig_rg_cl, ax_rg_cl = plt.subplots(figsize=BASE_FIG_SIZE)\n",
    "ax_rg_cl.scatter(\n",
    "    y_val_single_subgrade[:300],\n",
    "    preds_subgrade_single[\"cl_subgrade_single\"][:300],\n",
    "    alpha=0.6,\n",
    "    label=\"Classifier\",\n",
    ")\n",
    "ax_rg_cl.scatter(\n",
    "    y_val_single_subgrade[:300],\n",
    "    preds_subgrade_single[\"rg_subgrade_single\"][:300],\n",
    "    alpha=0.6,\n",
    "    label=\"Regressor\",\n",
    ")\n",
    "ax_rg_cl.legend()\n",
    "ax_rg_cl.set_xlabel(\"True Sub-Grade\")\n",
    "ax_rg_cl.set_ylabel(\"Predicted Sub-Grade\")\n",
    "plt.show()\n"
   ]
  },
  {
   "cell_type": "code",
   "execution_count": 42,
   "metadata": {},
   "outputs": [],
   "source": [
    "best_pipeline_single_sub = models_sub_single.models[\"rg_subgrade_single\"].pipeline\n"
   ]
  },
  {
   "cell_type": "markdown",
   "metadata": {},
   "source": [
    "### <a id='toc3_2_'></a>[Joint Application Sub-grade Model](#toc0_)"
   ]
  },
  {
   "cell_type": "markdown",
   "metadata": {},
   "source": [
    "#### <a id='toc3_2_1_'></a>[Pipeline](#toc0_)"
   ]
  },
  {
   "cell_type": "code",
   "execution_count": 43,
   "metadata": {},
   "outputs": [],
   "source": [
    "preprocess_joint_sub = copy.deepcopy(preprocess_joint)\n",
    "model_joint_sub = lgb.LGBMRegressor(\n",
    "    verbose=-1, force_col_wise=True, random_state=1, num_threads=1\n",
    ")\n",
    "\n",
    "regressor_wraper_joint = tr.ModelWrapper(model_joint_sub)\n",
    "\n",
    "sub_grade_rounder = tr.RoundToRangeTransformer(1, 35)\n",
    "\n",
    "full_pipeline_joint_sub = Pipeline(\n",
    "    [\n",
    "        (\"preprocess\", preprocess_joint_sub),\n",
    "        (\"model\", regressor_wraper_joint),\n",
    "        (\"rounding\", sub_grade_rounder),\n",
    "    ]\n",
    ")\n"
   ]
  },
  {
   "cell_type": "markdown",
   "metadata": {},
   "source": [
    "#### <a id='toc3_2_2_'></a>[Hyperparameter tuning](#toc0_)"
   ]
  },
  {
   "cell_type": "markdown",
   "metadata": {},
   "source": [
    "**Search Space:**"
   ]
  },
  {
   "cell_type": "code",
   "execution_count": 44,
   "metadata": {},
   "outputs": [],
   "source": [
    "search_space_sg_jt = {\n",
    "    \"preprocess__feature_dropper__feats_to_drop\": tune.choice(cols_to_drop_space_joint),\n",
    "    \"model__param_grid\": {\n",
    "        \"num_leaves\": tune.randint(10, 2500),\n",
    "        \"max_depth\": tune.randint(10, 40),\n",
    "        \"n_estimators\": tune.randint(10, 251),\n",
    "        \"learning_rate\": tune.loguniform(0.001, 0.1),\n",
    "        \"bagging_freq\": tune.randint(0, 11),\n",
    "        \"colsample_bytree\": tune.uniform(0.2, 1.0),\n",
    "        \"subsample\": tune.uniform(0.2, 1.0),\n",
    "        \"reg_alpha\": tune.loguniform(0.001, 100),\n",
    "        \"reg_lambda\": tune.loguniform(0.001, 100),\n",
    "        \"boosting_type\": tune.choice([\"gbdt\", \"dart\", \"rf\"]),\n",
    "        \"class_weight\": tune.choice([\"balanced\", None]),\n",
    "        \"max_bin\": tune.randint(5, 256),\n",
    "    },\n",
    "}\n",
    "\n",
    "joint_subgrade_classifier = tunes.Models.Model(\n",
    "    \"joint_subgrade_lgbm\",\n",
    "    pipeline=full_pipeline_joint_sub,\n",
    "    param_grid=search_space_sg_rg,\n",
    ")"
   ]
  },
  {
   "cell_type": "markdown",
   "metadata": {},
   "source": [
    "**Hyperparameter tuning:**"
   ]
  },
  {
   "cell_type": "raw",
   "metadata": {},
   "source": [
    "joint_subgrade_classifier.tune_model(X_train_joint,\n",
    "    y_train_joint_subgrade,\n",
    "    X_val_joint,\n",
    "    y_val_joint_subgrade,\n",
    "    n=360,\n",
    "    n_training = 1,\n",
    "    sample_size='all',\n",
    "    average=\"macro\")\n",
    "    joblib.dump(joint_subgrade_classifier,'temp/tuned_joint_subgrade.joblib')"
   ]
  },
  {
   "cell_type": "code",
   "execution_count": 45,
   "metadata": {},
   "outputs": [],
   "source": [
    "joint_subgrade_classifier = joblib.load(\"temp/tuned_joint_subgrade.joblib\")\n"
   ]
  },
  {
   "cell_type": "markdown",
   "metadata": {},
   "source": [
    "**Best parameters:**"
   ]
  },
  {
   "cell_type": "code",
   "execution_count": 46,
   "metadata": {},
   "outputs": [
    {
     "data": {
      "text/plain": [
       "{'preprocess__feature_dropper__feats_to_drop': [],\n",
       " 'model__param_grid': {'num_leaves': 1328,\n",
       "  'max_depth': 11,\n",
       "  'n_estimators': 123,\n",
       "  'learning_rate': 0.09054917289383625,\n",
       "  'bagging_freq': 8,\n",
       "  'colsample_bytree': 0.5736133186071858,\n",
       "  'subsample': 0.5468612549578166,\n",
       "  'reg_alpha': 62.956344297261495,\n",
       "  'reg_lambda': 0.658195653076076,\n",
       "  'boosting_type': 'gbdt',\n",
       "  'class_weight': 'balanced',\n",
       "  'max_bin': 199}}"
      ]
     },
     "execution_count": 46,
     "metadata": {},
     "output_type": "execute_result"
    }
   ],
   "source": [
    "joint_subgrade_classifier.best_params"
   ]
  },
  {
   "cell_type": "markdown",
   "metadata": {},
   "source": [
    "## <a id='toc4_'></a>[Interest Rate Prediction](#toc0_)"
   ]
  },
  {
   "cell_type": "markdown",
   "metadata": {},
   "source": [
    "### <a id='toc4_1_'></a>[Single Application Interest Rate Model](#toc0_)"
   ]
  },
  {
   "cell_type": "markdown",
   "metadata": {},
   "source": [
    "#### <a id='toc4_1_1_'></a>[Pipeline](#toc0_)"
   ]
  },
  {
   "cell_type": "code",
   "execution_count": 47,
   "metadata": {},
   "outputs": [],
   "source": [
    "preprocess_single_intr = copy.deepcopy(preprocess_single_subgrade_rg)\n",
    "\n",
    "model_intr_single = lgb.LGBMRegressor(\n",
    "    verbose=-1, force_col_wise=True, random_state=1, num_threads=1\n",
    ")\n",
    "\n",
    "full_pipeline_single_int = Pipeline(\n",
    "    [(\"preprocess\", preprocess_single_intr), (\"model\", model_intr_single)]\n",
    ")"
   ]
  },
  {
   "cell_type": "markdown",
   "metadata": {},
   "source": [
    "The LightGBM Regressor is also used to predict interest rates."
   ]
  },
  {
   "cell_type": "markdown",
   "metadata": {},
   "source": [
    "#### <a id='toc4_1_2_'></a>[Hyperparameter Tuning](#toc0_)"
   ]
  },
  {
   "cell_type": "markdown",
   "metadata": {},
   "source": [
    "**Search Space:**"
   ]
  },
  {
   "cell_type": "code",
   "execution_count": 48,
   "metadata": {},
   "outputs": [],
   "source": [
    "search_space_single_int = {\n",
    "    \"preprocess__feature_dropper__feats_to_drop\": tune.choice(cols_to_drop_space),\n",
    "    \"model__num_leaves\": tune.randint(10, 2500),\n",
    "    \"model__max_depth\": tune.randint(10, 40),\n",
    "    \"model__n_estimators\": tune.randint(10, 251),\n",
    "    \"model__learning_rate\": tune.loguniform(0.001, 0.1),\n",
    "    \"model__bagging_freq\": tune.randint(0, 11),\n",
    "    \"model__colsample_bytree\": tune.uniform(0.2, 1.0),\n",
    "    \"model__subsample\": tune.uniform(0.2, 1.0),\n",
    "    \"model__reg_alpha\": tune.loguniform(0.001, 100),\n",
    "    \"model__reg_lambda\": tune.loguniform(0.001, 100),\n",
    "    \"model__boosting_type\": tune.choice([\"gbdt\", \"dart\", \"rf\"]),\n",
    "    \"model__class_weight\": tune.choice([\"balanced\", None]),\n",
    "    \"model__max_bin\": tune.randint(5, 256),\n",
    "}\n",
    "\n",
    "single_intr_regressor = tunes.Models.Model(\n",
    "    \"lgb_single_intr\", full_pipeline_single_int, search_space_single_int\n",
    ")"
   ]
  },
  {
   "cell_type": "markdown",
   "metadata": {},
   "source": [
    "**Hyperparameter Tuning:**"
   ]
  },
  {
   "cell_type": "raw",
   "metadata": {},
   "source": [
    "single_intr_regressor.tune_model(X_train_single,\n",
    "    y_train_single_intr,\n",
    "    X_val_single,\n",
    "    y_val_single_intr,\n",
    "    n=240,\n",
    "    n_training = 3,\n",
    "    sample_size=20000,\n",
    "    average=\"mse\",\n",
    "    stratify=False)\n",
    "\n",
    "joblib.dump(single_intr_regressor,'temp/tuned_single_intr.joblib')"
   ]
  },
  {
   "cell_type": "code",
   "execution_count": 49,
   "metadata": {},
   "outputs": [],
   "source": [
    "single_intr_regressor = joblib.load(\"temp/tuned_single_intr.joblib\")\n"
   ]
  },
  {
   "cell_type": "markdown",
   "metadata": {},
   "source": [
    "**Best parameters:**"
   ]
  },
  {
   "cell_type": "code",
   "execution_count": 50,
   "metadata": {},
   "outputs": [
    {
     "data": {
      "text/plain": [
       "{'preprocess__feature_dropper__feats_to_drop': ['home_ownership',\n",
       "  'fico_range_high',\n",
       "  'pub_rec',\n",
       "  'last_fico_range_low',\n",
       "  'acc_now_delinq',\n",
       "  'open_acc_6m',\n",
       "  'open_act_il',\n",
       "  'open_rv_12m',\n",
       "  'total_cu_tl',\n",
       "  'chargeoff_within_12_mths',\n",
       "  'delinq_amnt',\n",
       "  'num_accts_ever_120_pd',\n",
       "  'num_tl_30dpd',\n",
       "  'num_tl_90g_dpd_24m',\n",
       "  'pub_rec_bankruptcies',\n",
       "  'tax_liens',\n",
       "  'pymnt_plan_n'],\n",
       " 'model__num_leaves': 46,\n",
       " 'model__max_depth': 26,\n",
       " 'model__n_estimators': 229,\n",
       " 'model__learning_rate': 0.04097826783228507,\n",
       " 'model__bagging_freq': 9,\n",
       " 'model__colsample_bytree': 0.4605071209203868,\n",
       " 'model__subsample': 0.7985765558239912,\n",
       " 'model__reg_alpha': 0.08150969820951884,\n",
       " 'model__reg_lambda': 52.11146437354523,\n",
       " 'model__boosting_type': 'gbdt',\n",
       " 'model__class_weight': None,\n",
       " 'model__max_bin': 189}"
      ]
     },
     "execution_count": 50,
     "metadata": {},
     "output_type": "execute_result"
    }
   ],
   "source": [
    "single_intr_regressor.best_params"
   ]
  },
  {
   "cell_type": "markdown",
   "metadata": {},
   "source": [
    "**Testing on the validation set:**"
   ]
  },
  {
   "cell_type": "code",
   "execution_count": 51,
   "metadata": {},
   "outputs": [
    {
     "name": "stdout",
     "output_type": "stream",
     "text": [
      "12.928763130190735\n"
     ]
    }
   ],
   "source": [
    "single_intr_regressor.pipeline[\"model\"].set_params(**{\"num_threads\": 6})\n",
    "single_intr_regressor.pipeline.fit(X_train_single, y_train_single_intr)\n",
    "preds_val_single_intr = single_intr_regressor.pipeline.predict(X_val_single)\n",
    "print(mean_squared_error(y_val_single_intr, preds_val_single_intr))\n"
   ]
  },
  {
   "cell_type": "markdown",
   "metadata": {},
   "source": [
    "### <a id='toc4_2_'></a>[Joint Application Interest Rate Model](#toc0_)"
   ]
  },
  {
   "cell_type": "markdown",
   "metadata": {},
   "source": [
    "#### <a id='toc4_2_1_'></a>[Pipeline](#toc0_)"
   ]
  },
  {
   "cell_type": "code",
   "execution_count": 52,
   "metadata": {},
   "outputs": [],
   "source": [
    "preprocess_joint_intr = copy.deepcopy(preprocess_joint)\n",
    "model_joint_intr = lgb.LGBMRegressor(\n",
    "    verbose=-1, force_col_wise=True, random_state=1, num_threads=1\n",
    ")\n",
    "full_pipeline_joint_int = Pipeline(\n",
    "    [(\"preprocess\", preprocess_joint_intr), (\"model\", model_joint_intr)]\n",
    ")\n"
   ]
  },
  {
   "cell_type": "markdown",
   "metadata": {},
   "source": [
    "#### <a id='toc4_2_2_'></a>[Hyperparameter tuning](#toc0_)"
   ]
  },
  {
   "cell_type": "markdown",
   "metadata": {},
   "source": [
    "**Search Space:**"
   ]
  },
  {
   "cell_type": "code",
   "execution_count": 53,
   "metadata": {},
   "outputs": [],
   "source": [
    "search_space_joint_int = {\n",
    "    \"preprocess__feature_dropper__feats_to_drop\": tune.choice(cols_to_drop_space_joint),\n",
    "    \"model__num_leaves\": tune.randint(10, 2500),\n",
    "    \"model__max_depth\": tune.randint(10, 40),\n",
    "    \"model__n_estimators\": tune.randint(10, 251),\n",
    "    \"model__learning_rate\": tune.loguniform(0.001, 0.1),\n",
    "    \"model__bagging_freq\": tune.randint(0, 11),\n",
    "    \"model__colsample_bytree\": tune.uniform(0.2, 1.0),\n",
    "    \"model__subsample\": tune.uniform(0.2, 1.0),\n",
    "    \"model__reg_alpha\": tune.loguniform(0.001, 100),\n",
    "    \"model__reg_lambda\": tune.loguniform(0.001, 100),\n",
    "    \"model__boosting_type\": tune.choice([\"gbdt\", \"dart\", \"rf\"]),\n",
    "    \"model__class_weight\": tune.choice([\"balanced\", None]),\n",
    "    \"model__max_bin\": tune.randint(5, 256),\n",
    "}\n",
    "\n",
    "joint_intr_regressor = tunes.Models.Model(\n",
    "    \"lgb_single_intr\", full_pipeline_joint_int, search_space_joint_int\n",
    ")"
   ]
  },
  {
   "cell_type": "markdown",
   "metadata": {},
   "source": [
    "**Hyperparameter Tuning:**"
   ]
  },
  {
   "cell_type": "raw",
   "metadata": {},
   "source": [
    "joint_intr_regressor.tune_model(X_train_joint,\n",
    "    y_train_joint_intr,\n",
    "    X_val_joint,\n",
    "    y_val_joint_intr,\n",
    "    n=240,\n",
    "    n_training = 1,\n",
    "    sample_size=\"all\",\n",
    "    average=\"mse\",\n",
    "    stratify=False)\n",
    "\n",
    "joblib.dump(joint_intr_regressor,'temp/tuned_joint_intr.joblib')"
   ]
  },
  {
   "cell_type": "code",
   "execution_count": 54,
   "metadata": {},
   "outputs": [],
   "source": [
    "joint_intr_regressor = joblib.load(\"temp/tuned_joint_intr.joblib\")\n"
   ]
  },
  {
   "cell_type": "markdown",
   "metadata": {},
   "source": [
    "**Best parameters:**"
   ]
  },
  {
   "cell_type": "code",
   "execution_count": 55,
   "metadata": {},
   "outputs": [
    {
     "data": {
      "text/plain": [
       "{'preprocess__feature_dropper__feats_to_drop': ['fico_range_high',\n",
       "  'last_fico_range_low',\n",
       "  'acc_now_delinq',\n",
       "  'chargeoff_within_12_mths',\n",
       "  'num_tl_30dpd',\n",
       "  'num_tl_90g_dpd_24m',\n",
       "  'tax_liens',\n",
       "  'sec_app_fico_range_high',\n",
       "  'sec_app_chargeoff_within_12_mths'],\n",
       " 'model__num_leaves': 574,\n",
       " 'model__max_depth': 12,\n",
       " 'model__n_estimators': 242,\n",
       " 'model__learning_rate': 0.03581489530064032,\n",
       " 'model__bagging_freq': 9,\n",
       " 'model__colsample_bytree': 0.5797207762981923,\n",
       " 'model__subsample': 0.4742557858067049,\n",
       " 'model__reg_alpha': 31.62329618631865,\n",
       " 'model__reg_lambda': 1.537825593464215,\n",
       " 'model__boosting_type': 'gbdt',\n",
       " 'model__class_weight': None,\n",
       " 'model__max_bin': 209}"
      ]
     },
     "execution_count": 55,
     "metadata": {},
     "output_type": "execute_result"
    }
   ],
   "source": [
    "joint_intr_regressor.best_params"
   ]
  },
  {
   "cell_type": "markdown",
   "metadata": {},
   "source": [
    "**Testing on the validation set:**"
   ]
  },
  {
   "cell_type": "code",
   "execution_count": 56,
   "metadata": {},
   "outputs": [
    {
     "name": "stdout",
     "output_type": "stream",
     "text": [
      "12.194204012981643\n"
     ]
    }
   ],
   "source": [
    "joint_intr_regressor.pipeline.fit(X_train_joint, y_train_joint_intr)\n",
    "preds_val_joint_intr = joint_intr_regressor.pipeline.predict(X_val_joint)\n",
    "print(mean_squared_error(y_val_joint_intr, preds_val_joint_intr))\n"
   ]
  },
  {
   "cell_type": "markdown",
   "metadata": {},
   "source": [
    "## <a id='toc5_'></a>[Testing](#toc0_)"
   ]
  },
  {
   "cell_type": "markdown",
   "metadata": {},
   "source": [
    "### <a id='toc5_1_'></a>[Time-wise analysis](#toc0_)"
   ]
  },
  {
   "cell_type": "markdown",
   "metadata": {},
   "source": [
    "It's intriguing to examine the constancy of a model's performance over time. To investigate this, the Mean Squared Error (MSE) of predictions for each month was computed. In this test, both the training and predictions were conducted on the same training set."
   ]
  },
  {
   "cell_type": "markdown",
   "metadata": {},
   "source": [
    "**Getting the mean squared error each month:**"
   ]
  },
  {
   "cell_type": "code",
   "execution_count": 57,
   "metadata": {},
   "outputs": [],
   "source": [
    "preds_train_single_intr = single_intr_regressor.pipeline.predict(X_train_single)\n",
    "\n",
    "time_results = pl.DataFrame(\n",
    "    {\n",
    "        \"date\": dates_train,\n",
    "        \"True\": y_train_single_intr,\n",
    "        \"Predictions\": preds_train_single_intr,\n",
    "    }\n",
    ")\n",
    "time_results = time_results.with_columns(\n",
    "    ((pl.col(\"True\") - pl.col(\"Predictions\")) ** 2).alias(\"se\")\n",
    ")\n",
    "time_results = dmf.str_to_date(time_results, [\"date\"], \"%b-%Y\")\n",
    "\n",
    "mse_mo = (\n",
    "    time_results.sort(\"date\")\n",
    "    .group_by_dynamic(\"date\", every=\"1mo\")\n",
    "    .agg(pl.col(\"se\").mean())\n",
    ")"
   ]
  },
  {
   "cell_type": "markdown",
   "metadata": {},
   "source": [
    "**Mean squared errors over time:**"
   ]
  },
  {
   "cell_type": "code",
   "execution_count": 58,
   "metadata": {},
   "outputs": [
    {
     "data": {
      "image/png": "[encoded data removed]",
      "text/plain": [
       "<Figure size 850x450 with 1 Axes>"
      ]
     },
     "metadata": {},
     "output_type": "display_data"
    }
   ],
   "source": [
    "fig_monthly_se, ax_monthly_se = plt.subplots(figsize=BASE_FIG_SIZE)\n",
    "ax_monthly_se.scatter(mse_mo[\"date\"], mse_mo[\"se\"])\n",
    "ax_monthly_se.set_ylabel(\"Mean Squared Error\")\n",
    "ax_monthly_se.set_xlabel(\"Date\")\n",
    "plt.show()\n"
   ]
  },
  {
   "cell_type": "markdown",
   "metadata": {},
   "source": [
    "The observation that the model's performance starts to degrade from 2013 and onwards, despite making predictions on data it has already seen during training, suggests the presence of external factors or evolving conditions that are not explicitly incorporated into the model. These external factors could include changes in economic conditions, regulatory policies, or other unaccounted variables that impact the prediction task."
   ]
  },
  {
   "cell_type": "markdown",
   "metadata": {},
   "source": [
    "**Getting a comparison of MSE when trained on the full data set and when trained only on latter data**"
   ]
  },
  {
   "cell_type": "code",
   "execution_count": 59,
   "metadata": {},
   "outputs": [
    {
     "name": "stdout",
     "output_type": "stream",
     "text": [
      "MSE When trained on the full training set:\n",
      "12.928763130190735\n"
     ]
    },
    {
     "name": "stdout",
     "output_type": "stream",
     "text": [
      "MSE When trained only on 2014-2016 data:\n",
      "12.8533904116089\n"
     ]
    }
   ],
   "source": [
    "print(\"MSE When trained on the full training set:\")\n",
    "print(mean_squared_error(y_val_single_intr, preds_val_single_intr))\n",
    "\n",
    "single_intr_regressor.pipeline.fit(\n",
    "    X_train_single.with_columns(y_train_single_intr)\n",
    "    .filter(pl.col(\"year\") >= 2014)\n",
    "    .drop(columns=\"int_rate\"),\n",
    "    X_train_single.with_columns(y_train_single_intr).filter(pl.col(\"year\") >= 2014)[\n",
    "        \"int_rate\"\n",
    "    ],\n",
    ")\n",
    "\n",
    "preds_val_2016 = single_intr_regressor.pipeline.predict(X_val_single)\n",
    "\n",
    "print(\"MSE When trained only on 2014-2016 data:\")\n",
    "print(mean_squared_error(y_val_single_intr, preds_val_2016))"
   ]
  },
  {
   "cell_type": "markdown",
   "metadata": {},
   "source": [
    "**A comparison of grade classification metrics when trained on the full training set and only on latter data:**"
   ]
  },
  {
   "cell_type": "code",
   "execution_count": 60,
   "metadata": {},
   "outputs": [
    {
     "name": "stdout",
     "output_type": "stream",
     "text": [
      "Full training set:\n",
      "              precision    recall  f1-score   support\n",
      "\n",
      "           1       0.65      0.71      0.68     72529\n",
      "           2       0.48      0.55      0.51    121365\n",
      "           3       0.52      0.35      0.42    130148\n",
      "           4       0.26      0.30      0.28     50567\n",
      "           5       0.17      0.28      0.21     17982\n",
      "           6       0.14      0.20      0.16      5509\n",
      "           7       0.26      0.02      0.03      3054\n",
      "\n",
      "    accuracy                           0.46    401154\n",
      "   macro avg       0.35      0.34      0.33    401154\n",
      "weighted avg       0.48      0.46      0.46    401154\n",
      "\n",
      "Trained only on 2014-2016 data:\n",
      "              precision    recall  f1-score   support\n",
      "\n",
      "           1       0.65      0.73      0.69     72529\n",
      "           2       0.52      0.54      0.53    121365\n",
      "           3       0.52      0.43      0.47    130148\n",
      "           4       0.30      0.32      0.31     50567\n",
      "           5       0.19      0.31      0.24     17982\n",
      "           6       0.16      0.17      0.17      5509\n",
      "           7       0.23      0.04      0.07      3054\n",
      "\n",
      "    accuracy                           0.49    401154\n",
      "   macro avg       0.37      0.36      0.35    401154\n",
      "weighted avg       0.50      0.49      0.49    401154\n",
      "\n"
     ]
    }
   ],
   "source": [
    "print(\"Full training set:\")\n",
    "print(classification_report(y_val_single, preds_lgbm))\n",
    "\n",
    "best_pipeline_single.fit(\n",
    "    X_train_single.with_columns(y_train_single)\n",
    "    .filter(pl.col(\"year\") >= 2014)\n",
    "    .drop(columns=\"grade\"),\n",
    "    X_train_single.with_columns(y_train_single).filter(pl.col(\"year\") >= 2014)[\"grade\"],\n",
    ")\n",
    "\n",
    "preds_val_2016_grade = best_pipeline_single.predict(X_val_single)\n",
    "\n",
    "print(\"Trained only on 2014-2016 data:\")\n",
    "print(classification_report(y_val_single, preds_val_2016_grade))\n"
   ]
  },
  {
   "cell_type": "markdown",
   "metadata": {},
   "source": [
    "The evidence suggests that the predictions for both grades and interest rates tend to be more accurate when the models are trained on newer data. While the increase in accuracy may not completely offset the temporal effects observed earlier, it does indicate that model performance can benefit from staying up-to-date with more recent training data.\n",
    "\n",
    "Due to this phenomena the exported models will only be trained on the validation and test sets after all the testing is done (2017-2018 data)."
   ]
  },
  {
   "cell_type": "markdown",
   "metadata": {},
   "source": [
    "### <a id='toc5_2_'></a>[Feature importance based on SHAP values](#toc0_)"
   ]
  },
  {
   "cell_type": "markdown",
   "metadata": {},
   "source": [
    "**Grade prediction shap values:**"
   ]
  },
  {
   "cell_type": "code",
   "execution_count": 61,
   "metadata": {},
   "outputs": [
    {
     "data": {
      "image/png": "[encoded data removed]",
      "text/plain": [
       "<Figure size 800x550 with 1 Axes>"
      ]
     },
     "metadata": {},
     "output_type": "display_data"
    }
   ],
   "source": [
    "names = (\n",
    "    best_pipeline_single[\"preprocess\"]\n",
    "    .transform(X_val_single.sample(1000, seed=1))\n",
    "    .columns\n",
    ")\n",
    "explainer_tree = shap.TreeExplainer(\n",
    "    best_pipeline_single[\"model\"],\n",
    "    data=best_pipeline_single[\"preprocess\"]\n",
    "    .transform((X_val_single.sample(1000, seed=1)))\n",
    "    .to_numpy(),\n",
    "    model_output=\"raw\",\n",
    ")\n",
    "\n",
    "shap_values_grade = explainer_tree.shap_values(\n",
    "    best_pipeline_single[\"preprocess\"]\n",
    "    .transform(X_val_single.sample(1000, seed=1))\n",
    "    .to_numpy(),\n",
    "    approximate=True,\n",
    ")\n",
    "\n",
    "shap.summary_plot(\n",
    "    shap_values_grade,\n",
    "    best_pipeline_single[\"preprocess\"]\n",
    "    .transform(X_val_single.sample(1000, seed=1))\n",
    "    .to_numpy(),\n",
    "    feature_names=names,\n",
    "    class_names={0: \"A\", 1: \"B\", 2: \"C\", 3: \"D\", 4: \"E\", 5: \"F\", 6: \"G\"},\n",
    "    max_display=10,\n",
    ")\n"
   ]
  },
  {
   "cell_type": "markdown",
   "metadata": {},
   "source": [
    "**Interest rate prediction SHAP values:**"
   ]
  },
  {
   "cell_type": "code",
   "execution_count": 62,
   "metadata": {},
   "outputs": [
    {
     "name": "stderr",
     "output_type": "stream",
     "text": [
      "No data for colormapping provided via 'c'. Parameters 'vmin', 'vmax' will be ignored\n"
     ]
    },
    {
     "data": {
      "image/png": "[encoded data removed]",
      "text/plain": [
       "<Figure size 800x550 with 2 Axes>"
      ]
     },
     "metadata": {},
     "output_type": "display_data"
    }
   ],
   "source": [
    "names_single_intr = (\n",
    "    single_intr_regressor.pipeline[\"preprocess\"]\n",
    "    .transform(X_val_single.sample(1000, seed=1))\n",
    "    .columns\n",
    ")\n",
    "explainer_single_intr = shap.TreeExplainer(\n",
    "    single_intr_regressor.pipeline[\"model\"],\n",
    "    data=single_intr_regressor.pipeline[\"preprocess\"]\n",
    "    .transform((X_val_single.sample(1000, seed=1)))\n",
    "    .to_numpy(),\n",
    "    model_output=\"raw\",\n",
    ")\n",
    "\n",
    "shap_values_single_intr = explainer_single_intr.shap_values(\n",
    "    single_intr_regressor.pipeline[\"preprocess\"]\n",
    "    .transform(X_val_single.sample(1000, seed=1))\n",
    "    .to_numpy(),\n",
    "    approximate=True,\n",
    ")\n",
    "\n",
    "shap.summary_plot(\n",
    "    shap_values_single_intr,\n",
    "    single_intr_regressor.pipeline[\"preprocess\"]\n",
    "    .transform(X_val_single.sample(1000, seed=1))\n",
    "    .to_numpy(),\n",
    "    feature_names=names_single_intr,\n",
    "    max_display=10,\n",
    ")\n"
   ]
  },
  {
   "cell_type": "markdown",
   "metadata": {},
   "source": [
    "**Joint Application Interest Model SHAP Values:**"
   ]
  },
  {
   "cell_type": "code",
   "execution_count": 63,
   "metadata": {},
   "outputs": [
    {
     "name": "stderr",
     "output_type": "stream",
     "text": [
      "No data for colormapping provided via 'c'. Parameters 'vmin', 'vmax' will be ignored\n"
     ]
    },
    {
     "data": {
      "image/png": "[encoded data removed]",
      "text/plain": [
       "<Figure size 800x550 with 2 Axes>"
      ]
     },
     "metadata": {},
     "output_type": "display_data"
    }
   ],
   "source": [
    "names_joint_intr = (\n",
    "    joint_intr_regressor.pipeline[\"preprocess\"]\n",
    "    .transform(X_test_joint.sample(1000, seed=1))\n",
    "    .columns\n",
    ")\n",
    "explainer_joint_intr = shap.TreeExplainer(\n",
    "    joint_intr_regressor.pipeline[\"model\"],\n",
    "    data=joint_intr_regressor.pipeline[\"preprocess\"]\n",
    "    .transform((X_test_joint.sample(1000, seed=1)))\n",
    "    .to_numpy(),\n",
    "    model_output=\"raw\",\n",
    ")\n",
    "\n",
    "shap_values_joint_intr = explainer_joint_intr.shap_values(\n",
    "    joint_intr_regressor.pipeline[\"preprocess\"]\n",
    "    .transform(X_test_joint.sample(1000, seed=1))\n",
    "    .to_numpy(),\n",
    "    approximate=True,\n",
    ")\n",
    "\n",
    "shap.summary_plot(\n",
    "    shap_values_joint_intr,\n",
    "    joint_intr_regressor.pipeline[\"preprocess\"]\n",
    "    .transform(X_test_joint.sample(1000, seed=1))\n",
    "    .to_numpy(),\n",
    "    feature_names=names_joint_intr,\n",
    "    max_display=10,\n",
    ")\n"
   ]
  },
  {
   "cell_type": "markdown",
   "metadata": {},
   "source": [
    "According to SHAP, the most influential features in determining the model's grade and interest rate predictions included:\n",
    "\n",
    "1. Term of the loan.\n",
    "2. FICO range: The range of the applicant's FICO credit score.\n",
    "3. Loan amount (loan_amnt).\n",
    "4. Annual income (annual_inc).\n",
    "5. Debt-to-Income ratio (DTI).\n",
    "6. Verification Status.\n",
    "7. Purpose of the loan.\n",
    "8. Number of accounts opened in past 12 months.\n",
    "\n",
    "For joint applications similar joint features or features of the second applicant were also influential."
   ]
  },
  {
   "cell_type": "markdown",
   "metadata": {},
   "source": [
    "### <a id='toc5_3_'></a>[Final Testing and Exports](#toc0_)"
   ]
  },
  {
   "cell_type": "markdown",
   "metadata": {},
   "source": [
    "#### <a id='toc5_3_1_'></a>[Single Application Grade Model](#toc0_)"
   ]
  },
  {
   "cell_type": "code",
   "execution_count": 64,
   "metadata": {},
   "outputs": [
    {
     "name": "stdout",
     "output_type": "stream",
     "text": [
      "              precision    recall  f1-score   support\n",
      "\n",
      "           1       0.75      0.58      0.65    119923\n",
      "           2       0.43      0.44      0.43    121995\n",
      "           3       0.39      0.41      0.40    108373\n",
      "           4       0.29      0.32      0.31     57923\n",
      "           5       0.15      0.24      0.18     15356\n",
      "           6       0.04      0.07      0.05      2266\n",
      "           7       0.01      0.05      0.01       421\n",
      "\n",
      "    accuracy                           0.45    426257\n",
      "   macro avg       0.29      0.30      0.29    426257\n",
      "weighted avg       0.48      0.45      0.46    426257\n",
      "\n"
     ]
    }
   ],
   "source": [
    "best_pipeline_single.fit(X_val_single, y_val_single)\n",
    "\n",
    "preds_single_final = best_pipeline_single.predict(X_test_single)\n",
    "print(classification_report(y_test_single, preds_single_final))\n"
   ]
  },
  {
   "cell_type": "markdown",
   "metadata": {},
   "source": [
    "**Exporting the final model:**"
   ]
  },
  {
   "cell_type": "code",
   "execution_count": 65,
   "metadata": {},
   "outputs": [
    {
     "data": {
      "text/plain": [
       "['trained_models/model_single_grade.joblib']"
      ]
     },
     "execution_count": 65,
     "metadata": {},
     "output_type": "execute_result"
    }
   ],
   "source": [
    "best_pipeline_single.fit(\n",
    "    X_val_single.vstack(X_test_single),\n",
    "    pl.concat([y_val_single, y_test_single]),\n",
    ")\n",
    "\n",
    "joblib.dump(best_pipeline_single, \"trained_models/model_single_grade.joblib\")"
   ]
  },
  {
   "cell_type": "markdown",
   "metadata": {},
   "source": [
    "#### <a id='toc5_3_2_'></a>[Joint Application Grade model](#toc0_)"
   ]
  },
  {
   "cell_type": "markdown",
   "metadata": {},
   "source": [
    "**Testing the model:**"
   ]
  },
  {
   "cell_type": "code",
   "execution_count": 66,
   "metadata": {},
   "outputs": [
    {
     "name": "stdout",
     "output_type": "stream",
     "text": [
      "              precision    recall  f1-score   support\n",
      "\n",
      "           1       0.75      0.77      0.76      6921\n",
      "           2       0.53      0.53      0.53      8069\n",
      "           3       0.44      0.52      0.47      7397\n",
      "           4       0.41      0.39      0.40      4496\n",
      "           5       0.33      0.11      0.17      1521\n",
      "           6       0.29      0.09      0.13       275\n",
      "           7       0.00      0.00      0.00        78\n",
      "\n",
      "    accuracy                           0.54     28757\n",
      "   macro avg       0.39      0.34      0.35     28757\n",
      "weighted avg       0.53      0.54      0.53     28757\n",
      "\n"
     ]
    }
   ],
   "source": [
    "joint_grade_classifier.pipeline.fit(X_val_joint, y_val_joint)\n",
    "\n",
    "preds_joint_grade_final = joint_grade_classifier.pipeline.predict(X_test_joint)\n",
    "print(classification_report(y_test_joint, preds_joint_grade_final))\n"
   ]
  },
  {
   "cell_type": "markdown",
   "metadata": {},
   "source": [
    "The model's accuracy increased when tested on the most recent data. This suggests that the model is adapting well to changing trends and conditions. However, the persistent difficulty in identifying the lowest grade loans indicates that there may be specific challenges or complexities associated with this subset of loan applications."
   ]
  },
  {
   "cell_type": "markdown",
   "metadata": {},
   "source": [
    "**Exporting the final model:**"
   ]
  },
  {
   "cell_type": "code",
   "execution_count": 67,
   "metadata": {},
   "outputs": [
    {
     "data": {
      "text/plain": [
       "['trained_models/model_joint_grade.joblib']"
      ]
     },
     "execution_count": 67,
     "metadata": {},
     "output_type": "execute_result"
    }
   ],
   "source": [
    "joint_grade_classifier.pipeline.fit(\n",
    "    X_val_joint.vstack(X_test_joint),\n",
    "    pl.concat([y_val_joint, y_test_joint]),\n",
    ")\n",
    "\n",
    "joblib.dump(joint_grade_classifier.pipeline, \"trained_models/model_joint_grade.joblib\")"
   ]
  },
  {
   "cell_type": "markdown",
   "metadata": {},
   "source": [
    "#### <a id='toc5_3_3_'></a>[Single Application Sub-Grade Model](#toc0_)"
   ]
  },
  {
   "cell_type": "markdown",
   "metadata": {},
   "source": [
    "**Testing the model on new data:**"
   ]
  },
  {
   "cell_type": "code",
   "execution_count": 68,
   "metadata": {},
   "outputs": [
    {
     "name": "stderr",
     "output_type": "stream",
     "text": [
      "Precision and F-score are ill-defined and being set to 0.0 in labels with no predicted samples. Use `zero_division` parameter to control this behavior.\n"
     ]
    },
    {
     "name": "stdout",
     "output_type": "stream",
     "text": [
      "              precision    recall  f1-score   support\n",
      "\n",
      "           1       0.53      0.07      0.12     25888\n",
      "           2       0.28      0.11      0.16     20060\n",
      "           3       0.20      0.10      0.13     22424\n",
      "           4       0.16      0.08      0.10     27749\n",
      "           5       0.13      0.08      0.10     23802\n",
      "           6       0.08      0.06      0.07     23858\n",
      "           7       0.08      0.08      0.08     25171\n",
      "           8       0.07      0.10      0.08     20545\n",
      "           9       0.09      0.10      0.09     27549\n",
      "          10       0.08      0.11      0.09     24872\n",
      "          11       0.07      0.11      0.09     24254\n",
      "          12       0.07      0.11      0.09     21487\n",
      "          13       0.08      0.11      0.09     22497\n",
      "          14       0.08      0.11      0.09     20682\n",
      "          15       0.08      0.10      0.09     19453\n",
      "          16       0.06      0.09      0.08     13834\n",
      "          17       0.06      0.08      0.07     12981\n",
      "          18       0.07      0.07      0.07     11839\n",
      "          19       0.07      0.07      0.07     10237\n",
      "          20       0.08      0.06      0.07      9032\n",
      "          21       0.02      0.03      0.02      3347\n",
      "          22       0.02      0.03      0.03      2693\n",
      "          23       0.05      0.04      0.05      3023\n",
      "          24       0.05      0.03      0.03      2601\n",
      "          25       0.11      0.03      0.04      3692\n",
      "          26       0.04      0.02      0.02      1194\n",
      "          27       0.01      0.00      0.01       405\n",
      "          28       0.00      0.00      0.00       288\n",
      "          29       0.00      0.00      0.00       184\n",
      "          30       0.00      0.00      0.00       195\n",
      "          31       0.00      0.00      0.00       265\n",
      "          32       0.00      0.00      0.00        77\n",
      "          33       0.00      0.00      0.00        34\n",
      "          34       0.00      0.00      0.00        21\n",
      "          35       0.00      0.00      0.00        24\n",
      "\n",
      "    accuracy                           0.09    426257\n",
      "   macro avg       0.08      0.06      0.06    426257\n",
      "weighted avg       0.13      0.09      0.09    426257\n",
      "\n",
      "MSE: 21.94437862604016\n"
     ]
    },
    {
     "name": "stderr",
     "output_type": "stream",
     "text": [
      "Precision and F-score are ill-defined and being set to 0.0 in labels with no predicted samples. Use `zero_division` parameter to control this behavior.\n",
      "Precision and F-score are ill-defined and being set to 0.0 in labels with no predicted samples. Use `zero_division` parameter to control this behavior.\n"
     ]
    }
   ],
   "source": [
    "best_pipeline_single_sub[\"model\"].model.set_params(**{\"num_threads\": 6})\n",
    "best_pipeline_single_sub.fit(X_val_single, y_val_single_subgrade)\n",
    "preds_single_sub_final = best_pipeline_single_sub.predict(X_test_single)\n",
    "print(classification_report(y_test_single_subgrade, preds_single_sub_final))\n",
    "print(f\"MSE: {mean_squared_error(y_test_single_subgrade,preds_single_sub_final)}\")\n"
   ]
  },
  {
   "cell_type": "markdown",
   "metadata": {},
   "source": [
    "**Exporting the final model:**"
   ]
  },
  {
   "cell_type": "code",
   "execution_count": 69,
   "metadata": {},
   "outputs": [
    {
     "data": {
      "text/plain": [
       "['trained_models/model_single_sugrade.joblib']"
      ]
     },
     "execution_count": 69,
     "metadata": {},
     "output_type": "execute_result"
    }
   ],
   "source": [
    "best_pipeline_single_sub.fit(\n",
    "    X_val_single.vstack(X_test_single),\n",
    "    pl.concat([y_val_single_subgrade, y_test_single_subgrade]),\n",
    ")\n",
    "\n",
    "joblib.dump(best_pipeline_single_sub, \"trained_models/model_single_sugrade.joblib\")"
   ]
  },
  {
   "cell_type": "markdown",
   "metadata": {},
   "source": [
    "#### <a id='toc5_3_4_'></a>[Joint Application Sub-Grade Model](#toc0_)"
   ]
  },
  {
   "cell_type": "markdown",
   "metadata": {},
   "source": [
    "**Testing the model on new data:**"
   ]
  },
  {
   "cell_type": "code",
   "execution_count": 70,
   "metadata": {},
   "outputs": [
    {
     "name": "stdout",
     "output_type": "stream",
     "text": [
      "              precision    recall  f1-score   support\n",
      "\n",
      "           1       0.83      0.23      0.36      1560\n",
      "           2       0.26      0.19      0.22      1197\n",
      "           3       0.18      0.18      0.18      1157\n",
      "           4       0.19      0.12      0.15      1793\n",
      "           5       0.11      0.13      0.12      1214\n",
      "           6       0.14      0.12      0.13      1698\n",
      "           7       0.12      0.11      0.11      1794\n",
      "           8       0.06      0.10      0.08       984\n",
      "           9       0.13      0.10      0.12      1934\n",
      "          10       0.09      0.09      0.09      1659\n",
      "          11       0.10      0.10      0.10      1674\n",
      "          12       0.08      0.09      0.09      1526\n",
      "          13       0.08      0.09      0.08      1504\n",
      "          14       0.08      0.11      0.10      1316\n",
      "          15       0.10      0.12      0.11      1377\n",
      "          16       0.06      0.09      0.07      1019\n",
      "          17       0.08      0.10      0.09      1044\n",
      "          18       0.08      0.10      0.09       935\n",
      "          19       0.07      0.08      0.07       831\n",
      "          20       0.07      0.08      0.07       667\n",
      "          21       0.02      0.04      0.03       340\n",
      "          22       0.01      0.03      0.02       203\n",
      "          23       0.03      0.04      0.04       297\n",
      "          24       0.03      0.04      0.04       253\n",
      "          25       0.14      0.06      0.09       428\n",
      "          26       0.03      0.04      0.04        93\n",
      "          27       0.05      0.05      0.05        64\n",
      "          28       0.00      0.00      0.00        38\n",
      "          29       0.00      0.00      0.00        43\n",
      "          30       0.67      0.05      0.10        37\n",
      "          31       0.00      0.00      0.00        63\n",
      "          32       0.00      0.00      0.00         5\n",
      "          33       0.00      0.00      0.00         6\n",
      "          34       0.00      0.00      0.00         2\n",
      "          35       0.00      0.00      0.00         2\n",
      "\n",
      "    accuracy                           0.11     28757\n",
      "   macro avg       0.11      0.08      0.08     28757\n",
      "weighted avg       0.15      0.11      0.12     28757\n",
      "\n",
      "MSE: 16.72754459783705\n"
     ]
    },
    {
     "name": "stderr",
     "output_type": "stream",
     "text": [
      "Precision and F-score are ill-defined and being set to 0.0 in labels with no predicted samples. Use `zero_division` parameter to control this behavior.\n",
      "Precision and F-score are ill-defined and being set to 0.0 in labels with no predicted samples. Use `zero_division` parameter to control this behavior.\n",
      "Precision and F-score are ill-defined and being set to 0.0 in labels with no predicted samples. Use `zero_division` parameter to control this behavior.\n"
     ]
    }
   ],
   "source": [
    "joint_subgrade_classifier.pipeline[\"model\"].model.set_params(**{\"num_threads\": 6})\n",
    "joint_subgrade_classifier.pipeline.fit(X_val_joint, y_val_joint_subgrade)\n",
    "preds_joint_sub_final = joint_subgrade_classifier.pipeline.predict(X_test_joint)\n",
    "print(classification_report(y_test_joint_subgrade, preds_joint_sub_final))\n",
    "print(f\"MSE: {mean_squared_error(y_test_joint_subgrade,preds_joint_sub_final)}\")\n"
   ]
  },
  {
   "cell_type": "markdown",
   "metadata": {},
   "source": [
    "**Exporting the model:**"
   ]
  },
  {
   "cell_type": "code",
   "execution_count": 71,
   "metadata": {},
   "outputs": [
    {
     "data": {
      "text/plain": [
       "['trained_models/model_joint_subgrade.joblib']"
      ]
     },
     "execution_count": 71,
     "metadata": {},
     "output_type": "execute_result"
    }
   ],
   "source": [
    "joint_subgrade_classifier.pipeline.fit(\n",
    "    X_val_joint.vstack(X_test_joint),\n",
    "    pl.concat([y_val_joint_subgrade, y_test_joint_subgrade]),\n",
    ")\n",
    "joblib.dump(\n",
    "    joint_subgrade_classifier.pipeline, \"trained_models/model_joint_subgrade.joblib\"\n",
    ")"
   ]
  },
  {
   "cell_type": "markdown",
   "metadata": {},
   "source": [
    "#### <a id='toc5_3_5_'></a>[Single Application Interest Rate Model](#toc0_)"
   ]
  },
  {
   "cell_type": "markdown",
   "metadata": {},
   "source": [
    "**Testing the model on new data:**"
   ]
  },
  {
   "cell_type": "code",
   "execution_count": 72,
   "metadata": {},
   "outputs": [
    {
     "name": "stdout",
     "output_type": "stream",
     "text": [
      "MSE: 13.57844571333342\n"
     ]
    }
   ],
   "source": [
    "single_intr_regressor.pipeline.fit(X_val_single, y_val_single_intr)\n",
    "\n",
    "preds_single_int_final = single_intr_regressor.pipeline.predict(X_test_single)\n",
    "\n",
    "print(f\"MSE: {mean_squared_error(y_test_single_intr,preds_single_int_final)}\")"
   ]
  },
  {
   "cell_type": "markdown",
   "metadata": {},
   "source": [
    "**Exporting the model**"
   ]
  },
  {
   "cell_type": "code",
   "execution_count": 73,
   "metadata": {},
   "outputs": [
    {
     "data": {
      "text/plain": [
       "['trained_models/model_single_intr.joblib']"
      ]
     },
     "execution_count": 73,
     "metadata": {},
     "output_type": "execute_result"
    }
   ],
   "source": [
    "single_intr_regressor.pipeline.fit(\n",
    "    X_val_single.vstack(X_test_single),\n",
    "    pl.concat([y_val_single_intr, y_test_single_intr]),\n",
    ")\n",
    "joblib.dump(single_intr_regressor.pipeline, \"trained_models/model_single_intr.joblib\")"
   ]
  },
  {
   "cell_type": "markdown",
   "metadata": {},
   "source": [
    "#### <a id='toc5_3_6_'></a>[Joint Application Interest Rate Model](#toc0_)"
   ]
  },
  {
   "cell_type": "markdown",
   "metadata": {},
   "source": [
    "**Testing the model**"
   ]
  },
  {
   "cell_type": "code",
   "execution_count": 74,
   "metadata": {},
   "outputs": [
    {
     "name": "stdout",
     "output_type": "stream",
     "text": [
      "11.18999929344555\n"
     ]
    }
   ],
   "source": [
    "joint_intr_regressor.pipeline.fit(X_val_joint, y_val_joint_intr)\n",
    "preds_test_joint_intr = joint_intr_regressor.pipeline.predict(X_test_joint)\n",
    "print(mean_squared_error(y_test_joint_intr, preds_test_joint_intr))\n"
   ]
  },
  {
   "cell_type": "markdown",
   "metadata": {},
   "source": [
    "**Exporting the model**"
   ]
  },
  {
   "cell_type": "code",
   "execution_count": 75,
   "metadata": {},
   "outputs": [
    {
     "data": {
      "text/plain": [
       "['trained_models/model_joint_intr']"
      ]
     },
     "execution_count": 75,
     "metadata": {},
     "output_type": "execute_result"
    }
   ],
   "source": [
    "joint_intr_regressor.pipeline.fit(\n",
    "    X_val_joint.vstack(X_test_joint),\n",
    "    pl.concat([y_val_joint_intr, y_test_joint_intr]),\n",
    ")\n",
    "\n",
    "joblib.dump(joint_intr_regressor.pipeline, \"trained_models/model_joint_intr\")\n"
   ]
  },
  {
   "cell_type": "markdown",
   "metadata": {},
   "source": [
    "#### <a id='toc5_3_7_'></a>[Testing Overview](#toc0_)"
   ]
  },
  {
   "cell_type": "markdown",
   "metadata": {},
   "source": [
    "When testing the models on the final test set, which was collected from the most recent time range, there was decrease in performance this likely attributable to a combination of two main factors:\n",
    "\n",
    "1. **Overfitting:** The model may have become overfitted to the training data, resulting in a decrease in its generalization performance on unseen data. Overfitting occurs when the model captures noise or specific patterns in the training data that do not generalize well to new, unseen data.\n",
    "\n",
    "2. **Changing Trends:** As evident from the temporal analysis of model performance, external factors, such as changes in central bank interest rates and shifts in the popularity or dynamics of the lending platform, can introduce variability and complexity into the data. These evolving trends and external factors may not have been adequately accounted for during model training.\n",
    "\n"
   ]
  }
 ],
 "metadata": {
  "kernelspec": {
   "display_name": "base",
   "language": "python",
   "name": "python3"
  },
  "language_info": {
   "codemirror_mode": {
    "name": "ipython",
    "version": 3
   },
   "file_extension": ".py",
   "mimetype": "text/x-python",
   "name": "python",
   "nbconvert_exporter": "python",
   "pygments_lexer": "ipython3",
   "version": "3.9.13"
  }
 },
 "nbformat": 4,
 "nbformat_minor": 2
}
