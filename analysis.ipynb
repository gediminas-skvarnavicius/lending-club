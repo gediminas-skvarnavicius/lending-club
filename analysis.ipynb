{
 "cells": [
  {
   "cell_type": "code",
   "execution_count": 1,
   "metadata": {},
   "outputs": [
    {
     "name": "stderr",
     "output_type": "stream",
     "text": [
      "Using `tqdm.autonotebook.tqdm` in notebook mode. Use `tqdm.tqdm` instead to force console mode (e.g. in jupyter console)\n"
     ]
    }
   ],
   "source": [
    "%reload_ext autoreload\n",
    "%autoreload 1\n",
    "import shap\n",
    "import matplotlib.pyplot as plt\n",
    "import polars as pl\n",
    "import pandas as pd\n",
    "import sys\n",
    "import numpy as np\n",
    "from sklearn.model_selection import train_test_split\n",
    "import functions.transformers as tr\n",
    "import functions.data_manipulation_functions as dmf\n",
    "import functions.plot_functions as pf\n",
    "import seaborn as sns\n",
    "from sklearn.compose import ColumnTransformer\n",
    "from sklearn.pipeline import Pipeline\n",
    "from sklearn.metrics import classification_report\n",
    "from sklearn.preprocessing import LabelEncoder\n",
    "from sklearn.preprocessing import OneHotEncoder\n",
    "import lightgbm as lgb\n",
    "%aimport functions.transformers\n",
    "%aimport functions.data_manipulation_functions\n",
    "%aimport functions.plot_functions"
   ]
  },
  {
   "cell_type": "code",
   "execution_count": 2,
   "metadata": {},
   "outputs": [],
   "source": [
    "BASE_FIG_SIZE=(8.5,4.5)\n",
    "sns.set()"
   ]
  },
  {
   "cell_type": "code",
   "execution_count": 3,
   "metadata": {},
   "outputs": [],
   "source": [
    "data_sample=pl.read_parquet('data/data_sample.parquet')"
   ]
  },
  {
   "cell_type": "code",
   "execution_count": 4,
   "metadata": {},
   "outputs": [],
   "source": [
    "data_sample=dmf.title_text_features(data_sample)"
   ]
  },
  {
   "cell_type": "code",
   "execution_count": 5,
   "metadata": {},
   "outputs": [],
   "source": [
    "X_mini_train, X_mini_val, y_mini_train, y_mini_val = train_test_split(\n",
    "    data_sample.drop(columns=\"Policy Code\"),\n",
    "    data_sample[\"Policy Code\"],\n",
    "    test_size=0.3,\n",
    "    stratify=data_sample[\"Policy Code\"],\n",
    ")"
   ]
  },
  {
   "cell_type": "markdown",
   "metadata": {},
   "source": [
    "# stop here"
   ]
  },
  {
   "cell_type": "code",
   "execution_count": 7,
   "metadata": {},
   "outputs": [],
   "source": [
    "title_cat_imputer=tr.NotInImputerPolars(cat_no=12,fill_value=None)\n",
    "zip_imputer=tr.NotInImputerPolars(cat_no=10,fill_value=None)\n",
    "state_imputer=tr.NotInImputerPolars(cat_no=10,fill_value=None)\n",
    "emp_length_imputer=tr.NotInImputerPolars(cat_no=12,fill_value=None)\n",
    "\n",
    "imputer = tr.PolarsColumnTransformer(\n",
    "    [\n",
    "        tr.PolarsColumnTransformer.Step(title_cat_imputer, \"title\"),\n",
    "        tr.PolarsColumnTransformer.Step(zip_imputer, \"Zip Code\"),\n",
    "        tr.PolarsColumnTransformer.Step(state_imputer, \"State\"),\n",
    "        tr.PolarsColumnTransformer.Step(emp_length_imputer, \"Employment Length\"),\n",
    "    ]\n",
    ")"
   ]
  },
  {
   "cell_type": "code",
   "execution_count": 8,
   "metadata": {},
   "outputs": [],
   "source": [
    "numeric_columns = X_mini_train.select(pl.selectors.by_dtype(pl.NUMERIC_DTYPES)).columns\n",
    "categorical_columns = [col for col in X_mini_train.columns if col not in numeric_columns]\n",
    "numeric_columns_idx=[X_mini_train.columns.index(val) for val in numeric_columns]\n",
    "categorical_column_idx=[X_mini_train.columns.index(val) for val in categorical_columns]"
   ]
  },
  {
   "cell_type": "code",
   "execution_count": 9,
   "metadata": {},
   "outputs": [],
   "source": [
    "state_encoder = tr.PolarsOneHotEncoder()\n",
    "zip_encoder = tr.PolarsOneHotEncoder()\n",
    "title_encoder = tr.PolarsOneHotEncoder()\n",
    "length_order = [\n",
    "    None,\n",
    "    \"< 1 year\",\n",
    "    \"1 year\",\n",
    "    \"2 years\",\n",
    "    \"3 years\",\n",
    "    \"4 years\",\n",
    "    \"5 years\",\n",
    "    \"6 years\",\n",
    "    \"7 years\",\n",
    "    \"8 years\",\n",
    "    \"9 years\",\n",
    "    \"10+ years\",\n",
    "]\n",
    "\n",
    "employment_encoder=tr.PolarsOrdinalEncoder(order=length_order)\n",
    "encoder = tr.PolarsColumnTransformer(\n",
    "    [\n",
    "        tr.PolarsColumnTransformer.Step(state_encoder, \"State\"),\n",
    "        tr.PolarsColumnTransformer.Step(zip_encoder, \"Zip Code\"),\n",
    "        tr.PolarsColumnTransformer.Step(title_encoder, \"title\"),\n",
    "        tr.PolarsColumnTransformer.Step(employment_encoder, \"Employment Length\"),\n",
    "    ]\n",
    ")"
   ]
  },
  {
   "cell_type": "code",
   "execution_count": 10,
   "metadata": {},
   "outputs": [],
   "source": [
    "loan_classifier = lgb.LGBMClassifier(\n",
    "    class_weight=\"balanced\", force_col_wise=True, verbose=-1, num_threads=6,random_state=1\n",
    ")"
   ]
  },
  {
   "cell_type": "code",
   "execution_count": 11,
   "metadata": {},
   "outputs": [],
   "source": [
    "full_pipeline = Pipeline(\n",
    "    [\n",
    "        (\"preprocess\", Pipeline([(\"imputer\", imputer), (\"encoder\", encoder)])),\n",
    "        (\"model\", loan_classifier),\n",
    "    ]\n",
    ")"
   ]
  },
  {
   "cell_type": "code",
   "execution_count": 12,
   "metadata": {},
   "outputs": [
    {
     "data": {
      "text/html": [
       "<div class=\"tuneStatus\">\n",
       "  <div style=\"display: flex;flex-direction: row\">\n",
       "    <div style=\"display: flex;flex-direction: column;\">\n",
       "      <h3>Tune Status</h3>\n",
       "      <table>\n",
       "<tbody>\n",
       "<tr><td>Current time:</td><td>2023-09-29 14:07:18</td></tr>\n",
       "<tr><td>Running for: </td><td>00:00:23.40        </td></tr>\n",
       "<tr><td>Memory:      </td><td>8.0/31.2 GiB       </td></tr>\n",
       "</tbody>\n",
       "</table>\n",
       "    </div>\n",
       "    <div class=\"vDivider\"></div>\n",
       "    <div class=\"systemInfo\">\n",
       "      <h3>System Info</h3>\n",
       "      Using FIFO scheduling algorithm.<br>Logical resource usage: 1.0/12 CPUs, 0/1 GPUs (0.0/1.0 accelerator_type:G)\n",
       "    </div>\n",
       "    \n",
       "  </div>\n",
       "  <div class=\"hDivider\"></div>\n",
       "  <div class=\"trialStatus\">\n",
       "    <h3>Trial Status</h3>\n",
       "    <table>\n",
       "<thead>\n",
       "<tr><th>Trial name           </th><th>status    </th><th>loc                </th><th>model__boosting_type  </th><th style=\"text-align: right;\">         model__colsample_byt\n",
       "ree</th><th style=\"text-align: right;\">  model__learning_rate</th><th style=\"text-align: right;\">  model__n_estimators</th><th style=\"text-align: right;\">  model__num_leaves</th><th style=\"text-align: right;\">  model__reg_alpha</th><th style=\"text-align: right;\">  model__reg_lambda</th><th style=\"text-align: right;\">  model__subsample</th><th style=\"text-align: right;\">  iter</th><th style=\"text-align: right;\">  total time (s)</th><th style=\"text-align: right;\">   score</th></tr>\n",
       "</thead>\n",
       "<tbody>\n",
       "<tr><td>Trainable_4cb7a_00000</td><td>TERMINATED</td><td>192.168.0.103:19775</td><td>rf                    </td><td style=\"text-align: right;\">0.979115</td><td style=\"text-align: right;\">             0.0015514</td><td style=\"text-align: right;\">                  195</td><td style=\"text-align: right;\">                 80</td><td style=\"text-align: right;\">          0.153673</td><td style=\"text-align: right;\">          0.0389837</td><td style=\"text-align: right;\">           0.60679</td><td style=\"text-align: right;\">    50</td><td style=\"text-align: right;\">         21.7085</td><td style=\"text-align: right;\">0.578299</td></tr>\n",
       "</tbody>\n",
       "</table>\n",
       "  </div>\n",
       "</div>\n",
       "<style>\n",
       ".tuneStatus {\n",
       "  color: var(--jp-ui-font-color1);\n",
       "}\n",
       ".tuneStatus .systemInfo {\n",
       "  display: flex;\n",
       "  flex-direction: column;\n",
       "}\n",
       ".tuneStatus td {\n",
       "  white-space: nowrap;\n",
       "}\n",
       ".tuneStatus .trialStatus {\n",
       "  display: flex;\n",
       "  flex-direction: column;\n",
       "}\n",
       ".tuneStatus h3 {\n",
       "  font-weight: bold;\n",
       "}\n",
       ".tuneStatus .hDivider {\n",
       "  border-bottom-width: var(--jp-border-width);\n",
       "  border-bottom-color: var(--jp-border-color0);\n",
       "  border-bottom-style: solid;\n",
       "}\n",
       ".tuneStatus .vDivider {\n",
       "  border-left-width: var(--jp-border-width);\n",
       "  border-left-color: var(--jp-border-color0);\n",
       "  border-left-style: solid;\n",
       "  margin: 0.5em 1em 0.5em 1em;\n",
       "}\n",
       "</style>\n"
      ],
      "text/plain": [
       "<IPython.core.display.HTML object>"
      ]
     },
     "metadata": {},
     "output_type": "display_data"
    },
    {
     "name": "stdout",
     "output_type": "stream",
     "text": [
      "\u001b[2m\u001b[36m(Trainable pid=19775)\u001b[0m trial 0\n",
      "\u001b[2m\u001b[36m(Trainable pid=19775)\u001b[0m trial 1\n",
      "\u001b[2m\u001b[36m(Trainable pid=19775)\u001b[0m trial 2\n",
      "\u001b[2m\u001b[36m(Trainable pid=19775)\u001b[0m trial 3\n",
      "\u001b[2m\u001b[36m(Trainable pid=19775)\u001b[0m trial 4\n",
      "\u001b[2m\u001b[36m(Trainable pid=19775)\u001b[0m trial 5\n",
      "\u001b[2m\u001b[36m(Trainable pid=19775)\u001b[0m trial 6\n",
      "\u001b[2m\u001b[36m(Trainable pid=19775)\u001b[0m trial 7\n",
      "\u001b[2m\u001b[36m(Trainable pid=19775)\u001b[0m trial 8\n",
      "\u001b[2m\u001b[36m(Trainable pid=19775)\u001b[0m trial 9\n",
      "\u001b[2m\u001b[36m(Trainable pid=19775)\u001b[0m trial 10\n",
      "\u001b[2m\u001b[36m(Trainable pid=19775)\u001b[0m trial 11\n",
      "\u001b[2m\u001b[36m(Trainable pid=19775)\u001b[0m trial 12\n",
      "\u001b[2m\u001b[36m(Trainable pid=19775)\u001b[0m trial 13\n",
      "\u001b[2m\u001b[36m(Trainable pid=19775)\u001b[0m trial 14\n",
      "\u001b[2m\u001b[36m(Trainable pid=19775)\u001b[0m trial 15\n",
      "\u001b[2m\u001b[36m(Trainable pid=19775)\u001b[0m trial 16\n",
      "\u001b[2m\u001b[36m(Trainable pid=19775)\u001b[0m trial 17\n",
      "\u001b[2m\u001b[36m(Trainable pid=19775)\u001b[0m trial 18\n",
      "\u001b[2m\u001b[36m(Trainable pid=19775)\u001b[0m trial 19\n",
      "\u001b[2m\u001b[36m(Trainable pid=19775)\u001b[0m trial 20\n",
      "\u001b[2m\u001b[36m(Trainable pid=19775)\u001b[0m trial 21\n",
      "\u001b[2m\u001b[36m(Trainable pid=19775)\u001b[0m trial 22\n",
      "\u001b[2m\u001b[36m(Trainable pid=19775)\u001b[0m trial 23\n",
      "\u001b[2m\u001b[36m(Trainable pid=19775)\u001b[0m trial 24\n",
      "\u001b[2m\u001b[36m(Trainable pid=19775)\u001b[0m trial 25\n",
      "\u001b[2m\u001b[36m(Trainable pid=19775)\u001b[0m trial 26\n",
      "\u001b[2m\u001b[36m(Trainable pid=19775)\u001b[0m trial 27\n",
      "\u001b[2m\u001b[36m(Trainable pid=19775)\u001b[0m trial 28\n",
      "\u001b[2m\u001b[36m(Trainable pid=19775)\u001b[0m trial 29\n",
      "\u001b[2m\u001b[36m(Trainable pid=19775)\u001b[0m trial 30\n",
      "\u001b[2m\u001b[36m(Trainable pid=19775)\u001b[0m trial 31\n",
      "\u001b[2m\u001b[36m(Trainable pid=19775)\u001b[0m trial 32\n",
      "\u001b[2m\u001b[36m(Trainable pid=19775)\u001b[0m trial 33\n",
      "\u001b[2m\u001b[36m(Trainable pid=19775)\u001b[0m trial 34\n",
      "\u001b[2m\u001b[36m(Trainable pid=19775)\u001b[0m trial 35\n",
      "\u001b[2m\u001b[36m(Trainable pid=19775)\u001b[0m trial 36\n",
      "\u001b[2m\u001b[36m(Trainable pid=19775)\u001b[0m trial 37\n",
      "\u001b[2m\u001b[36m(Trainable pid=19775)\u001b[0m trial 38\n",
      "\u001b[2m\u001b[36m(Trainable pid=19775)\u001b[0m trial 39\n",
      "\u001b[2m\u001b[36m(Trainable pid=19775)\u001b[0m trial 40\n",
      "\u001b[2m\u001b[36m(Trainable pid=19775)\u001b[0m trial 41\n",
      "\u001b[2m\u001b[36m(Trainable pid=19775)\u001b[0m trial 42\n",
      "\u001b[2m\u001b[36m(Trainable pid=19775)\u001b[0m trial 43\n",
      "\u001b[2m\u001b[36m(Trainable pid=19775)\u001b[0m trial 44\n",
      "\u001b[2m\u001b[36m(Trainable pid=19775)\u001b[0m trial 45\n",
      "\u001b[2m\u001b[36m(Trainable pid=19775)\u001b[0m trial 46\n",
      "\u001b[2m\u001b[36m(Trainable pid=19775)\u001b[0m trial 47\n",
      "\u001b[2m\u001b[36m(Trainable pid=19775)\u001b[0m trial 48\n",
      "\u001b[2m\u001b[36m(Trainable pid=19775)\u001b[0m trial 49\n"
     ]
    },
    {
     "name": "stderr",
     "output_type": "stream",
     "text": [
      "2023-09-29 14:07:18,371\tINFO tune.py:1143 -- Total run time: 23.47 seconds (23.40 seconds for the tuning loop).\n"
     ]
    }
   ],
   "source": [
    "from ray import train, tune\n",
    "from sklearn.metrics import f1_score\n",
    "\n",
    "search_space = {\n",
    "    'model__num_leaves': tune.randint(10, 200),\n",
    "    'model__n_estimators': tune.randint(10, 250),\n",
    "    'model__learning_rate': tune.loguniform(0.001, 0.1),\n",
    "    'model__colsample_bytree': tune.uniform(0.5, 1.0),\n",
    "    'model__subsample': tune.uniform(0.5, 1.0),\n",
    "    'model__reg_alpha': tune.loguniform(0.001, 1.0),\n",
    "    'model__reg_lambda': tune.loguniform(0.001, 1.0),\n",
    "    'model__boosting_type': tune.choice(['gbdt', 'dart', 'rf']),\n",
    "}\n",
    "\n",
    "\n",
    "def objective(x,params):\n",
    "    full_pipeline.set_params(**params)\n",
    "    full_pipeline.fit(X_mini_train,y_mini_train)\n",
    "    preds=full_pipeline.predict(X_mini_val)\n",
    "    f1=f1_score(y_mini_val,preds)\n",
    "    print(f'trial {x}')\n",
    "    return f1\n",
    "\n",
    "class Trainable(tune.Trainable):\n",
    "    def setup(self, config: dict):\n",
    "        # config (dict): A dict of hyperparameters\n",
    "        self.x = 0\n",
    "        self.params=config\n",
    "\n",
    "    def step(self):  # This is called iteratively.\n",
    "        score = objective(self.x, self.params)\n",
    "        self.x += 1\n",
    "        return {\"score\": score}\n",
    "\n",
    "\n",
    "tuner = tune.Tuner(\n",
    "    Trainable,\n",
    "    run_config=train.RunConfig(\n",
    "        # Train for 20 steps\n",
    "        stop={\"training_iteration\": 50},\n",
    "        checkpoint_config=train.CheckpointConfig(\n",
    "            # We haven't implemented checkpointing yet. See below!\n",
    "            checkpoint_at_end=False\n",
    "        ),\n",
    "    ),\n",
    "    param_space=search_space,\n",
    ")\n",
    "results = tuner.fit()"
   ]
  },
  {
   "cell_type": "code",
   "execution_count": 13,
   "metadata": {},
   "outputs": [
    {
     "data": {
      "text/plain": [
       "{'model__num_leaves': 80,\n",
       " 'model__n_estimators': 195,\n",
       " 'model__learning_rate': 0.0015514000100627303,\n",
       " 'model__colsample_bytree': 0.9791154902578221,\n",
       " 'model__subsample': 0.6067904465332392,\n",
       " 'model__reg_alpha': 0.15367271109485955,\n",
       " 'model__reg_lambda': 0.03898370858532397,\n",
       " 'model__boosting_type': 'rf'}"
      ]
     },
     "execution_count": 13,
     "metadata": {},
     "output_type": "execute_result"
    }
   ],
   "source": [
    "best_params=results.get_best_result().config\n",
    "best_params"
   ]
  },
  {
   "cell_type": "code",
   "execution_count": 14,
   "metadata": {},
   "outputs": [
    {
     "data": {
      "text/html": [
       "<style>#sk-container-id-1 {color: black;background-color: white;}#sk-container-id-1 pre{padding: 0;}#sk-container-id-1 div.sk-toggleable {background-color: white;}#sk-container-id-1 label.sk-toggleable__label {cursor: pointer;display: block;width: 100%;margin-bottom: 0;padding: 0.3em;box-sizing: border-box;text-align: center;}#sk-container-id-1 label.sk-toggleable__label-arrow:before {content: \"▸\";float: left;margin-right: 0.25em;color: #696969;}#sk-container-id-1 label.sk-toggleable__label-arrow:hover:before {color: black;}#sk-container-id-1 div.sk-estimator:hover label.sk-toggleable__label-arrow:before {color: black;}#sk-container-id-1 div.sk-toggleable__content {max-height: 0;max-width: 0;overflow: hidden;text-align: left;background-color: #f0f8ff;}#sk-container-id-1 div.sk-toggleable__content pre {margin: 0.2em;color: black;border-radius: 0.25em;background-color: #f0f8ff;}#sk-container-id-1 input.sk-toggleable__control:checked~div.sk-toggleable__content {max-height: 200px;max-width: 100%;overflow: auto;}#sk-container-id-1 input.sk-toggleable__control:checked~label.sk-toggleable__label-arrow:before {content: \"▾\";}#sk-container-id-1 div.sk-estimator input.sk-toggleable__control:checked~label.sk-toggleable__label {background-color: #d4ebff;}#sk-container-id-1 div.sk-label input.sk-toggleable__control:checked~label.sk-toggleable__label {background-color: #d4ebff;}#sk-container-id-1 input.sk-hidden--visually {border: 0;clip: rect(1px 1px 1px 1px);clip: rect(1px, 1px, 1px, 1px);height: 1px;margin: -1px;overflow: hidden;padding: 0;position: absolute;width: 1px;}#sk-container-id-1 div.sk-estimator {font-family: monospace;background-color: #f0f8ff;border: 1px dotted black;border-radius: 0.25em;box-sizing: border-box;margin-bottom: 0.5em;}#sk-container-id-1 div.sk-estimator:hover {background-color: #d4ebff;}#sk-container-id-1 div.sk-parallel-item::after {content: \"\";width: 100%;border-bottom: 1px solid gray;flex-grow: 1;}#sk-container-id-1 div.sk-label:hover label.sk-toggleable__label {background-color: #d4ebff;}#sk-container-id-1 div.sk-serial::before {content: \"\";position: absolute;border-left: 1px solid gray;box-sizing: border-box;top: 0;bottom: 0;left: 50%;z-index: 0;}#sk-container-id-1 div.sk-serial {display: flex;flex-direction: column;align-items: center;background-color: white;padding-right: 0.2em;padding-left: 0.2em;position: relative;}#sk-container-id-1 div.sk-item {position: relative;z-index: 1;}#sk-container-id-1 div.sk-parallel {display: flex;align-items: stretch;justify-content: center;background-color: white;position: relative;}#sk-container-id-1 div.sk-item::before, #sk-container-id-1 div.sk-parallel-item::before {content: \"\";position: absolute;border-left: 1px solid gray;box-sizing: border-box;top: 0;bottom: 0;left: 50%;z-index: -1;}#sk-container-id-1 div.sk-parallel-item {display: flex;flex-direction: column;z-index: 1;position: relative;background-color: white;}#sk-container-id-1 div.sk-parallel-item:first-child::after {align-self: flex-end;width: 50%;}#sk-container-id-1 div.sk-parallel-item:last-child::after {align-self: flex-start;width: 50%;}#sk-container-id-1 div.sk-parallel-item:only-child::after {width: 0;}#sk-container-id-1 div.sk-dashed-wrapped {border: 1px dashed gray;margin: 0 0.4em 0.5em 0.4em;box-sizing: border-box;padding-bottom: 0.4em;background-color: white;}#sk-container-id-1 div.sk-label label {font-family: monospace;font-weight: bold;display: inline-block;line-height: 1.2em;}#sk-container-id-1 div.sk-label-container {text-align: center;}#sk-container-id-1 div.sk-container {/* jupyter's `normalize.less` sets `[hidden] { display: none; }` but bootstrap.min.css set `[hidden] { display: none !important; }` so we also need the `!important` here to be able to override the default hidden behavior on the sphinx rendered scikit-learn.org. See: https://github.com/scikit-learn/scikit-learn/issues/21755 */display: inline-block !important;position: relative;}#sk-container-id-1 div.sk-text-repr-fallback {display: none;}</style><div id=\"sk-container-id-1\" class=\"sk-top-container\"><div class=\"sk-text-repr-fallback\"><pre>Pipeline(steps=[(&#x27;preprocess&#x27;,\n",
       "                 Pipeline(steps=[(&#x27;imputer&#x27;,\n",
       "                                  PolarsColumnTransformer(steps=[&lt;functions.transformers.PolarsColumnTransformer.Step object at 0x7f41c2f35580&gt;,\n",
       "                                                                 &lt;functions.transformers.PolarsColumnTransformer.Step object at 0x7f41c2f35460&gt;,\n",
       "                                                                 &lt;functions.transformers.PolarsColumnTransformer.Step object at 0x7f41c2f35b20&gt;,\n",
       "                                                                 &lt;functions.transformers.PolarsColu...\n",
       "                                                                 &lt;functions.transformers.PolarsColumnTransformer.Step object at 0x7f41c2f3fc40&gt;]))])),\n",
       "                (&#x27;model&#x27;,\n",
       "                 LGBMClassifier(boosting_type=&#x27;rf&#x27;, class_weight=&#x27;balanced&#x27;,\n",
       "                                colsample_bytree=0.9791154902578221,\n",
       "                                force_col_wise=True,\n",
       "                                learning_rate=0.0015514000100627303,\n",
       "                                n_estimators=195, num_leaves=80, num_threads=6,\n",
       "                                reg_alpha=0.15367271109485955,\n",
       "                                reg_lambda=0.03898370858532397,\n",
       "                                subsample=0.6067904465332392, verbose=-1))])</pre><b>In a Jupyter environment, please rerun this cell to show the HTML representation or trust the notebook. <br />On GitHub, the HTML representation is unable to render, please try loading this page with nbviewer.org.</b></div><div class=\"sk-container\" hidden><div class=\"sk-item sk-dashed-wrapped\"><div class=\"sk-label-container\"><div class=\"sk-label sk-toggleable\"><input class=\"sk-toggleable__control sk-hidden--visually\" id=\"sk-estimator-id-1\" type=\"checkbox\" ><label for=\"sk-estimator-id-1\" class=\"sk-toggleable__label sk-toggleable__label-arrow\">Pipeline</label><div class=\"sk-toggleable__content\"><pre>Pipeline(steps=[(&#x27;preprocess&#x27;,\n",
       "                 Pipeline(steps=[(&#x27;imputer&#x27;,\n",
       "                                  PolarsColumnTransformer(steps=[&lt;functions.transformers.PolarsColumnTransformer.Step object at 0x7f41c2f35580&gt;,\n",
       "                                                                 &lt;functions.transformers.PolarsColumnTransformer.Step object at 0x7f41c2f35460&gt;,\n",
       "                                                                 &lt;functions.transformers.PolarsColumnTransformer.Step object at 0x7f41c2f35b20&gt;,\n",
       "                                                                 &lt;functions.transformers.PolarsColu...\n",
       "                                                                 &lt;functions.transformers.PolarsColumnTransformer.Step object at 0x7f41c2f3fc40&gt;]))])),\n",
       "                (&#x27;model&#x27;,\n",
       "                 LGBMClassifier(boosting_type=&#x27;rf&#x27;, class_weight=&#x27;balanced&#x27;,\n",
       "                                colsample_bytree=0.9791154902578221,\n",
       "                                force_col_wise=True,\n",
       "                                learning_rate=0.0015514000100627303,\n",
       "                                n_estimators=195, num_leaves=80, num_threads=6,\n",
       "                                reg_alpha=0.15367271109485955,\n",
       "                                reg_lambda=0.03898370858532397,\n",
       "                                subsample=0.6067904465332392, verbose=-1))])</pre></div></div></div><div class=\"sk-serial\"><div class=\"sk-item\"><div class=\"sk-label-container\"><div class=\"sk-label sk-toggleable\"><input class=\"sk-toggleable__control sk-hidden--visually\" id=\"sk-estimator-id-2\" type=\"checkbox\" ><label for=\"sk-estimator-id-2\" class=\"sk-toggleable__label sk-toggleable__label-arrow\">preprocess: Pipeline</label><div class=\"sk-toggleable__content\"><pre>Pipeline(steps=[(&#x27;imputer&#x27;,\n",
       "                 PolarsColumnTransformer(steps=[&lt;functions.transformers.PolarsColumnTransformer.Step object at 0x7f41c2f35580&gt;,\n",
       "                                                &lt;functions.transformers.PolarsColumnTransformer.Step object at 0x7f41c2f35460&gt;,\n",
       "                                                &lt;functions.transformers.PolarsColumnTransformer.Step object at 0x7f41c2f35b20&gt;,\n",
       "                                                &lt;functions.transformers.PolarsColumnTransformer.Step object at 0x7f...\n",
       "                (&#x27;encoder&#x27;,\n",
       "                 PolarsColumnTransformer(steps=[&lt;functions.transformers.PolarsColumnTransformer.Step object at 0x7f41c2f35c10&gt;,\n",
       "                                                &lt;functions.transformers.PolarsColumnTransformer.Step object at 0x7f423406d310&gt;,\n",
       "                                                &lt;functions.transformers.PolarsColumnTransformer.Step object at 0x7f41c2f3ffa0&gt;,\n",
       "                                                &lt;functions.transformers.PolarsColumnTransformer.Step object at 0x7f41c2f3fc40&gt;]))])</pre></div></div></div><div class=\"sk-serial\"><div class=\"sk-item\"><div class=\"sk-estimator sk-toggleable\"><input class=\"sk-toggleable__control sk-hidden--visually\" id=\"sk-estimator-id-3\" type=\"checkbox\" ><label for=\"sk-estimator-id-3\" class=\"sk-toggleable__label sk-toggleable__label-arrow\">PolarsColumnTransformer</label><div class=\"sk-toggleable__content\"><pre>PolarsColumnTransformer(steps=[&lt;functions.transformers.PolarsColumnTransformer.Step object at 0x7f41c2f35580&gt;,\n",
       "                               &lt;functions.transformers.PolarsColumnTransformer.Step object at 0x7f41c2f35460&gt;,\n",
       "                               &lt;functions.transformers.PolarsColumnTransformer.Step object at 0x7f41c2f35b20&gt;,\n",
       "                               &lt;functions.transformers.PolarsColumnTransformer.Step object at 0x7f41c2f35ca0&gt;])</pre></div></div></div><div class=\"sk-item\"><div class=\"sk-estimator sk-toggleable\"><input class=\"sk-toggleable__control sk-hidden--visually\" id=\"sk-estimator-id-4\" type=\"checkbox\" ><label for=\"sk-estimator-id-4\" class=\"sk-toggleable__label sk-toggleable__label-arrow\">PolarsColumnTransformer</label><div class=\"sk-toggleable__content\"><pre>PolarsColumnTransformer(steps=[&lt;functions.transformers.PolarsColumnTransformer.Step object at 0x7f41c2f35c10&gt;,\n",
       "                               &lt;functions.transformers.PolarsColumnTransformer.Step object at 0x7f423406d310&gt;,\n",
       "                               &lt;functions.transformers.PolarsColumnTransformer.Step object at 0x7f41c2f3ffa0&gt;,\n",
       "                               &lt;functions.transformers.PolarsColumnTransformer.Step object at 0x7f41c2f3fc40&gt;])</pre></div></div></div></div></div><div class=\"sk-item\"><div class=\"sk-estimator sk-toggleable\"><input class=\"sk-toggleable__control sk-hidden--visually\" id=\"sk-estimator-id-5\" type=\"checkbox\" ><label for=\"sk-estimator-id-5\" class=\"sk-toggleable__label sk-toggleable__label-arrow\">LGBMClassifier</label><div class=\"sk-toggleable__content\"><pre>LGBMClassifier(boosting_type=&#x27;rf&#x27;, class_weight=&#x27;balanced&#x27;,\n",
       "               colsample_bytree=0.9791154902578221, force_col_wise=True,\n",
       "               learning_rate=0.0015514000100627303, n_estimators=195,\n",
       "               num_leaves=80, num_threads=6, reg_alpha=0.15367271109485955,\n",
       "               reg_lambda=0.03898370858532397, subsample=0.6067904465332392,\n",
       "               verbose=-1)</pre></div></div></div></div></div></div></div>"
      ],
      "text/plain": [
       "Pipeline(steps=[('preprocess',\n",
       "                 Pipeline(steps=[('imputer',\n",
       "                                  PolarsColumnTransformer(steps=[<functions.transformers.PolarsColumnTransformer.Step object at 0x7f41c2f35580>,\n",
       "                                                                 <functions.transformers.PolarsColumnTransformer.Step object at 0x7f41c2f35460>,\n",
       "                                                                 <functions.transformers.PolarsColumnTransformer.Step object at 0x7f41c2f35b20>,\n",
       "                                                                 <functions.transformers.PolarsColu...\n",
       "                                                                 <functions.transformers.PolarsColumnTransformer.Step object at 0x7f41c2f3fc40>]))])),\n",
       "                ('model',\n",
       "                 LGBMClassifier(boosting_type='rf', class_weight='balanced',\n",
       "                                colsample_bytree=0.9791154902578221,\n",
       "                                force_col_wise=True,\n",
       "                                learning_rate=0.0015514000100627303,\n",
       "                                n_estimators=195, num_leaves=80, num_threads=6,\n",
       "                                reg_alpha=0.15367271109485955,\n",
       "                                reg_lambda=0.03898370858532397,\n",
       "                                subsample=0.6067904465332392, verbose=-1))])"
      ]
     },
     "execution_count": 14,
     "metadata": {},
     "output_type": "execute_result"
    }
   ],
   "source": [
    "full_pipeline.set_params(**best_params)\n",
    "full_pipeline.fit(X_mini_train,y_mini_train)"
   ]
  },
  {
   "cell_type": "code",
   "execution_count": 15,
   "metadata": {},
   "outputs": [],
   "source": [
    "preds=full_pipeline.predict(X_mini_val)"
   ]
  },
  {
   "cell_type": "code",
   "execution_count": 16,
   "metadata": {},
   "outputs": [
    {
     "name": "stdout",
     "output_type": "stream",
     "text": [
      "              precision    recall  f1-score   support\n",
      "\n",
      "           0       0.99      0.90      0.94     13866\n",
      "           1       0.43      0.89      0.58      1134\n",
      "\n",
      "    accuracy                           0.90     15000\n",
      "   macro avg       0.71      0.90      0.76     15000\n",
      "weighted avg       0.95      0.90      0.92     15000\n",
      "\n"
     ]
    }
   ],
   "source": [
    "print(classification_report(y_mini_val,preds))"
   ]
  },
  {
   "cell_type": "code",
   "execution_count": 17,
   "metadata": {},
   "outputs": [
    {
     "name": "stderr",
     "output_type": "stream",
     "text": [
      " 99%|===================| 9860/10000 [00:31<00:00]        No data for colormapping provided via 'c'. Parameters 'vmin', 'vmax' will be ignored\n"
     ]
    },
    {
     "data": {
      "image/png": "[encoded data removed]",
      "text/plain": [
       "<Figure size 800x550 with 2 Axes>"
      ]
     },
     "metadata": {},
     "output_type": "display_data"
    }
   ],
   "source": [
    "names=full_pipeline['preprocess'].transform(X_mini_val.sample(10000,seed=1)).columns\n",
    "explainer_tree = shap.TreeExplainer(\n",
    "    full_pipeline[\"model\"],\n",
    "    data=full_pipeline[\"preprocess\"]\n",
    "    .transform((X_mini_val.sample(100, seed=1)))\n",
    "    .to_numpy(),\n",
    "    model_output=\"probability\",\n",
    ")\n",
    "\n",
    "shap_values = explainer_tree.shap_values(\n",
    "    full_pipeline[\"preprocess\"].transform(X_mini_val.sample(10000, seed=1)).to_numpy()\n",
    ")\n",
    "\n",
    "shap.summary_plot(\n",
    "    shap_values,\n",
    "    full_pipeline['preprocess'].transform(X_mini_val.sample(10000,seed=1))\n",
    "    .to_numpy(),\n",
    "    feature_names=names,\n",
    "    max_display=10\n",
    ")"
   ]
  },
  {
   "cell_type": "code",
   "execution_count": 52,
   "metadata": {},
   "outputs": [],
   "source": [
    "from sklearn.impute import SimpleImputer\n",
    "imp=tr.PolarsNanImputer(fill_value=-1)\n",
    "\n",
    "\n",
    "title_cat_imputer_d =tr.NotInImputerPolars(cat_no=12,fill_value='None')\n",
    "zip_imputer_d =tr.NotInImputerPolars(cat_no=10,fill_value='None')\n",
    "state_imputer_d =tr.NotInImputerPolars(cat_no=10,fill_value='None')\n",
    "emp_length_imputer_d =tr.NotInImputerPolars(cat_no=12,fill_value='None')\n",
    "\n",
    "imputer_d = tr.PolarsColumnTransformer(\n",
    "    [\n",
    "        tr.PolarsColumnTransformer.Step(title_cat_imputer_d , \"title\"),\n",
    "        tr.PolarsColumnTransformer.Step(zip_imputer_d , \"Zip Code\"),\n",
    "        tr.PolarsColumnTransformer.Step(state_imputer_d , \"State\"),\n",
    "        tr.PolarsColumnTransformer.Step(emp_length_imputer_d , \"Employment Length\"),\n",
    "        tr.PolarsColumnTransformer.Step(imp, \"Debt-To-Income Ratio\"),\n",
    "        tr.PolarsColumnTransformer.Step(imp, \"Amount Requested\"),\n",
    "        tr.PolarsColumnTransformer.Step(imp , \"title_length\"),\n",
    "    ]\n",
    ")"
   ]
  },
  {
   "cell_type": "code",
   "execution_count": 53,
   "metadata": {},
   "outputs": [],
   "source": [
    "from sklearn.tree import DecisionTreeClassifier\n",
    "\n",
    "dtree=DecisionTreeClassifier()\n",
    "full_pipeline_dtree= Pipeline(\n",
    "    [\n",
    "        (\"preprocess\", Pipeline([(\"imputer\", imputer_d), (\"encoder\", encoder)])),\n",
    "        (\"model\", dtree),\n",
    "    ]\n",
    ")"
   ]
  },
  {
   "cell_type": "code",
   "execution_count": 82,
   "metadata": {},
   "outputs": [],
   "source": [
    "test_df=X_mini_train.with_columns(y_mini_train.alias('y')).drop_nulls()"
   ]
  },
  {
   "cell_type": "code",
   "execution_count": 87,
   "metadata": {},
   "outputs": [],
   "source": [
    "test_df_val=X_mini_val.with_columns(y_mini_val.alias('y')).drop_nulls()"
   ]
  },
  {
   "cell_type": "code",
   "execution_count": 88,
   "metadata": {},
   "outputs": [
    {
     "name": "stdout",
     "output_type": "stream",
     "text": [
      "              precision    recall  f1-score   support\n",
      "\n",
      "           0       0.96      0.96      0.96     10601\n",
      "           1       0.56      0.56      0.56       965\n",
      "\n",
      "    accuracy                           0.93     11566\n",
      "   macro avg       0.76      0.76      0.76     11566\n",
      "weighted avg       0.93      0.93      0.93     11566\n",
      "\n"
     ]
    }
   ],
   "source": [
    "full_pipeline_dtree.fit(test_df.drop(columns='y'),test_df['y'])\n",
    "preds_dtree = full_pipeline_dtree.predict(test_df_val.drop(columns='y'))\n",
    "print(classification_report(test_df_val['y'], preds_dtree))"
   ]
  }
 ],
 "metadata": {
  "kernelspec": {
   "display_name": "base",
   "language": "python",
   "name": "python3"
  },
  "language_info": {
   "codemirror_mode": {
    "name": "ipython",
    "version": 3
   },
   "file_extension": ".py",
   "mimetype": "text/x-python",
   "name": "python",
   "nbconvert_exporter": "python",
   "pygments_lexer": "ipython3",
   "version": "3.9.13"
  },
  "orig_nbformat": 4
 },
 "nbformat": 4,
 "nbformat_minor": 2
}
