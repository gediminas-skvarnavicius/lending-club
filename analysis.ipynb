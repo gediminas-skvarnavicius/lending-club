{
 "cells": [
  {
   "cell_type": "code",
   "execution_count": 1,
   "metadata": {},
   "outputs": [],
   "source": [
    "%reload_ext autoreload\n",
    "%autoreload 1\n",
    "import matplotlib.pyplot as plt\n",
    "import polars as pl\n",
    "import pandas as pd\n",
    "import sys\n",
    "import numpy as np\n",
    "from sklearn.model_selection import train_test_split\n",
    "import functions.transformers as tr\n",
    "import functions.data_manipulation_functions as dmf\n",
    "import functions.plot_functions as pf\n",
    "import seaborn as sns\n",
    "\n",
    "%aimport functions.transformers\n",
    "%aimport functions.data_manipulation_functions\n",
    "%aimport functions.plot_functions"
   ]
  },
  {
   "cell_type": "code",
   "execution_count": 2,
   "metadata": {},
   "outputs": [],
   "source": [
    "BASE_FIG_SIZE=(8.5,4.5)\n",
    "sns.set()"
   ]
  },
  {
   "cell_type": "code",
   "execution_count": 3,
   "metadata": {},
   "outputs": [],
   "source": [
    "data_accepted=pl.read_csv('data/accepted_2007_to_2018Q4.csv',dtypes={'id':str})"
   ]
  },
  {
   "cell_type": "code",
   "execution_count": 4,
   "metadata": {},
   "outputs": [
    {
     "data": {
      "text/plain": [
       "False"
      ]
     },
     "execution_count": 4,
     "metadata": {},
     "output_type": "execute_result"
    }
   ],
   "source": [
    "data_accepted['id'].is_duplicated().any()"
   ]
  },
  {
   "cell_type": "code",
   "execution_count": 5,
   "metadata": {},
   "outputs": [],
   "source": [
    "data_rejected=pl.read_csv('data/rejected_2007_to_2018Q4.csv')"
   ]
  },
  {
   "cell_type": "code",
   "execution_count": 6,
   "metadata": {},
   "outputs": [
    {
     "data": {
      "text/plain": [
       "(27648741, 9)"
      ]
     },
     "execution_count": 6,
     "metadata": {},
     "output_type": "execute_result"
    }
   ],
   "source": [
    "data_rejected.shape"
   ]
  },
  {
   "cell_type": "code",
   "execution_count": 7,
   "metadata": {},
   "outputs": [
    {
     "data": {
      "text/plain": [
       "(2260701, 151)"
      ]
     },
     "execution_count": 7,
     "metadata": {},
     "output_type": "execute_result"
    }
   ],
   "source": [
    "data_accepted.shape"
   ]
  },
  {
   "cell_type": "code",
   "execution_count": 8,
   "metadata": {},
   "outputs": [
    {
     "name": "stdout",
     "output_type": "stream",
     "text": [
      "Memory usage of integer: 28 bytes\n",
      "Memory usage of float: 48 bytes\n",
      "Memory usage of string: 51 bytes\n"
     ]
    }
   ],
   "source": [
    "integer_value = 42\n",
    "float_value = pl.Float64(42)\n",
    "string_value = \"42\"\n",
    "\n",
    "print(f\"Memory usage of integer: {sys.getsizeof(integer_value)} bytes\")\n",
    "print(f\"Memory usage of float: {sys.getsizeof(float_value)} bytes\")\n",
    "print(f\"Memory usage of string: {sys.getsizeof(string_value)} bytes\")"
   ]
  },
  {
   "cell_type": "code",
   "execution_count": 9,
   "metadata": {},
   "outputs": [
    {
     "data": {
      "text/html": [
       "<div><style>\n",
       ".dataframe > thead > tr > th,\n",
       ".dataframe > tbody > tr > td {\n",
       "  text-align: right;\n",
       "  white-space: pre-wrap;\n",
       "}\n",
       "</style>\n",
       "<small>shape: (5, 9)</small><table border=\"1\" class=\"dataframe\"><thead><tr><th>Amount Requested</th><th>Application Date</th><th>Loan Title</th><th>Risk_Score</th><th>Debt-To-Income Ratio</th><th>Zip Code</th><th>State</th><th>Employment Length</th><th>Policy Code</th></tr><tr><td>f64</td><td>str</td><td>str</td><td>f64</td><td>str</td><td>str</td><td>str</td><td>str</td><td>f64</td></tr></thead><tbody><tr><td>1000.0</td><td>&quot;2007-05-26&quot;</td><td>&quot;Wedding Covere…</td><td>693.0</td><td>&quot;10%&quot;</td><td>&quot;481xx&quot;</td><td>&quot;NM&quot;</td><td>&quot;4 years&quot;</td><td>0.0</td></tr><tr><td>1000.0</td><td>&quot;2007-05-26&quot;</td><td>&quot;Consolidating …</td><td>703.0</td><td>&quot;10%&quot;</td><td>&quot;010xx&quot;</td><td>&quot;MA&quot;</td><td>&quot;&lt; 1 year&quot;</td><td>0.0</td></tr><tr><td>11000.0</td><td>&quot;2007-05-27&quot;</td><td>&quot;Want to consol…</td><td>715.0</td><td>&quot;10%&quot;</td><td>&quot;212xx&quot;</td><td>&quot;MD&quot;</td><td>&quot;1 year&quot;</td><td>0.0</td></tr><tr><td>6000.0</td><td>&quot;2007-05-27&quot;</td><td>&quot;waksman&quot;</td><td>698.0</td><td>&quot;38.64%&quot;</td><td>&quot;017xx&quot;</td><td>&quot;MA&quot;</td><td>&quot;&lt; 1 year&quot;</td><td>0.0</td></tr><tr><td>1500.0</td><td>&quot;2007-05-27&quot;</td><td>&quot;mdrigo&quot;</td><td>509.0</td><td>&quot;9.43%&quot;</td><td>&quot;209xx&quot;</td><td>&quot;MD&quot;</td><td>&quot;&lt; 1 year&quot;</td><td>0.0</td></tr></tbody></table></div>"
      ],
      "text/plain": [
       "shape: (5, 9)\n",
       "┌─────────────┬─────────────┬────────────┬────────────┬───┬──────────┬───────┬────────────┬────────┐\n",
       "│ Amount      ┆ Application ┆ Loan Title ┆ Risk_Score ┆ … ┆ Zip Code ┆ State ┆ Employment ┆ Policy │\n",
       "│ Requested   ┆ Date        ┆ ---        ┆ ---        ┆   ┆ ---      ┆ ---   ┆ Length     ┆ Code   │\n",
       "│ ---         ┆ ---         ┆ str        ┆ f64        ┆   ┆ str      ┆ str   ┆ ---        ┆ ---    │\n",
       "│ f64         ┆ str         ┆            ┆            ┆   ┆          ┆       ┆ str        ┆ f64    │\n",
       "╞═════════════╪═════════════╪════════════╪════════════╪═══╪══════════╪═══════╪════════════╪════════╡\n",
       "│ 1000.0      ┆ 2007-05-26  ┆ Wedding    ┆ 693.0      ┆ … ┆ 481xx    ┆ NM    ┆ 4 years    ┆ 0.0    │\n",
       "│             ┆             ┆ Covered    ┆            ┆   ┆          ┆       ┆            ┆        │\n",
       "│             ┆             ┆ but No     ┆            ┆   ┆          ┆       ┆            ┆        │\n",
       "│             ┆             ┆ Honeymoon  ┆            ┆   ┆          ┆       ┆            ┆        │\n",
       "│ 1000.0      ┆ 2007-05-26  ┆ Consolidat ┆ 703.0      ┆ … ┆ 010xx    ┆ MA    ┆ < 1 year   ┆ 0.0    │\n",
       "│             ┆             ┆ ing Debt   ┆            ┆   ┆          ┆       ┆            ┆        │\n",
       "│ 11000.0     ┆ 2007-05-27  ┆ Want to    ┆ 715.0      ┆ … ┆ 212xx    ┆ MD    ┆ 1 year     ┆ 0.0    │\n",
       "│             ┆             ┆ consolidat ┆            ┆   ┆          ┆       ┆            ┆        │\n",
       "│             ┆             ┆ e my debt  ┆            ┆   ┆          ┆       ┆            ┆        │\n",
       "│ 6000.0      ┆ 2007-05-27  ┆ waksman    ┆ 698.0      ┆ … ┆ 017xx    ┆ MA    ┆ < 1 year   ┆ 0.0    │\n",
       "│ 1500.0      ┆ 2007-05-27  ┆ mdrigo     ┆ 509.0      ┆ … ┆ 209xx    ┆ MD    ┆ < 1 year   ┆ 0.0    │\n",
       "└─────────────┴─────────────┴────────────┴────────────┴───┴──────────┴───────┴────────────┴────────┘"
      ]
     },
     "execution_count": 9,
     "metadata": {},
     "output_type": "execute_result"
    }
   ],
   "source": [
    "data_rejected.head()"
   ]
  },
  {
   "cell_type": "markdown",
   "metadata": {},
   "source": [
    "### Join procedure"
   ]
  },
  {
   "cell_type": "code",
   "execution_count": 10,
   "metadata": {},
   "outputs": [],
   "source": [
    "data_accepted = data_accepted.with_columns(pl.lit(np.int8(1)).alias('policy_code'))"
   ]
  },
  {
   "cell_type": "code",
   "execution_count": 11,
   "metadata": {},
   "outputs": [],
   "source": [
    "data_rejected = data_rejected.with_columns(pl.lit(np.int8(0)).alias('Policy Code'))"
   ]
  },
  {
   "cell_type": "code",
   "execution_count": 12,
   "metadata": {},
   "outputs": [],
   "source": [
    "data_rejected = data_rejected.with_columns(\n",
    "    data_rejected[\"Debt-To-Income Ratio\"]\n",
    "    .map_elements(lambda x: np.float32(x.rstrip(\"%\")))\n",
    "    .alias(\"Debt-To-Income Ratio\")\n",
    ")"
   ]
  },
  {
   "cell_type": "code",
   "execution_count": 13,
   "metadata": {},
   "outputs": [],
   "source": [
    "data_full = pl.concat(\n",
    "    [\n",
    "        data_rejected.select(\n",
    "            pl.col(\"Amount Requested\"),\n",
    "            pl.col(\"Loan Title\"),\n",
    "            pl.col(\"Debt-To-Income Ratio\"),\n",
    "            pl.col(\"Zip Code\"),\n",
    "            pl.col(\"State\"),\n",
    "            pl.col(\"Employment Length\"),\n",
    "            pl.col(\"Policy Code\"),\n",
    "        ),\n",
    "        data_accepted.select(\n",
    "            pl.col('loan_amnt').alias(\"Amount Requested\"),\n",
    "            pl.col('title').alias(\"Loan Title\"),\n",
    "            pl.col('dti').alias(\"Debt-To-Income Ratio\"),\n",
    "            pl.col('zip_code').alias(\"Zip Code\"),\n",
    "            pl.col('addr_state').alias(\"State\"),\n",
    "            pl.col('emp_length').alias(\"Employment Length\"),\n",
    "            pl.col('policy_code').alias(\"Policy Code\"),\n",
    "        ),\n",
    "    ]\n",
    ")"
   ]
  },
  {
   "cell_type": "code",
   "execution_count": 14,
   "metadata": {},
   "outputs": [
    {
     "data": {
      "text/html": [
       "<div><style>\n",
       ".dataframe > thead > tr > th,\n",
       ".dataframe > tbody > tr > td {\n",
       "  text-align: right;\n",
       "  white-space: pre-wrap;\n",
       "}\n",
       "</style>\n",
       "<small>shape: (1, 7)</small><table border=\"1\" class=\"dataframe\"><thead><tr><th>Amount Requested</th><th>Loan Title</th><th>Debt-To-Income Ratio</th><th>Zip Code</th><th>State</th><th>Employment Length</th><th>Policy Code</th></tr><tr><td>u32</td><td>u32</td><td>u32</td><td>u32</td><td>u32</td><td>u32</td><td>u32</td></tr></thead><tbody><tr><td>33</td><td>24661</td><td>1744</td><td>327</td><td>55</td><td>1098295</td><td>0</td></tr></tbody></table></div>"
      ],
      "text/plain": [
       "shape: (1, 7)\n",
       "┌───────────┬────────────┬────────────────┬──────────┬───────┬───────────────────┬─────────────┐\n",
       "│ Amount    ┆ Loan Title ┆ Debt-To-Income ┆ Zip Code ┆ State ┆ Employment Length ┆ Policy Code │\n",
       "│ Requested ┆ ---        ┆ Ratio          ┆ ---      ┆ ---   ┆ ---               ┆ ---         │\n",
       "│ ---       ┆ u32        ┆ ---            ┆ u32      ┆ u32   ┆ u32               ┆ u32         │\n",
       "│ u32       ┆            ┆ u32            ┆          ┆       ┆                   ┆             │\n",
       "╞═══════════╪════════════╪════════════════╪══════════╪═══════╪═══════════════════╪═════════════╡\n",
       "│ 33        ┆ 24661      ┆ 1744           ┆ 327      ┆ 55    ┆ 1098295           ┆ 0           │\n",
       "└───────────┴────────────┴────────────────┴──────────┴───────┴───────────────────┴─────────────┘"
      ]
     },
     "execution_count": 14,
     "metadata": {},
     "output_type": "execute_result"
    }
   ],
   "source": [
    "data_full.null_count()"
   ]
  },
  {
   "cell_type": "code",
   "execution_count": 15,
   "metadata": {},
   "outputs": [
    {
     "data": {
      "text/html": [
       "<div><style>\n",
       ".dataframe > thead > tr > th,\n",
       ".dataframe > tbody > tr > td {\n",
       "  text-align: right;\n",
       "  white-space: pre-wrap;\n",
       "}\n",
       "</style>\n",
       "<small>shape: (29_909_442, 7)</small><table border=\"1\" class=\"dataframe\"><thead><tr><th>Amount Requested</th><th>Loan Title</th><th>Debt-To-Income Ratio</th><th>Zip Code</th><th>State</th><th>Employment Length</th><th>Policy Code</th></tr><tr><td>f64</td><td>str</td><td>f64</td><td>str</td><td>str</td><td>str</td><td>i32</td></tr></thead><tbody><tr><td>1000.0</td><td>&quot;Wedding Covere…</td><td>10.0</td><td>&quot;481xx&quot;</td><td>&quot;NM&quot;</td><td>&quot;4 years&quot;</td><td>0</td></tr><tr><td>1000.0</td><td>&quot;Consolidating …</td><td>10.0</td><td>&quot;010xx&quot;</td><td>&quot;MA&quot;</td><td>&quot;&lt; 1 year&quot;</td><td>0</td></tr><tr><td>11000.0</td><td>&quot;Want to consol…</td><td>10.0</td><td>&quot;212xx&quot;</td><td>&quot;MD&quot;</td><td>&quot;1 year&quot;</td><td>0</td></tr><tr><td>6000.0</td><td>&quot;waksman&quot;</td><td>38.639999</td><td>&quot;017xx&quot;</td><td>&quot;MA&quot;</td><td>&quot;&lt; 1 year&quot;</td><td>0</td></tr><tr><td>1500.0</td><td>&quot;mdrigo&quot;</td><td>9.43</td><td>&quot;209xx&quot;</td><td>&quot;MD&quot;</td><td>&quot;&lt; 1 year&quot;</td><td>0</td></tr><tr><td>15000.0</td><td>&quot;Trinfiniti&quot;</td><td>0.0</td><td>&quot;105xx&quot;</td><td>&quot;NY&quot;</td><td>&quot;3 years&quot;</td><td>0</td></tr><tr><td>10000.0</td><td>&quot;NOTIFYi Inc&quot;</td><td>10.0</td><td>&quot;210xx&quot;</td><td>&quot;MD&quot;</td><td>&quot;&lt; 1 year&quot;</td><td>0</td></tr><tr><td>3900.0</td><td>&quot;For Justin.&quot;</td><td>10.0</td><td>&quot;469xx&quot;</td><td>&quot;IN&quot;</td><td>&quot;2 years&quot;</td><td>0</td></tr><tr><td>3000.0</td><td>&quot;title?&quot;</td><td>10.0</td><td>&quot;808xx&quot;</td><td>&quot;CO&quot;</td><td>&quot;4 years&quot;</td><td>0</td></tr><tr><td>2500.0</td><td>&quot;timgerst&quot;</td><td>11.76</td><td>&quot;407xx&quot;</td><td>&quot;KY&quot;</td><td>&quot;4 years&quot;</td><td>0</td></tr><tr><td>3900.0</td><td>&quot;need to consol…</td><td>10.0</td><td>&quot;705xx&quot;</td><td>&quot;LA&quot;</td><td>&quot;10+ years&quot;</td><td>0</td></tr><tr><td>1000.0</td><td>&quot;sixstrings&quot;</td><td>10.0</td><td>&quot;424xx&quot;</td><td>&quot;KY&quot;</td><td>&quot;1 year&quot;</td><td>0</td></tr><tr><td>&hellip;</td><td>&hellip;</td><td>&hellip;</td><td>&hellip;</td><td>&hellip;</td><td>&hellip;</td><td>&hellip;</td></tr><tr><td>40000.0</td><td>&quot;Debt consolida…</td><td>15.47</td><td>&quot;325xx&quot;</td><td>&quot;FL&quot;</td><td>&quot;5 years&quot;</td><td>1</td></tr><tr><td>29400.0</td><td>&quot;Debt consolida…</td><td>22.03</td><td>&quot;900xx&quot;</td><td>&quot;CA&quot;</td><td>&quot;9 years&quot;</td><td>1</td></tr><tr><td>32000.0</td><td>&quot;Home improveme…</td><td>10.34</td><td>&quot;863xx&quot;</td><td>&quot;AZ&quot;</td><td>&quot;3 years&quot;</td><td>1</td></tr><tr><td>16000.0</td><td>&quot;Medical expens…</td><td>12.25</td><td>&quot;284xx&quot;</td><td>&quot;NC&quot;</td><td>&quot;10+ years&quot;</td><td>1</td></tr><tr><td>24000.0</td><td>&quot;Credit card re…</td><td>10.98</td><td>&quot;967xx&quot;</td><td>&quot;HI&quot;</td><td>&quot;4 years&quot;</td><td>1</td></tr><tr><td>24000.0</td><td>&quot;Home improveme…</td><td>19.61</td><td>&quot;356xx&quot;</td><td>&quot;AL&quot;</td><td>&quot;7 years&quot;</td><td>1</td></tr><tr><td>24000.0</td><td>&quot;Debt consolida…</td><td>34.94</td><td>&quot;840xx&quot;</td><td>&quot;UT&quot;</td><td>&quot;10+ years&quot;</td><td>1</td></tr><tr><td>40000.0</td><td>null</td><td>12.75</td><td>&quot;907xx&quot;</td><td>&quot;CA&quot;</td><td>&quot;9 years&quot;</td><td>1</td></tr><tr><td>24000.0</td><td>&quot;Debt consolida…</td><td>18.3</td><td>&quot;334xx&quot;</td><td>&quot;FL&quot;</td><td>&quot;6 years&quot;</td><td>1</td></tr><tr><td>14000.0</td><td>null</td><td>23.36</td><td>&quot;770xx&quot;</td><td>&quot;TX&quot;</td><td>&quot;10+ years&quot;</td><td>1</td></tr><tr><td>null</td><td>null</td><td>null</td><td>null</td><td>null</td><td>null</td><td>1</td></tr><tr><td>null</td><td>null</td><td>null</td><td>null</td><td>null</td><td>null</td><td>1</td></tr></tbody></table></div>"
      ],
      "text/plain": [
       "shape: (29_909_442, 7)\n",
       "┌───────────┬───────────────────────┬────────────────┬──────────┬───────┬────────────┬─────────────┐\n",
       "│ Amount    ┆ Loan Title            ┆ Debt-To-Income ┆ Zip Code ┆ State ┆ Employment ┆ Policy Code │\n",
       "│ Requested ┆ ---                   ┆ Ratio          ┆ ---      ┆ ---   ┆ Length     ┆ ---         │\n",
       "│ ---       ┆ str                   ┆ ---            ┆ str      ┆ str   ┆ ---        ┆ i32         │\n",
       "│ f64       ┆                       ┆ f64            ┆          ┆       ┆ str        ┆             │\n",
       "╞═══════════╪═══════════════════════╪════════════════╪══════════╪═══════╪════════════╪═════════════╡\n",
       "│ 1000.0    ┆ Wedding Covered but   ┆ 10.0           ┆ 481xx    ┆ NM    ┆ 4 years    ┆ 0           │\n",
       "│           ┆ No Honeymoon          ┆                ┆          ┆       ┆            ┆             │\n",
       "│ 1000.0    ┆ Consolidating Debt    ┆ 10.0           ┆ 010xx    ┆ MA    ┆ < 1 year   ┆ 0           │\n",
       "│ 11000.0   ┆ Want to consolidate   ┆ 10.0           ┆ 212xx    ┆ MD    ┆ 1 year     ┆ 0           │\n",
       "│           ┆ my debt               ┆                ┆          ┆       ┆            ┆             │\n",
       "│ 6000.0    ┆ waksman               ┆ 38.639999      ┆ 017xx    ┆ MA    ┆ < 1 year   ┆ 0           │\n",
       "│ …         ┆ …                     ┆ …              ┆ …        ┆ …     ┆ …          ┆ …           │\n",
       "│ 24000.0   ┆ Debt consolidation    ┆ 18.3           ┆ 334xx    ┆ FL    ┆ 6 years    ┆ 1           │\n",
       "│ 14000.0   ┆ null                  ┆ 23.36          ┆ 770xx    ┆ TX    ┆ 10+ years  ┆ 1           │\n",
       "│ null      ┆ null                  ┆ null           ┆ null     ┆ null  ┆ null       ┆ 1           │\n",
       "│ null      ┆ null                  ┆ null           ┆ null     ┆ null  ┆ null       ┆ 1           │\n",
       "└───────────┴───────────────────────┴────────────────┴──────────┴───────┴────────────┴─────────────┘"
      ]
     },
     "execution_count": 15,
     "metadata": {},
     "output_type": "execute_result"
    }
   ],
   "source": [
    "data_full"
   ]
  },
  {
   "cell_type": "code",
   "execution_count": 16,
   "metadata": {},
   "outputs": [],
   "source": [
    "X_full_train, X_full_test, y_full_train, y_full_test = train_test_split(\n",
    "    data_full.drop(columns=[\"Policy Code\"]),\n",
    "    data_full[\"Policy Code\"],\n",
    "    test_size=0.4,\n",
    "    stratify=data_full[\"Policy Code\"],\n",
    ")"
   ]
  },
  {
   "cell_type": "code",
   "execution_count": 17,
   "metadata": {},
   "outputs": [],
   "source": [
    "X_full_val, X_full_test, y_full_val, y_full_test = train_test_split(\n",
    "    X_full_test, y_full_test, stratify=y_full_test, random_state=1\n",
    ")"
   ]
  },
  {
   "cell_type": "code",
   "execution_count": 18,
   "metadata": {},
   "outputs": [],
   "source": [
    "X_full_eda=X_full_train.clone()"
   ]
  },
  {
   "cell_type": "code",
   "execution_count": 19,
   "metadata": {},
   "outputs": [
    {
     "data": {
      "text/plain": [
       "641"
      ]
     },
     "execution_count": 19,
     "metadata": {},
     "output_type": "execute_result"
    }
   ],
   "source": [
    "len(data_full['Zip Code'].value_counts().filter(pl.col(\"counts\")>10000))"
   ]
  },
  {
   "cell_type": "code",
   "execution_count": 20,
   "metadata": {},
   "outputs": [],
   "source": [
    "X_full_eda=X_full_eda.with_columns(pl.col('Loan Title').str.to_lowercase().alias('Loan Title'))"
   ]
  },
  {
   "cell_type": "code",
   "execution_count": 21,
   "metadata": {},
   "outputs": [],
   "source": [
    "X_full_eda=X_full_eda.with_columns(pl.col('Loan Title').str.replace(' ','_').alias('title_edited'))"
   ]
  },
  {
   "cell_type": "code",
   "execution_count": 22,
   "metadata": {},
   "outputs": [],
   "source": [
    "# Define category-substring mappings\n",
    "category_mappings = {\n",
    "    \"credit_card\": [\"credit_card\"],\n",
    "    \"car\": [\"car\"],\n",
    "    \"debt_consolidation\": [\"consolid\", \"refinan\", \"debt\"],\n",
    "    \"medical\": [\"medic\"],\n",
    "    \"business\": [\"business\"],\n",
    "    \"moving\": [\"moving\", \"relocation\"],\n",
    "    \"home\": [\"home\", \"house\"],\n",
    "    \"education\": [\"educ\", \"school\", \"stud\", \"university\"],\n",
    "    \"green_loan\": [\"renew\"],\n",
    "    # None: [\"_\", \"other\"]\n",
    "}\n",
    "\n",
    "category_mappings_is={None:[\"_\",\"other\"]}\n",
    "\n",
    "X_full_eda=dmf.categorize_strings_contains(X_full_eda,category_mappings=category_mappings,col_name='title_edited')\n",
    "X_full_eda=dmf.categorize_strings_is(X_full_eda,category_mappings=category_mappings_is,col_name='title_edited')\n",
    "\n"
   ]
  },
  {
   "cell_type": "code",
   "execution_count": 23,
   "metadata": {},
   "outputs": [],
   "source": [
    "cat_imputer=tr.NotInImputerPolars(cat_no=12,fill_value=None)"
   ]
  },
  {
   "cell_type": "code",
   "execution_count": 24,
   "metadata": {},
   "outputs": [],
   "source": [
    "X_full_eda=X_full_eda.with_columns(\n",
    "cat_imputer.fit_transform(X_full_eda['title_edited'])[:,0].alias('title_edited')\n",
    ")\n"
   ]
  },
  {
   "cell_type": "code",
   "execution_count": 25,
   "metadata": {},
   "outputs": [
    {
     "data": {
      "text/html": [
       "<div><style>\n",
       ".dataframe > thead > tr > th,\n",
       ".dataframe > tbody > tr > td {\n",
       "  text-align: right;\n",
       "  white-space: pre-wrap;\n",
       "}\n",
       "</style>\n",
       "<small>shape: (12, 2)</small><table border=\"1\" class=\"dataframe\"><thead><tr><th>title_edited</th><th>counts</th></tr><tr><td>str</td><td>u32</td></tr></thead><tbody><tr><td>&quot;education&quot;</td><td>6896</td></tr><tr><td>&quot;wedding&quot;</td><td>11319</td></tr><tr><td>&quot;green_loan&quot;</td><td>35052</td></tr><tr><td>&quot;vacation&quot;</td><td>194280</td></tr><tr><td>&quot;moving&quot;</td><td>430333</td></tr><tr><td>&quot;medical&quot;</td><td>465570</td></tr><tr><td>&quot;business&quot;</td><td>533365</td></tr><tr><td>&quot;major_purchase…</td><td>601591</td></tr><tr><td>&quot;home&quot;</td><td>1220231</td></tr><tr><td>null</td><td>3003918</td></tr><tr><td>&quot;car&quot;</td><td>3297850</td></tr><tr><td>&quot;debt_consolida…</td><td>8145260</td></tr></tbody></table></div>"
      ],
      "text/plain": [
       "shape: (12, 2)\n",
       "┌────────────────────┬─────────┐\n",
       "│ title_edited       ┆ counts  │\n",
       "│ ---                ┆ ---     │\n",
       "│ str                ┆ u32     │\n",
       "╞════════════════════╪═════════╡\n",
       "│ education          ┆ 6896    │\n",
       "│ wedding            ┆ 11319   │\n",
       "│ green_loan         ┆ 35052   │\n",
       "│ vacation           ┆ 194280  │\n",
       "│ …                  ┆ …       │\n",
       "│ home               ┆ 1220231 │\n",
       "│ null               ┆ 3003918 │\n",
       "│ car                ┆ 3297850 │\n",
       "│ debt_consolidation ┆ 8145260 │\n",
       "└────────────────────┴─────────┘"
      ]
     },
     "execution_count": 25,
     "metadata": {},
     "output_type": "execute_result"
    }
   ],
   "source": [
    "X_full_eda['title_edited'].value_counts().sort('counts')\n"
   ]
  },
  {
   "cell_type": "code",
   "execution_count": 26,
   "metadata": {},
   "outputs": [],
   "source": [
    "X_full_eda=X_full_eda.with_columns(\n",
    "    pl.when(pl.col(\"Amount Requested\") < 1)\n",
    "    .then(None).otherwise(pl.col('Amount Requested')).alias(\"Amount Requested\"))"
   ]
  },
  {
   "cell_type": "code",
   "execution_count": 27,
   "metadata": {},
   "outputs": [
    {
     "data": {
      "image/png": "[encoded data removed]",
      "text/plain": [
       "<Figure size 850x450 with 1 Axes>"
      ]
     },
     "metadata": {},
     "output_type": "display_data"
    }
   ],
   "source": [
    "fig_requested_box, ax_requested_box = plt.subplots(figsize=BASE_FIG_SIZE)\n",
    "sns.boxenplot(\n",
    "    x=y_full_train.filter(X_full_eda[\"Amount Requested\"].is_not_null()).to_numpy(),\n",
    "    y=X_full_eda[\"Amount Requested\"].drop_nulls().to_numpy(),\n",
    "    ax=ax_requested_box\n",
    ")\n",
    "ax_requested_box.set_yscale(\"log\")\n",
    "ax_requested_box.set_ylabel(\"Amount Requested\")\n",
    "ax_requested_box.set_xticklabels(('Rejected','Approved'))\n",
    "plt.show()"
   ]
  },
  {
   "cell_type": "code",
   "execution_count": 28,
   "metadata": {},
   "outputs": [
    {
     "data": {
      "text/html": [
       "<div><style>\n",
       ".dataframe > thead > tr > th,\n",
       ".dataframe > tbody > tr > td {\n",
       "  text-align: right;\n",
       "  white-space: pre-wrap;\n",
       "}\n",
       "</style>\n",
       "<small>shape: (1, 7)</small><table border=\"1\" class=\"dataframe\"><thead><tr><th>Amount Requested</th><th>Loan Title</th><th>Debt-To-Income Ratio</th><th>Zip Code</th><th>State</th><th>Employment Length</th><th>title_edited</th></tr><tr><td>u32</td><td>u32</td><td>u32</td><td>u32</td><td>u32</td><td>u32</td><td>u32</td></tr></thead><tbody><tr><td>792</td><td>14698</td><td>1059</td><td>198</td><td>37</td><td>659343</td><td>3003918</td></tr></tbody></table></div>"
      ],
      "text/plain": [
       "shape: (1, 7)\n",
       "┌───────────┬────────────┬────────────────┬──────────┬───────┬───────────────────┬──────────────┐\n",
       "│ Amount    ┆ Loan Title ┆ Debt-To-Income ┆ Zip Code ┆ State ┆ Employment Length ┆ title_edited │\n",
       "│ Requested ┆ ---        ┆ Ratio          ┆ ---      ┆ ---   ┆ ---               ┆ ---          │\n",
       "│ ---       ┆ u32        ┆ ---            ┆ u32      ┆ u32   ┆ u32               ┆ u32          │\n",
       "│ u32       ┆            ┆ u32            ┆          ┆       ┆                   ┆              │\n",
       "╞═══════════╪════════════╪════════════════╪══════════╪═══════╪═══════════════════╪══════════════╡\n",
       "│ 792       ┆ 14698      ┆ 1059           ┆ 198      ┆ 37    ┆ 659343            ┆ 3003918      │\n",
       "└───────────┴────────────┴────────────────┴──────────┴───────┴───────────────────┴──────────────┘"
      ]
     },
     "execution_count": 28,
     "metadata": {},
     "output_type": "execute_result"
    }
   ],
   "source": [
    "X_full_eda.null_count()"
   ]
  },
  {
   "cell_type": "markdown",
   "metadata": {},
   "source": [
    "##### Turn less than 0 into None"
   ]
  },
  {
   "cell_type": "code",
   "execution_count": 29,
   "metadata": {},
   "outputs": [],
   "source": [
    "X_full_eda = X_full_eda.with_columns(\n",
    "    pl.when(pl.col(\"Debt-To-Income Ratio\") < 0)\n",
    "    .then(None)\n",
    "    .otherwise(pl.col(\"Debt-To-Income Ratio\"))\n",
    "    .alias(\"Debt-To-Income Ratio\")\n",
    ")"
   ]
  },
  {
   "cell_type": "code",
   "execution_count": 30,
   "metadata": {},
   "outputs": [
    {
     "data": {
      "image/png": "[encoded data removed]",
      "text/plain": [
       "<Figure size 850x450 with 1 Axes>"
      ]
     },
     "metadata": {},
     "output_type": "display_data"
    }
   ],
   "source": [
    "fig_dti_box, ax_dti_box = plt.subplots(figsize=BASE_FIG_SIZE)\n",
    "sns.boxenplot(\n",
    "    x=y_full_train.filter(X_full_eda[\"Debt-To-Income Ratio\"].is_not_null()).to_numpy(),\n",
    "    y=X_full_eda[\"Debt-To-Income Ratio\"]\n",
    "    .drop_nulls()\n",
    "    .to_numpy(),\n",
    "\n",
    "    ax=ax_dti_box\n",
    ")\n",
    "\n",
    "ax_dti_box.set_yscale(\"log\")\n",
    "plt.show()"
   ]
  },
  {
   "cell_type": "code",
   "execution_count": 31,
   "metadata": {},
   "outputs": [],
   "source": [
    "dti_non_zero = (\n",
    "    X_full_eda[\"Debt-To-Income Ratio\"]\n",
    "    .drop_nulls()\n",
    "    .filter(X_full_eda[\"Debt-To-Income Ratio\"].drop_nulls() != 0)\n",
    "    .to_numpy()\n",
    ")\n",
    "dti_non_zero_y = y_full_train.filter(\n",
    "    X_full_eda[\"Debt-To-Income Ratio\"].is_not_null()\n",
    ").filter(X_full_eda[\"Debt-To-Income Ratio\"].drop_nulls() != 0)\n",
    "dti_zero_x = (\n",
    "    X_full_eda[\"Debt-To-Income Ratio\"]\n",
    "    .drop_nulls()\n",
    "    .filter(X_full_eda[\"Debt-To-Income Ratio\"].drop_nulls() == 0)\n",
    ")\n",
    "dti_zero_y = y_full_train.filter(\n",
    "    X_full_eda[\"Debt-To-Income Ratio\"].is_not_null()\n",
    ").filter(X_full_eda[\"Debt-To-Income Ratio\"].drop_nulls() == 0)\n",
    "\n",
    "bins = dmf.create_bins((dti_non_zero), 50, log=True)"
   ]
  },
  {
   "cell_type": "code",
   "execution_count": 32,
   "metadata": {},
   "outputs": [
    {
     "data": {
      "image/png": "[encoded data removed]",
      "text/plain": [
       "<Figure size 850x450 with 2 Axes>"
      ]
     },
     "metadata": {},
     "output_type": "display_data"
    }
   ],
   "source": [
    "fig_dti_hist, ax_dti_hist = plt.subplots(\n",
    "    1, 2, sharey=True, gridspec_kw={\"width_ratios\": [1, 25]}, figsize=BASE_FIG_SIZE\n",
    ")\n",
    "\n",
    "sns.histplot(x=dti_non_zero, bins=bins, hue=dti_non_zero_y, ax=ax_dti_hist[1])\n",
    "ax_dti_hist[1].set_xscale(\"log\")\n",
    "ax_dti_hist[1].set_yscale(\"log\")\n",
    "ax_dti_hist[1].set_ylim(1, 1e7)\n",
    "ax_dti_hist[1].set_xlim(bins[0], bins[-1])\n",
    "sns.histplot(\n",
    "    x=dti_zero_x.to_numpy(),\n",
    "    bins=1,\n",
    "    hue=dti_zero_y.to_numpy(),\n",
    "    ax=ax_dti_hist[0],\n",
    "    legend=False,\n",
    ")\n",
    "\n",
    "pf.plot_x_axis_break(ax_dti_hist[0],ax_dti_hist[1])\n",
    "\n",
    "ax_dti_hist[0].set_xticks([1])\n",
    "\n",
    "plt.tight_layout(w_pad=-0.5)\n",
    "plt.show()"
   ]
  },
  {
   "cell_type": "markdown",
   "metadata": {},
   "source": [
    "##### Number of zip codes with more  than 50k values\""
   ]
  },
  {
   "cell_type": "code",
   "execution_count": 71,
   "metadata": {},
   "outputs": [
    {
     "data": {
      "text/plain": [
       "86"
      ]
     },
     "execution_count": 71,
     "metadata": {},
     "output_type": "execute_result"
    }
   ],
   "source": [
    "len(X_full_eda[\"Zip Code\"].value_counts().sort(\"Zip Code\").filter(\n",
    "    X_full_eda[\"Zip Code\"].value_counts().sort(\"Zip Code\")['counts'] > 50000\n",
    "))"
   ]
  },
  {
   "cell_type": "code",
   "execution_count": 72,
   "metadata": {},
   "outputs": [],
   "source": [
    "zip_imputer=tr.NotInImputerPolars(cat_no=86,fill_value=None,)"
   ]
  },
  {
   "cell_type": "code",
   "execution_count": 73,
   "metadata": {},
   "outputs": [],
   "source": [
    "X_full_eda=X_full_eda.with_columns(\n",
    "zip_imputer.fit_transform(X_full_eda['Zip Code'])[:,0].alias('Zip Code')\n",
    ")"
   ]
  },
  {
   "cell_type": "code",
   "execution_count": 95,
   "metadata": {},
   "outputs": [
    {
     "data": {
      "text/plain": [
       "(array([ 555115,  561946,  651440,  655212,  674330,  695890, 1307954,\n",
       "        1397702, 1608660, 2134590], dtype=uint32),)"
      ]
     },
     "execution_count": 95,
     "metadata": {},
     "output_type": "execute_result"
    }
   ],
   "source": [
    "X_full_eda[\"State\"].value_counts().sort('counts')[-10:][\"counts\"].to_numpy(),"
   ]
  },
  {
   "cell_type": "code",
   "execution_count": 289,
   "metadata": {},
   "outputs": [],
   "source": [
    "state_counts=pl.DataFrame({'State':X_full_eda['State'],'accepted':y_full_train}).group_by('State').agg(\n",
    "    pl.count().alias('Application Count'),\n",
    "    (pl.sum('accepted')/pl.count()*100).alias('Accepted Percentage')\n",
    ")"
   ]
  },
  {
   "cell_type": "code",
   "execution_count": 308,
   "metadata": {},
   "outputs": [
    {
     "data": {
      "image/png": "[encoded data removed]",
      "text/plain": [
       "<Figure size 640x480 with 1 Axes>"
      ]
     },
     "metadata": {},
     "output_type": "display_data"
    }
   ],
   "source": [
    "sns.boxplot(state_counts['Application Count'])\n",
    "plt.yscale('log')"
   ]
  },
  {
   "cell_type": "code",
   "execution_count": 300,
   "metadata": {},
   "outputs": [
    {
     "data": {
      "image/png": "[encoded data removed]",
      "text/plain": [
       "<Figure size 850x450 with 2 Axes>"
      ]
     },
     "metadata": {},
     "output_type": "display_data"
    }
   ],
   "source": [
    "fig_state_counts, ax_state_counts = pf.plot_grouped_bars(\n",
    "    state_counts, return_fig=True, top_vals=10,figsize_args={'figsize':BASE_FIG_SIZE}\n",
    ")"
   ]
  }
 ],
 "metadata": {
  "kernelspec": {
   "display_name": "base",
   "language": "python",
   "name": "python3"
  },
  "language_info": {
   "codemirror_mode": {
    "name": "ipython",
    "version": 3
   },
   "file_extension": ".py",
   "mimetype": "text/x-python",
   "name": "python",
   "nbconvert_exporter": "python",
   "pygments_lexer": "ipython3",
   "version": "3.9.13"
  },
  "orig_nbformat": 4
 },
 "nbformat": 4,
 "nbformat_minor": 2
}
