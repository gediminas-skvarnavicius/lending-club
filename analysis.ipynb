{
 "cells": [
  {
   "cell_type": "code",
   "execution_count": 1,
   "metadata": {},
   "outputs": [],
   "source": [
    "%reload_ext autoreload\n",
    "%autoreload 1\n",
    "import matplotlib.pyplot as plt\n",
    "import polars as pl\n",
    "import pandas as pd\n",
    "import sys\n",
    "import numpy as np\n",
    "from sklearn.model_selection import train_test_split\n",
    "import functions.transformers as tr\n",
    "import functions.data_manipulation_functions as dmf\n",
    "import functions.plot_functions as pf\n",
    "import seaborn as sns\n",
    "from sklearn.compose import ColumnTransformer\n",
    "from sklearn.pipeline import Pipeline\n",
    "\n",
    "%aimport functions.transformers\n",
    "%aimport functions.data_manipulation_functions\n",
    "%aimport functions.plot_functions"
   ]
  },
  {
   "cell_type": "code",
   "execution_count": 2,
   "metadata": {},
   "outputs": [],
   "source": [
    "BASE_FIG_SIZE=(8.5,4.5)\n",
    "sns.set()"
   ]
  },
  {
   "cell_type": "markdown",
   "metadata": {},
   "source": [
    "### Data Overview"
   ]
  },
  {
   "cell_type": "code",
   "execution_count": 3,
   "metadata": {},
   "outputs": [],
   "source": [
    "data_accepted=pl.read_csv('data/accepted_2007_to_2018Q4.csv',dtypes={'id':str})"
   ]
  },
  {
   "cell_type": "code",
   "execution_count": 4,
   "metadata": {},
   "outputs": [
    {
     "data": {
      "text/plain": [
       "False"
      ]
     },
     "execution_count": 4,
     "metadata": {},
     "output_type": "execute_result"
    }
   ],
   "source": [
    "data_accepted['id'].is_duplicated().any()"
   ]
  },
  {
   "cell_type": "code",
   "execution_count": 5,
   "metadata": {},
   "outputs": [],
   "source": [
    "data_rejected=pl.read_csv('data/rejected_2007_to_2018Q4.csv')"
   ]
  },
  {
   "cell_type": "code",
   "execution_count": 6,
   "metadata": {},
   "outputs": [
    {
     "data": {
      "text/plain": [
       "(27648741, 9)"
      ]
     },
     "execution_count": 6,
     "metadata": {},
     "output_type": "execute_result"
    }
   ],
   "source": [
    "data_rejected.shape"
   ]
  },
  {
   "cell_type": "code",
   "execution_count": 7,
   "metadata": {},
   "outputs": [
    {
     "data": {
      "text/plain": [
       "(2260701, 151)"
      ]
     },
     "execution_count": 7,
     "metadata": {},
     "output_type": "execute_result"
    }
   ],
   "source": [
    "data_accepted.shape"
   ]
  },
  {
   "cell_type": "code",
   "execution_count": 8,
   "metadata": {},
   "outputs": [
    {
     "data": {
      "text/html": [
       "<div><style>\n",
       ".dataframe > thead > tr > th,\n",
       ".dataframe > tbody > tr > td {\n",
       "  text-align: right;\n",
       "  white-space: pre-wrap;\n",
       "}\n",
       "</style>\n",
       "<small>shape: (5, 9)</small><table border=\"1\" class=\"dataframe\"><thead><tr><th>Amount Requested</th><th>Application Date</th><th>Loan Title</th><th>Risk_Score</th><th>Debt-To-Income Ratio</th><th>Zip Code</th><th>State</th><th>Employment Length</th><th>Policy Code</th></tr><tr><td>f64</td><td>str</td><td>str</td><td>f64</td><td>str</td><td>str</td><td>str</td><td>str</td><td>f64</td></tr></thead><tbody><tr><td>1000.0</td><td>&quot;2007-05-26&quot;</td><td>&quot;Wedding Covere…</td><td>693.0</td><td>&quot;10%&quot;</td><td>&quot;481xx&quot;</td><td>&quot;NM&quot;</td><td>&quot;4 years&quot;</td><td>0.0</td></tr><tr><td>1000.0</td><td>&quot;2007-05-26&quot;</td><td>&quot;Consolidating …</td><td>703.0</td><td>&quot;10%&quot;</td><td>&quot;010xx&quot;</td><td>&quot;MA&quot;</td><td>&quot;&lt; 1 year&quot;</td><td>0.0</td></tr><tr><td>11000.0</td><td>&quot;2007-05-27&quot;</td><td>&quot;Want to consol…</td><td>715.0</td><td>&quot;10%&quot;</td><td>&quot;212xx&quot;</td><td>&quot;MD&quot;</td><td>&quot;1 year&quot;</td><td>0.0</td></tr><tr><td>6000.0</td><td>&quot;2007-05-27&quot;</td><td>&quot;waksman&quot;</td><td>698.0</td><td>&quot;38.64%&quot;</td><td>&quot;017xx&quot;</td><td>&quot;MA&quot;</td><td>&quot;&lt; 1 year&quot;</td><td>0.0</td></tr><tr><td>1500.0</td><td>&quot;2007-05-27&quot;</td><td>&quot;mdrigo&quot;</td><td>509.0</td><td>&quot;9.43%&quot;</td><td>&quot;209xx&quot;</td><td>&quot;MD&quot;</td><td>&quot;&lt; 1 year&quot;</td><td>0.0</td></tr></tbody></table></div>"
      ],
      "text/plain": [
       "shape: (5, 9)\n",
       "┌─────────────┬─────────────┬────────────┬────────────┬───┬──────────┬───────┬────────────┬────────┐\n",
       "│ Amount      ┆ Application ┆ Loan Title ┆ Risk_Score ┆ … ┆ Zip Code ┆ State ┆ Employment ┆ Policy │\n",
       "│ Requested   ┆ Date        ┆ ---        ┆ ---        ┆   ┆ ---      ┆ ---   ┆ Length     ┆ Code   │\n",
       "│ ---         ┆ ---         ┆ str        ┆ f64        ┆   ┆ str      ┆ str   ┆ ---        ┆ ---    │\n",
       "│ f64         ┆ str         ┆            ┆            ┆   ┆          ┆       ┆ str        ┆ f64    │\n",
       "╞═════════════╪═════════════╪════════════╪════════════╪═══╪══════════╪═══════╪════════════╪════════╡\n",
       "│ 1000.0      ┆ 2007-05-26  ┆ Wedding    ┆ 693.0      ┆ … ┆ 481xx    ┆ NM    ┆ 4 years    ┆ 0.0    │\n",
       "│             ┆             ┆ Covered    ┆            ┆   ┆          ┆       ┆            ┆        │\n",
       "│             ┆             ┆ but No     ┆            ┆   ┆          ┆       ┆            ┆        │\n",
       "│             ┆             ┆ Honeymoon  ┆            ┆   ┆          ┆       ┆            ┆        │\n",
       "│ 1000.0      ┆ 2007-05-26  ┆ Consolidat ┆ 703.0      ┆ … ┆ 010xx    ┆ MA    ┆ < 1 year   ┆ 0.0    │\n",
       "│             ┆             ┆ ing Debt   ┆            ┆   ┆          ┆       ┆            ┆        │\n",
       "│ 11000.0     ┆ 2007-05-27  ┆ Want to    ┆ 715.0      ┆ … ┆ 212xx    ┆ MD    ┆ 1 year     ┆ 0.0    │\n",
       "│             ┆             ┆ consolidat ┆            ┆   ┆          ┆       ┆            ┆        │\n",
       "│             ┆             ┆ e my debt  ┆            ┆   ┆          ┆       ┆            ┆        │\n",
       "│ 6000.0      ┆ 2007-05-27  ┆ waksman    ┆ 698.0      ┆ … ┆ 017xx    ┆ MA    ┆ < 1 year   ┆ 0.0    │\n",
       "│ 1500.0      ┆ 2007-05-27  ┆ mdrigo     ┆ 509.0      ┆ … ┆ 209xx    ┆ MD    ┆ < 1 year   ┆ 0.0    │\n",
       "└─────────────┴─────────────┴────────────┴────────────┴───┴──────────┴───────┴────────────┴────────┘"
      ]
     },
     "execution_count": 8,
     "metadata": {},
     "output_type": "execute_result"
    }
   ],
   "source": [
    "data_rejected.head()"
   ]
  },
  {
   "cell_type": "markdown",
   "metadata": {},
   "source": [
    "### Join procedure"
   ]
  },
  {
   "cell_type": "code",
   "execution_count": 9,
   "metadata": {},
   "outputs": [],
   "source": [
    "data_accepted = data_accepted.with_columns(pl.lit(np.int8(1)).alias('policy_code'))"
   ]
  },
  {
   "cell_type": "code",
   "execution_count": 10,
   "metadata": {},
   "outputs": [],
   "source": [
    "data_rejected = data_rejected.with_columns(pl.lit(np.int8(0)).alias('Policy Code'))"
   ]
  },
  {
   "cell_type": "code",
   "execution_count": 11,
   "metadata": {},
   "outputs": [],
   "source": [
    "data_rejected = data_rejected.with_columns(\n",
    "    data_rejected[\"Debt-To-Income Ratio\"]\n",
    "    .map_elements(lambda x: np.float32(x.rstrip(\"%\")))\n",
    "    .alias(\"Debt-To-Income Ratio\")\n",
    ")"
   ]
  },
  {
   "cell_type": "code",
   "execution_count": 12,
   "metadata": {},
   "outputs": [],
   "source": [
    "data_full = pl.concat(\n",
    "    [\n",
    "        data_rejected.select(\n",
    "            pl.col(\"Amount Requested\"),\n",
    "            pl.col(\"Loan Title\"),\n",
    "            pl.col(\"Debt-To-Income Ratio\"),\n",
    "            pl.col(\"Zip Code\"),\n",
    "            pl.col(\"State\"),\n",
    "            pl.col(\"Employment Length\"),\n",
    "            pl.col(\"Policy Code\"),\n",
    "        ),\n",
    "        data_accepted.select(\n",
    "            pl.col('loan_amnt').alias(\"Amount Requested\"),\n",
    "            pl.col('title').alias(\"Loan Title\"),\n",
    "            pl.col('dti').alias(\"Debt-To-Income Ratio\"),\n",
    "            pl.col('zip_code').alias(\"Zip Code\"),\n",
    "            pl.col('addr_state').alias(\"State\"),\n",
    "            pl.col('emp_length').alias(\"Employment Length\"),\n",
    "            pl.col('policy_code').alias(\"Policy Code\"),\n",
    "        ),\n",
    "    ]\n",
    ")"
   ]
  },
  {
   "cell_type": "code",
   "execution_count": 13,
   "metadata": {},
   "outputs": [
    {
     "data": {
      "text/html": [
       "<div><style>\n",
       ".dataframe > thead > tr > th,\n",
       ".dataframe > tbody > tr > td {\n",
       "  text-align: right;\n",
       "  white-space: pre-wrap;\n",
       "}\n",
       "</style>\n",
       "<small>shape: (1, 7)</small><table border=\"1\" class=\"dataframe\"><thead><tr><th>Amount Requested</th><th>Loan Title</th><th>Debt-To-Income Ratio</th><th>Zip Code</th><th>State</th><th>Employment Length</th><th>Policy Code</th></tr><tr><td>u32</td><td>u32</td><td>u32</td><td>u32</td><td>u32</td><td>u32</td><td>u32</td></tr></thead><tbody><tr><td>33</td><td>24661</td><td>1744</td><td>327</td><td>55</td><td>1098295</td><td>0</td></tr></tbody></table></div>"
      ],
      "text/plain": [
       "shape: (1, 7)\n",
       "┌───────────┬────────────┬────────────────┬──────────┬───────┬───────────────────┬─────────────┐\n",
       "│ Amount    ┆ Loan Title ┆ Debt-To-Income ┆ Zip Code ┆ State ┆ Employment Length ┆ Policy Code │\n",
       "│ Requested ┆ ---        ┆ Ratio          ┆ ---      ┆ ---   ┆ ---               ┆ ---         │\n",
       "│ ---       ┆ u32        ┆ ---            ┆ u32      ┆ u32   ┆ u32               ┆ u32         │\n",
       "│ u32       ┆            ┆ u32            ┆          ┆       ┆                   ┆             │\n",
       "╞═══════════╪════════════╪════════════════╪══════════╪═══════╪═══════════════════╪═════════════╡\n",
       "│ 33        ┆ 24661      ┆ 1744           ┆ 327      ┆ 55    ┆ 1098295           ┆ 0           │\n",
       "└───────────┴────────────┴────────────────┴──────────┴───────┴───────────────────┴─────────────┘"
      ]
     },
     "execution_count": 13,
     "metadata": {},
     "output_type": "execute_result"
    }
   ],
   "source": [
    "data_full.null_count()"
   ]
  },
  {
   "cell_type": "code",
   "execution_count": 14,
   "metadata": {},
   "outputs": [
    {
     "data": {
      "text/html": [
       "<div><style>\n",
       ".dataframe > thead > tr > th,\n",
       ".dataframe > tbody > tr > td {\n",
       "  text-align: right;\n",
       "  white-space: pre-wrap;\n",
       "}\n",
       "</style>\n",
       "<small>shape: (5, 7)</small><table border=\"1\" class=\"dataframe\"><thead><tr><th>Amount Requested</th><th>Loan Title</th><th>Debt-To-Income Ratio</th><th>Zip Code</th><th>State</th><th>Employment Length</th><th>Policy Code</th></tr><tr><td>f64</td><td>str</td><td>f64</td><td>str</td><td>str</td><td>str</td><td>i32</td></tr></thead><tbody><tr><td>1000.0</td><td>&quot;Wedding Covere…</td><td>10.0</td><td>&quot;481xx&quot;</td><td>&quot;NM&quot;</td><td>&quot;4 years&quot;</td><td>0</td></tr><tr><td>1000.0</td><td>&quot;Consolidating …</td><td>10.0</td><td>&quot;010xx&quot;</td><td>&quot;MA&quot;</td><td>&quot;&lt; 1 year&quot;</td><td>0</td></tr><tr><td>11000.0</td><td>&quot;Want to consol…</td><td>10.0</td><td>&quot;212xx&quot;</td><td>&quot;MD&quot;</td><td>&quot;1 year&quot;</td><td>0</td></tr><tr><td>6000.0</td><td>&quot;waksman&quot;</td><td>38.639999</td><td>&quot;017xx&quot;</td><td>&quot;MA&quot;</td><td>&quot;&lt; 1 year&quot;</td><td>0</td></tr><tr><td>1500.0</td><td>&quot;mdrigo&quot;</td><td>9.43</td><td>&quot;209xx&quot;</td><td>&quot;MD&quot;</td><td>&quot;&lt; 1 year&quot;</td><td>0</td></tr></tbody></table></div>"
      ],
      "text/plain": [
       "shape: (5, 7)\n",
       "┌───────────┬───────────────────────┬────────────────┬──────────┬───────┬────────────┬─────────────┐\n",
       "│ Amount    ┆ Loan Title            ┆ Debt-To-Income ┆ Zip Code ┆ State ┆ Employment ┆ Policy Code │\n",
       "│ Requested ┆ ---                   ┆ Ratio          ┆ ---      ┆ ---   ┆ Length     ┆ ---         │\n",
       "│ ---       ┆ str                   ┆ ---            ┆ str      ┆ str   ┆ ---        ┆ i32         │\n",
       "│ f64       ┆                       ┆ f64            ┆          ┆       ┆ str        ┆             │\n",
       "╞═══════════╪═══════════════════════╪════════════════╪══════════╪═══════╪════════════╪═════════════╡\n",
       "│ 1000.0    ┆ Wedding Covered but   ┆ 10.0           ┆ 481xx    ┆ NM    ┆ 4 years    ┆ 0           │\n",
       "│           ┆ No Honeymoon          ┆                ┆          ┆       ┆            ┆             │\n",
       "│ 1000.0    ┆ Consolidating Debt    ┆ 10.0           ┆ 010xx    ┆ MA    ┆ < 1 year   ┆ 0           │\n",
       "│ 11000.0   ┆ Want to consolidate   ┆ 10.0           ┆ 212xx    ┆ MD    ┆ 1 year     ┆ 0           │\n",
       "│           ┆ my debt               ┆                ┆          ┆       ┆            ┆             │\n",
       "│ 6000.0    ┆ waksman               ┆ 38.639999      ┆ 017xx    ┆ MA    ┆ < 1 year   ┆ 0           │\n",
       "│ 1500.0    ┆ mdrigo                ┆ 9.43           ┆ 209xx    ┆ MD    ┆ < 1 year   ┆ 0           │\n",
       "└───────────┴───────────────────────┴────────────────┴──────────┴───────┴────────────┴─────────────┘"
      ]
     },
     "execution_count": 14,
     "metadata": {},
     "output_type": "execute_result"
    }
   ],
   "source": [
    "data_full.head()"
   ]
  },
  {
   "cell_type": "markdown",
   "metadata": {},
   "source": [
    "#### Splits"
   ]
  },
  {
   "cell_type": "code",
   "execution_count": 15,
   "metadata": {},
   "outputs": [],
   "source": [
    "X_full_train, X_full_test, y_full_train, y_full_test = train_test_split(\n",
    "    data_full.drop(columns=[\"Policy Code\"]),\n",
    "    data_full[\"Policy Code\"],\n",
    "    test_size=0.4,\n",
    "    stratify=data_full[\"Policy Code\"],\n",
    ")"
   ]
  },
  {
   "cell_type": "code",
   "execution_count": 16,
   "metadata": {},
   "outputs": [],
   "source": [
    "X_full_val, X_full_test, y_full_val, y_full_test = train_test_split(\n",
    "    X_full_test, y_full_test, stratify=y_full_test, random_state=1\n",
    ")"
   ]
  },
  {
   "cell_type": "markdown",
   "metadata": {},
   "source": [
    "# stop here"
   ]
  },
  {
   "cell_type": "code",
   "execution_count": 20,
   "metadata": {},
   "outputs": [],
   "source": [
    "X_full_eda=X_full_train.clone()"
   ]
  },
  {
   "cell_type": "code",
   "execution_count": 18,
   "metadata": {},
   "outputs": [],
   "source": [
    "category_mappings = {\n",
    "    \"credit_card\": [\"credit_card\"],\n",
    "    \"car\": [\"car\"],\n",
    "    \"debt_consolidation\": [\"consolid\", \"refinan\", \"debt\"],\n",
    "    \"medical\": [\"medic\"],\n",
    "    \"business\": [\"business\"],\n",
    "    \"moving\": [\"moving\", \"relocation\"],\n",
    "    \"home\": [\"home\", \"house\"],\n",
    "    \"education\": [\"educ\", \"school\", \"stud\", \"university\"],\n",
    "    \"green_loan\": [\"renew\"],\n",
    "}\n",
    "\n",
    "category_mappings_is = {None: [\"_\", \"other\"]}\n"
   ]
  },
  {
   "cell_type": "code",
   "execution_count": 21,
   "metadata": {},
   "outputs": [],
   "source": [
    "def text_preprocessing_wo_training(df):\n",
    "    df = (\n",
    "        df\n",
    "        .pipe(dmf.lowercase_underscore_text, 'Loan Title', 'title')\n",
    "        .pipe(dmf.text_contains_numbers, 'title')\n",
    "        .pipe(dmf.text_length, 'title')\n",
    "        .pipe(dmf.starts_with_lowercase, 'title')\n",
    "        .pipe(dmf.categorize_strings_contains, category_mappings, 'title')\n",
    "        .pipe(dmf.categorize_strings_is, category_mappings_is, 'title')\n",
    "        .pipe(dmf.drop_column,'Loan Title')\n",
    "        .pipe(dmf.replace_below_min,\"Amount Requested\", 1, None)\n",
    "        .pipe(dmf.replace_below_min, \"Debt-To-Income Ratio\", 0, None)\n",
    "    )\n",
    "    return df\n",
    "\n",
    "# Apply the custom procedure to your DataFrame\n",
    "X_full_eda = text_preprocessing_wo_training(X_full_eda)\n"
   ]
  },
  {
   "cell_type": "code",
   "execution_count": 22,
   "metadata": {},
   "outputs": [
    {
     "data": {
      "text/html": [
       "<div><style>\n",
       ".dataframe > thead > tr > th,\n",
       ".dataframe > tbody > tr > td {\n",
       "  text-align: right;\n",
       "  white-space: pre-wrap;\n",
       "}\n",
       "</style>\n",
       "<small>shape: (17_945_665, 9)</small><table border=\"1\" class=\"dataframe\"><thead><tr><th>Amount Requested</th><th>Debt-To-Income Ratio</th><th>Zip Code</th><th>State</th><th>Employment Length</th><th>title</th><th>title_contains_numbers</th><th>title_length</th><th>title_starts_with_lowercase</th></tr><tr><td>f64</td><td>f64</td><td>str</td><td>str</td><td>str</td><td>str</td><td>bool</td><td>u32</td><td>bool</td></tr></thead><tbody><tr><td>18000.0</td><td>92.629997</td><td>&quot;470xx&quot;</td><td>&quot;IN&quot;</td><td>&quot;&lt; 1 year&quot;</td><td>&quot;car&quot;</td><td>false</td><td>13</td><td>true</td></tr><tr><td>7000.0</td><td>38.740002</td><td>&quot;322xx&quot;</td><td>&quot;FL&quot;</td><td>&quot;&lt; 1 year&quot;</td><td>&quot;car&quot;</td><td>false</td><td>11</td><td>true</td></tr><tr><td>15000.0</td><td>18.75</td><td>&quot;840xx&quot;</td><td>&quot;UT&quot;</td><td>&quot;&lt; 1 year&quot;</td><td>&quot;home&quot;</td><td>false</td><td>11</td><td>true</td></tr><tr><td>6000.0</td><td>39.209999</td><td>&quot;982xx&quot;</td><td>&quot;WA&quot;</td><td>&quot;&lt; 1 year&quot;</td><td>&quot;major_purchase…</td><td>false</td><td>14</td><td>true</td></tr><tr><td>25000.0</td><td>12.06</td><td>&quot;875xx&quot;</td><td>&quot;NM&quot;</td><td>&quot;&lt; 1 year&quot;</td><td>null</td><td>false</td><td>5</td><td>true</td></tr><tr><td>37000.0</td><td>42.09</td><td>&quot;378xx&quot;</td><td>&quot;TN&quot;</td><td>&quot;&lt; 1 year&quot;</td><td>&quot;car&quot;</td><td>false</td><td>13</td><td>true</td></tr><tr><td>17000.0</td><td>16.48</td><td>&quot;195xx&quot;</td><td>&quot;PA&quot;</td><td>&quot;&lt; 1 year&quot;</td><td>&quot;car&quot;</td><td>false</td><td>3</td><td>true</td></tr><tr><td>5000.0</td><td>11.38</td><td>&quot;352xx&quot;</td><td>&quot;AL&quot;</td><td>&quot;10+ years&quot;</td><td>&quot;debt_consolida…</td><td>false</td><td>18</td><td>true</td></tr><tr><td>18000.0</td><td>55.91</td><td>&quot;823xx&quot;</td><td>&quot;WY&quot;</td><td>&quot;&lt; 1 year&quot;</td><td>&quot;debt_consolida…</td><td>false</td><td>18</td><td>true</td></tr><tr><td>12000.0</td><td>10.73</td><td>&quot;041xx&quot;</td><td>&quot;ME&quot;</td><td>&quot;&lt; 1 year&quot;</td><td>&quot;home&quot;</td><td>false</td><td>16</td><td>true</td></tr><tr><td>15000.0</td><td>23.58</td><td>&quot;330xx&quot;</td><td>&quot;FL&quot;</td><td>&quot;&lt; 1 year&quot;</td><td>&quot;car&quot;</td><td>false</td><td>23</td><td>true</td></tr><tr><td>10050.0</td><td>10.5</td><td>&quot;376xx&quot;</td><td>&quot;TN&quot;</td><td>&quot;5 years&quot;</td><td>&quot;debt_consolida…</td><td>false</td><td>18</td><td>true</td></tr><tr><td>&hellip;</td><td>&hellip;</td><td>&hellip;</td><td>&hellip;</td><td>&hellip;</td><td>&hellip;</td><td>&hellip;</td><td>&hellip;</td><td>&hellip;</td></tr><tr><td>25000.0</td><td>18.49</td><td>&quot;282xx&quot;</td><td>&quot;NC&quot;</td><td>&quot;&lt; 1 year&quot;</td><td>&quot;debt_consolida…</td><td>false</td><td>18</td><td>true</td></tr><tr><td>20000.0</td><td>9.41</td><td>&quot;104xx&quot;</td><td>&quot;NY&quot;</td><td>&quot;10+ years&quot;</td><td>null</td><td>null</td><td>null</td><td>null</td></tr><tr><td>35000.0</td><td>35.529999</td><td>&quot;338xx&quot;</td><td>&quot;FL&quot;</td><td>&quot;&lt; 1 year&quot;</td><td>&quot;debt_consolida…</td><td>false</td><td>18</td><td>true</td></tr><tr><td>30000.0</td><td>24.459999</td><td>&quot;272xx&quot;</td><td>&quot;NC&quot;</td><td>&quot;&lt; 1 year&quot;</td><td>&quot;debt_consolida…</td><td>false</td><td>18</td><td>true</td></tr><tr><td>200000.0</td><td>null</td><td>&quot;234xx&quot;</td><td>&quot;VA&quot;</td><td>&quot;&lt; 1 year&quot;</td><td>&quot;business&quot;</td><td>false</td><td>13</td><td>true</td></tr><tr><td>2000.0</td><td>15.35</td><td>&quot;720xx&quot;</td><td>&quot;AR&quot;</td><td>&quot;3 years&quot;</td><td>null</td><td>false</td><td>5</td><td>true</td></tr><tr><td>10000.0</td><td>31.52</td><td>&quot;310xx&quot;</td><td>&quot;GA&quot;</td><td>&quot;&lt; 1 year&quot;</td><td>&quot;debt_consolida…</td><td>false</td><td>18</td><td>true</td></tr><tr><td>8000.0</td><td>41.18</td><td>&quot;347xx&quot;</td><td>&quot;FL&quot;</td><td>&quot;&lt; 1 year&quot;</td><td>&quot;business&quot;</td><td>false</td><td>14</td><td>true</td></tr><tr><td>2000.0</td><td>47.810001</td><td>&quot;598xx&quot;</td><td>&quot;MT&quot;</td><td>&quot;&lt; 1 year&quot;</td><td>&quot;home&quot;</td><td>false</td><td>16</td><td>true</td></tr><tr><td>5000.0</td><td>32.830002</td><td>&quot;240xx&quot;</td><td>&quot;VA&quot;</td><td>&quot;&lt; 1 year&quot;</td><td>&quot;debt_consolida…</td><td>false</td><td>18</td><td>true</td></tr><tr><td>20000.0</td><td>27.209999</td><td>&quot;145xx&quot;</td><td>&quot;NY&quot;</td><td>&quot;&lt; 1 year&quot;</td><td>&quot;debt_consolida…</td><td>false</td><td>18</td><td>true</td></tr><tr><td>35000.0</td><td>22.459999</td><td>&quot;316xx&quot;</td><td>&quot;GA&quot;</td><td>&quot;&lt; 1 year&quot;</td><td>&quot;debt_consolida…</td><td>false</td><td>18</td><td>true</td></tr></tbody></table></div>"
      ],
      "text/plain": [
       "shape: (17_945_665, 9)\n",
       "┌────────────┬────────────┬──────────┬───────┬───┬────────────┬────────────┬───────────┬───────────┐\n",
       "│ Amount     ┆ Debt-To-In ┆ Zip Code ┆ State ┆ … ┆ title      ┆ title_cont ┆ title_len ┆ title_sta │\n",
       "│ Requested  ┆ come Ratio ┆ ---      ┆ ---   ┆   ┆ ---        ┆ ains_numbe ┆ gth       ┆ rts_with_ │\n",
       "│ ---        ┆ ---        ┆ str      ┆ str   ┆   ┆ str        ┆ rs         ┆ ---       ┆ lowercase │\n",
       "│ f64        ┆ f64        ┆          ┆       ┆   ┆            ┆ ---        ┆ u32       ┆ ---       │\n",
       "│            ┆            ┆          ┆       ┆   ┆            ┆ bool       ┆           ┆ bool      │\n",
       "╞════════════╪════════════╪══════════╪═══════╪═══╪════════════╪════════════╪═══════════╪═══════════╡\n",
       "│ 18000.0    ┆ 92.629997  ┆ 470xx    ┆ IN    ┆ … ┆ car        ┆ false      ┆ 13        ┆ true      │\n",
       "│ 7000.0     ┆ 38.740002  ┆ 322xx    ┆ FL    ┆ … ┆ car        ┆ false      ┆ 11        ┆ true      │\n",
       "│ 15000.0    ┆ 18.75      ┆ 840xx    ┆ UT    ┆ … ┆ home       ┆ false      ┆ 11        ┆ true      │\n",
       "│ 6000.0     ┆ 39.209999  ┆ 982xx    ┆ WA    ┆ … ┆ major_purc ┆ false      ┆ 14        ┆ true      │\n",
       "│            ┆            ┆          ┆       ┆   ┆ hase       ┆            ┆           ┆           │\n",
       "│ …          ┆ …          ┆ …        ┆ …     ┆ … ┆ …          ┆ …          ┆ …         ┆ …         │\n",
       "│ 2000.0     ┆ 47.810001  ┆ 598xx    ┆ MT    ┆ … ┆ home       ┆ false      ┆ 16        ┆ true      │\n",
       "│ 5000.0     ┆ 32.830002  ┆ 240xx    ┆ VA    ┆ … ┆ debt_conso ┆ false      ┆ 18        ┆ true      │\n",
       "│            ┆            ┆          ┆       ┆   ┆ lidation   ┆            ┆           ┆           │\n",
       "│ 20000.0    ┆ 27.209999  ┆ 145xx    ┆ NY    ┆ … ┆ debt_conso ┆ false      ┆ 18        ┆ true      │\n",
       "│            ┆            ┆          ┆       ┆   ┆ lidation   ┆            ┆           ┆           │\n",
       "│ 35000.0    ┆ 22.459999  ┆ 316xx    ┆ GA    ┆ … ┆ debt_conso ┆ false      ┆ 18        ┆ true      │\n",
       "│            ┆            ┆          ┆       ┆   ┆ lidation   ┆            ┆           ┆           │\n",
       "└────────────┴────────────┴──────────┴───────┴───┴────────────┴────────────┴───────────┴───────────┘"
      ]
     },
     "execution_count": 22,
     "metadata": {},
     "output_type": "execute_result"
    }
   ],
   "source": [
    "X_full_eda"
   ]
  },
  {
   "cell_type": "code",
   "execution_count": 23,
   "metadata": {},
   "outputs": [],
   "source": [
    "title_cat_imputer=tr.NotInImputerPolars(cat_no=12,fill_value=None)\n",
    "zip_imputer=tr.NotInImputerPolars(cat_no=80,fill_value=None,)"
   ]
  },
  {
   "cell_type": "code",
   "execution_count": 28,
   "metadata": {},
   "outputs": [],
   "source": [
    "imputer = ColumnTransformer(\n",
    "    [\n",
    "        ('title_imputer',title_cat_imputer, X_full_eda.find_idx_by_name(\"title\")),\n",
    "        ('zip_imputer',zip_imputer, X_full_eda.find_idx_by_name(\"Zip Code\")),\n",
    "        \n",
    "    ],\n",
    "    remainder=\"passthrough\",\n",
    ")"
   ]
  },
  {
   "cell_type": "code",
   "execution_count": 31,
   "metadata": {},
   "outputs": [],
   "source": [
    "X_full_eda=imputer.fit_transform(X_full_eda.to_numpy())"
   ]
  },
  {
   "cell_type": "code",
   "execution_count": null,
   "metadata": {},
   "outputs": [],
   "source": []
  },
  {
   "cell_type": "code",
   "execution_count": 25,
   "metadata": {},
   "outputs": [
    {
     "data": {
      "text/html": [
       "<div><style>\n",
       ".dataframe > thead > tr > th,\n",
       ".dataframe > tbody > tr > td {\n",
       "  text-align: right;\n",
       "  white-space: pre-wrap;\n",
       "}\n",
       "</style>\n",
       "<small>shape: (12, 2)</small><table border=\"1\" class=\"dataframe\"><thead><tr><th>title_edited</th><th>counts</th></tr><tr><td>str</td><td>u32</td></tr></thead><tbody><tr><td>&quot;education&quot;</td><td>6969</td></tr><tr><td>&quot;wedding&quot;</td><td>11448</td></tr><tr><td>&quot;green_loan&quot;</td><td>34845</td></tr><tr><td>&quot;vacation&quot;</td><td>193762</td></tr><tr><td>&quot;moving&quot;</td><td>430611</td></tr><tr><td>&quot;medical&quot;</td><td>466228</td></tr><tr><td>&quot;business&quot;</td><td>532445</td></tr><tr><td>&quot;major_purchase…</td><td>600809</td></tr><tr><td>&quot;home&quot;</td><td>1220493</td></tr><tr><td>null</td><td>3006175</td></tr><tr><td>&quot;car&quot;</td><td>3294995</td></tr><tr><td>&quot;debt_consolida…</td><td>8146885</td></tr></tbody></table></div>"
      ],
      "text/plain": [
       "shape: (12, 2)\n",
       "┌────────────────────┬─────────┐\n",
       "│ title_edited       ┆ counts  │\n",
       "│ ---                ┆ ---     │\n",
       "│ str                ┆ u32     │\n",
       "╞════════════════════╪═════════╡\n",
       "│ education          ┆ 6969    │\n",
       "│ wedding            ┆ 11448   │\n",
       "│ green_loan         ┆ 34845   │\n",
       "│ vacation           ┆ 193762  │\n",
       "│ …                  ┆ …       │\n",
       "│ home               ┆ 1220493 │\n",
       "│ null               ┆ 3006175 │\n",
       "│ car                ┆ 3294995 │\n",
       "│ debt_consolidation ┆ 8146885 │\n",
       "└────────────────────┴─────────┘"
      ]
     },
     "execution_count": 25,
     "metadata": {},
     "output_type": "execute_result"
    }
   ],
   "source": [
    "X_full_eda['title_edited'].value_counts().sort('counts')\n"
   ]
  },
  {
   "cell_type": "code",
   "execution_count": 27,
   "metadata": {},
   "outputs": [
    {
     "data": {
      "image/png": "[encoded data removed]",
      "text/plain": [
       "<Figure size 850x450 with 1 Axes>"
      ]
     },
     "metadata": {},
     "output_type": "display_data"
    }
   ],
   "source": [
    "fig_requested_box, ax_requested_box = plt.subplots(figsize=BASE_FIG_SIZE)\n",
    "sns.boxenplot(\n",
    "    x=y_full_train.filter(X_full_eda[\"Amount Requested\"].is_not_null()).to_numpy(),\n",
    "    y=X_full_eda[\"Amount Requested\"].drop_nulls().to_numpy(),\n",
    "    ax=ax_requested_box\n",
    ")\n",
    "ax_requested_box.set_yscale(\"log\")\n",
    "ax_requested_box.set_ylabel(\"Amount Requested\")\n",
    "ax_requested_box.set_xticklabels(('Rejected','Approved'))\n",
    "plt.show()"
   ]
  },
  {
   "cell_type": "code",
   "execution_count": 28,
   "metadata": {},
   "outputs": [
    {
     "data": {
      "text/html": [
       "<div><style>\n",
       ".dataframe > thead > tr > th,\n",
       ".dataframe > tbody > tr > td {\n",
       "  text-align: right;\n",
       "  white-space: pre-wrap;\n",
       "}\n",
       "</style>\n",
       "<small>shape: (1, 7)</small><table border=\"1\" class=\"dataframe\"><thead><tr><th>Amount Requested</th><th>Loan Title</th><th>Debt-To-Income Ratio</th><th>Zip Code</th><th>State</th><th>Employment Length</th><th>title_edited</th></tr><tr><td>u32</td><td>u32</td><td>u32</td><td>u32</td><td>u32</td><td>u32</td><td>u32</td></tr></thead><tbody><tr><td>804</td><td>14786</td><td>1070</td><td>213</td><td>29</td><td>660310</td><td>3006175</td></tr></tbody></table></div>"
      ],
      "text/plain": [
       "shape: (1, 7)\n",
       "┌───────────┬────────────┬────────────────┬──────────┬───────┬───────────────────┬──────────────┐\n",
       "│ Amount    ┆ Loan Title ┆ Debt-To-Income ┆ Zip Code ┆ State ┆ Employment Length ┆ title_edited │\n",
       "│ Requested ┆ ---        ┆ Ratio          ┆ ---      ┆ ---   ┆ ---               ┆ ---          │\n",
       "│ ---       ┆ u32        ┆ ---            ┆ u32      ┆ u32   ┆ u32               ┆ u32          │\n",
       "│ u32       ┆            ┆ u32            ┆          ┆       ┆                   ┆              │\n",
       "╞═══════════╪════════════╪════════════════╪══════════╪═══════╪═══════════════════╪══════════════╡\n",
       "│ 804       ┆ 14786      ┆ 1070           ┆ 213      ┆ 29    ┆ 660310            ┆ 3006175      │\n",
       "└───────────┴────────────┴────────────────┴──────────┴───────┴───────────────────┴──────────────┘"
      ]
     },
     "execution_count": 28,
     "metadata": {},
     "output_type": "execute_result"
    }
   ],
   "source": [
    "X_full_eda.null_count()"
   ]
  },
  {
   "cell_type": "markdown",
   "metadata": {},
   "source": [
    "##### Turn less than 0 into None"
   ]
  },
  {
   "cell_type": "code",
   "execution_count": 30,
   "metadata": {},
   "outputs": [
    {
     "data": {
      "image/png": "[encoded data removed]",
      "text/plain": [
       "<Figure size 850x450 with 1 Axes>"
      ]
     },
     "metadata": {},
     "output_type": "display_data"
    }
   ],
   "source": [
    "fig_dti_box, ax_dti_box = plt.subplots(figsize=BASE_FIG_SIZE)\n",
    "sns.boxenplot(\n",
    "    x=y_full_train.filter(X_full_eda[\"Debt-To-Income Ratio\"].is_not_null()).to_numpy(),\n",
    "    y=X_full_eda[\"Debt-To-Income Ratio\"]\n",
    "    .drop_nulls()\n",
    "    .to_numpy(),\n",
    "\n",
    "    ax=ax_dti_box\n",
    ")\n",
    "\n",
    "ax_dti_box.set_yscale(\"log\")\n",
    "plt.show()"
   ]
  },
  {
   "cell_type": "code",
   "execution_count": 31,
   "metadata": {},
   "outputs": [],
   "source": [
    "dti_non_zero = (\n",
    "    X_full_eda[\"Debt-To-Income Ratio\"]\n",
    "    .drop_nulls()\n",
    "    .filter(X_full_eda[\"Debt-To-Income Ratio\"].drop_nulls() != 0)\n",
    "    .to_numpy()\n",
    ")\n",
    "dti_non_zero_y = y_full_train.filter(\n",
    "    X_full_eda[\"Debt-To-Income Ratio\"].is_not_null()\n",
    ").filter(X_full_eda[\"Debt-To-Income Ratio\"].drop_nulls() != 0)\n",
    "dti_zero_x = (\n",
    "    X_full_eda[\"Debt-To-Income Ratio\"]\n",
    "    .drop_nulls()\n",
    "    .filter(X_full_eda[\"Debt-To-Income Ratio\"].drop_nulls() == 0)\n",
    ")\n",
    "dti_zero_y = y_full_train.filter(\n",
    "    X_full_eda[\"Debt-To-Income Ratio\"].is_not_null()\n",
    ").filter(X_full_eda[\"Debt-To-Income Ratio\"].drop_nulls() == 0)\n",
    "\n",
    "bins = dmf.create_bins((dti_non_zero), 50, log=True)"
   ]
  },
  {
   "cell_type": "code",
   "execution_count": 32,
   "metadata": {},
   "outputs": [
    {
     "data": {
      "image/png": "[encoded data removed]",
      "text/plain": [
       "<Figure size 850x450 with 2 Axes>"
      ]
     },
     "metadata": {},
     "output_type": "display_data"
    }
   ],
   "source": [
    "fig_dti_hist, ax_dti_hist = plt.subplots(\n",
    "    1, 2, sharey=True, gridspec_kw={\"width_ratios\": [1, 25]}, figsize=BASE_FIG_SIZE\n",
    ")\n",
    "\n",
    "sns.histplot(x=dti_non_zero, bins=bins, hue=dti_non_zero_y, ax=ax_dti_hist[1])\n",
    "ax_dti_hist[1].set_xscale(\"log\")\n",
    "ax_dti_hist[1].set_yscale(\"log\")\n",
    "ax_dti_hist[1].set_ylim(1, 1e7)\n",
    "ax_dti_hist[1].set_xlim(bins[0], bins[-1])\n",
    "sns.histplot(\n",
    "    x=dti_zero_x.to_numpy(),\n",
    "    bins=1,\n",
    "    hue=dti_zero_y.to_numpy(),\n",
    "    ax=ax_dti_hist[0],\n",
    "    legend=False,\n",
    ")\n",
    "\n",
    "pf.plot_x_axis_break(ax_dti_hist[0],ax_dti_hist[1])\n",
    "\n",
    "ax_dti_hist[0].set_xticks([1])\n",
    "\n",
    "plt.tight_layout(w_pad=-0.5)\n",
    "plt.show()"
   ]
  },
  {
   "cell_type": "markdown",
   "metadata": {},
   "source": [
    "##### Number of zip codes with more  than 50k values\""
   ]
  },
  {
   "cell_type": "code",
   "execution_count": 36,
   "metadata": {},
   "outputs": [
    {
     "data": {
      "text/plain": [
       "(array([ 555485,  562085,  652351,  655151,  675292,  695381, 1307041,\n",
       "        1396802, 1610907, 2134242], dtype=uint32),)"
      ]
     },
     "execution_count": 36,
     "metadata": {},
     "output_type": "execute_result"
    }
   ],
   "source": [
    "X_full_eda[\"State\"].value_counts().sort('counts')[-10:][\"counts\"].to_numpy(),"
   ]
  },
  {
   "cell_type": "code",
   "execution_count": 37,
   "metadata": {},
   "outputs": [],
   "source": [
    "state_counts=pl.DataFrame({'State':X_full_eda['State'],'accepted':y_full_train}).group_by('State').agg(\n",
    "    pl.count().alias('Application Count'),\n",
    "    (pl.sum('accepted')/pl.count()*100).alias('Accepted Percentage')\n",
    ")"
   ]
  },
  {
   "cell_type": "code",
   "execution_count": 38,
   "metadata": {},
   "outputs": [
    {
     "data": {
      "image/png": "[encoded data removed]",
      "text/plain": [
       "<Figure size 640x480 with 1 Axes>"
      ]
     },
     "metadata": {},
     "output_type": "display_data"
    }
   ],
   "source": [
    "sns.boxplot(state_counts['Application Count'])\n",
    "plt.yscale('log')"
   ]
  },
  {
   "cell_type": "code",
   "execution_count": 39,
   "metadata": {},
   "outputs": [
    {
     "data": {
      "image/png": "[encoded data removed]",
      "text/plain": [
       "<Figure size 850x450 with 2 Axes>"
      ]
     },
     "metadata": {},
     "output_type": "display_data"
    }
   ],
   "source": [
    "fig_state_counts, ax_state_counts = pf.plot_grouped_bars(\n",
    "    state_counts, return_fig=True, top_vals=10,figsize_args={'figsize':BASE_FIG_SIZE}\n",
    ")"
   ]
  },
  {
   "cell_type": "code",
   "execution_count": 40,
   "metadata": {},
   "outputs": [],
   "source": [
    "work_time_counts=pl.DataFrame({'Employment Length':X_full_eda['Employment Length'],'accepted':y_full_train}).group_by('Employment Length').agg(\n",
    "    pl.count().alias('Application Count'),\n",
    "    (pl.sum('accepted')/pl.count()*100).alias('Accepted Percentage')\n",
    ")\n",
    "work_time_counts=work_time_counts.fill_null('None')"
   ]
  },
  {
   "cell_type": "code",
   "execution_count": 41,
   "metadata": {},
   "outputs": [
    {
     "data": {
      "image/png": "[encoded data removed]",
      "text/plain": [
       "<Figure size 640x480 with 2 Axes>"
      ]
     },
     "metadata": {},
     "output_type": "display_data"
    }
   ],
   "source": [
    "fig_emp_length, ax_empl_length = pf.plot_grouped_bars(\n",
    "    work_time_counts, x_label_args={\"rotation\": 45}, return_fig=True\n",
    ")\n",
    "\n",
    "ax_empl_length[0].set_yscale('log')"
   ]
  },
  {
   "cell_type": "code",
   "execution_count": 25,
   "metadata": {},
   "outputs": [],
   "source": [
    "numeric_columns = X_full_eda.select(pl.selectors.by_dtype(pl.NUMERIC_DTYPES)).columns\n",
    "categorical_columns = [col for col in X_full_eda.columns if col not in numeric_columns]"
   ]
  },
  {
   "cell_type": "code",
   "execution_count": 26,
   "metadata": {},
   "outputs": [],
   "source": [
    "numeric_columns_idx=[X_full_eda.columns.index(val) for val in numeric_columns]\n",
    "categorical_column_idx=[X_full_eda.columns.index(val) for val in categorical_columns]"
   ]
  },
  {
   "cell_type": "code",
   "execution_count": 39,
   "metadata": {},
   "outputs": [],
   "source": [
    "for col in categorical_columns:\n",
    "    X_full_eda=X_full_eda.with_columns(pl.col(col).cast(pl.Categorical).alias(col))"
   ]
  },
  {
   "cell_type": "code",
   "execution_count": 40,
   "metadata": {},
   "outputs": [
    {
     "data": {
      "text/html": [
       "<div><style>\n",
       ".dataframe > thead > tr > th,\n",
       ".dataframe > tbody > tr > td {\n",
       "  text-align: right;\n",
       "  white-space: pre-wrap;\n",
       "}\n",
       "</style>\n",
       "<small>shape: (17_945_665, 8)</small><table border=\"1\" class=\"dataframe\"><thead><tr><th>Amount Requested</th><th>Debt-To-Income Ratio</th><th>Zip Code</th><th>State</th><th>Employment Length</th><th>title_edited</th><th>title_contains_numbers</th><th>title_length</th></tr><tr><td>f64</td><td>f64</td><td>cat</td><td>cat</td><td>cat</td><td>cat</td><td>u32</td><td>u32</td></tr></thead><tbody><tr><td>33000.0</td><td>23.219999</td><td>&quot;112xx&quot;</td><td>&quot;NY&quot;</td><td>&quot;&lt; 1 year&quot;</td><td>&quot;debt_consolida…</td><td>0</td><td>18</td></tr><tr><td>5000.0</td><td>0.0</td><td>null</td><td>&quot;CA&quot;</td><td>&quot;&lt; 1 year&quot;</td><td>&quot;moving&quot;</td><td>0</td><td>21</td></tr><tr><td>6000.0</td><td>9.34</td><td>null</td><td>&quot;DE&quot;</td><td>&quot;5 years&quot;</td><td>&quot;major_purchase…</td><td>0</td><td>14</td></tr><tr><td>10000.0</td><td>3.96</td><td>null</td><td>&quot;WI&quot;</td><td>&quot;&lt; 1 year&quot;</td><td>&quot;home&quot;</td><td>0</td><td>11</td></tr><tr><td>12000.0</td><td>22.9</td><td>&quot;334xx&quot;</td><td>&quot;FL&quot;</td><td>&quot;1 year&quot;</td><td>&quot;debt_consolida…</td><td>0</td><td>18</td></tr><tr><td>1500.0</td><td>1.33</td><td>null</td><td>&quot;IL&quot;</td><td>null</td><td>null</td><td>0</td><td>5</td></tr><tr><td>300000.0</td><td>null</td><td>&quot;337xx&quot;</td><td>&quot;FL&quot;</td><td>&quot;&lt; 1 year&quot;</td><td>&quot;business&quot;</td><td>0</td><td>13</td></tr><tr><td>10000.0</td><td>2.0</td><td>null</td><td>&quot;VA&quot;</td><td>null</td><td>&quot;car&quot;</td><td>0</td><td>13</td></tr><tr><td>20000.0</td><td>43.779999</td><td>null</td><td>&quot;CA&quot;</td><td>&quot;&lt; 1 year&quot;</td><td>&quot;debt_consolida…</td><td>0</td><td>18</td></tr><tr><td>1000.0</td><td>9.6</td><td>null</td><td>&quot;MS&quot;</td><td>&quot;&lt; 1 year&quot;</td><td>&quot;home&quot;</td><td>0</td><td>16</td></tr><tr><td>5000.0</td><td>30.58</td><td>&quot;852xx&quot;</td><td>&quot;AZ&quot;</td><td>&quot;&lt; 1 year&quot;</td><td>null</td><td>0</td><td>5</td></tr><tr><td>5000.0</td><td>8.72</td><td>&quot;752xx&quot;</td><td>&quot;TX&quot;</td><td>null</td><td>null</td><td>0</td><td>5</td></tr><tr><td>&hellip;</td><td>&hellip;</td><td>&hellip;</td><td>&hellip;</td><td>&hellip;</td><td>&hellip;</td><td>&hellip;</td><td>&hellip;</td></tr><tr><td>20000.0</td><td>332.600006</td><td>&quot;774xx&quot;</td><td>&quot;TX&quot;</td><td>&quot;&lt; 1 year&quot;</td><td>&quot;home&quot;</td><td>0</td><td>5</td></tr><tr><td>6000.0</td><td>34.619999</td><td>null</td><td>&quot;MD&quot;</td><td>&quot;&lt; 1 year&quot;</td><td>&quot;debt_consolida…</td><td>0</td><td>18</td></tr><tr><td>30000.0</td><td>34.57</td><td>&quot;925xx&quot;</td><td>&quot;CA&quot;</td><td>&quot;&lt; 1 year&quot;</td><td>&quot;debt_consolida…</td><td>0</td><td>18</td></tr><tr><td>2000.0</td><td>100.0</td><td>null</td><td>&quot;NC&quot;</td><td>&quot;&lt; 1 year&quot;</td><td>&quot;car&quot;</td><td>0</td><td>13</td></tr><tr><td>8000.0</td><td>58.23</td><td>null</td><td>&quot;MA&quot;</td><td>&quot;&lt; 1 year&quot;</td><td>&quot;car&quot;</td><td>0</td><td>11</td></tr><tr><td>2500.0</td><td>16.459999</td><td>&quot;770xx&quot;</td><td>&quot;TX&quot;</td><td>&quot;&lt; 1 year&quot;</td><td>&quot;medical&quot;</td><td>0</td><td>7</td></tr><tr><td>5000.0</td><td>58.049999</td><td>null</td><td>&quot;AR&quot;</td><td>&quot;&lt; 1 year&quot;</td><td>&quot;debt_consolida…</td><td>0</td><td>18</td></tr><tr><td>1000.0</td><td>23.360001</td><td>&quot;913xx&quot;</td><td>&quot;CA&quot;</td><td>&quot;&lt; 1 year&quot;</td><td>null</td><td>0</td><td>5</td></tr><tr><td>5500.0</td><td>22.860001</td><td>&quot;112xx&quot;</td><td>&quot;NY&quot;</td><td>&quot;&lt; 1 year&quot;</td><td>null</td><td>0</td><td>5</td></tr><tr><td>35000.0</td><td>100.0</td><td>&quot;840xx&quot;</td><td>&quot;UT&quot;</td><td>&quot;&lt; 1 year&quot;</td><td>&quot;car&quot;</td><td>0</td><td>23</td></tr><tr><td>10000.0</td><td>75.239998</td><td>null</td><td>&quot;CA&quot;</td><td>&quot;&lt; 1 year&quot;</td><td>&quot;debt_consolida…</td><td>0</td><td>18</td></tr><tr><td>25000.0</td><td>21.74</td><td>null</td><td>&quot;MS&quot;</td><td>&quot;&lt; 1 year&quot;</td><td>&quot;debt_consolida…</td><td>0</td><td>18</td></tr></tbody></table></div>"
      ],
      "text/plain": [
       "shape: (17_945_665, 8)\n",
       "┌─────────────┬─────────────┬──────────┬───────┬────────────┬────────────┬────────────┬────────────┐\n",
       "│ Amount      ┆ Debt-To-Inc ┆ Zip Code ┆ State ┆ Employment ┆ title_edit ┆ title_cont ┆ title_leng │\n",
       "│ Requested   ┆ ome Ratio   ┆ ---      ┆ ---   ┆ Length     ┆ ed         ┆ ains_numbe ┆ th         │\n",
       "│ ---         ┆ ---         ┆ cat      ┆ cat   ┆ ---        ┆ ---        ┆ rs         ┆ ---        │\n",
       "│ f64         ┆ f64         ┆          ┆       ┆ cat        ┆ cat        ┆ ---        ┆ u32        │\n",
       "│             ┆             ┆          ┆       ┆            ┆            ┆ u32        ┆            │\n",
       "╞═════════════╪═════════════╪══════════╪═══════╪════════════╪════════════╪════════════╪════════════╡\n",
       "│ 33000.0     ┆ 23.219999   ┆ 112xx    ┆ NY    ┆ < 1 year   ┆ debt_conso ┆ 0          ┆ 18         │\n",
       "│             ┆             ┆          ┆       ┆            ┆ lidation   ┆            ┆            │\n",
       "│ 5000.0      ┆ 0.0         ┆ null     ┆ CA    ┆ < 1 year   ┆ moving     ┆ 0          ┆ 21         │\n",
       "│ 6000.0      ┆ 9.34        ┆ null     ┆ DE    ┆ 5 years    ┆ major_purc ┆ 0          ┆ 14         │\n",
       "│             ┆             ┆          ┆       ┆            ┆ hase       ┆            ┆            │\n",
       "│ 10000.0     ┆ 3.96        ┆ null     ┆ WI    ┆ < 1 year   ┆ home       ┆ 0          ┆ 11         │\n",
       "│ …           ┆ …           ┆ …        ┆ …     ┆ …          ┆ …          ┆ …          ┆ …          │\n",
       "│ 5500.0      ┆ 22.860001   ┆ 112xx    ┆ NY    ┆ < 1 year   ┆ null       ┆ 0          ┆ 5          │\n",
       "│ 35000.0     ┆ 100.0       ┆ 840xx    ┆ UT    ┆ < 1 year   ┆ car        ┆ 0          ┆ 23         │\n",
       "│ 10000.0     ┆ 75.239998   ┆ null     ┆ CA    ┆ < 1 year   ┆ debt_conso ┆ 0          ┆ 18         │\n",
       "│             ┆             ┆          ┆       ┆            ┆ lidation   ┆            ┆            │\n",
       "│ 25000.0     ┆ 21.74       ┆ null     ┆ MS    ┆ < 1 year   ┆ debt_conso ┆ 0          ┆ 18         │\n",
       "│             ┆             ┆          ┆       ┆            ┆ lidation   ┆            ┆            │\n",
       "└─────────────┴─────────────┴──────────┴───────┴────────────┴────────────┴────────────┴────────────┘"
      ]
     },
     "execution_count": 40,
     "metadata": {},
     "output_type": "execute_result"
    }
   ],
   "source": [
    "X_full_eda"
   ]
  },
  {
   "cell_type": "code",
   "execution_count": 42,
   "metadata": {},
   "outputs": [],
   "source": [
    "X_full_eda.write_parquet('X_full_eda.parquet')"
   ]
  },
  {
   "cell_type": "code",
   "execution_count": 19,
   "metadata": {},
   "outputs": [],
   "source": [
    "X_full_eda = pl.read_parquet('X_full_eda.parquet')"
   ]
  },
  {
   "cell_type": "code",
   "execution_count": 43,
   "metadata": {},
   "outputs": [],
   "source": [
    "sample= X_full_eda.with_columns(y_full_train.alias('y'))"
   ]
  },
  {
   "cell_type": "code",
   "execution_count": 44,
   "metadata": {},
   "outputs": [],
   "source": [
    "sample=sample.sample(100000,seed=1)"
   ]
  },
  {
   "cell_type": "code",
   "execution_count": 49,
   "metadata": {},
   "outputs": [],
   "source": [
    "from sklearn.preprocessing import LabelEncoder"
   ]
  },
  {
   "cell_type": "code",
   "execution_count": 52,
   "metadata": {},
   "outputs": [],
   "source": [
    "labeler=LabelEncoder()"
   ]
  },
  {
   "cell_type": "code",
   "execution_count": 55,
   "metadata": {},
   "outputs": [],
   "source": [
    "for col in categorical_columns:\n",
    "    sample=sample.with_columns(pl.Series(labeler.fit_transform(sample[col])).alias(col))"
   ]
  },
  {
   "cell_type": "code",
   "execution_count": 53,
   "metadata": {},
   "outputs": [
    {
     "data": {
      "text/plain": [
       "array([47, 74, 86, ..., 86, 86, 86])"
      ]
     },
     "execution_count": 53,
     "metadata": {},
     "output_type": "execute_result"
    }
   ],
   "source": [
    "labeler.fit_transform(sample['Zip Code'])"
   ]
  },
  {
   "cell_type": "code",
   "execution_count": 58,
   "metadata": {},
   "outputs": [],
   "source": [
    "import lightgbm as lgb\n",
    "loan_classifier=lgb.LGBMClassifier(class_weight='balanced')"
   ]
  },
  {
   "cell_type": "code",
   "execution_count": 59,
   "metadata": {},
   "outputs": [
    {
     "name": "stdout",
     "output_type": "stream",
     "text": [
      "[LightGBM] [Info] Number of positive: 7563, number of negative: 92437\n",
      "[LightGBM] [Warning] Auto-choosing row-wise multi-threading, the overhead of testing was 0.001487 seconds.\n",
      "You can set `force_row_wise=true` to remove the overhead.\n",
      "And if memory is not enough, you can set `force_col_wise=true`.\n",
      "[LightGBM] [Info] Total Bins 676\n",
      "[LightGBM] [Info] Number of data points in the train set: 100000, number of used features: 8\n",
      "[LightGBM] [Info] [binary:BoostFromScore]: pavg=0.500000 -> initscore=0.000000\n",
      "[LightGBM] [Info] Start training from score 0.000000\n"
     ]
    },
    {
     "data": {
      "text/html": [
       "<style>#sk-container-id-1 {color: black;background-color: white;}#sk-container-id-1 pre{padding: 0;}#sk-container-id-1 div.sk-toggleable {background-color: white;}#sk-container-id-1 label.sk-toggleable__label {cursor: pointer;display: block;width: 100%;margin-bottom: 0;padding: 0.3em;box-sizing: border-box;text-align: center;}#sk-container-id-1 label.sk-toggleable__label-arrow:before {content: \"▸\";float: left;margin-right: 0.25em;color: #696969;}#sk-container-id-1 label.sk-toggleable__label-arrow:hover:before {color: black;}#sk-container-id-1 div.sk-estimator:hover label.sk-toggleable__label-arrow:before {color: black;}#sk-container-id-1 div.sk-toggleable__content {max-height: 0;max-width: 0;overflow: hidden;text-align: left;background-color: #f0f8ff;}#sk-container-id-1 div.sk-toggleable__content pre {margin: 0.2em;color: black;border-radius: 0.25em;background-color: #f0f8ff;}#sk-container-id-1 input.sk-toggleable__control:checked~div.sk-toggleable__content {max-height: 200px;max-width: 100%;overflow: auto;}#sk-container-id-1 input.sk-toggleable__control:checked~label.sk-toggleable__label-arrow:before {content: \"▾\";}#sk-container-id-1 div.sk-estimator input.sk-toggleable__control:checked~label.sk-toggleable__label {background-color: #d4ebff;}#sk-container-id-1 div.sk-label input.sk-toggleable__control:checked~label.sk-toggleable__label {background-color: #d4ebff;}#sk-container-id-1 input.sk-hidden--visually {border: 0;clip: rect(1px 1px 1px 1px);clip: rect(1px, 1px, 1px, 1px);height: 1px;margin: -1px;overflow: hidden;padding: 0;position: absolute;width: 1px;}#sk-container-id-1 div.sk-estimator {font-family: monospace;background-color: #f0f8ff;border: 1px dotted black;border-radius: 0.25em;box-sizing: border-box;margin-bottom: 0.5em;}#sk-container-id-1 div.sk-estimator:hover {background-color: #d4ebff;}#sk-container-id-1 div.sk-parallel-item::after {content: \"\";width: 100%;border-bottom: 1px solid gray;flex-grow: 1;}#sk-container-id-1 div.sk-label:hover label.sk-toggleable__label {background-color: #d4ebff;}#sk-container-id-1 div.sk-serial::before {content: \"\";position: absolute;border-left: 1px solid gray;box-sizing: border-box;top: 0;bottom: 0;left: 50%;z-index: 0;}#sk-container-id-1 div.sk-serial {display: flex;flex-direction: column;align-items: center;background-color: white;padding-right: 0.2em;padding-left: 0.2em;position: relative;}#sk-container-id-1 div.sk-item {position: relative;z-index: 1;}#sk-container-id-1 div.sk-parallel {display: flex;align-items: stretch;justify-content: center;background-color: white;position: relative;}#sk-container-id-1 div.sk-item::before, #sk-container-id-1 div.sk-parallel-item::before {content: \"\";position: absolute;border-left: 1px solid gray;box-sizing: border-box;top: 0;bottom: 0;left: 50%;z-index: -1;}#sk-container-id-1 div.sk-parallel-item {display: flex;flex-direction: column;z-index: 1;position: relative;background-color: white;}#sk-container-id-1 div.sk-parallel-item:first-child::after {align-self: flex-end;width: 50%;}#sk-container-id-1 div.sk-parallel-item:last-child::after {align-self: flex-start;width: 50%;}#sk-container-id-1 div.sk-parallel-item:only-child::after {width: 0;}#sk-container-id-1 div.sk-dashed-wrapped {border: 1px dashed gray;margin: 0 0.4em 0.5em 0.4em;box-sizing: border-box;padding-bottom: 0.4em;background-color: white;}#sk-container-id-1 div.sk-label label {font-family: monospace;font-weight: bold;display: inline-block;line-height: 1.2em;}#sk-container-id-1 div.sk-label-container {text-align: center;}#sk-container-id-1 div.sk-container {/* jupyter's `normalize.less` sets `[hidden] { display: none; }` but bootstrap.min.css set `[hidden] { display: none !important; }` so we also need the `!important` here to be able to override the default hidden behavior on the sphinx rendered scikit-learn.org. See: https://github.com/scikit-learn/scikit-learn/issues/21755 */display: inline-block !important;position: relative;}#sk-container-id-1 div.sk-text-repr-fallback {display: none;}</style><div id=\"sk-container-id-1\" class=\"sk-top-container\"><div class=\"sk-text-repr-fallback\"><pre>LGBMClassifier(class_weight=&#x27;balanced&#x27;)</pre><b>In a Jupyter environment, please rerun this cell to show the HTML representation or trust the notebook. <br />On GitHub, the HTML representation is unable to render, please try loading this page with nbviewer.org.</b></div><div class=\"sk-container\" hidden><div class=\"sk-item\"><div class=\"sk-estimator sk-toggleable\"><input class=\"sk-toggleable__control sk-hidden--visually\" id=\"sk-estimator-id-1\" type=\"checkbox\" checked><label for=\"sk-estimator-id-1\" class=\"sk-toggleable__label sk-toggleable__label-arrow\">LGBMClassifier</label><div class=\"sk-toggleable__content\"><pre>LGBMClassifier(class_weight=&#x27;balanced&#x27;)</pre></div></div></div></div></div>"
      ],
      "text/plain": [
       "LGBMClassifier(class_weight='balanced')"
      ]
     },
     "execution_count": 59,
     "metadata": {},
     "output_type": "execute_result"
    }
   ],
   "source": [
    "loan_classifier.fit(sample.drop(columns=['y']),sample['y'])"
   ]
  },
  {
   "cell_type": "code",
   "execution_count": 61,
   "metadata": {},
   "outputs": [],
   "source": [
    "for col in categorical_columns:\n",
    "    X_full_eda=X_full_eda.with_columns(pl.Series(labeler.fit_transform(X_full_eda[col])).alias(col))"
   ]
  },
  {
   "cell_type": "code",
   "execution_count": 62,
   "metadata": {},
   "outputs": [],
   "source": [
    "from sklearn.metrics import classification_report"
   ]
  },
  {
   "cell_type": "code",
   "execution_count": 63,
   "metadata": {},
   "outputs": [],
   "source": [
    "preds=loan_classifier.predict(X_full_eda)"
   ]
  },
  {
   "cell_type": "code",
   "execution_count": 64,
   "metadata": {},
   "outputs": [
    {
     "name": "stdout",
     "output_type": "stream",
     "text": [
      "              precision    recall  f1-score   support\n",
      "\n",
      "           0       0.92      0.51      0.65  16589244\n",
      "           1       0.08      0.50      0.13   1356421\n",
      "\n",
      "    accuracy                           0.51  17945665\n",
      "   macro avg       0.50      0.50      0.39  17945665\n",
      "weighted avg       0.86      0.51      0.61  17945665\n",
      "\n"
     ]
    }
   ],
   "source": [
    "print(classification_report(y_full_train,preds))"
   ]
  },
  {
   "cell_type": "code",
   "execution_count": 65,
   "metadata": {},
   "outputs": [
    {
     "data": {
      "text/plain": [
       "array([648, 907, 380, 468, 198, 157,   1, 241], dtype=int32)"
      ]
     },
     "execution_count": 65,
     "metadata": {},
     "output_type": "execute_result"
    }
   ],
   "source": [
    "loan_classifier.feature_importances_"
   ]
  },
  {
   "cell_type": "code",
   "execution_count": 66,
   "metadata": {},
   "outputs": [
    {
     "data": {
      "text/plain": [
       "['Amount Requested',\n",
       " 'Debt-To-Income Ratio',\n",
       " 'Zip Code',\n",
       " 'State',\n",
       " 'Employment Length',\n",
       " 'title_edited',\n",
       " 'title_contains_numbers',\n",
       " 'title_length',\n",
       " 'y']"
      ]
     },
     "execution_count": 66,
     "metadata": {},
     "output_type": "execute_result"
    }
   ],
   "source": [
    "sample.columns"
   ]
  },
  {
   "cell_type": "code",
   "execution_count": 45,
   "metadata": {},
   "outputs": [],
   "source": [
    "full_data_set_lgb = lgb.Dataset(\n",
    "    sample.drop(columns=[\"y\"]).to_numpy(),\n",
    "    label=sample[\"y\"].to_numpy(),\n",
    "    categorical_feature=categorical_column_idx,\n",
    ")"
   ]
  },
  {
   "cell_type": "code",
   "execution_count": 47,
   "metadata": {},
   "outputs": [
    {
     "ename": "ValueError",
     "evalue": "could not convert string to float: '750xx'",
     "output_type": "error",
     "traceback": [
      "\u001b[0;31m---------------------------------------------------------------------------\u001b[0m",
      "\u001b[0;31mValueError\u001b[0m                                Traceback (most recent call last)",
      "\u001b[1;32m/home/gediminas/Documents/turing_projects/module3_s3/gskvar-ML.3/analysis.ipynb Cell 58\u001b[0m line \u001b[0;36m1\n\u001b[0;32m----> <a href='vscode-notebook-cell:/home/gediminas/Documents/turing_projects/module3_s3/gskvar-ML.3/analysis.ipynb#Y104sZmlsZQ%3D%3D?line=0'>1</a>\u001b[0m lgb_model\u001b[39m=\u001b[39mlgb\u001b[39m.\u001b[39;49mtrain({\u001b[39m'\u001b[39;49m\u001b[39mobjective\u001b[39;49m\u001b[39m'\u001b[39;49m:\u001b[39m'\u001b[39;49m\u001b[39mbinary\u001b[39;49m\u001b[39m'\u001b[39;49m,\u001b[39m'\u001b[39;49m\u001b[39mclass_weights\u001b[39;49m\u001b[39m'\u001b[39;49m:\u001b[39m'\u001b[39;49m\u001b[39mbalanced\u001b[39;49m\u001b[39m'\u001b[39;49m},full_data_set_lgb)\n",
      "File \u001b[0;32m~/anaconda3/lib/python3.9/site-packages/lightgbm/engine.py:245\u001b[0m, in \u001b[0;36mtrain\u001b[0;34m(params, train_set, num_boost_round, valid_sets, valid_names, feval, init_model, feature_name, categorical_feature, keep_training_booster, callbacks)\u001b[0m\n\u001b[1;32m    243\u001b[0m \u001b[39m# construct booster\u001b[39;00m\n\u001b[1;32m    244\u001b[0m \u001b[39mtry\u001b[39;00m:\n\u001b[0;32m--> 245\u001b[0m     booster \u001b[39m=\u001b[39m Booster(params\u001b[39m=\u001b[39;49mparams, train_set\u001b[39m=\u001b[39;49mtrain_set)\n\u001b[1;32m    246\u001b[0m     \u001b[39mif\u001b[39;00m is_valid_contain_train:\n\u001b[1;32m    247\u001b[0m         booster\u001b[39m.\u001b[39mset_train_data_name(train_data_name)\n",
      "File \u001b[0;32m~/anaconda3/lib/python3.9/site-packages/lightgbm/basic.py:3096\u001b[0m, in \u001b[0;36mBooster.__init__\u001b[0;34m(self, params, train_set, model_file, model_str)\u001b[0m\n\u001b[1;32m   3089\u001b[0m     \u001b[39mself\u001b[39m\u001b[39m.\u001b[39mset_network(\n\u001b[1;32m   3090\u001b[0m         machines\u001b[39m=\u001b[39mmachines,\n\u001b[1;32m   3091\u001b[0m         local_listen_port\u001b[39m=\u001b[39mparams[\u001b[39m\"\u001b[39m\u001b[39mlocal_listen_port\u001b[39m\u001b[39m\"\u001b[39m],\n\u001b[1;32m   3092\u001b[0m         listen_time_out\u001b[39m=\u001b[39mparams\u001b[39m.\u001b[39mget(\u001b[39m\"\u001b[39m\u001b[39mtime_out\u001b[39m\u001b[39m\"\u001b[39m, \u001b[39m120\u001b[39m),\n\u001b[1;32m   3093\u001b[0m         num_machines\u001b[39m=\u001b[39mparams[\u001b[39m\"\u001b[39m\u001b[39mnum_machines\u001b[39m\u001b[39m\"\u001b[39m]\n\u001b[1;32m   3094\u001b[0m     )\n\u001b[1;32m   3095\u001b[0m \u001b[39m# construct booster object\u001b[39;00m\n\u001b[0;32m-> 3096\u001b[0m train_set\u001b[39m.\u001b[39;49mconstruct()\n\u001b[1;32m   3097\u001b[0m \u001b[39m# copy the parameters from train_set\u001b[39;00m\n\u001b[1;32m   3098\u001b[0m params\u001b[39m.\u001b[39mupdate(train_set\u001b[39m.\u001b[39mget_params())\n",
      "File \u001b[0;32m~/anaconda3/lib/python3.9/site-packages/lightgbm/basic.py:2210\u001b[0m, in \u001b[0;36mDataset.construct\u001b[0;34m(self)\u001b[0m\n\u001b[1;32m   2203\u001b[0m             \u001b[39mself\u001b[39m\u001b[39m.\u001b[39m_set_init_score_by_predictor(\n\u001b[1;32m   2204\u001b[0m                 predictor\u001b[39m=\u001b[39m\u001b[39mself\u001b[39m\u001b[39m.\u001b[39m_predictor,\n\u001b[1;32m   2205\u001b[0m                 data\u001b[39m=\u001b[39m\u001b[39mself\u001b[39m\u001b[39m.\u001b[39mdata,\n\u001b[1;32m   2206\u001b[0m                 used_indices\u001b[39m=\u001b[39mused_indices\n\u001b[1;32m   2207\u001b[0m             )\n\u001b[1;32m   2208\u001b[0m \u001b[39melse\u001b[39;00m:\n\u001b[1;32m   2209\u001b[0m     \u001b[39m# create train\u001b[39;00m\n\u001b[0;32m-> 2210\u001b[0m     \u001b[39mself\u001b[39;49m\u001b[39m.\u001b[39;49m_lazy_init(data\u001b[39m=\u001b[39;49m\u001b[39mself\u001b[39;49m\u001b[39m.\u001b[39;49mdata, label\u001b[39m=\u001b[39;49m\u001b[39mself\u001b[39;49m\u001b[39m.\u001b[39;49mlabel, reference\u001b[39m=\u001b[39;49m\u001b[39mNone\u001b[39;49;00m,\n\u001b[1;32m   2211\u001b[0m                     weight\u001b[39m=\u001b[39;49m\u001b[39mself\u001b[39;49m\u001b[39m.\u001b[39;49mweight, group\u001b[39m=\u001b[39;49m\u001b[39mself\u001b[39;49m\u001b[39m.\u001b[39;49mgroup,\n\u001b[1;32m   2212\u001b[0m                     init_score\u001b[39m=\u001b[39;49m\u001b[39mself\u001b[39;49m\u001b[39m.\u001b[39;49minit_score, predictor\u001b[39m=\u001b[39;49m\u001b[39mself\u001b[39;49m\u001b[39m.\u001b[39;49m_predictor,\n\u001b[1;32m   2213\u001b[0m                     feature_name\u001b[39m=\u001b[39;49m\u001b[39mself\u001b[39;49m\u001b[39m.\u001b[39;49mfeature_name, categorical_feature\u001b[39m=\u001b[39;49m\u001b[39mself\u001b[39;49m\u001b[39m.\u001b[39;49mcategorical_feature, params\u001b[39m=\u001b[39;49m\u001b[39mself\u001b[39;49m\u001b[39m.\u001b[39;49mparams)\n\u001b[1;32m   2214\u001b[0m \u001b[39mif\u001b[39;00m \u001b[39mself\u001b[39m\u001b[39m.\u001b[39mfree_raw_data:\n\u001b[1;32m   2215\u001b[0m     \u001b[39mself\u001b[39m\u001b[39m.\u001b[39mdata \u001b[39m=\u001b[39m \u001b[39mNone\u001b[39;00m\n",
      "File \u001b[0;32m~/anaconda3/lib/python3.9/site-packages/lightgbm/basic.py:1856\u001b[0m, in \u001b[0;36mDataset._lazy_init\u001b[0;34m(self, data, label, reference, weight, group, init_score, predictor, feature_name, categorical_feature, params)\u001b[0m\n\u001b[1;32m   1854\u001b[0m     \u001b[39mself\u001b[39m\u001b[39m.\u001b[39m__init_from_csc(data, params_str, ref_dataset)\n\u001b[1;32m   1855\u001b[0m \u001b[39melif\u001b[39;00m \u001b[39misinstance\u001b[39m(data, np\u001b[39m.\u001b[39mndarray):\n\u001b[0;32m-> 1856\u001b[0m     \u001b[39mself\u001b[39;49m\u001b[39m.\u001b[39;49m__init_from_np2d(data, params_str, ref_dataset)\n\u001b[1;32m   1857\u001b[0m \u001b[39melif\u001b[39;00m \u001b[39misinstance\u001b[39m(data, \u001b[39mlist\u001b[39m) \u001b[39mand\u001b[39;00m \u001b[39mlen\u001b[39m(data) \u001b[39m>\u001b[39m \u001b[39m0\u001b[39m:\n\u001b[1;32m   1858\u001b[0m     \u001b[39mif\u001b[39;00m \u001b[39mall\u001b[39m(\u001b[39misinstance\u001b[39m(x, np\u001b[39m.\u001b[39mndarray) \u001b[39mfor\u001b[39;00m x \u001b[39min\u001b[39;00m data):\n",
      "File \u001b[0;32m~/anaconda3/lib/python3.9/site-packages/lightgbm/basic.py:1987\u001b[0m, in \u001b[0;36mDataset.__init_from_np2d\u001b[0;34m(self, mat, params_str, ref_dataset)\u001b[0m\n\u001b[1;32m   1985\u001b[0m     data \u001b[39m=\u001b[39m np\u001b[39m.\u001b[39marray(mat\u001b[39m.\u001b[39mreshape(mat\u001b[39m.\u001b[39msize), dtype\u001b[39m=\u001b[39mmat\u001b[39m.\u001b[39mdtype, copy\u001b[39m=\u001b[39m\u001b[39mFalse\u001b[39;00m)\n\u001b[1;32m   1986\u001b[0m \u001b[39melse\u001b[39;00m:  \u001b[39m# change non-float data to float data, need to copy\u001b[39;00m\n\u001b[0;32m-> 1987\u001b[0m     data \u001b[39m=\u001b[39m np\u001b[39m.\u001b[39;49marray(mat\u001b[39m.\u001b[39;49mreshape(mat\u001b[39m.\u001b[39;49msize), dtype\u001b[39m=\u001b[39;49mnp\u001b[39m.\u001b[39;49mfloat32)\n\u001b[1;32m   1989\u001b[0m ptr_data, type_ptr_data, _ \u001b[39m=\u001b[39m _c_float_array(data)\n\u001b[1;32m   1990\u001b[0m _safe_call(_LIB\u001b[39m.\u001b[39mLGBM_DatasetCreateFromMat(\n\u001b[1;32m   1991\u001b[0m     ptr_data,\n\u001b[1;32m   1992\u001b[0m     ctypes\u001b[39m.\u001b[39mc_int(type_ptr_data),\n\u001b[0;32m   (...)\u001b[0m\n\u001b[1;32m   1997\u001b[0m     ref_dataset,\n\u001b[1;32m   1998\u001b[0m     ctypes\u001b[39m.\u001b[39mbyref(\u001b[39mself\u001b[39m\u001b[39m.\u001b[39m_handle)))\n",
      "\u001b[0;31mValueError\u001b[0m: could not convert string to float: '750xx'"
     ]
    }
   ],
   "source": [
    "lgb_model = lgb.train(\n",
    "    {\"objective\": \"binary\", \"class_weights\": \"balanced\"}, full_data_set_lgb\n",
    ")"
   ]
  }
 ],
 "metadata": {
  "kernelspec": {
   "display_name": "base",
   "language": "python",
   "name": "python3"
  },
  "language_info": {
   "codemirror_mode": {
    "name": "ipython",
    "version": 3
   },
   "file_extension": ".py",
   "mimetype": "text/x-python",
   "name": "python",
   "nbconvert_exporter": "python",
   "pygments_lexer": "ipython3",
   "version": "3.9.13"
  },
  "orig_nbformat": 4
 },
 "nbformat": 4,
 "nbformat_minor": 2
}
