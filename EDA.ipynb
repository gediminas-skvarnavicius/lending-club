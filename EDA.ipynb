{
 "cells": [
  {
   "cell_type": "markdown",
   "metadata": {},
   "source": [
    "# Lending Club Exploratory Data Analysis for Acceptance, Grade and Interest Rate Prediction"
   ]
  },
  {
   "cell_type": "markdown",
   "metadata": {},
   "source": [
    "**Table of contents**<a id='toc0_'></a>    \n",
    "- [Preparation](#toc1_)    \n",
    "    - [Imports and Settings](#toc1_1_1_)    \n",
    "  - [Data Integrity Overview](#toc1_2_)    \n",
    "- [Model 1: Accepted vs. Rejected Loan Classifier](#toc2_)    \n",
    "  - [Data Preparation for Modeling](#toc2_1_)    \n",
    "    - [Joint vs Single applicant DTI in the accepted table](#toc2_1_1_)    \n",
    "  - [Joining the accepted vs rejected tables](#toc2_2_)    \n",
    "  - [Splitting and exporting the data](#toc2_3_)    \n",
    "- [Accepted vs. Rejected Feature Analysis.](#toc3_)    \n",
    "  - [Overview](#toc3_1_)    \n",
    "    - [Number of applications each year:](#toc3_1_1_)    \n",
    "  - [Numeric Feature Analysis](#toc3_2_)    \n",
    "    - [Visual Overview:](#toc3_2_1_)    \n",
    "    - [Statistical Inference on the Relation with the Target](#toc3_2_2_)    \n",
    "  - [Categorical Feature Analysis](#toc3_3_)    \n",
    "    - [Visual Overview](#toc3_3_1_)    \n",
    "    - [Statistical Inference on The Relation with Target](#toc3_3_2_)    \n",
    "- [Accepted Loan Grade and Interest Rate Prediction](#toc4_)    \n",
    "    - [Data Overview](#toc4_1_1_)    \n",
    "    - [Checking the amount of missing values in each column:](#toc4_1_2_)    \n",
    "    - [Splitting the data](#toc4_1_3_)    \n",
    "  - [Preparation for analysis](#toc4_2_)    \n",
    "  - [Target Overview](#toc4_3_)    \n",
    "  - [Numeric Feature Analysis](#toc4_4_)    \n",
    "    - [Visual Overview](#toc4_4_1_)    \n",
    "    - [Statistical Inference](#toc4_4_2_)    \n",
    "    - [Correlating Feature Analysis](#toc4_4_3_)    \n",
    "  - [Categorical Feature Analysis](#toc4_5_)    \n",
    "    - [Visual Overview](#toc4_5_1_)    \n",
    "    - [Statistical Inference](#toc4_5_2_)    \n",
    "\n",
    "<!-- vscode-jupyter-toc-config\n",
    "\tnumbering=false\n",
    "\tanchor=true\n",
    "\tflat=false\n",
    "\tminLevel=2\n",
    "\tmaxLevel=4\n",
    "\t/vscode-jupyter-toc-config -->\n",
    "<!-- THIS CELL WILL BE REPLACED ON TOC UPDATE. DO NOT WRITE YOUR TEXT IN THIS CELL -->"
   ]
  },
  {
   "cell_type": "markdown",
   "metadata": {},
   "source": [
    "## <a id='toc1_'></a>[Preparation](#toc0_)"
   ]
  },
  {
   "cell_type": "markdown",
   "metadata": {},
   "source": [
    "#### <a id='toc1_1_1_'></a>[Imports and Settings](#toc0_)"
   ]
  },
  {
   "cell_type": "markdown",
   "metadata": {},
   "source": [
    "##### Imports"
   ]
  },
  {
   "cell_type": "code",
   "execution_count": 1,
   "metadata": {},
   "outputs": [],
   "source": [
    "%reload_ext autoreload\n",
    "%autoreload 1\n",
    "from datetime import datetime\n",
    "import matplotlib.pyplot as plt\n",
    "import polars as pl\n",
    "import pandas as pd\n",
    "import sys\n",
    "import numpy as np\n",
    "from sklearn.model_selection import train_test_split\n",
    "import functions.transformers as tr\n",
    "import functions.data_cleaning as dmf\n",
    "import functions.plot_functions as pf\n",
    "import functions.statistics as st\n",
    "import functions.feature_engineering as feats\n",
    "import seaborn as sns\n",
    "from sklearn.compose import ColumnTransformer\n",
    "from sklearn.pipeline import Pipeline\n",
    "from sklearn.metrics import classification_report\n",
    "from sklearn.preprocessing import LabelEncoder\n",
    "from sklearn.preprocessing import OneHotEncoder\n",
    "import lightgbm as lgb\n",
    "from IPython.display import  Markdown, display\n",
    "from scipy import stats\n",
    "from matplotlib import ticker\n",
    "%aimport functions.transformers\n",
    "%aimport functions.data_cleaning\n",
    "%aimport functions.plot_functions\n",
    "%aimport functions.statistics\n",
    "%aimport functions.feature_engineering"
   ]
  },
  {
   "cell_type": "markdown",
   "metadata": {},
   "source": [
    "##### Settings"
   ]
  },
  {
   "cell_type": "code",
   "execution_count": 2,
   "metadata": {},
   "outputs": [],
   "source": [
    "ALPHA = 0.05\n",
    "BASE_FIG_SIZE = (8.5, 4.5)\n",
    "sns.set()\n"
   ]
  },
  {
   "cell_type": "markdown",
   "metadata": {},
   "source": [
    "##### Loading the data"
   ]
  },
  {
   "cell_type": "code",
   "execution_count": 3,
   "metadata": {},
   "outputs": [],
   "source": [
    "data_accepted = pl.read_csv(\"data/accepted_2007_to_2018Q4.csv\", dtypes={\"id\": str})\n",
    "data_rejected = pl.read_csv(\"data/rejected_2007_to_2018Q4.csv\")\n"
   ]
  },
  {
   "cell_type": "markdown",
   "metadata": {},
   "source": [
    "The data is given in two tables one for accepted application and one for rejected applications."
   ]
  },
  {
   "cell_type": "markdown",
   "metadata": {},
   "source": [
    "### <a id='toc1_2_'></a>[Data Integrity Overview](#toc0_)"
   ]
  },
  {
   "cell_type": "markdown",
   "metadata": {},
   "source": [
    "##### Are there any duplicated id's?"
   ]
  },
  {
   "cell_type": "code",
   "execution_count": 4,
   "metadata": {},
   "outputs": [
    {
     "data": {
      "text/plain": [
       "False"
      ]
     },
     "execution_count": 4,
     "metadata": {},
     "output_type": "execute_result"
    }
   ],
   "source": [
    "data_accepted[\"id\"].is_duplicated().any()\n"
   ]
  },
  {
   "cell_type": "markdown",
   "metadata": {},
   "source": [
    "##### Shape of the given tables:"
   ]
  },
  {
   "cell_type": "code",
   "execution_count": 5,
   "metadata": {},
   "outputs": [
    {
     "data": {
      "text/plain": [
       "(27648741, 9)"
      ]
     },
     "execution_count": 5,
     "metadata": {},
     "output_type": "execute_result"
    }
   ],
   "source": [
    "data_rejected.shape"
   ]
  },
  {
   "cell_type": "code",
   "execution_count": 6,
   "metadata": {},
   "outputs": [
    {
     "data": {
      "text/plain": [
       "(2260701, 151)"
      ]
     },
     "execution_count": 6,
     "metadata": {},
     "output_type": "execute_result"
    }
   ],
   "source": [
    "data_accepted.shape"
   ]
  },
  {
   "cell_type": "markdown",
   "metadata": {},
   "source": [
    "We have 27.6 M rejected applications with 9 features available and 2.2 M Accepted applications with 151 features."
   ]
  },
  {
   "cell_type": "markdown",
   "metadata": {},
   "source": [
    "##### First few rows from each table:"
   ]
  },
  {
   "cell_type": "code",
   "execution_count": 7,
   "metadata": {},
   "outputs": [
    {
     "data": {
      "text/html": [
       "<div><style>\n",
       ".dataframe > thead > tr > th,\n",
       ".dataframe > tbody > tr > td {\n",
       "  text-align: right;\n",
       "  white-space: pre-wrap;\n",
       "}\n",
       "</style>\n",
       "<small>shape: (5, 9)</small><table border=\"1\" class=\"dataframe\"><thead><tr><th>Amount Requested</th><th>Application Date</th><th>Loan Title</th><th>Risk_Score</th><th>Debt-To-Income Ratio</th><th>Zip Code</th><th>State</th><th>Employment Length</th><th>Policy Code</th></tr><tr><td>f64</td><td>str</td><td>str</td><td>f64</td><td>str</td><td>str</td><td>str</td><td>str</td><td>f64</td></tr></thead><tbody><tr><td>1000.0</td><td>&quot;2007-05-26&quot;</td><td>&quot;Wedding Covere…</td><td>693.0</td><td>&quot;10%&quot;</td><td>&quot;481xx&quot;</td><td>&quot;NM&quot;</td><td>&quot;4 years&quot;</td><td>0.0</td></tr><tr><td>1000.0</td><td>&quot;2007-05-26&quot;</td><td>&quot;Consolidating …</td><td>703.0</td><td>&quot;10%&quot;</td><td>&quot;010xx&quot;</td><td>&quot;MA&quot;</td><td>&quot;&lt; 1 year&quot;</td><td>0.0</td></tr><tr><td>11000.0</td><td>&quot;2007-05-27&quot;</td><td>&quot;Want to consol…</td><td>715.0</td><td>&quot;10%&quot;</td><td>&quot;212xx&quot;</td><td>&quot;MD&quot;</td><td>&quot;1 year&quot;</td><td>0.0</td></tr><tr><td>6000.0</td><td>&quot;2007-05-27&quot;</td><td>&quot;waksman&quot;</td><td>698.0</td><td>&quot;38.64%&quot;</td><td>&quot;017xx&quot;</td><td>&quot;MA&quot;</td><td>&quot;&lt; 1 year&quot;</td><td>0.0</td></tr><tr><td>1500.0</td><td>&quot;2007-05-27&quot;</td><td>&quot;mdrigo&quot;</td><td>509.0</td><td>&quot;9.43%&quot;</td><td>&quot;209xx&quot;</td><td>&quot;MD&quot;</td><td>&quot;&lt; 1 year&quot;</td><td>0.0</td></tr></tbody></table></div>"
      ],
      "text/plain": [
       "shape: (5, 9)\n",
       "┌─────────────┬─────────────┬────────────┬────────────┬───┬──────────┬───────┬────────────┬────────┐\n",
       "│ Amount      ┆ Application ┆ Loan Title ┆ Risk_Score ┆ … ┆ Zip Code ┆ State ┆ Employment ┆ Policy │\n",
       "│ Requested   ┆ Date        ┆ ---        ┆ ---        ┆   ┆ ---      ┆ ---   ┆ Length     ┆ Code   │\n",
       "│ ---         ┆ ---         ┆ str        ┆ f64        ┆   ┆ str      ┆ str   ┆ ---        ┆ ---    │\n",
       "│ f64         ┆ str         ┆            ┆            ┆   ┆          ┆       ┆ str        ┆ f64    │\n",
       "╞═════════════╪═════════════╪════════════╪════════════╪═══╪══════════╪═══════╪════════════╪════════╡\n",
       "│ 1000.0      ┆ 2007-05-26  ┆ Wedding    ┆ 693.0      ┆ … ┆ 481xx    ┆ NM    ┆ 4 years    ┆ 0.0    │\n",
       "│             ┆             ┆ Covered    ┆            ┆   ┆          ┆       ┆            ┆        │\n",
       "│             ┆             ┆ but No     ┆            ┆   ┆          ┆       ┆            ┆        │\n",
       "│             ┆             ┆ Honeymoon  ┆            ┆   ┆          ┆       ┆            ┆        │\n",
       "│ 1000.0      ┆ 2007-05-26  ┆ Consolidat ┆ 703.0      ┆ … ┆ 010xx    ┆ MA    ┆ < 1 year   ┆ 0.0    │\n",
       "│             ┆             ┆ ing Debt   ┆            ┆   ┆          ┆       ┆            ┆        │\n",
       "│ 11000.0     ┆ 2007-05-27  ┆ Want to    ┆ 715.0      ┆ … ┆ 212xx    ┆ MD    ┆ 1 year     ┆ 0.0    │\n",
       "│             ┆             ┆ consolidat ┆            ┆   ┆          ┆       ┆            ┆        │\n",
       "│             ┆             ┆ e my debt  ┆            ┆   ┆          ┆       ┆            ┆        │\n",
       "│ 6000.0      ┆ 2007-05-27  ┆ waksman    ┆ 698.0      ┆ … ┆ 017xx    ┆ MA    ┆ < 1 year   ┆ 0.0    │\n",
       "│ 1500.0      ┆ 2007-05-27  ┆ mdrigo     ┆ 509.0      ┆ … ┆ 209xx    ┆ MD    ┆ < 1 year   ┆ 0.0    │\n",
       "└─────────────┴─────────────┴────────────┴────────────┴───┴──────────┴───────┴────────────┴────────┘"
      ]
     },
     "execution_count": 7,
     "metadata": {},
     "output_type": "execute_result"
    }
   ],
   "source": [
    "data_rejected.head()"
   ]
  },
  {
   "cell_type": "code",
   "execution_count": 8,
   "metadata": {},
   "outputs": [
    {
     "data": {
      "text/html": [
       "<div><style>\n",
       ".dataframe > thead > tr > th,\n",
       ".dataframe > tbody > tr > td {\n",
       "  text-align: right;\n",
       "  white-space: pre-wrap;\n",
       "}\n",
       "</style>\n",
       "<small>shape: (5, 151)</small><table border=\"1\" class=\"dataframe\"><thead><tr><th>id</th><th>member_id</th><th>loan_amnt</th><th>funded_amnt</th><th>funded_amnt_inv</th><th>term</th><th>int_rate</th><th>installment</th><th>grade</th><th>sub_grade</th><th>emp_title</th><th>emp_length</th><th>home_ownership</th><th>annual_inc</th><th>verification_status</th><th>issue_d</th><th>loan_status</th><th>pymnt_plan</th><th>url</th><th>desc</th><th>purpose</th><th>title</th><th>zip_code</th><th>addr_state</th><th>dti</th><th>delinq_2yrs</th><th>earliest_cr_line</th><th>fico_range_low</th><th>fico_range_high</th><th>inq_last_6mths</th><th>mths_since_last_delinq</th><th>mths_since_last_record</th><th>open_acc</th><th>pub_rec</th><th>revol_bal</th><th>revol_util</th><th>total_acc</th><th>&hellip;</th><th>total_il_high_credit_limit</th><th>revol_bal_joint</th><th>sec_app_fico_range_low</th><th>sec_app_fico_range_high</th><th>sec_app_earliest_cr_line</th><th>sec_app_inq_last_6mths</th><th>sec_app_mort_acc</th><th>sec_app_open_acc</th><th>sec_app_revol_util</th><th>sec_app_open_act_il</th><th>sec_app_num_rev_accts</th><th>sec_app_chargeoff_within_12_mths</th><th>sec_app_collections_12_mths_ex_med</th><th>sec_app_mths_since_last_major_derog</th><th>hardship_flag</th><th>hardship_type</th><th>hardship_reason</th><th>hardship_status</th><th>deferral_term</th><th>hardship_amount</th><th>hardship_start_date</th><th>hardship_end_date</th><th>payment_plan_start_date</th><th>hardship_length</th><th>hardship_dpd</th><th>hardship_loan_status</th><th>orig_projected_additional_accrued_interest</th><th>hardship_payoff_balance_amount</th><th>hardship_last_payment_amount</th><th>disbursement_method</th><th>debt_settlement_flag</th><th>debt_settlement_flag_date</th><th>settlement_status</th><th>settlement_date</th><th>settlement_amount</th><th>settlement_percentage</th><th>settlement_term</th></tr><tr><td>str</td><td>str</td><td>f64</td><td>f64</td><td>f64</td><td>str</td><td>f64</td><td>f64</td><td>str</td><td>str</td><td>str</td><td>str</td><td>str</td><td>f64</td><td>str</td><td>str</td><td>str</td><td>str</td><td>str</td><td>str</td><td>str</td><td>str</td><td>str</td><td>str</td><td>f64</td><td>f64</td><td>str</td><td>f64</td><td>f64</td><td>f64</td><td>f64</td><td>f64</td><td>f64</td><td>f64</td><td>f64</td><td>f64</td><td>f64</td><td>&hellip;</td><td>f64</td><td>str</td><td>str</td><td>str</td><td>str</td><td>str</td><td>str</td><td>str</td><td>str</td><td>str</td><td>str</td><td>str</td><td>str</td><td>str</td><td>str</td><td>str</td><td>str</td><td>str</td><td>str</td><td>str</td><td>str</td><td>str</td><td>str</td><td>str</td><td>str</td><td>str</td><td>str</td><td>str</td><td>str</td><td>str</td><td>str</td><td>str</td><td>str</td><td>str</td><td>f64</td><td>f64</td><td>f64</td></tr></thead><tbody><tr><td>&quot;68407277&quot;</td><td>null</td><td>3600.0</td><td>3600.0</td><td>3600.0</td><td>&quot; 36 months&quot;</td><td>13.99</td><td>123.03</td><td>&quot;C&quot;</td><td>&quot;C4&quot;</td><td>&quot;leadman&quot;</td><td>&quot;10+ years&quot;</td><td>&quot;MORTGAGE&quot;</td><td>55000.0</td><td>&quot;Not Verified&quot;</td><td>&quot;Dec-2015&quot;</td><td>&quot;Fully Paid&quot;</td><td>&quot;n&quot;</td><td>&quot;https://lendin…</td><td>null</td><td>&quot;debt_consolida…</td><td>&quot;Debt consolida…</td><td>&quot;190xx&quot;</td><td>&quot;PA&quot;</td><td>5.91</td><td>0.0</td><td>&quot;Aug-2003&quot;</td><td>675.0</td><td>679.0</td><td>1.0</td><td>30.0</td><td>null</td><td>7.0</td><td>0.0</td><td>2765.0</td><td>29.7</td><td>13.0</td><td>&hellip;</td><td>13734.0</td><td>null</td><td>null</td><td>null</td><td>null</td><td>null</td><td>null</td><td>null</td><td>null</td><td>null</td><td>null</td><td>null</td><td>null</td><td>null</td><td>&quot;N&quot;</td><td>null</td><td>null</td><td>null</td><td>null</td><td>null</td><td>null</td><td>null</td><td>null</td><td>null</td><td>null</td><td>null</td><td>null</td><td>null</td><td>null</td><td>&quot;Cash&quot;</td><td>&quot;N&quot;</td><td>null</td><td>null</td><td>null</td><td>null</td><td>null</td><td>null</td></tr><tr><td>&quot;68355089&quot;</td><td>null</td><td>24700.0</td><td>24700.0</td><td>24700.0</td><td>&quot; 36 months&quot;</td><td>11.99</td><td>820.28</td><td>&quot;C&quot;</td><td>&quot;C1&quot;</td><td>&quot;Engineer&quot;</td><td>&quot;10+ years&quot;</td><td>&quot;MORTGAGE&quot;</td><td>65000.0</td><td>&quot;Not Verified&quot;</td><td>&quot;Dec-2015&quot;</td><td>&quot;Fully Paid&quot;</td><td>&quot;n&quot;</td><td>&quot;https://lendin…</td><td>null</td><td>&quot;small_business…</td><td>&quot;Business&quot;</td><td>&quot;577xx&quot;</td><td>&quot;SD&quot;</td><td>16.06</td><td>1.0</td><td>&quot;Dec-1999&quot;</td><td>715.0</td><td>719.0</td><td>4.0</td><td>6.0</td><td>null</td><td>22.0</td><td>0.0</td><td>21470.0</td><td>19.2</td><td>38.0</td><td>&hellip;</td><td>24667.0</td><td>null</td><td>null</td><td>null</td><td>null</td><td>null</td><td>null</td><td>null</td><td>null</td><td>null</td><td>null</td><td>null</td><td>null</td><td>null</td><td>&quot;N&quot;</td><td>null</td><td>null</td><td>null</td><td>null</td><td>null</td><td>null</td><td>null</td><td>null</td><td>null</td><td>null</td><td>null</td><td>null</td><td>null</td><td>null</td><td>&quot;Cash&quot;</td><td>&quot;N&quot;</td><td>null</td><td>null</td><td>null</td><td>null</td><td>null</td><td>null</td></tr><tr><td>&quot;68341763&quot;</td><td>null</td><td>20000.0</td><td>20000.0</td><td>20000.0</td><td>&quot; 60 months&quot;</td><td>10.78</td><td>432.66</td><td>&quot;B&quot;</td><td>&quot;B4&quot;</td><td>&quot;truck driver&quot;</td><td>&quot;10+ years&quot;</td><td>&quot;MORTGAGE&quot;</td><td>63000.0</td><td>&quot;Not Verified&quot;</td><td>&quot;Dec-2015&quot;</td><td>&quot;Fully Paid&quot;</td><td>&quot;n&quot;</td><td>&quot;https://lendin…</td><td>null</td><td>&quot;home_improveme…</td><td>null</td><td>&quot;605xx&quot;</td><td>&quot;IL&quot;</td><td>10.78</td><td>0.0</td><td>&quot;Aug-2000&quot;</td><td>695.0</td><td>699.0</td><td>0.0</td><td>null</td><td>null</td><td>6.0</td><td>0.0</td><td>7869.0</td><td>56.2</td><td>18.0</td><td>&hellip;</td><td>14877.0</td><td>null</td><td>null</td><td>null</td><td>null</td><td>null</td><td>null</td><td>null</td><td>null</td><td>null</td><td>null</td><td>null</td><td>null</td><td>null</td><td>&quot;N&quot;</td><td>null</td><td>null</td><td>null</td><td>null</td><td>null</td><td>null</td><td>null</td><td>null</td><td>null</td><td>null</td><td>null</td><td>null</td><td>null</td><td>null</td><td>&quot;Cash&quot;</td><td>&quot;N&quot;</td><td>null</td><td>null</td><td>null</td><td>null</td><td>null</td><td>null</td></tr><tr><td>&quot;66310712&quot;</td><td>null</td><td>35000.0</td><td>35000.0</td><td>35000.0</td><td>&quot; 60 months&quot;</td><td>14.85</td><td>829.9</td><td>&quot;C&quot;</td><td>&quot;C5&quot;</td><td>&quot;Information Sy…</td><td>&quot;10+ years&quot;</td><td>&quot;MORTGAGE&quot;</td><td>110000.0</td><td>&quot;Source Verifie…</td><td>&quot;Dec-2015&quot;</td><td>&quot;Current&quot;</td><td>&quot;n&quot;</td><td>&quot;https://lendin…</td><td>null</td><td>&quot;debt_consolida…</td><td>&quot;Debt consolida…</td><td>&quot;076xx&quot;</td><td>&quot;NJ&quot;</td><td>17.06</td><td>0.0</td><td>&quot;Sep-2008&quot;</td><td>785.0</td><td>789.0</td><td>0.0</td><td>null</td><td>null</td><td>13.0</td><td>0.0</td><td>7802.0</td><td>11.6</td><td>17.0</td><td>&hellip;</td><td>18000.0</td><td>null</td><td>null</td><td>null</td><td>null</td><td>null</td><td>null</td><td>null</td><td>null</td><td>null</td><td>null</td><td>null</td><td>null</td><td>null</td><td>&quot;N&quot;</td><td>null</td><td>null</td><td>null</td><td>null</td><td>null</td><td>null</td><td>null</td><td>null</td><td>null</td><td>null</td><td>null</td><td>null</td><td>null</td><td>null</td><td>&quot;Cash&quot;</td><td>&quot;N&quot;</td><td>null</td><td>null</td><td>null</td><td>null</td><td>null</td><td>null</td></tr><tr><td>&quot;68476807&quot;</td><td>null</td><td>10400.0</td><td>10400.0</td><td>10400.0</td><td>&quot; 60 months&quot;</td><td>22.45</td><td>289.91</td><td>&quot;F&quot;</td><td>&quot;F1&quot;</td><td>&quot;Contract Speci…</td><td>&quot;3 years&quot;</td><td>&quot;MORTGAGE&quot;</td><td>104433.0</td><td>&quot;Source Verifie…</td><td>&quot;Dec-2015&quot;</td><td>&quot;Fully Paid&quot;</td><td>&quot;n&quot;</td><td>&quot;https://lendin…</td><td>null</td><td>&quot;major_purchase…</td><td>&quot;Major purchase…</td><td>&quot;174xx&quot;</td><td>&quot;PA&quot;</td><td>25.37</td><td>1.0</td><td>&quot;Jun-1998&quot;</td><td>695.0</td><td>699.0</td><td>3.0</td><td>12.0</td><td>null</td><td>12.0</td><td>0.0</td><td>21929.0</td><td>64.5</td><td>35.0</td><td>&hellip;</td><td>88097.0</td><td>null</td><td>null</td><td>null</td><td>null</td><td>null</td><td>null</td><td>null</td><td>null</td><td>null</td><td>null</td><td>null</td><td>null</td><td>null</td><td>&quot;N&quot;</td><td>null</td><td>null</td><td>null</td><td>null</td><td>null</td><td>null</td><td>null</td><td>null</td><td>null</td><td>null</td><td>null</td><td>null</td><td>null</td><td>null</td><td>&quot;Cash&quot;</td><td>&quot;N&quot;</td><td>null</td><td>null</td><td>null</td><td>null</td><td>null</td><td>null</td></tr></tbody></table></div>"
      ],
      "text/plain": [
       "shape: (5, 151)\n",
       "┌──────────┬───────────┬───────────┬───────────┬───┬───────────┬───────────┬───────────┬───────────┐\n",
       "│ id       ┆ member_id ┆ loan_amnt ┆ funded_am ┆ … ┆ settlemen ┆ settlemen ┆ settlemen ┆ settlemen │\n",
       "│ ---      ┆ ---       ┆ ---       ┆ nt        ┆   ┆ t_date    ┆ t_amount  ┆ t_percent ┆ t_term    │\n",
       "│ str      ┆ str       ┆ f64       ┆ ---       ┆   ┆ ---       ┆ ---       ┆ age       ┆ ---       │\n",
       "│          ┆           ┆           ┆ f64       ┆   ┆ str       ┆ f64       ┆ ---       ┆ f64       │\n",
       "│          ┆           ┆           ┆           ┆   ┆           ┆           ┆ f64       ┆           │\n",
       "╞══════════╪═══════════╪═══════════╪═══════════╪═══╪═══════════╪═══════════╪═══════════╪═══════════╡\n",
       "│ 68407277 ┆ null      ┆ 3600.0    ┆ 3600.0    ┆ … ┆ null      ┆ null      ┆ null      ┆ null      │\n",
       "│ 68355089 ┆ null      ┆ 24700.0   ┆ 24700.0   ┆ … ┆ null      ┆ null      ┆ null      ┆ null      │\n",
       "│ 68341763 ┆ null      ┆ 20000.0   ┆ 20000.0   ┆ … ┆ null      ┆ null      ┆ null      ┆ null      │\n",
       "│ 66310712 ┆ null      ┆ 35000.0   ┆ 35000.0   ┆ … ┆ null      ┆ null      ┆ null      ┆ null      │\n",
       "│ 68476807 ┆ null      ┆ 10400.0   ┆ 10400.0   ┆ … ┆ null      ┆ null      ┆ null      ┆ null      │\n",
       "└──────────┴───────────┴───────────┴───────────┴───┴───────────┴───────────┴───────────┴───────────┘"
      ]
     },
     "execution_count": 8,
     "metadata": {},
     "output_type": "execute_result"
    }
   ],
   "source": [
    "data_accepted.head()"
   ]
  },
  {
   "cell_type": "markdown",
   "metadata": {},
   "source": [
    "##### How many null values are there in each feature?"
   ]
  },
  {
   "cell_type": "code",
   "execution_count": 9,
   "metadata": {},
   "outputs": [
    {
     "data": {
      "text/html": [
       "<div><style>\n",
       ".dataframe > thead > tr > th,\n",
       ".dataframe > tbody > tr > td {\n",
       "  text-align: right;\n",
       "  white-space: pre-wrap;\n",
       "}\n",
       "</style>\n",
       "<small>shape: (1, 151)</small><table border=\"1\" class=\"dataframe\"><thead><tr><th>id</th><th>member_id</th><th>loan_amnt</th><th>funded_amnt</th><th>funded_amnt_inv</th><th>term</th><th>int_rate</th><th>installment</th><th>grade</th><th>sub_grade</th><th>emp_title</th><th>emp_length</th><th>home_ownership</th><th>annual_inc</th><th>verification_status</th><th>issue_d</th><th>loan_status</th><th>pymnt_plan</th><th>url</th><th>desc</th><th>purpose</th><th>title</th><th>zip_code</th><th>addr_state</th><th>dti</th><th>delinq_2yrs</th><th>earliest_cr_line</th><th>fico_range_low</th><th>fico_range_high</th><th>inq_last_6mths</th><th>mths_since_last_delinq</th><th>mths_since_last_record</th><th>open_acc</th><th>pub_rec</th><th>revol_bal</th><th>revol_util</th><th>total_acc</th><th>&hellip;</th><th>total_il_high_credit_limit</th><th>revol_bal_joint</th><th>sec_app_fico_range_low</th><th>sec_app_fico_range_high</th><th>sec_app_earliest_cr_line</th><th>sec_app_inq_last_6mths</th><th>sec_app_mort_acc</th><th>sec_app_open_acc</th><th>sec_app_revol_util</th><th>sec_app_open_act_il</th><th>sec_app_num_rev_accts</th><th>sec_app_chargeoff_within_12_mths</th><th>sec_app_collections_12_mths_ex_med</th><th>sec_app_mths_since_last_major_derog</th><th>hardship_flag</th><th>hardship_type</th><th>hardship_reason</th><th>hardship_status</th><th>deferral_term</th><th>hardship_amount</th><th>hardship_start_date</th><th>hardship_end_date</th><th>payment_plan_start_date</th><th>hardship_length</th><th>hardship_dpd</th><th>hardship_loan_status</th><th>orig_projected_additional_accrued_interest</th><th>hardship_payoff_balance_amount</th><th>hardship_last_payment_amount</th><th>disbursement_method</th><th>debt_settlement_flag</th><th>debt_settlement_flag_date</th><th>settlement_status</th><th>settlement_date</th><th>settlement_amount</th><th>settlement_percentage</th><th>settlement_term</th></tr><tr><td>u32</td><td>u32</td><td>u32</td><td>u32</td><td>u32</td><td>u32</td><td>u32</td><td>u32</td><td>u32</td><td>u32</td><td>u32</td><td>u32</td><td>u32</td><td>u32</td><td>u32</td><td>u32</td><td>u32</td><td>u32</td><td>u32</td><td>u32</td><td>u32</td><td>u32</td><td>u32</td><td>u32</td><td>u32</td><td>u32</td><td>u32</td><td>u32</td><td>u32</td><td>u32</td><td>u32</td><td>u32</td><td>u32</td><td>u32</td><td>u32</td><td>u32</td><td>u32</td><td>&hellip;</td><td>u32</td><td>u32</td><td>u32</td><td>u32</td><td>u32</td><td>u32</td><td>u32</td><td>u32</td><td>u32</td><td>u32</td><td>u32</td><td>u32</td><td>u32</td><td>u32</td><td>u32</td><td>u32</td><td>u32</td><td>u32</td><td>u32</td><td>u32</td><td>u32</td><td>u32</td><td>u32</td><td>u32</td><td>u32</td><td>u32</td><td>u32</td><td>u32</td><td>u32</td><td>u32</td><td>u32</td><td>u32</td><td>u32</td><td>u32</td><td>u32</td><td>u32</td><td>u32</td></tr></thead><tbody><tr><td>0</td><td>2260701</td><td>33</td><td>33</td><td>33</td><td>33</td><td>33</td><td>33</td><td>33</td><td>33</td><td>167002</td><td>146940</td><td>33</td><td>37</td><td>33</td><td>33</td><td>33</td><td>33</td><td>33</td><td>2134634</td><td>33</td><td>23358</td><td>34</td><td>33</td><td>1744</td><td>62</td><td>62</td><td>33</td><td>33</td><td>63</td><td>1158535</td><td>1901545</td><td>62</td><td>62</td><td>33</td><td>1835</td><td>62</td><td>&hellip;</td><td>70309</td><td>2152681</td><td>2152680</td><td>2152680</td><td>2152680</td><td>2152680</td><td>2152680</td><td>2152680</td><td>2154517</td><td>2152680</td><td>2152680</td><td>2152680</td><td>2152680</td><td>2224759</td><td>33</td><td>2249784</td><td>2249784</td><td>2249784</td><td>2249784</td><td>2249784</td><td>2249784</td><td>2249784</td><td>2249784</td><td>2249784</td><td>2249784</td><td>2249784</td><td>2252050</td><td>2249784</td><td>2249784</td><td>33</td><td>33</td><td>2226455</td><td>2226455</td><td>2226455</td><td>2226455</td><td>2226455</td><td>2226455</td></tr></tbody></table></div>"
      ],
      "text/plain": [
       "shape: (1, 151)\n",
       "┌─────┬───────────┬───────────┬────────────┬───┬────────────┬────────────┬────────────┬────────────┐\n",
       "│ id  ┆ member_id ┆ loan_amnt ┆ funded_amn ┆ … ┆ settlement ┆ settlement ┆ settlement ┆ settlement │\n",
       "│ --- ┆ ---       ┆ ---       ┆ t          ┆   ┆ _date      ┆ _amount    ┆ _percentag ┆ _term      │\n",
       "│ u32 ┆ u32       ┆ u32       ┆ ---        ┆   ┆ ---        ┆ ---        ┆ e          ┆ ---        │\n",
       "│     ┆           ┆           ┆ u32        ┆   ┆ u32        ┆ u32        ┆ ---        ┆ u32        │\n",
       "│     ┆           ┆           ┆            ┆   ┆            ┆            ┆ u32        ┆            │\n",
       "╞═════╪═══════════╪═══════════╪════════════╪═══╪════════════╪════════════╪════════════╪════════════╡\n",
       "│ 0   ┆ 2260701   ┆ 33        ┆ 33         ┆ … ┆ 2226455    ┆ 2226455    ┆ 2226455    ┆ 2226455    │\n",
       "└─────┴───────────┴───────────┴────────────┴───┴────────────┴────────────┴────────────┴────────────┘"
      ]
     },
     "execution_count": 9,
     "metadata": {},
     "output_type": "execute_result"
    }
   ],
   "source": [
    "data_accepted.null_count()"
   ]
  },
  {
   "cell_type": "markdown",
   "metadata": {},
   "source": [
    "##### 33 rows have all null values except id. Removing those:"
   ]
  },
  {
   "cell_type": "code",
   "execution_count": 10,
   "metadata": {},
   "outputs": [],
   "source": [
    "data_accepted = data_accepted.filter(data_accepted[\"loan_amnt\"].is_not_null())\n"
   ]
  },
  {
   "cell_type": "markdown",
   "metadata": {},
   "source": [
    "## <a id='toc2_'></a>[Model 1: Accepted vs. Rejected Loan Classifier](#toc0_)"
   ]
  },
  {
   "cell_type": "markdown",
   "metadata": {},
   "source": [
    "### <a id='toc2_1_'></a>[Data Preparation for Modeling](#toc0_)"
   ]
  },
  {
   "cell_type": "markdown",
   "metadata": {},
   "source": [
    "#### <a id='toc2_1_1_'></a>[Joint vs Single applicant DTI in the accepted table](#toc0_)"
   ]
  },
  {
   "cell_type": "markdown",
   "metadata": {},
   "source": [
    "There were several accepted applications with the maximum dti of 999. It turned out these were all from joint applications. The rejected table does not have joint dti, since all of these applications with the extraordinary dti were approved, my guess is that joint dti should go into the accepted vs rejected model for joint applications."
   ]
  },
  {
   "cell_type": "markdown",
   "metadata": {},
   "source": [
    "##### Maximum DTI in accepted table:"
   ]
  },
  {
   "cell_type": "code",
   "execution_count": 11,
   "metadata": {},
   "outputs": [
    {
     "data": {
      "text/plain": [
       "999.0"
      ]
     },
     "execution_count": 11,
     "metadata": {},
     "output_type": "execute_result"
    }
   ],
   "source": [
    "data_accepted[\"dti\"].max()\n"
   ]
  },
  {
   "cell_type": "markdown",
   "metadata": {},
   "source": [
    "##### Checking wether they are all from joint applications:"
   ]
  },
  {
   "cell_type": "code",
   "execution_count": 12,
   "metadata": {},
   "outputs": [
    {
     "data": {
      "text/plain": [
       "False"
      ]
     },
     "execution_count": 12,
     "metadata": {},
     "output_type": "execute_result"
    }
   ],
   "source": [
    "data_accepted.filter(data_accepted[\"dti\"] == 999)[\"dti_joint\"].is_null().any()\n"
   ]
  },
  {
   "cell_type": "markdown",
   "metadata": {},
   "source": [
    "##### Temporarily merging joint and single applicant dti for accepted vs rejected model:"
   ]
  },
  {
   "cell_type": "code",
   "execution_count": 13,
   "metadata": {},
   "outputs": [],
   "source": [
    "data_accepted_merged_dti = data_accepted.with_columns(\n",
    "    pl.when(pl.col(\"application_type\") == \"Joint App\")\n",
    "    .then(pl.col(\"dti_joint\"))\n",
    "    .otherwise(pl.col(\"dti\"))\n",
    "    .alias(\"dti\")\n",
    ")\n"
   ]
  },
  {
   "cell_type": "markdown",
   "metadata": {},
   "source": [
    "### <a id='toc2_2_'></a>[Joining the accepted vs rejected tables](#toc0_)"
   ]
  },
  {
   "cell_type": "markdown",
   "metadata": {},
   "source": [
    "##### Changing all accepted application target variables to 1 and rejected to 0:"
   ]
  },
  {
   "cell_type": "code",
   "execution_count": 14,
   "metadata": {},
   "outputs": [],
   "source": [
    "data_accepted_merged_dti = data_accepted_merged_dti.with_columns(\n",
    "    pl.lit(np.int8(1)).alias(\"policy_code\")\n",
    ")\n",
    "data_rejected = data_rejected.with_columns(pl.lit(np.int8(0)).alias(\"Policy Code\"))\n"
   ]
  },
  {
   "cell_type": "markdown",
   "metadata": {},
   "source": [
    "##### Casting the Debt-To-Income Ratio to a compatible float format:"
   ]
  },
  {
   "cell_type": "code",
   "execution_count": 15,
   "metadata": {},
   "outputs": [],
   "source": [
    "data_rejected = data_rejected.with_columns(\n",
    "    data_rejected[\"Debt-To-Income Ratio\"]\n",
    "    .map_elements(lambda x: np.float32(x.rstrip(\"%\")))\n",
    "    .alias(\"Debt-To-Income Ratio\")\n",
    ")"
   ]
  },
  {
   "cell_type": "markdown",
   "metadata": {},
   "source": [
    "##### Stacking the tables:"
   ]
  },
  {
   "cell_type": "code",
   "execution_count": 16,
   "metadata": {},
   "outputs": [],
   "source": [
    "data_full = pl.concat(\n",
    "    [\n",
    "        data_rejected.select(\n",
    "            pl.col(\"Application Date\"),\n",
    "            pl.col(\"Amount Requested\"),\n",
    "            pl.col(\"Loan Title\"),\n",
    "            pl.col(\"Debt-To-Income Ratio\"),\n",
    "            pl.col(\"Zip Code\"),\n",
    "            pl.col(\"State\"),\n",
    "            pl.col(\"Employment Length\"),\n",
    "            pl.col(\"Policy Code\"),\n",
    "        ),\n",
    "        data_accepted_merged_dti.select(\n",
    "            pl.col(\"issue_d\").alias(\"Application Date\"),\n",
    "            pl.col(\"loan_amnt\").alias(\"Amount Requested\"),\n",
    "            pl.col(\"title\").alias(\"Loan Title\"),\n",
    "            pl.col(\"dti\").alias(\"Debt-To-Income Ratio\"),\n",
    "            pl.col(\"zip_code\").alias(\"Zip Code\"),\n",
    "            pl.col(\"addr_state\").alias(\"State\"),\n",
    "            pl.col(\"emp_length\").alias(\"Employment Length\"),\n",
    "            pl.col(\"policy_code\").alias(\"Policy Code\"),\n",
    "        ),\n",
    "    ]\n",
    ")\n"
   ]
  },
  {
   "cell_type": "markdown",
   "metadata": {},
   "source": [
    "### <a id='toc2_3_'></a>[Splitting and exporting the data](#toc0_)"
   ]
  },
  {
   "cell_type": "markdown",
   "metadata": {},
   "source": [
    "Since there are abundant amounts of data and the data is gathered over several years. I've decided to use the last year as a test set and use historical data for training."
   ]
  },
  {
   "cell_type": "markdown",
   "metadata": {},
   "source": [
    "##### Changing the date format and splitting the data:"
   ]
  },
  {
   "cell_type": "code",
   "execution_count": 17,
   "metadata": {},
   "outputs": [],
   "source": [
    "data_full_train = data_full.filter(\n",
    "    dmf.str_to_date(data_full, [\"Application Date\"], [\"%Y-%m-%d\", \"%b-%Y\"])[\n",
    "        \"Application Date\"\n",
    "    ].dt.year()\n",
    "    < 2017\n",
    ")\n",
    "\n",
    "data_full_val = data_full.filter(\n",
    "    dmf.str_to_date(data_full, [\"Application Date\"], [\"%Y-%m-%d\", \"%b-%Y\"])[\n",
    "        \"Application Date\"\n",
    "    ].dt.year()\n",
    "    == 2017\n",
    ")\n",
    "\n",
    "data_full_test = data_full.filter(\n",
    "    dmf.str_to_date(data_full, [\"Application Date\"], [\"%Y-%m-%d\", \"%b-%Y\"])[\n",
    "        \"Application Date\"\n",
    "    ].dt.year()\n",
    "    == 2018\n",
    ")"
   ]
  },
  {
   "cell_type": "markdown",
   "metadata": {},
   "source": [
    "##### The number of samples in training, validation and test sets:"
   ]
  },
  {
   "cell_type": "code",
   "execution_count": 18,
   "metadata": {},
   "outputs": [
    {
     "data": {
      "text/plain": [
       "(12401233, 7516152, 9992024)"
      ]
     },
     "execution_count": 18,
     "metadata": {},
     "output_type": "execute_result"
    }
   ],
   "source": [
    "len(data_full_train), len(data_full_val), len(data_full_test)"
   ]
  },
  {
   "cell_type": "markdown",
   "metadata": {},
   "source": [
    "##### Saving the split data into parquet format:"
   ]
  },
  {
   "cell_type": "code",
   "execution_count": 19,
   "metadata": {},
   "outputs": [],
   "source": [
    "data_full_train.write_parquet(\"data/data_full_train.parquet\")\n",
    "data_full_val.write_parquet(\"data/data_full_val.parquet\")\n",
    "data_full_test.write_parquet(\"data/data_full_test.parquet\")\n"
   ]
  },
  {
   "cell_type": "markdown",
   "metadata": {},
   "source": [
    "##### Deleting temporary variables to save some RAM in the notebook file:"
   ]
  },
  {
   "cell_type": "code",
   "execution_count": 20,
   "metadata": {},
   "outputs": [],
   "source": [
    "del data_full_test, data_full_val, data_full_train, data_accepted_merged_dti\n"
   ]
  },
  {
   "cell_type": "markdown",
   "metadata": {},
   "source": [
    "## <a id='toc3_'></a>[Accepted vs. Rejected Feature Analysis.](#toc0_)"
   ]
  },
  {
   "cell_type": "markdown",
   "metadata": {},
   "source": [
    "### <a id='toc3_1_'></a>[Overview](#toc0_)"
   ]
  },
  {
   "cell_type": "markdown",
   "metadata": {},
   "source": [
    "##### What is the ratio of accepted vs. rejected applicaitons?"
   ]
  },
  {
   "cell_type": "code",
   "execution_count": 21,
   "metadata": {},
   "outputs": [
    {
     "data": {
      "text/plain": [
       "0.082"
      ]
     },
     "execution_count": 21,
     "metadata": {},
     "output_type": "execute_result"
    }
   ],
   "source": [
    "class_imbalance = (\n",
    "    data_full[\"Policy Code\"].value_counts()[\"counts\"][1]\n",
    "    / data_full[\"Policy Code\"].value_counts()[\"counts\"][0]\n",
    ")\n",
    "round(class_imbalance, 3)\n"
   ]
  },
  {
   "cell_type": "markdown",
   "metadata": {},
   "source": [
    "##### The number of missing values for each feature:"
   ]
  },
  {
   "cell_type": "code",
   "execution_count": 22,
   "metadata": {},
   "outputs": [
    {
     "data": {
      "text/html": [
       "<div><style>\n",
       ".dataframe > thead > tr > th,\n",
       ".dataframe > tbody > tr > td {\n",
       "  text-align: right;\n",
       "  white-space: pre-wrap;\n",
       "}\n",
       "</style>\n",
       "<small>shape: (1, 8)</small><table border=\"1\" class=\"dataframe\"><thead><tr><th>Application Date</th><th>Amount Requested</th><th>Loan Title</th><th>Debt-To-Income Ratio</th><th>Zip Code</th><th>State</th><th>Employment Length</th><th>Policy Code</th></tr><tr><td>str</td><td>str</td><td>str</td><td>str</td><td>str</td><td>str</td><td>str</td><td>str</td></tr></thead><tbody><tr><td>&quot;0.00%&quot;</td><td>&quot;0.00%&quot;</td><td>&quot;0.08%&quot;</td><td>&quot;0.00%&quot;</td><td>&quot;0.00%&quot;</td><td>&quot;0.00%&quot;</td><td>&quot;3.67%&quot;</td><td>&quot;0.00%&quot;</td></tr></tbody></table></div>"
      ],
      "text/plain": [
       "shape: (1, 8)\n",
       "┌──────────────┬──────────────┬────────────┬─────────────┬──────────┬───────┬─────────────┬────────┐\n",
       "│ Application  ┆ Amount       ┆ Loan Title ┆ Debt-To-Inc ┆ Zip Code ┆ State ┆ Employment  ┆ Policy │\n",
       "│ Date         ┆ Requested    ┆ ---        ┆ ome Ratio   ┆ ---      ┆ ---   ┆ Length      ┆ Code   │\n",
       "│ ---          ┆ ---          ┆ str        ┆ ---         ┆ str      ┆ str   ┆ ---         ┆ ---    │\n",
       "│ str          ┆ str          ┆            ┆ str         ┆          ┆       ┆ str         ┆ str    │\n",
       "╞══════════════╪══════════════╪════════════╪═════════════╪══════════╪═══════╪═════════════╪════════╡\n",
       "│ 0.00%        ┆ 0.00%        ┆ 0.08%      ┆ 0.00%       ┆ 0.00%    ┆ 0.00% ┆ 3.67%       ┆ 0.00%  │\n",
       "└──────────────┴──────────────┴────────────┴─────────────┴──────────┴───────┴─────────────┴────────┘"
      ]
     },
     "execution_count": 22,
     "metadata": {},
     "output_type": "execute_result"
    }
   ],
   "source": [
    "null_counts = data_full.null_count() / len(data_full)\n",
    "for col in null_counts.columns:\n",
    "    null_counts = null_counts.with_columns(\n",
    "        pl.col(col).map_elements(lambda x: f\"{x:.2%}\").alias(col)\n",
    "    )\n",
    "null_counts"
   ]
  },
  {
   "cell_type": "markdown",
   "metadata": {},
   "source": [
    "There are several missing values in Employment Length and Loan Title, yet the fact that no answer was given is important of it self and thus null values will be used as separate answers."
   ]
  },
  {
   "cell_type": "markdown",
   "metadata": {},
   "source": [
    "##### Numeric feature attributes:"
   ]
  },
  {
   "cell_type": "code",
   "execution_count": 23,
   "metadata": {},
   "outputs": [
    {
     "data": {
      "text/html": [
       "<div><style>\n",
       ".dataframe > thead > tr > th,\n",
       ".dataframe > tbody > tr > td {\n",
       "  text-align: right;\n",
       "  white-space: pre-wrap;\n",
       "}\n",
       "</style>\n",
       "<small>shape: (9, 4)</small><table border=\"1\" class=\"dataframe\"><thead><tr><th>describe</th><th>Amount Requested</th><th>Debt-To-Income Ratio</th><th>Policy Code</th></tr><tr><td>str</td><td>f64</td><td>f64</td><td>f64</td></tr></thead><tbody><tr><td>&quot;count&quot;</td><td>2.9909409e7</td><td>2.9909409e7</td><td>2.9909409e7</td></tr><tr><td>&quot;null_count&quot;</td><td>0.0</td><td>4.0</td><td>0.0</td></tr><tr><td>&quot;mean&quot;</td><td>13277.884418</td><td>133.878102</td><td>0.075584</td></tr><tr><td>&quot;std&quot;</td><td>14659.491717</td><td>10133.098207</td><td>0.264331</td></tr><tr><td>&quot;min&quot;</td><td>0.0</td><td>-1.0</td><td>0.0</td></tr><tr><td>&quot;25%&quot;</td><td>5000.0</td><td>8.55</td><td>0.0</td></tr><tr><td>&quot;50%&quot;</td><td>10000.0</td><td>19.639999</td><td>0.0</td></tr><tr><td>&quot;75%&quot;</td><td>20000.0</td><td>35.02</td><td>0.0</td></tr><tr><td>&quot;max&quot;</td><td>1.4e6</td><td>5.0000032e7</td><td>1.0</td></tr></tbody></table></div>"
      ],
      "text/plain": [
       "shape: (9, 4)\n",
       "┌────────────┬──────────────────┬──────────────────────┬─────────────┐\n",
       "│ describe   ┆ Amount Requested ┆ Debt-To-Income Ratio ┆ Policy Code │\n",
       "│ ---        ┆ ---              ┆ ---                  ┆ ---         │\n",
       "│ str        ┆ f64              ┆ f64                  ┆ f64         │\n",
       "╞════════════╪══════════════════╪══════════════════════╪═════════════╡\n",
       "│ count      ┆ 2.9909409e7      ┆ 2.9909409e7          ┆ 2.9909409e7 │\n",
       "│ null_count ┆ 0.0              ┆ 4.0                  ┆ 0.0         │\n",
       "│ mean       ┆ 13277.884418     ┆ 133.878102           ┆ 0.075584    │\n",
       "│ std        ┆ 14659.491717     ┆ 10133.098207         ┆ 0.264331    │\n",
       "│ min        ┆ 0.0              ┆ -1.0                 ┆ 0.0         │\n",
       "│ 25%        ┆ 5000.0           ┆ 8.55                 ┆ 0.0         │\n",
       "│ 50%        ┆ 10000.0          ┆ 19.639999            ┆ 0.0         │\n",
       "│ 75%        ┆ 20000.0          ┆ 35.02                ┆ 0.0         │\n",
       "│ max        ┆ 1.4e6            ┆ 5.0000032e7          ┆ 1.0         │\n",
       "└────────────┴──────────────────┴──────────────────────┴─────────────┘"
      ]
     },
     "execution_count": 23,
     "metadata": {},
     "output_type": "execute_result"
    }
   ],
   "source": [
    "data_full.select(pl.selectors.by_dtype(pl.NUMERIC_DTYPES)).describe()"
   ]
  },
  {
   "cell_type": "markdown",
   "metadata": {},
   "source": [
    "\"The maximum values for requested amount and DTI may appear nonsensical, but as the main model algorithms to be used are non-linear tree-based algorithms, these extreme values will remain unchanged. Any negative values in DTI will be treated as null. Any values bellow 1$ in amount requested will be treated as null\""
   ]
  },
  {
   "cell_type": "markdown",
   "metadata": {},
   "source": [
    "##### Applying the cleaning functions:"
   ]
  },
  {
   "cell_type": "code",
   "execution_count": 24,
   "metadata": {},
   "outputs": [],
   "source": [
    "data_full = dmf.clean_accepted_rejected(data_full)\n",
    "\n",
    "title_imputer = tr.NotInImputerPolars(fill_value=\"other\", cat_no=13)\n",
    "data_full = data_full.with_columns(\n",
    "    title_imputer.fit_transform(data_full[\"title\"].alias(\"title\"))\n",
    ")\n",
    "\n",
    "zip_imputer = tr.NotInImputerPolars(fill_value=\"other\", cat_no=80)\n",
    "data_full = data_full.with_columns(\n",
    "    zip_imputer.fit_transform(data_full[\"Zip Code\"].alias(\"Zip Code\"))\n",
    ")\n"
   ]
  },
  {
   "cell_type": "markdown",
   "metadata": {},
   "source": [
    "The following cleaning procedures were executed:\n",
    "1. The date was converted to date format.\n",
    "2. The title text was converted to lowercase and underscored.\n",
    "3. The title was classified into 12 primary categories based on content.\n",
    "4. Negative DTI values and requested amounts less than 1 were set to null.\n",
    "5. Remaining title values were categorized as \"other\"\n",
    "6. Zip-Codes not in the top 80 most popular were classified as \"other\""
   ]
  },
  {
   "cell_type": "markdown",
   "metadata": {},
   "source": [
    "##### Title categories:"
   ]
  },
  {
   "cell_type": "code",
   "execution_count": 25,
   "metadata": {},
   "outputs": [
    {
     "data": {
      "text/plain": [
       "['education',\n",
       " 'wedding',\n",
       " None,\n",
       " 'green_loan',\n",
       " 'vacation',\n",
       " 'moving',\n",
       " 'medical',\n",
       " 'business',\n",
       " 'major_purchase',\n",
       " 'home',\n",
       " 'other',\n",
       " 'car',\n",
       " 'debt_consolidation']"
      ]
     },
     "execution_count": 25,
     "metadata": {},
     "output_type": "execute_result"
    }
   ],
   "source": [
    "title_imputer.filter[\"title\"]\n"
   ]
  },
  {
   "cell_type": "markdown",
   "metadata": {},
   "source": [
    "#### <a id='toc3_1_1_'></a>[Number of applications each year:](#toc0_)"
   ]
  },
  {
   "cell_type": "markdown",
   "metadata": {},
   "source": [
    "##### Getting the number of applications each year:"
   ]
  },
  {
   "cell_type": "code",
   "execution_count": 26,
   "metadata": {},
   "outputs": [],
   "source": [
    "applications_by_year = (\n",
    "    data_full.drop_nulls(subset=\"Application Date\")\n",
    "    .sort(\"Application Date\")\n",
    "    .group_by_dynamic(\"Application Date\", every=\"1y\")\n",
    "    .agg(\n",
    "        pl.col(\"Policy Code\").sum().alias(\"accepted_count\"),\n",
    "        pl.col(\"Policy Code\").count().alias(\"count\"),\n",
    "    )\n",
    ")\n",
    "\n",
    "applications_by_year = applications_by_year.with_columns(\n",
    "    (pl.col(\"accepted_count\") / pl.col(\"count\") * 100).alias(\"accepted_percentage\")\n",
    ")\n",
    "\n",
    "applications_by_year = applications_by_year.with_columns(\n",
    "    pl.col(\"Application Date\").dt.year().alias(\"year\")\n",
    ")\n"
   ]
  },
  {
   "cell_type": "markdown",
   "metadata": {},
   "source": [
    "##### Plotting applications by year:"
   ]
  },
  {
   "cell_type": "code",
   "execution_count": 27,
   "metadata": {},
   "outputs": [
    {
     "data": {
      "image/png": "[encoded data removed]",
      "text/plain": [
       "<Figure size 640x480 with 2 Axes>"
      ]
     },
     "metadata": {},
     "output_type": "display_data"
    }
   ],
   "source": [
    "fig_apps_year, ax_apps_year = pf.plot_grouped_bars(\n",
    "    applications_by_year,\n",
    "    \"year\",\n",
    "    col1=\"count\",\n",
    "    col2=\"accepted_percentage\",\n",
    "    legend_args={\"loc\": \"upper left\"},\n",
    "    return_fig=True,\n",
    ")\n",
    "ax_apps_year[0].set_xticklabels(\n",
    "    text.get_text()[-2:] for text in ax_apps_year[0].xaxis.get_ticklabels()\n",
    ")\n",
    "ax_apps_year[0].set_xlabel(\"Year\")\n",
    "plt.show()\n"
   ]
  },
  {
   "cell_type": "markdown",
   "metadata": {},
   "source": [
    "Changing trends in loan application acceptance are observed."
   ]
  },
  {
   "cell_type": "markdown",
   "metadata": {},
   "source": [
    "### <a id='toc3_2_'></a>[Numeric Feature Analysis](#toc0_)"
   ]
  },
  {
   "cell_type": "markdown",
   "metadata": {},
   "source": [
    "##### List of numeric features:"
   ]
  },
  {
   "cell_type": "code",
   "execution_count": 28,
   "metadata": {},
   "outputs": [],
   "source": [
    "numeric_features_ar = [\"Amount Requested\", \"Debt-To-Income Ratio\"]\n"
   ]
  },
  {
   "cell_type": "markdown",
   "metadata": {},
   "source": [
    "#### <a id='toc3_2_1_'></a>[Visual Overview:](#toc0_)"
   ]
  },
  {
   "cell_type": "code",
   "execution_count": 29,
   "metadata": {},
   "outputs": [
    {
     "data": {
      "image/png": "[encoded data removed]",
      "text/plain": [
       "<Figure size 850x450 with 2 Axes>"
      ]
     },
     "metadata": {},
     "output_type": "display_data"
    }
   ],
   "source": [
    "fig_ar_boxes, ax_ar_boxes = plt.subplots(1, 2, figsize=BASE_FIG_SIZE)\n",
    "ax_ar_boxes = ax_ar_boxes.flatten()\n",
    "for i, feature in enumerate(numeric_features_ar):\n",
    "    sns.boxplot(\n",
    "        x=data_full.select([feature, \"Policy Code\"])\n",
    "        .drop_nulls()[\"Policy Code\"]\n",
    "        .to_numpy(),\n",
    "        y=data_full.select([feature, \"Policy Code\"]).drop_nulls()[feature].to_numpy(),\n",
    "        ax=ax_ar_boxes[i],\n",
    "    )\n",
    "    ax_ar_boxes[i].set_title(feature)\n",
    "    ax_ar_boxes[i].set_yscale(\"log\")\n",
    "    ax_ar_boxes[i].set_xticklabels([\"Rejected\", \"Accepted\"])\n",
    "    plt.tight_layout()\n",
    "plt.show()\n"
   ]
  },
  {
   "cell_type": "markdown",
   "metadata": {},
   "source": [
    "A notable distinction emerges in the distributions of accepted and rejected loan amounts requested, as well as Debt-To-Income Ratios (DTI). Accepted loans predominantly fall within a confined range of requested amounts, typically between $1,000 and $50,000, while they are primarily extended to individuals with DTIs below 100."
   ]
  },
  {
   "cell_type": "markdown",
   "metadata": {},
   "source": [
    "#### <a id='toc3_2_2_'></a>[Statistical Inference on the Relation with the Target](#toc0_)"
   ]
  },
  {
   "cell_type": "markdown",
   "metadata": {},
   "source": [
    "##### Mann-Whitney U-test with the hypothesis of no significant differences between populations:"
   ]
  },
  {
   "cell_type": "code",
   "execution_count": 30,
   "metadata": {},
   "outputs": [
    {
     "data": {
      "text/markdown": [
       "Reject the null hypothesis: There are significant differences in 'Amount Requested' between groups in 'Policy Code'."
      ],
      "text/plain": [
       "<IPython.core.display.Markdown object>"
      ]
     },
     "metadata": {},
     "output_type": "display_data"
    },
    {
     "data": {
      "text/markdown": [
       "Reject the null hypothesis: There are significant differences in 'Debt-To-Income Ratio' between groups in 'Policy Code'."
      ],
      "text/plain": [
       "<IPython.core.display.Markdown object>"
      ]
     },
     "metadata": {},
     "output_type": "display_data"
    }
   ],
   "source": [
    "kruskals_ar = {}\n",
    "for col in numeric_features_ar:\n",
    "    kruskals_ar[col] = st.kruskal_polars(data_full, \"Policy Code\", col)\n",
    "    display(Markdown(kruskals_ar[col][\"message\"]))\n"
   ]
  },
  {
   "cell_type": "markdown",
   "metadata": {},
   "source": [
    "### <a id='toc3_3_'></a>[Categorical Feature Analysis](#toc0_)"
   ]
  },
  {
   "cell_type": "code",
   "execution_count": 31,
   "metadata": {},
   "outputs": [],
   "source": [
    "cat_features_ar = [\"month\", \"title\", \"Employment Length\", \"Zip Code\", \"State\"]\n"
   ]
  },
  {
   "cell_type": "markdown",
   "metadata": {},
   "source": [
    "##### Adding the month of the year as a feature:"
   ]
  },
  {
   "cell_type": "code",
   "execution_count": 32,
   "metadata": {},
   "outputs": [],
   "source": [
    "data_full = data_full.with_columns(pl.col(\"Application Date\").dt.month().alias(\"month\"))\n"
   ]
  },
  {
   "cell_type": "markdown",
   "metadata": {},
   "source": [
    "#### <a id='toc3_3_1_'></a>[Visual Overview](#toc0_)"
   ]
  },
  {
   "cell_type": "code",
   "execution_count": 33,
   "metadata": {},
   "outputs": [
    {
     "data": {
      "image/png": "[encoded data removed]",
      "text/plain": [
       "<Figure size 850x1350 with 8 Axes>"
      ]
     },
     "metadata": {},
     "output_type": "display_data"
    }
   ],
   "source": [
    "fig_ar_catbars, ax_ar_catbars = plt.subplots(\n",
    "    4, 1, figsize=(BASE_FIG_SIZE[0], BASE_FIG_SIZE[1] * 3)\n",
    ")\n",
    "ax_ar_catbars = ax_ar_catbars.flatten()\n",
    "ax_ar_catbars_b = ax_ar_catbars.copy()\n",
    "for i, col in enumerate([col for col in cat_features_ar if col != \"Zip Code\"]):\n",
    "    ax_ar_catbars_b[i] = ax_ar_catbars[i].twinx()\n",
    "    pf.plot_grouped_bars(\n",
    "        pf.aggregate_by_column(\n",
    "            data_full.drop_nulls(subset=\"Application Date\"),\n",
    "            col,\n",
    "            \"Policy Code\",\n",
    "            alias_count=\"Application Count\",\n",
    "            alias_percentage=\"Accepted Percentage\",\n",
    "            alias_positive_count=\"Accepted Count\",\n",
    "        ),\n",
    "        col,\n",
    "        col1=\"Application Count\",\n",
    "        col2=\"Accepted Percentage\",\n",
    "        x_label_args={\"rotation\": 90},\n",
    "        legend_args={\"loc\": \"lower right\"},\n",
    "        top_vals=12,\n",
    "        axes=(ax_ar_catbars[i], ax_ar_catbars_b[i]),\n",
    "    )\n",
    "    ax_ar_catbars[i].set_xlabel(col)\n",
    "plt.tight_layout(h_pad=-0.5)\n",
    "plt.show()\n"
   ]
  },
  {
   "cell_type": "markdown",
   "metadata": {},
   "source": [
    "There appears to be variation in loan acceptance rates based on the applicant's state of residence, length of employment, and even the month in which the application is submitted."
   ]
  },
  {
   "cell_type": "markdown",
   "metadata": {},
   "source": [
    "#### <a id='toc3_3_2_'></a>[Statistical Inference on The Relation with Target](#toc0_)"
   ]
  },
  {
   "cell_type": "markdown",
   "metadata": {},
   "source": [
    "##### Chi-squared test with the null hypothesis of no significant differences between categories and application approval rate:"
   ]
  },
  {
   "cell_type": "code",
   "execution_count": 34,
   "metadata": {},
   "outputs": [
    {
     "data": {
      "text/markdown": [
       "Reject the null hypothesis: There are significant differences in 'Policy Code' between groups in 'month'."
      ],
      "text/plain": [
       "<IPython.core.display.Markdown object>"
      ]
     },
     "metadata": {},
     "output_type": "display_data"
    },
    {
     "data": {
      "text/markdown": [
       "Reject the null hypothesis: There are significant differences in 'Policy Code' between groups in 'title'."
      ],
      "text/plain": [
       "<IPython.core.display.Markdown object>"
      ]
     },
     "metadata": {},
     "output_type": "display_data"
    },
    {
     "data": {
      "text/markdown": [
       "Reject the null hypothesis: There are significant differences in 'Policy Code' between groups in 'Employment Length'."
      ],
      "text/plain": [
       "<IPython.core.display.Markdown object>"
      ]
     },
     "metadata": {},
     "output_type": "display_data"
    },
    {
     "data": {
      "text/markdown": [
       "Reject the null hypothesis: There are significant differences in 'Policy Code' between groups in 'Zip Code'."
      ],
      "text/plain": [
       "<IPython.core.display.Markdown object>"
      ]
     },
     "metadata": {},
     "output_type": "display_data"
    },
    {
     "data": {
      "text/markdown": [
       "Reject the null hypothesis: There are significant differences in 'Policy Code' between groups in 'State'."
      ],
      "text/plain": [
       "<IPython.core.display.Markdown object>"
      ]
     },
     "metadata": {},
     "output_type": "display_data"
    }
   ],
   "source": [
    "ar_chi2s = {}\n",
    "for col in cat_features_ar:\n",
    "    ar_chi2s[col] = st.chi_squared_polars(data_full, col, \"Policy Code\")\n",
    "    display(Markdown(ar_chi2s[col][\"message\"]))\n"
   ]
  },
  {
   "cell_type": "markdown",
   "metadata": {},
   "source": [
    "All features seem to have a significant relationship to the target."
   ]
  },
  {
   "cell_type": "markdown",
   "metadata": {},
   "source": [
    "## <a id='toc4_'></a>[Accepted Loan Grade and Interest Rate Prediction](#toc0_)"
   ]
  },
  {
   "cell_type": "markdown",
   "metadata": {},
   "source": [
    "##### Deleting accepted/rejected data:"
   ]
  },
  {
   "cell_type": "code",
   "execution_count": 35,
   "metadata": {},
   "outputs": [],
   "source": [
    "del data_rejected, data_full"
   ]
  },
  {
   "cell_type": "markdown",
   "metadata": {},
   "source": [
    "#### <a id='toc4_1_1_'></a>[Data Overview](#toc0_)"
   ]
  },
  {
   "cell_type": "markdown",
   "metadata": {},
   "source": [
    "##### Checking wether there are any duplicated ID entries:"
   ]
  },
  {
   "cell_type": "code",
   "execution_count": 36,
   "metadata": {},
   "outputs": [
    {
     "data": {
      "text/plain": [
       "False"
      ]
     },
     "execution_count": 36,
     "metadata": {},
     "output_type": "execute_result"
    }
   ],
   "source": [
    "data_accepted[\"id\"].is_duplicated().any()"
   ]
  },
  {
   "cell_type": "markdown",
   "metadata": {},
   "source": [
    "#### <a id='toc4_1_2_'></a>[Checking the amount of missing values in each column:](#toc0_)"
   ]
  },
  {
   "cell_type": "code",
   "execution_count": 37,
   "metadata": {},
   "outputs": [
    {
     "data": {
      "text/html": [
       "<div><style>\n",
       ".dataframe > thead > tr > th,\n",
       ".dataframe > tbody > tr > td {\n",
       "  text-align: right;\n",
       "  white-space: pre-wrap;\n",
       "}\n",
       "</style>\n",
       "<small>shape: (44, 2)</small><table border=\"1\" class=\"dataframe\"><thead><tr><th>feature</th><th>missing %</th></tr><tr><td>str</td><td>f64</td></tr></thead><tbody><tr><td>&quot;member_id&quot;</td><td>100.0</td></tr><tr><td>&quot;desc&quot;</td><td>94.423462</td></tr><tr><td>&quot;mths_since_las…</td><td>51.246003</td></tr><tr><td>&quot;mths_since_las…</td><td>84.112837</td></tr><tr><td>&quot;next_pymnt_d&quot;</td><td>59.509402</td></tr><tr><td>&quot;mths_since_las…</td><td>74.309585</td></tr><tr><td>&quot;annual_inc_joi…</td><td>94.660428</td></tr><tr><td>&quot;dti_joint&quot;</td><td>94.660605</td></tr><tr><td>&quot;verification_s…</td><td>94.880717</td></tr><tr><td>&quot;mths_since_rec…</td><td>77.011175</td></tr><tr><td>&quot;mths_since_rec…</td><td>67.250432</td></tr><tr><td>&quot;revol_bal_join…</td><td>95.221766</td></tr><tr><td>&hellip;</td><td>&hellip;</td></tr><tr><td>&quot;hardship_lengt…</td><td>99.51709</td></tr><tr><td>&quot;hardship_dpd&quot;</td><td>99.51709</td></tr><tr><td>&quot;hardship_loan_…</td><td>99.51709</td></tr><tr><td>&quot;orig_projected…</td><td>99.617325</td></tr><tr><td>&quot;hardship_payof…</td><td>99.51709</td></tr><tr><td>&quot;hardship_last_…</td><td>99.51709</td></tr><tr><td>&quot;debt_settlemen…</td><td>98.485138</td></tr><tr><td>&quot;settlement_sta…</td><td>98.485138</td></tr><tr><td>&quot;settlement_dat…</td><td>98.485138</td></tr><tr><td>&quot;settlement_amo…</td><td>98.485138</td></tr><tr><td>&quot;settlement_per…</td><td>98.485138</td></tr><tr><td>&quot;settlement_ter…</td><td>98.485138</td></tr></tbody></table></div>"
      ],
      "text/plain": [
       "shape: (44, 2)\n",
       "┌────────────────────────┬───────────┐\n",
       "│ feature                ┆ missing % │\n",
       "│ ---                    ┆ ---       │\n",
       "│ str                    ┆ f64       │\n",
       "╞════════════════════════╪═══════════╡\n",
       "│ member_id              ┆ 100.0     │\n",
       "│ desc                   ┆ 94.423462 │\n",
       "│ mths_since_last_delinq ┆ 51.246003 │\n",
       "│ mths_since_last_record ┆ 84.112837 │\n",
       "│ …                      ┆ …         │\n",
       "│ settlement_date        ┆ 98.485138 │\n",
       "│ settlement_amount      ┆ 98.485138 │\n",
       "│ settlement_percentage  ┆ 98.485138 │\n",
       "│ settlement_term        ┆ 98.485138 │\n",
       "└────────────────────────┴───────────┘"
      ]
     },
     "execution_count": 37,
     "metadata": {},
     "output_type": "execute_result"
    }
   ],
   "source": [
    "null_counts_accepted = data_accepted.null_count() / len(data_accepted) * 100\n",
    "\n",
    "null_counts_accepted = pl.DataFrame(\n",
    "    {\"feature\": null_counts_accepted.columns}\n",
    ").with_columns(null_counts_accepted.transpose().to_series().alias(\"missing %\"))\n",
    "null_counts_accepted.filter(null_counts_accepted[\"missing %\"] >= 50)\n"
   ]
  },
  {
   "cell_type": "markdown",
   "metadata": {},
   "source": [
    "A substantial number of samples contain missing values, with 44 features lacking data in more than 50% of the samples. It's important to recognize that most of these missing features are anticipated to be rare in nature, typically associated with a secondary applicant or financial irregularities. As a result, no features or samples were removed solely due to missing values."
   ]
  },
  {
   "cell_type": "markdown",
   "metadata": {},
   "source": [
    "##### Separating single and joint applications:"
   ]
  },
  {
   "cell_type": "code",
   "execution_count": 38,
   "metadata": {},
   "outputs": [
    {
     "data": {
      "text/markdown": [
       "Single applications: 2139958"
      ],
      "text/plain": [
       "<IPython.core.display.Markdown object>"
      ]
     },
     "metadata": {},
     "output_type": "display_data"
    },
    {
     "data": {
      "text/markdown": [
       "Joint applications: 120710"
      ],
      "text/plain": [
       "<IPython.core.display.Markdown object>"
      ]
     },
     "metadata": {},
     "output_type": "display_data"
    }
   ],
   "source": [
    "data_accepted_joint = data_accepted.filter(\n",
    "    data_accepted[\"application_type\"] == \"Joint App\"\n",
    ")\n",
    "data_accepted_single = data_accepted.filter(\n",
    "    data_accepted[\"application_type\"] == \"Individual\"\n",
    ")\n",
    "\n",
    "joint_app_features = [\n",
    "    col\n",
    "    for col in data_accepted.columns\n",
    "    if any(substring in col for substring in [\"joint\", \"sec_app\"])\n",
    "]\n",
    "\n",
    "display(Markdown(f\"Single applications: {len(data_accepted_single)}\"))\n",
    "display(Markdown(f\"Joint applications: {len(data_accepted_joint)}\"))\n"
   ]
  },
  {
   "cell_type": "markdown",
   "metadata": {},
   "source": [
    "Because joint applications are infrequent, I've chosen a more efficient approach: creating separate models for joint and single applications. This strategy is more effective than trying to force a single model to capture the rare features of joint applications."
   ]
  },
  {
   "cell_type": "markdown",
   "metadata": {},
   "source": [
    "#### <a id='toc4_1_3_'></a>[Splitting the data](#toc0_)"
   ]
  },
  {
   "cell_type": "markdown",
   "metadata": {},
   "source": [
    "##### Splitting the data into training, validation and test sets:"
   ]
  },
  {
   "cell_type": "code",
   "execution_count": 39,
   "metadata": {},
   "outputs": [],
   "source": [
    "data_accepted_single_train = data_accepted_single.filter(\n",
    "    dmf.str_to_date(data_accepted_single, [\"issue_d\"], \"%b-%Y\")[\"issue_d\"].dt.year()\n",
    "    < 2017\n",
    ")\n",
    "data_accepted_single_val = data_accepted_single.filter(\n",
    "    dmf.str_to_date(data_accepted_single, [\"issue_d\"], \"%b-%Y\")[\"issue_d\"].dt.year()\n",
    "    == 2017\n",
    ")\n",
    "data_accepted_single_test = data_accepted_single.filter(\n",
    "    dmf.str_to_date(data_accepted_single, [\"issue_d\"], \"%b-%Y\")[\"issue_d\"].dt.year()\n",
    "    == 2018\n",
    ")\n",
    "\n",
    "\n",
    "data_accepted_joint_train = data_accepted_joint.filter(\n",
    "    dmf.str_to_date(data_accepted_joint, [\"issue_d\"], \"%b-%Y\")[\"issue_d\"]\n",
    "    < datetime(2018, 3, 1)\n",
    ")\n",
    "data_accepted_joint_val = data_accepted_joint.filter(\n",
    "    dmf.str_to_date(data_accepted_joint, [\"issue_d\"], \"%b-%Y\")[\"issue_d\"].is_between(\n",
    "        datetime(2018, 3, 1), datetime(2018, 7, 1)\n",
    "    )\n",
    ")\n",
    "data_accepted_joint_test = data_accepted_joint.filter(\n",
    "    dmf.str_to_date(data_accepted_joint, [\"issue_d\"], \"%b-%Y\")[\"issue_d\"]\n",
    "    > datetime(2018, 7, 1)\n",
    ")\n"
   ]
  },
  {
   "cell_type": "markdown",
   "metadata": {},
   "source": [
    "The data was partitioned into training, validation, and test sets based on specific date criteria. For single application data, the training set comprises data before 2017, the validation data corresponds to the year 2017, and the test data encompasses the year 2018. However, for joint applications, the training data includes records prior to March 1, 2018, the validation data spans the period between March 1, 2018, and July 1, 2018, and the test data encompasses records beyond that date."
   ]
  },
  {
   "cell_type": "markdown",
   "metadata": {},
   "source": [
    "##### The number of single application samples in training, validation and test data sets:"
   ]
  },
  {
   "cell_type": "code",
   "execution_count": 40,
   "metadata": {},
   "outputs": [
    {
     "name": "stdout",
     "output_type": "stream",
     "text": [
      "1312547 401154 426257\n"
     ]
    }
   ],
   "source": [
    "print(\n",
    "    len(data_accepted_single_train),\n",
    "    len(data_accepted_single_val),\n",
    "    len(data_accepted_single_test),\n",
    ")\n"
   ]
  },
  {
   "cell_type": "markdown",
   "metadata": {},
   "source": [
    "##### The number of joint application samples in training, validation and test data sets:"
   ]
  },
  {
   "cell_type": "code",
   "execution_count": 41,
   "metadata": {},
   "outputs": [
    {
     "name": "stdout",
     "output_type": "stream",
     "text": [
      "62151 29802 28757\n"
     ]
    }
   ],
   "source": [
    "print(\n",
    "    len(data_accepted_joint_train),\n",
    "    len(data_accepted_joint_val),\n",
    "    len(data_accepted_joint_test),\n",
    ")\n"
   ]
  },
  {
   "cell_type": "markdown",
   "metadata": {},
   "source": [
    "##### Saving the split data:"
   ]
  },
  {
   "cell_type": "code",
   "execution_count": 42,
   "metadata": {},
   "outputs": [],
   "source": [
    "data_accepted_single_train.write_parquet(\"data/data_accepted_single_train.parquet\")\n",
    "data_accepted_single_val.write_parquet(\"data/data_accepted_single_val.parquet\")\n",
    "data_accepted_single_test.write_parquet(\"data/data_accepted_single_test.parquet\")\n",
    "\n",
    "data_accepted_joint_train.write_parquet(\"data/data_accepted_joint_train.parquet\")\n",
    "data_accepted_joint_val.write_parquet(\"data/data_accepted_joint_val.parquet\")\n",
    "data_accepted_joint_test.write_parquet(\"data/data_accepted_joint_test.parquet\")\n"
   ]
  },
  {
   "cell_type": "code",
   "execution_count": 43,
   "metadata": {},
   "outputs": [],
   "source": [
    "del (\n",
    "    data_accepted_single_train,\n",
    "    data_accepted_single_val,\n",
    "    data_accepted_single_test,\n",
    "    data_accepted_joint_train,\n",
    "    data_accepted_joint_val,\n",
    "    data_accepted_joint_test,\n",
    ")"
   ]
  },
  {
   "cell_type": "markdown",
   "metadata": {},
   "source": [
    "### <a id='toc4_2_'></a>[Preparation for analysis](#toc0_)"
   ]
  },
  {
   "cell_type": "markdown",
   "metadata": {},
   "source": [
    "##### Cleaning the data:"
   ]
  },
  {
   "cell_type": "code",
   "execution_count": 44,
   "metadata": {},
   "outputs": [],
   "source": [
    "data_accepted_single = dmf.clean_accepted_single(data_accepted_single)\n",
    "data_accepted_joint = dmf.clean_accepted_joint(data_accepted_joint)"
   ]
  },
  {
   "cell_type": "markdown",
   "metadata": {},
   "source": [
    "The following data cleaning procedures were carried out:\n",
    "\n",
    "1. Standardization of free text features.\n",
    "2. Categorization of employment titles into the most common categories.\n",
    "3. Correction of data types, including changing negative DTI values to \"None.\""
   ]
  },
  {
   "cell_type": "markdown",
   "metadata": {},
   "source": [
    "##### Dropping irrelevant features:"
   ]
  },
  {
   "cell_type": "code",
   "execution_count": 45,
   "metadata": {},
   "outputs": [],
   "source": [
    "data_accepted_single = dmf.drop_column(data_accepted_single, dmf.irrelevant_features)\n",
    "data_accepted_joint = dmf.drop_column(data_accepted_joint, dmf.irrelevant_features)\n",
    "data_accepted_single = dmf.drop_column(data_accepted_single, dmf.joint_app_features)\n"
   ]
  },
  {
   "cell_type": "markdown",
   "metadata": {},
   "source": [
    "Three categories of features were excluded for the following reasons:\n",
    "\n",
    "1. Features that were entirely irrelevant, such as unique identifiers.\n",
    "2. Features linked to ongoing loans, which should not be accessible for new applications. It is assumed that the grade and interest rate of the loan remain constant throughout its duration.\n",
    "3. Features that were duplicated or redundant."
   ]
  },
  {
   "cell_type": "markdown",
   "metadata": {},
   "source": [
    "##### Merging rare categories:"
   ]
  },
  {
   "cell_type": "code",
   "execution_count": 46,
   "metadata": {},
   "outputs": [],
   "source": [
    "data_accepted_single = data_accepted_single.with_columns(\n",
    "    tr.NotInImputerPolars(fill_value=\"other\", cat_no=50).fit_transform(\n",
    "        data_accepted_single[\"emp_title\"].alias(\"emp_title\")\n",
    "    )\n",
    ")\n",
    "\n",
    "data_accepted_single = data_accepted_single.with_columns(\n",
    "    tr.NotInImputerPolars(fill_value=\"other\", cat_no=50).fit_transform(\n",
    "        data_accepted_single[\"zip_code\"].alias(\"zip_code\")\n",
    "    )\n",
    ")\n",
    "\n",
    "data_accepted_joint = data_accepted_joint.with_columns(\n",
    "    tr.NotInImputerPolars(fill_value=\"other\", cat_no=50).fit_transform(\n",
    "        data_accepted_joint[\"emp_title\"].alias(\"emp_title\")\n",
    "    )\n",
    ")\n",
    "\n",
    "data_accepted_joint = data_accepted_joint.with_columns(\n",
    "    tr.NotInImputerPolars(fill_value=\"other\", cat_no=50).fit_transform(\n",
    "        data_accepted_joint[\"zip_code\"].alias(\"zip_code\")\n",
    "    )\n",
    ")\n"
   ]
  },
  {
   "cell_type": "markdown",
   "metadata": {},
   "source": [
    "Infrequent values in categorical columns were consolidated into a unified category labeled \"other.\""
   ]
  },
  {
   "cell_type": "markdown",
   "metadata": {},
   "source": [
    "##### Getting lists of numeric, categorical and target features :"
   ]
  },
  {
   "cell_type": "code",
   "execution_count": 47,
   "metadata": {},
   "outputs": [],
   "source": [
    "target_features = [\"grade\", \"sub_grade\", \"int_rate\"]\n",
    "cat_features_single = []\n",
    "for col in data_accepted_single.columns:\n",
    "    if data_accepted_single[col].n_unique() < 1000:\n",
    "        cat_features_single.append(col)\n",
    "\n",
    "num_features_single = [\n",
    "    col\n",
    "    for col in data_accepted_single.columns\n",
    "    if col not in (cat_features_single + target_features)\n",
    "]\n",
    "\n",
    "\n",
    "cat_features_joint = []\n",
    "for col in data_accepted_joint.columns:\n",
    "    if data_accepted_joint[col].n_unique() < 900:\n",
    "        cat_features_joint.append(col)\n",
    "num_features_joint = [\n",
    "    col for col in data_accepted_joint.columns if col not in cat_features_joint\n",
    "]\n",
    "\n",
    "cat_features_single = [\n",
    "    feat for feat in cat_features_single if feat not in target_features\n",
    "]\n",
    "cat_features_joint = [\n",
    "    feat for feat in cat_features_joint if feat not in target_features\n",
    "]\n",
    "cat_features_joint.remove(\"issue_d\")\n"
   ]
  },
  {
   "cell_type": "markdown",
   "metadata": {},
   "source": [
    "For the purpose of exploratory data analysis, the features were categorized into either categorical or numerical based on the count of their unique values."
   ]
  },
  {
   "cell_type": "markdown",
   "metadata": {},
   "source": [
    "### <a id='toc4_3_'></a>[Target Overview](#toc0_)"
   ]
  },
  {
   "cell_type": "code",
   "execution_count": 48,
   "metadata": {},
   "outputs": [
    {
     "data": {
      "image/png": "[encoded data removed]",
      "text/plain": [
       "<Figure size 850x450 with 1 Axes>"
      ]
     },
     "metadata": {},
     "output_type": "display_data"
    }
   ],
   "source": [
    "fig_grade_bars, ax_grade_bars = plt.subplots(figsize=BASE_FIG_SIZE)\n",
    "grade_counts = data_accepted_single[\"grade\"].value_counts().sort(\"grade\")\n",
    "sns.barplot(\n",
    "    x=grade_counts[\"grade\"].to_numpy(),\n",
    "    y=grade_counts[\"counts\"].to_numpy() / len(data_accepted_single) * 100,\n",
    "    palette=\"mako\",\n",
    "    ax=ax_grade_bars,\n",
    ")\n",
    "ax_grade_bars.bar_label(ax_grade_bars.containers[-1], fmt=\"%.1f%%\", label_type=\"edge\")\n",
    "ax_grade_bars.set_ylabel(\"Fraction\")\n",
    "ax_grade_bars.set_xlabel(\"Grade\")\n",
    "ax_grade_bars.yaxis.set_major_formatter(ticker.PercentFormatter(decimals=0))\n",
    "plt.show()\n"
   ]
  },
  {
   "cell_type": "markdown",
   "metadata": {},
   "source": [
    "There seems to be a class imbalance in the target column with the lower grade loans being extremely rare."
   ]
  },
  {
   "cell_type": "code",
   "execution_count": 49,
   "metadata": {},
   "outputs": [
    {
     "data": {
      "image/png": "[encoded data removed]",
      "text/plain": [
       "<Figure size 850x450 with 1 Axes>"
      ]
     },
     "metadata": {},
     "output_type": "display_data"
    }
   ],
   "source": [
    "fig_subgrade, ax_subgrade = plt.subplots(figsize=BASE_FIG_SIZE)\n",
    "sub_grade_counts = data_accepted_single[\"sub_grade\"].value_counts().sort(\"sub_grade\")\n",
    "sns.barplot(\n",
    "    x=sub_grade_counts[\"sub_grade\"].to_numpy(),\n",
    "    y=sub_grade_counts[\"counts\"].to_numpy() / len(data_accepted_single) * 100,\n",
    "    palette=\"mako\",\n",
    ")\n",
    "plt.xticks(np.arange(0, len(sub_grade_counts), step=2))\n",
    "ax_subgrade.set_ylabel(\"Fraction\")\n",
    "ax_subgrade.set_xlabel(\"Grade\")\n",
    "ax_subgrade.yaxis.set_major_formatter(ticker.PercentFormatter(decimals=0))\n",
    "plt.show()\n"
   ]
  },
  {
   "cell_type": "markdown",
   "metadata": {},
   "source": [
    "The subgrades are distributed in a similar fashion, but due to the number of classes the rare sub grades are even more under represented."
   ]
  },
  {
   "cell_type": "markdown",
   "metadata": {},
   "source": [
    "##### Interest rate and grade trends over time:"
   ]
  },
  {
   "cell_type": "code",
   "execution_count": 50,
   "metadata": {},
   "outputs": [
    {
     "data": {
      "image/png": "[encoded data removed]",
      "text/plain": [
       "<Figure size 850x450 with 2 Axes>"
      ]
     },
     "metadata": {},
     "output_type": "display_data"
    }
   ],
   "source": [
    "fig_int_grade, ax_int_grade = plt.subplots(figsize=BASE_FIG_SIZE)\n",
    "ax_int = ax_int_grade.twinx()\n",
    "grade_by_month = (\n",
    "    pl.DataFrame(\n",
    "        {\n",
    "            \"grade\": data_accepted_single[\"grade\"].map_dict(dmf.grade_mapping),\n",
    "            \"date\": data_accepted_single[\"issue_d\"],\n",
    "        }\n",
    "    )\n",
    "    .sort(\"date\")\n",
    "    .group_by_dynamic(\"date\", every=\"1y\")\n",
    "    .agg(pl.col(\"grade\").mean())\n",
    ")\n",
    "\n",
    "intr_by_month = (\n",
    "    data_accepted_single.sort(\"issue_d\")\n",
    "    .group_by_dynamic(\"issue_d\", every=\"1y\")\n",
    "    .agg(pl.col(\"int_rate\").mean())\n",
    ")\n",
    "\n",
    "sns.lineplot(\n",
    "    x=grade_by_month[\"date\"], y=grade_by_month[\"grade\"], ax=ax_int_grade, label=\"Grade\"\n",
    ")\n",
    "sns.lineplot(\n",
    "    x=intr_by_month[\"issue_d\"],\n",
    "    y=intr_by_month[\"int_rate\"],\n",
    "    ax=ax_int,\n",
    "    color=sns.color_palette()[1],\n",
    "    label=\"Interest Rate\",\n",
    ")\n",
    "ax_int_grade.grid(False)\n",
    "ax_int.grid(False)\n",
    "ax_int.legend()\n",
    "ax_int_grade.legend(loc=\"upper left\")\n",
    "plt.show()"
   ]
  },
  {
   "cell_type": "markdown",
   "metadata": {},
   "source": [
    "An interesting observation is that, at the start of the time range, the average grades of loans and the average interest rate appear to be inversely proportional. However, as time progresses, these trends converge toward the latter portion of the date range. This inverse relationship at the beginning and eventual convergence could be indicative of changing market conditions or lending policies over time."
   ]
  },
  {
   "cell_type": "markdown",
   "metadata": {},
   "source": [
    "##### Interest rate distribution amongst all samples:"
   ]
  },
  {
   "cell_type": "code",
   "execution_count": 51,
   "metadata": {},
   "outputs": [
    {
     "data": {
      "image/png": "[encoded data removed]",
      "text/plain": [
       "<Figure size 850x450 with 1 Axes>"
      ]
     },
     "metadata": {},
     "output_type": "display_data"
    }
   ],
   "source": [
    "fig_intrest, ax_intrest = plt.subplots(figsize=BASE_FIG_SIZE)\n",
    "sns.histplot(x=data_accepted_single[\"int_rate\"].to_numpy(), bins=20)\n",
    "ax_intrest.set_xlabel(\"Interest Rate\")\n",
    "plt.show()\n"
   ]
  },
  {
   "cell_type": "markdown",
   "metadata": {},
   "source": [
    "The interest rate seems to have a right skewed distribution."
   ]
  },
  {
   "cell_type": "markdown",
   "metadata": {},
   "source": [
    "### <a id='toc4_4_'></a>[Numeric Feature Analysis](#toc0_)"
   ]
  },
  {
   "cell_type": "markdown",
   "metadata": {},
   "source": [
    "#### <a id='toc4_4_1_'></a>[Visual Overview](#toc0_)"
   ]
  },
  {
   "cell_type": "markdown",
   "metadata": {},
   "source": [
    "##### Overview of numeric attributes:"
   ]
  },
  {
   "cell_type": "code",
   "execution_count": 52,
   "metadata": {},
   "outputs": [
    {
     "data": {
      "text/html": [
       "<div><style>\n",
       ".dataframe > thead > tr > th,\n",
       ".dataframe > tbody > tr > td {\n",
       "  text-align: right;\n",
       "  white-space: pre-wrap;\n",
       "}\n",
       "</style>\n",
       "<small>shape: (9, 20)</small><table border=\"1\" class=\"dataframe\"><thead><tr><th>describe</th><th>loan_amnt</th><th>funded_amnt</th><th>funded_amnt_inv</th><th>annual_inc</th><th>dti</th><th>revol_bal</th><th>revol_util</th><th>tot_cur_bal</th><th>total_bal_il</th><th>max_bal_bc</th><th>total_rev_hi_lim</th><th>avg_cur_bal</th><th>bc_open_to_buy</th><th>bc_util</th><th>delinq_amnt</th><th>tot_hi_cred_lim</th><th>total_bal_ex_mort</th><th>total_bc_limit</th><th>total_il_high_credit_limit</th></tr><tr><td>str</td><td>f64</td><td>f64</td><td>f64</td><td>f64</td><td>f64</td><td>f64</td><td>f64</td><td>f64</td><td>f64</td><td>f64</td><td>f64</td><td>f64</td><td>f64</td><td>f64</td><td>f64</td><td>f64</td><td>f64</td><td>f64</td><td>f64</td></tr></thead><tbody><tr><td>&quot;count&quot;</td><td>2.139958e6</td><td>2.139958e6</td><td>2.139958e6</td><td>2.139958e6</td><td>2.139958e6</td><td>2.139958e6</td><td>2.139958e6</td><td>2.139958e6</td><td>2.139958e6</td><td>2.139958e6</td><td>2.139958e6</td><td>2.139958e6</td><td>2.139958e6</td><td>2.139958e6</td><td>2.139958e6</td><td>2.139958e6</td><td>2.139958e6</td><td>2.139958e6</td><td>2.139958e6</td></tr><tr><td>&quot;null_count&quot;</td><td>0.0</td><td>0.0</td><td>0.0</td><td>4.0</td><td>1.0</td><td>0.0</td><td>1552.0</td><td>70276.0</td><td>865781.0</td><td>865781.0</td><td>70276.0</td><td>70336.0</td><td>72045.0</td><td>73118.0</td><td>29.0</td><td>70276.0</td><td>50030.0</td><td>50030.0</td><td>70276.0</td></tr><tr><td>&quot;mean&quot;</td><td>14788.275564</td><td>14782.715958</td><td>14763.712471</td><td>79001.083409</td><td>18.093173</td><td>16659.488536</td><td>50.515903</td><td>140391.530112</td><td>35170.934794</td><td>5795.14961</td><td>34474.070395</td><td>13282.486287</td><td>11313.729005</td><td>58.120993</td><td>12.80829</td><td>175742.685667</td><td>50734.088904</td><td>23157.266146</td><td>43287.474086</td></tr><tr><td>&quot;std&quot;</td><td>9035.817271</td><td>9033.689041</td><td>9037.529629</td><td>115076.357666</td><td>8.4254</td><td>22975.955221</td><td>24.624473</td><td>159957.790505</td><td>44151.152535</td><td>5688.447941</td><td>36714.385633</td><td>16250.222784</td><td>16510.701202</td><td>28.454823</td><td>741.254235</td><td>180907.813679</td><td>49837.616348</td><td>22968.96733</td><td>44851.098781</td></tr><tr><td>&quot;min&quot;</td><td>500.0</td><td>500.0</td><td>0.0</td><td>1896.0</td><td>0.0</td><td>0.0</td><td>0.0</td><td>0.0</td><td>0.0</td><td>0.0</td><td>0.0</td><td>0.0</td><td>0.0</td><td>0.0</td><td>0.0</td><td>0.0</td><td>0.0</td><td>0.0</td><td>0.0</td></tr><tr><td>&quot;25%&quot;</td><td>8000.0</td><td>8000.0</td><td>8000.0</td><td>47400.0</td><td>11.78</td><td>5985.0</td><td>31.8</td><td>28645.0</td><td>8550.0</td><td>2301.0</td><td>14600.0</td><td>3030.0</td><td>1716.0</td><td>35.8</td><td>0.0</td><td>49992.0</td><td>20796.0</td><td>8300.0</td><td>14985.0</td></tr><tr><td>&quot;50%&quot;</td><td>12250.0</td><td>12250.0</td><td>12175.0</td><td>65300.0</td><td>17.6</td><td>11328.0</td><td>50.5</td><td>76345.0</td><td>22761.0</td><td>4403.0</td><td>25400.0</td><td>7101.0</td><td>5398.0</td><td>60.5</td><td>0.0</td><td>110983.0</td><td>37579.0</td><td>16200.0</td><td>32300.0</td></tr><tr><td>&quot;75%&quot;</td><td>20000.0</td><td>20000.0</td><td>20000.0</td><td>95000.0</td><td>24.04</td><td>20209.0</td><td>69.5</td><td>209472.0</td><td>45379.0</td><td>7558.0</td><td>43000.0</td><td>18351.0</td><td>14057.0</td><td>83.2</td><td>0.0</td><td>253448.0</td><td>63803.0</td><td>30200.0</td><td>58063.0</td></tr><tr><td>&quot;max&quot;</td><td>40000.0</td><td>40000.0</td><td>40000.0</td><td>1.1e8</td><td>49.96</td><td>2.904836e6</td><td>892.3</td><td>9.971659e6</td><td>1.837038e6</td><td>1.170668e6</td><td>9.999999e6</td><td>958084.0</td><td>711140.0</td><td>339.6</td><td>249925.0</td><td>9.999999e6</td><td>3.408095e6</td><td>1.569e6</td><td>2.118996e6</td></tr></tbody></table></div>"
      ],
      "text/plain": [
       "shape: (9, 20)\n",
       "┌───────────┬───────────┬───────────┬───────────┬───┬───────────┬───────────┬───────────┬──────────┐\n",
       "│ describe  ┆ loan_amnt ┆ funded_am ┆ funded_am ┆ … ┆ tot_hi_cr ┆ total_bal ┆ total_bc_ ┆ total_il │\n",
       "│ ---       ┆ ---       ┆ nt        ┆ nt_inv    ┆   ┆ ed_lim    ┆ _ex_mort  ┆ limit     ┆ _high_cr │\n",
       "│ str       ┆ f64       ┆ ---       ┆ ---       ┆   ┆ ---       ┆ ---       ┆ ---       ┆ edit_lim │\n",
       "│           ┆           ┆ f64       ┆ f64       ┆   ┆ f64       ┆ f64       ┆ f64       ┆ it       │\n",
       "│           ┆           ┆           ┆           ┆   ┆           ┆           ┆           ┆ ---      │\n",
       "│           ┆           ┆           ┆           ┆   ┆           ┆           ┆           ┆ f64      │\n",
       "╞═══════════╪═══════════╪═══════════╪═══════════╪═══╪═══════════╪═══════════╪═══════════╪══════════╡\n",
       "│ count     ┆ 2.139958e ┆ 2.139958e ┆ 2.139958e ┆ … ┆ 2.139958e ┆ 2.139958e ┆ 2.139958e ┆ 2.139958 │\n",
       "│           ┆ 6         ┆ 6         ┆ 6         ┆   ┆ 6         ┆ 6         ┆ 6         ┆ e6       │\n",
       "│ null_coun ┆ 0.0       ┆ 0.0       ┆ 0.0       ┆ … ┆ 70276.0   ┆ 50030.0   ┆ 50030.0   ┆ 70276.0  │\n",
       "│ t         ┆           ┆           ┆           ┆   ┆           ┆           ┆           ┆          │\n",
       "│ mean      ┆ 14788.275 ┆ 14782.715 ┆ 14763.712 ┆ … ┆ 175742.68 ┆ 50734.088 ┆ 23157.266 ┆ 43287.47 │\n",
       "│           ┆ 564       ┆ 958       ┆ 471       ┆   ┆ 5667      ┆ 904       ┆ 146       ┆ 4086     │\n",
       "│ std       ┆ 9035.8172 ┆ 9033.6890 ┆ 9037.5296 ┆ … ┆ 180907.81 ┆ 49837.616 ┆ 22968.967 ┆ 44851.09 │\n",
       "│           ┆ 71        ┆ 41        ┆ 29        ┆   ┆ 3679      ┆ 348       ┆ 33        ┆ 8781     │\n",
       "│ min       ┆ 500.0     ┆ 500.0     ┆ 0.0       ┆ … ┆ 0.0       ┆ 0.0       ┆ 0.0       ┆ 0.0      │\n",
       "│ 25%       ┆ 8000.0    ┆ 8000.0    ┆ 8000.0    ┆ … ┆ 49992.0   ┆ 20796.0   ┆ 8300.0    ┆ 14985.0  │\n",
       "│ 50%       ┆ 12250.0   ┆ 12250.0   ┆ 12175.0   ┆ … ┆ 110983.0  ┆ 37579.0   ┆ 16200.0   ┆ 32300.0  │\n",
       "│ 75%       ┆ 20000.0   ┆ 20000.0   ┆ 20000.0   ┆ … ┆ 253448.0  ┆ 63803.0   ┆ 30200.0   ┆ 58063.0  │\n",
       "│ max       ┆ 40000.0   ┆ 40000.0   ┆ 40000.0   ┆ … ┆ 9.999999e ┆ 3.408095e ┆ 1.569e6   ┆ 2.118996 │\n",
       "│           ┆           ┆           ┆           ┆   ┆ 6         ┆ 6         ┆           ┆ e6       │\n",
       "└───────────┴───────────┴───────────┴───────────┴───┴───────────┴───────────┴───────────┴──────────┘"
      ]
     },
     "execution_count": 52,
     "metadata": {},
     "output_type": "execute_result"
    }
   ],
   "source": [
    "data_accepted_single[num_features_single].describe()\n"
   ]
  },
  {
   "cell_type": "markdown",
   "metadata": {},
   "source": [
    "##### The distribution of each numeric feature with box plots separated by loan grades:"
   ]
  },
  {
   "cell_type": "code",
   "execution_count": 54,
   "metadata": {},
   "outputs": [
    {
     "data": {
      "image/png": "[encoded data removed]",
      "text/plain": [
       "<Figure size 850x675 with 4 Axes>"
      ]
     },
     "metadata": {},
     "output_type": "display_data"
    }
   ],
   "source": [
    "interesting_features = [\"loan_amnt\", \"annual_inc\", \"dti\", \"tot_cur_bal\"]\n",
    "fig_single_boxes, ax_single_boxes = plt.subplots(\n",
    "    2, 2, figsize=(BASE_FIG_SIZE[0], BASE_FIG_SIZE[1] * 1.5)\n",
    ")\n",
    "ax_single_boxes = ax_single_boxes.flatten()\n",
    "for i, feature in enumerate(interesting_features):\n",
    "    sns.boxplot(\n",
    "        x=data_accepted_single.select([feature, \"grade\"])\n",
    "        .drop_nulls()\n",
    "        .sample(10000, seed=1)\n",
    "        .sort(\"grade\")[\"grade\"]\n",
    "        .to_numpy(),\n",
    "        y=data_accepted_single.select([feature, \"grade\"])\n",
    "        .drop_nulls()\n",
    "        .sample(10000, seed=1)\n",
    "        .sort(\"grade\")[feature]\n",
    "        .to_numpy(),\n",
    "        ax=ax_single_boxes[i],\n",
    "    )\n",
    "    ax_single_boxes[i].set_title(feature)\n",
    "    ax_single_boxes[i].set_yscale(\"log\")\n",
    "    plt.tight_layout()\n",
    "plt.show()"
   ]
  },
  {
   "cell_type": "markdown",
   "metadata": {},
   "source": [
    "#### <a id='toc4_4_2_'></a>[Statistical Inference](#toc0_)"
   ]
  },
  {
   "cell_type": "markdown",
   "metadata": {},
   "source": [
    "##### The Kruskal-Wallis test for each feature with the null hypothesis that there is no difference in each feature among various loan grade populations:"
   ]
  },
  {
   "cell_type": "code",
   "execution_count": 55,
   "metadata": {},
   "outputs": [
    {
     "data": {
      "text/markdown": [
       "Reject the null hypothesis: There are significant differences in 'loan_amnt' between groups in 'grade'."
      ],
      "text/plain": [
       "<IPython.core.display.Markdown object>"
      ]
     },
     "metadata": {},
     "output_type": "display_data"
    },
    {
     "data": {
      "text/markdown": [
       "Reject the null hypothesis: There are significant differences in 'funded_amnt' between groups in 'grade'."
      ],
      "text/plain": [
       "<IPython.core.display.Markdown object>"
      ]
     },
     "metadata": {},
     "output_type": "display_data"
    },
    {
     "data": {
      "text/markdown": [
       "Reject the null hypothesis: There are significant differences in 'funded_amnt_inv' between groups in 'grade'."
      ],
      "text/plain": [
       "<IPython.core.display.Markdown object>"
      ]
     },
     "metadata": {},
     "output_type": "display_data"
    },
    {
     "data": {
      "text/markdown": [
       "Reject the null hypothesis: There are significant differences in 'annual_inc' between groups in 'grade'."
      ],
      "text/plain": [
       "<IPython.core.display.Markdown object>"
      ]
     },
     "metadata": {},
     "output_type": "display_data"
    },
    {
     "data": {
      "text/markdown": [
       "Reject the null hypothesis: There are significant differences in 'dti' between groups in 'grade'."
      ],
      "text/plain": [
       "<IPython.core.display.Markdown object>"
      ]
     },
     "metadata": {},
     "output_type": "display_data"
    },
    {
     "data": {
      "text/markdown": [
       "Reject the null hypothesis: There are significant differences in 'revol_bal' between groups in 'grade'."
      ],
      "text/plain": [
       "<IPython.core.display.Markdown object>"
      ]
     },
     "metadata": {},
     "output_type": "display_data"
    },
    {
     "data": {
      "text/markdown": [
       "Reject the null hypothesis: There are significant differences in 'revol_util' between groups in 'grade'."
      ],
      "text/plain": [
       "<IPython.core.display.Markdown object>"
      ]
     },
     "metadata": {},
     "output_type": "display_data"
    },
    {
     "data": {
      "text/markdown": [
       "Reject the null hypothesis: There are significant differences in 'tot_cur_bal' between groups in 'grade'."
      ],
      "text/plain": [
       "<IPython.core.display.Markdown object>"
      ]
     },
     "metadata": {},
     "output_type": "display_data"
    },
    {
     "data": {
      "text/markdown": [
       "Reject the null hypothesis: There are significant differences in 'total_bal_il' between groups in 'grade'."
      ],
      "text/plain": [
       "<IPython.core.display.Markdown object>"
      ]
     },
     "metadata": {},
     "output_type": "display_data"
    },
    {
     "data": {
      "text/markdown": [
       "Reject the null hypothesis: There are significant differences in 'max_bal_bc' between groups in 'grade'."
      ],
      "text/plain": [
       "<IPython.core.display.Markdown object>"
      ]
     },
     "metadata": {},
     "output_type": "display_data"
    },
    {
     "data": {
      "text/markdown": [
       "Reject the null hypothesis: There are significant differences in 'total_rev_hi_lim' between groups in 'grade'."
      ],
      "text/plain": [
       "<IPython.core.display.Markdown object>"
      ]
     },
     "metadata": {},
     "output_type": "display_data"
    },
    {
     "data": {
      "text/markdown": [
       "Reject the null hypothesis: There are significant differences in 'avg_cur_bal' between groups in 'grade'."
      ],
      "text/plain": [
       "<IPython.core.display.Markdown object>"
      ]
     },
     "metadata": {},
     "output_type": "display_data"
    },
    {
     "data": {
      "text/markdown": [
       "Reject the null hypothesis: There are significant differences in 'bc_open_to_buy' between groups in 'grade'."
      ],
      "text/plain": [
       "<IPython.core.display.Markdown object>"
      ]
     },
     "metadata": {},
     "output_type": "display_data"
    },
    {
     "data": {
      "text/markdown": [
       "Reject the null hypothesis: There are significant differences in 'bc_util' between groups in 'grade'."
      ],
      "text/plain": [
       "<IPython.core.display.Markdown object>"
      ]
     },
     "metadata": {},
     "output_type": "display_data"
    },
    {
     "data": {
      "text/markdown": [
       "Reject the null hypothesis: There are significant differences in 'delinq_amnt' between groups in 'grade'."
      ],
      "text/plain": [
       "<IPython.core.display.Markdown object>"
      ]
     },
     "metadata": {},
     "output_type": "display_data"
    },
    {
     "data": {
      "text/markdown": [
       "Reject the null hypothesis: There are significant differences in 'tot_hi_cred_lim' between groups in 'grade'."
      ],
      "text/plain": [
       "<IPython.core.display.Markdown object>"
      ]
     },
     "metadata": {},
     "output_type": "display_data"
    },
    {
     "data": {
      "text/markdown": [
       "Reject the null hypothesis: There are significant differences in 'total_bal_ex_mort' between groups in 'grade'."
      ],
      "text/plain": [
       "<IPython.core.display.Markdown object>"
      ]
     },
     "metadata": {},
     "output_type": "display_data"
    },
    {
     "data": {
      "text/markdown": [
       "Reject the null hypothesis: There are significant differences in 'total_bc_limit' between groups in 'grade'."
      ],
      "text/plain": [
       "<IPython.core.display.Markdown object>"
      ]
     },
     "metadata": {},
     "output_type": "display_data"
    },
    {
     "data": {
      "text/markdown": [
       "Reject the null hypothesis: There are significant differences in 'total_il_high_credit_limit' between groups in 'grade'."
      ],
      "text/plain": [
       "<IPython.core.display.Markdown object>"
      ]
     },
     "metadata": {},
     "output_type": "display_data"
    }
   ],
   "source": [
    "kruskals_single = {}\n",
    "for feature in num_features_single:\n",
    "    kruskals_single[feature] = st.kruskal_polars(\n",
    "        data_accepted_single, \"grade\", feature, alpha=ALPHA\n",
    "    )\n",
    "    display(Markdown(kruskals_single[feature][\"message\"]))\n"
   ]
  },
  {
   "cell_type": "markdown",
   "metadata": {},
   "source": [
    "##### The Kruskal-Wallis test for each feature with the null hypothesis that there is no difference in each joint application feature among various loan grade populations:"
   ]
  },
  {
   "cell_type": "code",
   "execution_count": 58,
   "metadata": {},
   "outputs": [
    {
     "data": {
      "text/markdown": [
       "Reject the null hypothesis: There are significant differences in 'loan_amnt' between groups in 'grade'."
      ],
      "text/plain": [
       "<IPython.core.display.Markdown object>"
      ]
     },
     "metadata": {},
     "output_type": "display_data"
    },
    {
     "data": {
      "text/markdown": [
       "Reject the null hypothesis: There are significant differences in 'funded_amnt' between groups in 'grade'."
      ],
      "text/plain": [
       "<IPython.core.display.Markdown object>"
      ]
     },
     "metadata": {},
     "output_type": "display_data"
    },
    {
     "data": {
      "text/markdown": [
       "Reject the null hypothesis: There are significant differences in 'funded_amnt_inv' between groups in 'grade'."
      ],
      "text/plain": [
       "<IPython.core.display.Markdown object>"
      ]
     },
     "metadata": {},
     "output_type": "display_data"
    },
    {
     "data": {
      "text/markdown": [
       "Reject the null hypothesis: There are significant differences in 'annual_inc' between groups in 'grade'."
      ],
      "text/plain": [
       "<IPython.core.display.Markdown object>"
      ]
     },
     "metadata": {},
     "output_type": "display_data"
    },
    {
     "data": {
      "text/markdown": [
       "Reject the null hypothesis: There are significant differences in 'dti' between groups in 'grade'."
      ],
      "text/plain": [
       "<IPython.core.display.Markdown object>"
      ]
     },
     "metadata": {},
     "output_type": "display_data"
    },
    {
     "data": {
      "text/markdown": [
       "Reject the null hypothesis: There are significant differences in 'revol_bal' between groups in 'grade'."
      ],
      "text/plain": [
       "<IPython.core.display.Markdown object>"
      ]
     },
     "metadata": {},
     "output_type": "display_data"
    },
    {
     "data": {
      "text/markdown": [
       "Reject the null hypothesis: There are significant differences in 'revol_util' between groups in 'grade'."
      ],
      "text/plain": [
       "<IPython.core.display.Markdown object>"
      ]
     },
     "metadata": {},
     "output_type": "display_data"
    },
    {
     "data": {
      "text/markdown": [
       "Reject the null hypothesis: There are significant differences in 'annual_inc_joint' between groups in 'grade'."
      ],
      "text/plain": [
       "<IPython.core.display.Markdown object>"
      ]
     },
     "metadata": {},
     "output_type": "display_data"
    },
    {
     "data": {
      "text/markdown": [
       "Reject the null hypothesis: There are significant differences in 'dti_joint' between groups in 'grade'."
      ],
      "text/plain": [
       "<IPython.core.display.Markdown object>"
      ]
     },
     "metadata": {},
     "output_type": "display_data"
    },
    {
     "data": {
      "text/markdown": [
       "Reject the null hypothesis: There are significant differences in 'tot_cur_bal' between groups in 'grade'."
      ],
      "text/plain": [
       "<IPython.core.display.Markdown object>"
      ]
     },
     "metadata": {},
     "output_type": "display_data"
    },
    {
     "data": {
      "text/markdown": [
       "Reject the null hypothesis: There are significant differences in 'total_bal_il' between groups in 'grade'."
      ],
      "text/plain": [
       "<IPython.core.display.Markdown object>"
      ]
     },
     "metadata": {},
     "output_type": "display_data"
    },
    {
     "data": {
      "text/markdown": [
       "Reject the null hypothesis: There are significant differences in 'max_bal_bc' between groups in 'grade'."
      ],
      "text/plain": [
       "<IPython.core.display.Markdown object>"
      ]
     },
     "metadata": {},
     "output_type": "display_data"
    },
    {
     "data": {
      "text/markdown": [
       "Reject the null hypothesis: There are significant differences in 'total_rev_hi_lim' between groups in 'grade'."
      ],
      "text/plain": [
       "<IPython.core.display.Markdown object>"
      ]
     },
     "metadata": {},
     "output_type": "display_data"
    },
    {
     "data": {
      "text/markdown": [
       "Reject the null hypothesis: There are significant differences in 'avg_cur_bal' between groups in 'grade'."
      ],
      "text/plain": [
       "<IPython.core.display.Markdown object>"
      ]
     },
     "metadata": {},
     "output_type": "display_data"
    },
    {
     "data": {
      "text/markdown": [
       "Reject the null hypothesis: There are significant differences in 'bc_open_to_buy' between groups in 'grade'."
      ],
      "text/plain": [
       "<IPython.core.display.Markdown object>"
      ]
     },
     "metadata": {},
     "output_type": "display_data"
    },
    {
     "data": {
      "text/markdown": [
       "Reject the null hypothesis: There are significant differences in 'bc_util' between groups in 'grade'."
      ],
      "text/plain": [
       "<IPython.core.display.Markdown object>"
      ]
     },
     "metadata": {},
     "output_type": "display_data"
    },
    {
     "data": {
      "text/markdown": [
       "Reject the null hypothesis: There are significant differences in 'tot_hi_cred_lim' between groups in 'grade'."
      ],
      "text/plain": [
       "<IPython.core.display.Markdown object>"
      ]
     },
     "metadata": {},
     "output_type": "display_data"
    },
    {
     "data": {
      "text/markdown": [
       "Reject the null hypothesis: There are significant differences in 'total_bal_ex_mort' between groups in 'grade'."
      ],
      "text/plain": [
       "<IPython.core.display.Markdown object>"
      ]
     },
     "metadata": {},
     "output_type": "display_data"
    },
    {
     "data": {
      "text/markdown": [
       "Reject the null hypothesis: There are significant differences in 'total_bc_limit' between groups in 'grade'."
      ],
      "text/plain": [
       "<IPython.core.display.Markdown object>"
      ]
     },
     "metadata": {},
     "output_type": "display_data"
    },
    {
     "data": {
      "text/markdown": [
       "Reject the null hypothesis: There are significant differences in 'total_il_high_credit_limit' between groups in 'grade'."
      ],
      "text/plain": [
       "<IPython.core.display.Markdown object>"
      ]
     },
     "metadata": {},
     "output_type": "display_data"
    },
    {
     "data": {
      "text/markdown": [
       "Reject the null hypothesis: There are significant differences in 'revol_bal_joint' between groups in 'grade'."
      ],
      "text/plain": [
       "<IPython.core.display.Markdown object>"
      ]
     },
     "metadata": {},
     "output_type": "display_data"
    },
    {
     "data": {
      "text/markdown": [
       "Reject the null hypothesis: There are significant differences in 'sec_app_revol_util' between groups in 'grade'."
      ],
      "text/plain": [
       "<IPython.core.display.Markdown object>"
      ]
     },
     "metadata": {},
     "output_type": "display_data"
    }
   ],
   "source": [
    "kruskals_joint = {}\n",
    "for feature in num_features_joint:\n",
    "    kruskals_joint[feature] = st.kruskal_polars(\n",
    "        data_accepted_joint, \"grade\", feature, alpha=ALPHA\n",
    "    )\n",
    "    display(Markdown(kruskals_joint[feature][\"message\"]))\n"
   ]
  },
  {
   "cell_type": "markdown",
   "metadata": {},
   "source": [
    "No numerical features were eliminated based on statistical analysis of their relationship with the target variable."
   ]
  },
  {
   "cell_type": "markdown",
   "metadata": {},
   "source": [
    "#### <a id='toc4_4_3_'></a>[Correlating Feature Analysis](#toc0_)"
   ]
  },
  {
   "cell_type": "markdown",
   "metadata": {},
   "source": [
    "##### Calculating the variance inflation factor amongst the features:"
   ]
  },
  {
   "cell_type": "code",
   "execution_count": 64,
   "metadata": {},
   "outputs": [
    {
     "data": {
      "text/html": [
       "<div><style>\n",
       ".dataframe > thead > tr > th,\n",
       ".dataframe > tbody > tr > td {\n",
       "  text-align: right;\n",
       "  white-space: pre-wrap;\n",
       "}\n",
       "</style>\n",
       "<small>shape: (19, 2)</small><table border=\"1\" class=\"dataframe\"><thead><tr><th>variables</th><th>VIF</th></tr><tr><td>str</td><td>f64</td></tr></thead><tbody><tr><td>&quot;funded_amnt&quot;</td><td>2.6885e6</td></tr><tr><td>&quot;loan_amnt&quot;</td><td>2.3775e6</td></tr><tr><td>&quot;funded_amnt_in…</td><td>311324.841422</td></tr><tr><td>&quot;total_bal_ex_m…</td><td>96.819309</td></tr><tr><td>&quot;total_bal_il&quot;</td><td>79.042325</td></tr><tr><td>&quot;tot_hi_cred_li…</td><td>70.074334</td></tr><tr><td>&quot;tot_cur_bal&quot;</td><td>64.65295</td></tr><tr><td>&quot;total_rev_hi_l…</td><td>37.424084</td></tr><tr><td>&quot;total_il_high_…</td><td>30.804876</td></tr><tr><td>&quot;revol_bal&quot;</td><td>27.294683</td></tr><tr><td>&quot;total_bc_limit…</td><td>26.363862</td></tr><tr><td>&quot;revol_util&quot;</td><td>24.648657</td></tr><tr><td>&quot;bc_util&quot;</td><td>22.791464</td></tr><tr><td>&quot;bc_open_to_buy…</td><td>18.858143</td></tr><tr><td>&quot;avg_cur_bal&quot;</td><td>6.84736</td></tr><tr><td>&quot;max_bal_bc&quot;</td><td>6.490833</td></tr><tr><td>&quot;dti&quot;</td><td>5.999094</td></tr><tr><td>&quot;annual_inc&quot;</td><td>1.47286</td></tr><tr><td>&quot;delinq_amnt&quot;</td><td>1.000839</td></tr></tbody></table></div>"
      ],
      "text/plain": [
       "shape: (19, 2)\n",
       "┌───────────────────┬───────────────┐\n",
       "│ variables         ┆ VIF           │\n",
       "│ ---               ┆ ---           │\n",
       "│ str               ┆ f64           │\n",
       "╞═══════════════════╪═══════════════╡\n",
       "│ funded_amnt       ┆ 2.6885e6      │\n",
       "│ loan_amnt         ┆ 2.3775e6      │\n",
       "│ funded_amnt_inv   ┆ 311324.841422 │\n",
       "│ total_bal_ex_mort ┆ 96.819309     │\n",
       "│ …                 ┆ …             │\n",
       "│ max_bal_bc        ┆ 6.490833      │\n",
       "│ dti               ┆ 5.999094      │\n",
       "│ annual_inc        ┆ 1.47286       │\n",
       "│ delinq_amnt       ┆ 1.000839      │\n",
       "└───────────────────┴───────────────┘"
      ]
     },
     "execution_count": 64,
     "metadata": {},
     "output_type": "execute_result"
    }
   ],
   "source": [
    "vif = st.calc_vif(data_accepted_single[num_features_single].drop_nulls())\n",
    "vif\n"
   ]
  },
  {
   "cell_type": "markdown",
   "metadata": {},
   "source": [
    "Only the most highly correlated features, determined by the Variance Inflation Factor (VIF), will be removed. A decision was made not to conduct VIF-based elimination recursively, as this approach aims to preserve more interpretable features within each cluster of correlated features. Additionally, automatic recursive VIF-based elimination lacks the necessary control."
   ]
  },
  {
   "cell_type": "markdown",
   "metadata": {},
   "source": [
    "##### Dropping highly correlated features:"
   ]
  },
  {
   "cell_type": "code",
   "execution_count": 59,
   "metadata": {},
   "outputs": [
    {
     "data": {
      "text/html": [
       "<div><style>\n",
       ".dataframe > thead > tr > th,\n",
       ".dataframe > tbody > tr > td {\n",
       "  text-align: right;\n",
       "  white-space: pre-wrap;\n",
       "}\n",
       "</style>\n",
       "<small>shape: (15, 2)</small><table border=\"1\" class=\"dataframe\"><thead><tr><th>variables</th><th>VIF</th></tr><tr><td>str</td><td>f64</td></tr></thead><tbody><tr><td>&quot;total_rev_hi_l…</td><td>34.442198</td></tr><tr><td>&quot;total_bc_limit…</td><td>26.280143</td></tr><tr><td>&quot;total_il_high_…</td><td>25.922011</td></tr><tr><td>&quot;revol_util&quot;</td><td>24.6299</td></tr><tr><td>&quot;bc_util&quot;</td><td>22.775789</td></tr><tr><td>&quot;total_bal_il&quot;</td><td>19.321747</td></tr><tr><td>&quot;bc_open_to_buy…</td><td>18.834365</td></tr><tr><td>&quot;revol_bal&quot;</td><td>15.742421</td></tr><tr><td>&quot;tot_cur_bal&quot;</td><td>9.508437</td></tr><tr><td>&quot;avg_cur_bal&quot;</td><td>6.839001</td></tr><tr><td>&quot;max_bal_bc&quot;</td><td>6.461074</td></tr><tr><td>&quot;dti&quot;</td><td>5.995816</td></tr><tr><td>&quot;loan_amnt&quot;</td><td>4.239719</td></tr><tr><td>&quot;annual_inc&quot;</td><td>1.471413</td></tr><tr><td>&quot;delinq_amnt&quot;</td><td>1.000827</td></tr></tbody></table></div>"
      ],
      "text/plain": [
       "shape: (15, 2)\n",
       "┌────────────────────────────┬───────────┐\n",
       "│ variables                  ┆ VIF       │\n",
       "│ ---                        ┆ ---       │\n",
       "│ str                        ┆ f64       │\n",
       "╞════════════════════════════╪═══════════╡\n",
       "│ total_rev_hi_lim           ┆ 34.442198 │\n",
       "│ total_bc_limit             ┆ 26.280143 │\n",
       "│ total_il_high_credit_limit ┆ 25.922011 │\n",
       "│ revol_util                 ┆ 24.6299   │\n",
       "│ …                          ┆ …         │\n",
       "│ dti                        ┆ 5.995816  │\n",
       "│ loan_amnt                  ┆ 4.239719  │\n",
       "│ annual_inc                 ┆ 1.471413  │\n",
       "│ delinq_amnt                ┆ 1.000827  │\n",
       "└────────────────────────────┴───────────┘"
      ]
     },
     "execution_count": 59,
     "metadata": {},
     "output_type": "execute_result"
    }
   ],
   "source": [
    "correlating_to_drop = [\n",
    "    \"funded_amnt\",\n",
    "    \"funded_amnt_inv\",\n",
    "    \"total_bal_ex_mort\",\n",
    "    \"tot_hi_cred_lim\",\n",
    "]\n",
    "vif = st.calc_vif(\n",
    "    data_accepted_single[num_features_single]\n",
    "    .drop(columns=correlating_to_drop)\n",
    "    .drop_nulls()\n",
    ")\n",
    "vif\n"
   ]
  },
  {
   "cell_type": "code",
   "execution_count": 60,
   "metadata": {},
   "outputs": [
    {
     "data": {
      "text/html": [
       "<div><style>\n",
       ".dataframe > thead > tr > th,\n",
       ".dataframe > tbody > tr > td {\n",
       "  text-align: right;\n",
       "  white-space: pre-wrap;\n",
       "}\n",
       "</style>\n",
       "<small>shape: (18, 2)</small><table border=\"1\" class=\"dataframe\"><thead><tr><th>variables</th><th>VIF</th></tr><tr><td>str</td><td>f64</td></tr></thead><tbody><tr><td>&quot;total_bc_limit…</td><td>39.625484</td></tr><tr><td>&quot;total_il_high_…</td><td>29.012598</td></tr><tr><td>&quot;bc_open_to_buy…</td><td>27.573577</td></tr><tr><td>&quot;revol_util&quot;</td><td>22.951453</td></tr><tr><td>&quot;total_bal_il&quot;</td><td>22.000702</td></tr><tr><td>&quot;total_rev_hi_l…</td><td>20.543808</td></tr><tr><td>&quot;bc_util&quot;</td><td>20.510393</td></tr><tr><td>&quot;annual_inc_joi…</td><td>13.969368</td></tr><tr><td>&quot;revol_bal&quot;</td><td>11.325888</td></tr><tr><td>&quot;tot_cur_bal&quot;</td><td>10.153163</td></tr><tr><td>&quot;dti_joint&quot;</td><td>8.799899</td></tr><tr><td>&quot;sec_app_revol_…</td><td>7.935014</td></tr><tr><td>&quot;max_bal_bc&quot;</td><td>7.564656</td></tr><tr><td>&quot;annual_inc&quot;</td><td>7.390748</td></tr><tr><td>&quot;avg_cur_bal&quot;</td><td>6.953631</td></tr><tr><td>&quot;revol_bal_join…</td><td>6.37361</td></tr><tr><td>&quot;loan_amnt&quot;</td><td>4.999495</td></tr><tr><td>&quot;dti&quot;</td><td>1.682942</td></tr></tbody></table></div>"
      ],
      "text/plain": [
       "shape: (18, 2)\n",
       "┌────────────────────────────┬───────────┐\n",
       "│ variables                  ┆ VIF       │\n",
       "│ ---                        ┆ ---       │\n",
       "│ str                        ┆ f64       │\n",
       "╞════════════════════════════╪═══════════╡\n",
       "│ total_bc_limit             ┆ 39.625484 │\n",
       "│ total_il_high_credit_limit ┆ 29.012598 │\n",
       "│ bc_open_to_buy             ┆ 27.573577 │\n",
       "│ revol_util                 ┆ 22.951453 │\n",
       "│ …                          ┆ …         │\n",
       "│ avg_cur_bal                ┆ 6.953631  │\n",
       "│ revol_bal_joint            ┆ 6.37361   │\n",
       "│ loan_amnt                  ┆ 4.999495  │\n",
       "│ dti                        ┆ 1.682942  │\n",
       "└────────────────────────────┴───────────┘"
      ]
     },
     "execution_count": 60,
     "metadata": {},
     "output_type": "execute_result"
    }
   ],
   "source": [
    "vif_joint = st.calc_vif(\n",
    "    data_accepted_joint[num_features_joint]\n",
    "    .drop(columns=correlating_to_drop)\n",
    "    .drop_nulls()\n",
    ")\n",
    "vif_joint\n"
   ]
  },
  {
   "cell_type": "markdown",
   "metadata": {},
   "source": [
    "No joint application features were dropped based on VIF analysis."
   ]
  },
  {
   "cell_type": "markdown",
   "metadata": {},
   "source": [
    "### <a id='toc4_5_'></a>[Categorical Feature Analysis](#toc0_)"
   ]
  },
  {
   "cell_type": "markdown",
   "metadata": {},
   "source": [
    "#### <a id='toc4_5_1_'></a>[Visual Overview](#toc0_)"
   ]
  },
  {
   "cell_type": "markdown",
   "metadata": {},
   "source": [
    "Visualizing the relationship between categorical features and the target variable using frequency heatmaps, which display the fraction of each category for each loan grade:"
   ]
  },
  {
   "cell_type": "code",
   "execution_count": 64,
   "metadata": {},
   "outputs": [
    {
     "data": {
      "image/png": "[encoded data removed]",
      "text/plain": [
       "<Figure size 850x675 with 6 Axes>"
      ]
     },
     "metadata": {},
     "output_type": "display_data"
    }
   ],
   "source": [
    "interesting_features_cat = [\"term\", \"verification_status\", \"initial_list_status\"]\n",
    "fig_cats, ax_cats = plt.subplots(\n",
    "    2, 2, figsize=(BASE_FIG_SIZE[0], BASE_FIG_SIZE[1] * 1.5)\n",
    ")\n",
    "ax_cats = ax_cats.flatten()\n",
    "for i, feature in enumerate(interesting_features_cat):\n",
    "    pf.create_heatmap(\n",
    "        data_accepted_single,\n",
    "        \"grade\",\n",
    "        feature,\n",
    "        ax=ax_cats[i],\n",
    "        annot=True,\n",
    "        fmt=\".1f\",\n",
    "        annot_kws={\"fontsize\": 9},\n",
    "    )\n",
    "plt.delaxes(ax_cats[-1])\n",
    "plt.tight_layout()\n",
    "plt.show()"
   ]
  },
  {
   "cell_type": "markdown",
   "metadata": {},
   "source": [
    "#### <a id='toc4_5_2_'></a>[Statistical Inference](#toc0_)"
   ]
  },
  {
   "cell_type": "markdown",
   "metadata": {},
   "source": [
    "##### Chi-squared test with the null hypothesis that there are no differences in categorical features amongst loan grades:"
   ]
  },
  {
   "cell_type": "code",
   "execution_count": 65,
   "metadata": {},
   "outputs": [
    {
     "data": {
      "text/markdown": [
       "Reject the null hypothesis: There are significant differences in 'term' between groups in 'grade'."
      ],
      "text/plain": [
       "<IPython.core.display.Markdown object>"
      ]
     },
     "metadata": {},
     "output_type": "display_data"
    },
    {
     "data": {
      "text/markdown": [
       "Reject the null hypothesis: There are significant differences in 'emp_title' between groups in 'grade'."
      ],
      "text/plain": [
       "<IPython.core.display.Markdown object>"
      ]
     },
     "metadata": {},
     "output_type": "display_data"
    },
    {
     "data": {
      "text/markdown": [
       "Reject the null hypothesis: There are significant differences in 'emp_length' between groups in 'grade'."
      ],
      "text/plain": [
       "<IPython.core.display.Markdown object>"
      ]
     },
     "metadata": {},
     "output_type": "display_data"
    },
    {
     "data": {
      "text/markdown": [
       "Reject the null hypothesis: There are significant differences in 'home_ownership' between groups in 'grade'."
      ],
      "text/plain": [
       "<IPython.core.display.Markdown object>"
      ]
     },
     "metadata": {},
     "output_type": "display_data"
    },
    {
     "data": {
      "text/markdown": [
       "Reject the null hypothesis: There are significant differences in 'verification_status' between groups in 'grade'."
      ],
      "text/plain": [
       "<IPython.core.display.Markdown object>"
      ]
     },
     "metadata": {},
     "output_type": "display_data"
    },
    {
     "data": {
      "text/markdown": [
       "Reject the null hypothesis: There are significant differences in 'issue_d' between groups in 'grade'."
      ],
      "text/plain": [
       "<IPython.core.display.Markdown object>"
      ]
     },
     "metadata": {},
     "output_type": "display_data"
    },
    {
     "data": {
      "text/markdown": [
       "Reject the null hypothesis: There are significant differences in 'pymnt_plan' between groups in 'grade'."
      ],
      "text/plain": [
       "<IPython.core.display.Markdown object>"
      ]
     },
     "metadata": {},
     "output_type": "display_data"
    },
    {
     "data": {
      "text/markdown": [
       "Reject the null hypothesis: There are significant differences in 'purpose' between groups in 'grade'."
      ],
      "text/plain": [
       "<IPython.core.display.Markdown object>"
      ]
     },
     "metadata": {},
     "output_type": "display_data"
    },
    {
     "data": {
      "text/markdown": [
       "Reject the null hypothesis: There are significant differences in 'zip_code' between groups in 'grade'."
      ],
      "text/plain": [
       "<IPython.core.display.Markdown object>"
      ]
     },
     "metadata": {},
     "output_type": "display_data"
    },
    {
     "data": {
      "text/markdown": [
       "Reject the null hypothesis: There are significant differences in 'addr_state' between groups in 'grade'."
      ],
      "text/plain": [
       "<IPython.core.display.Markdown object>"
      ]
     },
     "metadata": {},
     "output_type": "display_data"
    },
    {
     "data": {
      "text/markdown": [
       "Reject the null hypothesis: There are significant differences in 'delinq_2yrs' between groups in 'grade'."
      ],
      "text/plain": [
       "<IPython.core.display.Markdown object>"
      ]
     },
     "metadata": {},
     "output_type": "display_data"
    },
    {
     "data": {
      "text/markdown": [
       "Reject the null hypothesis: There are significant differences in 'earliest_cr_line' between groups in 'grade'."
      ],
      "text/plain": [
       "<IPython.core.display.Markdown object>"
      ]
     },
     "metadata": {},
     "output_type": "display_data"
    },
    {
     "data": {
      "text/markdown": [
       "Reject the null hypothesis: There are significant differences in 'fico_range_low' between groups in 'grade'."
      ],
      "text/plain": [
       "<IPython.core.display.Markdown object>"
      ]
     },
     "metadata": {},
     "output_type": "display_data"
    },
    {
     "data": {
      "text/markdown": [
       "Reject the null hypothesis: There are significant differences in 'fico_range_high' between groups in 'grade'."
      ],
      "text/plain": [
       "<IPython.core.display.Markdown object>"
      ]
     },
     "metadata": {},
     "output_type": "display_data"
    },
    {
     "data": {
      "text/markdown": [
       "Reject the null hypothesis: There are significant differences in 'inq_last_6mths' between groups in 'grade'."
      ],
      "text/plain": [
       "<IPython.core.display.Markdown object>"
      ]
     },
     "metadata": {},
     "output_type": "display_data"
    },
    {
     "data": {
      "text/markdown": [
       "Reject the null hypothesis: There are significant differences in 'mths_since_last_delinq' between groups in 'grade'."
      ],
      "text/plain": [
       "<IPython.core.display.Markdown object>"
      ]
     },
     "metadata": {},
     "output_type": "display_data"
    },
    {
     "data": {
      "text/markdown": [
       "Reject the null hypothesis: There are significant differences in 'mths_since_last_record' between groups in 'grade'."
      ],
      "text/plain": [
       "<IPython.core.display.Markdown object>"
      ]
     },
     "metadata": {},
     "output_type": "display_data"
    },
    {
     "data": {
      "text/markdown": [
       "Reject the null hypothesis: There are significant differences in 'open_acc' between groups in 'grade'."
      ],
      "text/plain": [
       "<IPython.core.display.Markdown object>"
      ]
     },
     "metadata": {},
     "output_type": "display_data"
    },
    {
     "data": {
      "text/markdown": [
       "Reject the null hypothesis: There are significant differences in 'pub_rec' between groups in 'grade'."
      ],
      "text/plain": [
       "<IPython.core.display.Markdown object>"
      ]
     },
     "metadata": {},
     "output_type": "display_data"
    },
    {
     "data": {
      "text/markdown": [
       "Reject the null hypothesis: There are significant differences in 'total_acc' between groups in 'grade'."
      ],
      "text/plain": [
       "<IPython.core.display.Markdown object>"
      ]
     },
     "metadata": {},
     "output_type": "display_data"
    },
    {
     "data": {
      "text/markdown": [
       "Reject the null hypothesis: There are significant differences in 'initial_list_status' between groups in 'grade'."
      ],
      "text/plain": [
       "<IPython.core.display.Markdown object>"
      ]
     },
     "metadata": {},
     "output_type": "display_data"
    },
    {
     "data": {
      "text/markdown": [
       "Reject the null hypothesis: There are significant differences in 'last_credit_pull_d' between groups in 'grade'."
      ],
      "text/plain": [
       "<IPython.core.display.Markdown object>"
      ]
     },
     "metadata": {},
     "output_type": "display_data"
    },
    {
     "data": {
      "text/markdown": [
       "Reject the null hypothesis: There are significant differences in 'last_fico_range_high' between groups in 'grade'."
      ],
      "text/plain": [
       "<IPython.core.display.Markdown object>"
      ]
     },
     "metadata": {},
     "output_type": "display_data"
    },
    {
     "data": {
      "text/markdown": [
       "Reject the null hypothesis: There are significant differences in 'last_fico_range_low' between groups in 'grade'."
      ],
      "text/plain": [
       "<IPython.core.display.Markdown object>"
      ]
     },
     "metadata": {},
     "output_type": "display_data"
    },
    {
     "data": {
      "text/markdown": [
       "Reject the null hypothesis: There are significant differences in 'mths_since_last_major_derog' between groups in 'grade'."
      ],
      "text/plain": [
       "<IPython.core.display.Markdown object>"
      ]
     },
     "metadata": {},
     "output_type": "display_data"
    },
    {
     "data": {
      "text/markdown": [
       "Reject the null hypothesis: There are significant differences in 'acc_now_delinq' between groups in 'grade'."
      ],
      "text/plain": [
       "<IPython.core.display.Markdown object>"
      ]
     },
     "metadata": {},
     "output_type": "display_data"
    },
    {
     "data": {
      "text/markdown": [
       "Reject the null hypothesis: There are significant differences in 'open_acc_6m' between groups in 'grade'."
      ],
      "text/plain": [
       "<IPython.core.display.Markdown object>"
      ]
     },
     "metadata": {},
     "output_type": "display_data"
    },
    {
     "data": {
      "text/markdown": [
       "Reject the null hypothesis: There are significant differences in 'open_act_il' between groups in 'grade'."
      ],
      "text/plain": [
       "<IPython.core.display.Markdown object>"
      ]
     },
     "metadata": {},
     "output_type": "display_data"
    },
    {
     "data": {
      "text/markdown": [
       "Reject the null hypothesis: There are significant differences in 'open_il_12m' between groups in 'grade'."
      ],
      "text/plain": [
       "<IPython.core.display.Markdown object>"
      ]
     },
     "metadata": {},
     "output_type": "display_data"
    },
    {
     "data": {
      "text/markdown": [
       "Reject the null hypothesis: There are significant differences in 'open_il_24m' between groups in 'grade'."
      ],
      "text/plain": [
       "<IPython.core.display.Markdown object>"
      ]
     },
     "metadata": {},
     "output_type": "display_data"
    },
    {
     "data": {
      "text/markdown": [
       "Reject the null hypothesis: There are significant differences in 'mths_since_rcnt_il' between groups in 'grade'."
      ],
      "text/plain": [
       "<IPython.core.display.Markdown object>"
      ]
     },
     "metadata": {},
     "output_type": "display_data"
    },
    {
     "data": {
      "text/markdown": [
       "Reject the null hypothesis: There are significant differences in 'il_util' between groups in 'grade'."
      ],
      "text/plain": [
       "<IPython.core.display.Markdown object>"
      ]
     },
     "metadata": {},
     "output_type": "display_data"
    },
    {
     "data": {
      "text/markdown": [
       "Reject the null hypothesis: There are significant differences in 'open_rv_12m' between groups in 'grade'."
      ],
      "text/plain": [
       "<IPython.core.display.Markdown object>"
      ]
     },
     "metadata": {},
     "output_type": "display_data"
    },
    {
     "data": {
      "text/markdown": [
       "Reject the null hypothesis: There are significant differences in 'open_rv_24m' between groups in 'grade'."
      ],
      "text/plain": [
       "<IPython.core.display.Markdown object>"
      ]
     },
     "metadata": {},
     "output_type": "display_data"
    },
    {
     "data": {
      "text/markdown": [
       "Reject the null hypothesis: There are significant differences in 'all_util' between groups in 'grade'."
      ],
      "text/plain": [
       "<IPython.core.display.Markdown object>"
      ]
     },
     "metadata": {},
     "output_type": "display_data"
    },
    {
     "data": {
      "text/markdown": [
       "Reject the null hypothesis: There are significant differences in 'inq_fi' between groups in 'grade'."
      ],
      "text/plain": [
       "<IPython.core.display.Markdown object>"
      ]
     },
     "metadata": {},
     "output_type": "display_data"
    },
    {
     "data": {
      "text/markdown": [
       "Reject the null hypothesis: There are significant differences in 'total_cu_tl' between groups in 'grade'."
      ],
      "text/plain": [
       "<IPython.core.display.Markdown object>"
      ]
     },
     "metadata": {},
     "output_type": "display_data"
    },
    {
     "data": {
      "text/markdown": [
       "Reject the null hypothesis: There are significant differences in 'inq_last_12m' between groups in 'grade'."
      ],
      "text/plain": [
       "<IPython.core.display.Markdown object>"
      ]
     },
     "metadata": {},
     "output_type": "display_data"
    },
    {
     "data": {
      "text/markdown": [
       "Reject the null hypothesis: There are significant differences in 'acc_open_past_24mths' between groups in 'grade'."
      ],
      "text/plain": [
       "<IPython.core.display.Markdown object>"
      ]
     },
     "metadata": {},
     "output_type": "display_data"
    },
    {
     "data": {
      "text/markdown": [
       "Reject the null hypothesis: There are significant differences in 'chargeoff_within_12_mths' between groups in 'grade'."
      ],
      "text/plain": [
       "<IPython.core.display.Markdown object>"
      ]
     },
     "metadata": {},
     "output_type": "display_data"
    },
    {
     "data": {
      "text/markdown": [
       "Reject the null hypothesis: There are significant differences in 'mo_sin_old_il_acct' between groups in 'grade'."
      ],
      "text/plain": [
       "<IPython.core.display.Markdown object>"
      ]
     },
     "metadata": {},
     "output_type": "display_data"
    },
    {
     "data": {
      "text/markdown": [
       "Reject the null hypothesis: There are significant differences in 'mo_sin_old_rev_tl_op' between groups in 'grade'."
      ],
      "text/plain": [
       "<IPython.core.display.Markdown object>"
      ]
     },
     "metadata": {},
     "output_type": "display_data"
    },
    {
     "data": {
      "text/markdown": [
       "Reject the null hypothesis: There are significant differences in 'mo_sin_rcnt_rev_tl_op' between groups in 'grade'."
      ],
      "text/plain": [
       "<IPython.core.display.Markdown object>"
      ]
     },
     "metadata": {},
     "output_type": "display_data"
    },
    {
     "data": {
      "text/markdown": [
       "Reject the null hypothesis: There are significant differences in 'mo_sin_rcnt_tl' between groups in 'grade'."
      ],
      "text/plain": [
       "<IPython.core.display.Markdown object>"
      ]
     },
     "metadata": {},
     "output_type": "display_data"
    },
    {
     "data": {
      "text/markdown": [
       "Reject the null hypothesis: There are significant differences in 'mort_acc' between groups in 'grade'."
      ],
      "text/plain": [
       "<IPython.core.display.Markdown object>"
      ]
     },
     "metadata": {},
     "output_type": "display_data"
    },
    {
     "data": {
      "text/markdown": [
       "Reject the null hypothesis: There are significant differences in 'mths_since_recent_bc' between groups in 'grade'."
      ],
      "text/plain": [
       "<IPython.core.display.Markdown object>"
      ]
     },
     "metadata": {},
     "output_type": "display_data"
    },
    {
     "data": {
      "text/markdown": [
       "Reject the null hypothesis: There are significant differences in 'mths_since_recent_bc_dlq' between groups in 'grade'."
      ],
      "text/plain": [
       "<IPython.core.display.Markdown object>"
      ]
     },
     "metadata": {},
     "output_type": "display_data"
    },
    {
     "data": {
      "text/markdown": [
       "Reject the null hypothesis: There are significant differences in 'mths_since_recent_inq' between groups in 'grade'."
      ],
      "text/plain": [
       "<IPython.core.display.Markdown object>"
      ]
     },
     "metadata": {},
     "output_type": "display_data"
    },
    {
     "data": {
      "text/markdown": [
       "Reject the null hypothesis: There are significant differences in 'mths_since_recent_revol_delinq' between groups in 'grade'."
      ],
      "text/plain": [
       "<IPython.core.display.Markdown object>"
      ]
     },
     "metadata": {},
     "output_type": "display_data"
    },
    {
     "data": {
      "text/markdown": [
       "Reject the null hypothesis: There are significant differences in 'num_accts_ever_120_pd' between groups in 'grade'."
      ],
      "text/plain": [
       "<IPython.core.display.Markdown object>"
      ]
     },
     "metadata": {},
     "output_type": "display_data"
    },
    {
     "data": {
      "text/markdown": [
       "Reject the null hypothesis: There are significant differences in 'num_actv_bc_tl' between groups in 'grade'."
      ],
      "text/plain": [
       "<IPython.core.display.Markdown object>"
      ]
     },
     "metadata": {},
     "output_type": "display_data"
    },
    {
     "data": {
      "text/markdown": [
       "Reject the null hypothesis: There are significant differences in 'num_actv_rev_tl' between groups in 'grade'."
      ],
      "text/plain": [
       "<IPython.core.display.Markdown object>"
      ]
     },
     "metadata": {},
     "output_type": "display_data"
    },
    {
     "data": {
      "text/markdown": [
       "Reject the null hypothesis: There are significant differences in 'num_bc_sats' between groups in 'grade'."
      ],
      "text/plain": [
       "<IPython.core.display.Markdown object>"
      ]
     },
     "metadata": {},
     "output_type": "display_data"
    },
    {
     "data": {
      "text/markdown": [
       "Reject the null hypothesis: There are significant differences in 'num_bc_tl' between groups in 'grade'."
      ],
      "text/plain": [
       "<IPython.core.display.Markdown object>"
      ]
     },
     "metadata": {},
     "output_type": "display_data"
    },
    {
     "data": {
      "text/markdown": [
       "Reject the null hypothesis: There are significant differences in 'num_il_tl' between groups in 'grade'."
      ],
      "text/plain": [
       "<IPython.core.display.Markdown object>"
      ]
     },
     "metadata": {},
     "output_type": "display_data"
    },
    {
     "data": {
      "text/markdown": [
       "Reject the null hypothesis: There are significant differences in 'num_op_rev_tl' between groups in 'grade'."
      ],
      "text/plain": [
       "<IPython.core.display.Markdown object>"
      ]
     },
     "metadata": {},
     "output_type": "display_data"
    },
    {
     "data": {
      "text/markdown": [
       "Reject the null hypothesis: There are significant differences in 'num_rev_accts' between groups in 'grade'."
      ],
      "text/plain": [
       "<IPython.core.display.Markdown object>"
      ]
     },
     "metadata": {},
     "output_type": "display_data"
    },
    {
     "data": {
      "text/markdown": [
       "Reject the null hypothesis: There are significant differences in 'num_rev_tl_bal_gt_0' between groups in 'grade'."
      ],
      "text/plain": [
       "<IPython.core.display.Markdown object>"
      ]
     },
     "metadata": {},
     "output_type": "display_data"
    },
    {
     "data": {
      "text/markdown": [
       "Reject the null hypothesis: There are significant differences in 'num_sats' between groups in 'grade'."
      ],
      "text/plain": [
       "<IPython.core.display.Markdown object>"
      ]
     },
     "metadata": {},
     "output_type": "display_data"
    },
    {
     "data": {
      "text/markdown": [
       "Reject the null hypothesis: There are significant differences in 'num_tl_120dpd_2m' between groups in 'grade'."
      ],
      "text/plain": [
       "<IPython.core.display.Markdown object>"
      ]
     },
     "metadata": {},
     "output_type": "display_data"
    },
    {
     "data": {
      "text/markdown": [
       "Reject the null hypothesis: There are significant differences in 'num_tl_30dpd' between groups in 'grade'."
      ],
      "text/plain": [
       "<IPython.core.display.Markdown object>"
      ]
     },
     "metadata": {},
     "output_type": "display_data"
    },
    {
     "data": {
      "text/markdown": [
       "Reject the null hypothesis: There are significant differences in 'num_tl_90g_dpd_24m' between groups in 'grade'."
      ],
      "text/plain": [
       "<IPython.core.display.Markdown object>"
      ]
     },
     "metadata": {},
     "output_type": "display_data"
    },
    {
     "data": {
      "text/markdown": [
       "Reject the null hypothesis: There are significant differences in 'num_tl_op_past_12m' between groups in 'grade'."
      ],
      "text/plain": [
       "<IPython.core.display.Markdown object>"
      ]
     },
     "metadata": {},
     "output_type": "display_data"
    },
    {
     "data": {
      "text/markdown": [
       "Reject the null hypothesis: There are significant differences in 'pct_tl_nvr_dlq' between groups in 'grade'."
      ],
      "text/plain": [
       "<IPython.core.display.Markdown object>"
      ]
     },
     "metadata": {},
     "output_type": "display_data"
    },
    {
     "data": {
      "text/markdown": [
       "Reject the null hypothesis: There are significant differences in 'percent_bc_gt_75' between groups in 'grade'."
      ],
      "text/plain": [
       "<IPython.core.display.Markdown object>"
      ]
     },
     "metadata": {},
     "output_type": "display_data"
    },
    {
     "data": {
      "text/markdown": [
       "Reject the null hypothesis: There are significant differences in 'pub_rec_bankruptcies' between groups in 'grade'."
      ],
      "text/plain": [
       "<IPython.core.display.Markdown object>"
      ]
     },
     "metadata": {},
     "output_type": "display_data"
    },
    {
     "data": {
      "text/markdown": [
       "Reject the null hypothesis: There are significant differences in 'tax_liens' between groups in 'grade'."
      ],
      "text/plain": [
       "<IPython.core.display.Markdown object>"
      ]
     },
     "metadata": {},
     "output_type": "display_data"
    },
    {
     "data": {
      "text/markdown": [
       "Reject the null hypothesis: There are significant differences in 'disbursement_method' between groups in 'grade'."
      ],
      "text/plain": [
       "<IPython.core.display.Markdown object>"
      ]
     },
     "metadata": {},
     "output_type": "display_data"
    }
   ],
   "source": [
    "cat_chi2s = {}\n",
    "for col in cat_features_single:\n",
    "    cat_chi2s[col] = st.chi_squared_polars(\n",
    "        data_accepted_single, \"grade\", col, alpha=ALPHA\n",
    "    )\n",
    "    display(Markdown(cat_chi2s[col][\"message\"]))\n"
   ]
  },
  {
   "cell_type": "markdown",
   "metadata": {},
   "source": [
    "##### Chi-squared test with the null hypothesis that there are no differences in categorical joint application features amongst loan grades:"
   ]
  },
  {
   "cell_type": "code",
   "execution_count": 66,
   "metadata": {},
   "outputs": [
    {
     "data": {
      "text/markdown": [
       "Reject the null hypothesis: There are significant differences in 'term' between groups in 'grade'."
      ],
      "text/plain": [
       "<IPython.core.display.Markdown object>"
      ]
     },
     "metadata": {},
     "output_type": "display_data"
    },
    {
     "data": {
      "text/markdown": [
       "Reject the null hypothesis: There are significant differences in 'emp_title' between groups in 'grade'."
      ],
      "text/plain": [
       "<IPython.core.display.Markdown object>"
      ]
     },
     "metadata": {},
     "output_type": "display_data"
    },
    {
     "data": {
      "text/markdown": [
       "Reject the null hypothesis: There are significant differences in 'emp_length' between groups in 'grade'."
      ],
      "text/plain": [
       "<IPython.core.display.Markdown object>"
      ]
     },
     "metadata": {},
     "output_type": "display_data"
    },
    {
     "data": {
      "text/markdown": [
       "Reject the null hypothesis: There are significant differences in 'home_ownership' between groups in 'grade'."
      ],
      "text/plain": [
       "<IPython.core.display.Markdown object>"
      ]
     },
     "metadata": {},
     "output_type": "display_data"
    },
    {
     "data": {
      "text/markdown": [
       "Reject the null hypothesis: There are significant differences in 'verification_status' between groups in 'grade'."
      ],
      "text/plain": [
       "<IPython.core.display.Markdown object>"
      ]
     },
     "metadata": {},
     "output_type": "display_data"
    },
    {
     "data": {
      "text/markdown": [
       "Fail to reject the null hypothesis: There are no significant differences in 'pymnt_plan' between groups in 'grade'."
      ],
      "text/plain": [
       "<IPython.core.display.Markdown object>"
      ]
     },
     "metadata": {},
     "output_type": "display_data"
    },
    {
     "data": {
      "text/markdown": [
       "Reject the null hypothesis: There are significant differences in 'purpose' between groups in 'grade'."
      ],
      "text/plain": [
       "<IPython.core.display.Markdown object>"
      ]
     },
     "metadata": {},
     "output_type": "display_data"
    },
    {
     "data": {
      "text/markdown": [
       "Reject the null hypothesis: There are significant differences in 'zip_code' between groups in 'grade'."
      ],
      "text/plain": [
       "<IPython.core.display.Markdown object>"
      ]
     },
     "metadata": {},
     "output_type": "display_data"
    },
    {
     "data": {
      "text/markdown": [
       "Reject the null hypothesis: There are significant differences in 'addr_state' between groups in 'grade'."
      ],
      "text/plain": [
       "<IPython.core.display.Markdown object>"
      ]
     },
     "metadata": {},
     "output_type": "display_data"
    },
    {
     "data": {
      "text/markdown": [
       "Reject the null hypothesis: There are significant differences in 'delinq_2yrs' between groups in 'grade'."
      ],
      "text/plain": [
       "<IPython.core.display.Markdown object>"
      ]
     },
     "metadata": {},
     "output_type": "display_data"
    },
    {
     "data": {
      "text/markdown": [
       "Reject the null hypothesis: There are significant differences in 'earliest_cr_line' between groups in 'grade'."
      ],
      "text/plain": [
       "<IPython.core.display.Markdown object>"
      ]
     },
     "metadata": {},
     "output_type": "display_data"
    },
    {
     "data": {
      "text/markdown": [
       "Reject the null hypothesis: There are significant differences in 'fico_range_low' between groups in 'grade'."
      ],
      "text/plain": [
       "<IPython.core.display.Markdown object>"
      ]
     },
     "metadata": {},
     "output_type": "display_data"
    },
    {
     "data": {
      "text/markdown": [
       "Reject the null hypothesis: There are significant differences in 'fico_range_high' between groups in 'grade'."
      ],
      "text/plain": [
       "<IPython.core.display.Markdown object>"
      ]
     },
     "metadata": {},
     "output_type": "display_data"
    },
    {
     "data": {
      "text/markdown": [
       "Reject the null hypothesis: There are significant differences in 'inq_last_6mths' between groups in 'grade'."
      ],
      "text/plain": [
       "<IPython.core.display.Markdown object>"
      ]
     },
     "metadata": {},
     "output_type": "display_data"
    },
    {
     "data": {
      "text/markdown": [
       "Reject the null hypothesis: There are significant differences in 'mths_since_last_delinq' between groups in 'grade'."
      ],
      "text/plain": [
       "<IPython.core.display.Markdown object>"
      ]
     },
     "metadata": {},
     "output_type": "display_data"
    },
    {
     "data": {
      "text/markdown": [
       "Fail to reject the null hypothesis: There are no significant differences in 'mths_since_last_record' between groups in 'grade'."
      ],
      "text/plain": [
       "<IPython.core.display.Markdown object>"
      ]
     },
     "metadata": {},
     "output_type": "display_data"
    },
    {
     "data": {
      "text/markdown": [
       "Reject the null hypothesis: There are significant differences in 'open_acc' between groups in 'grade'."
      ],
      "text/plain": [
       "<IPython.core.display.Markdown object>"
      ]
     },
     "metadata": {},
     "output_type": "display_data"
    },
    {
     "data": {
      "text/markdown": [
       "Reject the null hypothesis: There are significant differences in 'pub_rec' between groups in 'grade'."
      ],
      "text/plain": [
       "<IPython.core.display.Markdown object>"
      ]
     },
     "metadata": {},
     "output_type": "display_data"
    },
    {
     "data": {
      "text/markdown": [
       "Reject the null hypothesis: There are significant differences in 'total_acc' between groups in 'grade'."
      ],
      "text/plain": [
       "<IPython.core.display.Markdown object>"
      ]
     },
     "metadata": {},
     "output_type": "display_data"
    },
    {
     "data": {
      "text/markdown": [
       "Reject the null hypothesis: There are significant differences in 'initial_list_status' between groups in 'grade'."
      ],
      "text/plain": [
       "<IPython.core.display.Markdown object>"
      ]
     },
     "metadata": {},
     "output_type": "display_data"
    },
    {
     "data": {
      "text/markdown": [
       "Reject the null hypothesis: There are significant differences in 'last_credit_pull_d' between groups in 'grade'."
      ],
      "text/plain": [
       "<IPython.core.display.Markdown object>"
      ]
     },
     "metadata": {},
     "output_type": "display_data"
    },
    {
     "data": {
      "text/markdown": [
       "Reject the null hypothesis: There are significant differences in 'last_fico_range_high' between groups in 'grade'."
      ],
      "text/plain": [
       "<IPython.core.display.Markdown object>"
      ]
     },
     "metadata": {},
     "output_type": "display_data"
    },
    {
     "data": {
      "text/markdown": [
       "Reject the null hypothesis: There are significant differences in 'last_fico_range_low' between groups in 'grade'."
      ],
      "text/plain": [
       "<IPython.core.display.Markdown object>"
      ]
     },
     "metadata": {},
     "output_type": "display_data"
    },
    {
     "data": {
      "text/markdown": [
       "Fail to reject the null hypothesis: There are no significant differences in 'mths_since_last_major_derog' between groups in 'grade'."
      ],
      "text/plain": [
       "<IPython.core.display.Markdown object>"
      ]
     },
     "metadata": {},
     "output_type": "display_data"
    },
    {
     "data": {
      "text/markdown": [
       "Reject the null hypothesis: There are significant differences in 'verification_status_joint' between groups in 'grade'."
      ],
      "text/plain": [
       "<IPython.core.display.Markdown object>"
      ]
     },
     "metadata": {},
     "output_type": "display_data"
    },
    {
     "data": {
      "text/markdown": [
       "Reject the null hypothesis: There are significant differences in 'acc_now_delinq' between groups in 'grade'."
      ],
      "text/plain": [
       "<IPython.core.display.Markdown object>"
      ]
     },
     "metadata": {},
     "output_type": "display_data"
    },
    {
     "data": {
      "text/markdown": [
       "Reject the null hypothesis: There are significant differences in 'open_acc_6m' between groups in 'grade'."
      ],
      "text/plain": [
       "<IPython.core.display.Markdown object>"
      ]
     },
     "metadata": {},
     "output_type": "display_data"
    },
    {
     "data": {
      "text/markdown": [
       "Reject the null hypothesis: There are significant differences in 'open_act_il' between groups in 'grade'."
      ],
      "text/plain": [
       "<IPython.core.display.Markdown object>"
      ]
     },
     "metadata": {},
     "output_type": "display_data"
    },
    {
     "data": {
      "text/markdown": [
       "Reject the null hypothesis: There are significant differences in 'open_il_12m' between groups in 'grade'."
      ],
      "text/plain": [
       "<IPython.core.display.Markdown object>"
      ]
     },
     "metadata": {},
     "output_type": "display_data"
    },
    {
     "data": {
      "text/markdown": [
       "Reject the null hypothesis: There are significant differences in 'open_il_24m' between groups in 'grade'."
      ],
      "text/plain": [
       "<IPython.core.display.Markdown object>"
      ]
     },
     "metadata": {},
     "output_type": "display_data"
    },
    {
     "data": {
      "text/markdown": [
       "Reject the null hypothesis: There are significant differences in 'mths_since_rcnt_il' between groups in 'grade'."
      ],
      "text/plain": [
       "<IPython.core.display.Markdown object>"
      ]
     },
     "metadata": {},
     "output_type": "display_data"
    },
    {
     "data": {
      "text/markdown": [
       "Reject the null hypothesis: There are significant differences in 'il_util' between groups in 'grade'."
      ],
      "text/plain": [
       "<IPython.core.display.Markdown object>"
      ]
     },
     "metadata": {},
     "output_type": "display_data"
    },
    {
     "data": {
      "text/markdown": [
       "Reject the null hypothesis: There are significant differences in 'open_rv_12m' between groups in 'grade'."
      ],
      "text/plain": [
       "<IPython.core.display.Markdown object>"
      ]
     },
     "metadata": {},
     "output_type": "display_data"
    },
    {
     "data": {
      "text/markdown": [
       "Reject the null hypothesis: There are significant differences in 'open_rv_24m' between groups in 'grade'."
      ],
      "text/plain": [
       "<IPython.core.display.Markdown object>"
      ]
     },
     "metadata": {},
     "output_type": "display_data"
    },
    {
     "data": {
      "text/markdown": [
       "Reject the null hypothesis: There are significant differences in 'all_util' between groups in 'grade'."
      ],
      "text/plain": [
       "<IPython.core.display.Markdown object>"
      ]
     },
     "metadata": {},
     "output_type": "display_data"
    },
    {
     "data": {
      "text/markdown": [
       "Reject the null hypothesis: There are significant differences in 'inq_fi' between groups in 'grade'."
      ],
      "text/plain": [
       "<IPython.core.display.Markdown object>"
      ]
     },
     "metadata": {},
     "output_type": "display_data"
    },
    {
     "data": {
      "text/markdown": [
       "Reject the null hypothesis: There are significant differences in 'total_cu_tl' between groups in 'grade'."
      ],
      "text/plain": [
       "<IPython.core.display.Markdown object>"
      ]
     },
     "metadata": {},
     "output_type": "display_data"
    },
    {
     "data": {
      "text/markdown": [
       "Reject the null hypothesis: There are significant differences in 'inq_last_12m' between groups in 'grade'."
      ],
      "text/plain": [
       "<IPython.core.display.Markdown object>"
      ]
     },
     "metadata": {},
     "output_type": "display_data"
    },
    {
     "data": {
      "text/markdown": [
       "Reject the null hypothesis: There are significant differences in 'acc_open_past_24mths' between groups in 'grade'."
      ],
      "text/plain": [
       "<IPython.core.display.Markdown object>"
      ]
     },
     "metadata": {},
     "output_type": "display_data"
    },
    {
     "data": {
      "text/markdown": [
       "Reject the null hypothesis: There are significant differences in 'chargeoff_within_12_mths' between groups in 'grade'."
      ],
      "text/plain": [
       "<IPython.core.display.Markdown object>"
      ]
     },
     "metadata": {},
     "output_type": "display_data"
    },
    {
     "data": {
      "text/markdown": [
       "Fail to reject the null hypothesis: There are no significant differences in 'delinq_amnt' between groups in 'grade'."
      ],
      "text/plain": [
       "<IPython.core.display.Markdown object>"
      ]
     },
     "metadata": {},
     "output_type": "display_data"
    },
    {
     "data": {
      "text/markdown": [
       "Reject the null hypothesis: There are significant differences in 'mo_sin_old_il_acct' between groups in 'grade'."
      ],
      "text/plain": [
       "<IPython.core.display.Markdown object>"
      ]
     },
     "metadata": {},
     "output_type": "display_data"
    },
    {
     "data": {
      "text/markdown": [
       "Reject the null hypothesis: There are significant differences in 'mo_sin_old_rev_tl_op' between groups in 'grade'."
      ],
      "text/plain": [
       "<IPython.core.display.Markdown object>"
      ]
     },
     "metadata": {},
     "output_type": "display_data"
    },
    {
     "data": {
      "text/markdown": [
       "Reject the null hypothesis: There are significant differences in 'mo_sin_rcnt_rev_tl_op' between groups in 'grade'."
      ],
      "text/plain": [
       "<IPython.core.display.Markdown object>"
      ]
     },
     "metadata": {},
     "output_type": "display_data"
    },
    {
     "data": {
      "text/markdown": [
       "Reject the null hypothesis: There are significant differences in 'mo_sin_rcnt_tl' between groups in 'grade'."
      ],
      "text/plain": [
       "<IPython.core.display.Markdown object>"
      ]
     },
     "metadata": {},
     "output_type": "display_data"
    },
    {
     "data": {
      "text/markdown": [
       "Reject the null hypothesis: There are significant differences in 'mort_acc' between groups in 'grade'."
      ],
      "text/plain": [
       "<IPython.core.display.Markdown object>"
      ]
     },
     "metadata": {},
     "output_type": "display_data"
    },
    {
     "data": {
      "text/markdown": [
       "Reject the null hypothesis: There are significant differences in 'mths_since_recent_bc' between groups in 'grade'."
      ],
      "text/plain": [
       "<IPython.core.display.Markdown object>"
      ]
     },
     "metadata": {},
     "output_type": "display_data"
    },
    {
     "data": {
      "text/markdown": [
       "Reject the null hypothesis: There are significant differences in 'mths_since_recent_bc_dlq' between groups in 'grade'."
      ],
      "text/plain": [
       "<IPython.core.display.Markdown object>"
      ]
     },
     "metadata": {},
     "output_type": "display_data"
    },
    {
     "data": {
      "text/markdown": [
       "Reject the null hypothesis: There are significant differences in 'mths_since_recent_inq' between groups in 'grade'."
      ],
      "text/plain": [
       "<IPython.core.display.Markdown object>"
      ]
     },
     "metadata": {},
     "output_type": "display_data"
    },
    {
     "data": {
      "text/markdown": [
       "Reject the null hypothesis: There are significant differences in 'mths_since_recent_revol_delinq' between groups in 'grade'."
      ],
      "text/plain": [
       "<IPython.core.display.Markdown object>"
      ]
     },
     "metadata": {},
     "output_type": "display_data"
    },
    {
     "data": {
      "text/markdown": [
       "Reject the null hypothesis: There are significant differences in 'num_accts_ever_120_pd' between groups in 'grade'."
      ],
      "text/plain": [
       "<IPython.core.display.Markdown object>"
      ]
     },
     "metadata": {},
     "output_type": "display_data"
    },
    {
     "data": {
      "text/markdown": [
       "Reject the null hypothesis: There are significant differences in 'num_actv_bc_tl' between groups in 'grade'."
      ],
      "text/plain": [
       "<IPython.core.display.Markdown object>"
      ]
     },
     "metadata": {},
     "output_type": "display_data"
    },
    {
     "data": {
      "text/markdown": [
       "Reject the null hypothesis: There are significant differences in 'num_actv_rev_tl' between groups in 'grade'."
      ],
      "text/plain": [
       "<IPython.core.display.Markdown object>"
      ]
     },
     "metadata": {},
     "output_type": "display_data"
    },
    {
     "data": {
      "text/markdown": [
       "Reject the null hypothesis: There are significant differences in 'num_bc_sats' between groups in 'grade'."
      ],
      "text/plain": [
       "<IPython.core.display.Markdown object>"
      ]
     },
     "metadata": {},
     "output_type": "display_data"
    },
    {
     "data": {
      "text/markdown": [
       "Reject the null hypothesis: There are significant differences in 'num_bc_tl' between groups in 'grade'."
      ],
      "text/plain": [
       "<IPython.core.display.Markdown object>"
      ]
     },
     "metadata": {},
     "output_type": "display_data"
    },
    {
     "data": {
      "text/markdown": [
       "Reject the null hypothesis: There are significant differences in 'num_il_tl' between groups in 'grade'."
      ],
      "text/plain": [
       "<IPython.core.display.Markdown object>"
      ]
     },
     "metadata": {},
     "output_type": "display_data"
    },
    {
     "data": {
      "text/markdown": [
       "Reject the null hypothesis: There are significant differences in 'num_op_rev_tl' between groups in 'grade'."
      ],
      "text/plain": [
       "<IPython.core.display.Markdown object>"
      ]
     },
     "metadata": {},
     "output_type": "display_data"
    },
    {
     "data": {
      "text/markdown": [
       "Reject the null hypothesis: There are significant differences in 'num_rev_accts' between groups in 'grade'."
      ],
      "text/plain": [
       "<IPython.core.display.Markdown object>"
      ]
     },
     "metadata": {},
     "output_type": "display_data"
    },
    {
     "data": {
      "text/markdown": [
       "Reject the null hypothesis: There are significant differences in 'num_rev_tl_bal_gt_0' between groups in 'grade'."
      ],
      "text/plain": [
       "<IPython.core.display.Markdown object>"
      ]
     },
     "metadata": {},
     "output_type": "display_data"
    },
    {
     "data": {
      "text/markdown": [
       "Reject the null hypothesis: There are significant differences in 'num_sats' between groups in 'grade'."
      ],
      "text/plain": [
       "<IPython.core.display.Markdown object>"
      ]
     },
     "metadata": {},
     "output_type": "display_data"
    },
    {
     "data": {
      "text/markdown": [
       "Fail to reject the null hypothesis: There are no significant differences in 'num_tl_120dpd_2m' between groups in 'grade'."
      ],
      "text/plain": [
       "<IPython.core.display.Markdown object>"
      ]
     },
     "metadata": {},
     "output_type": "display_data"
    },
    {
     "data": {
      "text/markdown": [
       "Reject the null hypothesis: There are significant differences in 'num_tl_30dpd' between groups in 'grade'."
      ],
      "text/plain": [
       "<IPython.core.display.Markdown object>"
      ]
     },
     "metadata": {},
     "output_type": "display_data"
    },
    {
     "data": {
      "text/markdown": [
       "Reject the null hypothesis: There are significant differences in 'num_tl_90g_dpd_24m' between groups in 'grade'."
      ],
      "text/plain": [
       "<IPython.core.display.Markdown object>"
      ]
     },
     "metadata": {},
     "output_type": "display_data"
    },
    {
     "data": {
      "text/markdown": [
       "Reject the null hypothesis: There are significant differences in 'num_tl_op_past_12m' between groups in 'grade'."
      ],
      "text/plain": [
       "<IPython.core.display.Markdown object>"
      ]
     },
     "metadata": {},
     "output_type": "display_data"
    },
    {
     "data": {
      "text/markdown": [
       "Reject the null hypothesis: There are significant differences in 'pct_tl_nvr_dlq' between groups in 'grade'."
      ],
      "text/plain": [
       "<IPython.core.display.Markdown object>"
      ]
     },
     "metadata": {},
     "output_type": "display_data"
    },
    {
     "data": {
      "text/markdown": [
       "Reject the null hypothesis: There are significant differences in 'percent_bc_gt_75' between groups in 'grade'."
      ],
      "text/plain": [
       "<IPython.core.display.Markdown object>"
      ]
     },
     "metadata": {},
     "output_type": "display_data"
    },
    {
     "data": {
      "text/markdown": [
       "Reject the null hypothesis: There are significant differences in 'pub_rec_bankruptcies' between groups in 'grade'."
      ],
      "text/plain": [
       "<IPython.core.display.Markdown object>"
      ]
     },
     "metadata": {},
     "output_type": "display_data"
    },
    {
     "data": {
      "text/markdown": [
       "Reject the null hypothesis: There are significant differences in 'tax_liens' between groups in 'grade'."
      ],
      "text/plain": [
       "<IPython.core.display.Markdown object>"
      ]
     },
     "metadata": {},
     "output_type": "display_data"
    },
    {
     "data": {
      "text/markdown": [
       "Reject the null hypothesis: There are significant differences in 'sec_app_fico_range_low' between groups in 'grade'."
      ],
      "text/plain": [
       "<IPython.core.display.Markdown object>"
      ]
     },
     "metadata": {},
     "output_type": "display_data"
    },
    {
     "data": {
      "text/markdown": [
       "Reject the null hypothesis: There are significant differences in 'sec_app_fico_range_high' between groups in 'grade'."
      ],
      "text/plain": [
       "<IPython.core.display.Markdown object>"
      ]
     },
     "metadata": {},
     "output_type": "display_data"
    },
    {
     "data": {
      "text/markdown": [
       "Reject the null hypothesis: There are significant differences in 'sec_app_earliest_cr_line' between groups in 'grade'."
      ],
      "text/plain": [
       "<IPython.core.display.Markdown object>"
      ]
     },
     "metadata": {},
     "output_type": "display_data"
    },
    {
     "data": {
      "text/markdown": [
       "Reject the null hypothesis: There are significant differences in 'sec_app_inq_last_6mths' between groups in 'grade'."
      ],
      "text/plain": [
       "<IPython.core.display.Markdown object>"
      ]
     },
     "metadata": {},
     "output_type": "display_data"
    },
    {
     "data": {
      "text/markdown": [
       "Reject the null hypothesis: There are significant differences in 'sec_app_mort_acc' between groups in 'grade'."
      ],
      "text/plain": [
       "<IPython.core.display.Markdown object>"
      ]
     },
     "metadata": {},
     "output_type": "display_data"
    },
    {
     "data": {
      "text/markdown": [
       "Reject the null hypothesis: There are significant differences in 'sec_app_open_acc' between groups in 'grade'."
      ],
      "text/plain": [
       "<IPython.core.display.Markdown object>"
      ]
     },
     "metadata": {},
     "output_type": "display_data"
    },
    {
     "data": {
      "text/markdown": [
       "Reject the null hypothesis: There are significant differences in 'sec_app_open_act_il' between groups in 'grade'."
      ],
      "text/plain": [
       "<IPython.core.display.Markdown object>"
      ]
     },
     "metadata": {},
     "output_type": "display_data"
    },
    {
     "data": {
      "text/markdown": [
       "Reject the null hypothesis: There are significant differences in 'sec_app_num_rev_accts' between groups in 'grade'."
      ],
      "text/plain": [
       "<IPython.core.display.Markdown object>"
      ]
     },
     "metadata": {},
     "output_type": "display_data"
    },
    {
     "data": {
      "text/markdown": [
       "Reject the null hypothesis: There are significant differences in 'sec_app_chargeoff_within_12_mths' between groups in 'grade'."
      ],
      "text/plain": [
       "<IPython.core.display.Markdown object>"
      ]
     },
     "metadata": {},
     "output_type": "display_data"
    },
    {
     "data": {
      "text/markdown": [
       "Reject the null hypothesis: There are significant differences in 'sec_app_collections_12_mths_ex_med' between groups in 'grade'."
      ],
      "text/plain": [
       "<IPython.core.display.Markdown object>"
      ]
     },
     "metadata": {},
     "output_type": "display_data"
    },
    {
     "data": {
      "text/markdown": [
       "Reject the null hypothesis: There are significant differences in 'sec_app_mths_since_last_major_derog' between groups in 'grade'."
      ],
      "text/plain": [
       "<IPython.core.display.Markdown object>"
      ]
     },
     "metadata": {},
     "output_type": "display_data"
    },
    {
     "data": {
      "text/markdown": [
       "Fail to reject the null hypothesis: There are no significant differences in 'disbursement_method' between groups in 'grade'."
      ],
      "text/plain": [
       "<IPython.core.display.Markdown object>"
      ]
     },
     "metadata": {},
     "output_type": "display_data"
    }
   ],
   "source": [
    "cat_chi2s_jt = {}\n",
    "for col in cat_features_joint:\n",
    "    cat_chi2s_jt[col] = st.chi_squared_polars(\n",
    "        data_accepted_joint, \"grade\", col, alpha=ALPHA\n",
    "    )\n",
    "    display(Markdown(cat_chi2s_jt[col][\"message\"]))\n"
   ]
  },
  {
   "cell_type": "markdown",
   "metadata": {},
   "source": [
    "Several of the joint application features displayed no significant relationship with the target variable and will be removed accordingly based on this statistical analysis."
   ]
  },
  {
   "cell_type": "markdown",
   "metadata": {},
   "source": [
    "##### The relationship between targets of different models:"
   ]
  },
  {
   "cell_type": "code",
   "execution_count": null,
   "metadata": {},
   "outputs": [
    {
     "data": {
      "text/html": [
       "<div><style>\n",
       ".dataframe > thead > tr > th,\n",
       ".dataframe > tbody > tr > td {\n",
       "  text-align: right;\n",
       "  white-space: pre-wrap;\n",
       "}\n",
       "</style>\n",
       "<small>shape: (3, 3)</small><table border=\"1\" class=\"dataframe\"><thead><tr><th>grade</th><th>sub_grade</th><th>int_rate</th></tr><tr><td>f64</td><td>f64</td><td>f64</td></tr></thead><tbody><tr><td>1.0</td><td>0.974249</td><td>0.952742</td></tr><tr><td>0.974249</td><td>1.0</td><td>0.97646</td></tr><tr><td>0.952742</td><td>0.97646</td><td>1.0</td></tr></tbody></table></div>"
      ],
      "text/plain": [
       "shape: (3, 3)\n",
       "┌──────────┬───────────┬──────────┐\n",
       "│ grade    ┆ sub_grade ┆ int_rate │\n",
       "│ ---      ┆ ---       ┆ ---      │\n",
       "│ f64      ┆ f64       ┆ f64      │\n",
       "╞══════════╪═══════════╪══════════╡\n",
       "│ 1.0      ┆ 0.974249  ┆ 0.952742 │\n",
       "│ 0.974249 ┆ 1.0       ┆ 0.97646  │\n",
       "│ 0.952742 ┆ 0.97646   ┆ 1.0      │\n",
       "└──────────┴───────────┴──────────┘"
      ]
     },
     "execution_count": 95,
     "metadata": {},
     "output_type": "execute_result"
    }
   ],
   "source": [
    "dmf.label_target_grades(data_accepted_single).pipe(dmf.label_target_sub_grades)[\n",
    "    [\"grade\", \"sub_grade\", \"int_rate\"]\n",
    "].corr()\n"
   ]
  },
  {
   "cell_type": "markdown",
   "metadata": {},
   "source": [
    "The project continues with the accepted vs. rejected model development in notebook \"model_1_accepted_rejected.ipynb\""
   ]
  }
 ],
 "metadata": {
  "kernelspec": {
   "display_name": "base",
   "language": "python",
   "name": "python3"
  },
  "language_info": {
   "codemirror_mode": {
    "name": "ipython",
    "version": 3
   },
   "file_extension": ".py",
   "mimetype": "text/x-python",
   "name": "python",
   "nbconvert_exporter": "python",
   "pygments_lexer": "ipython3",
   "version": "3.9.13"
  },
  "orig_nbformat": 4
 },
 "nbformat": 4,
 "nbformat_minor": 2
}
