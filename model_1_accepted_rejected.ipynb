{
 "cells": [
  {
   "cell_type": "code",
   "execution_count": 40,
   "metadata": {},
   "outputs": [],
   "source": [
    "%reload_ext autoreload\n",
    "%autoreload 1\n",
    "import joblib\n",
    "from ray import tune, train\n",
    "import copy\n",
    "import shap\n",
    "import matplotlib.pyplot as plt\n",
    "import polars as pl\n",
    "import sys\n",
    "import numpy as np\n",
    "from sklearn.model_selection import train_test_split\n",
    "import functions.transformers as tr\n",
    "import functions.data_cleaning as dmf\n",
    "import functions.plot_functions as pf\n",
    "import functions.tuning as tunes\n",
    "import functions.feature_engineering as feats\n",
    "import seaborn as sns\n",
    "from sklearn.pipeline import Pipeline\n",
    "from sklearn.metrics import classification_report, f1_score\n",
    "from sklearn.preprocessing import LabelEncoder\n",
    "from sklearn.preprocessing import OneHotEncoder\n",
    "from sklearn.tree import DecisionTreeClassifier\n",
    "from sklearn.linear_model import LogisticRegression\n",
    "from sklearn.preprocessing import StandardScaler\n",
    "from IPython.display import display,Markdown\n",
    "import lightgbm as lgb\n",
    "%aimport functions.tuning\n",
    "%aimport functions.transformers\n",
    "%aimport functions.data_cleaning\n",
    "%aimport functions.plot_functions\n",
    "%aimport functions.feature_engineering"
   ]
  },
  {
   "cell_type": "code",
   "execution_count": 2,
   "metadata": {},
   "outputs": [],
   "source": [
    "BASE_FIG_SIZE=(8.5,4.5)\n",
    "sns.set()"
   ]
  },
  {
   "cell_type": "code",
   "execution_count": 3,
   "metadata": {},
   "outputs": [],
   "source": [
    "data_train=pl.read_parquet('data/data_full_train.parquet')\n",
    "data_val=pl.read_parquet('data/data_full_val.parquet')"
   ]
  },
  {
   "cell_type": "code",
   "execution_count": 4,
   "metadata": {},
   "outputs": [],
   "source": [
    "data_train=dmf.clean_accepted_rejected(data_train)\n",
    "data_val=dmf.clean_accepted_rejected(data_val)\n",
    "\n",
    "data_train=feats.date_features_accepted_rejected(data_train,\"Application Date\")\n",
    "data_val=feats.date_features_accepted_rejected(data_val,\"Application Date\")\n",
    "\n",
    "data_train=feats.title_text_features(data_train)\n",
    "data_val=feats.title_text_features(data_val)"
   ]
  },
  {
   "cell_type": "code",
   "execution_count": 5,
   "metadata": {},
   "outputs": [],
   "source": [
    "X_train = data_train.drop(columns=['Policy Code'])\n",
    "X_val= data_val.drop(columns=['Policy Code'])\n",
    "y_train = data_train['Policy Code']\n",
    "y_val= data_val['Policy Code']"
   ]
  },
  {
   "cell_type": "code",
   "execution_count": 6,
   "metadata": {},
   "outputs": [],
   "source": [
    "X_mini_train, discard1, y_mini_train, discard2 = train_test_split(\n",
    "    X_train, y_train, stratify=y_train,train_size=3000000\n",
    ")\n",
    "\n",
    "X_mini_val, X_val, y_mini_val, y_val = train_test_split(\n",
    "    X_val, y_val, stratify=y_val,train_size=900000\n",
    ")"
   ]
  },
  {
   "cell_type": "markdown",
   "metadata": {},
   "source": [
    "## Pipelines"
   ]
  },
  {
   "cell_type": "markdown",
   "metadata": {},
   "source": [
    "### LightGBM"
   ]
  },
  {
   "cell_type": "code",
   "execution_count": 7,
   "metadata": {},
   "outputs": [
    {
     "data": {
      "text/html": [
       "<div><style>\n",
       ".dataframe > thead > tr > th,\n",
       ".dataframe > tbody > tr > td {\n",
       "  text-align: right;\n",
       "  white-space: pre-wrap;\n",
       "}\n",
       "</style>\n",
       "<small>shape: (1, 11)</small><table border=\"1\" class=\"dataframe\"><thead><tr><th>Amount Requested</th><th>Debt-To-Income Ratio</th><th>Zip Code</th><th>State</th><th>Employment Length</th><th>title</th><th>month_sin</th><th>month_cos</th><th>title_contains_numbers</th><th>title_length</th><th>title_starts_with_lowercase</th></tr><tr><td>u32</td><td>u32</td><td>u32</td><td>u32</td><td>u32</td><td>u32</td><td>u32</td><td>u32</td><td>u32</td><td>u32</td><td>u32</td></tr></thead><tbody><tr><td>204</td><td>171359</td><td>56</td><td>5</td><td>114794</td><td>6061</td><td>0</td><td>0</td><td>6061</td><td>6061</td><td>6061</td></tr></tbody></table></div>"
      ],
      "text/plain": [
       "shape: (1, 11)\n",
       "┌────────────┬────────────┬──────────┬───────┬───┬───────────┬────────────┬────────────┬───────────┐\n",
       "│ Amount     ┆ Debt-To-In ┆ Zip Code ┆ State ┆ … ┆ month_cos ┆ title_cont ┆ title_leng ┆ title_sta │\n",
       "│ Requested  ┆ come Ratio ┆ ---      ┆ ---   ┆   ┆ ---       ┆ ains_numbe ┆ th         ┆ rts_with_ │\n",
       "│ ---        ┆ ---        ┆ u32      ┆ u32   ┆   ┆ u32       ┆ rs         ┆ ---        ┆ lowercase │\n",
       "│ u32        ┆ u32        ┆          ┆       ┆   ┆           ┆ ---        ┆ u32        ┆ ---       │\n",
       "│            ┆            ┆          ┆       ┆   ┆           ┆ u32        ┆            ┆ u32       │\n",
       "╞════════════╪════════════╪══════════╪═══════╪═══╪═══════════╪════════════╪════════════╪═══════════╡\n",
       "│ 204        ┆ 171359     ┆ 56       ┆ 5     ┆ … ┆ 0         ┆ 6061       ┆ 6061       ┆ 6061      │\n",
       "└────────────┴────────────┴──────────┴───────┴───┴───────────┴────────────┴────────────┴───────────┘"
      ]
     },
     "execution_count": 7,
     "metadata": {},
     "output_type": "execute_result"
    }
   ],
   "source": [
    "X_mini_train.null_count()"
   ]
  },
  {
   "cell_type": "markdown",
   "metadata": {},
   "source": [
    "#### Imputers"
   ]
  },
  {
   "cell_type": "code",
   "execution_count": 8,
   "metadata": {},
   "outputs": [],
   "source": [
    "title_cat_imputer=tr.NotInImputerPolars(cat_no=12,fill_value=None)\n",
    "zip_imputer=tr.NotInImputerPolars(cat_no=50,fill_value=None)\n",
    "state_imputer=tr.NotInImputerPolars(cat_no=51,fill_value=None)\n",
    "emp_length_imputer=tr.NotInImputerPolars(cat_no=12,fill_value=None)\n",
    "\n",
    "\n",
    "imputer = tr.PolarsColumnTransformer(\n",
    "    [\n",
    "        tr.PolarsColumnTransformer.Step(\"title_imp\",title_cat_imputer, \"title\"),\n",
    "        tr.PolarsColumnTransformer.Step(\"zip_code_imp\", zip_imputer, \"Zip Code\"),\n",
    "        tr.PolarsColumnTransformer.Step(\"state_imp\",state_imputer, \"State\"),\n",
    "        tr.PolarsColumnTransformer.Step(\"len_imp\",emp_length_imputer, \"Employment Length\"),\n",
    "    ]\n",
    ")"
   ]
  },
  {
   "cell_type": "markdown",
   "metadata": {},
   "source": [
    "#### Encoders and selection"
   ]
  },
  {
   "cell_type": "code",
   "execution_count": 9,
   "metadata": {},
   "outputs": [],
   "source": [
    "state_encoder = tr.TargetMeanOrderedLabeler()\n",
    "zip_encoder = tr.TargetMeanOrderedLabeler()\n",
    "title_encoder = tr.TargetMeanOrderedLabeler()\n",
    "length_order = [\n",
    "    None,\n",
    "    \"< 1 year\",\n",
    "    \"1 year\",\n",
    "    \"2 years\",\n",
    "    \"3 years\",\n",
    "    \"4 years\",\n",
    "    \"5 years\",\n",
    "    \"6 years\",\n",
    "    \"7 years\",\n",
    "    \"8 years\",\n",
    "    \"9 years\",\n",
    "    \"10+ years\",\n",
    "]\n",
    "\n",
    "employment_encoder = tr.PolarsOrdinalEncoder(order=length_order)\n",
    "encoder = tr.PolarsColumnTransformer(\n",
    "    [\n",
    "        tr.PolarsColumnTransformer.Step(\"state\", state_encoder, \"State\"),\n",
    "        tr.PolarsColumnTransformer.Step(\"zip_code\",zip_encoder, \"Zip Code\"),\n",
    "        tr.PolarsColumnTransformer.Step(\"title\", title_encoder, \"title\"),\n",
    "        tr.PolarsColumnTransformer.Step(\"emp_length\", employment_encoder, \"Employment Length\"),\n",
    "    ]\n",
    ")\n",
    "null_imp = tr.PolarsNullImputer(fill_value=-9)\n",
    "\n",
    "model_lgbm = lgb.LGBMClassifier(\n",
    "    class_weight=\"balanced\",\n",
    "    force_col_wise=True,\n",
    "    verbose=-1,\n",
    "    num_threads=1,\n",
    "    random_state=1,\n",
    ")\n",
    "\n",
    "boruta = tr.BorutaFeatureSelectorPolars(model_lgbm, random_state=1, perc=100)\n",
    "\n",
    "preprocess_lgbm = Pipeline(\n",
    "    [\n",
    "        (\"imputer\", imputer),\n",
    "        (\"encoder\", encoder),\n",
    "        (\"null_imputer\", null_imp),\n",
    "        (\"boruta\", boruta),\n",
    "    ]\n",
    ")"
   ]
  },
  {
   "cell_type": "markdown",
   "metadata": {},
   "source": [
    "#### Baseline for tunning"
   ]
  },
  {
   "cell_type": "code",
   "execution_count": 10,
   "metadata": {},
   "outputs": [
    {
     "name": "stdout",
     "output_type": "stream",
     "text": [
      "0.6669405642289783\n"
     ]
    }
   ],
   "source": [
    "model_lgbm.fit(\n",
    "    preprocess_lgbm.fit_transform(\n",
    "        X_mini_train.sample(100000, seed=1), y_mini_train.sample(100000, seed=1)\n",
    "    ),\n",
    "    y_mini_train.sample(100000, seed=1),\n",
    ")\n",
    "baseline_preds=model_lgbm.predict(preprocess_lgbm.transform(X_mini_val.sample(30000,seed=1)))\n",
    "print(f1_score(y_mini_val.sample(30000,seed=1),baseline_preds))"
   ]
  },
  {
   "cell_type": "code",
   "execution_count": 11,
   "metadata": {},
   "outputs": [],
   "source": [
    "full_pipeline = Pipeline(\n",
    "    [\n",
    "        (\"preprocess\", preprocess_lgbm),\n",
    "        (\"model\", model_lgbm),\n",
    "    ]\n",
    ")\n",
    "\n",
    "search_space_lgbm = {\n",
    "    \"preprocess__boruta__perc\": tune.randint(1, 100),\n",
    "    \"preprocess__boruta__apply\": tune.choice([True, False]),\n",
    "    \"model__num_leaves\": tune.randint(10, 150),\n",
    "    \"model__n_estimators\": tune.randint(1, 250),\n",
    "    \"model__learning_rate\": tune.loguniform(0.001, 0.1),\n",
    "    \"model__bagging_freq\": tune.randint(0, 10),\n",
    "    \"model__colsample_bytree\": tune.uniform(0.2, 1.0),\n",
    "    \"model__subsample\": tune.uniform(0.2, 1.0),\n",
    "    \"model__reg_alpha\": tune.loguniform(0.001, 100),\n",
    "    \"model__reg_lambda\": tune.loguniform(0.001, 100),\n",
    "    \"model__boosting_type\": tune.choice([\"gbdt\", \"dart\", \"rf\"]),\n",
    "    \"model__class_weight\": tune.choice([\"balanced\", None]),\n",
    "    \"model__max_bin\": tune.randint(5, 200),\n",
    "    \"preprocess__encoder__step_params\": {\n",
    "        \"state\": {\"how\": tune.choice([\"label\", \"mean\"])},\n",
    "        \"zip_code\": {\"how\": tune.choice([\"label\", \"mean\"])},\n",
    "        \"title\": {\"how\": tune.choice([\"label\", \"mean\"])},\n",
    "    },\n",
    "}\n",
    "\n",
    "models = tunes.Models()\n",
    "models.add_model(\"lgbm_yn\", full_pipeline, search_space_lgbm, metric_threshold=0.6)"
   ]
  },
  {
   "cell_type": "markdown",
   "metadata": {},
   "source": [
    "### Tree"
   ]
  },
  {
   "cell_type": "code",
   "execution_count": 12,
   "metadata": {},
   "outputs": [],
   "source": [
    "imputer_tree = copy.deepcopy(imputer)\n",
    "encoder_tree = copy.deepcopy(encoder)\n",
    "null_imp_tree = copy.deepcopy(null_imp)\n",
    "preprocess_tree = Pipeline(\n",
    "    [\n",
    "        (\"imputer\", imputer_tree),\n",
    "        (\"encoder\", encoder_tree),\n",
    "        (\"null_imputer\", null_imp_tree),\n",
    "    ]\n",
    ")\n",
    "\n",
    "model_tree = DecisionTreeClassifier()\n",
    "\n",
    "full_pipeline_tree = Pipeline(\n",
    "    [\n",
    "        (\"preprocess\", preprocess_tree),\n",
    "        (\"model\", model_tree),\n",
    "    ]\n",
    ")\n",
    "\n",
    "search_space_tree = {\n",
    "    \"model__criterion\": tune.choice([\"gini\", \"entropy\"]),\n",
    "    \"model__splitter\": tune.choice([\"best\", \"random\"]),\n",
    "    \"model__max_depth\": tune.randint(3, 50),\n",
    "    \"model__max_features\": tune.choice([\"sqrt\", \"log2\", None]),\n",
    "    \"model__class_weight\": tune.choice([\"balanced\", None]),\n",
    "    \"preprocess__encoder__step_params\": {\n",
    "        \"state\": {\"how\": tune.choice([\"label\", \"mean\"])},\n",
    "        \"zip_code\": {\"how\": tune.choice([\"label\", \"mean\"])},\n",
    "        \"title\": {\"how\": tune.choice([\"label\", \"mean\"])},\n",
    "    },\n",
    "}\n",
    "\n",
    "models.add_model(\n",
    "    \"tree_yn\", full_pipeline_tree, search_space_tree, metric_threshold=0.55\n",
    ")"
   ]
  },
  {
   "cell_type": "markdown",
   "metadata": {},
   "source": [
    "### Logreg"
   ]
  },
  {
   "cell_type": "code",
   "execution_count": 15,
   "metadata": {},
   "outputs": [],
   "source": [
    "imputer_logreg = copy.deepcopy(imputer)\n",
    "encoder_logreg = copy.deepcopy(encoder)\n",
    "null_imp_logreg = tr.PolarsColumnTransformer(\n",
    "    [\n",
    "        tr.PolarsColumnTransformer.Step(\n",
    "            \"dti_imp\", tr.PolarsNullImputer(10000), \"Debt-To-Income Ratio\"\n",
    "        ),\n",
    "        tr.PolarsColumnTransformer.Step(\n",
    "            \"requested_imp\", tr.PolarsNullImputer(0), \"Amount Requested\"\n",
    "        ),\n",
    "        tr.PolarsColumnTransformer.Step(\n",
    "            \"contains_num_imp\", tr.PolarsNullImputer(0), \"title_contains_numbers\"\n",
    "        ),\n",
    "        tr.PolarsColumnTransformer.Step(\n",
    "            \"lowercase_imp\", tr.PolarsNullImputer(0), \"title_starts_with_lowercase\"\n",
    "        ),\n",
    "        tr.PolarsColumnTransformer.Step(\n",
    "            \"title_len_imp\", tr.PolarsNullImputer(0), \"title_length\"\n",
    "        ),\n",
    "    ]\n",
    ")\n",
    "\n",
    "scaler=StandardScaler()\n",
    "\n",
    "preprocess_logreg = Pipeline(\n",
    "    [\n",
    "        (\"imputer\", imputer_logreg),\n",
    "        (\"encoder\", encoder_logreg),\n",
    "        (\"null_imputer\", null_imp_logreg),\n",
    "        (\"scaler\", scaler)\n",
    "    ]\n",
    ")\n",
    "\n",
    "model_logreg = LogisticRegression(class_weight=\"balanced\", max_iter=2000, tol=0.001)\n",
    "\n",
    "full_pipeline_logreg = Pipeline(\n",
    "    [\n",
    "        (\"preprocess\", preprocess_logreg),\n",
    "        (\"model\", model_logreg),\n",
    "    ]\n",
    ")\n",
    "\n",
    "search_space_logreg = {\n",
    "    \"model__class_weight\":tune.choice(['balanced',None]),\n",
    "    \"model__penalty\": tune.choice(\n",
    "        [\n",
    "            \"l1\",\n",
    "            \"l2\",\n",
    "            None\n",
    "        ]\n",
    "    ),\n",
    "    \"model__C\": tune.loguniform(0.001, 10.0),\n",
    "    \"model__solver\": tune.choice([\"saga\"]),\n",
    "    \"preprocess__encoder__step_params\": {\n",
    "        \"state\": {\"how\": tune.choice([\"label\", \"mean\"])},\n",
    "        \"zip_code\": {\"how\": tune.choice([\"label\", \"mean\"])},\n",
    "        \"title\": {\"how\": tune.choice([\"label\", \"mean\"])},\n",
    "    },\n",
    "}\n",
    "\n",
    "models.add_model(\n",
    "    \"logreg_yn\",\n",
    "    full_pipeline_logreg,\n",
    "    search_space_logreg,\n",
    "    metric_threshold=0.5,\n",
    "    override_n=52,\n",
    ")"
   ]
  },
  {
   "cell_type": "code",
   "execution_count": 18,
   "metadata": {},
   "outputs": [
    {
     "data": {
      "text/html": [
       "<div class=\"tuneStatus\">\n",
       "  <div style=\"display: flex;flex-direction: row\">\n",
       "    <div style=\"display: flex;flex-direction: column;\">\n",
       "      <h3>Tune Status</h3>\n",
       "      <table>\n",
       "<tbody>\n",
       "<tr><td>Current time:</td><td>2023-10-12 06:12:11</td></tr>\n",
       "<tr><td>Running for: </td><td>00:16:13.18        </td></tr>\n",
       "<tr><td>Memory:      </td><td>11.0/31.2 GiB      </td></tr>\n",
       "</tbody>\n",
       "</table>\n",
       "    </div>\n",
       "    <div class=\"vDivider\"></div>\n",
       "    <div class=\"systemInfo\">\n",
       "      <h3>System Info</h3>\n",
       "      Using FIFO scheduling algorithm.<br>Logical resource usage: 1.0/12 CPUs, 0/1 GPUs (0.0/1.0 accelerator_type:G)\n",
       "    </div>\n",
       "    \n",
       "  </div>\n",
       "  <div class=\"hDivider\"></div>\n",
       "  <div class=\"trialStatus\">\n",
       "    <h3>Trial Status</h3>\n",
       "    <table>\n",
       "<thead>\n",
       "<tr><th>Trial name        </th><th>status    </th><th>loc                </th><th style=\"text-align: right;\">  model__C</th><th>model__class_weight  </th><th>model__penalty  </th><th>model__solver  </th><th>...ocess__encoder__s\n",
       "tep_params/state/how      </th><th>...ocess__encoder__s\n",
       "tep_params/title/how      </th><th>...ss__encoder__step\n",
       "_params/zip_code/how      </th><th style=\"text-align: right;\">  iter</th><th style=\"text-align: right;\">  total time (s)</th><th style=\"text-align: right;\">   score</th></tr>\n",
       "</thead>\n",
       "<tbody>\n",
       "<tr><td>Trainable_87d7d5d3</td><td>TERMINATED</td><td>192.168.0.103:25873</td><td style=\"text-align: right;\">7.96505   </td><td>balanced             </td><td>l2              </td><td>saga           </td><td>mean </td><td>mean </td><td>label</td><td style=\"text-align: right;\">     3</td><td style=\"text-align: right;\">        159.846 </td><td style=\"text-align: right;\">0.454661</td></tr>\n",
       "<tr><td>Trainable_ba593003</td><td>TERMINATED</td><td>192.168.0.103:25916</td><td style=\"text-align: right;\">0.104322  </td><td>                     </td><td>l2              </td><td>saga           </td><td>label</td><td>label</td><td>label</td><td style=\"text-align: right;\">     3</td><td style=\"text-align: right;\">        184.076 </td><td style=\"text-align: right;\">0.486085</td></tr>\n",
       "<tr><td>Trainable_3f6ef081</td><td>TERMINATED</td><td>192.168.0.103:25961</td><td style=\"text-align: right;\">0.116294  </td><td>                     </td><td>l1              </td><td>saga           </td><td>mean </td><td>label</td><td>label</td><td style=\"text-align: right;\">     3</td><td style=\"text-align: right;\">        208.414 </td><td style=\"text-align: right;\">0.486305</td></tr>\n",
       "<tr><td>Trainable_896505fc</td><td>TERMINATED</td><td>192.168.0.103:26012</td><td style=\"text-align: right;\">0.617371  </td><td>balanced             </td><td>                </td><td>saga           </td><td>label</td><td>label</td><td>mean </td><td style=\"text-align: right;\">     3</td><td style=\"text-align: right;\">        187.037 </td><td style=\"text-align: right;\">0.489538</td></tr>\n",
       "<tr><td>Trainable_3d1a270d</td><td>TERMINATED</td><td>192.168.0.103:26057</td><td style=\"text-align: right;\">0.00509169</td><td>                     </td><td>                </td><td>saga           </td><td>mean </td><td>label</td><td>mean </td><td style=\"text-align: right;\">     3</td><td style=\"text-align: right;\">        212.735 </td><td style=\"text-align: right;\">0.486672</td></tr>\n",
       "<tr><td>Trainable_37f70e3b</td><td>TERMINATED</td><td>192.168.0.103:26102</td><td style=\"text-align: right;\">0.0502643 </td><td>                     </td><td>l1              </td><td>saga           </td><td>mean </td><td>label</td><td>mean </td><td style=\"text-align: right;\">     3</td><td style=\"text-align: right;\">        212.847 </td><td style=\"text-align: right;\">0.486412</td></tr>\n",
       "<tr><td>Trainable_73d134f5</td><td>TERMINATED</td><td>192.168.0.103:26147</td><td style=\"text-align: right;\">0.0295674 </td><td>balanced             </td><td>l2              </td><td>saga           </td><td>label</td><td>label</td><td>mean </td><td style=\"text-align: right;\">     3</td><td style=\"text-align: right;\">        158.349 </td><td style=\"text-align: right;\">0.489326</td></tr>\n",
       "<tr><td>Trainable_6d86edf8</td><td>TERMINATED</td><td>192.168.0.103:26193</td><td style=\"text-align: right;\">0.00940117</td><td>balanced             </td><td>l1              </td><td>saga           </td><td>mean </td><td>mean </td><td>label</td><td style=\"text-align: right;\">     3</td><td style=\"text-align: right;\">        164.928 </td><td style=\"text-align: right;\">0.453623</td></tr>\n",
       "<tr><td>Trainable_34333e2c</td><td>TERMINATED</td><td>192.168.0.103:26240</td><td style=\"text-align: right;\">0.00407486</td><td>                     </td><td>l1              </td><td>saga           </td><td>mean </td><td>mean </td><td>label</td><td style=\"text-align: right;\">     3</td><td style=\"text-align: right;\">        162.305 </td><td style=\"text-align: right;\">0.492391</td></tr>\n",
       "<tr><td>Trainable_ffd97991</td><td>TERMINATED</td><td>192.168.0.103:26286</td><td style=\"text-align: right;\">0.0289474 </td><td>                     </td><td>l1              </td><td>saga           </td><td>mean </td><td>mean </td><td>label</td><td style=\"text-align: right;\">     3</td><td style=\"text-align: right;\">        212.98  </td><td style=\"text-align: right;\">0.496094</td></tr>\n",
       "<tr><td>Trainable_7b51e2e9</td><td>TERMINATED</td><td>192.168.0.103:26331</td><td style=\"text-align: right;\">6.03288   </td><td>balanced             </td><td>                </td><td>saga           </td><td>label</td><td>mean </td><td>label</td><td style=\"text-align: right;\">     3</td><td style=\"text-align: right;\">        191.672 </td><td style=\"text-align: right;\">0.454089</td></tr>\n",
       "<tr><td>Trainable_02252df7</td><td>TERMINATED</td><td>192.168.0.103:26378</td><td style=\"text-align: right;\">0.0582514 </td><td>balanced             </td><td>l2              </td><td>saga           </td><td>label</td><td>mean </td><td>label</td><td style=\"text-align: right;\">     3</td><td style=\"text-align: right;\">        170.113 </td><td style=\"text-align: right;\">0.453858</td></tr>\n",
       "<tr><td>Trainable_76c1603b</td><td>TERMINATED</td><td>192.168.0.103:26468</td><td style=\"text-align: right;\">0.0183766 </td><td>                     </td><td>l2              </td><td>saga           </td><td>mean </td><td>mean </td><td>label</td><td style=\"text-align: right;\">     3</td><td style=\"text-align: right;\">        176.229 </td><td style=\"text-align: right;\">0.495702</td></tr>\n",
       "<tr><td>Trainable_4af2ea61</td><td>TERMINATED</td><td>192.168.0.103:26545</td><td style=\"text-align: right;\">0.071343  </td><td>                     </td><td>                </td><td>saga           </td><td>label</td><td>label</td><td>mean </td><td style=\"text-align: right;\">     3</td><td style=\"text-align: right;\">        214.735 </td><td style=\"text-align: right;\">0.486451</td></tr>\n",
       "<tr><td>Trainable_472fdafa</td><td>TERMINATED</td><td>192.168.0.103:26622</td><td style=\"text-align: right;\">0.00287413</td><td>                     </td><td>l1              </td><td>saga           </td><td>mean </td><td>mean </td><td>mean </td><td style=\"text-align: right;\">     3</td><td style=\"text-align: right;\">        140.77  </td><td style=\"text-align: right;\">0.492531</td></tr>\n",
       "<tr><td>Trainable_bb28e62d</td><td>TERMINATED</td><td>192.168.0.103:26697</td><td style=\"text-align: right;\">0.0169846 </td><td>balanced             </td><td>                </td><td>saga           </td><td>mean </td><td>label</td><td>mean </td><td style=\"text-align: right;\">     3</td><td style=\"text-align: right;\">        195.382 </td><td style=\"text-align: right;\">0.489296</td></tr>\n",
       "<tr><td>Trainable_1991f6e0</td><td>TERMINATED</td><td>192.168.0.103:26798</td><td style=\"text-align: right;\">0.0111992 </td><td>                     </td><td>                </td><td>saga           </td><td>label</td><td>label</td><td>mean </td><td style=\"text-align: right;\">     3</td><td style=\"text-align: right;\">        217.868 </td><td style=\"text-align: right;\">0.486451</td></tr>\n",
       "<tr><td>Trainable_c4b5c6af</td><td>TERMINATED</td><td>192.168.0.103:26847</td><td style=\"text-align: right;\">1.58016   </td><td>                     </td><td>l1              </td><td>saga           </td><td>mean </td><td>mean </td><td>label</td><td style=\"text-align: right;\">     3</td><td style=\"text-align: right;\">        221.184 </td><td style=\"text-align: right;\">0.496557</td></tr>\n",
       "<tr><td>Trainable_774b0ab5</td><td>TERMINATED</td><td>192.168.0.103:26898</td><td style=\"text-align: right;\">0.00500279</td><td>balanced             </td><td>l1              </td><td>saga           </td><td>mean </td><td>mean </td><td>mean </td><td style=\"text-align: right;\">     3</td><td style=\"text-align: right;\">        146.05  </td><td style=\"text-align: right;\">0.453297</td></tr>\n",
       "<tr><td>Trainable_600ed6f7</td><td>TERMINATED</td><td>192.168.0.103:26950</td><td style=\"text-align: right;\">0.0118502 </td><td>                     </td><td>                </td><td>saga           </td><td>mean </td><td>mean </td><td>mean </td><td style=\"text-align: right;\">     3</td><td style=\"text-align: right;\">        217.479 </td><td style=\"text-align: right;\">0.496629</td></tr>\n",
       "<tr><td>Trainable_3f11aeb2</td><td>TERMINATED</td><td>192.168.0.103:26995</td><td style=\"text-align: right;\">0.00142168</td><td>                     </td><td>l1              </td><td>saga           </td><td>mean </td><td>mean </td><td>label</td><td style=\"text-align: right;\">     3</td><td style=\"text-align: right;\">         78.9473</td><td style=\"text-align: right;\">0.489877</td></tr>\n",
       "<tr><td>Trainable_a7424609</td><td>TERMINATED</td><td>192.168.0.103:27041</td><td style=\"text-align: right;\">0.00102586</td><td>                     </td><td>                </td><td>saga           </td><td>label</td><td>mean </td><td>mean </td><td style=\"text-align: right;\">     3</td><td style=\"text-align: right;\">        218.472 </td><td style=\"text-align: right;\">0.496238</td></tr>\n",
       "<tr><td>Trainable_ff1c15c8</td><td>TERMINATED</td><td>192.168.0.103:27087</td><td style=\"text-align: right;\">0.00113544</td><td>                     </td><td>l1              </td><td>saga           </td><td>mean </td><td>mean </td><td>label</td><td style=\"text-align: right;\">     3</td><td style=\"text-align: right;\">         59.4828</td><td style=\"text-align: right;\">0.486166</td></tr>\n",
       "<tr><td>Trainable_4962fbac</td><td>TERMINATED</td><td>192.168.0.103:27135</td><td style=\"text-align: right;\">0.00112086</td><td>                     </td><td>l1              </td><td>saga           </td><td>mean </td><td>mean </td><td>label</td><td style=\"text-align: right;\">     3</td><td style=\"text-align: right;\">         57.8153</td><td style=\"text-align: right;\">0.485949</td></tr>\n",
       "<tr><td>Trainable_6ac3133f</td><td>TERMINATED</td><td>192.168.0.103:27221</td><td style=\"text-align: right;\">0.00111114</td><td>                     </td><td>l1              </td><td>saga           </td><td>mean </td><td>mean </td><td>label</td><td style=\"text-align: right;\">     3</td><td style=\"text-align: right;\">         55.1076</td><td style=\"text-align: right;\">0.485806</td></tr>\n",
       "<tr><td>Trainable_67aacfe6</td><td>TERMINATED</td><td>192.168.0.103:27321</td><td style=\"text-align: right;\">0.0153167 </td><td>                     </td><td>l2              </td><td>saga           </td><td>mean </td><td>mean </td><td>label</td><td style=\"text-align: right;\">     3</td><td style=\"text-align: right;\">        173.039 </td><td style=\"text-align: right;\">0.495773</td></tr>\n",
       "<tr><td>Trainable_ef11a6b7</td><td>TERMINATED</td><td>192.168.0.103:27370</td><td style=\"text-align: right;\">0.0174922 </td><td>                     </td><td>l2              </td><td>saga           </td><td>mean </td><td>mean </td><td>label</td><td style=\"text-align: right;\">     3</td><td style=\"text-align: right;\">        178.116 </td><td style=\"text-align: right;\">0.495702</td></tr>\n",
       "<tr><td>Trainable_eb5bade3</td><td>TERMINATED</td><td>192.168.0.103:27418</td><td style=\"text-align: right;\">0.020212  </td><td>                     </td><td>l2              </td><td>saga           </td><td>mean </td><td>mean </td><td>label</td><td style=\"text-align: right;\">     3</td><td style=\"text-align: right;\">        184.953 </td><td style=\"text-align: right;\">0.495702</td></tr>\n",
       "<tr><td>Trainable_0a142ccc</td><td>TERMINATED</td><td>192.168.0.103:27466</td><td style=\"text-align: right;\">0.0157063 </td><td>                     </td><td>l2              </td><td>saga           </td><td>mean </td><td>mean </td><td>label</td><td style=\"text-align: right;\">     3</td><td style=\"text-align: right;\">        174.656 </td><td style=\"text-align: right;\">0.495773</td></tr>\n",
       "<tr><td>Trainable_41678c61</td><td>TERMINATED</td><td>192.168.0.103:27546</td><td style=\"text-align: right;\">0.0156161 </td><td>                     </td><td>l2              </td><td>saga           </td><td>mean </td><td>mean </td><td>label</td><td style=\"text-align: right;\">     3</td><td style=\"text-align: right;\">        173.816 </td><td style=\"text-align: right;\">0.495773</td></tr>\n",
       "<tr><td>Trainable_71c1eded</td><td>TERMINATED</td><td>192.168.0.103:27624</td><td style=\"text-align: right;\">0.0213526 </td><td>                     </td><td>l2              </td><td>saga           </td><td>mean </td><td>mean </td><td>label</td><td style=\"text-align: right;\">     3</td><td style=\"text-align: right;\">        186.956 </td><td style=\"text-align: right;\">0.495702</td></tr>\n",
       "<tr><td>Trainable_d275fdd3</td><td>TERMINATED</td><td>192.168.0.103:27721</td><td style=\"text-align: right;\">0.0143174 </td><td>                     </td><td>l2              </td><td>saga           </td><td>mean </td><td>mean </td><td>mean </td><td style=\"text-align: right;\">     3</td><td style=\"text-align: right;\">        174.844 </td><td style=\"text-align: right;\">0.495702</td></tr>\n",
       "<tr><td>Trainable_31c41a00</td><td>TERMINATED</td><td>192.168.0.103:27775</td><td style=\"text-align: right;\">0.0187901 </td><td>                     </td><td>l2              </td><td>saga           </td><td>mean </td><td>mean </td><td>mean </td><td style=\"text-align: right;\">     3</td><td style=\"text-align: right;\">        179.766 </td><td style=\"text-align: right;\">0.495739</td></tr>\n",
       "<tr><td>Trainable_99999c12</td><td>TERMINATED</td><td>192.168.0.103:27855</td><td style=\"text-align: right;\">0.0157501 </td><td>                     </td><td>l2              </td><td>saga           </td><td>mean </td><td>mean </td><td>mean </td><td style=\"text-align: right;\">     3</td><td style=\"text-align: right;\">        178.612 </td><td style=\"text-align: right;\">0.495774</td></tr>\n",
       "<tr><td>Trainable_92559db2</td><td>TERMINATED</td><td>192.168.0.103:27932</td><td style=\"text-align: right;\">0.0152042 </td><td>                     </td><td>l2              </td><td>saga           </td><td>mean </td><td>mean </td><td>label</td><td style=\"text-align: right;\">     3</td><td style=\"text-align: right;\">        174.097 </td><td style=\"text-align: right;\">0.495773</td></tr>\n",
       "<tr><td>Trainable_d919d1ba</td><td>TERMINATED</td><td>192.168.0.103:28012</td><td style=\"text-align: right;\">0.295352  </td><td>                     </td><td>l2              </td><td>saga           </td><td>mean </td><td>mean </td><td>label</td><td style=\"text-align: right;\">     3</td><td style=\"text-align: right;\">        217.941 </td><td style=\"text-align: right;\">0.496557</td></tr>\n",
       "<tr><td>Trainable_6731ae5e</td><td>TERMINATED</td><td>192.168.0.103:28090</td><td style=\"text-align: right;\">0.242118  </td><td>                     </td><td>                </td><td>saga           </td><td>mean </td><td>mean </td><td>label</td><td style=\"text-align: right;\">     3</td><td style=\"text-align: right;\">        221.89  </td><td style=\"text-align: right;\">0.496557</td></tr>\n",
       "<tr><td>Trainable_121e492c</td><td>TERMINATED</td><td>192.168.0.103:28173</td><td style=\"text-align: right;\">0.456262  </td><td>                     </td><td>                </td><td>saga           </td><td>label</td><td>mean </td><td>mean </td><td style=\"text-align: right;\">     3</td><td style=\"text-align: right;\">        223.512 </td><td style=\"text-align: right;\">0.496238</td></tr>\n",
       "<tr><td>Trainable_8f051f29</td><td>TERMINATED</td><td>192.168.0.103:28250</td><td style=\"text-align: right;\">0.286316  </td><td>                     </td><td>                </td><td>saga           </td><td>label</td><td>mean </td><td>mean </td><td style=\"text-align: right;\">     3</td><td style=\"text-align: right;\">        220.963 </td><td style=\"text-align: right;\">0.496238</td></tr>\n",
       "<tr><td>Trainable_efa46df0</td><td>TERMINATED</td><td>192.168.0.103:28328</td><td style=\"text-align: right;\">0.00229744</td><td>                     </td><td>                </td><td>saga           </td><td>label</td><td>mean </td><td>mean </td><td style=\"text-align: right;\">     3</td><td style=\"text-align: right;\">        219.01  </td><td style=\"text-align: right;\">0.496238</td></tr>\n",
       "<tr><td>Trainable_b58b2372</td><td>TERMINATED</td><td>192.168.0.103:28370</td><td style=\"text-align: right;\">0.225666  </td><td>                     </td><td>                </td><td>saga           </td><td>label</td><td>mean </td><td>mean </td><td style=\"text-align: right;\">     3</td><td style=\"text-align: right;\">        221.53  </td><td style=\"text-align: right;\">0.496238</td></tr>\n",
       "<tr><td>Trainable_7974056a</td><td>TERMINATED</td><td>192.168.0.103:28451</td><td style=\"text-align: right;\">0.00219492</td><td>                     </td><td>                </td><td>saga           </td><td>label</td><td>mean </td><td>mean </td><td style=\"text-align: right;\">     3</td><td style=\"text-align: right;\">        222.993 </td><td style=\"text-align: right;\">0.496238</td></tr>\n",
       "<tr><td>Trainable_7b46c687</td><td>TERMINATED</td><td>192.168.0.103:28530</td><td style=\"text-align: right;\">0.00233846</td><td>                     </td><td>                </td><td>saga           </td><td>label</td><td>mean </td><td>mean </td><td style=\"text-align: right;\">     3</td><td style=\"text-align: right;\">        223.09  </td><td style=\"text-align: right;\">0.496238</td></tr>\n",
       "<tr><td>Trainable_a822e053</td><td>TERMINATED</td><td>192.168.0.103:28583</td><td style=\"text-align: right;\">0.162522  </td><td>                     </td><td>                </td><td>saga           </td><td>label</td><td>mean </td><td>mean </td><td style=\"text-align: right;\">     3</td><td style=\"text-align: right;\">        222.914 </td><td style=\"text-align: right;\">0.496238</td></tr>\n",
       "<tr><td>Trainable_8ecfab1a</td><td>TERMINATED</td><td>192.168.0.103:28660</td><td style=\"text-align: right;\">0.226252  </td><td>                     </td><td>                </td><td>saga           </td><td>label</td><td>mean </td><td>mean </td><td style=\"text-align: right;\">     3</td><td style=\"text-align: right;\">        214.264 </td><td style=\"text-align: right;\">0.496238</td></tr>\n",
       "<tr><td>Trainable_b882ce90</td><td>TERMINATED</td><td>192.168.0.103:28739</td><td style=\"text-align: right;\">0.216226  </td><td>                     </td><td>                </td><td>saga           </td><td>label</td><td>mean </td><td>mean </td><td style=\"text-align: right;\">     3</td><td style=\"text-align: right;\">        213.583 </td><td style=\"text-align: right;\">0.496238</td></tr>\n",
       "<tr><td>Trainable_24f8c62e</td><td>TERMINATED</td><td>192.168.0.103:28818</td><td style=\"text-align: right;\">0.170289  </td><td>                     </td><td>                </td><td>saga           </td><td>label</td><td>mean </td><td>mean </td><td style=\"text-align: right;\">     3</td><td style=\"text-align: right;\">        210.352 </td><td style=\"text-align: right;\">0.496238</td></tr>\n",
       "<tr><td>Trainable_73ad7ff2</td><td>TERMINATED</td><td>192.168.0.103:28902</td><td style=\"text-align: right;\">0.15603   </td><td>                     </td><td>                </td><td>saga           </td><td>label</td><td>mean </td><td>mean </td><td style=\"text-align: right;\">     3</td><td style=\"text-align: right;\">        188.704 </td><td style=\"text-align: right;\">0.496238</td></tr>\n",
       "<tr><td>Trainable_79984fb3</td><td>TERMINATED</td><td>192.168.0.103:28983</td><td style=\"text-align: right;\">0.17266   </td><td>                     </td><td>                </td><td>saga           </td><td>label</td><td>mean </td><td>mean </td><td style=\"text-align: right;\">     3</td><td style=\"text-align: right;\">        179.44  </td><td style=\"text-align: right;\">0.496238</td></tr>\n",
       "<tr><td>Trainable_e3c55e76</td><td>TERMINATED</td><td>192.168.0.103:29061</td><td style=\"text-align: right;\">0.192076  </td><td>                     </td><td>                </td><td>saga           </td><td>mean </td><td>mean </td><td>label</td><td style=\"text-align: right;\">     3</td><td style=\"text-align: right;\">        163.952 </td><td style=\"text-align: right;\">0.496557</td></tr>\n",
       "<tr><td>Trainable_f6a21a4d</td><td>TERMINATED</td><td>192.168.0.103:29137</td><td style=\"text-align: right;\">0.301438  </td><td>                     </td><td>                </td><td>saga           </td><td>mean </td><td>mean </td><td>label</td><td style=\"text-align: right;\">     3</td><td style=\"text-align: right;\">        156.045 </td><td style=\"text-align: right;\">0.496557</td></tr>\n",
       "<tr><td>Trainable_23e76581</td><td>TERMINATED</td><td>192.168.0.103:29216</td><td style=\"text-align: right;\">0.169549  </td><td>                     </td><td>                </td><td>saga           </td><td>mean </td><td>label</td><td>label</td><td style=\"text-align: right;\">     3</td><td style=\"text-align: right;\">        150.101 </td><td style=\"text-align: right;\">0.486565</td></tr>\n",
       "</tbody>\n",
       "</table>\n",
       "  </div>\n",
       "</div>\n",
       "<style>\n",
       ".tuneStatus {\n",
       "  color: var(--jp-ui-font-color1);\n",
       "}\n",
       ".tuneStatus .systemInfo {\n",
       "  display: flex;\n",
       "  flex-direction: column;\n",
       "}\n",
       ".tuneStatus td {\n",
       "  white-space: nowrap;\n",
       "}\n",
       ".tuneStatus .trialStatus {\n",
       "  display: flex;\n",
       "  flex-direction: column;\n",
       "}\n",
       ".tuneStatus h3 {\n",
       "  font-weight: bold;\n",
       "}\n",
       ".tuneStatus .hDivider {\n",
       "  border-bottom-width: var(--jp-border-width);\n",
       "  border-bottom-color: var(--jp-border-color0);\n",
       "  border-bottom-style: solid;\n",
       "}\n",
       ".tuneStatus .vDivider {\n",
       "  border-left-width: var(--jp-border-width);\n",
       "  border-left-color: var(--jp-border-color0);\n",
       "  border-left-style: solid;\n",
       "  margin: 0.5em 1em 0.5em 1em;\n",
       "}\n",
       "</style>\n"
      ],
      "text/plain": [
       "<IPython.core.display.HTML object>"
      ]
     },
     "metadata": {},
     "output_type": "display_data"
    },
    {
     "name": "stderr",
     "output_type": "stream",
     "text": [
      "\u001b[2m\u001b[36m(Trainable pid=26012)\u001b[0m /home/gediminas/anaconda3/lib/python3.9/site-packages/sklearn/linear_model/_logistic.py:1193: UserWarning: Setting penalty=None will ignore the C and l1_ratio parameters\n",
      "\u001b[2m\u001b[36m(Trainable pid=26012)\u001b[0m   warnings.warn(\n",
      "\u001b[2m\u001b[36m(Trainable pid=26057)\u001b[0m /home/gediminas/anaconda3/lib/python3.9/site-packages/sklearn/linear_model/_logistic.py:1193: UserWarning: Setting penalty=None will ignore the C and l1_ratio parameters\n",
      "\u001b[2m\u001b[36m(Trainable pid=26057)\u001b[0m   warnings.warn(\n"
     ]
    },
    {
     "name": "stdout",
     "output_type": "stream",
     "text": [
      "\u001b[2m\u001b[36m(Trainable pid=25873)\u001b[0m Step 0 F-1 Score: 0.45233828748111443\u001b[32m [repeated 10x across cluster]\u001b[0m\n",
      "\u001b[2m\u001b[36m(Trainable pid=25916)\u001b[0m Step 0 F-1 Score: 0.48487042131171276\n",
      "\u001b[2m\u001b[36m(Trainable pid=26012)\u001b[0m Step 0 F-1 Score: 0.48296913970889327\n"
     ]
    },
    {
     "name": "stderr",
     "output_type": "stream",
     "text": [
      "\u001b[2m\u001b[36m(Trainable pid=26012)\u001b[0m /home/gediminas/anaconda3/lib/python3.9/site-packages/sklearn/linear_model/_logistic.py:1193: UserWarning: Setting penalty=None will ignore the C and l1_ratio parameters\n",
      "\u001b[2m\u001b[36m(Trainable pid=26012)\u001b[0m   warnings.warn(\n"
     ]
    },
    {
     "name": "stdout",
     "output_type": "stream",
     "text": [
      "\u001b[2m\u001b[36m(Trainable pid=25961)\u001b[0m Step 0 F-1 Score: 0.48469498516535203\n"
     ]
    },
    {
     "name": "stderr",
     "output_type": "stream",
     "text": [
      "\u001b[2m\u001b[36m(Trainable pid=26331)\u001b[0m /home/gediminas/anaconda3/lib/python3.9/site-packages/sklearn/linear_model/_logistic.py:1193: UserWarning: Setting penalty=None will ignore the C and l1_ratio parameters\n",
      "\u001b[2m\u001b[36m(Trainable pid=26331)\u001b[0m   warnings.warn(\n"
     ]
    },
    {
     "name": "stdout",
     "output_type": "stream",
     "text": [
      "\u001b[2m\u001b[36m(Trainable pid=25873)\u001b[0m Step 1 F-1 Score: 0.45280612244897955\n"
     ]
    },
    {
     "name": "stderr",
     "output_type": "stream",
     "text": [
      "\u001b[2m\u001b[36m(Trainable pid=26057)\u001b[0m /home/gediminas/anaconda3/lib/python3.9/site-packages/sklearn/linear_model/_logistic.py:1193: UserWarning: Setting penalty=None will ignore the C and l1_ratio parameters\n",
      "\u001b[2m\u001b[36m(Trainable pid=26057)\u001b[0m   warnings.warn(\n"
     ]
    },
    {
     "name": "stdout",
     "output_type": "stream",
     "text": [
      "\u001b[2m\u001b[36m(Trainable pid=26102)\u001b[0m Step 0 F-1 Score: 0.48392701998262383\u001b[32m [repeated 3x across cluster]\u001b[0m\n",
      "\u001b[2m\u001b[36m(Trainable pid=26240)\u001b[0m Step 0 F-1 Score: 0.4907016060862215\u001b[32m [repeated 2x across cluster]\u001b[0m\n",
      "\u001b[2m\u001b[36m(Trainable pid=25916)\u001b[0m Step 1 F-1 Score: 0.4768084949487501\n",
      "\u001b[2m\u001b[36m(Trainable pid=26012)\u001b[0m Step 1 F-1 Score: 0.4898532033531844\n"
     ]
    },
    {
     "name": "stderr",
     "output_type": "stream",
     "text": [
      "\u001b[2m\u001b[36m(Trainable pid=26012)\u001b[0m /home/gediminas/anaconda3/lib/python3.9/site-packages/sklearn/linear_model/_logistic.py:1193: UserWarning: Setting penalty=None will ignore the C and l1_ratio parameters\n",
      "\u001b[2m\u001b[36m(Trainable pid=26012)\u001b[0m   warnings.warn(\n"
     ]
    },
    {
     "name": "stdout",
     "output_type": "stream",
     "text": [
      "\u001b[2m\u001b[36m(Trainable pid=26331)\u001b[0m Step 0 F-1 Score: 0.45232067510548524\n"
     ]
    },
    {
     "name": "stderr",
     "output_type": "stream",
     "text": [
      "\u001b[2m\u001b[36m(Trainable pid=26331)\u001b[0m /home/gediminas/anaconda3/lib/python3.9/site-packages/sklearn/linear_model/_logistic.py:1193: UserWarning: Setting penalty=None will ignore the C and l1_ratio parameters\n",
      "\u001b[2m\u001b[36m(Trainable pid=26331)\u001b[0m   warnings.warn(\n"
     ]
    },
    {
     "name": "stdout",
     "output_type": "stream",
     "text": [
      "\u001b[2m\u001b[36m(Trainable pid=26286)\u001b[0m Step 0 F-1 Score: 0.4937385676093992\n",
      "\u001b[2m\u001b[36m(Trainable pid=25873)\u001b[0m Step 2 F-1 Score: 0.4546612868974304\u001b[32m [repeated 2x across cluster]\u001b[0m\n",
      "\u001b[2m\u001b[36m(Trainable pid=26193)\u001b[0m Step 1 F-1 Score: 0.45224351028792015\u001b[32m [repeated 3x across cluster]\u001b[0m\n",
      "\u001b[2m\u001b[36m(Trainable pid=26057)\u001b[0m Step 1 F-1 Score: 0.47737656595431105\n"
     ]
    },
    {
     "name": "stderr",
     "output_type": "stream",
     "text": [
      "\u001b[2m\u001b[36m(Trainable pid=26057)\u001b[0m /home/gediminas/anaconda3/lib/python3.9/site-packages/sklearn/linear_model/_logistic.py:1193: UserWarning: Setting penalty=None will ignore the C and l1_ratio parameters\n",
      "\u001b[2m\u001b[36m(Trainable pid=26057)\u001b[0m   warnings.warn(\n"
     ]
    },
    {
     "name": "stdout",
     "output_type": "stream",
     "text": [
      "\u001b[2m\u001b[36m(Trainable pid=25916)\u001b[0m Step 2 F-1 Score: 0.48608480256447617\n",
      "\u001b[2m\u001b[36m(Trainable pid=26147)\u001b[0m Step 2 F-1 Score: 0.48932626797880396\u001b[32m [repeated 3x across cluster]\u001b[0m\n"
     ]
    },
    {
     "name": "stderr",
     "output_type": "stream",
     "text": [
      "\u001b[2m\u001b[36m(Trainable pid=26545)\u001b[0m /home/gediminas/anaconda3/lib/python3.9/site-packages/sklearn/linear_model/_logistic.py:1193: UserWarning: Setting penalty=None will ignore the C and l1_ratio parameters\n",
      "\u001b[2m\u001b[36m(Trainable pid=26545)\u001b[0m   warnings.warn(\n"
     ]
    },
    {
     "name": "stdout",
     "output_type": "stream",
     "text": [
      "\u001b[2m\u001b[36m(Trainable pid=26331)\u001b[0m Step 1 F-1 Score: 0.4526711067025649\u001b[32m [repeated 2x across cluster]\u001b[0m\n"
     ]
    },
    {
     "name": "stderr",
     "output_type": "stream",
     "text": [
      "\u001b[2m\u001b[36m(Trainable pid=26331)\u001b[0m /home/gediminas/anaconda3/lib/python3.9/site-packages/sklearn/linear_model/_logistic.py:1193: UserWarning: Setting penalty=None will ignore the C and l1_ratio parameters\n",
      "\u001b[2m\u001b[36m(Trainable pid=26331)\u001b[0m   warnings.warn(\n"
     ]
    },
    {
     "name": "stdout",
     "output_type": "stream",
     "text": [
      "\u001b[2m\u001b[36m(Trainable pid=25961)\u001b[0m Step 2 F-1 Score: 0.48630536130536134\u001b[32m [repeated 3x across cluster]\u001b[0m\n"
     ]
    },
    {
     "name": "stderr",
     "output_type": "stream",
     "text": [
      "\u001b[2m\u001b[36m(Trainable pid=26697)\u001b[0m /home/gediminas/anaconda3/lib/python3.9/site-packages/sklearn/linear_model/_logistic.py:1193: UserWarning: Setting penalty=None will ignore the C and l1_ratio parameters\n",
      "\u001b[2m\u001b[36m(Trainable pid=26697)\u001b[0m   warnings.warn(\n"
     ]
    },
    {
     "name": "stdout",
     "output_type": "stream",
     "text": [
      "\u001b[2m\u001b[36m(Trainable pid=26286)\u001b[0m Step 1 F-1 Score: 0.48769000214086916\u001b[32m [repeated 2x across cluster]\u001b[0m\n"
     ]
    },
    {
     "name": "stderr",
     "output_type": "stream",
     "text": [
      "\u001b[2m\u001b[36m(Trainable pid=26798)\u001b[0m /home/gediminas/anaconda3/lib/python3.9/site-packages/sklearn/linear_model/_logistic.py:1193: UserWarning: Setting penalty=None will ignore the C and l1_ratio parameters\n",
      "\u001b[2m\u001b[36m(Trainable pid=26798)\u001b[0m   warnings.warn(\n"
     ]
    },
    {
     "name": "stdout",
     "output_type": "stream",
     "text": [
      "\u001b[2m\u001b[36m(Trainable pid=26468)\u001b[0m Step 0 F-1 Score: 0.492996410220314\u001b[32m [repeated 2x across cluster]\u001b[0m\n",
      "\u001b[2m\u001b[36m(Trainable pid=26102)\u001b[0m Step 2 F-1 Score: 0.4864116575591986\n",
      "\u001b[2m\u001b[36m(Trainable pid=26378)\u001b[0m Step 2 F-1 Score: 0.4538575772576197\n"
     ]
    },
    {
     "name": "stderr",
     "output_type": "stream",
     "text": [
      "\u001b[2m\u001b[36m(Trainable pid=26950)\u001b[0m /home/gediminas/anaconda3/lib/python3.9/site-packages/sklearn/linear_model/_logistic.py:1193: UserWarning: Setting penalty=None will ignore the C and l1_ratio parameters\n",
      "\u001b[2m\u001b[36m(Trainable pid=26950)\u001b[0m   warnings.warn(\n"
     ]
    },
    {
     "name": "stdout",
     "output_type": "stream",
     "text": [
      "\u001b[2m\u001b[36m(Trainable pid=26622)\u001b[0m Step 0 F-1 Score: 0.4896002256222239\n",
      "\u001b[2m\u001b[36m(Trainable pid=26331)\u001b[0m Step 2 F-1 Score: 0.45408885116015846\n",
      "\u001b[2m\u001b[36m(Trainable pid=26545)\u001b[0m Step 0 F-1 Score: 0.48392701998262383\n"
     ]
    },
    {
     "name": "stderr",
     "output_type": "stream",
     "text": [
      "\u001b[2m\u001b[36m(Trainable pid=26545)\u001b[0m /home/gediminas/anaconda3/lib/python3.9/site-packages/sklearn/linear_model/_logistic.py:1193: UserWarning: Setting penalty=None will ignore the C and l1_ratio parameters\n",
      "\u001b[2m\u001b[36m(Trainable pid=26545)\u001b[0m   warnings.warn(\n"
     ]
    },
    {
     "name": "stdout",
     "output_type": "stream",
     "text": [
      "\u001b[2m\u001b[36m(Trainable pid=26286)\u001b[0m Step 2 F-1 Score: 0.496094304786252\n"
     ]
    },
    {
     "name": "stderr",
     "output_type": "stream",
     "text": [
      "\u001b[2m\u001b[36m(Trainable pid=27041)\u001b[0m /home/gediminas/anaconda3/lib/python3.9/site-packages/sklearn/linear_model/_logistic.py:1193: UserWarning: Setting penalty=None will ignore the C and l1_ratio parameters\n",
      "\u001b[2m\u001b[36m(Trainable pid=27041)\u001b[0m   warnings.warn(\n"
     ]
    },
    {
     "name": "stdout",
     "output_type": "stream",
     "text": [
      "\u001b[2m\u001b[36m(Trainable pid=26697)\u001b[0m Step 0 F-1 Score: 0.4829744430370316\n",
      "\u001b[2m\u001b[36m(Trainable pid=26468)\u001b[0m Step 1 F-1 Score: 0.48742857142857143\n",
      "\u001b[2m\u001b[36m(Trainable pid=26898)\u001b[0m Step 0 F-1 Score: 0.45015964352127996\u001b[32m [repeated 2x across cluster]\u001b[0m\n"
     ]
    },
    {
     "name": "stderr",
     "output_type": "stream",
     "text": [
      "\u001b[2m\u001b[36m(Trainable pid=26798)\u001b[0m /home/gediminas/anaconda3/lib/python3.9/site-packages/sklearn/linear_model/_logistic.py:1193: UserWarning: Setting penalty=None will ignore the C and l1_ratio parameters\u001b[32m [repeated 2x across cluster]\u001b[0m\n",
      "\u001b[2m\u001b[36m(Trainable pid=26798)\u001b[0m   warnings.warn(\u001b[32m [repeated 2x across cluster]\u001b[0m\n"
     ]
    },
    {
     "name": "stdout",
     "output_type": "stream",
     "text": [
      "\u001b[2m\u001b[36m(Trainable pid=27087)\u001b[0m Step 0 F-1 Score: 0.4848399180154075\u001b[32m [repeated 2x across cluster]\u001b[0m\n",
      "\u001b[2m\u001b[36m(Trainable pid=26847)\u001b[0m Step 0 F-1 Score: 0.4937750580291201\n",
      "\u001b[2m\u001b[36m(Trainable pid=26622)\u001b[0m Step 1 F-1 Score: 0.4854673998428907\n",
      "\u001b[2m\u001b[36m(Trainable pid=26995)\u001b[0m Step 1 F-1 Score: 0.48012035246077794\u001b[32m [repeated 2x across cluster]\u001b[0m\n",
      "\u001b[2m\u001b[36m(Trainable pid=26468)\u001b[0m Step 2 F-1 Score: 0.49570220927754494\u001b[32m [repeated 2x across cluster]\u001b[0m\n"
     ]
    },
    {
     "name": "stderr",
     "output_type": "stream",
     "text": [
      "\u001b[2m\u001b[36m(Trainable pid=26950)\u001b[0m /home/gediminas/anaconda3/lib/python3.9/site-packages/sklearn/linear_model/_logistic.py:1193: UserWarning: Setting penalty=None will ignore the C and l1_ratio parameters\n",
      "\u001b[2m\u001b[36m(Trainable pid=26950)\u001b[0m   warnings.warn(\n"
     ]
    },
    {
     "name": "stdout",
     "output_type": "stream",
     "text": [
      "\u001b[2m\u001b[36m(Trainable pid=27135)\u001b[0m Step 1 F-1 Score: 0.47626570915619393\u001b[32m [repeated 2x across cluster]\u001b[0m\n"
     ]
    },
    {
     "name": "stderr",
     "output_type": "stream",
     "text": [
      "\u001b[2m\u001b[36m(Trainable pid=26697)\u001b[0m /home/gediminas/anaconda3/lib/python3.9/site-packages/sklearn/linear_model/_logistic.py:1193: UserWarning: Setting penalty=None will ignore the C and l1_ratio parameters\n",
      "\u001b[2m\u001b[36m(Trainable pid=26697)\u001b[0m   warnings.warn(\n"
     ]
    },
    {
     "name": "stdout",
     "output_type": "stream",
     "text": [
      "\u001b[2m\u001b[36m(Trainable pid=26545)\u001b[0m Step 1 F-1 Score: 0.47703310477033106\u001b[32m [repeated 5x across cluster]\u001b[0m\n",
      "\u001b[2m\u001b[36m(Trainable pid=27135)\u001b[0m Step 2 F-1 Score: 0.48594923131927076\n",
      "\u001b[2m\u001b[36m(Trainable pid=27041)\u001b[0m Step 0 F-1 Score: 0.49346083532555196\n"
     ]
    },
    {
     "name": "stderr",
     "output_type": "stream",
     "text": [
      "\u001b[2m\u001b[36m(Trainable pid=27041)\u001b[0m /home/gediminas/anaconda3/lib/python3.9/site-packages/sklearn/linear_model/_logistic.py:1193: UserWarning: Setting penalty=None will ignore the C and l1_ratio parameters\u001b[32m [repeated 2x across cluster]\u001b[0m\n",
      "\u001b[2m\u001b[36m(Trainable pid=27041)\u001b[0m   warnings.warn(\u001b[32m [repeated 2x across cluster]\u001b[0m\n"
     ]
    },
    {
     "name": "stdout",
     "output_type": "stream",
     "text": [
      "\u001b[2m\u001b[36m(Trainable pid=27221)\u001b[0m Step 0 F-1 Score: 0.4847670884286422\u001b[32m [repeated 2x across cluster]\u001b[0m\n",
      "\u001b[2m\u001b[36m(Trainable pid=26798)\u001b[0m Step 1 F-1 Score: 0.47703310477033106\n"
     ]
    },
    {
     "name": "stderr",
     "output_type": "stream",
     "text": [
      "\u001b[2m\u001b[36m(Trainable pid=26798)\u001b[0m /home/gediminas/anaconda3/lib/python3.9/site-packages/sklearn/linear_model/_logistic.py:1193: UserWarning: Setting penalty=None will ignore the C and l1_ratio parameters\n",
      "\u001b[2m\u001b[36m(Trainable pid=26798)\u001b[0m   warnings.warn(\n"
     ]
    },
    {
     "name": "stdout",
     "output_type": "stream",
     "text": [
      "\u001b[2m\u001b[36m(Trainable pid=27221)\u001b[0m Step 1 F-1 Score: 0.47626570915619393\n",
      "\u001b[2m\u001b[36m(Trainable pid=26847)\u001b[0m Step 1 F-1 Score: 0.48747412747127256\u001b[32m [repeated 2x across cluster]\u001b[0m\n",
      "\u001b[2m\u001b[36m(Trainable pid=27221)\u001b[0m Step 2 F-1 Score: 0.48580622095101894\n",
      "\u001b[2m\u001b[36m(Trainable pid=26545)\u001b[0m Step 2 F-1 Score: 0.486451048951049\n",
      "\u001b[2m\u001b[36m(Trainable pid=26950)\u001b[0m Step 1 F-1 Score: 0.4879440719075474\u001b[32m [repeated 2x across cluster]\u001b[0m\n"
     ]
    },
    {
     "name": "stderr",
     "output_type": "stream",
     "text": [
      "\u001b[2m\u001b[36m(Trainable pid=26950)\u001b[0m /home/gediminas/anaconda3/lib/python3.9/site-packages/sklearn/linear_model/_logistic.py:1193: UserWarning: Setting penalty=None will ignore the C and l1_ratio parameters\n",
      "\u001b[2m\u001b[36m(Trainable pid=26950)\u001b[0m   warnings.warn(\n"
     ]
    },
    {
     "name": "stdout",
     "output_type": "stream",
     "text": [
      "\u001b[2m\u001b[36m(Trainable pid=27321)\u001b[0m Step 0 F-1 Score: 0.49278423090461104\n",
      "\u001b[2m\u001b[36m(Trainable pid=27041)\u001b[0m Step 1 F-1 Score: 0.4880068532267276\n"
     ]
    },
    {
     "name": "stderr",
     "output_type": "stream",
     "text": [
      "\u001b[2m\u001b[36m(Trainable pid=27041)\u001b[0m /home/gediminas/anaconda3/lib/python3.9/site-packages/sklearn/linear_model/_logistic.py:1193: UserWarning: Setting penalty=None will ignore the C and l1_ratio parameters\n",
      "\u001b[2m\u001b[36m(Trainable pid=27041)\u001b[0m   warnings.warn(\n"
     ]
    },
    {
     "name": "stdout",
     "output_type": "stream",
     "text": [
      "\u001b[2m\u001b[36m(Trainable pid=26798)\u001b[0m Step 2 F-1 Score: 0.486451048951049\u001b[32m [repeated 2x across cluster]\u001b[0m\n",
      "\u001b[2m\u001b[36m(Trainable pid=27418)\u001b[0m Step 0 F-1 Score: 0.4929617117117118\n",
      "\u001b[2m\u001b[36m(Trainable pid=26847)\u001b[0m Step 2 F-1 Score: 0.4965566205182819\n",
      "\u001b[2m\u001b[36m(Trainable pid=27546)\u001b[0m Step 0 F-1 Score: 0.49278423090461104\u001b[32m [repeated 2x across cluster]\u001b[0m\n",
      "\u001b[2m\u001b[36m(Trainable pid=27624)\u001b[0m Step 0 F-1 Score: 0.4930677739460905\u001b[32m [repeated 2x across cluster]\u001b[0m\n",
      "\u001b[2m\u001b[36m(Trainable pid=27721)\u001b[0m Step 0 F-1 Score: 0.49274954244685354\n",
      "\u001b[2m\u001b[36m(Trainable pid=27321)\u001b[0m Step 1 F-1 Score: 0.48742857142857143\n",
      "\u001b[2m\u001b[36m(Trainable pid=27775)\u001b[0m Step 0 F-1 Score: 0.4930677739460905\u001b[32m [repeated 2x across cluster]\u001b[0m\n"
     ]
    },
    {
     "name": "stderr",
     "output_type": "stream",
     "text": [
      "\u001b[2m\u001b[36m(Trainable pid=28090)\u001b[0m /home/gediminas/anaconda3/lib/python3.9/site-packages/sklearn/linear_model/_logistic.py:1193: UserWarning: Setting penalty=None will ignore the C and l1_ratio parameters\n",
      "\u001b[2m\u001b[36m(Trainable pid=28090)\u001b[0m   warnings.warn(\n"
     ]
    },
    {
     "name": "stdout",
     "output_type": "stream",
     "text": [
      "\u001b[2m\u001b[36m(Trainable pid=27418)\u001b[0m Step 1 F-1 Score: 0.48742857142857143\u001b[32m [repeated 2x across cluster]\u001b[0m\n",
      "\u001b[2m\u001b[36m(Trainable pid=27321)\u001b[0m Step 2 F-1 Score: 0.49577264653641206\u001b[32m [repeated 3x across cluster]\u001b[0m\n",
      "\u001b[2m\u001b[36m(Trainable pid=27932)\u001b[0m Step 0 F-1 Score: 0.4926781188397635\n",
      "\u001b[2m\u001b[36m(Trainable pid=27546)\u001b[0m Step 1 F-1 Score: 0.48742857142857143\n"
     ]
    },
    {
     "name": "stderr",
     "output_type": "stream",
     "text": [
      "\u001b[2m\u001b[36m(Trainable pid=28173)\u001b[0m /home/gediminas/anaconda3/lib/python3.9/site-packages/sklearn/linear_model/_logistic.py:1193: UserWarning: Setting penalty=None will ignore the C and l1_ratio parameters\n",
      "\u001b[2m\u001b[36m(Trainable pid=28173)\u001b[0m   warnings.warn(\n"
     ]
    },
    {
     "name": "stdout",
     "output_type": "stream",
     "text": [
      "\u001b[2m\u001b[36m(Trainable pid=27370)\u001b[0m Step 2 F-1 Score: 0.49570220927754494\n",
      "\u001b[2m\u001b[36m(Trainable pid=27624)\u001b[0m Step 1 F-1 Score: 0.48742857142857143\n"
     ]
    },
    {
     "name": "stderr",
     "output_type": "stream",
     "text": [
      "\u001b[2m\u001b[36m(Trainable pid=28250)\u001b[0m /home/gediminas/anaconda3/lib/python3.9/site-packages/sklearn/linear_model/_logistic.py:1193: UserWarning: Setting penalty=None will ignore the C and l1_ratio parameters\n",
      "\u001b[2m\u001b[36m(Trainable pid=28250)\u001b[0m   warnings.warn(\n"
     ]
    },
    {
     "name": "stdout",
     "output_type": "stream",
     "text": [
      "\u001b[2m\u001b[36m(Trainable pid=27418)\u001b[0m Step 2 F-1 Score: 0.49570220927754494\u001b[32m [repeated 2x across cluster]\u001b[0m\n",
      "\u001b[2m\u001b[36m(Trainable pid=27775)\u001b[0m Step 1 F-1 Score: 0.4876829703677258\u001b[32m [repeated 3x across cluster]\u001b[0m\n"
     ]
    },
    {
     "name": "stderr",
     "output_type": "stream",
     "text": [
      "\u001b[2m\u001b[36m(Trainable pid=28328)\u001b[0m /home/gediminas/anaconda3/lib/python3.9/site-packages/sklearn/linear_model/_logistic.py:1193: UserWarning: Setting penalty=None will ignore the C and l1_ratio parameters\n",
      "\u001b[2m\u001b[36m(Trainable pid=28328)\u001b[0m   warnings.warn(\n",
      "\u001b[2m\u001b[36m(Trainable pid=28370)\u001b[0m /home/gediminas/anaconda3/lib/python3.9/site-packages/sklearn/linear_model/_logistic.py:1193: UserWarning: Setting penalty=None will ignore the C and l1_ratio parameters\n",
      "\u001b[2m\u001b[36m(Trainable pid=28370)\u001b[0m   warnings.warn(\n"
     ]
    },
    {
     "name": "stdout",
     "output_type": "stream",
     "text": [
      "\u001b[2m\u001b[36m(Trainable pid=28090)\u001b[0m Step 0 F-1 Score: 0.4937750580291201\u001b[32m [repeated 2x across cluster]\u001b[0m\n",
      "\u001b[2m\u001b[36m(Trainable pid=27855)\u001b[0m Step 1 F-1 Score: 0.4876097979004499\n"
     ]
    },
    {
     "name": "stderr",
     "output_type": "stream",
     "text": [
      "\u001b[2m\u001b[36m(Trainable pid=28451)\u001b[0m /home/gediminas/anaconda3/lib/python3.9/site-packages/sklearn/linear_model/_logistic.py:1193: UserWarning: Setting penalty=None will ignore the C and l1_ratio parameters\u001b[32m [repeated 2x across cluster]\u001b[0m\n",
      "\u001b[2m\u001b[36m(Trainable pid=28451)\u001b[0m   warnings.warn(\u001b[32m [repeated 2x across cluster]\u001b[0m\n"
     ]
    },
    {
     "name": "stdout",
     "output_type": "stream",
     "text": [
      "\u001b[2m\u001b[36m(Trainable pid=27721)\u001b[0m Step 2 F-1 Score: 0.49570220927754494\n",
      "\u001b[2m\u001b[36m(Trainable pid=27932)\u001b[0m Step 1 F-1 Score: 0.48742857142857143\u001b[32m [repeated 2x across cluster]\u001b[0m\n"
     ]
    },
    {
     "name": "stderr",
     "output_type": "stream",
     "text": [
      "\u001b[2m\u001b[36m(Trainable pid=28530)\u001b[0m /home/gediminas/anaconda3/lib/python3.9/site-packages/sklearn/linear_model/_logistic.py:1193: UserWarning: Setting penalty=None will ignore the C and l1_ratio parameters\n",
      "\u001b[2m\u001b[36m(Trainable pid=28530)\u001b[0m   warnings.warn(\n"
     ]
    },
    {
     "name": "stdout",
     "output_type": "stream",
     "text": [
      "\u001b[2m\u001b[36m(Trainable pid=27775)\u001b[0m Step 2 F-1 Score: 0.4957386363636364\n"
     ]
    },
    {
     "name": "stderr",
     "output_type": "stream",
     "text": [
      "\u001b[2m\u001b[36m(Trainable pid=28583)\u001b[0m /home/gediminas/anaconda3/lib/python3.9/site-packages/sklearn/linear_model/_logistic.py:1193: UserWarning: Setting penalty=None will ignore the C and l1_ratio parameters\n",
      "\u001b[2m\u001b[36m(Trainable pid=28583)\u001b[0m   warnings.warn(\n"
     ]
    },
    {
     "name": "stdout",
     "output_type": "stream",
     "text": [
      "\u001b[2m\u001b[36m(Trainable pid=28173)\u001b[0m Step 0 F-1 Score: 0.49346083532555196\n"
     ]
    },
    {
     "name": "stderr",
     "output_type": "stream",
     "text": [
      "\u001b[2m\u001b[36m(Trainable pid=28173)\u001b[0m /home/gediminas/anaconda3/lib/python3.9/site-packages/sklearn/linear_model/_logistic.py:1193: UserWarning: Setting penalty=None will ignore the C and l1_ratio parameters\n",
      "\u001b[2m\u001b[36m(Trainable pid=28173)\u001b[0m   warnings.warn(\n",
      "\u001b[2m\u001b[36m(Trainable pid=28660)\u001b[0m /home/gediminas/anaconda3/lib/python3.9/site-packages/sklearn/linear_model/_logistic.py:1193: UserWarning: Setting penalty=None will ignore the C and l1_ratio parameters\n",
      "\u001b[2m\u001b[36m(Trainable pid=28660)\u001b[0m   warnings.warn(\n"
     ]
    },
    {
     "name": "stdout",
     "output_type": "stream",
     "text": [
      "\u001b[2m\u001b[36m(Trainable pid=27855)\u001b[0m Step 2 F-1 Score: 0.4957738475744016\n",
      "\u001b[2m\u001b[36m(Trainable pid=28250)\u001b[0m Step 0 F-1 Score: 0.49346083532555196\n"
     ]
    },
    {
     "name": "stderr",
     "output_type": "stream",
     "text": [
      "\u001b[2m\u001b[36m(Trainable pid=28250)\u001b[0m /home/gediminas/anaconda3/lib/python3.9/site-packages/sklearn/linear_model/_logistic.py:1193: UserWarning: Setting penalty=None will ignore the C and l1_ratio parameters\n",
      "\u001b[2m\u001b[36m(Trainable pid=28250)\u001b[0m   warnings.warn(\n",
      "\u001b[2m\u001b[36m(Trainable pid=28739)\u001b[0m /home/gediminas/anaconda3/lib/python3.9/site-packages/sklearn/linear_model/_logistic.py:1193: UserWarning: Setting penalty=None will ignore the C and l1_ratio parameters\n",
      "\u001b[2m\u001b[36m(Trainable pid=28739)\u001b[0m   warnings.warn(\n"
     ]
    },
    {
     "name": "stdout",
     "output_type": "stream",
     "text": [
      "\u001b[2m\u001b[36m(Trainable pid=28012)\u001b[0m Step 1 F-1 Score: 0.4875089221984296\u001b[32m [repeated 2x across cluster]\u001b[0m\n",
      "\u001b[2m\u001b[36m(Trainable pid=28328)\u001b[0m Step 0 F-1 Score: 0.49346083532555196\n"
     ]
    },
    {
     "name": "stderr",
     "output_type": "stream",
     "text": [
      "\u001b[2m\u001b[36m(Trainable pid=28328)\u001b[0m /home/gediminas/anaconda3/lib/python3.9/site-packages/sklearn/linear_model/_logistic.py:1193: UserWarning: Setting penalty=None will ignore the C and l1_ratio parameters\n",
      "\u001b[2m\u001b[36m(Trainable pid=28328)\u001b[0m   warnings.warn(\n",
      "\u001b[2m\u001b[36m(Trainable pid=28818)\u001b[0m /home/gediminas/anaconda3/lib/python3.9/site-packages/sklearn/linear_model/_logistic.py:1193: UserWarning: Setting penalty=None will ignore the C and l1_ratio parameters\n",
      "\u001b[2m\u001b[36m(Trainable pid=28818)\u001b[0m   warnings.warn(\n"
     ]
    },
    {
     "name": "stdout",
     "output_type": "stream",
     "text": [
      "\u001b[2m\u001b[36m(Trainable pid=28370)\u001b[0m Step 0 F-1 Score: 0.49346083532555196\n"
     ]
    },
    {
     "name": "stderr",
     "output_type": "stream",
     "text": [
      "\u001b[2m\u001b[36m(Trainable pid=28370)\u001b[0m /home/gediminas/anaconda3/lib/python3.9/site-packages/sklearn/linear_model/_logistic.py:1193: UserWarning: Setting penalty=None will ignore the C and l1_ratio parameters\n",
      "\u001b[2m\u001b[36m(Trainable pid=28370)\u001b[0m   warnings.warn(\n",
      "\u001b[2m\u001b[36m(Trainable pid=28090)\u001b[0m /home/gediminas/anaconda3/lib/python3.9/site-packages/sklearn/linear_model/_logistic.py:1193: UserWarning: Setting penalty=None will ignore the C and l1_ratio parameters\n",
      "\u001b[2m\u001b[36m(Trainable pid=28090)\u001b[0m   warnings.warn(\n"
     ]
    },
    {
     "name": "stdout",
     "output_type": "stream",
     "text": [
      "\u001b[2m\u001b[36m(Trainable pid=28451)\u001b[0m Step 0 F-1 Score: 0.49346083532555196\u001b[32m [repeated 2x across cluster]\u001b[0m\n"
     ]
    },
    {
     "name": "stderr",
     "output_type": "stream",
     "text": [
      "\u001b[2m\u001b[36m(Trainable pid=28451)\u001b[0m /home/gediminas/anaconda3/lib/python3.9/site-packages/sklearn/linear_model/_logistic.py:1193: UserWarning: Setting penalty=None will ignore the C and l1_ratio parameters\n",
      "\u001b[2m\u001b[36m(Trainable pid=28451)\u001b[0m   warnings.warn(\n"
     ]
    },
    {
     "name": "stdout",
     "output_type": "stream",
     "text": [
      "\u001b[2m\u001b[36m(Trainable pid=28530)\u001b[0m Step 0 F-1 Score: 0.49346083532555196\n"
     ]
    },
    {
     "name": "stderr",
     "output_type": "stream",
     "text": [
      "\u001b[2m\u001b[36m(Trainable pid=28530)\u001b[0m /home/gediminas/anaconda3/lib/python3.9/site-packages/sklearn/linear_model/_logistic.py:1193: UserWarning: Setting penalty=None will ignore the C and l1_ratio parameters\n",
      "\u001b[2m\u001b[36m(Trainable pid=28530)\u001b[0m   warnings.warn(\n"
     ]
    },
    {
     "name": "stdout",
     "output_type": "stream",
     "text": [
      "\u001b[2m\u001b[36m(Trainable pid=28012)\u001b[0m Step 2 F-1 Score: 0.4965566205182819\n"
     ]
    },
    {
     "name": "stderr",
     "output_type": "stream",
     "text": [
      "\u001b[2m\u001b[36m(Trainable pid=28583)\u001b[0m /home/gediminas/anaconda3/lib/python3.9/site-packages/sklearn/linear_model/_logistic.py:1193: UserWarning: Setting penalty=None will ignore the C and l1_ratio parameters\n",
      "\u001b[2m\u001b[36m(Trainable pid=28583)\u001b[0m   warnings.warn(\n"
     ]
    },
    {
     "name": "stdout",
     "output_type": "stream",
     "text": [
      "\u001b[2m\u001b[36m(Trainable pid=28173)\u001b[0m Step 1 F-1 Score: 0.4880068532267276\u001b[32m [repeated 2x across cluster]\u001b[0m\n"
     ]
    },
    {
     "name": "stderr",
     "output_type": "stream",
     "text": [
      "\u001b[2m\u001b[36m(Trainable pid=28173)\u001b[0m /home/gediminas/anaconda3/lib/python3.9/site-packages/sklearn/linear_model/_logistic.py:1193: UserWarning: Setting penalty=None will ignore the C and l1_ratio parameters\n",
      "\u001b[2m\u001b[36m(Trainable pid=28173)\u001b[0m   warnings.warn(\n",
      "\u001b[2m\u001b[36m(Trainable pid=28902)\u001b[0m /home/gediminas/anaconda3/lib/python3.9/site-packages/sklearn/linear_model/_logistic.py:1193: UserWarning: Setting penalty=None will ignore the C and l1_ratio parameters\u001b[32m [repeated 2x across cluster]\u001b[0m\n",
      "\u001b[2m\u001b[36m(Trainable pid=28902)\u001b[0m   warnings.warn(\u001b[32m [repeated 2x across cluster]\u001b[0m\n"
     ]
    },
    {
     "name": "stdout",
     "output_type": "stream",
     "text": [
      "\u001b[2m\u001b[36m(Trainable pid=28250)\u001b[0m Step 1 F-1 Score: 0.4880068532267276\u001b[32m [repeated 2x across cluster]\u001b[0m\n"
     ]
    },
    {
     "name": "stderr",
     "output_type": "stream",
     "text": [
      "\u001b[2m\u001b[36m(Trainable pid=28250)\u001b[0m /home/gediminas/anaconda3/lib/python3.9/site-packages/sklearn/linear_model/_logistic.py:1193: UserWarning: Setting penalty=None will ignore the C and l1_ratio parameters\n",
      "\u001b[2m\u001b[36m(Trainable pid=28250)\u001b[0m   warnings.warn(\n"
     ]
    },
    {
     "name": "stdout",
     "output_type": "stream",
     "text": [
      "\u001b[2m\u001b[36m(Trainable pid=28739)\u001b[0m Step 0 F-1 Score: 0.49346083532555196\n",
      "\u001b[2m\u001b[36m(Trainable pid=28090)\u001b[0m Step 2 F-1 Score: 0.4965566205182819\n"
     ]
    },
    {
     "name": "stderr",
     "output_type": "stream",
     "text": [
      "\u001b[2m\u001b[36m(Trainable pid=28739)\u001b[0m /home/gediminas/anaconda3/lib/python3.9/site-packages/sklearn/linear_model/_logistic.py:1193: UserWarning: Setting penalty=None will ignore the C and l1_ratio parameters\n",
      "\u001b[2m\u001b[36m(Trainable pid=28739)\u001b[0m   warnings.warn(\n"
     ]
    },
    {
     "name": "stdout",
     "output_type": "stream",
     "text": [
      "\u001b[2m\u001b[36m(Trainable pid=28328)\u001b[0m Step 1 F-1 Score: 0.4880068532267276\n"
     ]
    },
    {
     "name": "stderr",
     "output_type": "stream",
     "text": [
      "\u001b[2m\u001b[36m(Trainable pid=28328)\u001b[0m /home/gediminas/anaconda3/lib/python3.9/site-packages/sklearn/linear_model/_logistic.py:1193: UserWarning: Setting penalty=None will ignore the C and l1_ratio parameters\n",
      "\u001b[2m\u001b[36m(Trainable pid=28328)\u001b[0m   warnings.warn(\n"
     ]
    },
    {
     "name": "stdout",
     "output_type": "stream",
     "text": [
      "\u001b[2m\u001b[36m(Trainable pid=28818)\u001b[0m Step 0 F-1 Score: 0.49346083532555196\n"
     ]
    },
    {
     "name": "stderr",
     "output_type": "stream",
     "text": [
      "\u001b[2m\u001b[36m(Trainable pid=28818)\u001b[0m /home/gediminas/anaconda3/lib/python3.9/site-packages/sklearn/linear_model/_logistic.py:1193: UserWarning: Setting penalty=None will ignore the C and l1_ratio parameters\n",
      "\u001b[2m\u001b[36m(Trainable pid=28818)\u001b[0m   warnings.warn(\n"
     ]
    },
    {
     "name": "stdout",
     "output_type": "stream",
     "text": [
      "\u001b[2m\u001b[36m(Trainable pid=28370)\u001b[0m Step 1 F-1 Score: 0.4880068532267276\n"
     ]
    },
    {
     "name": "stderr",
     "output_type": "stream",
     "text": [
      "\u001b[2m\u001b[36m(Trainable pid=28370)\u001b[0m /home/gediminas/anaconda3/lib/python3.9/site-packages/sklearn/linear_model/_logistic.py:1193: UserWarning: Setting penalty=None will ignore the C and l1_ratio parameters\u001b[32m [repeated 2x across cluster]\u001b[0m\n",
      "\u001b[2m\u001b[36m(Trainable pid=28370)\u001b[0m   warnings.warn(\u001b[32m [repeated 2x across cluster]\u001b[0m\n"
     ]
    },
    {
     "name": "stdout",
     "output_type": "stream",
     "text": [
      "\u001b[2m\u001b[36m(Trainable pid=28451)\u001b[0m Step 1 F-1 Score: 0.4880068532267276\n"
     ]
    },
    {
     "name": "stderr",
     "output_type": "stream",
     "text": [
      "\u001b[2m\u001b[36m(Trainable pid=28451)\u001b[0m /home/gediminas/anaconda3/lib/python3.9/site-packages/sklearn/linear_model/_logistic.py:1193: UserWarning: Setting penalty=None will ignore the C and l1_ratio parameters\n",
      "\u001b[2m\u001b[36m(Trainable pid=28451)\u001b[0m   warnings.warn(\n"
     ]
    },
    {
     "name": "stdout",
     "output_type": "stream",
     "text": [
      "\u001b[2m\u001b[36m(Trainable pid=28530)\u001b[0m Step 1 F-1 Score: 0.4880068532267276\u001b[32m [repeated 2x across cluster]\u001b[0m\n"
     ]
    },
    {
     "name": "stderr",
     "output_type": "stream",
     "text": [
      "\u001b[2m\u001b[36m(Trainable pid=28530)\u001b[0m /home/gediminas/anaconda3/lib/python3.9/site-packages/sklearn/linear_model/_logistic.py:1193: UserWarning: Setting penalty=None will ignore the C and l1_ratio parameters\n",
      "\u001b[2m\u001b[36m(Trainable pid=28530)\u001b[0m   warnings.warn(\n"
     ]
    },
    {
     "name": "stdout",
     "output_type": "stream",
     "text": [
      "\u001b[2m\u001b[36m(Trainable pid=28583)\u001b[0m Step 1 F-1 Score: 0.4880068532267276\u001b[32m [repeated 2x across cluster]\u001b[0m\n"
     ]
    },
    {
     "name": "stderr",
     "output_type": "stream",
     "text": [
      "\u001b[2m\u001b[36m(Trainable pid=28583)\u001b[0m /home/gediminas/anaconda3/lib/python3.9/site-packages/sklearn/linear_model/_logistic.py:1193: UserWarning: Setting penalty=None will ignore the C and l1_ratio parameters\u001b[32m [repeated 2x across cluster]\u001b[0m\n",
      "\u001b[2m\u001b[36m(Trainable pid=28583)\u001b[0m   warnings.warn(\u001b[32m [repeated 2x across cluster]\u001b[0m\n"
     ]
    },
    {
     "name": "stdout",
     "output_type": "stream",
     "text": [
      "\u001b[2m\u001b[36m(Trainable pid=28328)\u001b[0m Step 2 F-1 Score: 0.4962384669978708\n",
      "\u001b[2m\u001b[36m(Trainable pid=28660)\u001b[0m Step 1 F-1 Score: 0.4880068532267276\n"
     ]
    },
    {
     "name": "stderr",
     "output_type": "stream",
     "text": [
      "\u001b[2m\u001b[36m(Trainable pid=28660)\u001b[0m /home/gediminas/anaconda3/lib/python3.9/site-packages/sklearn/linear_model/_logistic.py:1193: UserWarning: Setting penalty=None will ignore the C and l1_ratio parameters\u001b[32m [repeated 2x across cluster]\u001b[0m\n",
      "\u001b[2m\u001b[36m(Trainable pid=28660)\u001b[0m   warnings.warn(\u001b[32m [repeated 2x across cluster]\u001b[0m\n",
      "\u001b[2m\u001b[36m(Trainable pid=29216)\u001b[0m /home/gediminas/anaconda3/lib/python3.9/site-packages/sklearn/linear_model/_logistic.py:1193: UserWarning: Setting penalty=None will ignore the C and l1_ratio parameters\u001b[32m [repeated 2x across cluster]\u001b[0m\n",
      "\u001b[2m\u001b[36m(Trainable pid=29216)\u001b[0m   warnings.warn(\u001b[32m [repeated 2x across cluster]\u001b[0m\n"
     ]
    },
    {
     "name": "stdout",
     "output_type": "stream",
     "text": [
      "\u001b[2m\u001b[36m(Trainable pid=28370)\u001b[0m Step 2 F-1 Score: 0.4962384669978708\u001b[32m [repeated 2x across cluster]\u001b[0m\n",
      "\u001b[2m\u001b[36m(Trainable pid=28451)\u001b[0m Step 2 F-1 Score: 0.4962384669978708\u001b[32m [repeated 2x across cluster]\u001b[0m\n"
     ]
    },
    {
     "name": "stderr",
     "output_type": "stream",
     "text": [
      "\u001b[2m\u001b[36m(Trainable pid=28818)\u001b[0m /home/gediminas/anaconda3/lib/python3.9/site-packages/sklearn/linear_model/_logistic.py:1193: UserWarning: Setting penalty=None will ignore the C and l1_ratio parameters\u001b[32m [repeated 2x across cluster]\u001b[0m\n",
      "\u001b[2m\u001b[36m(Trainable pid=28818)\u001b[0m   warnings.warn(\u001b[32m [repeated 2x across cluster]\u001b[0m\n"
     ]
    },
    {
     "name": "stdout",
     "output_type": "stream",
     "text": [
      "\u001b[2m\u001b[36m(Trainable pid=28530)\u001b[0m Step 2 F-1 Score: 0.4962384669978708\u001b[32m [repeated 3x across cluster]\u001b[0m\n",
      "\u001b[2m\u001b[36m(Trainable pid=28583)\u001b[0m Step 2 F-1 Score: 0.4962384669978708\n",
      "\u001b[2m\u001b[36m(Trainable pid=28660)\u001b[0m Step 2 F-1 Score: 0.4962384669978708\n",
      "\u001b[2m\u001b[36m(Trainable pid=29061)\u001b[0m Step 0 F-1 Score: 0.4937750580291201\n"
     ]
    },
    {
     "name": "stderr",
     "output_type": "stream",
     "text": [
      "\u001b[2m\u001b[36m(Trainable pid=29061)\u001b[0m /home/gediminas/anaconda3/lib/python3.9/site-packages/sklearn/linear_model/_logistic.py:1193: UserWarning: Setting penalty=None will ignore the C and l1_ratio parameters\u001b[32m [repeated 2x across cluster]\u001b[0m\n",
      "\u001b[2m\u001b[36m(Trainable pid=29061)\u001b[0m   warnings.warn(\u001b[32m [repeated 2x across cluster]\u001b[0m\n"
     ]
    },
    {
     "name": "stdout",
     "output_type": "stream",
     "text": [
      "\u001b[2m\u001b[36m(Trainable pid=28739)\u001b[0m Step 2 F-1 Score: 0.4962384669978708\n"
     ]
    },
    {
     "name": "stderr",
     "output_type": "stream",
     "text": [
      "\u001b[2m\u001b[36m(Trainable pid=29137)\u001b[0m /home/gediminas/anaconda3/lib/python3.9/site-packages/sklearn/linear_model/_logistic.py:1193: UserWarning: Setting penalty=None will ignore the C and l1_ratio parameters\n",
      "\u001b[2m\u001b[36m(Trainable pid=29137)\u001b[0m   warnings.warn(\n"
     ]
    },
    {
     "name": "stdout",
     "output_type": "stream",
     "text": [
      "\u001b[2m\u001b[36m(Trainable pid=28818)\u001b[0m Step 2 F-1 Score: 0.4962384669978708\u001b[32m [repeated 2x across cluster]\u001b[0m\n"
     ]
    },
    {
     "name": "stderr",
     "output_type": "stream",
     "text": [
      "\u001b[2m\u001b[36m(Trainable pid=28902)\u001b[0m /home/gediminas/anaconda3/lib/python3.9/site-packages/sklearn/linear_model/_logistic.py:1193: UserWarning: Setting penalty=None will ignore the C and l1_ratio parameters\n",
      "\u001b[2m\u001b[36m(Trainable pid=28902)\u001b[0m   warnings.warn(\n"
     ]
    },
    {
     "name": "stdout",
     "output_type": "stream",
     "text": [
      "\u001b[2m\u001b[36m(Trainable pid=29216)\u001b[0m Step 0 F-1 Score: 0.48469498516535203\u001b[32m [repeated 2x across cluster]\u001b[0m\n"
     ]
    },
    {
     "name": "stderr",
     "output_type": "stream",
     "text": [
      "\u001b[2m\u001b[36m(Trainable pid=29216)\u001b[0m /home/gediminas/anaconda3/lib/python3.9/site-packages/sklearn/linear_model/_logistic.py:1193: UserWarning: Setting penalty=None will ignore the C and l1_ratio parameters\n",
      "\u001b[2m\u001b[36m(Trainable pid=29216)\u001b[0m   warnings.warn(\n"
     ]
    },
    {
     "name": "stdout",
     "output_type": "stream",
     "text": [
      "\u001b[2m\u001b[36m(Trainable pid=28983)\u001b[0m Step 1 F-1 Score: 0.4880068532267276\n"
     ]
    },
    {
     "name": "stderr",
     "output_type": "stream",
     "text": [
      "\u001b[2m\u001b[36m(Trainable pid=28983)\u001b[0m /home/gediminas/anaconda3/lib/python3.9/site-packages/sklearn/linear_model/_logistic.py:1193: UserWarning: Setting penalty=None will ignore the C and l1_ratio parameters\n",
      "\u001b[2m\u001b[36m(Trainable pid=28983)\u001b[0m   warnings.warn(\n"
     ]
    },
    {
     "name": "stdout",
     "output_type": "stream",
     "text": [
      "\u001b[2m\u001b[36m(Trainable pid=28902)\u001b[0m Step 2 F-1 Score: 0.4962384669978708\n",
      "\u001b[2m\u001b[36m(Trainable pid=29061)\u001b[0m Step 1 F-1 Score: 0.48747412747127256\n"
     ]
    },
    {
     "name": "stderr",
     "output_type": "stream",
     "text": [
      "\u001b[2m\u001b[36m(Trainable pid=29061)\u001b[0m /home/gediminas/anaconda3/lib/python3.9/site-packages/sklearn/linear_model/_logistic.py:1193: UserWarning: Setting penalty=None will ignore the C and l1_ratio parameters\n",
      "\u001b[2m\u001b[36m(Trainable pid=29061)\u001b[0m   warnings.warn(\n"
     ]
    },
    {
     "name": "stdout",
     "output_type": "stream",
     "text": [
      "\u001b[2m\u001b[36m(Trainable pid=29137)\u001b[0m Step 1 F-1 Score: 0.48747412747127256\n"
     ]
    },
    {
     "name": "stderr",
     "output_type": "stream",
     "text": [
      "\u001b[2m\u001b[36m(Trainable pid=29137)\u001b[0m /home/gediminas/anaconda3/lib/python3.9/site-packages/sklearn/linear_model/_logistic.py:1193: UserWarning: Setting penalty=None will ignore the C and l1_ratio parameters\n",
      "\u001b[2m\u001b[36m(Trainable pid=29137)\u001b[0m   warnings.warn(\n"
     ]
    },
    {
     "name": "stdout",
     "output_type": "stream",
     "text": [
      "\u001b[2m\u001b[36m(Trainable pid=29216)\u001b[0m Step 1 F-1 Score: 0.4771102100995208\u001b[32m [repeated 2x across cluster]\u001b[0m\n"
     ]
    },
    {
     "name": "stderr",
     "output_type": "stream",
     "text": [
      "\u001b[2m\u001b[36m(Trainable pid=29216)\u001b[0m /home/gediminas/anaconda3/lib/python3.9/site-packages/sklearn/linear_model/_logistic.py:1193: UserWarning: Setting penalty=None will ignore the C and l1_ratio parameters\n",
      "\u001b[2m\u001b[36m(Trainable pid=29216)\u001b[0m   warnings.warn(\n"
     ]
    },
    {
     "name": "stdout",
     "output_type": "stream",
     "text": [
      "\u001b[2m\u001b[36m(Trainable pid=29061)\u001b[0m Step 2 F-1 Score: 0.4965566205182819\n",
      "\u001b[2m\u001b[36m(Trainable pid=29137)\u001b[0m Step 2 F-1 Score: 0.4965566205182819\n",
      "\u001b[2m\u001b[36m(Trainable pid=29216)\u001b[0m Step 2 F-1 Score: 0.48656520789339547\n"
     ]
    },
    {
     "name": "stderr",
     "output_type": "stream",
     "text": [
      "2023-10-12 06:12:11,371\tINFO tune.py:1143 -- Total run time: 973.19 seconds (973.03 seconds for the tuning loop).\n"
     ]
    },
    {
     "name": "stdout",
     "output_type": "stream",
     "text": [
      "logreg_yn tuned.\n"
     ]
    },
    {
     "data": {
      "text/plain": [
       "['trained_models/tuned_models_yn.joblib']"
      ]
     },
     "execution_count": 18,
     "metadata": {},
     "output_type": "execute_result"
    }
   ],
   "source": [
    "models.tune_all(X_mini_train,y_mini_train,X_mini_val,y_mini_val,n=120,sample_size=300000)\n",
    "joblib.dump(models, 'trained_models/tuned_models_yn.joblib')\n",
    "# models=joblib.load('models_yn.joblib')\n"
   ]
  },
  {
   "cell_type": "markdown",
   "metadata": {},
   "source": [
    "##### Features dropped by Boruta:"
   ]
  },
  {
   "cell_type": "code",
   "execution_count": 35,
   "metadata": {},
   "outputs": [
    {
     "data": {
      "text/plain": [
       "[]"
      ]
     },
     "execution_count": 35,
     "metadata": {},
     "output_type": "execute_result"
    }
   ],
   "source": [
    "selected_features = (\n",
    "    models.models[\"lgbm_yn\"]\n",
    "    .pipeline[\"preprocess\"]\n",
    "    .fit_transform(\n",
    "        X_mini_train, y_mini_train\n",
    "    )\n",
    "    .columns\n",
    ")\n",
    "features_to_drop = [\n",
    "    feature for feature in X_mini_train.columns if feature not in selected_features\n",
    "]\n",
    "features_to_drop"
   ]
  },
  {
   "cell_type": "markdown",
   "metadata": {},
   "source": [
    "##### Dropping features manually instead of Boruta algorithm:"
   ]
  },
  {
   "cell_type": "code",
   "execution_count": 36,
   "metadata": {},
   "outputs": [],
   "source": [
    "models.models[\"lgbm_yn\"].pipeline[\"preprocess\"].steps.pop(-1)\n",
    "models.models[\"lgbm_yn\"].pipeline[\"preprocess\"].steps.append(\n",
    "    (\"feature_remover\", tr.FeatureRemover(feats_to_drop=features_to_drop))\n",
    ")"
   ]
  },
  {
   "cell_type": "code",
   "execution_count": 37,
   "metadata": {},
   "outputs": [
    {
     "data": {
      "text/html": [
       "<style>#sk-container-id-6 {color: black;}#sk-container-id-6 pre{padding: 0;}#sk-container-id-6 div.sk-toggleable {background-color: white;}#sk-container-id-6 label.sk-toggleable__label {cursor: pointer;display: block;width: 100%;margin-bottom: 0;padding: 0.3em;box-sizing: border-box;text-align: center;}#sk-container-id-6 label.sk-toggleable__label-arrow:before {content: \"▸\";float: left;margin-right: 0.25em;color: #696969;}#sk-container-id-6 label.sk-toggleable__label-arrow:hover:before {color: black;}#sk-container-id-6 div.sk-estimator:hover label.sk-toggleable__label-arrow:before {color: black;}#sk-container-id-6 div.sk-toggleable__content {max-height: 0;max-width: 0;overflow: hidden;text-align: left;background-color: #f0f8ff;}#sk-container-id-6 div.sk-toggleable__content pre {margin: 0.2em;color: black;border-radius: 0.25em;background-color: #f0f8ff;}#sk-container-id-6 input.sk-toggleable__control:checked~div.sk-toggleable__content {max-height: 200px;max-width: 100%;overflow: auto;}#sk-container-id-6 input.sk-toggleable__control:checked~label.sk-toggleable__label-arrow:before {content: \"▾\";}#sk-container-id-6 div.sk-estimator input.sk-toggleable__control:checked~label.sk-toggleable__label {background-color: #d4ebff;}#sk-container-id-6 div.sk-label input.sk-toggleable__control:checked~label.sk-toggleable__label {background-color: #d4ebff;}#sk-container-id-6 input.sk-hidden--visually {border: 0;clip: rect(1px 1px 1px 1px);clip: rect(1px, 1px, 1px, 1px);height: 1px;margin: -1px;overflow: hidden;padding: 0;position: absolute;width: 1px;}#sk-container-id-6 div.sk-estimator {font-family: monospace;background-color: #f0f8ff;border: 1px dotted black;border-radius: 0.25em;box-sizing: border-box;margin-bottom: 0.5em;}#sk-container-id-6 div.sk-estimator:hover {background-color: #d4ebff;}#sk-container-id-6 div.sk-parallel-item::after {content: \"\";width: 100%;border-bottom: 1px solid gray;flex-grow: 1;}#sk-container-id-6 div.sk-label:hover label.sk-toggleable__label {background-color: #d4ebff;}#sk-container-id-6 div.sk-serial::before {content: \"\";position: absolute;border-left: 1px solid gray;box-sizing: border-box;top: 0;bottom: 0;left: 50%;z-index: 0;}#sk-container-id-6 div.sk-serial {display: flex;flex-direction: column;align-items: center;background-color: white;padding-right: 0.2em;padding-left: 0.2em;position: relative;}#sk-container-id-6 div.sk-item {position: relative;z-index: 1;}#sk-container-id-6 div.sk-parallel {display: flex;align-items: stretch;justify-content: center;background-color: white;position: relative;}#sk-container-id-6 div.sk-item::before, #sk-container-id-6 div.sk-parallel-item::before {content: \"\";position: absolute;border-left: 1px solid gray;box-sizing: border-box;top: 0;bottom: 0;left: 50%;z-index: -1;}#sk-container-id-6 div.sk-parallel-item {display: flex;flex-direction: column;z-index: 1;position: relative;background-color: white;}#sk-container-id-6 div.sk-parallel-item:first-child::after {align-self: flex-end;width: 50%;}#sk-container-id-6 div.sk-parallel-item:last-child::after {align-self: flex-start;width: 50%;}#sk-container-id-6 div.sk-parallel-item:only-child::after {width: 0;}#sk-container-id-6 div.sk-dashed-wrapped {border: 1px dashed gray;margin: 0 0.4em 0.5em 0.4em;box-sizing: border-box;padding-bottom: 0.4em;background-color: white;}#sk-container-id-6 div.sk-label label {font-family: monospace;font-weight: bold;display: inline-block;line-height: 1.2em;}#sk-container-id-6 div.sk-label-container {text-align: center;}#sk-container-id-6 div.sk-container {/* jupyter's `normalize.less` sets `[hidden] { display: none; }` but bootstrap.min.css set `[hidden] { display: none !important; }` so we also need the `!important` here to be able to override the default hidden behavior on the sphinx rendered scikit-learn.org. See: https://github.com/scikit-learn/scikit-learn/issues/21755 */display: inline-block !important;position: relative;}#sk-container-id-6 div.sk-text-repr-fallback {display: none;}</style><div id=\"sk-container-id-6\" class=\"sk-top-container\"><div class=\"sk-text-repr-fallback\"><pre>Pipeline(steps=[(&#x27;preprocess&#x27;,\n",
       "                 Pipeline(steps=[(&#x27;imputer&#x27;,\n",
       "                                  PolarsColumnTransformer(steps=OrderedDict([(&#x27;title_imp&#x27;,\n",
       "                                                                              &lt;functions.transformers.PolarsColumnTransformer.Step object at 0x7f1df0ae1490&gt;),\n",
       "                                                                             (&#x27;zip_code_imp&#x27;,\n",
       "                                                                              &lt;functions.transformers.PolarsColumnTransformer.Step object at 0x7f1d7c1ca370&gt;),\n",
       "                                                                             (&#x27;state_imp&#x27;,\n",
       "                                                                              &lt;functions.transformers.PolarsColumnTransformer.Step ob...\n",
       "                 LGBMClassifier(bagging_freq=1, boosting_type=&#x27;rf&#x27;,\n",
       "                                colsample_bytree=0.6493512125583797,\n",
       "                                force_col_wise=True,\n",
       "                                learning_rate=0.0016953844895474985, max_bin=88,\n",
       "                                n_estimators=163, num_leaves=64, num_threads=1,\n",
       "                                random_state=RandomState(MT19937) at 0x7F1DD8D66840,\n",
       "                                reg_alpha=0.2593993722718682,\n",
       "                                reg_lambda=0.0065935503244421035,\n",
       "                                subsample=0.5824004652925907, verbose=-1))])</pre><b>In a Jupyter environment, please rerun this cell to show the HTML representation or trust the notebook. <br />On GitHub, the HTML representation is unable to render, please try loading this page with nbviewer.org.</b></div><div class=\"sk-container\" hidden><div class=\"sk-item sk-dashed-wrapped\"><div class=\"sk-label-container\"><div class=\"sk-label sk-toggleable\"><input class=\"sk-toggleable__control sk-hidden--visually\" id=\"sk-estimator-id-31\" type=\"checkbox\" ><label for=\"sk-estimator-id-31\" class=\"sk-toggleable__label sk-toggleable__label-arrow\">Pipeline</label><div class=\"sk-toggleable__content\"><pre>Pipeline(steps=[(&#x27;preprocess&#x27;,\n",
       "                 Pipeline(steps=[(&#x27;imputer&#x27;,\n",
       "                                  PolarsColumnTransformer(steps=OrderedDict([(&#x27;title_imp&#x27;,\n",
       "                                                                              &lt;functions.transformers.PolarsColumnTransformer.Step object at 0x7f1df0ae1490&gt;),\n",
       "                                                                             (&#x27;zip_code_imp&#x27;,\n",
       "                                                                              &lt;functions.transformers.PolarsColumnTransformer.Step object at 0x7f1d7c1ca370&gt;),\n",
       "                                                                             (&#x27;state_imp&#x27;,\n",
       "                                                                              &lt;functions.transformers.PolarsColumnTransformer.Step ob...\n",
       "                 LGBMClassifier(bagging_freq=1, boosting_type=&#x27;rf&#x27;,\n",
       "                                colsample_bytree=0.6493512125583797,\n",
       "                                force_col_wise=True,\n",
       "                                learning_rate=0.0016953844895474985, max_bin=88,\n",
       "                                n_estimators=163, num_leaves=64, num_threads=1,\n",
       "                                random_state=RandomState(MT19937) at 0x7F1DD8D66840,\n",
       "                                reg_alpha=0.2593993722718682,\n",
       "                                reg_lambda=0.0065935503244421035,\n",
       "                                subsample=0.5824004652925907, verbose=-1))])</pre></div></div></div><div class=\"sk-serial\"><div class=\"sk-item\"><div class=\"sk-label-container\"><div class=\"sk-label sk-toggleable\"><input class=\"sk-toggleable__control sk-hidden--visually\" id=\"sk-estimator-id-32\" type=\"checkbox\" ><label for=\"sk-estimator-id-32\" class=\"sk-toggleable__label sk-toggleable__label-arrow\">preprocess: Pipeline</label><div class=\"sk-toggleable__content\"><pre>Pipeline(steps=[(&#x27;imputer&#x27;,\n",
       "                 PolarsColumnTransformer(steps=OrderedDict([(&#x27;title_imp&#x27;,\n",
       "                                                             &lt;functions.transformers.PolarsColumnTransformer.Step object at 0x7f1df0ae1490&gt;),\n",
       "                                                            (&#x27;zip_code_imp&#x27;,\n",
       "                                                             &lt;functions.transformers.PolarsColumnTransformer.Step object at 0x7f1d7c1ca370&gt;),\n",
       "                                                            (&#x27;state_imp&#x27;,\n",
       "                                                             &lt;functions.transformers.PolarsColumnTransformer.Step object at 0x7f1d7c1cacd0&gt;),\n",
       "                                                            (&#x27;len_i...\n",
       "                                                             &lt;functions.transformers.PolarsColumnTransformer.Step object at 0x7f1d7c1da130&gt;),\n",
       "                                                            (&#x27;title&#x27;,\n",
       "                                                             &lt;functions.transformers.PolarsColumnTransformer.Step object at 0x7f1d7c1da6d0&gt;),\n",
       "                                                            (&#x27;emp_length&#x27;,\n",
       "                                                             &lt;functions.transformers.PolarsColumnTransformer.Step object at 0x7f1d7c1da400&gt;)]))),\n",
       "                (&#x27;null_imputer&#x27;, PolarsNullImputer(fill_value=-9)),\n",
       "                (&#x27;feature_remover&#x27;, FeatureRemover(feats_to_drop=[]))])</pre></div></div></div><div class=\"sk-serial\"><div class=\"sk-item\"><div class=\"sk-estimator sk-toggleable\"><input class=\"sk-toggleable__control sk-hidden--visually\" id=\"sk-estimator-id-33\" type=\"checkbox\" ><label for=\"sk-estimator-id-33\" class=\"sk-toggleable__label sk-toggleable__label-arrow\">PolarsColumnTransformer</label><div class=\"sk-toggleable__content\"><pre>PolarsColumnTransformer(steps=OrderedDict([(&#x27;title_imp&#x27;,\n",
       "                                            &lt;functions.transformers.PolarsColumnTransformer.Step object at 0x7f1df0ae1490&gt;),\n",
       "                                           (&#x27;zip_code_imp&#x27;,\n",
       "                                            &lt;functions.transformers.PolarsColumnTransformer.Step object at 0x7f1d7c1ca370&gt;),\n",
       "                                           (&#x27;state_imp&#x27;,\n",
       "                                            &lt;functions.transformers.PolarsColumnTransformer.Step object at 0x7f1d7c1cacd0&gt;),\n",
       "                                           (&#x27;len_imp&#x27;,\n",
       "                                            &lt;functions.transformers.PolarsColumnTransformer.Step object at 0x7f1d7c1caa60&gt;)]))</pre></div></div></div><div class=\"sk-item\"><div class=\"sk-estimator sk-toggleable\"><input class=\"sk-toggleable__control sk-hidden--visually\" id=\"sk-estimator-id-34\" type=\"checkbox\" ><label for=\"sk-estimator-id-34\" class=\"sk-toggleable__label sk-toggleable__label-arrow\">PolarsColumnTransformer</label><div class=\"sk-toggleable__content\"><pre>PolarsColumnTransformer(step_params={&#x27;state&#x27;: {&#x27;how&#x27;: &#x27;mean&#x27;},\n",
       "                                     &#x27;title&#x27;: {&#x27;how&#x27;: &#x27;label&#x27;},\n",
       "                                     &#x27;zip_code&#x27;: {&#x27;how&#x27;: &#x27;label&#x27;}},\n",
       "                        steps=OrderedDict([(&#x27;state&#x27;,\n",
       "                                            &lt;functions.transformers.PolarsColumnTransformer.Step object at 0x7f1d7c1da340&gt;),\n",
       "                                           (&#x27;zip_code&#x27;,\n",
       "                                            &lt;functions.transformers.PolarsColumnTransformer.Step object at 0x7f1d7c1da130&gt;),\n",
       "                                           (&#x27;title&#x27;,\n",
       "                                            &lt;functions.transformers.PolarsColumnTransformer.Step object at 0x7f1d7c1da6d0&gt;),\n",
       "                                           (&#x27;emp_length&#x27;,\n",
       "                                            &lt;functions.transformers.PolarsColumnTransformer.Step object at 0x7f1d7c1da400&gt;)]))</pre></div></div></div><div class=\"sk-item\"><div class=\"sk-estimator sk-toggleable\"><input class=\"sk-toggleable__control sk-hidden--visually\" id=\"sk-estimator-id-35\" type=\"checkbox\" ><label for=\"sk-estimator-id-35\" class=\"sk-toggleable__label sk-toggleable__label-arrow\">PolarsNullImputer</label><div class=\"sk-toggleable__content\"><pre>PolarsNullImputer(fill_value=-9)</pre></div></div></div><div class=\"sk-item\"><div class=\"sk-estimator sk-toggleable\"><input class=\"sk-toggleable__control sk-hidden--visually\" id=\"sk-estimator-id-36\" type=\"checkbox\" ><label for=\"sk-estimator-id-36\" class=\"sk-toggleable__label sk-toggleable__label-arrow\">FeatureRemover</label><div class=\"sk-toggleable__content\"><pre>FeatureRemover(feats_to_drop=[])</pre></div></div></div></div></div><div class=\"sk-item\"><div class=\"sk-estimator sk-toggleable\"><input class=\"sk-toggleable__control sk-hidden--visually\" id=\"sk-estimator-id-37\" type=\"checkbox\" ><label for=\"sk-estimator-id-37\" class=\"sk-toggleable__label sk-toggleable__label-arrow\">LGBMClassifier</label><div class=\"sk-toggleable__content\"><pre>LGBMClassifier(bagging_freq=1, boosting_type=&#x27;rf&#x27;,\n",
       "               colsample_bytree=0.6493512125583797, force_col_wise=True,\n",
       "               learning_rate=0.0016953844895474985, max_bin=88,\n",
       "               n_estimators=163, num_leaves=64, num_threads=1,\n",
       "               random_state=RandomState(MT19937) at 0x7F1DD8D66840,\n",
       "               reg_alpha=0.2593993722718682, reg_lambda=0.0065935503244421035,\n",
       "               subsample=0.5824004652925907, verbose=-1)</pre></div></div></div></div></div></div></div>"
      ],
      "text/plain": [
       "Pipeline(steps=[('preprocess',\n",
       "                 Pipeline(steps=[('imputer',\n",
       "                                  PolarsColumnTransformer(steps=OrderedDict([('title_imp',\n",
       "                                                                              <functions.transformers.PolarsColumnTransformer.Step object at 0x7f1df0ae1490>),\n",
       "                                                                             ('zip_code_imp',\n",
       "                                                                              <functions.transformers.PolarsColumnTransformer.Step object at 0x7f1d7c1ca370>),\n",
       "                                                                             ('state_imp',\n",
       "                                                                              <functions.transformers.PolarsColumnTransformer.Step ob...\n",
       "                 LGBMClassifier(bagging_freq=1, boosting_type='rf',\n",
       "                                colsample_bytree=0.6493512125583797,\n",
       "                                force_col_wise=True,\n",
       "                                learning_rate=0.0016953844895474985, max_bin=88,\n",
       "                                n_estimators=163, num_leaves=64, num_threads=1,\n",
       "                                random_state=RandomState(MT19937) at 0x7F1DD8D66840,\n",
       "                                reg_alpha=0.2593993722718682,\n",
       "                                reg_lambda=0.0065935503244421035,\n",
       "                                subsample=0.5824004652925907, verbose=-1))])"
      ]
     },
     "execution_count": 37,
     "metadata": {},
     "output_type": "execute_result"
    }
   ],
   "source": [
    "models.models['lgbm_yn'].pipeline.fit(X_train,y_train)\n",
    "models.models['logreg_yn'].pipeline.fit(X_train,y_train)\n",
    "models.models['tree_yn'].pipeline.fit(X_train,y_train)\n"
   ]
  },
  {
   "cell_type": "code",
   "execution_count": 31,
   "metadata": {},
   "outputs": [
    {
     "data": {
      "text/plain": [
       "['trained_models/trained_models_yn']"
      ]
     },
     "execution_count": 31,
     "metadata": {},
     "output_type": "execute_result"
    }
   ],
   "source": [
    "# joblib.dump(models,'trained_models/trained_models_yn')"
   ]
  },
  {
   "cell_type": "code",
   "execution_count": 23,
   "metadata": {},
   "outputs": [
    {
     "data": {
      "text/plain": [
       "{'preprocess__boruta__perc': 23,\n",
       " 'preprocess__boruta__apply': True,\n",
       " 'model__num_leaves': 64,\n",
       " 'model__n_estimators': 163,\n",
       " 'model__learning_rate': 0.0016953844895474985,\n",
       " 'model__bagging_freq': 1,\n",
       " 'model__colsample_bytree': 0.6493512125583797,\n",
       " 'model__subsample': 0.5824004652925907,\n",
       " 'model__reg_alpha': 0.2593993722718682,\n",
       " 'model__reg_lambda': 0.0065935503244421035,\n",
       " 'model__boosting_type': 'rf',\n",
       " 'model__class_weight': None,\n",
       " 'model__max_bin': 88,\n",
       " 'preprocess__encoder__step_params': {'state': {'how': 'mean'},\n",
       "  'zip_code': {'how': 'label'},\n",
       "  'title': {'how': 'label'}}}"
      ]
     },
     "execution_count": 23,
     "metadata": {},
     "output_type": "execute_result"
    }
   ],
   "source": [
    "models.models['lgbm_yn'].best_params"
   ]
  },
  {
   "cell_type": "code",
   "execution_count": 24,
   "metadata": {},
   "outputs": [
    {
     "data": {
      "text/plain": [
       "{'model__criterion': 'gini',\n",
       " 'model__splitter': 'best',\n",
       " 'model__max_depth': 9,\n",
       " 'model__max_features': None,\n",
       " 'model__class_weight': None,\n",
       " 'preprocess__encoder__step_params': {'state': {'how': 'label'},\n",
       "  'zip_code': {'how': 'label'},\n",
       "  'title': {'how': 'mean'}}}"
      ]
     },
     "execution_count": 24,
     "metadata": {},
     "output_type": "execute_result"
    }
   ],
   "source": [
    "models.models['tree_yn'].best_params"
   ]
  },
  {
   "cell_type": "code",
   "execution_count": 25,
   "metadata": {},
   "outputs": [
    {
     "data": {
      "text/plain": [
       "{'model__class_weight': None,\n",
       " 'model__penalty': None,\n",
       " 'model__C': 0.011850174592261594,\n",
       " 'model__solver': 'saga',\n",
       " 'preprocess__encoder__step_params': {'state': {'how': 'mean'},\n",
       "  'zip_code': {'how': 'mean'},\n",
       "  'title': {'how': 'mean'}}}"
      ]
     },
     "execution_count": 25,
     "metadata": {},
     "output_type": "execute_result"
    }
   ],
   "source": [
    "models.models['logreg_yn'].best_params"
   ]
  },
  {
   "cell_type": "code",
   "execution_count": 26,
   "metadata": {},
   "outputs": [],
   "source": [
    "preds_lgbm =models.models['lgbm_yn'].pipeline.predict(X_val)\n",
    "preds_logreg =models.models['logreg_yn'].pipeline.predict(X_val)\n",
    "preds_tree =models.models['tree_yn'].pipeline.predict(X_val)\n",
    "# "
   ]
  },
  {
   "cell_type": "code",
   "execution_count": 27,
   "metadata": {},
   "outputs": [
    {
     "name": "stdout",
     "output_type": "stream",
     "text": [
      "              precision    recall  f1-score   support\n",
      "\n",
      "           0       0.98      0.96      0.97   4625361\n",
      "           1       0.66      0.80      0.73    449854\n",
      "\n",
      "    accuracy                           0.95   5075215\n",
      "   macro avg       0.82      0.88      0.85   5075215\n",
      "weighted avg       0.95      0.95      0.95   5075215\n",
      "\n",
      "              precision    recall  f1-score   support\n",
      "\n",
      "           0       0.94      0.98      0.96   4625361\n",
      "           1       0.66      0.39      0.49    449854\n",
      "\n",
      "    accuracy                           0.93   5075215\n",
      "   macro avg       0.80      0.69      0.73   5075215\n",
      "weighted avg       0.92      0.93      0.92   5075215\n",
      "\n",
      "              precision    recall  f1-score   support\n",
      "\n",
      "           0       0.97      0.97      0.97   4625361\n",
      "           1       0.70      0.72      0.71    449854\n",
      "\n",
      "    accuracy                           0.95   5075215\n",
      "   macro avg       0.83      0.85      0.84   5075215\n",
      "weighted avg       0.95      0.95      0.95   5075215\n",
      "\n"
     ]
    }
   ],
   "source": [
    "print(classification_report(y_val,preds_lgbm))\n",
    "print(classification_report(y_val,preds_logreg))\n",
    "print(classification_report(y_val,preds_tree))"
   ]
  },
  {
   "cell_type": "code",
   "execution_count": 51,
   "metadata": {},
   "outputs": [],
   "source": [
    "preds_proba_lgbm=models.models['lgbm_yn'].pipeline.predict_proba(X_val)"
   ]
  },
  {
   "cell_type": "code",
   "execution_count": 54,
   "metadata": {},
   "outputs": [],
   "source": [
    "preds_proba_tree=models.models['tree_yn'].pipeline.predict_proba(X_val)"
   ]
  },
  {
   "cell_type": "code",
   "execution_count": 56,
   "metadata": {},
   "outputs": [
    {
     "data": {
      "text/plain": [
       "(<Figure size 640x480 with 1 Axes>,\n",
       " <Axes: xlabel='False Positive Rate', ylabel='True Positive Rate'>)"
      ]
     },
     "execution_count": 56,
     "metadata": {},
     "output_type": "execute_result"
    },
    {
     "data": {
      "image/png": "[encoded data removed]",
      "text/plain": [
       "<Figure size 640x480 with 1 Axes>"
      ]
     },
     "metadata": {},
     "output_type": "display_data"
    }
   ],
   "source": [
    "pf.plot_roc_curve(y_val,preds_proba_tree[:,1])"
   ]
  },
  {
   "cell_type": "code",
   "execution_count": 28,
   "metadata": {},
   "outputs": [],
   "source": [
    "best_pipeline=models.models['lgbm_yn'].pipeline"
   ]
  },
  {
   "cell_type": "code",
   "execution_count": 29,
   "metadata": {},
   "outputs": [
    {
     "name": "stderr",
     "output_type": "stream",
     "text": [
      " 97%|=================== | 9691/10000 [00:32<00:01]       No data for colormapping provided via 'c'. Parameters 'vmin', 'vmax' will be ignored\n"
     ]
    },
    {
     "data": {
      "image/png": "[encoded data removed]",
      "text/plain": [
       "<Figure size 800x590 with 2 Axes>"
      ]
     },
     "metadata": {},
     "output_type": "display_data"
    }
   ],
   "source": [
    "names = best_pipeline[\"preprocess\"].transform(X_mini_val.sample(1000, seed=1)).columns\n",
    "explainer_tree = shap.TreeExplainer(\n",
    "    best_pipeline[\"model\"],\n",
    "    data=best_pipeline[\"preprocess\"]\n",
    "    .transform((X_mini_val.sample(10000, seed=1)))\n",
    "    .to_numpy(),\n",
    "    model_output=\"probability\",\n",
    ")\n",
    "\n",
    "shap_values = explainer_tree.shap_values(\n",
    "    best_pipeline[\"preprocess\"].transform(X_mini_val.sample(10000, seed=1)).to_numpy()\n",
    ")\n",
    "\n",
    "shap.summary_plot(\n",
    "    shap_values,\n",
    "    best_pipeline[\"preprocess\"].transform(X_mini_val.sample(10000, seed=1)).to_numpy(),\n",
    "    feature_names=names,\n",
    "    max_display=20,\n",
    ")"
   ]
  },
  {
   "cell_type": "code",
   "execution_count": 30,
   "metadata": {},
   "outputs": [
    {
     "ename": "KeyboardInterrupt",
     "evalue": "",
     "output_type": "error",
     "traceback": [
      "\u001b[0;31m---------------------------------------------------------------------------\u001b[0m",
      "\u001b[0;31mKeyboardInterrupt\u001b[0m                         Traceback (most recent call last)",
      "\u001b[1;32m/home/gediminas/Documents/turing_projects/module3_s3/gskvar-ML.3/model_1_accepted_rejected.ipynb Cell 35\u001b[0m line \u001b[0;36m1\n\u001b[0;32m----> <a href='vscode-notebook-cell:/home/gediminas/Documents/turing_projects/module3_s3/gskvar-ML.3/model_1_accepted_rejected.ipynb#X51sZmlsZQ%3D%3D?line=0'>1</a>\u001b[0m best_pipeline\u001b[39m.\u001b[39;49mfit(X_train\u001b[39m.\u001b[39;49mvstack(X_val), pl\u001b[39m.\u001b[39;49mconcat([y_train,y_val]))\n",
      "File \u001b[0;32m~/anaconda3/lib/python3.9/site-packages/sklearn/base.py:1152\u001b[0m, in \u001b[0;36m_fit_context.<locals>.decorator.<locals>.wrapper\u001b[0;34m(estimator, *args, **kwargs)\u001b[0m\n\u001b[1;32m   1145\u001b[0m     estimator\u001b[39m.\u001b[39m_validate_params()\n\u001b[1;32m   1147\u001b[0m \u001b[39mwith\u001b[39;00m config_context(\n\u001b[1;32m   1148\u001b[0m     skip_parameter_validation\u001b[39m=\u001b[39m(\n\u001b[1;32m   1149\u001b[0m         prefer_skip_nested_validation \u001b[39mor\u001b[39;00m global_skip_validation\n\u001b[1;32m   1150\u001b[0m     )\n\u001b[1;32m   1151\u001b[0m ):\n\u001b[0;32m-> 1152\u001b[0m     \u001b[39mreturn\u001b[39;00m fit_method(estimator, \u001b[39m*\u001b[39;49margs, \u001b[39m*\u001b[39;49m\u001b[39m*\u001b[39;49mkwargs)\n",
      "File \u001b[0;32m~/anaconda3/lib/python3.9/site-packages/sklearn/pipeline.py:427\u001b[0m, in \u001b[0;36mPipeline.fit\u001b[0;34m(self, X, y, **fit_params)\u001b[0m\n\u001b[1;32m    425\u001b[0m     \u001b[39mif\u001b[39;00m \u001b[39mself\u001b[39m\u001b[39m.\u001b[39m_final_estimator \u001b[39m!=\u001b[39m \u001b[39m\"\u001b[39m\u001b[39mpassthrough\u001b[39m\u001b[39m\"\u001b[39m:\n\u001b[1;32m    426\u001b[0m         fit_params_last_step \u001b[39m=\u001b[39m fit_params_steps[\u001b[39mself\u001b[39m\u001b[39m.\u001b[39msteps[\u001b[39m-\u001b[39m\u001b[39m1\u001b[39m][\u001b[39m0\u001b[39m]]\n\u001b[0;32m--> 427\u001b[0m         \u001b[39mself\u001b[39;49m\u001b[39m.\u001b[39;49m_final_estimator\u001b[39m.\u001b[39;49mfit(Xt, y, \u001b[39m*\u001b[39;49m\u001b[39m*\u001b[39;49mfit_params_last_step)\n\u001b[1;32m    429\u001b[0m \u001b[39mreturn\u001b[39;00m \u001b[39mself\u001b[39m\n",
      "File \u001b[0;32m~/anaconda3/lib/python3.9/site-packages/lightgbm/sklearn.py:1142\u001b[0m, in \u001b[0;36mLGBMClassifier.fit\u001b[0;34m(self, X, y, sample_weight, init_score, eval_set, eval_names, eval_sample_weight, eval_class_weight, eval_init_score, eval_metric, feature_name, categorical_feature, callbacks, init_model)\u001b[0m\n\u001b[1;32m   1139\u001b[0m         \u001b[39melse\u001b[39;00m:\n\u001b[1;32m   1140\u001b[0m             valid_sets\u001b[39m.\u001b[39mappend((valid_x, \u001b[39mself\u001b[39m\u001b[39m.\u001b[39m_le\u001b[39m.\u001b[39mtransform(valid_y)))\n\u001b[0;32m-> 1142\u001b[0m \u001b[39msuper\u001b[39;49m()\u001b[39m.\u001b[39;49mfit(\n\u001b[1;32m   1143\u001b[0m     X,\n\u001b[1;32m   1144\u001b[0m     _y,\n\u001b[1;32m   1145\u001b[0m     sample_weight\u001b[39m=\u001b[39;49msample_weight,\n\u001b[1;32m   1146\u001b[0m     init_score\u001b[39m=\u001b[39;49minit_score,\n\u001b[1;32m   1147\u001b[0m     eval_set\u001b[39m=\u001b[39;49mvalid_sets,\n\u001b[1;32m   1148\u001b[0m     eval_names\u001b[39m=\u001b[39;49meval_names,\n\u001b[1;32m   1149\u001b[0m     eval_sample_weight\u001b[39m=\u001b[39;49meval_sample_weight,\n\u001b[1;32m   1150\u001b[0m     eval_class_weight\u001b[39m=\u001b[39;49meval_class_weight,\n\u001b[1;32m   1151\u001b[0m     eval_init_score\u001b[39m=\u001b[39;49meval_init_score,\n\u001b[1;32m   1152\u001b[0m     eval_metric\u001b[39m=\u001b[39;49meval_metric,\n\u001b[1;32m   1153\u001b[0m     feature_name\u001b[39m=\u001b[39;49mfeature_name,\n\u001b[1;32m   1154\u001b[0m     categorical_feature\u001b[39m=\u001b[39;49mcategorical_feature,\n\u001b[1;32m   1155\u001b[0m     callbacks\u001b[39m=\u001b[39;49mcallbacks,\n\u001b[1;32m   1156\u001b[0m     init_model\u001b[39m=\u001b[39;49minit_model\n\u001b[1;32m   1157\u001b[0m )\n\u001b[1;32m   1158\u001b[0m \u001b[39mreturn\u001b[39;00m \u001b[39mself\u001b[39m\n",
      "File \u001b[0;32m~/anaconda3/lib/python3.9/site-packages/lightgbm/sklearn.py:842\u001b[0m, in \u001b[0;36mLGBMModel.fit\u001b[0;34m(self, X, y, sample_weight, init_score, group, eval_set, eval_names, eval_sample_weight, eval_class_weight, eval_init_score, eval_group, eval_metric, feature_name, categorical_feature, callbacks, init_model)\u001b[0m\n\u001b[1;32m    839\u001b[0m evals_result: _EvalResultDict \u001b[39m=\u001b[39m {}\n\u001b[1;32m    840\u001b[0m callbacks\u001b[39m.\u001b[39mappend(record_evaluation(evals_result))\n\u001b[0;32m--> 842\u001b[0m \u001b[39mself\u001b[39m\u001b[39m.\u001b[39m_Booster \u001b[39m=\u001b[39m train(\n\u001b[1;32m    843\u001b[0m     params\u001b[39m=\u001b[39;49mparams,\n\u001b[1;32m    844\u001b[0m     train_set\u001b[39m=\u001b[39;49mtrain_set,\n\u001b[1;32m    845\u001b[0m     num_boost_round\u001b[39m=\u001b[39;49m\u001b[39mself\u001b[39;49m\u001b[39m.\u001b[39;49mn_estimators,\n\u001b[1;32m    846\u001b[0m     valid_sets\u001b[39m=\u001b[39;49mvalid_sets,\n\u001b[1;32m    847\u001b[0m     valid_names\u001b[39m=\u001b[39;49meval_names,\n\u001b[1;32m    848\u001b[0m     feval\u001b[39m=\u001b[39;49meval_metrics_callable,  \u001b[39m# type: ignore[arg-type]\u001b[39;49;00m\n\u001b[1;32m    849\u001b[0m     init_model\u001b[39m=\u001b[39;49minit_model,\n\u001b[1;32m    850\u001b[0m     feature_name\u001b[39m=\u001b[39;49mfeature_name,\n\u001b[1;32m    851\u001b[0m     callbacks\u001b[39m=\u001b[39;49mcallbacks\n\u001b[1;32m    852\u001b[0m )\n\u001b[1;32m    854\u001b[0m \u001b[39mself\u001b[39m\u001b[39m.\u001b[39m_evals_result \u001b[39m=\u001b[39m evals_result\n\u001b[1;32m    855\u001b[0m \u001b[39mself\u001b[39m\u001b[39m.\u001b[39m_best_iteration \u001b[39m=\u001b[39m \u001b[39mself\u001b[39m\u001b[39m.\u001b[39m_Booster\u001b[39m.\u001b[39mbest_iteration\n",
      "File \u001b[0;32m~/anaconda3/lib/python3.9/site-packages/lightgbm/engine.py:266\u001b[0m, in \u001b[0;36mtrain\u001b[0;34m(params, train_set, num_boost_round, valid_sets, valid_names, feval, init_model, feature_name, categorical_feature, keep_training_booster, callbacks)\u001b[0m\n\u001b[1;32m    258\u001b[0m \u001b[39mfor\u001b[39;00m cb \u001b[39min\u001b[39;00m callbacks_before_iter:\n\u001b[1;32m    259\u001b[0m     cb(callback\u001b[39m.\u001b[39mCallbackEnv(model\u001b[39m=\u001b[39mbooster,\n\u001b[1;32m    260\u001b[0m                             params\u001b[39m=\u001b[39mparams,\n\u001b[1;32m    261\u001b[0m                             iteration\u001b[39m=\u001b[39mi,\n\u001b[1;32m    262\u001b[0m                             begin_iteration\u001b[39m=\u001b[39minit_iteration,\n\u001b[1;32m    263\u001b[0m                             end_iteration\u001b[39m=\u001b[39minit_iteration \u001b[39m+\u001b[39m num_boost_round,\n\u001b[1;32m    264\u001b[0m                             evaluation_result_list\u001b[39m=\u001b[39m\u001b[39mNone\u001b[39;00m))\n\u001b[0;32m--> 266\u001b[0m booster\u001b[39m.\u001b[39;49mupdate(fobj\u001b[39m=\u001b[39;49mfobj)\n\u001b[1;32m    268\u001b[0m evaluation_result_list: List[_LGBM_BoosterEvalMethodResultType] \u001b[39m=\u001b[39m []\n\u001b[1;32m    269\u001b[0m \u001b[39m# check evaluation result.\u001b[39;00m\n",
      "File \u001b[0;32m~/anaconda3/lib/python3.9/site-packages/lightgbm/basic.py:3557\u001b[0m, in \u001b[0;36mBooster.update\u001b[0;34m(self, train_set, fobj)\u001b[0m\n\u001b[1;32m   3555\u001b[0m \u001b[39mif\u001b[39;00m \u001b[39mself\u001b[39m\u001b[39m.\u001b[39m__set_objective_to_none:\n\u001b[1;32m   3556\u001b[0m     \u001b[39mraise\u001b[39;00m LightGBMError(\u001b[39m'\u001b[39m\u001b[39mCannot update due to null objective function.\u001b[39m\u001b[39m'\u001b[39m)\n\u001b[0;32m-> 3557\u001b[0m _safe_call(_LIB\u001b[39m.\u001b[39;49mLGBM_BoosterUpdateOneIter(\n\u001b[1;32m   3558\u001b[0m     \u001b[39mself\u001b[39;49m\u001b[39m.\u001b[39;49m_handle,\n\u001b[1;32m   3559\u001b[0m     ctypes\u001b[39m.\u001b[39;49mbyref(is_finished)))\n\u001b[1;32m   3560\u001b[0m \u001b[39mself\u001b[39m\u001b[39m.\u001b[39m__is_predicted_cur_iter \u001b[39m=\u001b[39m [\u001b[39mFalse\u001b[39;00m \u001b[39mfor\u001b[39;00m _ \u001b[39min\u001b[39;00m \u001b[39mrange\u001b[39m(\u001b[39mself\u001b[39m\u001b[39m.\u001b[39m__num_dataset)]\n\u001b[1;32m   3561\u001b[0m \u001b[39mreturn\u001b[39;00m is_finished\u001b[39m.\u001b[39mvalue \u001b[39m==\u001b[39m \u001b[39m1\u001b[39m\n",
      "\u001b[0;31mKeyboardInterrupt\u001b[0m: "
     ]
    }
   ],
   "source": [
    "best_pipeline.fit(X_train.vstack(X_val), pl.concat([y_train,y_val]))"
   ]
  },
  {
   "cell_type": "code",
   "execution_count": null,
   "metadata": {},
   "outputs": [],
   "source": [
    "data_test=pl.read_parquet('data/data_full_test.parquet')"
   ]
  },
  {
   "cell_type": "code",
   "execution_count": null,
   "metadata": {},
   "outputs": [],
   "source": [
    "data_test=dmf.clean_accepted_rejected(data_test)\n",
    "data_test=feats.date_features_accepted_rejected(data_test,\"Application Date\")\n",
    "data_test=feats.title_text_features(data_test)\n",
    "\n",
    "X_test = data_test.drop(columns=[\"Policy Code\"])\n",
    "y_test = data_test[\"Policy Code\"]"
   ]
  },
  {
   "cell_type": "code",
   "execution_count": null,
   "metadata": {},
   "outputs": [
    {
     "name": "stdout",
     "output_type": "stream",
     "text": [
      "              precision    recall  f1-score   support\n",
      "\n",
      "           0       0.99      0.98      0.98   6647748\n",
      "           1       0.64      0.73      0.68    346669\n",
      "\n",
      "    accuracy                           0.97   6994417\n",
      "   macro avg       0.81      0.86      0.83   6994417\n",
      "weighted avg       0.97      0.97      0.97   6994417\n",
      "\n"
     ]
    }
   ],
   "source": [
    "final_preds = best_pipeline.predict(X_test)\n",
    "print(classification_report(data_test[\"Policy Code\"], final_preds))"
   ]
  },
  {
   "cell_type": "code",
   "execution_count": null,
   "metadata": {},
   "outputs": [
    {
     "data": {
      "text/plain": [
       "['trained_models/final_model_accepted_rejected.joblib']"
      ]
     },
     "execution_count": 21,
     "metadata": {},
     "output_type": "execute_result"
    }
   ],
   "source": [
    "# best_pipeline.fit(X_train.vstack(X_val).vstack(X_test), pl.concat([y_train,y_val,y_test]))\n",
    "joblib.dump(best_pipeline,\"trained_models/final_model_accepted_rejected.joblib\")"
   ]
  }
 ],
 "metadata": {
  "kernelspec": {
   "display_name": "base",
   "language": "python",
   "name": "python3"
  },
  "language_info": {
   "codemirror_mode": {
    "name": "ipython",
    "version": 3
   },
   "file_extension": ".py",
   "mimetype": "text/x-python",
   "name": "python",
   "nbconvert_exporter": "python",
   "pygments_lexer": "ipython3",
   "version": "3.9.13"
  },
  "orig_nbformat": 4
 },
 "nbformat": 4,
 "nbformat_minor": 2
}
