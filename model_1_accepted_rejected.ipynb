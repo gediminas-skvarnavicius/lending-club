{
 "cells": [
  {
   "cell_type": "code",
   "execution_count": 1,
   "metadata": {},
   "outputs": [],
   "source": [
    "%reload_ext autoreload\n",
    "%autoreload 1\n",
    "import joblib\n",
    "from ray import tune, train\n",
    "import copy\n",
    "import shap\n",
    "import matplotlib.pyplot as plt\n",
    "import polars as pl\n",
    "import sys\n",
    "import numpy as np\n",
    "from sklearn.model_selection import train_test_split\n",
    "import functions.transformers as tr\n",
    "import functions.data_cleaning as dmf\n",
    "import functions.plot_functions as pf\n",
    "import functions.tuning as tunes\n",
    "import functions.feature_engineering as feats\n",
    "import seaborn as sns\n",
    "from sklearn.pipeline import Pipeline\n",
    "from sklearn.metrics import classification_report, f1_score\n",
    "from sklearn.preprocessing import LabelEncoder\n",
    "from sklearn.preprocessing import OneHotEncoder\n",
    "from sklearn.tree import DecisionTreeClassifier\n",
    "from sklearn.linear_model import LogisticRegression\n",
    "from sklearn.preprocessing import StandardScaler\n",
    "from IPython.display import display,Markdown\n",
    "import lightgbm as lgb\n",
    "%aimport functions.tuning\n",
    "%aimport functions.transformers\n",
    "%aimport functions.data_cleaning\n",
    "%aimport functions.plot_functions\n",
    "%aimport functions.feature_engineering"
   ]
  },
  {
   "cell_type": "code",
   "execution_count": 2,
   "metadata": {},
   "outputs": [],
   "source": [
    "BASE_FIG_SIZE=(8.5,4.5)\n",
    "sns.set()"
   ]
  },
  {
   "cell_type": "code",
   "execution_count": 3,
   "metadata": {},
   "outputs": [],
   "source": [
    "data_train=pl.read_parquet('data/data_full_train.parquet')\n",
    "data_val=pl.read_parquet('data/data_full_val.parquet')"
   ]
  },
  {
   "cell_type": "code",
   "execution_count": 4,
   "metadata": {},
   "outputs": [],
   "source": [
    "data_train=dmf.clean_accepted_rejected(data_train)\n",
    "data_val=dmf.clean_accepted_rejected(data_val)\n",
    "\n",
    "data_train=feats.date_features_accepted_rejected(data_train,\"Application Date\")\n",
    "data_val=feats.date_features_accepted_rejected(data_val,\"Application Date\")\n",
    "\n",
    "data_train=feats.title_text_features(data_train)\n",
    "data_val=feats.title_text_features(data_val)"
   ]
  },
  {
   "cell_type": "code",
   "execution_count": 5,
   "metadata": {},
   "outputs": [],
   "source": [
    "data_train=feats.title_text_features(data_train)\n",
    "data_train=feats.title_text_features(data_train)"
   ]
  },
  {
   "cell_type": "code",
   "execution_count": 6,
   "metadata": {},
   "outputs": [],
   "source": [
    "X_train = data_train.drop(columns=['Policy Code'])\n",
    "X_val= data_val.drop(columns=['Policy Code'])\n",
    "y_train = data_train['Policy Code']\n",
    "y_val= data_val['Policy Code']"
   ]
  },
  {
   "cell_type": "code",
   "execution_count": 7,
   "metadata": {},
   "outputs": [],
   "source": [
    "X_mini_train, discard1, y_mini_train, discard2 = train_test_split(\n",
    "    X_train, y_train, stratify=y_train,train_size=3000000\n",
    ")\n",
    "\n",
    "X_mini_val, X_val, y_mini_val, y_val = train_test_split(\n",
    "    X_val, y_val, stratify=y_val,train_size=900000\n",
    ")"
   ]
  },
  {
   "cell_type": "markdown",
   "metadata": {},
   "source": [
    "## Pipelines"
   ]
  },
  {
   "cell_type": "markdown",
   "metadata": {},
   "source": [
    "### LightGBM"
   ]
  },
  {
   "cell_type": "code",
   "execution_count": 8,
   "metadata": {},
   "outputs": [
    {
     "data": {
      "text/html": [
       "<div><style>\n",
       ".dataframe > thead > tr > th,\n",
       ".dataframe > tbody > tr > td {\n",
       "  text-align: right;\n",
       "  white-space: pre-wrap;\n",
       "}\n",
       "</style>\n",
       "<small>shape: (1, 11)</small><table border=\"1\" class=\"dataframe\"><thead><tr><th>Amount Requested</th><th>Debt-To-Income Ratio</th><th>Zip Code</th><th>State</th><th>Employment Length</th><th>title</th><th>month_sin</th><th>month_cos</th><th>title_contains_numbers</th><th>title_length</th><th>title_starts_with_lowercase</th></tr><tr><td>u32</td><td>u32</td><td>u32</td><td>u32</td><td>u32</td><td>u32</td><td>u32</td><td>u32</td><td>u32</td><td>u32</td><td>u32</td></tr></thead><tbody><tr><td>182</td><td>170705</td><td>37</td><td>5</td><td>115898</td><td>6033</td><td>0</td><td>0</td><td>6033</td><td>6033</td><td>6033</td></tr></tbody></table></div>"
      ],
      "text/plain": [
       "shape: (1, 11)\n",
       "┌────────────┬────────────┬──────────┬───────┬───┬───────────┬────────────┬────────────┬───────────┐\n",
       "│ Amount     ┆ Debt-To-In ┆ Zip Code ┆ State ┆ … ┆ month_cos ┆ title_cont ┆ title_leng ┆ title_sta │\n",
       "│ Requested  ┆ come Ratio ┆ ---      ┆ ---   ┆   ┆ ---       ┆ ains_numbe ┆ th         ┆ rts_with_ │\n",
       "│ ---        ┆ ---        ┆ u32      ┆ u32   ┆   ┆ u32       ┆ rs         ┆ ---        ┆ lowercase │\n",
       "│ u32        ┆ u32        ┆          ┆       ┆   ┆           ┆ ---        ┆ u32        ┆ ---       │\n",
       "│            ┆            ┆          ┆       ┆   ┆           ┆ u32        ┆            ┆ u32       │\n",
       "╞════════════╪════════════╪══════════╪═══════╪═══╪═══════════╪════════════╪════════════╪═══════════╡\n",
       "│ 182        ┆ 170705     ┆ 37       ┆ 5     ┆ … ┆ 0         ┆ 6033       ┆ 6033       ┆ 6033      │\n",
       "└────────────┴────────────┴──────────┴───────┴───┴───────────┴────────────┴────────────┴───────────┘"
      ]
     },
     "execution_count": 8,
     "metadata": {},
     "output_type": "execute_result"
    }
   ],
   "source": [
    "X_mini_train.null_count()"
   ]
  },
  {
   "cell_type": "markdown",
   "metadata": {},
   "source": [
    "#### Imputers"
   ]
  },
  {
   "cell_type": "code",
   "execution_count": 9,
   "metadata": {},
   "outputs": [],
   "source": [
    "title_cat_imputer=tr.NotInImputerPolars(cat_no=12,fill_value=None)\n",
    "zip_imputer=tr.NotInImputerPolars(cat_no=50,fill_value=None)\n",
    "state_imputer=tr.NotInImputerPolars(cat_no=51,fill_value=None)\n",
    "emp_length_imputer=tr.NotInImputerPolars(cat_no=12,fill_value=None)\n",
    "\n",
    "\n",
    "imputer = tr.PolarsColumnTransformer(\n",
    "    [\n",
    "        tr.PolarsColumnTransformer.Step(\"title_imp\",title_cat_imputer, \"title\"),\n",
    "        tr.PolarsColumnTransformer.Step(\"zip_code_imp\", zip_imputer, \"Zip Code\"),\n",
    "        tr.PolarsColumnTransformer.Step(\"state_imp\",state_imputer, \"State\"),\n",
    "        tr.PolarsColumnTransformer.Step(\"len_imp\",emp_length_imputer, \"Employment Length\"),\n",
    "    ]\n",
    ")"
   ]
  },
  {
   "cell_type": "markdown",
   "metadata": {},
   "source": [
    "#### Encoders and selection"
   ]
  },
  {
   "cell_type": "code",
   "execution_count": 10,
   "metadata": {},
   "outputs": [],
   "source": [
    "state_encoder = tr.TargetMeanOrderedLabeler()\n",
    "zip_encoder = tr.TargetMeanOrderedLabeler()\n",
    "title_encoder = tr.TargetMeanOrderedLabeler()\n",
    "length_order = [\n",
    "    None,\n",
    "    \"< 1 year\",\n",
    "    \"1 year\",\n",
    "    \"2 years\",\n",
    "    \"3 years\",\n",
    "    \"4 years\",\n",
    "    \"5 years\",\n",
    "    \"6 years\",\n",
    "    \"7 years\",\n",
    "    \"8 years\",\n",
    "    \"9 years\",\n",
    "    \"10+ years\",\n",
    "]\n",
    "\n",
    "employment_encoder = tr.PolarsOrdinalEncoder(order=length_order)\n",
    "encoder = tr.PolarsColumnTransformer(\n",
    "    [\n",
    "        tr.PolarsColumnTransformer.Step(\"state\", state_encoder, \"State\"),\n",
    "        tr.PolarsColumnTransformer.Step(\"zip_code\",zip_encoder, \"Zip Code\"),\n",
    "        tr.PolarsColumnTransformer.Step(\"title\", title_encoder, \"title\"),\n",
    "        tr.PolarsColumnTransformer.Step(\"emp_length\", employment_encoder, \"Employment Length\"),\n",
    "    ]\n",
    ")\n",
    "null_imp = tr.PolarsNullImputer(fill_value=-9)\n",
    "\n",
    "model_lgbm = lgb.LGBMClassifier(\n",
    "    class_weight=\"balanced\",\n",
    "    force_col_wise=True,\n",
    "    verbose=-1,\n",
    "    num_threads=1,\n",
    "    random_state=1,\n",
    ")\n",
    "\n",
    "boruta = tr.BorutaFeatureSelectorPolars(model_lgbm, random_state=1, perc=100)\n",
    "\n",
    "preprocess_lgbm = Pipeline(\n",
    "    [\n",
    "        (\"imputer\", imputer),\n",
    "        (\"encoder\", encoder),\n",
    "        (\"null_imputer\", null_imp),\n",
    "        (\"boruta\", boruta),\n",
    "    ]\n",
    ")"
   ]
  },
  {
   "cell_type": "markdown",
   "metadata": {},
   "source": [
    "#### Baseline for tunning"
   ]
  },
  {
   "cell_type": "code",
   "execution_count": 16,
   "metadata": {},
   "outputs": [
    {
     "name": "stdout",
     "output_type": "stream",
     "text": [
      "0.6179696616102685\n"
     ]
    }
   ],
   "source": [
    "model_lgbm.fit(\n",
    "    preprocess_lgbm.fit_transform(\n",
    "        X_mini_train.sample(100000, seed=1), y_mini_train.sample(100000, seed=1)\n",
    "    ),\n",
    "    y_mini_train.sample(100000, seed=1),\n",
    ")\n",
    "baseline_preds=model_lgbm.predict(preprocess_lgbm.transform(X_mini_val.sample(30000,seed=1)))\n",
    "print(f1_score(y_mini_val.sample(30000,seed=1),baseline_preds))"
   ]
  },
  {
   "cell_type": "code",
   "execution_count": 11,
   "metadata": {},
   "outputs": [],
   "source": [
    "full_pipeline = Pipeline(\n",
    "    [\n",
    "        (\"preprocess\", preprocess_lgbm),\n",
    "        (\"model\", model_lgbm),\n",
    "    ]\n",
    ")\n",
    "\n",
    "search_space_lgbm = {\n",
    "    \"preprocess__boruta__perc\": tune.randint(1, 100),\n",
    "    \"preprocess__boruta__apply\": tune.choice([True, False]),\n",
    "    \"model__num_leaves\": tune.randint(10, 150),\n",
    "    \"model__n_estimators\": tune.randint(1, 250),\n",
    "    \"model__learning_rate\": tune.loguniform(0.001, 0.1),\n",
    "    \"model__bagging_freq\": tune.randint(0, 10),\n",
    "    \"model__colsample_bytree\": tune.uniform(0.2, 1.0),\n",
    "    \"model__subsample\": tune.uniform(0.2, 1.0),\n",
    "    \"model__reg_alpha\": tune.loguniform(0.001, 100),\n",
    "    \"model__reg_lambda\": tune.loguniform(0.001, 100),\n",
    "    \"model__boosting_type\": tune.choice([\"gbdt\", \"dart\", \"rf\"]),\n",
    "    \"model__class_weight\": tune.choice([\"balanced\", None]),\n",
    "    \"model__max_bin\": tune.randint(5, 200),\n",
    "    \"preprocess__encoder__step_params\": {\n",
    "        \"state\": {\"how\": tune.choice([\"label\", \"mean\"])},\n",
    "        \"zip_code\": {\"how\": tune.choice([\"label\", \"mean\"])},\n",
    "        \"title\": {\"how\": tune.choice([\"label\", \"mean\"])},\n",
    "    },\n",
    "}\n",
    "\n",
    "models = tunes.Models()\n",
    "models.add_model(\"lgbm_yn\", full_pipeline, search_space_lgbm, metric_threshold=0.6)"
   ]
  },
  {
   "cell_type": "markdown",
   "metadata": {},
   "source": [
    "### Tree"
   ]
  },
  {
   "cell_type": "code",
   "execution_count": 12,
   "metadata": {},
   "outputs": [],
   "source": [
    "imputer_tree = copy.deepcopy(imputer)\n",
    "encoder_tree = copy.deepcopy(encoder)\n",
    "null_imp_tree = copy.deepcopy(null_imp)\n",
    "preprocess_tree = Pipeline(\n",
    "    [\n",
    "        (\"imputer\", imputer_tree),\n",
    "        (\"encoder\", encoder_tree),\n",
    "        (\"null_imputer\", null_imp_tree),\n",
    "    ]\n",
    ")\n",
    "\n",
    "model_tree = DecisionTreeClassifier()\n",
    "\n",
    "full_pipeline_tree = Pipeline(\n",
    "    [\n",
    "        (\"preprocess\", preprocess_tree),\n",
    "        (\"model\", model_tree),\n",
    "    ]\n",
    ")\n",
    "\n",
    "search_space_tree = {\n",
    "    \"model__criterion\": tune.choice([\"gini\", \"entropy\"]),\n",
    "    \"model__splitter\": tune.choice([\"best\", \"random\"]),\n",
    "    \"model__max_depth\": tune.randint(3, 50),\n",
    "    \"model__max_features\": tune.choice([\"sqrt\", \"log2\", None]),\n",
    "    \"model__class_weight\": tune.choice([\"balanced\", None]),\n",
    "    \"preprocess__encoder__step_params\": {\n",
    "        \"state\": {\"how\": tune.choice([\"label\", \"mean\"])},\n",
    "        \"zip_code\": {\"how\": tune.choice([\"label\", \"mean\"])},\n",
    "        \"title\": {\"how\": tune.choice([\"label\", \"mean\"])},\n",
    "    },\n",
    "}\n",
    "\n",
    "models.add_model(\n",
    "    \"tree_yn\", full_pipeline_tree, search_space_tree, metric_threshold=0.55\n",
    ")"
   ]
  },
  {
   "cell_type": "markdown",
   "metadata": {},
   "source": [
    "### Logreg"
   ]
  },
  {
   "cell_type": "code",
   "execution_count": 23,
   "metadata": {},
   "outputs": [],
   "source": [
    "imputer_logreg = copy.deepcopy(imputer)\n",
    "encoder_logreg = copy.deepcopy(encoder)\n",
    "null_imp_logreg = tr.PolarsColumnTransformer(\n",
    "    [\n",
    "        tr.PolarsColumnTransformer.Step(\n",
    "            \"dti_imp\", tr.PolarsNullImputer(10000), \"Debt-To-Income Ratio\"\n",
    "        ),\n",
    "        tr.PolarsColumnTransformer.Step(\n",
    "            \"requested_imp\", tr.PolarsNullImputer(0), \"Amount Requested\"\n",
    "        ),\n",
    "        tr.PolarsColumnTransformer.Step(\n",
    "            \"contains_num_imp\", tr.PolarsNullImputer(0), \"title_contains_numbers\"\n",
    "        ),\n",
    "        tr.PolarsColumnTransformer.Step(\n",
    "            \"lowercase_imp\", tr.PolarsNullImputer(0), \"title_starts_with_lowercase\"\n",
    "        ),\n",
    "        tr.PolarsColumnTransformer.Step(\n",
    "            \"title_len_imp\", tr.PolarsNullImputer(0), \"title_length\"\n",
    "        ),\n",
    "    ]\n",
    ")\n",
    "\n",
    "scaler=StandardScaler()\n",
    "\n",
    "preprocess_logreg = Pipeline(\n",
    "    [\n",
    "        (\"imputer\", imputer_logreg),\n",
    "        (\"encoder\", encoder_logreg),\n",
    "        (\"null_imputer\", null_imp_logreg),\n",
    "        (\"scaler\", scaler)\n",
    "    ]\n",
    ")\n",
    "\n",
    "model_logreg = LogisticRegression(class_weight=\"balanced\", max_iter=2000, tol=0.01)\n",
    "\n",
    "full_pipeline_logreg = Pipeline(\n",
    "    [\n",
    "        (\"preprocess\", preprocess_logreg),\n",
    "        (\"model\", model_logreg),\n",
    "    ]\n",
    ")\n",
    "\n",
    "search_space_logreg = {\n",
    "    \"model__class_weight\":tune.choice(['balanced',None]),\n",
    "    \"model__penalty\": tune.choice(\n",
    "        [\n",
    "            \"l1\",\n",
    "            \"l2\",\n",
    "            None\n",
    "        ]\n",
    "    ),\n",
    "    \"model__C\": tune.loguniform(0.001, 10.0),\n",
    "    \"model__solver\": tune.choice([\"saga\"]),\n",
    "    \"preprocess__encoder__step_params\": {\n",
    "        \"state\": {\"how\": tune.choice([\"label\", \"mean\"])},\n",
    "        \"zip_code\": {\"how\": tune.choice([\"label\", \"mean\"])},\n",
    "        \"title\": {\"how\": tune.choice([\"label\", \"mean\"])},\n",
    "    },\n",
    "}\n",
    "\n",
    "models.add_model(\n",
    "    \"logreg_yn\",\n",
    "    full_pipeline_logreg,\n",
    "    search_space_logreg,\n",
    "    metric_threshold=0.5,\n",
    "    override_n=52,\n",
    ")"
   ]
  },
  {
   "cell_type": "code",
   "execution_count": 25,
   "metadata": {},
   "outputs": [
    {
     "data": {
      "text/plain": [
       "['models_yn.joblib']"
      ]
     },
     "execution_count": 25,
     "metadata": {},
     "output_type": "execute_result"
    }
   ],
   "source": [
    "# models.tune_all(X_mini_train,y_mini_train,X_mini_val,y_mini_val,n=120,sample_size=300000)\n",
    "# joblib.dump(models, 'models_yn.joblib')\n",
    "# models=joblib.load('models_yn.joblib')\n"
   ]
  },
  {
   "cell_type": "markdown",
   "metadata": {},
   "source": [
    "##### Features dropped by Boruta:"
   ]
  },
  {
   "cell_type": "code",
   "execution_count": 41,
   "metadata": {},
   "outputs": [
    {
     "data": {
      "text/plain": [
       "['title_contains_numbers', 'title_starts_with_lowercase']"
      ]
     },
     "execution_count": 41,
     "metadata": {},
     "output_type": "execute_result"
    }
   ],
   "source": [
    "selected_features = (\n",
    "    models.models[\"lgbm_yn\"]\n",
    "    .pipeline[\"preprocess\"]\n",
    "    .fit_transform(\n",
    "        X_mini_train.sample(200000, seed=1), y_mini_train.sample(200000, seed=1)\n",
    "    )\n",
    "    .columns\n",
    ")\n",
    "features_to_drop = [\n",
    "    feature for feature in X_mini_train.columns if feature not in selected_features\n",
    "]\n",
    "features_to_drop"
   ]
  },
  {
   "cell_type": "markdown",
   "metadata": {},
   "source": [
    "##### Dropping features manually instead of Boruta algorithm:"
   ]
  },
  {
   "cell_type": "code",
   "execution_count": 46,
   "metadata": {},
   "outputs": [],
   "source": [
    "models.models[\"lgbm_yn\"].pipeline[\"preprocess\"].steps.pop(-1)\n",
    "models.models[\"lgbm_yn\"].pipeline[\"preprocess\"].steps.append(\n",
    "    (\"feature_remover\", tr.FeatureRemover(feats_to_drop=features_to_drop))\n",
    ")"
   ]
  },
  {
   "cell_type": "code",
   "execution_count": 62,
   "metadata": {},
   "outputs": [],
   "source": [
    "# models.models['lgbm_yn'].pipeline.fit(X_train,y_train)\n",
    "# models.models['logreg_yn'].pipeline.fit(X_train,y_train)\n",
    "# models.models['tree_yn'].pipeline.fit(X_train,y_train)\n"
   ]
  },
  {
   "cell_type": "code",
   "execution_count": 61,
   "metadata": {},
   "outputs": [
    {
     "data": {
      "text/plain": [
       "['trained_models_yn']"
      ]
     },
     "execution_count": 61,
     "metadata": {},
     "output_type": "execute_result"
    }
   ],
   "source": [
    "# joblib.dump(models,'trained_models_yn')"
   ]
  },
  {
   "cell_type": "code",
   "execution_count": 11,
   "metadata": {},
   "outputs": [
    {
     "data": {
      "text/plain": [
       "{'preprocess__boruta__perc': 42,\n",
       " 'preprocess__boruta__apply': True,\n",
       " 'model__num_leaves': 123,\n",
       " 'model__n_estimators': 121,\n",
       " 'model__learning_rate': 0.06089891117069649,\n",
       " 'model__bagging_freq': 7,\n",
       " 'model__colsample_bytree': 0.5431419823122927,\n",
       " 'model__subsample': 0.797356373150579,\n",
       " 'model__reg_alpha': 0.002398345317591261,\n",
       " 'model__reg_lambda': 0.6480071661851624,\n",
       " 'model__boosting_type': 'rf',\n",
       " 'model__class_weight': None,\n",
       " 'model__max_bin': 157,\n",
       " 'preprocess__encoder__step_params': {'state': {'how': 'label'},\n",
       "  'zip_code': {'how': 'label'},\n",
       "  'title': {'how': 'label'}}}"
      ]
     },
     "execution_count": 11,
     "metadata": {},
     "output_type": "execute_result"
    }
   ],
   "source": [
    "models.models['lgbm_yn'].best_params"
   ]
  },
  {
   "cell_type": "code",
   "execution_count": 10,
   "metadata": {},
   "outputs": [
    {
     "data": {
      "text/plain": [
       "{'model__criterion': 'entropy',\n",
       " 'model__splitter': 'best',\n",
       " 'model__max_depth': 7,\n",
       " 'model__max_features': None,\n",
       " 'model__class_weight': None,\n",
       " 'preprocess__encoder__step_params': {'state': {'how': 'label'},\n",
       "  'zip_code': {'how': 'label'},\n",
       "  'title': {'how': 'label'}}}"
      ]
     },
     "execution_count": 10,
     "metadata": {},
     "output_type": "execute_result"
    }
   ],
   "source": [
    "models.models['tree_yn'].best_params"
   ]
  },
  {
   "cell_type": "code",
   "execution_count": 12,
   "metadata": {},
   "outputs": [
    {
     "data": {
      "text/plain": [
       "{'model__class_weight': 'balanced',\n",
       " 'model__penalty': 'l1',\n",
       " 'model__C': 0.4464135199892934,\n",
       " 'model__solver': 'saga',\n",
       " 'preprocess__encoder__step_params': {'state': {'how': 'mean'},\n",
       "  'zip_code': {'how': 'mean'},\n",
       "  'title': {'how': 'label'}}}"
      ]
     },
     "execution_count": 12,
     "metadata": {},
     "output_type": "execute_result"
    }
   ],
   "source": [
    "models.models['logreg_yn'].best_params"
   ]
  },
  {
   "cell_type": "code",
   "execution_count": 9,
   "metadata": {},
   "outputs": [],
   "source": [
    "models=joblib.load('trained_models_yn')"
   ]
  },
  {
   "cell_type": "code",
   "execution_count": 10,
   "metadata": {},
   "outputs": [],
   "source": [
    "preds_lgbm =models.models['lgbm_yn'].pipeline.predict(X_val)\n",
    "# preds_logreg =models.models['logreg_yn'].pipeline.predict(X_val)\n",
    "preds_tree =models.models['tree_yn'].pipeline.predict(X_val)\n",
    "# "
   ]
  },
  {
   "cell_type": "code",
   "execution_count": 11,
   "metadata": {},
   "outputs": [
    {
     "name": "stdout",
     "output_type": "stream",
     "text": [
      "              precision    recall  f1-score   support\n",
      "\n",
      "           0       0.99      0.98      0.98   1993641\n",
      "           1       0.63      0.74      0.68    103966\n",
      "\n",
      "    accuracy                           0.97   2097607\n",
      "   macro avg       0.81      0.86      0.83   2097607\n",
      "weighted avg       0.97      0.97      0.97   2097607\n",
      "\n",
      "              precision    recall  f1-score   support\n",
      "\n",
      "           0       0.98      0.98      0.98   1993641\n",
      "           1       0.65      0.65      0.65    103966\n",
      "\n",
      "    accuracy                           0.97   2097607\n",
      "   macro avg       0.82      0.82      0.82   2097607\n",
      "weighted avg       0.97      0.97      0.97   2097607\n",
      "\n"
     ]
    }
   ],
   "source": [
    "print(classification_report(y_val,preds_lgbm))\n",
    "# print(classification_report(y_val,preds_logreg))\n",
    "print(classification_report(y_val,preds_tree))"
   ]
  },
  {
   "cell_type": "code",
   "execution_count": 12,
   "metadata": {},
   "outputs": [],
   "source": [
    "best_pipeline=models.models['lgbm_yn'].pipeline"
   ]
  },
  {
   "cell_type": "code",
   "execution_count": 13,
   "metadata": {},
   "outputs": [
    {
     "name": "stderr",
     "output_type": "stream",
     "text": [
      "100%|===================| 9991/10000 [00:30<00:00]        No data for colormapping provided via 'c'. Parameters 'vmin', 'vmax' will be ignored\n"
     ]
    },
    {
     "data": {
      "image/png": "[encoded data removed]",
      "text/plain": [
       "<Figure size 800x510 with 2 Axes>"
      ]
     },
     "metadata": {},
     "output_type": "display_data"
    }
   ],
   "source": [
    "names = best_pipeline[\"preprocess\"].transform(X_mini_val.sample(1000, seed=1)).columns\n",
    "explainer_tree = shap.TreeExplainer(\n",
    "    best_pipeline[\"model\"],\n",
    "    data=best_pipeline[\"preprocess\"]\n",
    "    .transform((X_mini_val.sample(10000, seed=1)))\n",
    "    .to_numpy(),\n",
    "    model_output=\"probability\",\n",
    ")\n",
    "\n",
    "shap_values = explainer_tree.shap_values(\n",
    "    best_pipeline[\"preprocess\"].transform(X_mini_val.sample(10000, seed=1)).to_numpy()\n",
    ")\n",
    "\n",
    "shap.summary_plot(\n",
    "    shap_values,\n",
    "    best_pipeline[\"preprocess\"].transform(X_mini_val.sample(10000, seed=1)).to_numpy(),\n",
    "    feature_names=names,\n",
    "    max_display=20,\n",
    ")"
   ]
  },
  {
   "cell_type": "code",
   "execution_count": 15,
   "metadata": {},
   "outputs": [
    {
     "data": {
      "text/html": [
       "<style>#sk-container-id-1 {color: black;}#sk-container-id-1 pre{padding: 0;}#sk-container-id-1 div.sk-toggleable {background-color: white;}#sk-container-id-1 label.sk-toggleable__label {cursor: pointer;display: block;width: 100%;margin-bottom: 0;padding: 0.3em;box-sizing: border-box;text-align: center;}#sk-container-id-1 label.sk-toggleable__label-arrow:before {content: \"▸\";float: left;margin-right: 0.25em;color: #696969;}#sk-container-id-1 label.sk-toggleable__label-arrow:hover:before {color: black;}#sk-container-id-1 div.sk-estimator:hover label.sk-toggleable__label-arrow:before {color: black;}#sk-container-id-1 div.sk-toggleable__content {max-height: 0;max-width: 0;overflow: hidden;text-align: left;background-color: #f0f8ff;}#sk-container-id-1 div.sk-toggleable__content pre {margin: 0.2em;color: black;border-radius: 0.25em;background-color: #f0f8ff;}#sk-container-id-1 input.sk-toggleable__control:checked~div.sk-toggleable__content {max-height: 200px;max-width: 100%;overflow: auto;}#sk-container-id-1 input.sk-toggleable__control:checked~label.sk-toggleable__label-arrow:before {content: \"▾\";}#sk-container-id-1 div.sk-estimator input.sk-toggleable__control:checked~label.sk-toggleable__label {background-color: #d4ebff;}#sk-container-id-1 div.sk-label input.sk-toggleable__control:checked~label.sk-toggleable__label {background-color: #d4ebff;}#sk-container-id-1 input.sk-hidden--visually {border: 0;clip: rect(1px 1px 1px 1px);clip: rect(1px, 1px, 1px, 1px);height: 1px;margin: -1px;overflow: hidden;padding: 0;position: absolute;width: 1px;}#sk-container-id-1 div.sk-estimator {font-family: monospace;background-color: #f0f8ff;border: 1px dotted black;border-radius: 0.25em;box-sizing: border-box;margin-bottom: 0.5em;}#sk-container-id-1 div.sk-estimator:hover {background-color: #d4ebff;}#sk-container-id-1 div.sk-parallel-item::after {content: \"\";width: 100%;border-bottom: 1px solid gray;flex-grow: 1;}#sk-container-id-1 div.sk-label:hover label.sk-toggleable__label {background-color: #d4ebff;}#sk-container-id-1 div.sk-serial::before {content: \"\";position: absolute;border-left: 1px solid gray;box-sizing: border-box;top: 0;bottom: 0;left: 50%;z-index: 0;}#sk-container-id-1 div.sk-serial {display: flex;flex-direction: column;align-items: center;background-color: white;padding-right: 0.2em;padding-left: 0.2em;position: relative;}#sk-container-id-1 div.sk-item {position: relative;z-index: 1;}#sk-container-id-1 div.sk-parallel {display: flex;align-items: stretch;justify-content: center;background-color: white;position: relative;}#sk-container-id-1 div.sk-item::before, #sk-container-id-1 div.sk-parallel-item::before {content: \"\";position: absolute;border-left: 1px solid gray;box-sizing: border-box;top: 0;bottom: 0;left: 50%;z-index: -1;}#sk-container-id-1 div.sk-parallel-item {display: flex;flex-direction: column;z-index: 1;position: relative;background-color: white;}#sk-container-id-1 div.sk-parallel-item:first-child::after {align-self: flex-end;width: 50%;}#sk-container-id-1 div.sk-parallel-item:last-child::after {align-self: flex-start;width: 50%;}#sk-container-id-1 div.sk-parallel-item:only-child::after {width: 0;}#sk-container-id-1 div.sk-dashed-wrapped {border: 1px dashed gray;margin: 0 0.4em 0.5em 0.4em;box-sizing: border-box;padding-bottom: 0.4em;background-color: white;}#sk-container-id-1 div.sk-label label {font-family: monospace;font-weight: bold;display: inline-block;line-height: 1.2em;}#sk-container-id-1 div.sk-label-container {text-align: center;}#sk-container-id-1 div.sk-container {/* jupyter's `normalize.less` sets `[hidden] { display: none; }` but bootstrap.min.css set `[hidden] { display: none !important; }` so we also need the `!important` here to be able to override the default hidden behavior on the sphinx rendered scikit-learn.org. See: https://github.com/scikit-learn/scikit-learn/issues/21755 */display: inline-block !important;position: relative;}#sk-container-id-1 div.sk-text-repr-fallback {display: none;}</style><div id=\"sk-container-id-1\" class=\"sk-top-container\"><div class=\"sk-text-repr-fallback\"><pre>Pipeline(steps=[(&#x27;preprocess&#x27;,\n",
       "                 Pipeline(steps=[(&#x27;imputer&#x27;,\n",
       "                                  PolarsColumnTransformer(steps=OrderedDict([(&#x27;title_imp&#x27;,\n",
       "                                                                              &lt;functions.transformers.PolarsColumnTransformer.Step object at 0x7fb42ba53d30&gt;),\n",
       "                                                                             (&#x27;zip_code_imp&#x27;,\n",
       "                                                                              &lt;functions.transformers.PolarsColumnTransformer.Step object at 0x7fb42ba53c70&gt;),\n",
       "                                                                             (&#x27;state_imp&#x27;,\n",
       "                                                                              &lt;functions.transformers.PolarsColumnTransformer.Step ob...\n",
       "                 LGBMClassifier(bagging_freq=7, boosting_type=&#x27;rf&#x27;,\n",
       "                                colsample_bytree=0.5431419823122927,\n",
       "                                force_col_wise=True,\n",
       "                                learning_rate=0.06089891117069649, max_bin=157,\n",
       "                                n_estimators=121, num_leaves=123, num_threads=1,\n",
       "                                random_state=RandomState(MT19937) at 0x7FB69AEA2B40,\n",
       "                                reg_alpha=0.002398345317591261,\n",
       "                                reg_lambda=0.6480071661851624,\n",
       "                                subsample=0.797356373150579, verbose=-1))])</pre><b>In a Jupyter environment, please rerun this cell to show the HTML representation or trust the notebook. <br />On GitHub, the HTML representation is unable to render, please try loading this page with nbviewer.org.</b></div><div class=\"sk-container\" hidden><div class=\"sk-item sk-dashed-wrapped\"><div class=\"sk-label-container\"><div class=\"sk-label sk-toggleable\"><input class=\"sk-toggleable__control sk-hidden--visually\" id=\"sk-estimator-id-1\" type=\"checkbox\" ><label for=\"sk-estimator-id-1\" class=\"sk-toggleable__label sk-toggleable__label-arrow\">Pipeline</label><div class=\"sk-toggleable__content\"><pre>Pipeline(steps=[(&#x27;preprocess&#x27;,\n",
       "                 Pipeline(steps=[(&#x27;imputer&#x27;,\n",
       "                                  PolarsColumnTransformer(steps=OrderedDict([(&#x27;title_imp&#x27;,\n",
       "                                                                              &lt;functions.transformers.PolarsColumnTransformer.Step object at 0x7fb42ba53d30&gt;),\n",
       "                                                                             (&#x27;zip_code_imp&#x27;,\n",
       "                                                                              &lt;functions.transformers.PolarsColumnTransformer.Step object at 0x7fb42ba53c70&gt;),\n",
       "                                                                             (&#x27;state_imp&#x27;,\n",
       "                                                                              &lt;functions.transformers.PolarsColumnTransformer.Step ob...\n",
       "                 LGBMClassifier(bagging_freq=7, boosting_type=&#x27;rf&#x27;,\n",
       "                                colsample_bytree=0.5431419823122927,\n",
       "                                force_col_wise=True,\n",
       "                                learning_rate=0.06089891117069649, max_bin=157,\n",
       "                                n_estimators=121, num_leaves=123, num_threads=1,\n",
       "                                random_state=RandomState(MT19937) at 0x7FB69AEA2B40,\n",
       "                                reg_alpha=0.002398345317591261,\n",
       "                                reg_lambda=0.6480071661851624,\n",
       "                                subsample=0.797356373150579, verbose=-1))])</pre></div></div></div><div class=\"sk-serial\"><div class=\"sk-item\"><div class=\"sk-label-container\"><div class=\"sk-label sk-toggleable\"><input class=\"sk-toggleable__control sk-hidden--visually\" id=\"sk-estimator-id-2\" type=\"checkbox\" ><label for=\"sk-estimator-id-2\" class=\"sk-toggleable__label sk-toggleable__label-arrow\">preprocess: Pipeline</label><div class=\"sk-toggleable__content\"><pre>Pipeline(steps=[(&#x27;imputer&#x27;,\n",
       "                 PolarsColumnTransformer(steps=OrderedDict([(&#x27;title_imp&#x27;,\n",
       "                                                             &lt;functions.transformers.PolarsColumnTransformer.Step object at 0x7fb42ba53d30&gt;),\n",
       "                                                            (&#x27;zip_code_imp&#x27;,\n",
       "                                                             &lt;functions.transformers.PolarsColumnTransformer.Step object at 0x7fb42ba53c70&gt;),\n",
       "                                                            (&#x27;state_imp&#x27;,\n",
       "                                                             &lt;functions.transformers.PolarsColumnTransformer.Step object at 0x7fb42ba53610&gt;),\n",
       "                                                            (&#x27;len_i...\n",
       "                                                             &lt;functions.transformers.PolarsColumnTransformer.Step object at 0x7fb42ba53e80&gt;),\n",
       "                                                            (&#x27;title&#x27;,\n",
       "                                                             &lt;functions.transformers.PolarsColumnTransformer.Step object at 0x7fb6f84d6f40&gt;),\n",
       "                                                            (&#x27;emp_length&#x27;,\n",
       "                                                             &lt;functions.transformers.PolarsColumnTransformer.Step object at 0x7fb6f84d6550&gt;)]))),\n",
       "                (&#x27;null_imputer&#x27;, PolarsNullImputer(fill_value=-9)),\n",
       "                (&#x27;feature_remover&#x27;,\n",
       "                 FeatureRemover(feats_to_drop=[&#x27;title_contains_numbers&#x27;,\n",
       "                                               &#x27;title_starts_with_lowercase&#x27;]))])</pre></div></div></div><div class=\"sk-serial\"><div class=\"sk-item\"><div class=\"sk-estimator sk-toggleable\"><input class=\"sk-toggleable__control sk-hidden--visually\" id=\"sk-estimator-id-3\" type=\"checkbox\" ><label for=\"sk-estimator-id-3\" class=\"sk-toggleable__label sk-toggleable__label-arrow\">PolarsColumnTransformer</label><div class=\"sk-toggleable__content\"><pre>PolarsColumnTransformer(steps=OrderedDict([(&#x27;title_imp&#x27;,\n",
       "                                            &lt;functions.transformers.PolarsColumnTransformer.Step object at 0x7fb42ba53d30&gt;),\n",
       "                                           (&#x27;zip_code_imp&#x27;,\n",
       "                                            &lt;functions.transformers.PolarsColumnTransformer.Step object at 0x7fb42ba53c70&gt;),\n",
       "                                           (&#x27;state_imp&#x27;,\n",
       "                                            &lt;functions.transformers.PolarsColumnTransformer.Step object at 0x7fb42ba53610&gt;),\n",
       "                                           (&#x27;len_imp&#x27;,\n",
       "                                            &lt;functions.transformers.PolarsColumnTransformer.Step object at 0x7fb42ba53790&gt;)]))</pre></div></div></div><div class=\"sk-item\"><div class=\"sk-estimator sk-toggleable\"><input class=\"sk-toggleable__control sk-hidden--visually\" id=\"sk-estimator-id-4\" type=\"checkbox\" ><label for=\"sk-estimator-id-4\" class=\"sk-toggleable__label sk-toggleable__label-arrow\">PolarsColumnTransformer</label><div class=\"sk-toggleable__content\"><pre>PolarsColumnTransformer(step_params={&#x27;state&#x27;: {&#x27;how&#x27;: &#x27;label&#x27;},\n",
       "                                     &#x27;title&#x27;: {&#x27;how&#x27;: &#x27;label&#x27;},\n",
       "                                     &#x27;zip_code&#x27;: {&#x27;how&#x27;: &#x27;label&#x27;}},\n",
       "                        steps=OrderedDict([(&#x27;state&#x27;,\n",
       "                                            &lt;functions.transformers.PolarsColumnTransformer.Step object at 0x7fb42ba53400&gt;),\n",
       "                                           (&#x27;zip_code&#x27;,\n",
       "                                            &lt;functions.transformers.PolarsColumnTransformer.Step object at 0x7fb42ba53e80&gt;),\n",
       "                                           (&#x27;title&#x27;,\n",
       "                                            &lt;functions.transformers.PolarsColumnTransformer.Step object at 0x7fb6f84d6f40&gt;),\n",
       "                                           (&#x27;emp_length&#x27;,\n",
       "                                            &lt;functions.transformers.PolarsColumnTransformer.Step object at 0x7fb6f84d6550&gt;)]))</pre></div></div></div><div class=\"sk-item\"><div class=\"sk-estimator sk-toggleable\"><input class=\"sk-toggleable__control sk-hidden--visually\" id=\"sk-estimator-id-5\" type=\"checkbox\" ><label for=\"sk-estimator-id-5\" class=\"sk-toggleable__label sk-toggleable__label-arrow\">PolarsNullImputer</label><div class=\"sk-toggleable__content\"><pre>PolarsNullImputer(fill_value=-9)</pre></div></div></div><div class=\"sk-item\"><div class=\"sk-estimator sk-toggleable\"><input class=\"sk-toggleable__control sk-hidden--visually\" id=\"sk-estimator-id-6\" type=\"checkbox\" ><label for=\"sk-estimator-id-6\" class=\"sk-toggleable__label sk-toggleable__label-arrow\">FeatureRemover</label><div class=\"sk-toggleable__content\"><pre>FeatureRemover(feats_to_drop=[&#x27;title_contains_numbers&#x27;,\n",
       "                              &#x27;title_starts_with_lowercase&#x27;])</pre></div></div></div></div></div><div class=\"sk-item\"><div class=\"sk-estimator sk-toggleable\"><input class=\"sk-toggleable__control sk-hidden--visually\" id=\"sk-estimator-id-7\" type=\"checkbox\" ><label for=\"sk-estimator-id-7\" class=\"sk-toggleable__label sk-toggleable__label-arrow\">LGBMClassifier</label><div class=\"sk-toggleable__content\"><pre>LGBMClassifier(bagging_freq=7, boosting_type=&#x27;rf&#x27;,\n",
       "               colsample_bytree=0.5431419823122927, force_col_wise=True,\n",
       "               learning_rate=0.06089891117069649, max_bin=157, n_estimators=121,\n",
       "               num_leaves=123, num_threads=1,\n",
       "               random_state=RandomState(MT19937) at 0x7FB69AEA2B40,\n",
       "               reg_alpha=0.002398345317591261, reg_lambda=0.6480071661851624,\n",
       "               subsample=0.797356373150579, verbose=-1)</pre></div></div></div></div></div></div></div>"
      ],
      "text/plain": [
       "Pipeline(steps=[('preprocess',\n",
       "                 Pipeline(steps=[('imputer',\n",
       "                                  PolarsColumnTransformer(steps=OrderedDict([('title_imp',\n",
       "                                                                              <functions.transformers.PolarsColumnTransformer.Step object at 0x7fb42ba53d30>),\n",
       "                                                                             ('zip_code_imp',\n",
       "                                                                              <functions.transformers.PolarsColumnTransformer.Step object at 0x7fb42ba53c70>),\n",
       "                                                                             ('state_imp',\n",
       "                                                                              <functions.transformers.PolarsColumnTransformer.Step ob...\n",
       "                 LGBMClassifier(bagging_freq=7, boosting_type='rf',\n",
       "                                colsample_bytree=0.5431419823122927,\n",
       "                                force_col_wise=True,\n",
       "                                learning_rate=0.06089891117069649, max_bin=157,\n",
       "                                n_estimators=121, num_leaves=123, num_threads=1,\n",
       "                                random_state=RandomState(MT19937) at 0x7FB69AEA2B40,\n",
       "                                reg_alpha=0.002398345317591261,\n",
       "                                reg_lambda=0.6480071661851624,\n",
       "                                subsample=0.797356373150579, verbose=-1))])"
      ]
     },
     "execution_count": 15,
     "metadata": {},
     "output_type": "execute_result"
    }
   ],
   "source": [
    "best_pipeline.fit(X_train.vstack(X_val), pl.concat([y_train,y_val]))"
   ]
  },
  {
   "cell_type": "code",
   "execution_count": 16,
   "metadata": {},
   "outputs": [],
   "source": [
    "data_test=pl.read_parquet('data/data_full_test.parquet')"
   ]
  },
  {
   "cell_type": "code",
   "execution_count": 17,
   "metadata": {},
   "outputs": [],
   "source": [
    "data_test=dmf.clean_accepted_rejected(data_test)\n",
    "data_test=feats.date_features_accepted_rejected(data_test,\"Application Date\")\n",
    "data_test=feats.title_text_features(data_test)\n",
    "\n",
    "X_test = data_test.drop(columns=[\"Policy Code\"])\n",
    "y_test = data_test[\"Policy Code\"]"
   ]
  },
  {
   "cell_type": "code",
   "execution_count": 18,
   "metadata": {},
   "outputs": [
    {
     "name": "stdout",
     "output_type": "stream",
     "text": [
      "              precision    recall  f1-score   support\n",
      "\n",
      "           0       0.99      0.98      0.98   6647748\n",
      "           1       0.64      0.73      0.68    346669\n",
      "\n",
      "    accuracy                           0.97   6994417\n",
      "   macro avg       0.81      0.86      0.83   6994417\n",
      "weighted avg       0.97      0.97      0.97   6994417\n",
      "\n"
     ]
    }
   ],
   "source": [
    "final_preds = best_pipeline.predict(X_test)\n",
    "print(classification_report(data_test[\"Policy Code\"], final_preds))"
   ]
  },
  {
   "cell_type": "code",
   "execution_count": 21,
   "metadata": {},
   "outputs": [
    {
     "data": {
      "text/plain": [
       "['trained_models/final_model_accepted_rejected.joblib']"
      ]
     },
     "execution_count": 21,
     "metadata": {},
     "output_type": "execute_result"
    }
   ],
   "source": [
    "# best_pipeline.fit(X_train.vstack(X_val).vstack(X_test), pl.concat([y_train,y_val,y_test]))\n",
    "joblib.dump(best_pipeline,\"trained_models/final_model_accepted_rejected.joblib\")"
   ]
  }
 ],
 "metadata": {
  "kernelspec": {
   "display_name": "base",
   "language": "python",
   "name": "python3"
  },
  "language_info": {
   "codemirror_mode": {
    "name": "ipython",
    "version": 3
   },
   "file_extension": ".py",
   "mimetype": "text/x-python",
   "name": "python",
   "nbconvert_exporter": "python",
   "pygments_lexer": "ipython3",
   "version": "3.9.13"
  },
  "orig_nbformat": 4
 },
 "nbformat": 4,
 "nbformat_minor": 2
}
