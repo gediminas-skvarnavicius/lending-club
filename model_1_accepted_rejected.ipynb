{
 "cells": [
  {
   "cell_type": "code",
   "execution_count": 1,
   "metadata": {},
   "outputs": [],
   "source": [
    "%reload_ext autoreload\n",
    "%autoreload 1\n",
    "from ray import tune, train\n",
    "import shap\n",
    "import matplotlib.pyplot as plt\n",
    "import polars as pl\n",
    "import sys\n",
    "import numpy as np\n",
    "from sklearn.model_selection import train_test_split\n",
    "import functions.transformers as tr\n",
    "import functions.data_manipulation_functions as dmf\n",
    "import functions.plot_functions as pf\n",
    "import functions.tuning as tunes\n",
    "import seaborn as sns\n",
    "from sklearn.compose import ColumnTransformer\n",
    "from sklearn.pipeline import Pipeline\n",
    "from sklearn.metrics import classification_report\n",
    "from sklearn.preprocessing import LabelEncoder\n",
    "from sklearn.preprocessing import OneHotEncoder\n",
    "import lightgbm as lgb\n",
    "%aimport functions.tuning\n",
    "%aimport functions.transformers\n",
    "%aimport functions.data_manipulation_functions\n",
    "%aimport functions.plot_functions"
   ]
  },
  {
   "cell_type": "code",
   "execution_count": 2,
   "metadata": {},
   "outputs": [],
   "source": [
    "BASE_FIG_SIZE=(8.5,4.5)\n",
    "sns.set()"
   ]
  },
  {
   "cell_type": "code",
   "execution_count": 3,
   "metadata": {},
   "outputs": [],
   "source": [
    "# data_sample_train=pl.read_parquet('data/data_sample.parquet')\n",
    "# data_sample_val=pl.read_parquet('data/data_sample.parquet')\n",
    "data_sample_train=pl.read_parquet('data/data_full_train.parquet')\n",
    "data_sample_val=pl.read_parquet('data/data_full_val.parquet')"
   ]
  },
  {
   "cell_type": "code",
   "execution_count": 4,
   "metadata": {},
   "outputs": [],
   "source": [
    "data_sample_train=dmf.title_text_features(data_sample_train)\n",
    "data_sample_val=dmf.title_text_features(data_sample_val)"
   ]
  },
  {
   "cell_type": "code",
   "execution_count": 5,
   "metadata": {},
   "outputs": [],
   "source": [
    "X_mini_train = data_sample_train.drop(columns=['Application Date','month','Policy Code'])\n",
    "X_mini_val= data_sample_val.drop(columns=['Application Date','month','Policy Code'])\n",
    "y_mini_train = data_sample_train['Policy Code']\n",
    "y_mini_val= data_sample_val['Policy Code']"
   ]
  },
  {
   "cell_type": "markdown",
   "metadata": {},
   "source": [
    "# stop here"
   ]
  },
  {
   "cell_type": "code",
   "execution_count": 6,
   "metadata": {},
   "outputs": [],
   "source": [
    "title_cat_imputer=tr.NotInImputerPolars(cat_no=12,fill_value=None)\n",
    "zip_imputer=tr.NotInImputerPolars(cat_no=50,fill_value=None)\n",
    "state_imputer=tr.NotInImputerPolars(cat_no=52,fill_value=None)\n",
    "emp_length_imputer=tr.NotInImputerPolars(cat_no=12,fill_value=None)\n",
    "\n",
    "imputer = tr.PolarsColumnTransformer(\n",
    "    [\n",
    "        tr.PolarsColumnTransformer.Step(title_cat_imputer, \"title\"),\n",
    "        tr.PolarsColumnTransformer.Step(zip_imputer, \"Zip Code\"),\n",
    "        tr.PolarsColumnTransformer.Step(state_imputer, \"State\"),\n",
    "        tr.PolarsColumnTransformer.Step(emp_length_imputer, \"Employment Length\"),\n",
    "    ]\n",
    ")"
   ]
  },
  {
   "cell_type": "code",
   "execution_count": 7,
   "metadata": {},
   "outputs": [],
   "source": [
    "state_encoder = tr.TargetMeanOrderedLabeler()\n",
    "zip_encoder = tr.TargetMeanOrderedLabeler()\n",
    "title_encoder = tr.PolarsOneHotEncoder()\n",
    "length_order = [\n",
    "    None,\n",
    "    \"< 1 year\",\n",
    "    \"1 year\",\n",
    "    \"2 years\",\n",
    "    \"3 years\",\n",
    "    \"4 years\",\n",
    "    \"5 years\",\n",
    "    \"6 years\",\n",
    "    \"7 years\",\n",
    "    \"8 years\",\n",
    "    \"9 years\",\n",
    "    \"10+ years\",\n",
    "]\n",
    "\n",
    "employment_encoder = tr.PolarsOrdinalEncoder(order=length_order)\n",
    "encoder = tr.PolarsColumnTransformer(\n",
    "    [\n",
    "        tr.PolarsColumnTransformer.Step(state_encoder, \"State\"),\n",
    "        tr.PolarsColumnTransformer.Step(zip_encoder, \"Zip Code\"),\n",
    "        tr.PolarsColumnTransformer.Step(title_encoder, \"title\"),\n",
    "        tr.PolarsColumnTransformer.Step(employment_encoder, \"Employment Length\"),\n",
    "    ]\n",
    ")\n",
    "null_imp = tr.PolarsNullImputer(fill_value=-9)\n",
    "\n",
    "\n",
    "model_lgbm = lgb.LGBMClassifier(\n",
    "    class_weight=\"balanced\",\n",
    "    force_col_wise=True,\n",
    "    verbose=-1,\n",
    "    num_threads=1,\n",
    "    random_state=1,\n",
    ")\n",
    "\n",
    "boruta = tr.BorutaFeatureSelectorPolars(model_lgbm, random_state=1,perc=1)\n",
    "\n",
    "preprocess_lgbm = Pipeline(\n",
    "    [\n",
    "        (\"imputer\", imputer),\n",
    "        (\"encoder\", encoder),\n",
    "        (\"null_imputer\", null_imp),\n",
    "        (\"boruta\", boruta),\n",
    "    ]\n",
    ")"
   ]
  },
  {
   "cell_type": "code",
   "execution_count": 8,
   "metadata": {},
   "outputs": [],
   "source": [
    "full_pipeline = Pipeline(\n",
    "    [\n",
    "        (\"preprocess\", preprocess_lgbm),\n",
    "        (\"model\", model_lgbm),\n",
    "    ]\n",
    ")"
   ]
  },
  {
   "cell_type": "code",
   "execution_count": 9,
   "metadata": {},
   "outputs": [
    {
     "data": {
      "text/html": [
       "<div class=\"tuneStatus\">\n",
       "  <div style=\"display: flex;flex-direction: row\">\n",
       "    <div style=\"display: flex;flex-direction: column;\">\n",
       "      <h3>Tune Status</h3>\n",
       "      <table>\n",
       "<tbody>\n",
       "<tr><td>Current time:</td><td>2023-10-03 15:47:33</td></tr>\n",
       "<tr><td>Running for: </td><td>00:02:45.21        </td></tr>\n",
       "<tr><td>Memory:      </td><td>16.6/31.2 GiB      </td></tr>\n",
       "</tbody>\n",
       "</table>\n",
       "    </div>\n",
       "    <div class=\"vDivider\"></div>\n",
       "    <div class=\"systemInfo\">\n",
       "      <h3>System Info</h3>\n",
       "      Using FIFO scheduling algorithm.<br>Logical resource usage: 2.0/12 CPUs, 0/1 GPUs (0.0/1.0 accelerator_type:G)\n",
       "    </div>\n",
       "    \n",
       "  </div>\n",
       "  <div class=\"hDivider\"></div>\n",
       "  <div class=\"trialStatus\">\n",
       "    <h3>Trial Status</h3>\n",
       "    <table>\n",
       "<thead>\n",
       "<tr><th>Trial name        </th><th>status    </th><th>loc                </th><th>model__boosting_type  </th><th style=\"text-align: right;\">         model__colsample_byt\n",
       "ree</th><th style=\"text-align: right;\">  model__learning_rate</th><th style=\"text-align: right;\">  model__n_estimators</th><th style=\"text-align: right;\">  model__num_leaves</th><th style=\"text-align: right;\">  model__reg_alpha</th><th style=\"text-align: right;\">  model__reg_lambda</th><th style=\"text-align: right;\">  model__subsample</th><th>preprocess__boruta__\n",
       "apply      </th><th style=\"text-align: right;\">   preprocess__boruta__\n",
       "perc</th><th style=\"text-align: right;\">  iter</th><th style=\"text-align: right;\">  total time (s)</th><th style=\"text-align: right;\">   score</th></tr>\n",
       "</thead>\n",
       "<tbody>\n",
       "<tr><td>Trainable_15fa0f10</td><td>RUNNING   </td><td>192.168.0.103:43920</td><td>rf                    </td><td style=\"text-align: right;\">0.700677</td><td style=\"text-align: right;\">            0.0040879 </td><td style=\"text-align: right;\">                  230</td><td style=\"text-align: right;\">                149</td><td style=\"text-align: right;\">        0.113071  </td><td style=\"text-align: right;\">         0.586448  </td><td style=\"text-align: right;\">          0.298968</td><td>True </td><td style=\"text-align: right;\">35</td><td style=\"text-align: right;\">     3</td><td style=\"text-align: right;\">       127.035  </td><td style=\"text-align: right;\">0.575145</td></tr>\n",
       "<tr><td>Trainable_8dd86aab</td><td>PENDING   </td><td>                   </td><td>rf                    </td><td style=\"text-align: right;\">0.813766</td><td style=\"text-align: right;\">            0.0108859 </td><td style=\"text-align: right;\">                  145</td><td style=\"text-align: right;\">                166</td><td style=\"text-align: right;\">        0.0150547 </td><td style=\"text-align: right;\">         0.00777281</td><td style=\"text-align: right;\">          0.736063</td><td>True </td><td style=\"text-align: right;\"> 8</td><td style=\"text-align: right;\">      </td><td style=\"text-align: right;\">                </td><td style=\"text-align: right;\">        </td></tr>\n",
       "<tr><td>Trainable_ee328626</td><td>TERMINATED</td><td>192.168.0.103:44047</td><td>dart                  </td><td style=\"text-align: right;\">0.98688 </td><td style=\"text-align: right;\">            0.00151208</td><td style=\"text-align: right;\">                   76</td><td style=\"text-align: right;\">                 92</td><td style=\"text-align: right;\">        0.00176499</td><td style=\"text-align: right;\">         0.333389  </td><td style=\"text-align: right;\">          0.91934 </td><td>True </td><td style=\"text-align: right;\">95</td><td style=\"text-align: right;\">     3</td><td style=\"text-align: right;\">        78.9898 </td><td style=\"text-align: right;\">0.183815</td></tr>\n",
       "<tr><td>Trainable_0988e770</td><td>TERMINATED</td><td>192.168.0.103:44108</td><td>dart                  </td><td style=\"text-align: right;\">0.851927</td><td style=\"text-align: right;\">            0.0912429 </td><td style=\"text-align: right;\">                   80</td><td style=\"text-align: right;\">                 36</td><td style=\"text-align: right;\">        0.067467  </td><td style=\"text-align: right;\">         0.0991917 </td><td style=\"text-align: right;\">          0.205682</td><td>True </td><td style=\"text-align: right;\">83</td><td style=\"text-align: right;\">     5</td><td style=\"text-align: right;\">        51.6988 </td><td style=\"text-align: right;\">0.531131</td></tr>\n",
       "<tr><td>Trainable_bd8a96ec</td><td>TERMINATED</td><td>192.168.0.103:44175</td><td>gbdt                  </td><td style=\"text-align: right;\">0.563335</td><td style=\"text-align: right;\">            0.0907707 </td><td style=\"text-align: right;\">                  116</td><td style=\"text-align: right;\">                112</td><td style=\"text-align: right;\">        0.258501  </td><td style=\"text-align: right;\">         0.0995836 </td><td style=\"text-align: right;\">          0.28258 </td><td>False</td><td style=\"text-align: right;\">26</td><td style=\"text-align: right;\">    10</td><td style=\"text-align: right;\">         3.62052</td><td style=\"text-align: right;\">0.624357</td></tr>\n",
       "<tr><td>Trainable_6fc3a050</td><td>TERMINATED</td><td>192.168.0.103:44229</td><td>rf                    </td><td style=\"text-align: right;\">0.646914</td><td style=\"text-align: right;\">            0.0132383 </td><td style=\"text-align: right;\">                  230</td><td style=\"text-align: right;\">                146</td><td style=\"text-align: right;\">        0.381316  </td><td style=\"text-align: right;\">         0.706294  </td><td style=\"text-align: right;\">          0.733721</td><td>False</td><td style=\"text-align: right;\"> 9</td><td style=\"text-align: right;\">    10</td><td style=\"text-align: right;\">         5.76773</td><td style=\"text-align: right;\">0.570248</td></tr>\n",
       "</tbody>\n",
       "</table>\n",
       "  </div>\n",
       "</div>\n",
       "<style>\n",
       ".tuneStatus {\n",
       "  color: var(--jp-ui-font-color1);\n",
       "}\n",
       ".tuneStatus .systemInfo {\n",
       "  display: flex;\n",
       "  flex-direction: column;\n",
       "}\n",
       ".tuneStatus td {\n",
       "  white-space: nowrap;\n",
       "}\n",
       ".tuneStatus .trialStatus {\n",
       "  display: flex;\n",
       "  flex-direction: column;\n",
       "}\n",
       ".tuneStatus h3 {\n",
       "  font-weight: bold;\n",
       "}\n",
       ".tuneStatus .hDivider {\n",
       "  border-bottom-width: var(--jp-border-width);\n",
       "  border-bottom-color: var(--jp-border-color0);\n",
       "  border-bottom-style: solid;\n",
       "}\n",
       ".tuneStatus .vDivider {\n",
       "  border-left-width: var(--jp-border-width);\n",
       "  border-left-color: var(--jp-border-color0);\n",
       "  border-left-style: solid;\n",
       "  margin: 0.5em 1em 0.5em 1em;\n",
       "}\n",
       "</style>\n"
      ],
      "text/plain": [
       "<IPython.core.display.HTML object>"
      ]
     },
     "metadata": {},
     "output_type": "display_data"
    },
    {
     "name": "stdout",
     "output_type": "stream",
     "text": [
      "\u001b[2m\u001b[36m(Trainable pid=43920)\u001b[0m {'preprocess__boruta__perc': 35, 'preprocess__boruta__apply': True, 'model__num_leaves': 149, 'model__n_estimators': 230, 'model__learning_rate': 0.004087901368203431, 'model__colsample_bytree': 0.7006774803400344, 'model__subsample': 0.29896839334984815, 'model__reg_alpha': 0.11307077083494636, 'model__reg_lambda': 0.5864481457719137, 'model__boosting_type': 'rf'}\n"
     ]
    },
    {
     "name": "stderr",
     "output_type": "stream",
     "text": [
      "\u001b[2m\u001b[36m(Trainable pid=43920)\u001b[0m Trainable.setup took 28.591 seconds. If your trainable is slow to initialize, consider setting reuse_actors=True to reduce actor creation overheads.\n"
     ]
    },
    {
     "name": "stdout",
     "output_type": "stream",
     "text": [
      "\u001b[2m\u001b[36m(Trainable pid=43920)\u001b[0m Step 0 F-1 Score: 0.5525606469002695\n",
      "\u001b[2m\u001b[36m(Trainable pid=43920)\u001b[0m {'preprocess__boruta__perc': 35, 'preprocess__boruta__apply': True, 'model__num_leaves': 149, 'model__n_estimators': 230, 'model__learning_rate': 0.004087901368203431, 'model__colsample_bytree': 0.7006774803400344, 'model__subsample': 0.29896839334984815, 'model__reg_alpha': 0.11307077083494636, 'model__reg_lambda': 0.5864481457719137, 'model__boosting_type': 'rf'}\n"
     ]
    },
    {
     "name": "stderr",
     "output_type": "stream",
     "text": [
      "\u001b[2m\u001b[36m(Trainable pid=44047)\u001b[0m Trainable.setup took 29.135 seconds. If your trainable is slow to initialize, consider setting reuse_actors=True to reduce actor creation overheads.\n"
     ]
    },
    {
     "name": "stdout",
     "output_type": "stream",
     "text": [
      "\u001b[2m\u001b[36m(Trainable pid=44047)\u001b[0m {'preprocess__boruta__perc': 95, 'preprocess__boruta__apply': True, 'model__num_leaves': 92, 'model__n_estimators': 76, 'model__learning_rate': 0.0015120798815703943, 'model__colsample_bytree': 0.9868797567505296, 'model__subsample': 0.9193403464175194, 'model__reg_alpha': 0.0017649867355565866, 'model__reg_lambda': 0.33338918251969535, 'model__boosting_type': 'dart'}\n",
      "\u001b[2m\u001b[36m(Trainable pid=44047)\u001b[0m {'preprocess__boruta__perc': 95, 'preprocess__boruta__apply': True, 'model__num_leaves': 92, 'model__n_estimators': 76, 'model__learning_rate': 0.0015120798815703943, 'model__colsample_bytree': 0.9868797567505296, 'model__subsample': 0.9193403464175194, 'model__reg_alpha': 0.0017649867355565866, 'model__reg_lambda': 0.33338918251969535, 'model__boosting_type': 'dart'}\n",
      "\u001b[2m\u001b[36m(Trainable pid=44047)\u001b[0m Step 0 F-1 Score: 0.17424975798644726\n",
      "\u001b[2m\u001b[36m(Trainable pid=44108)\u001b[0m {'preprocess__boruta__perc': 83, 'preprocess__boruta__apply': True, 'model__num_leaves': 36, 'model__n_estimators': 80, 'model__learning_rate': 0.09124286542459219, 'model__colsample_bytree': 0.8519268637260557, 'model__subsample': 0.20568170760208374, 'model__reg_alpha': 0.06746704178045802, 'model__reg_lambda': 0.09919169609329984, 'model__boosting_type': 'dart'}\n"
     ]
    },
    {
     "name": "stderr",
     "output_type": "stream",
     "text": [
      "\u001b[2m\u001b[36m(Trainable pid=44108)\u001b[0m Trainable.setup took 29.753 seconds. If your trainable is slow to initialize, consider setting reuse_actors=True to reduce actor creation overheads.\n"
     ]
    },
    {
     "name": "stdout",
     "output_type": "stream",
     "text": [
      "\u001b[2m\u001b[36m(Trainable pid=43920)\u001b[0m Step 1 F-1 Score: 0.5428194993412384\n",
      "\u001b[2m\u001b[36m(Trainable pid=43920)\u001b[0m {'preprocess__boruta__perc': 35, 'preprocess__boruta__apply': True, 'model__num_leaves': 149, 'model__n_estimators': 230, 'model__learning_rate': 0.004087901368203431, 'model__colsample_bytree': 0.7006774803400344, 'model__subsample': 0.29896839334984815, 'model__reg_alpha': 0.11307077083494636, 'model__reg_lambda': 0.5864481457719137, 'model__boosting_type': 'rf'}\n",
      "\u001b[2m\u001b[36m(Trainable pid=44047)\u001b[0m {'preprocess__boruta__perc': 95, 'preprocess__boruta__apply': True, 'model__num_leaves': 92, 'model__n_estimators': 76, 'model__learning_rate': 0.0015120798815703943, 'model__colsample_bytree': 0.9868797567505296, 'model__subsample': 0.9193403464175194, 'model__reg_alpha': 0.0017649867355565866, 'model__reg_lambda': 0.33338918251969535, 'model__boosting_type': 'dart'}\n",
      "\u001b[2m\u001b[36m(Trainable pid=44108)\u001b[0m {'preprocess__boruta__perc': 83, 'preprocess__boruta__apply': True, 'model__num_leaves': 36, 'model__n_estimators': 80, 'model__learning_rate': 0.09124286542459219, 'model__colsample_bytree': 0.8519268637260557, 'model__subsample': 0.20568170760208374, 'model__reg_alpha': 0.06746704178045802, 'model__reg_lambda': 0.09919169609329984, 'model__boosting_type': 'dart'}\n",
      "\u001b[2m\u001b[36m(Trainable pid=44108)\u001b[0m {'preprocess__boruta__perc': 83, 'preprocess__boruta__apply': True, 'model__num_leaves': 36, 'model__n_estimators': 80, 'model__learning_rate': 0.09124286542459219, 'model__colsample_bytree': 0.8519268637260557, 'model__subsample': 0.20568170760208374, 'model__reg_alpha': 0.06746704178045802, 'model__reg_lambda': 0.09919169609329984, 'model__boosting_type': 'dart'}\n",
      "\u001b[2m\u001b[36m(Trainable pid=44108)\u001b[0m Step 1 F-1 Score: 0.5513654096228868\u001b[32m [repeated 3x across cluster] (Ray deduplicates logs by default. Set RAY_DEDUP_LOGS=0 to disable log deduplication, or see https://docs.ray.io/en/master/ray-observability/ray-logging.html#log-deduplication for more options.)\u001b[0m\n",
      "\u001b[2m\u001b[36m(Trainable pid=44108)\u001b[0m {'preprocess__boruta__perc': 83, 'preprocess__boruta__apply': True, 'model__num_leaves': 36, 'model__n_estimators': 80, 'model__learning_rate': 0.09124286542459219, 'model__colsample_bytree': 0.8519268637260557, 'model__subsample': 0.20568170760208374, 'model__reg_alpha': 0.06746704178045802, 'model__reg_lambda': 0.09919169609329984, 'model__boosting_type': 'dart'}\n",
      "\u001b[2m\u001b[36m(Trainable pid=44108)\u001b[0m Step 2 F-1 Score: 0.5810055865921788\n",
      "\u001b[2m\u001b[36m(Trainable pid=44175)\u001b[0m {'preprocess__boruta__perc': 26, 'preprocess__boruta__apply': False, 'model__num_leaves': 112, 'model__n_estimators': 116, 'model__learning_rate': 0.09077072234004778, 'model__colsample_bytree': 0.5633352164776549, 'model__subsample': 0.28258018615799135, 'model__reg_alpha': 0.2585014036814102, 'model__reg_lambda': 0.09958364251077013, 'model__boosting_type': 'gbdt'}\n"
     ]
    },
    {
     "name": "stderr",
     "output_type": "stream",
     "text": [
      "\u001b[2m\u001b[36m(Trainable pid=44175)\u001b[0m Trainable.setup took 29.621 seconds. If your trainable is slow to initialize, consider setting reuse_actors=True to reduce actor creation overheads.\n"
     ]
    },
    {
     "name": "stdout",
     "output_type": "stream",
     "text": [
      "\u001b[2m\u001b[36m(Trainable pid=44175)\u001b[0m Step 0 F-1 Score: 0.6438356164383562\n",
      "\u001b[2m\u001b[36m(Trainable pid=44175)\u001b[0m {'preprocess__boruta__perc': 26, 'preprocess__boruta__apply': False, 'model__num_leaves': 112, 'model__n_estimators': 116, 'model__learning_rate': 0.09077072234004778, 'model__colsample_bytree': 0.5633352164776549, 'model__subsample': 0.28258018615799135, 'model__reg_alpha': 0.2585014036814102, 'model__reg_lambda': 0.09958364251077013, 'model__boosting_type': 'gbdt'}\n",
      "\u001b[2m\u001b[36m(Trainable pid=44175)\u001b[0m Step 1 F-1 Score: 0.6448275862068965\n",
      "\u001b[2m\u001b[36m(Trainable pid=44175)\u001b[0m {'preprocess__boruta__perc': 26, 'preprocess__boruta__apply': False, 'model__num_leaves': 112, 'model__n_estimators': 116, 'model__learning_rate': 0.09077072234004778, 'model__colsample_bytree': 0.5633352164776549, 'model__subsample': 0.28258018615799135, 'model__reg_alpha': 0.2585014036814102, 'model__reg_lambda': 0.09958364251077013, 'model__boosting_type': 'gbdt'}\n",
      "\u001b[2m\u001b[36m(Trainable pid=44175)\u001b[0m Step 2 F-1 Score: 0.6273830155979203\n",
      "\u001b[2m\u001b[36m(Trainable pid=44175)\u001b[0m {'preprocess__boruta__perc': 26, 'preprocess__boruta__apply': False, 'model__num_leaves': 112, 'model__n_estimators': 116, 'model__learning_rate': 0.09077072234004778, 'model__colsample_bytree': 0.5633352164776549, 'model__subsample': 0.28258018615799135, 'model__reg_alpha': 0.2585014036814102, 'model__reg_lambda': 0.09958364251077013, 'model__boosting_type': 'gbdt'}\n",
      "\u001b[2m\u001b[36m(Trainable pid=44175)\u001b[0m Step 3 F-1 Score: 0.6209386281588448\n",
      "\u001b[2m\u001b[36m(Trainable pid=44175)\u001b[0m {'preprocess__boruta__perc': 26, 'preprocess__boruta__apply': False, 'model__num_leaves': 112, 'model__n_estimators': 116, 'model__learning_rate': 0.09077072234004778, 'model__colsample_bytree': 0.5633352164776549, 'model__subsample': 0.28258018615799135, 'model__reg_alpha': 0.2585014036814102, 'model__reg_lambda': 0.09958364251077013, 'model__boosting_type': 'gbdt'}\n",
      "\u001b[2m\u001b[36m(Trainable pid=44175)\u001b[0m Step 4 F-1 Score: 0.5993150684931506\n",
      "\u001b[2m\u001b[36m(Trainable pid=44175)\u001b[0m {'preprocess__boruta__perc': 26, 'preprocess__boruta__apply': False, 'model__num_leaves': 112, 'model__n_estimators': 116, 'model__learning_rate': 0.09077072234004778, 'model__colsample_bytree': 0.5633352164776549, 'model__subsample': 0.28258018615799135, 'model__reg_alpha': 0.2585014036814102, 'model__reg_lambda': 0.09958364251077013, 'model__boosting_type': 'gbdt'}\n",
      "\u001b[2m\u001b[36m(Trainable pid=44175)\u001b[0m Step 5 F-1 Score: 0.5933682373472949\n",
      "\u001b[2m\u001b[36m(Trainable pid=44175)\u001b[0m {'preprocess__boruta__perc': 26, 'preprocess__boruta__apply': False, 'model__num_leaves': 112, 'model__n_estimators': 116, 'model__learning_rate': 0.09077072234004778, 'model__colsample_bytree': 0.5633352164776549, 'model__subsample': 0.28258018615799135, 'model__reg_alpha': 0.2585014036814102, 'model__reg_lambda': 0.09958364251077013, 'model__boosting_type': 'gbdt'}\n",
      "\u001b[2m\u001b[36m(Trainable pid=44175)\u001b[0m Step 6 F-1 Score: 0.6535008976660682\n",
      "\u001b[2m\u001b[36m(Trainable pid=44175)\u001b[0m {'preprocess__boruta__perc': 26, 'preprocess__boruta__apply': False, 'model__num_leaves': 112, 'model__n_estimators': 116, 'model__learning_rate': 0.09077072234004778, 'model__colsample_bytree': 0.5633352164776549, 'model__subsample': 0.28258018615799135, 'model__reg_alpha': 0.2585014036814102, 'model__reg_lambda': 0.09958364251077013, 'model__boosting_type': 'gbdt'}\n",
      "\u001b[2m\u001b[36m(Trainable pid=44175)\u001b[0m Step 7 F-1 Score: 0.6447140381282496\n",
      "\u001b[2m\u001b[36m(Trainable pid=44175)\u001b[0m {'preprocess__boruta__perc': 26, 'preprocess__boruta__apply': False, 'model__num_leaves': 112, 'model__n_estimators': 116, 'model__learning_rate': 0.09077072234004778, 'model__colsample_bytree': 0.5633352164776549, 'model__subsample': 0.28258018615799135, 'model__reg_alpha': 0.2585014036814102, 'model__reg_lambda': 0.09958364251077013, 'model__boosting_type': 'gbdt'}\n",
      "\u001b[2m\u001b[36m(Trainable pid=44175)\u001b[0m Step 8 F-1 Score: 0.6099290780141844\n",
      "\u001b[2m\u001b[36m(Trainable pid=44175)\u001b[0m {'preprocess__boruta__perc': 26, 'preprocess__boruta__apply': False, 'model__num_leaves': 112, 'model__n_estimators': 116, 'model__learning_rate': 0.09077072234004778, 'model__colsample_bytree': 0.5633352164776549, 'model__subsample': 0.28258018615799135, 'model__reg_alpha': 0.2585014036814102, 'model__reg_lambda': 0.09958364251077013, 'model__boosting_type': 'gbdt'}\n",
      "\u001b[2m\u001b[36m(Trainable pid=44175)\u001b[0m Step 9 F-1 Score: 0.6243567753001714\n",
      "\u001b[2m\u001b[36m(Trainable pid=44108)\u001b[0m {'preprocess__boruta__perc': 83, 'preprocess__boruta__apply': True, 'model__num_leaves': 36, 'model__n_estimators': 80, 'model__learning_rate': 0.09124286542459219, 'model__colsample_bytree': 0.8519268637260557, 'model__subsample': 0.20568170760208374, 'model__reg_alpha': 0.06746704178045802, 'model__reg_lambda': 0.09919169609329984, 'model__boosting_type': 'dart'}\n",
      "\u001b[2m\u001b[36m(Trainable pid=44108)\u001b[0m Step 3 F-1 Score: 0.576551724137931\n",
      "\u001b[2m\u001b[36m(Trainable pid=44047)\u001b[0m Step 2 F-1 Score: 0.18381502890173412\n",
      "\u001b[2m\u001b[36m(Trainable pid=44229)\u001b[0m {'preprocess__boruta__perc': 9, 'preprocess__boruta__apply': False, 'model__num_leaves': 146, 'model__n_estimators': 230, 'model__learning_rate': 0.013238271626575067, 'model__colsample_bytree': 0.6469135494214725, 'model__subsample': 0.7337210416681583, 'model__reg_alpha': 0.3813161693715466, 'model__reg_lambda': 0.7062940531337437, 'model__boosting_type': 'rf'}\n",
      "\u001b[2m\u001b[36m(Trainable pid=44108)\u001b[0m Step 4 F-1 Score: 0.5311308767471411\n"
     ]
    },
    {
     "name": "stderr",
     "output_type": "stream",
     "text": [
      "\u001b[2m\u001b[36m(Trainable pid=44229)\u001b[0m Trainable.setup took 30.129 seconds. If your trainable is slow to initialize, consider setting reuse_actors=True to reduce actor creation overheads.\n"
     ]
    },
    {
     "name": "stdout",
     "output_type": "stream",
     "text": [
      "\u001b[2m\u001b[36m(Trainable pid=44229)\u001b[0m Step 0 F-1 Score: 0.5520974289580515\n",
      "\u001b[2m\u001b[36m(Trainable pid=44229)\u001b[0m {'preprocess__boruta__perc': 9, 'preprocess__boruta__apply': False, 'model__num_leaves': 146, 'model__n_estimators': 230, 'model__learning_rate': 0.013238271626575067, 'model__colsample_bytree': 0.6469135494214725, 'model__subsample': 0.7337210416681583, 'model__reg_alpha': 0.3813161693715466, 'model__reg_lambda': 0.7062940531337437, 'model__boosting_type': 'rf'}\n",
      "\u001b[2m\u001b[36m(Trainable pid=44229)\u001b[0m Step 1 F-1 Score: 0.5668449197860962\n",
      "\u001b[2m\u001b[36m(Trainable pid=44229)\u001b[0m {'preprocess__boruta__perc': 9, 'preprocess__boruta__apply': False, 'model__num_leaves': 146, 'model__n_estimators': 230, 'model__learning_rate': 0.013238271626575067, 'model__colsample_bytree': 0.6469135494214725, 'model__subsample': 0.7337210416681583, 'model__reg_alpha': 0.3813161693715466, 'model__reg_lambda': 0.7062940531337437, 'model__boosting_type': 'rf'}\n",
      "\u001b[2m\u001b[36m(Trainable pid=44229)\u001b[0m Step 2 F-1 Score: 0.5743145743145743\n",
      "\u001b[2m\u001b[36m(Trainable pid=44229)\u001b[0m {'preprocess__boruta__perc': 9, 'preprocess__boruta__apply': False, 'model__num_leaves': 146, 'model__n_estimators': 230, 'model__learning_rate': 0.013238271626575067, 'model__colsample_bytree': 0.6469135494214725, 'model__subsample': 0.7337210416681583, 'model__reg_alpha': 0.3813161693715466, 'model__reg_lambda': 0.7062940531337437, 'model__boosting_type': 'rf'}\n",
      "\u001b[2m\u001b[36m(Trainable pid=44229)\u001b[0m Step 3 F-1 Score: 0.5726027397260275\n",
      "\u001b[2m\u001b[36m(Trainable pid=44229)\u001b[0m {'preprocess__boruta__perc': 9, 'preprocess__boruta__apply': False, 'model__num_leaves': 146, 'model__n_estimators': 230, 'model__learning_rate': 0.013238271626575067, 'model__colsample_bytree': 0.6469135494214725, 'model__subsample': 0.7337210416681583, 'model__reg_alpha': 0.3813161693715466, 'model__reg_lambda': 0.7062940531337437, 'model__boosting_type': 'rf'}\n",
      "\u001b[2m\u001b[36m(Trainable pid=43920)\u001b[0m {'preprocess__boruta__perc': 35, 'preprocess__boruta__apply': True, 'model__num_leaves': 149, 'model__n_estimators': 230, 'model__learning_rate': 0.004087901368203431, 'model__colsample_bytree': 0.7006774803400344, 'model__subsample': 0.29896839334984815, 'model__reg_alpha': 0.11307077083494636, 'model__reg_lambda': 0.5864481457719137, 'model__boosting_type': 'rf'}\n",
      "\u001b[2m\u001b[36m(Trainable pid=44229)\u001b[0m {'preprocess__boruta__perc': 9, 'preprocess__boruta__apply': False, 'model__num_leaves': 146, 'model__n_estimators': 230, 'model__learning_rate': 0.013238271626575067, 'model__colsample_bytree': 0.6469135494214725, 'model__subsample': 0.7337210416681583, 'model__reg_alpha': 0.3813161693715466, 'model__reg_lambda': 0.7062940531337437, 'model__boosting_type': 'rf'}\n",
      "\u001b[2m\u001b[36m(Trainable pid=44229)\u001b[0m {'preprocess__boruta__perc': 9, 'preprocess__boruta__apply': False, 'model__num_leaves': 146, 'model__n_estimators': 230, 'model__learning_rate': 0.013238271626575067, 'model__colsample_bytree': 0.6469135494214725, 'model__subsample': 0.7337210416681583, 'model__reg_alpha': 0.3813161693715466, 'model__reg_lambda': 0.7062940531337437, 'model__boosting_type': 'rf'}\n",
      "\u001b[2m\u001b[36m(Trainable pid=44229)\u001b[0m {'preprocess__boruta__perc': 9, 'preprocess__boruta__apply': False, 'model__num_leaves': 146, 'model__n_estimators': 230, 'model__learning_rate': 0.013238271626575067, 'model__colsample_bytree': 0.6469135494214725, 'model__subsample': 0.7337210416681583, 'model__reg_alpha': 0.3813161693715466, 'model__reg_lambda': 0.7062940531337437, 'model__boosting_type': 'rf'}\n",
      "\u001b[2m\u001b[36m(Trainable pid=44229)\u001b[0m {'preprocess__boruta__perc': 9, 'preprocess__boruta__apply': False, 'model__num_leaves': 146, 'model__n_estimators': 230, 'model__learning_rate': 0.013238271626575067, 'model__colsample_bytree': 0.6469135494214725, 'model__subsample': 0.7337210416681583, 'model__reg_alpha': 0.3813161693715466, 'model__reg_lambda': 0.7062940531337437, 'model__boosting_type': 'rf'}\n",
      "\u001b[2m\u001b[36m(Trainable pid=44229)\u001b[0m {'preprocess__boruta__perc': 9, 'preprocess__boruta__apply': False, 'model__num_leaves': 146, 'model__n_estimators': 230, 'model__learning_rate': 0.013238271626575067, 'model__colsample_bytree': 0.6469135494214725, 'model__subsample': 0.7337210416681583, 'model__reg_alpha': 0.3813161693715466, 'model__reg_lambda': 0.7062940531337437, 'model__boosting_type': 'rf'}\n",
      "\u001b[2m\u001b[36m(Trainable pid=44229)\u001b[0m Step 9 F-1 Score: 0.5702479338842975\u001b[32m [repeated 7x across cluster]\u001b[0m\n"
     ]
    },
    {
     "name": "stderr",
     "output_type": "stream",
     "text": [
      "2023-10-03 15:47:32,826\tWARNING tune.py:194 -- Stop signal received (e.g. via SIGINT/Ctrl+C), ending Ray Tune run. This will try to checkpoint the experiment state one last time. Press CTRL+C (or send SIGINT/SIGKILL/SIGTERM) to skip. \n"
     ]
    }
   ],
   "source": [
    "search_space_lgbm = {\n",
    "    \"preprocess__boruta__perc\": tune.randint(1,100),\n",
    "    \"preprocess__boruta__apply\": tune.choice([True,False]),\n",
    "    \"model__num_leaves\": tune.randint(10, 200),\n",
    "    \"model__n_estimators\": tune.randint(10, 250),\n",
    "    \"model__learning_rate\": tune.loguniform(0.001, 0.1),\n",
    "    \"model__colsample_bytree\": tune.uniform(0.2, 1.0),\n",
    "    \"model__subsample\": tune.uniform(0.2, 1.0),\n",
    "    \"model__reg_alpha\": tune.loguniform(0.001, 1.0),\n",
    "    \"model__reg_lambda\": tune.loguniform(0.001, 1.0),\n",
    "    \"model__boosting_type\": tune.choice([\"gbdt\", \"dart\", \"rf\"]),\n",
    "}\n",
    "\n",
    "models=tunes.Models()\n",
    "models.add_model('lgbm_yn',full_pipeline,search_space_lgbm)\n",
    "\n",
    "\n",
    "models.tune_all(X_mini_train,y_mini_train,X_mini_val,y_mini_val,n=36)"
   ]
  },
  {
   "cell_type": "code",
   "execution_count": null,
   "metadata": {},
   "outputs": [
    {
     "data": {
      "text/html": [
       "<style>#sk-container-id-2 {color: black;}#sk-container-id-2 pre{padding: 0;}#sk-container-id-2 div.sk-toggleable {background-color: white;}#sk-container-id-2 label.sk-toggleable__label {cursor: pointer;display: block;width: 100%;margin-bottom: 0;padding: 0.3em;box-sizing: border-box;text-align: center;}#sk-container-id-2 label.sk-toggleable__label-arrow:before {content: \"▸\";float: left;margin-right: 0.25em;color: #696969;}#sk-container-id-2 label.sk-toggleable__label-arrow:hover:before {color: black;}#sk-container-id-2 div.sk-estimator:hover label.sk-toggleable__label-arrow:before {color: black;}#sk-container-id-2 div.sk-toggleable__content {max-height: 0;max-width: 0;overflow: hidden;text-align: left;background-color: #f0f8ff;}#sk-container-id-2 div.sk-toggleable__content pre {margin: 0.2em;color: black;border-radius: 0.25em;background-color: #f0f8ff;}#sk-container-id-2 input.sk-toggleable__control:checked~div.sk-toggleable__content {max-height: 200px;max-width: 100%;overflow: auto;}#sk-container-id-2 input.sk-toggleable__control:checked~label.sk-toggleable__label-arrow:before {content: \"▾\";}#sk-container-id-2 div.sk-estimator input.sk-toggleable__control:checked~label.sk-toggleable__label {background-color: #d4ebff;}#sk-container-id-2 div.sk-label input.sk-toggleable__control:checked~label.sk-toggleable__label {background-color: #d4ebff;}#sk-container-id-2 input.sk-hidden--visually {border: 0;clip: rect(1px 1px 1px 1px);clip: rect(1px, 1px, 1px, 1px);height: 1px;margin: -1px;overflow: hidden;padding: 0;position: absolute;width: 1px;}#sk-container-id-2 div.sk-estimator {font-family: monospace;background-color: #f0f8ff;border: 1px dotted black;border-radius: 0.25em;box-sizing: border-box;margin-bottom: 0.5em;}#sk-container-id-2 div.sk-estimator:hover {background-color: #d4ebff;}#sk-container-id-2 div.sk-parallel-item::after {content: \"\";width: 100%;border-bottom: 1px solid gray;flex-grow: 1;}#sk-container-id-2 div.sk-label:hover label.sk-toggleable__label {background-color: #d4ebff;}#sk-container-id-2 div.sk-serial::before {content: \"\";position: absolute;border-left: 1px solid gray;box-sizing: border-box;top: 0;bottom: 0;left: 50%;z-index: 0;}#sk-container-id-2 div.sk-serial {display: flex;flex-direction: column;align-items: center;background-color: white;padding-right: 0.2em;padding-left: 0.2em;position: relative;}#sk-container-id-2 div.sk-item {position: relative;z-index: 1;}#sk-container-id-2 div.sk-parallel {display: flex;align-items: stretch;justify-content: center;background-color: white;position: relative;}#sk-container-id-2 div.sk-item::before, #sk-container-id-2 div.sk-parallel-item::before {content: \"\";position: absolute;border-left: 1px solid gray;box-sizing: border-box;top: 0;bottom: 0;left: 50%;z-index: -1;}#sk-container-id-2 div.sk-parallel-item {display: flex;flex-direction: column;z-index: 1;position: relative;background-color: white;}#sk-container-id-2 div.sk-parallel-item:first-child::after {align-self: flex-end;width: 50%;}#sk-container-id-2 div.sk-parallel-item:last-child::after {align-self: flex-start;width: 50%;}#sk-container-id-2 div.sk-parallel-item:only-child::after {width: 0;}#sk-container-id-2 div.sk-dashed-wrapped {border: 1px dashed gray;margin: 0 0.4em 0.5em 0.4em;box-sizing: border-box;padding-bottom: 0.4em;background-color: white;}#sk-container-id-2 div.sk-label label {font-family: monospace;font-weight: bold;display: inline-block;line-height: 1.2em;}#sk-container-id-2 div.sk-label-container {text-align: center;}#sk-container-id-2 div.sk-container {/* jupyter's `normalize.less` sets `[hidden] { display: none; }` but bootstrap.min.css set `[hidden] { display: none !important; }` so we also need the `!important` here to be able to override the default hidden behavior on the sphinx rendered scikit-learn.org. See: https://github.com/scikit-learn/scikit-learn/issues/21755 */display: inline-block !important;position: relative;}#sk-container-id-2 div.sk-text-repr-fallback {display: none;}</style><div id=\"sk-container-id-2\" class=\"sk-top-container\"><div class=\"sk-text-repr-fallback\"><pre>Pipeline(steps=[(&#x27;preprocess&#x27;,\n",
       "                 Pipeline(steps=[(&#x27;imputer&#x27;,\n",
       "                                  PolarsColumnTransformer(steps=[&lt;functions.transformers.PolarsColumnTransformer.Step object at 0x7f9c559aafd0&gt;,\n",
       "                                                                 &lt;functions.transformers.PolarsColumnTransformer.Step object at 0x7f9cc8176a30&gt;,\n",
       "                                                                 &lt;functions.transformers.PolarsColumnTransformer.Step object at 0x7f9cc8176af0&gt;,\n",
       "                                                                 &lt;functions.transformers.PolarsColu...\n",
       "                (&#x27;model&#x27;,\n",
       "                 LGBMClassifier(boosting_type=&#x27;rf&#x27;, class_weight=&#x27;balanced&#x27;,\n",
       "                                colsample_bytree=0.5762020704530788,\n",
       "                                force_col_wise=True,\n",
       "                                learning_rate=0.00743321016462957,\n",
       "                                n_estimators=117, num_leaves=119, num_threads=1,\n",
       "                                random_state=RandomState(MT19937) at 0x7F9C51AD9940,\n",
       "                                reg_alpha=0.02181494481585082,\n",
       "                                reg_lambda=0.08531119879780251,\n",
       "                                subsample=0.6583984975633399, verbose=-1))])</pre><b>In a Jupyter environment, please rerun this cell to show the HTML representation or trust the notebook. <br />On GitHub, the HTML representation is unable to render, please try loading this page with nbviewer.org.</b></div><div class=\"sk-container\" hidden><div class=\"sk-item sk-dashed-wrapped\"><div class=\"sk-label-container\"><div class=\"sk-label sk-toggleable\"><input class=\"sk-toggleable__control sk-hidden--visually\" id=\"sk-estimator-id-10\" type=\"checkbox\" ><label for=\"sk-estimator-id-10\" class=\"sk-toggleable__label sk-toggleable__label-arrow\">Pipeline</label><div class=\"sk-toggleable__content\"><pre>Pipeline(steps=[(&#x27;preprocess&#x27;,\n",
       "                 Pipeline(steps=[(&#x27;imputer&#x27;,\n",
       "                                  PolarsColumnTransformer(steps=[&lt;functions.transformers.PolarsColumnTransformer.Step object at 0x7f9c559aafd0&gt;,\n",
       "                                                                 &lt;functions.transformers.PolarsColumnTransformer.Step object at 0x7f9cc8176a30&gt;,\n",
       "                                                                 &lt;functions.transformers.PolarsColumnTransformer.Step object at 0x7f9cc8176af0&gt;,\n",
       "                                                                 &lt;functions.transformers.PolarsColu...\n",
       "                (&#x27;model&#x27;,\n",
       "                 LGBMClassifier(boosting_type=&#x27;rf&#x27;, class_weight=&#x27;balanced&#x27;,\n",
       "                                colsample_bytree=0.5762020704530788,\n",
       "                                force_col_wise=True,\n",
       "                                learning_rate=0.00743321016462957,\n",
       "                                n_estimators=117, num_leaves=119, num_threads=1,\n",
       "                                random_state=RandomState(MT19937) at 0x7F9C51AD9940,\n",
       "                                reg_alpha=0.02181494481585082,\n",
       "                                reg_lambda=0.08531119879780251,\n",
       "                                subsample=0.6583984975633399, verbose=-1))])</pre></div></div></div><div class=\"sk-serial\"><div class=\"sk-item\"><div class=\"sk-label-container\"><div class=\"sk-label sk-toggleable\"><input class=\"sk-toggleable__control sk-hidden--visually\" id=\"sk-estimator-id-11\" type=\"checkbox\" ><label for=\"sk-estimator-id-11\" class=\"sk-toggleable__label sk-toggleable__label-arrow\">preprocess: Pipeline</label><div class=\"sk-toggleable__content\"><pre>Pipeline(steps=[(&#x27;imputer&#x27;,\n",
       "                 PolarsColumnTransformer(steps=[&lt;functions.transformers.PolarsColumnTransformer.Step object at 0x7f9c559aafd0&gt;,\n",
       "                                                &lt;functions.transformers.PolarsColumnTransformer.Step object at 0x7f9cc8176a30&gt;,\n",
       "                                                &lt;functions.transformers.PolarsColumnTransformer.Step object at 0x7f9cc8176af0&gt;,\n",
       "                                                &lt;functions.transformers.PolarsColumnTransformer.Step object at 0x7f...\n",
       "                 BorutaFeatureSelectorPolars(estimator=LGBMClassifier(boosting_type=&#x27;rf&#x27;,\n",
       "                                                                      class_weight=&#x27;balanced&#x27;,\n",
       "                                                                      colsample_bytree=0.5762020704530788,\n",
       "                                                                      force_col_wise=True,\n",
       "                                                                      learning_rate=0.00743321016462957,\n",
       "                                                                      n_estimators=117,\n",
       "                                                                      num_leaves=119,\n",
       "                                                                      num_threads=1,\n",
       "                                                                      random_state=RandomState(MT19937) at 0x7F9C51AD9940,\n",
       "                                                                      reg_alpha=0.02181494481585082,\n",
       "                                                                      reg_lambda=0.08531119879780251,\n",
       "                                                                      subsample=0.6583984975633399,\n",
       "                                                                      verbose=-1),\n",
       "                                             perc=65, random_state=1))])</pre></div></div></div><div class=\"sk-serial\"><div class=\"sk-item\"><div class=\"sk-estimator sk-toggleable\"><input class=\"sk-toggleable__control sk-hidden--visually\" id=\"sk-estimator-id-12\" type=\"checkbox\" ><label for=\"sk-estimator-id-12\" class=\"sk-toggleable__label sk-toggleable__label-arrow\">PolarsColumnTransformer</label><div class=\"sk-toggleable__content\"><pre>PolarsColumnTransformer(steps=[&lt;functions.transformers.PolarsColumnTransformer.Step object at 0x7f9c559aafd0&gt;,\n",
       "                               &lt;functions.transformers.PolarsColumnTransformer.Step object at 0x7f9cc8176a30&gt;,\n",
       "                               &lt;functions.transformers.PolarsColumnTransformer.Step object at 0x7f9cc8176af0&gt;,\n",
       "                               &lt;functions.transformers.PolarsColumnTransformer.Step object at 0x7f9cc8176d60&gt;])</pre></div></div></div><div class=\"sk-item\"><div class=\"sk-estimator sk-toggleable\"><input class=\"sk-toggleable__control sk-hidden--visually\" id=\"sk-estimator-id-13\" type=\"checkbox\" ><label for=\"sk-estimator-id-13\" class=\"sk-toggleable__label sk-toggleable__label-arrow\">PolarsColumnTransformer</label><div class=\"sk-toggleable__content\"><pre>PolarsColumnTransformer(steps=[&lt;functions.transformers.PolarsColumnTransformer.Step object at 0x7f9c54b2f0a0&gt;,\n",
       "                               &lt;functions.transformers.PolarsColumnTransformer.Step object at 0x7f9c54b2f160&gt;,\n",
       "                               &lt;functions.transformers.PolarsColumnTransformer.Step object at 0x7f9c54b2f280&gt;,\n",
       "                               &lt;functions.transformers.PolarsColumnTransformer.Step object at 0x7f9c54b2f8e0&gt;])</pre></div></div></div><div class=\"sk-item\"><div class=\"sk-estimator sk-toggleable\"><input class=\"sk-toggleable__control sk-hidden--visually\" id=\"sk-estimator-id-14\" type=\"checkbox\" ><label for=\"sk-estimator-id-14\" class=\"sk-toggleable__label sk-toggleable__label-arrow\">PolarsNullImputer</label><div class=\"sk-toggleable__content\"><pre>PolarsNullImputer(fill_value=-9)</pre></div></div></div><div class=\"sk-item sk-dashed-wrapped\"><div class=\"sk-label-container\"><div class=\"sk-label sk-toggleable\"><input class=\"sk-toggleable__control sk-hidden--visually\" id=\"sk-estimator-id-15\" type=\"checkbox\" ><label for=\"sk-estimator-id-15\" class=\"sk-toggleable__label sk-toggleable__label-arrow\">boruta: BorutaFeatureSelectorPolars</label><div class=\"sk-toggleable__content\"><pre>BorutaFeatureSelectorPolars(estimator=LGBMClassifier(boosting_type=&#x27;rf&#x27;,\n",
       "                                                     class_weight=&#x27;balanced&#x27;,\n",
       "                                                     colsample_bytree=0.5762020704530788,\n",
       "                                                     force_col_wise=True,\n",
       "                                                     learning_rate=0.00743321016462957,\n",
       "                                                     n_estimators=117,\n",
       "                                                     num_leaves=119,\n",
       "                                                     num_threads=1,\n",
       "                                                     random_state=RandomState(MT19937) at 0x7F9C51AD9940,\n",
       "                                                     reg_alpha=0.02181494481585082,\n",
       "                                                     reg_lambda=0.08531119879780251,\n",
       "                                                     subsample=0.6583984975633399,\n",
       "                                                     verbose=-1),\n",
       "                            perc=65, random_state=1)</pre></div></div></div><div class=\"sk-parallel\"><div class=\"sk-parallel-item\"><div class=\"sk-item\"><div class=\"sk-label-container\"><div class=\"sk-label sk-toggleable\"><input class=\"sk-toggleable__control sk-hidden--visually\" id=\"sk-estimator-id-16\" type=\"checkbox\" ><label for=\"sk-estimator-id-16\" class=\"sk-toggleable__label sk-toggleable__label-arrow\">estimator: LGBMClassifier</label><div class=\"sk-toggleable__content\"><pre>LGBMClassifier(boosting_type=&#x27;rf&#x27;, class_weight=&#x27;balanced&#x27;,\n",
       "               colsample_bytree=0.5762020704530788, force_col_wise=True,\n",
       "               learning_rate=0.00743321016462957, n_estimators=117,\n",
       "               num_leaves=119, num_threads=1,\n",
       "               random_state=RandomState(MT19937) at 0x7F9C51AD9940,\n",
       "               reg_alpha=0.02181494481585082, reg_lambda=0.08531119879780251,\n",
       "               subsample=0.6583984975633399, verbose=-1)</pre></div></div></div><div class=\"sk-serial\"><div class=\"sk-item\"><div class=\"sk-estimator sk-toggleable\"><input class=\"sk-toggleable__control sk-hidden--visually\" id=\"sk-estimator-id-17\" type=\"checkbox\" ><label for=\"sk-estimator-id-17\" class=\"sk-toggleable__label sk-toggleable__label-arrow\">LGBMClassifier</label><div class=\"sk-toggleable__content\"><pre>LGBMClassifier(boosting_type=&#x27;rf&#x27;, class_weight=&#x27;balanced&#x27;,\n",
       "               colsample_bytree=0.5762020704530788, force_col_wise=True,\n",
       "               learning_rate=0.00743321016462957, n_estimators=117,\n",
       "               num_leaves=119, num_threads=1,\n",
       "               random_state=RandomState(MT19937) at 0x7F9C51AD9940,\n",
       "               reg_alpha=0.02181494481585082, reg_lambda=0.08531119879780251,\n",
       "               subsample=0.6583984975633399, verbose=-1)</pre></div></div></div></div></div></div></div></div></div></div><div class=\"sk-item\"><div class=\"sk-estimator sk-toggleable\"><input class=\"sk-toggleable__control sk-hidden--visually\" id=\"sk-estimator-id-18\" type=\"checkbox\" ><label for=\"sk-estimator-id-18\" class=\"sk-toggleable__label sk-toggleable__label-arrow\">LGBMClassifier</label><div class=\"sk-toggleable__content\"><pre>LGBMClassifier(boosting_type=&#x27;rf&#x27;, class_weight=&#x27;balanced&#x27;,\n",
       "               colsample_bytree=0.5762020704530788, force_col_wise=True,\n",
       "               learning_rate=0.00743321016462957, n_estimators=117,\n",
       "               num_leaves=119, num_threads=1,\n",
       "               random_state=RandomState(MT19937) at 0x7F9C51AD9940,\n",
       "               reg_alpha=0.02181494481585082, reg_lambda=0.08531119879780251,\n",
       "               subsample=0.6583984975633399, verbose=-1)</pre></div></div></div></div></div></div></div>"
      ],
      "text/plain": [
       "Pipeline(steps=[('preprocess',\n",
       "                 Pipeline(steps=[('imputer',\n",
       "                                  PolarsColumnTransformer(steps=[<functions.transformers.PolarsColumnTransformer.Step object at 0x7f9c559aafd0>,\n",
       "                                                                 <functions.transformers.PolarsColumnTransformer.Step object at 0x7f9cc8176a30>,\n",
       "                                                                 <functions.transformers.PolarsColumnTransformer.Step object at 0x7f9cc8176af0>,\n",
       "                                                                 <functions.transformers.PolarsColu...\n",
       "                ('model',\n",
       "                 LGBMClassifier(boosting_type='rf', class_weight='balanced',\n",
       "                                colsample_bytree=0.5762020704530788,\n",
       "                                force_col_wise=True,\n",
       "                                learning_rate=0.00743321016462957,\n",
       "                                n_estimators=117, num_leaves=119, num_threads=1,\n",
       "                                random_state=RandomState(MT19937) at 0x7F9C51AD9940,\n",
       "                                reg_alpha=0.02181494481585082,\n",
       "                                reg_lambda=0.08531119879780251,\n",
       "                                subsample=0.6583984975633399, verbose=-1))])"
      ]
     },
     "execution_count": 15,
     "metadata": {},
     "output_type": "execute_result"
    }
   ],
   "source": [
    "models.models['lgbm_yn'].pipeline"
   ]
  },
  {
   "cell_type": "code",
   "execution_count": null,
   "metadata": {},
   "outputs": [
    {
     "data": {
      "text/html": [
       "<style>#sk-container-id-1 {color: black;}#sk-container-id-1 pre{padding: 0;}#sk-container-id-1 div.sk-toggleable {background-color: white;}#sk-container-id-1 label.sk-toggleable__label {cursor: pointer;display: block;width: 100%;margin-bottom: 0;padding: 0.3em;box-sizing: border-box;text-align: center;}#sk-container-id-1 label.sk-toggleable__label-arrow:before {content: \"▸\";float: left;margin-right: 0.25em;color: #696969;}#sk-container-id-1 label.sk-toggleable__label-arrow:hover:before {color: black;}#sk-container-id-1 div.sk-estimator:hover label.sk-toggleable__label-arrow:before {color: black;}#sk-container-id-1 div.sk-toggleable__content {max-height: 0;max-width: 0;overflow: hidden;text-align: left;background-color: #f0f8ff;}#sk-container-id-1 div.sk-toggleable__content pre {margin: 0.2em;color: black;border-radius: 0.25em;background-color: #f0f8ff;}#sk-container-id-1 input.sk-toggleable__control:checked~div.sk-toggleable__content {max-height: 200px;max-width: 100%;overflow: auto;}#sk-container-id-1 input.sk-toggleable__control:checked~label.sk-toggleable__label-arrow:before {content: \"▾\";}#sk-container-id-1 div.sk-estimator input.sk-toggleable__control:checked~label.sk-toggleable__label {background-color: #d4ebff;}#sk-container-id-1 div.sk-label input.sk-toggleable__control:checked~label.sk-toggleable__label {background-color: #d4ebff;}#sk-container-id-1 input.sk-hidden--visually {border: 0;clip: rect(1px 1px 1px 1px);clip: rect(1px, 1px, 1px, 1px);height: 1px;margin: -1px;overflow: hidden;padding: 0;position: absolute;width: 1px;}#sk-container-id-1 div.sk-estimator {font-family: monospace;background-color: #f0f8ff;border: 1px dotted black;border-radius: 0.25em;box-sizing: border-box;margin-bottom: 0.5em;}#sk-container-id-1 div.sk-estimator:hover {background-color: #d4ebff;}#sk-container-id-1 div.sk-parallel-item::after {content: \"\";width: 100%;border-bottom: 1px solid gray;flex-grow: 1;}#sk-container-id-1 div.sk-label:hover label.sk-toggleable__label {background-color: #d4ebff;}#sk-container-id-1 div.sk-serial::before {content: \"\";position: absolute;border-left: 1px solid gray;box-sizing: border-box;top: 0;bottom: 0;left: 50%;z-index: 0;}#sk-container-id-1 div.sk-serial {display: flex;flex-direction: column;align-items: center;background-color: white;padding-right: 0.2em;padding-left: 0.2em;position: relative;}#sk-container-id-1 div.sk-item {position: relative;z-index: 1;}#sk-container-id-1 div.sk-parallel {display: flex;align-items: stretch;justify-content: center;background-color: white;position: relative;}#sk-container-id-1 div.sk-item::before, #sk-container-id-1 div.sk-parallel-item::before {content: \"\";position: absolute;border-left: 1px solid gray;box-sizing: border-box;top: 0;bottom: 0;left: 50%;z-index: -1;}#sk-container-id-1 div.sk-parallel-item {display: flex;flex-direction: column;z-index: 1;position: relative;background-color: white;}#sk-container-id-1 div.sk-parallel-item:first-child::after {align-self: flex-end;width: 50%;}#sk-container-id-1 div.sk-parallel-item:last-child::after {align-self: flex-start;width: 50%;}#sk-container-id-1 div.sk-parallel-item:only-child::after {width: 0;}#sk-container-id-1 div.sk-dashed-wrapped {border: 1px dashed gray;margin: 0 0.4em 0.5em 0.4em;box-sizing: border-box;padding-bottom: 0.4em;background-color: white;}#sk-container-id-1 div.sk-label label {font-family: monospace;font-weight: bold;display: inline-block;line-height: 1.2em;}#sk-container-id-1 div.sk-label-container {text-align: center;}#sk-container-id-1 div.sk-container {/* jupyter's `normalize.less` sets `[hidden] { display: none; }` but bootstrap.min.css set `[hidden] { display: none !important; }` so we also need the `!important` here to be able to override the default hidden behavior on the sphinx rendered scikit-learn.org. See: https://github.com/scikit-learn/scikit-learn/issues/21755 */display: inline-block !important;position: relative;}#sk-container-id-1 div.sk-text-repr-fallback {display: none;}</style><div id=\"sk-container-id-1\" class=\"sk-top-container\"><div class=\"sk-text-repr-fallback\"><pre>Pipeline(steps=[(&#x27;preprocess&#x27;,\n",
       "                 Pipeline(steps=[(&#x27;imputer&#x27;,\n",
       "                                  PolarsColumnTransformer(steps=[&lt;functions.transformers.PolarsColumnTransformer.Step object at 0x7f9c559aafd0&gt;,\n",
       "                                                                 &lt;functions.transformers.PolarsColumnTransformer.Step object at 0x7f9cc8176a30&gt;,\n",
       "                                                                 &lt;functions.transformers.PolarsColumnTransformer.Step object at 0x7f9cc8176af0&gt;,\n",
       "                                                                 &lt;functions.transformers.PolarsColu...\n",
       "                (&#x27;model&#x27;,\n",
       "                 LGBMClassifier(boosting_type=&#x27;rf&#x27;, class_weight=&#x27;balanced&#x27;,\n",
       "                                colsample_bytree=0.5762020704530788,\n",
       "                                force_col_wise=True,\n",
       "                                learning_rate=0.00743321016462957,\n",
       "                                n_estimators=117, num_leaves=119, num_threads=1,\n",
       "                                random_state=RandomState(MT19937) at 0x7F9C51AD9940,\n",
       "                                reg_alpha=0.02181494481585082,\n",
       "                                reg_lambda=0.08531119879780251,\n",
       "                                subsample=0.6583984975633399, verbose=-1))])</pre><b>In a Jupyter environment, please rerun this cell to show the HTML representation or trust the notebook. <br />On GitHub, the HTML representation is unable to render, please try loading this page with nbviewer.org.</b></div><div class=\"sk-container\" hidden><div class=\"sk-item sk-dashed-wrapped\"><div class=\"sk-label-container\"><div class=\"sk-label sk-toggleable\"><input class=\"sk-toggleable__control sk-hidden--visually\" id=\"sk-estimator-id-1\" type=\"checkbox\" ><label for=\"sk-estimator-id-1\" class=\"sk-toggleable__label sk-toggleable__label-arrow\">Pipeline</label><div class=\"sk-toggleable__content\"><pre>Pipeline(steps=[(&#x27;preprocess&#x27;,\n",
       "                 Pipeline(steps=[(&#x27;imputer&#x27;,\n",
       "                                  PolarsColumnTransformer(steps=[&lt;functions.transformers.PolarsColumnTransformer.Step object at 0x7f9c559aafd0&gt;,\n",
       "                                                                 &lt;functions.transformers.PolarsColumnTransformer.Step object at 0x7f9cc8176a30&gt;,\n",
       "                                                                 &lt;functions.transformers.PolarsColumnTransformer.Step object at 0x7f9cc8176af0&gt;,\n",
       "                                                                 &lt;functions.transformers.PolarsColu...\n",
       "                (&#x27;model&#x27;,\n",
       "                 LGBMClassifier(boosting_type=&#x27;rf&#x27;, class_weight=&#x27;balanced&#x27;,\n",
       "                                colsample_bytree=0.5762020704530788,\n",
       "                                force_col_wise=True,\n",
       "                                learning_rate=0.00743321016462957,\n",
       "                                n_estimators=117, num_leaves=119, num_threads=1,\n",
       "                                random_state=RandomState(MT19937) at 0x7F9C51AD9940,\n",
       "                                reg_alpha=0.02181494481585082,\n",
       "                                reg_lambda=0.08531119879780251,\n",
       "                                subsample=0.6583984975633399, verbose=-1))])</pre></div></div></div><div class=\"sk-serial\"><div class=\"sk-item\"><div class=\"sk-label-container\"><div class=\"sk-label sk-toggleable\"><input class=\"sk-toggleable__control sk-hidden--visually\" id=\"sk-estimator-id-2\" type=\"checkbox\" ><label for=\"sk-estimator-id-2\" class=\"sk-toggleable__label sk-toggleable__label-arrow\">preprocess: Pipeline</label><div class=\"sk-toggleable__content\"><pre>Pipeline(steps=[(&#x27;imputer&#x27;,\n",
       "                 PolarsColumnTransformer(steps=[&lt;functions.transformers.PolarsColumnTransformer.Step object at 0x7f9c559aafd0&gt;,\n",
       "                                                &lt;functions.transformers.PolarsColumnTransformer.Step object at 0x7f9cc8176a30&gt;,\n",
       "                                                &lt;functions.transformers.PolarsColumnTransformer.Step object at 0x7f9cc8176af0&gt;,\n",
       "                                                &lt;functions.transformers.PolarsColumnTransformer.Step object at 0x7f...\n",
       "                 BorutaFeatureSelectorPolars(estimator=LGBMClassifier(boosting_type=&#x27;rf&#x27;,\n",
       "                                                                      class_weight=&#x27;balanced&#x27;,\n",
       "                                                                      colsample_bytree=0.5762020704530788,\n",
       "                                                                      force_col_wise=True,\n",
       "                                                                      learning_rate=0.00743321016462957,\n",
       "                                                                      n_estimators=117,\n",
       "                                                                      num_leaves=119,\n",
       "                                                                      num_threads=1,\n",
       "                                                                      random_state=RandomState(MT19937) at 0x7F9C51AD9940,\n",
       "                                                                      reg_alpha=0.02181494481585082,\n",
       "                                                                      reg_lambda=0.08531119879780251,\n",
       "                                                                      subsample=0.6583984975633399,\n",
       "                                                                      verbose=-1),\n",
       "                                             perc=65, random_state=1))])</pre></div></div></div><div class=\"sk-serial\"><div class=\"sk-item\"><div class=\"sk-estimator sk-toggleable\"><input class=\"sk-toggleable__control sk-hidden--visually\" id=\"sk-estimator-id-3\" type=\"checkbox\" ><label for=\"sk-estimator-id-3\" class=\"sk-toggleable__label sk-toggleable__label-arrow\">PolarsColumnTransformer</label><div class=\"sk-toggleable__content\"><pre>PolarsColumnTransformer(steps=[&lt;functions.transformers.PolarsColumnTransformer.Step object at 0x7f9c559aafd0&gt;,\n",
       "                               &lt;functions.transformers.PolarsColumnTransformer.Step object at 0x7f9cc8176a30&gt;,\n",
       "                               &lt;functions.transformers.PolarsColumnTransformer.Step object at 0x7f9cc8176af0&gt;,\n",
       "                               &lt;functions.transformers.PolarsColumnTransformer.Step object at 0x7f9cc8176d60&gt;])</pre></div></div></div><div class=\"sk-item\"><div class=\"sk-estimator sk-toggleable\"><input class=\"sk-toggleable__control sk-hidden--visually\" id=\"sk-estimator-id-4\" type=\"checkbox\" ><label for=\"sk-estimator-id-4\" class=\"sk-toggleable__label sk-toggleable__label-arrow\">PolarsColumnTransformer</label><div class=\"sk-toggleable__content\"><pre>PolarsColumnTransformer(steps=[&lt;functions.transformers.PolarsColumnTransformer.Step object at 0x7f9c54b2f0a0&gt;,\n",
       "                               &lt;functions.transformers.PolarsColumnTransformer.Step object at 0x7f9c54b2f160&gt;,\n",
       "                               &lt;functions.transformers.PolarsColumnTransformer.Step object at 0x7f9c54b2f280&gt;,\n",
       "                               &lt;functions.transformers.PolarsColumnTransformer.Step object at 0x7f9c54b2f8e0&gt;])</pre></div></div></div><div class=\"sk-item\"><div class=\"sk-estimator sk-toggleable\"><input class=\"sk-toggleable__control sk-hidden--visually\" id=\"sk-estimator-id-5\" type=\"checkbox\" ><label for=\"sk-estimator-id-5\" class=\"sk-toggleable__label sk-toggleable__label-arrow\">PolarsNullImputer</label><div class=\"sk-toggleable__content\"><pre>PolarsNullImputer(fill_value=-9)</pre></div></div></div><div class=\"sk-item sk-dashed-wrapped\"><div class=\"sk-label-container\"><div class=\"sk-label sk-toggleable\"><input class=\"sk-toggleable__control sk-hidden--visually\" id=\"sk-estimator-id-6\" type=\"checkbox\" ><label for=\"sk-estimator-id-6\" class=\"sk-toggleable__label sk-toggleable__label-arrow\">boruta: BorutaFeatureSelectorPolars</label><div class=\"sk-toggleable__content\"><pre>BorutaFeatureSelectorPolars(estimator=LGBMClassifier(boosting_type=&#x27;rf&#x27;,\n",
       "                                                     class_weight=&#x27;balanced&#x27;,\n",
       "                                                     colsample_bytree=0.5762020704530788,\n",
       "                                                     force_col_wise=True,\n",
       "                                                     learning_rate=0.00743321016462957,\n",
       "                                                     n_estimators=117,\n",
       "                                                     num_leaves=119,\n",
       "                                                     num_threads=1,\n",
       "                                                     random_state=RandomState(MT19937) at 0x7F9C51AD9940,\n",
       "                                                     reg_alpha=0.02181494481585082,\n",
       "                                                     reg_lambda=0.08531119879780251,\n",
       "                                                     subsample=0.6583984975633399,\n",
       "                                                     verbose=-1),\n",
       "                            perc=65, random_state=1)</pre></div></div></div><div class=\"sk-parallel\"><div class=\"sk-parallel-item\"><div class=\"sk-item\"><div class=\"sk-label-container\"><div class=\"sk-label sk-toggleable\"><input class=\"sk-toggleable__control sk-hidden--visually\" id=\"sk-estimator-id-7\" type=\"checkbox\" ><label for=\"sk-estimator-id-7\" class=\"sk-toggleable__label sk-toggleable__label-arrow\">estimator: LGBMClassifier</label><div class=\"sk-toggleable__content\"><pre>LGBMClassifier(boosting_type=&#x27;rf&#x27;, class_weight=&#x27;balanced&#x27;,\n",
       "               colsample_bytree=0.5762020704530788, force_col_wise=True,\n",
       "               learning_rate=0.00743321016462957, n_estimators=117,\n",
       "               num_leaves=119, num_threads=1,\n",
       "               random_state=RandomState(MT19937) at 0x7F9C51AD9940,\n",
       "               reg_alpha=0.02181494481585082, reg_lambda=0.08531119879780251,\n",
       "               subsample=0.6583984975633399, verbose=-1)</pre></div></div></div><div class=\"sk-serial\"><div class=\"sk-item\"><div class=\"sk-estimator sk-toggleable\"><input class=\"sk-toggleable__control sk-hidden--visually\" id=\"sk-estimator-id-8\" type=\"checkbox\" ><label for=\"sk-estimator-id-8\" class=\"sk-toggleable__label sk-toggleable__label-arrow\">LGBMClassifier</label><div class=\"sk-toggleable__content\"><pre>LGBMClassifier(boosting_type=&#x27;rf&#x27;, class_weight=&#x27;balanced&#x27;,\n",
       "               colsample_bytree=0.5762020704530788, force_col_wise=True,\n",
       "               learning_rate=0.00743321016462957, n_estimators=117,\n",
       "               num_leaves=119, num_threads=1,\n",
       "               random_state=RandomState(MT19937) at 0x7F9C51AD9940,\n",
       "               reg_alpha=0.02181494481585082, reg_lambda=0.08531119879780251,\n",
       "               subsample=0.6583984975633399, verbose=-1)</pre></div></div></div></div></div></div></div></div></div></div><div class=\"sk-item\"><div class=\"sk-estimator sk-toggleable\"><input class=\"sk-toggleable__control sk-hidden--visually\" id=\"sk-estimator-id-9\" type=\"checkbox\" ><label for=\"sk-estimator-id-9\" class=\"sk-toggleable__label sk-toggleable__label-arrow\">LGBMClassifier</label><div class=\"sk-toggleable__content\"><pre>LGBMClassifier(boosting_type=&#x27;rf&#x27;, class_weight=&#x27;balanced&#x27;,\n",
       "               colsample_bytree=0.5762020704530788, force_col_wise=True,\n",
       "               learning_rate=0.00743321016462957, n_estimators=117,\n",
       "               num_leaves=119, num_threads=1,\n",
       "               random_state=RandomState(MT19937) at 0x7F9C51AD9940,\n",
       "               reg_alpha=0.02181494481585082, reg_lambda=0.08531119879780251,\n",
       "               subsample=0.6583984975633399, verbose=-1)</pre></div></div></div></div></div></div></div>"
      ],
      "text/plain": [
       "Pipeline(steps=[('preprocess',\n",
       "                 Pipeline(steps=[('imputer',\n",
       "                                  PolarsColumnTransformer(steps=[<functions.transformers.PolarsColumnTransformer.Step object at 0x7f9c559aafd0>,\n",
       "                                                                 <functions.transformers.PolarsColumnTransformer.Step object at 0x7f9cc8176a30>,\n",
       "                                                                 <functions.transformers.PolarsColumnTransformer.Step object at 0x7f9cc8176af0>,\n",
       "                                                                 <functions.transformers.PolarsColu...\n",
       "                ('model',\n",
       "                 LGBMClassifier(boosting_type='rf', class_weight='balanced',\n",
       "                                colsample_bytree=0.5762020704530788,\n",
       "                                force_col_wise=True,\n",
       "                                learning_rate=0.00743321016462957,\n",
       "                                n_estimators=117, num_leaves=119, num_threads=1,\n",
       "                                random_state=RandomState(MT19937) at 0x7F9C51AD9940,\n",
       "                                reg_alpha=0.02181494481585082,\n",
       "                                reg_lambda=0.08531119879780251,\n",
       "                                subsample=0.6583984975633399, verbose=-1))])"
      ]
     },
     "execution_count": 11,
     "metadata": {},
     "output_type": "execute_result"
    }
   ],
   "source": [
    "models.models['lgbm_yn'].pipeline.fit(X_mini_train.sample(100000,seed=1),y_mini_train.sample(100000,seed=1))\n"
   ]
  },
  {
   "cell_type": "code",
   "execution_count": null,
   "metadata": {},
   "outputs": [],
   "source": [
    "preds=full_pipeline.predict(X_mini_val)\n",
    "# models.models['lgbm_yn'].pipeline.predict(X_mini_val)"
   ]
  },
  {
   "cell_type": "code",
   "execution_count": null,
   "metadata": {},
   "outputs": [
    {
     "name": "stdout",
     "output_type": "stream",
     "text": [
      "              precision    recall  f1-score   support\n",
      "\n",
      "           0       0.99      0.95      0.97   2849034\n",
      "           1       0.47      0.84      0.61    148573\n",
      "\n",
      "    accuracy                           0.95   2997607\n",
      "   macro avg       0.73      0.90      0.79   2997607\n",
      "weighted avg       0.97      0.95      0.95   2997607\n",
      "\n"
     ]
    }
   ],
   "source": [
    "print(classification_report(y_mini_val,preds))"
   ]
  },
  {
   "cell_type": "code",
   "execution_count": null,
   "metadata": {},
   "outputs": [],
   "source": []
  },
  {
   "cell_type": "code",
   "execution_count": null,
   "metadata": {},
   "outputs": [
    {
     "name": "stderr",
     "output_type": "stream",
     "text": [
      " 94%|=================== | 4718/5000 [00:14<00:00]       No data for colormapping provided via 'c'. Parameters 'vmin', 'vmax' will be ignored\n"
     ]
    },
    {
     "data": {
      "image/png": "[encoded data removed]",
      "text/plain": [
       "<Figure size 800x470 with 2 Axes>"
      ]
     },
     "metadata": {},
     "output_type": "display_data"
    }
   ],
   "source": [
    "names = full_pipeline[\"preprocess\"].transform(X_mini_val.sample(5000, seed=1)).columns\n",
    "explainer_tree = shap.TreeExplainer(\n",
    "    full_pipeline[\"model\"],\n",
    "    data=full_pipeline[\"preprocess\"]\n",
    "    .transform((X_mini_val.sample(100, seed=1)))\n",
    "    .to_numpy(),\n",
    "    model_output=\"probability\",\n",
    ")\n",
    "\n",
    "shap_values = explainer_tree.shap_values(\n",
    "    full_pipeline[\"preprocess\"].transform(X_mini_val.sample(5000, seed=1)).to_numpy()\n",
    ")\n",
    "\n",
    "shap.summary_plot(\n",
    "    shap_values,\n",
    "    full_pipeline[\"preprocess\"].transform(X_mini_val.sample(5000, seed=1)).to_numpy(),\n",
    "    feature_names=names,\n",
    "    max_display=20,\n",
    ")"
   ]
  },
  {
   "cell_type": "code",
   "execution_count": null,
   "metadata": {},
   "outputs": [],
   "source": [
    "# from sklearn.tree import DecisionTreeClassifier\n",
    "\n",
    "# dtree=DecisionTreeClassifier()\n",
    "# full_pipeline_dtree= Pipeline(\n",
    "#     [\n",
    "#         (\"preprocess\", Pipeline([(\"imputer\", imputer), (\"encoder\", encoder), (\"null_imputer\", imp)])),\n",
    "#         (\"model\", dtree),\n",
    "#     ]\n",
    "# )"
   ]
  },
  {
   "cell_type": "code",
   "execution_count": null,
   "metadata": {},
   "outputs": [],
   "source": [
    "# full_pipeline_dtree.fit(X_mini_train, y_mini_train)\n",
    "# preds_dtree = full_pipeline_dtree.predict(X_mini_val)\n",
    "# print(classification_report(y_mini_val, preds_dtree))"
   ]
  },
  {
   "cell_type": "code",
   "execution_count": null,
   "metadata": {},
   "outputs": [],
   "source": []
  }
 ],
 "metadata": {
  "kernelspec": {
   "display_name": "base",
   "language": "python",
   "name": "python3"
  },
  "language_info": {
   "codemirror_mode": {
    "name": "ipython",
    "version": 3
   },
   "file_extension": ".py",
   "mimetype": "text/x-python",
   "name": "python",
   "nbconvert_exporter": "python",
   "pygments_lexer": "ipython3",
   "version": "3.9.13"
  },
  "orig_nbformat": 4
 },
 "nbformat": 4,
 "nbformat_minor": 2
}
