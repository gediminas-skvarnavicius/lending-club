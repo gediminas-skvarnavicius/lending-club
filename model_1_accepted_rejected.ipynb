{
 "cells": [
  {
   "cell_type": "markdown",
   "metadata": {},
   "source": [
    "# Loan Acceptance Classifier"
   ]
  },
  {
   "cell_type": "markdown",
   "metadata": {},
   "source": [
    "**Table of contents**<a id='toc0_'></a>    \n",
    "- [Imports and Settings](#toc1_1_)    \n",
    "- [Pipelines](#toc2_)    \n",
    "  - [LightGBM](#toc2_1_)    \n",
    "    - [Imputers](#toc2_1_1_)    \n",
    "    - [Encoders and selection](#toc2_1_2_)    \n",
    "    - [Baseline for tunning](#toc2_1_3_)    \n",
    "  - [Decision Tree](#toc2_2_)    \n",
    "  - [Logistic regression](#toc2_3_)    \n",
    "- [Hyperparameter Tuning](#toc3_)    \n",
    "    - [Replacing Boruta with a Manual Feature Remover](#toc3_1_1_)    \n",
    "- [Model Selection And Testing](#toc4_)    \n",
    "  - [Model Selection](#toc4_1_)    \n",
    "  - [Feature importance](#toc4_2_)    \n",
    "  - [Final Testing](#toc4_3_)    \n",
    "\n",
    "<!-- vscode-jupyter-toc-config\n",
    "\tnumbering=false\n",
    "\tanchor=true\n",
    "\tflat=false\n",
    "\tminLevel=2\n",
    "\tmaxLevel=4\n",
    "\t/vscode-jupyter-toc-config -->\n",
    "<!-- THIS CELL WILL BE REPLACED ON TOC UPDATE. DO NOT WRITE YOUR TEXT IN THIS CELL -->"
   ]
  },
  {
   "cell_type": "markdown",
   "metadata": {},
   "source": [
    "### <a id='toc1_1_'></a>[Imports and Settings](#toc0_)"
   ]
  },
  {
   "cell_type": "markdown",
   "metadata": {},
   "source": [
    "##### Imports"
   ]
  },
  {
   "cell_type": "code",
   "execution_count": 1,
   "metadata": {},
   "outputs": [],
   "source": [
    "%reload_ext autoreload\n",
    "%autoreload 1\n",
    "import joblib\n",
    "from ray import tune, train\n",
    "import copy\n",
    "import shap\n",
    "import matplotlib.pyplot as plt\n",
    "import polars as pl\n",
    "import sys\n",
    "import numpy as np\n",
    "from sklearn.model_selection import train_test_split\n",
    "import functions.transformers as tr\n",
    "import functions.data_cleaning as dmf\n",
    "import functions.plot_functions as pf\n",
    "import functions.tuning as tunes\n",
    "import functions.feature_engineering as feats\n",
    "import seaborn as sns\n",
    "from sklearn.pipeline import Pipeline\n",
    "from sklearn.metrics import classification_report, f1_score\n",
    "from sklearn.tree import DecisionTreeClassifier\n",
    "from sklearn.linear_model import LogisticRegression\n",
    "from sklearn.preprocessing import StandardScaler\n",
    "from IPython.display import display,Markdown\n",
    "import lightgbm as lgb\n",
    "%aimport functions.tuning\n",
    "%aimport functions.transformers\n",
    "%aimport functions.data_cleaning\n",
    "%aimport functions.plot_functions\n",
    "%aimport functions.feature_engineering"
   ]
  },
  {
   "cell_type": "markdown",
   "metadata": {},
   "source": [
    "##### Settings"
   ]
  },
  {
   "cell_type": "code",
   "execution_count": 2,
   "metadata": {},
   "outputs": [],
   "source": [
    "BASE_FIG_SIZE=(8.5,4.5)\n",
    "sns.set()"
   ]
  },
  {
   "cell_type": "markdown",
   "metadata": {},
   "source": [
    "##### Loading the training and validation data:"
   ]
  },
  {
   "cell_type": "code",
   "execution_count": 3,
   "metadata": {},
   "outputs": [],
   "source": [
    "data_train=pl.read_parquet('data/data_full_train.parquet')\n",
    "data_val=pl.read_parquet('data/data_full_val.parquet')"
   ]
  },
  {
   "cell_type": "markdown",
   "metadata": {},
   "source": [
    "##### Running cleaning and feature engineering functions:"
   ]
  },
  {
   "cell_type": "code",
   "execution_count": 4,
   "metadata": {},
   "outputs": [],
   "source": [
    "data_train=dmf.clean_accepted_rejected(data_train)\n",
    "data_val=dmf.clean_accepted_rejected(data_val)\n",
    "\n",
    "data_train=feats.date_features_accepted_rejected(data_train,\"Application Date\")\n",
    "data_val=feats.date_features_accepted_rejected(data_val,\"Application Date\")\n",
    "\n",
    "data_train=feats.title_text_features(data_train)\n",
    "data_val=feats.title_text_features(data_val)"
   ]
  },
  {
   "cell_type": "markdown",
   "metadata": {},
   "source": [
    "The data was processed into a uniform format, the title was categorized by purpose. Several features were added:\n",
    "1. The length of the original title\n",
    "2. Wether the title started with a lowercase\n",
    "3. Wether the title had any numbers\n",
    "4. Sine and cosine transformations of the month of the year"
   ]
  },
  {
   "cell_type": "markdown",
   "metadata": {},
   "source": [
    "##### Setting up X and y data:"
   ]
  },
  {
   "cell_type": "code",
   "execution_count": 5,
   "metadata": {},
   "outputs": [],
   "source": [
    "X_train = data_train.drop(columns=['Policy Code'])\n",
    "X_val= data_val.drop(columns=['Policy Code'])\n",
    "y_train = data_train['Policy Code']\n",
    "y_val= data_val['Policy Code']"
   ]
  },
  {
   "cell_type": "markdown",
   "metadata": {},
   "source": [
    "##### Allocating 3M rows of the training set and 900k rows of the validation set for hyperparameter tuning:"
   ]
  },
  {
   "cell_type": "code",
   "execution_count": 6,
   "metadata": {},
   "outputs": [],
   "source": [
    "X_mini_train, discard1, y_mini_train, discard2 = train_test_split(\n",
    "    X_train, y_train, stratify=y_train,train_size=3000000\n",
    ")\n",
    "\n",
    "X_mini_val, X_val, y_mini_val, y_val = train_test_split(\n",
    "    X_val, y_val, stratify=y_val,train_size=900000\n",
    ")"
   ]
  },
  {
   "cell_type": "markdown",
   "metadata": {},
   "source": [
    "## <a id='toc2_'></a>[Pipelines](#toc0_)"
   ]
  },
  {
   "cell_type": "markdown",
   "metadata": {},
   "source": [
    "### <a id='toc2_1_'></a>[LightGBM](#toc0_)"
   ]
  },
  {
   "cell_type": "markdown",
   "metadata": {},
   "source": [
    "#### <a id='toc2_1_1_'></a>[Imputers](#toc0_)"
   ]
  },
  {
   "cell_type": "code",
   "execution_count": 7,
   "metadata": {},
   "outputs": [],
   "source": [
    "title_cat_imputer=tr.NotInImputerPolars(cat_no=12,fill_value=\"other\")\n",
    "zip_imputer=tr.NotInImputerPolars(cat_no=50,fill_value=\"other\")\n",
    "state_imputer=tr.NotInImputerPolars(cat_no=51,fill_value=None)\n",
    "emp_length_imputer=tr.NotInImputerPolars(cat_no=12,fill_value=None)\n",
    "\n",
    "\n",
    "imputer = tr.PolarsColumnTransformer(\n",
    "    [\n",
    "        tr.PolarsColumnTransformer.Step(\"title_imp\",title_cat_imputer, \"title\"),\n",
    "        tr.PolarsColumnTransformer.Step(\"zip_code_imp\", zip_imputer, \"Zip Code\"),\n",
    "        tr.PolarsColumnTransformer.Step(\"state_imp\",state_imputer, \"State\"),\n",
    "        tr.PolarsColumnTransformer.Step(\"len_imp\",emp_length_imputer, \"Employment Length\"),\n",
    "    ]\n",
    ")"
   ]
  },
  {
   "cell_type": "markdown",
   "metadata": {},
   "source": [
    "A custom \"NotInImputer\" is used for categorical data that filters out all the values that are not in the n number of most popular categories for that column and changes those values to a specified value like \"other\""
   ]
  },
  {
   "cell_type": "markdown",
   "metadata": {},
   "source": [
    "#### <a id='toc2_1_2_'></a>[Encoders and selection](#toc0_)"
   ]
  },
  {
   "cell_type": "code",
   "execution_count": 8,
   "metadata": {},
   "outputs": [],
   "source": [
    "state_encoder = tr.TargetMeanOrderedLabeler()\n",
    "zip_encoder = tr.TargetMeanOrderedLabeler()\n",
    "title_encoder = tr.TargetMeanOrderedLabeler()\n",
    "length_order = [\n",
    "    None,\n",
    "    \"< 1 year\",\n",
    "    \"1 year\",\n",
    "    \"2 years\",\n",
    "    \"3 years\",\n",
    "    \"4 years\",\n",
    "    \"5 years\",\n",
    "    \"6 years\",\n",
    "    \"7 years\",\n",
    "    \"8 years\",\n",
    "    \"9 years\",\n",
    "    \"10+ years\",\n",
    "]\n",
    "\n",
    "employment_encoder = tr.PolarsOrdinalEncoder(order=length_order)\n",
    "encoder = tr.PolarsColumnTransformer(\n",
    "    [\n",
    "        tr.PolarsColumnTransformer.Step(\"state\", state_encoder, \"State\"),\n",
    "        tr.PolarsColumnTransformer.Step(\"zip_code\",zip_encoder, \"Zip Code\"),\n",
    "        tr.PolarsColumnTransformer.Step(\"title\", title_encoder, \"title\"),\n",
    "        tr.PolarsColumnTransformer.Step(\"emp_length\", employment_encoder, \"Employment Length\"),\n",
    "    ]\n",
    ")\n",
    "null_imp = tr.PolarsNullImputer(fill_value=-9)\n",
    "\n",
    "model_lgbm = lgb.LGBMClassifier(\n",
    "    class_weight=\"balanced\",\n",
    "    force_col_wise=True,\n",
    "    verbose=-1,\n",
    "    num_threads=1,\n",
    "    random_state=1,\n",
    ")\n",
    "\n",
    "boruta = tr.BorutaFeatureSelectorPolars(model_lgbm, random_state=1, perc=100)\n",
    "\n",
    "preprocess_lgbm = Pipeline(\n",
    "    [\n",
    "        (\"imputer\", imputer),\n",
    "        (\"encoder\", encoder),\n",
    "        (\"null_imputer\", null_imp),\n",
    "        (\"boruta\", boruta),\n",
    "    ]\n",
    ")"
   ]
  },
  {
   "cell_type": "markdown",
   "metadata": {},
   "source": [
    "An ordinal encoder is used for employment length with a manually set order by years.\n",
    "For other categorical features a target mean encoder is used. This encoder has two options:\n",
    "1. Changes the values to a mean of the target column for that category in the training set.\n",
    "2. Orders the categories by that mean, but changes the value to uniform integer labels.\n",
    "\n",
    "This option is tuned alongside hyperparameters.\n",
    "A feature selection based on the boruta algorithm was also incorporated into the pipeline, using a reference of the final model in the pipeline. This transformer has two parameters that are tuned: Boruta percentage, which roughly means feature selection strictness and a option to not apply the feature selection at all."
   ]
  },
  {
   "cell_type": "markdown",
   "metadata": {},
   "source": [
    "#### <a id='toc2_1_3_'></a>[Baseline for tunning](#toc0_)"
   ]
  },
  {
   "cell_type": "code",
   "execution_count": 9,
   "metadata": {},
   "outputs": [
    {
     "name": "stdout",
     "output_type": "stream",
     "text": [
      "0.59\n"
     ]
    }
   ],
   "source": [
    "model_lgbm.fit(\n",
    "    preprocess_lgbm.fit_transform(\n",
    "        X_mini_train.sample(100000, seed=1), y_mini_train.sample(100000, seed=1)\n",
    "    ),\n",
    "    y_mini_train.sample(100000, seed=1),\n",
    ")\n",
    "baseline_preds=model_lgbm.predict(preprocess_lgbm.transform(X_mini_val.sample(30000,seed=1)))\n",
    "print(round(f1_score(y_mini_val.sample(30000,seed=1),baseline_preds),2))"
   ]
  },
  {
   "cell_type": "markdown",
   "metadata": {},
   "source": [
    "A sample of the data was fitted with the untuned LightGBM model to get a sense of what f1 scores we can expect. This was done to help set a threshold for early stopping in hyperparameter tuning."
   ]
  },
  {
   "cell_type": "markdown",
   "metadata": {},
   "source": [
    "##### LightGBM full pipeline and parameter space:"
   ]
  },
  {
   "cell_type": "code",
   "execution_count": 10,
   "metadata": {},
   "outputs": [],
   "source": [
    "full_pipeline = Pipeline(\n",
    "    [\n",
    "        (\"preprocess\", preprocess_lgbm),\n",
    "        (\"model\", model_lgbm),\n",
    "    ]\n",
    ")\n",
    "\n",
    "search_space_lgbm = {\n",
    "    \"preprocess__boruta__perc\": tune.randint(1, 100),\n",
    "    \"preprocess__boruta__apply\": tune.choice([True, False]),\n",
    "    \"model__num_leaves\": tune.randint(10, 150),\n",
    "    \"model__n_estimators\": tune.randint(5, 200),\n",
    "    \"model__learning_rate\": tune.loguniform(0.001, 0.1),\n",
    "    \"model__bagging_freq\": tune.randint(0, 10),\n",
    "    \"model__colsample_bytree\": tune.uniform(0.2, 1.0),\n",
    "    \"model__subsample\": tune.uniform(0.2, 1.0),\n",
    "    \"model__reg_alpha\": tune.loguniform(0.001, 100),\n",
    "    \"model__reg_lambda\": tune.loguniform(0.001, 100),\n",
    "    \"model__boosting_type\": tune.choice([\"gbdt\", \"dart\", \"rf\"]),\n",
    "    \"model__class_weight\": tune.choice([\"balanced\", None]),\n",
    "    \"model__max_bin\": tune.randint(5, 200),\n",
    "    \"preprocess__encoder__step_params\": {\n",
    "        \"state\": {\"how\": tune.choice([\"label\", \"mean\"])},\n",
    "        \"zip_code\": {\"how\": tune.choice([\"label\", \"mean\"])},\n",
    "        \"title\": {\"how\": tune.choice([\"label\", \"mean\"])},\n",
    "    },\n",
    "}\n",
    "\n",
    "models = tunes.Models()\n",
    "models.add_model(\"lgbm_yn\", full_pipeline, search_space_lgbm, metric_threshold=0.65)"
   ]
  },
  {
   "cell_type": "markdown",
   "metadata": {},
   "source": [
    "### <a id='toc2_2_'></a>[Decision Tree](#toc0_)"
   ]
  },
  {
   "cell_type": "code",
   "execution_count": 11,
   "metadata": {},
   "outputs": [],
   "source": [
    "imputer_tree = copy.deepcopy(imputer)\n",
    "encoder_tree = copy.deepcopy(encoder)\n",
    "null_imp_tree = copy.deepcopy(null_imp)\n",
    "preprocess_tree = Pipeline(\n",
    "    [\n",
    "        (\"imputer\", imputer_tree),\n",
    "        (\"encoder\", encoder_tree),\n",
    "        (\"null_imputer\", null_imp_tree),\n",
    "    ]\n",
    ")\n",
    "\n",
    "model_tree = DecisionTreeClassifier(random_state=1)\n",
    "\n",
    "full_pipeline_tree = Pipeline(\n",
    "    [\n",
    "        (\"preprocess\", preprocess_tree),\n",
    "        (\"model\", model_tree),\n",
    "    ]\n",
    ")\n",
    "\n",
    "search_space_tree = {\n",
    "    \"model__criterion\": tune.choice([\"gini\", \"entropy\"]),\n",
    "    \"model__splitter\": tune.choice([\"best\", \"random\"]),\n",
    "    \"model__max_depth\": tune.randint(3, 50),\n",
    "    \"model__max_features\": tune.choice([\"sqrt\", \"log2\", None]),\n",
    "    \"model__class_weight\": tune.choice([\"balanced\", None]),\n",
    "    \"preprocess__encoder__step_params\": {\n",
    "        \"state\": {\"how\": tune.choice([\"label\", \"mean\"])},\n",
    "        \"zip_code\": {\"how\": tune.choice([\"label\", \"mean\"])},\n",
    "        \"title\": {\"how\": tune.choice([\"label\", \"mean\"])},\n",
    "    },\n",
    "}\n",
    "\n",
    "models.add_model(\n",
    "    \"tree_yn\", full_pipeline_tree, search_space_tree, metric_threshold=0.6\n",
    ")"
   ]
  },
  {
   "cell_type": "markdown",
   "metadata": {},
   "source": [
    "### <a id='toc2_3_'></a>[Logistic regression](#toc0_)"
   ]
  },
  {
   "cell_type": "code",
   "execution_count": 12,
   "metadata": {},
   "outputs": [],
   "source": [
    "imputer_logreg = copy.deepcopy(imputer)\n",
    "encoder_logreg = copy.deepcopy(encoder)\n",
    "null_imp_logreg = tr.PolarsColumnTransformer(\n",
    "    [\n",
    "        tr.PolarsColumnTransformer.Step(\n",
    "            \"dti_imp\", tr.PolarsNullImputer(10000), \"Debt-To-Income Ratio\"\n",
    "        ),\n",
    "        tr.PolarsColumnTransformer.Step(\n",
    "            \"requested_imp\", tr.PolarsNullImputer(0), \"Amount Requested\"\n",
    "        ),\n",
    "        tr.PolarsColumnTransformer.Step(\n",
    "            \"contains_num_imp\", tr.PolarsNullImputer(0), \"title_contains_numbers\"\n",
    "        ),\n",
    "        tr.PolarsColumnTransformer.Step(\n",
    "            \"lowercase_imp\", tr.PolarsNullImputer(0), \"title_starts_with_lowercase\"\n",
    "        ),\n",
    "        tr.PolarsColumnTransformer.Step(\n",
    "            \"title_len_imp\", tr.PolarsNullImputer(0), \"title_length\"\n",
    "        ),\n",
    "    ]\n",
    ")\n",
    "\n",
    "scaler=StandardScaler()\n",
    "\n",
    "preprocess_logreg = Pipeline(\n",
    "    [\n",
    "        (\"imputer\", imputer_logreg),\n",
    "        (\"encoder\", encoder_logreg),\n",
    "        (\"null_imputer\", null_imp_logreg),\n",
    "        (\"scaler\", scaler)\n",
    "    ]\n",
    ")\n",
    "\n",
    "model_logreg = LogisticRegression(class_weight=\"balanced\", max_iter=1000, tol=0.01, random_state=1)\n",
    "\n",
    "full_pipeline_logreg = Pipeline(\n",
    "    [\n",
    "        (\"preprocess\", preprocess_logreg),\n",
    "        (\"model\", model_logreg),\n",
    "    ]\n",
    ")\n",
    "\n",
    "search_space_logreg = {\n",
    "    \"model__class_weight\":tune.choice(['balanced',None]),\n",
    "    \"model__penalty\": tune.choice(\n",
    "        [\n",
    "            \"l1\",\n",
    "            \"l2\",\n",
    "            None\n",
    "        ]\n",
    "    ),\n",
    "    \"model__C\": tune.loguniform(0.001, 10.0),\n",
    "    \"model__solver\": tune.choice([\"saga\"]),\n",
    "    \"preprocess__encoder__step_params\": {\n",
    "        \"state\": {\"how\": tune.choice([\"label\", \"mean\"])},\n",
    "        \"zip_code\": {\"how\": tune.choice([\"label\", \"mean\"])},\n",
    "        \"title\": {\"how\": tune.choice([\"label\", \"mean\"])},\n",
    "    },\n",
    "}\n",
    "\n",
    "models.add_model(\n",
    "    \"logreg_yn\",\n",
    "    full_pipeline_logreg,\n",
    "    search_space_logreg,\n",
    "    metric_threshold=0.47,\n",
    "    override_n=52,\n",
    ")"
   ]
  },
  {
   "cell_type": "markdown",
   "metadata": {},
   "source": [
    "## <a id='toc3_'></a>[Hyperparameter Tuning](#toc0_)"
   ]
  },
  {
   "cell_type": "markdown",
   "metadata": {},
   "source": [
    "##### Tuning the hyperparameters of all models:"
   ]
  },
  {
   "cell_type": "markdown",
   "metadata": {},
   "source": [
    "```python\n",
    "models.tune_all(X_mini_train,y_mini_train,X_mini_val,y_mini_val,n=120,sample_size=300000)\n",
    "joblib.dump(models, 'temp/tuned_models_yn2.joblib')\n",
    "```"
   ]
  },
  {
   "cell_type": "markdown",
   "metadata": {},
   "source": [
    "##### Loading the tuned models from a file:"
   ]
  },
  {
   "cell_type": "code",
   "execution_count": 13,
   "metadata": {},
   "outputs": [],
   "source": [
    "models=joblib.load('temp/tuned_models_yn2.joblib')"
   ]
  },
  {
   "cell_type": "markdown",
   "metadata": {},
   "source": [
    "The models are organized within a dedicated \"model holder\" class, which streamlines the setup of essential tools for hyperparameter tuning for each model. The tuning process is facilitated using Ray-Tune with the Optuna algorithm. \n",
    "\n",
    "At the outset of each experiment, indexes for ten distinct, stratified samples are derived from the training set, comprising 300,000 instances, and the validation set, containing 100,000 instances. Throughout the experiment, the data is trained on these sample sets, and the F1-score of the positive class is computed for predictions made on the validation set sample using a predefined set of hyperparameters. This process is repeated up to ten times, each with different sample data. \n",
    "\n",
    "Notably, after three iterations, experiments that fail to meet a pre-established F1 score threshold are terminated. Employing this methodology, the best trials are assessed on a cumulative dataset consisting of 3 million training data rows and 1 million validation data rows. This approach effectively enables hyperparameter tuning on a substantial dataset while also optimizing RAM usage and saving time by preemptively discontinuing underperforming experiments."
   ]
  },
  {
   "cell_type": "markdown",
   "metadata": {},
   "source": [
    "##### The best parameters of the LightGBM model:"
   ]
  },
  {
   "cell_type": "code",
   "execution_count": 14,
   "metadata": {},
   "outputs": [
    {
     "data": {
      "text/plain": [
       "{'preprocess__boruta__perc': 96,\n",
       " 'preprocess__boruta__apply': False,\n",
       " 'model__num_leaves': 102,\n",
       " 'model__n_estimators': 81,\n",
       " 'model__learning_rate': 0.0035177130677962617,\n",
       " 'model__bagging_freq': 0,\n",
       " 'model__colsample_bytree': 0.5271056292188826,\n",
       " 'model__subsample': 0.45336580978495056,\n",
       " 'model__reg_alpha': 2.8552865967655805,\n",
       " 'model__reg_lambda': 0.00325459871999461,\n",
       " 'model__boosting_type': 'rf',\n",
       " 'model__class_weight': None,\n",
       " 'model__max_bin': 184,\n",
       " 'preprocess__encoder__step_params': {'state': {'how': 'label'},\n",
       "  'zip_code': {'how': 'label'},\n",
       "  'title': {'how': 'label'}}}"
      ]
     },
     "execution_count": 14,
     "metadata": {},
     "output_type": "execute_result"
    }
   ],
   "source": [
    "models.models['lgbm_yn'].best_params"
   ]
  },
  {
   "cell_type": "markdown",
   "metadata": {},
   "source": [
    "##### The best parameters of the Decision Tree model:"
   ]
  },
  {
   "cell_type": "code",
   "execution_count": 15,
   "metadata": {},
   "outputs": [
    {
     "data": {
      "text/plain": [
       "{'model__criterion': 'entropy',\n",
       " 'model__splitter': 'best',\n",
       " 'model__max_depth': 8,\n",
       " 'model__max_features': None,\n",
       " 'model__class_weight': None,\n",
       " 'preprocess__encoder__step_params': {'state': {'how': 'mean'},\n",
       "  'zip_code': {'how': 'mean'},\n",
       "  'title': {'how': 'mean'}}}"
      ]
     },
     "execution_count": 15,
     "metadata": {},
     "output_type": "execute_result"
    }
   ],
   "source": [
    "models.models['tree_yn'].best_params"
   ]
  },
  {
   "cell_type": "markdown",
   "metadata": {},
   "source": [
    "##### The best parameters of the Logistic regression model:"
   ]
  },
  {
   "cell_type": "code",
   "execution_count": 16,
   "metadata": {},
   "outputs": [
    {
     "data": {
      "text/plain": [
       "{'model__class_weight': None,\n",
       " 'model__penalty': 'l1',\n",
       " 'model__C': 0.0010764708820232727,\n",
       " 'model__solver': 'saga',\n",
       " 'preprocess__encoder__step_params': {'state': {'how': 'label'},\n",
       "  'zip_code': {'how': 'mean'},\n",
       "  'title': {'how': 'mean'}}}"
      ]
     },
     "execution_count": 16,
     "metadata": {},
     "output_type": "execute_result"
    }
   ],
   "source": [
    "models.models['logreg_yn'].best_params"
   ]
  },
  {
   "cell_type": "markdown",
   "metadata": {},
   "source": [
    "#### <a id='toc3_1_1_'></a>[Replacing Boruta with a Manual Feature Remover](#toc0_)"
   ]
  },
  {
   "cell_type": "markdown",
   "metadata": {},
   "source": [
    "The Bortua algorithm slows the models performance from tens to hundreds of times. Because of this the features to be removed are calculated using it once and then a manual feature remover with pre calculated columns to remove is added instead. "
   ]
  },
  {
   "cell_type": "markdown",
   "metadata": {},
   "source": [
    "##### Features dropped by Boruta:"
   ]
  },
  {
   "cell_type": "code",
   "execution_count": 17,
   "metadata": {},
   "outputs": [
    {
     "data": {
      "text/plain": [
       "[]"
      ]
     },
     "execution_count": 17,
     "metadata": {},
     "output_type": "execute_result"
    }
   ],
   "source": [
    "selected_features = (\n",
    "    models.models[\"lgbm_yn\"]\n",
    "    .pipeline[\"preprocess\"]\n",
    "    .fit_transform(\n",
    "        X_mini_train, y_mini_train\n",
    "    )\n",
    "    .columns\n",
    ")\n",
    "features_to_drop = [\n",
    "    feature for feature in X_mini_train.columns if feature not in selected_features\n",
    "]\n",
    "features_to_drop"
   ]
  },
  {
   "cell_type": "markdown",
   "metadata": {},
   "source": [
    "##### Changing the step in the pipeline with a manual feature remover:"
   ]
  },
  {
   "cell_type": "code",
   "execution_count": 18,
   "metadata": {},
   "outputs": [],
   "source": [
    "models.models[\"lgbm_yn\"].pipeline[\"preprocess\"].steps.pop(-1)\n",
    "models.models[\"lgbm_yn\"].pipeline[\"preprocess\"].steps.append(\n",
    "    (\"feature_remover\", tr.FeatureRemover(feats_to_drop=features_to_drop))\n",
    ")"
   ]
  },
  {
   "cell_type": "markdown",
   "metadata": {},
   "source": [
    "##### Dropping features manually instead of Boruta algorithm:"
   ]
  },
  {
   "cell_type": "markdown",
   "metadata": {},
   "source": [
    "## <a id='toc4_'></a>[Model Selection And Testing](#toc0_)"
   ]
  },
  {
   "cell_type": "markdown",
   "metadata": {},
   "source": [
    "### <a id='toc4_1_'></a>[Model Selection](#toc0_)"
   ]
  },
  {
   "cell_type": "markdown",
   "metadata": {},
   "source": [
    "##### Training the models on the full training set:"
   ]
  },
  {
   "cell_type": "code",
   "execution_count": 19,
   "metadata": {},
   "outputs": [
    {
     "data": {
      "text/html": [
       "<style>#sk-container-id-1 {color: black;}#sk-container-id-1 pre{padding: 0;}#sk-container-id-1 div.sk-toggleable {background-color: white;}#sk-container-id-1 label.sk-toggleable__label {cursor: pointer;display: block;width: 100%;margin-bottom: 0;padding: 0.3em;box-sizing: border-box;text-align: center;}#sk-container-id-1 label.sk-toggleable__label-arrow:before {content: \"▸\";float: left;margin-right: 0.25em;color: #696969;}#sk-container-id-1 label.sk-toggleable__label-arrow:hover:before {color: black;}#sk-container-id-1 div.sk-estimator:hover label.sk-toggleable__label-arrow:before {color: black;}#sk-container-id-1 div.sk-toggleable__content {max-height: 0;max-width: 0;overflow: hidden;text-align: left;background-color: #f0f8ff;}#sk-container-id-1 div.sk-toggleable__content pre {margin: 0.2em;color: black;border-radius: 0.25em;background-color: #f0f8ff;}#sk-container-id-1 input.sk-toggleable__control:checked~div.sk-toggleable__content {max-height: 200px;max-width: 100%;overflow: auto;}#sk-container-id-1 input.sk-toggleable__control:checked~label.sk-toggleable__label-arrow:before {content: \"▾\";}#sk-container-id-1 div.sk-estimator input.sk-toggleable__control:checked~label.sk-toggleable__label {background-color: #d4ebff;}#sk-container-id-1 div.sk-label input.sk-toggleable__control:checked~label.sk-toggleable__label {background-color: #d4ebff;}#sk-container-id-1 input.sk-hidden--visually {border: 0;clip: rect(1px 1px 1px 1px);clip: rect(1px, 1px, 1px, 1px);height: 1px;margin: -1px;overflow: hidden;padding: 0;position: absolute;width: 1px;}#sk-container-id-1 div.sk-estimator {font-family: monospace;background-color: #f0f8ff;border: 1px dotted black;border-radius: 0.25em;box-sizing: border-box;margin-bottom: 0.5em;}#sk-container-id-1 div.sk-estimator:hover {background-color: #d4ebff;}#sk-container-id-1 div.sk-parallel-item::after {content: \"\";width: 100%;border-bottom: 1px solid gray;flex-grow: 1;}#sk-container-id-1 div.sk-label:hover label.sk-toggleable__label {background-color: #d4ebff;}#sk-container-id-1 div.sk-serial::before {content: \"\";position: absolute;border-left: 1px solid gray;box-sizing: border-box;top: 0;bottom: 0;left: 50%;z-index: 0;}#sk-container-id-1 div.sk-serial {display: flex;flex-direction: column;align-items: center;background-color: white;padding-right: 0.2em;padding-left: 0.2em;position: relative;}#sk-container-id-1 div.sk-item {position: relative;z-index: 1;}#sk-container-id-1 div.sk-parallel {display: flex;align-items: stretch;justify-content: center;background-color: white;position: relative;}#sk-container-id-1 div.sk-item::before, #sk-container-id-1 div.sk-parallel-item::before {content: \"\";position: absolute;border-left: 1px solid gray;box-sizing: border-box;top: 0;bottom: 0;left: 50%;z-index: -1;}#sk-container-id-1 div.sk-parallel-item {display: flex;flex-direction: column;z-index: 1;position: relative;background-color: white;}#sk-container-id-1 div.sk-parallel-item:first-child::after {align-self: flex-end;width: 50%;}#sk-container-id-1 div.sk-parallel-item:last-child::after {align-self: flex-start;width: 50%;}#sk-container-id-1 div.sk-parallel-item:only-child::after {width: 0;}#sk-container-id-1 div.sk-dashed-wrapped {border: 1px dashed gray;margin: 0 0.4em 0.5em 0.4em;box-sizing: border-box;padding-bottom: 0.4em;background-color: white;}#sk-container-id-1 div.sk-label label {font-family: monospace;font-weight: bold;display: inline-block;line-height: 1.2em;}#sk-container-id-1 div.sk-label-container {text-align: center;}#sk-container-id-1 div.sk-container {/* jupyter's `normalize.less` sets `[hidden] { display: none; }` but bootstrap.min.css set `[hidden] { display: none !important; }` so we also need the `!important` here to be able to override the default hidden behavior on the sphinx rendered scikit-learn.org. See: https://github.com/scikit-learn/scikit-learn/issues/21755 */display: inline-block !important;position: relative;}#sk-container-id-1 div.sk-text-repr-fallback {display: none;}</style><div id=\"sk-container-id-1\" class=\"sk-top-container\"><div class=\"sk-text-repr-fallback\"><pre>Pipeline(steps=[(&#x27;preprocess&#x27;,\n",
       "                 Pipeline(steps=[(&#x27;imputer&#x27;,\n",
       "                                  PolarsColumnTransformer(steps=OrderedDict([(&#x27;title_imp&#x27;,\n",
       "                                                                              &lt;functions.transformers.PolarsColumnTransformer.Step object at 0x7fa0b975bd60&gt;),\n",
       "                                                                             (&#x27;zip_code_imp&#x27;,\n",
       "                                                                              &lt;functions.transformers.PolarsColumnTransformer.Step object at 0x7fa0b975b310&gt;),\n",
       "                                                                             (&#x27;state_imp&#x27;,\n",
       "                                                                              &lt;functions.transformers.PolarsColumnTransformer.Step ob...\n",
       "                                                                              &lt;functions.transformers.PolarsColumnTransformer.Step object at 0x7f9ebb6fe850&gt;),\n",
       "                                                                             (&#x27;title&#x27;,\n",
       "                                                                              &lt;functions.transformers.PolarsColumnTransformer.Step object at 0x7fa0b9759850&gt;),\n",
       "                                                                             (&#x27;emp_length&#x27;,\n",
       "                                                                              &lt;functions.transformers.PolarsColumnTransformer.Step object at 0x7fa0b9759610&gt;)]))),\n",
       "                                 (&#x27;null_imputer&#x27;,\n",
       "                                  PolarsNullImputer(fill_value=-9))])),\n",
       "                (&#x27;model&#x27;,\n",
       "                 DecisionTreeClassifier(criterion=&#x27;entropy&#x27;, max_depth=8))])</pre><b>In a Jupyter environment, please rerun this cell to show the HTML representation or trust the notebook. <br />On GitHub, the HTML representation is unable to render, please try loading this page with nbviewer.org.</b></div><div class=\"sk-container\" hidden><div class=\"sk-item sk-dashed-wrapped\"><div class=\"sk-label-container\"><div class=\"sk-label sk-toggleable\"><input class=\"sk-toggleable__control sk-hidden--visually\" id=\"sk-estimator-id-1\" type=\"checkbox\" ><label for=\"sk-estimator-id-1\" class=\"sk-toggleable__label sk-toggleable__label-arrow\">Pipeline</label><div class=\"sk-toggleable__content\"><pre>Pipeline(steps=[(&#x27;preprocess&#x27;,\n",
       "                 Pipeline(steps=[(&#x27;imputer&#x27;,\n",
       "                                  PolarsColumnTransformer(steps=OrderedDict([(&#x27;title_imp&#x27;,\n",
       "                                                                              &lt;functions.transformers.PolarsColumnTransformer.Step object at 0x7fa0b975bd60&gt;),\n",
       "                                                                             (&#x27;zip_code_imp&#x27;,\n",
       "                                                                              &lt;functions.transformers.PolarsColumnTransformer.Step object at 0x7fa0b975b310&gt;),\n",
       "                                                                             (&#x27;state_imp&#x27;,\n",
       "                                                                              &lt;functions.transformers.PolarsColumnTransformer.Step ob...\n",
       "                                                                              &lt;functions.transformers.PolarsColumnTransformer.Step object at 0x7f9ebb6fe850&gt;),\n",
       "                                                                             (&#x27;title&#x27;,\n",
       "                                                                              &lt;functions.transformers.PolarsColumnTransformer.Step object at 0x7fa0b9759850&gt;),\n",
       "                                                                             (&#x27;emp_length&#x27;,\n",
       "                                                                              &lt;functions.transformers.PolarsColumnTransformer.Step object at 0x7fa0b9759610&gt;)]))),\n",
       "                                 (&#x27;null_imputer&#x27;,\n",
       "                                  PolarsNullImputer(fill_value=-9))])),\n",
       "                (&#x27;model&#x27;,\n",
       "                 DecisionTreeClassifier(criterion=&#x27;entropy&#x27;, max_depth=8))])</pre></div></div></div><div class=\"sk-serial\"><div class=\"sk-item\"><div class=\"sk-label-container\"><div class=\"sk-label sk-toggleable\"><input class=\"sk-toggleable__control sk-hidden--visually\" id=\"sk-estimator-id-2\" type=\"checkbox\" ><label for=\"sk-estimator-id-2\" class=\"sk-toggleable__label sk-toggleable__label-arrow\">preprocess: Pipeline</label><div class=\"sk-toggleable__content\"><pre>Pipeline(steps=[(&#x27;imputer&#x27;,\n",
       "                 PolarsColumnTransformer(steps=OrderedDict([(&#x27;title_imp&#x27;,\n",
       "                                                             &lt;functions.transformers.PolarsColumnTransformer.Step object at 0x7fa0b975bd60&gt;),\n",
       "                                                            (&#x27;zip_code_imp&#x27;,\n",
       "                                                             &lt;functions.transformers.PolarsColumnTransformer.Step object at 0x7fa0b975b310&gt;),\n",
       "                                                            (&#x27;state_imp&#x27;,\n",
       "                                                             &lt;functions.transformers.PolarsColumnTransformer.Step object at 0x7fa1287db340&gt;),\n",
       "                                                            (&#x27;len_i...\n",
       "                                                             &lt;functions.transformers.PolarsColumnTransformer.Step object at 0x7fa0ba19cac0&gt;),\n",
       "                                                            (&#x27;zip_code&#x27;,\n",
       "                                                             &lt;functions.transformers.PolarsColumnTransformer.Step object at 0x7f9ebb6fe850&gt;),\n",
       "                                                            (&#x27;title&#x27;,\n",
       "                                                             &lt;functions.transformers.PolarsColumnTransformer.Step object at 0x7fa0b9759850&gt;),\n",
       "                                                            (&#x27;emp_length&#x27;,\n",
       "                                                             &lt;functions.transformers.PolarsColumnTransformer.Step object at 0x7fa0b9759610&gt;)]))),\n",
       "                (&#x27;null_imputer&#x27;, PolarsNullImputer(fill_value=-9))])</pre></div></div></div><div class=\"sk-serial\"><div class=\"sk-item\"><div class=\"sk-estimator sk-toggleable\"><input class=\"sk-toggleable__control sk-hidden--visually\" id=\"sk-estimator-id-3\" type=\"checkbox\" ><label for=\"sk-estimator-id-3\" class=\"sk-toggleable__label sk-toggleable__label-arrow\">PolarsColumnTransformer</label><div class=\"sk-toggleable__content\"><pre>PolarsColumnTransformer(steps=OrderedDict([(&#x27;title_imp&#x27;,\n",
       "                                            &lt;functions.transformers.PolarsColumnTransformer.Step object at 0x7fa0b975bd60&gt;),\n",
       "                                           (&#x27;zip_code_imp&#x27;,\n",
       "                                            &lt;functions.transformers.PolarsColumnTransformer.Step object at 0x7fa0b975b310&gt;),\n",
       "                                           (&#x27;state_imp&#x27;,\n",
       "                                            &lt;functions.transformers.PolarsColumnTransformer.Step object at 0x7fa1287db340&gt;),\n",
       "                                           (&#x27;len_imp&#x27;,\n",
       "                                            &lt;functions.transformers.PolarsColumnTransformer.Step object at 0x7fa0b9756610&gt;)]))</pre></div></div></div><div class=\"sk-item\"><div class=\"sk-estimator sk-toggleable\"><input class=\"sk-toggleable__control sk-hidden--visually\" id=\"sk-estimator-id-4\" type=\"checkbox\" ><label for=\"sk-estimator-id-4\" class=\"sk-toggleable__label sk-toggleable__label-arrow\">PolarsColumnTransformer</label><div class=\"sk-toggleable__content\"><pre>PolarsColumnTransformer(step_params={&#x27;state&#x27;: {&#x27;how&#x27;: &#x27;mean&#x27;},\n",
       "                                     &#x27;title&#x27;: {&#x27;how&#x27;: &#x27;mean&#x27;},\n",
       "                                     &#x27;zip_code&#x27;: {&#x27;how&#x27;: &#x27;mean&#x27;}},\n",
       "                        steps=OrderedDict([(&#x27;state&#x27;,\n",
       "                                            &lt;functions.transformers.PolarsColumnTransformer.Step object at 0x7fa0ba19cac0&gt;),\n",
       "                                           (&#x27;zip_code&#x27;,\n",
       "                                            &lt;functions.transformers.PolarsColumnTransformer.Step object at 0x7f9ebb6fe850&gt;),\n",
       "                                           (&#x27;title&#x27;,\n",
       "                                            &lt;functions.transformers.PolarsColumnTransformer.Step object at 0x7fa0b9759850&gt;),\n",
       "                                           (&#x27;emp_length&#x27;,\n",
       "                                            &lt;functions.transformers.PolarsColumnTransformer.Step object at 0x7fa0b9759610&gt;)]))</pre></div></div></div><div class=\"sk-item\"><div class=\"sk-estimator sk-toggleable\"><input class=\"sk-toggleable__control sk-hidden--visually\" id=\"sk-estimator-id-5\" type=\"checkbox\" ><label for=\"sk-estimator-id-5\" class=\"sk-toggleable__label sk-toggleable__label-arrow\">PolarsNullImputer</label><div class=\"sk-toggleable__content\"><pre>PolarsNullImputer(fill_value=-9)</pre></div></div></div></div></div><div class=\"sk-item\"><div class=\"sk-estimator sk-toggleable\"><input class=\"sk-toggleable__control sk-hidden--visually\" id=\"sk-estimator-id-6\" type=\"checkbox\" ><label for=\"sk-estimator-id-6\" class=\"sk-toggleable__label sk-toggleable__label-arrow\">DecisionTreeClassifier</label><div class=\"sk-toggleable__content\"><pre>DecisionTreeClassifier(criterion=&#x27;entropy&#x27;, max_depth=8)</pre></div></div></div></div></div></div></div>"
      ],
      "text/plain": [
       "Pipeline(steps=[('preprocess',\n",
       "                 Pipeline(steps=[('imputer',\n",
       "                                  PolarsColumnTransformer(steps=OrderedDict([('title_imp',\n",
       "                                                                              <functions.transformers.PolarsColumnTransformer.Step object at 0x7fa0b975bd60>),\n",
       "                                                                             ('zip_code_imp',\n",
       "                                                                              <functions.transformers.PolarsColumnTransformer.Step object at 0x7fa0b975b310>),\n",
       "                                                                             ('state_imp',\n",
       "                                                                              <functions.transformers.PolarsColumnTransformer.Step ob...\n",
       "                                                                              <functions.transformers.PolarsColumnTransformer.Step object at 0x7f9ebb6fe850>),\n",
       "                                                                             ('title',\n",
       "                                                                              <functions.transformers.PolarsColumnTransformer.Step object at 0x7fa0b9759850>),\n",
       "                                                                             ('emp_length',\n",
       "                                                                              <functions.transformers.PolarsColumnTransformer.Step object at 0x7fa0b9759610>)]))),\n",
       "                                 ('null_imputer',\n",
       "                                  PolarsNullImputer(fill_value=-9))])),\n",
       "                ('model',\n",
       "                 DecisionTreeClassifier(criterion='entropy', max_depth=8))])"
      ]
     },
     "execution_count": 19,
     "metadata": {},
     "output_type": "execute_result"
    }
   ],
   "source": [
    "models.models['lgbm_yn'].pipeline.fit(X_train,y_train)\n",
    "models.models['logreg_yn'].pipeline.fit(X_train,y_train)\n",
    "models.models['tree_yn'].pipeline.fit(X_train,y_train)\n",
    "# joblib.dump(models,'temp/trained_models_yn')\n"
   ]
  },
  {
   "cell_type": "markdown",
   "metadata": {},
   "source": [
    "##### Making predictions on the validation set:"
   ]
  },
  {
   "cell_type": "code",
   "execution_count": 20,
   "metadata": {},
   "outputs": [],
   "source": [
    "preds_lgbm =models.models['lgbm_yn'].pipeline.predict(X_val)\n",
    "preds_logreg =models.models['logreg_yn'].pipeline.predict(X_val)\n",
    "preds_tree =models.models['tree_yn'].pipeline.predict(X_val)\n"
   ]
  },
  {
   "cell_type": "markdown",
   "metadata": {},
   "source": [
    "##### Classification reports for each model:"
   ]
  },
  {
   "cell_type": "code",
   "execution_count": 21,
   "metadata": {},
   "outputs": [
    {
     "name": "stdout",
     "output_type": "stream",
     "text": [
      "              precision    recall  f1-score   support\n",
      "\n",
      "           0       0.98      0.97      0.98   6225688\n",
      "           1       0.63      0.75      0.69    390464\n",
      "\n",
      "    accuracy                           0.96   6616152\n",
      "   macro avg       0.81      0.86      0.83   6616152\n",
      "weighted avg       0.96      0.96      0.96   6616152\n",
      "\n",
      "              precision    recall  f1-score   support\n",
      "\n",
      "           0       0.98      0.98      0.98   6225688\n",
      "           1       0.64      0.71      0.68    390464\n",
      "\n",
      "    accuracy                           0.96   6616152\n",
      "   macro avg       0.81      0.84      0.83   6616152\n",
      "weighted avg       0.96      0.96      0.96   6616152\n",
      "\n",
      "              precision    recall  f1-score   support\n",
      "\n",
      "           0       0.96      0.99      0.97   6225688\n",
      "           1       0.66      0.37      0.48    390464\n",
      "\n",
      "    accuracy                           0.95   6616152\n",
      "   macro avg       0.81      0.68      0.73   6616152\n",
      "weighted avg       0.94      0.95      0.95   6616152\n",
      "\n"
     ]
    }
   ],
   "source": [
    "print(classification_report(y_val,preds_lgbm))\n",
    "print(classification_report(y_val,preds_tree))\n",
    "print(classification_report(y_val,preds_logreg))\n"
   ]
  },
  {
   "cell_type": "markdown",
   "metadata": {},
   "source": [
    "The performance of the decision tree and LightGBM models is remarkably similar, with an identical accuracy rate of 96%. However, the LightGBM model outperforms in terms of recall for the positive class, indicating its superior ability to detect acceptable loan applications. Because of this the LightGBM model is selected as the best one."
   ]
  },
  {
   "cell_type": "code",
   "execution_count": 22,
   "metadata": {},
   "outputs": [],
   "source": [
    "best_pipeline=models.models['lgbm_yn'].pipeline"
   ]
  },
  {
   "cell_type": "markdown",
   "metadata": {},
   "source": [
    "### <a id='toc4_2_'></a>[Feature importance](#toc0_)"
   ]
  },
  {
   "cell_type": "markdown",
   "metadata": {},
   "source": [
    "##### Calculating and displaying shap values of features:"
   ]
  },
  {
   "cell_type": "code",
   "execution_count": 23,
   "metadata": {},
   "outputs": [
    {
     "name": "stderr",
     "output_type": "stream",
     "text": [
      " 95%|=================== | 9541/10000 [00:20<00:00]       No data for colormapping provided via 'c'. Parameters 'vmin', 'vmax' will be ignored\n"
     ]
    },
    {
     "data": {
      "image/png": "[encoded data removed]",
      "text/plain": [
       "<Figure size 800x590 with 2 Axes>"
      ]
     },
     "metadata": {},
     "output_type": "display_data"
    }
   ],
   "source": [
    "names = best_pipeline[\"preprocess\"].transform(X_mini_val.sample(1000, seed=1)).columns\n",
    "explainer_tree = shap.TreeExplainer(\n",
    "    best_pipeline[\"model\"],\n",
    "    data=best_pipeline[\"preprocess\"]\n",
    "    .transform((X_mini_val.sample(10000, seed=1)))\n",
    "    .to_numpy(),\n",
    "    model_output=\"probability\",\n",
    ")\n",
    "\n",
    "shap_values = explainer_tree.shap_values(\n",
    "    best_pipeline[\"preprocess\"].transform(X_mini_val.sample(10000, seed=1)).to_numpy()\n",
    ")\n",
    "\n",
    "shap.summary_plot(\n",
    "    shap_values,\n",
    "    best_pipeline[\"preprocess\"].transform(X_mini_val.sample(10000, seed=1)).to_numpy(),\n",
    "    feature_names=names,\n",
    "    max_display=20,\n",
    ")"
   ]
  },
  {
   "cell_type": "markdown",
   "metadata": {},
   "source": [
    "Based on SHAP values, The model primarily bases its decisions on several key features, including the applicant's employment length, Debt-to-Income ratio, the requested loan amount, and the purpose stated in the application title."
   ]
  },
  {
   "cell_type": "markdown",
   "metadata": {},
   "source": [
    "### <a id='toc4_3_'></a>[Final Testing](#toc0_)"
   ]
  },
  {
   "cell_type": "markdown",
   "metadata": {},
   "source": [
    "##### Fitting the model on the Training and the Validation sets:"
   ]
  },
  {
   "cell_type": "code",
   "execution_count": 24,
   "metadata": {},
   "outputs": [
    {
     "data": {
      "text/html": [
       "<style>#sk-container-id-2 {color: black;}#sk-container-id-2 pre{padding: 0;}#sk-container-id-2 div.sk-toggleable {background-color: white;}#sk-container-id-2 label.sk-toggleable__label {cursor: pointer;display: block;width: 100%;margin-bottom: 0;padding: 0.3em;box-sizing: border-box;text-align: center;}#sk-container-id-2 label.sk-toggleable__label-arrow:before {content: \"▸\";float: left;margin-right: 0.25em;color: #696969;}#sk-container-id-2 label.sk-toggleable__label-arrow:hover:before {color: black;}#sk-container-id-2 div.sk-estimator:hover label.sk-toggleable__label-arrow:before {color: black;}#sk-container-id-2 div.sk-toggleable__content {max-height: 0;max-width: 0;overflow: hidden;text-align: left;background-color: #f0f8ff;}#sk-container-id-2 div.sk-toggleable__content pre {margin: 0.2em;color: black;border-radius: 0.25em;background-color: #f0f8ff;}#sk-container-id-2 input.sk-toggleable__control:checked~div.sk-toggleable__content {max-height: 200px;max-width: 100%;overflow: auto;}#sk-container-id-2 input.sk-toggleable__control:checked~label.sk-toggleable__label-arrow:before {content: \"▾\";}#sk-container-id-2 div.sk-estimator input.sk-toggleable__control:checked~label.sk-toggleable__label {background-color: #d4ebff;}#sk-container-id-2 div.sk-label input.sk-toggleable__control:checked~label.sk-toggleable__label {background-color: #d4ebff;}#sk-container-id-2 input.sk-hidden--visually {border: 0;clip: rect(1px 1px 1px 1px);clip: rect(1px, 1px, 1px, 1px);height: 1px;margin: -1px;overflow: hidden;padding: 0;position: absolute;width: 1px;}#sk-container-id-2 div.sk-estimator {font-family: monospace;background-color: #f0f8ff;border: 1px dotted black;border-radius: 0.25em;box-sizing: border-box;margin-bottom: 0.5em;}#sk-container-id-2 div.sk-estimator:hover {background-color: #d4ebff;}#sk-container-id-2 div.sk-parallel-item::after {content: \"\";width: 100%;border-bottom: 1px solid gray;flex-grow: 1;}#sk-container-id-2 div.sk-label:hover label.sk-toggleable__label {background-color: #d4ebff;}#sk-container-id-2 div.sk-serial::before {content: \"\";position: absolute;border-left: 1px solid gray;box-sizing: border-box;top: 0;bottom: 0;left: 50%;z-index: 0;}#sk-container-id-2 div.sk-serial {display: flex;flex-direction: column;align-items: center;background-color: white;padding-right: 0.2em;padding-left: 0.2em;position: relative;}#sk-container-id-2 div.sk-item {position: relative;z-index: 1;}#sk-container-id-2 div.sk-parallel {display: flex;align-items: stretch;justify-content: center;background-color: white;position: relative;}#sk-container-id-2 div.sk-item::before, #sk-container-id-2 div.sk-parallel-item::before {content: \"\";position: absolute;border-left: 1px solid gray;box-sizing: border-box;top: 0;bottom: 0;left: 50%;z-index: -1;}#sk-container-id-2 div.sk-parallel-item {display: flex;flex-direction: column;z-index: 1;position: relative;background-color: white;}#sk-container-id-2 div.sk-parallel-item:first-child::after {align-self: flex-end;width: 50%;}#sk-container-id-2 div.sk-parallel-item:last-child::after {align-self: flex-start;width: 50%;}#sk-container-id-2 div.sk-parallel-item:only-child::after {width: 0;}#sk-container-id-2 div.sk-dashed-wrapped {border: 1px dashed gray;margin: 0 0.4em 0.5em 0.4em;box-sizing: border-box;padding-bottom: 0.4em;background-color: white;}#sk-container-id-2 div.sk-label label {font-family: monospace;font-weight: bold;display: inline-block;line-height: 1.2em;}#sk-container-id-2 div.sk-label-container {text-align: center;}#sk-container-id-2 div.sk-container {/* jupyter's `normalize.less` sets `[hidden] { display: none; }` but bootstrap.min.css set `[hidden] { display: none !important; }` so we also need the `!important` here to be able to override the default hidden behavior on the sphinx rendered scikit-learn.org. See: https://github.com/scikit-learn/scikit-learn/issues/21755 */display: inline-block !important;position: relative;}#sk-container-id-2 div.sk-text-repr-fallback {display: none;}</style><div id=\"sk-container-id-2\" class=\"sk-top-container\"><div class=\"sk-text-repr-fallback\"><pre>Pipeline(steps=[(&#x27;preprocess&#x27;,\n",
       "                 Pipeline(steps=[(&#x27;imputer&#x27;,\n",
       "                                  PolarsColumnTransformer(steps=OrderedDict([(&#x27;title_imp&#x27;,\n",
       "                                                                              &lt;functions.transformers.PolarsColumnTransformer.Step object at 0x7fa0b9767400&gt;),\n",
       "                                                                             (&#x27;zip_code_imp&#x27;,\n",
       "                                                                              &lt;functions.transformers.PolarsColumnTransformer.Step object at 0x7fa0b9767100&gt;),\n",
       "                                                                             (&#x27;state_imp&#x27;,\n",
       "                                                                              &lt;functions.transformers.PolarsColumnTransformer.Step ob...\n",
       "                 LGBMClassifier(bagging_freq=0, boosting_type=&#x27;rf&#x27;,\n",
       "                                colsample_bytree=0.5271056292188826,\n",
       "                                force_col_wise=True,\n",
       "                                learning_rate=0.0035177130677962617,\n",
       "                                max_bin=184, n_estimators=81, num_leaves=102,\n",
       "                                num_threads=1,\n",
       "                                random_state=RandomState(MT19937) at 0x7FA0BA185C40,\n",
       "                                reg_alpha=2.8552865967655805,\n",
       "                                reg_lambda=0.00325459871999461,\n",
       "                                subsample=0.45336580978495056, verbose=-1))])</pre><b>In a Jupyter environment, please rerun this cell to show the HTML representation or trust the notebook. <br />On GitHub, the HTML representation is unable to render, please try loading this page with nbviewer.org.</b></div><div class=\"sk-container\" hidden><div class=\"sk-item sk-dashed-wrapped\"><div class=\"sk-label-container\"><div class=\"sk-label sk-toggleable\"><input class=\"sk-toggleable__control sk-hidden--visually\" id=\"sk-estimator-id-7\" type=\"checkbox\" ><label for=\"sk-estimator-id-7\" class=\"sk-toggleable__label sk-toggleable__label-arrow\">Pipeline</label><div class=\"sk-toggleable__content\"><pre>Pipeline(steps=[(&#x27;preprocess&#x27;,\n",
       "                 Pipeline(steps=[(&#x27;imputer&#x27;,\n",
       "                                  PolarsColumnTransformer(steps=OrderedDict([(&#x27;title_imp&#x27;,\n",
       "                                                                              &lt;functions.transformers.PolarsColumnTransformer.Step object at 0x7fa0b9767400&gt;),\n",
       "                                                                             (&#x27;zip_code_imp&#x27;,\n",
       "                                                                              &lt;functions.transformers.PolarsColumnTransformer.Step object at 0x7fa0b9767100&gt;),\n",
       "                                                                             (&#x27;state_imp&#x27;,\n",
       "                                                                              &lt;functions.transformers.PolarsColumnTransformer.Step ob...\n",
       "                 LGBMClassifier(bagging_freq=0, boosting_type=&#x27;rf&#x27;,\n",
       "                                colsample_bytree=0.5271056292188826,\n",
       "                                force_col_wise=True,\n",
       "                                learning_rate=0.0035177130677962617,\n",
       "                                max_bin=184, n_estimators=81, num_leaves=102,\n",
       "                                num_threads=1,\n",
       "                                random_state=RandomState(MT19937) at 0x7FA0BA185C40,\n",
       "                                reg_alpha=2.8552865967655805,\n",
       "                                reg_lambda=0.00325459871999461,\n",
       "                                subsample=0.45336580978495056, verbose=-1))])</pre></div></div></div><div class=\"sk-serial\"><div class=\"sk-item\"><div class=\"sk-label-container\"><div class=\"sk-label sk-toggleable\"><input class=\"sk-toggleable__control sk-hidden--visually\" id=\"sk-estimator-id-8\" type=\"checkbox\" ><label for=\"sk-estimator-id-8\" class=\"sk-toggleable__label sk-toggleable__label-arrow\">preprocess: Pipeline</label><div class=\"sk-toggleable__content\"><pre>Pipeline(steps=[(&#x27;imputer&#x27;,\n",
       "                 PolarsColumnTransformer(steps=OrderedDict([(&#x27;title_imp&#x27;,\n",
       "                                                             &lt;functions.transformers.PolarsColumnTransformer.Step object at 0x7fa0b9767400&gt;),\n",
       "                                                            (&#x27;zip_code_imp&#x27;,\n",
       "                                                             &lt;functions.transformers.PolarsColumnTransformer.Step object at 0x7fa0b9767100&gt;),\n",
       "                                                            (&#x27;state_imp&#x27;,\n",
       "                                                             &lt;functions.transformers.PolarsColumnTransformer.Step object at 0x7fa0b9767d60&gt;),\n",
       "                                                            (&#x27;len_i...\n",
       "                                                            (&#x27;zip_code&#x27;,\n",
       "                                                             &lt;functions.transformers.PolarsColumnTransformer.Step object at 0x7fa0b9766c40&gt;),\n",
       "                                                            (&#x27;title&#x27;,\n",
       "                                                             &lt;functions.transformers.PolarsColumnTransformer.Step object at 0x7fa0b9764a60&gt;),\n",
       "                                                            (&#x27;emp_length&#x27;,\n",
       "                                                             &lt;functions.transformers.PolarsColumnTransformer.Step object at 0x7fa0b9764550&gt;)]))),\n",
       "                (&#x27;null_imputer&#x27;, PolarsNullImputer(fill_value=-9)),\n",
       "                (&#x27;feature_remover&#x27;, FeatureRemover())])</pre></div></div></div><div class=\"sk-serial\"><div class=\"sk-item\"><div class=\"sk-estimator sk-toggleable\"><input class=\"sk-toggleable__control sk-hidden--visually\" id=\"sk-estimator-id-9\" type=\"checkbox\" ><label for=\"sk-estimator-id-9\" class=\"sk-toggleable__label sk-toggleable__label-arrow\">PolarsColumnTransformer</label><div class=\"sk-toggleable__content\"><pre>PolarsColumnTransformer(steps=OrderedDict([(&#x27;title_imp&#x27;,\n",
       "                                            &lt;functions.transformers.PolarsColumnTransformer.Step object at 0x7fa0b9767400&gt;),\n",
       "                                           (&#x27;zip_code_imp&#x27;,\n",
       "                                            &lt;functions.transformers.PolarsColumnTransformer.Step object at 0x7fa0b9767100&gt;),\n",
       "                                           (&#x27;state_imp&#x27;,\n",
       "                                            &lt;functions.transformers.PolarsColumnTransformer.Step object at 0x7fa0b9767d60&gt;),\n",
       "                                           (&#x27;len_imp&#x27;,\n",
       "                                            &lt;functions.transformers.PolarsColumnTransformer.Step object at 0x7fa0b9766fa0&gt;)]))</pre></div></div></div><div class=\"sk-item\"><div class=\"sk-estimator sk-toggleable\"><input class=\"sk-toggleable__control sk-hidden--visually\" id=\"sk-estimator-id-10\" type=\"checkbox\" ><label for=\"sk-estimator-id-10\" class=\"sk-toggleable__label sk-toggleable__label-arrow\">PolarsColumnTransformer</label><div class=\"sk-toggleable__content\"><pre>PolarsColumnTransformer(step_params={&#x27;state&#x27;: {&#x27;how&#x27;: &#x27;label&#x27;},\n",
       "                                     &#x27;title&#x27;: {&#x27;how&#x27;: &#x27;label&#x27;},\n",
       "                                     &#x27;zip_code&#x27;: {&#x27;how&#x27;: &#x27;label&#x27;}},\n",
       "                        steps=OrderedDict([(&#x27;state&#x27;,\n",
       "                                            &lt;functions.transformers.PolarsColumnTransformer.Step object at 0x7fa0b9766880&gt;),\n",
       "                                           (&#x27;zip_code&#x27;,\n",
       "                                            &lt;functions.transformers.PolarsColumnTransformer.Step object at 0x7fa0b9766c40&gt;),\n",
       "                                           (&#x27;title&#x27;,\n",
       "                                            &lt;functions.transformers.PolarsColumnTransformer.Step object at 0x7fa0b9764a60&gt;),\n",
       "                                           (&#x27;emp_length&#x27;,\n",
       "                                            &lt;functions.transformers.PolarsColumnTransformer.Step object at 0x7fa0b9764550&gt;)]))</pre></div></div></div><div class=\"sk-item\"><div class=\"sk-estimator sk-toggleable\"><input class=\"sk-toggleable__control sk-hidden--visually\" id=\"sk-estimator-id-11\" type=\"checkbox\" ><label for=\"sk-estimator-id-11\" class=\"sk-toggleable__label sk-toggleable__label-arrow\">PolarsNullImputer</label><div class=\"sk-toggleable__content\"><pre>PolarsNullImputer(fill_value=-9)</pre></div></div></div><div class=\"sk-item\"><div class=\"sk-estimator sk-toggleable\"><input class=\"sk-toggleable__control sk-hidden--visually\" id=\"sk-estimator-id-12\" type=\"checkbox\" ><label for=\"sk-estimator-id-12\" class=\"sk-toggleable__label sk-toggleable__label-arrow\">FeatureRemover</label><div class=\"sk-toggleable__content\"><pre>FeatureRemover()</pre></div></div></div></div></div><div class=\"sk-item\"><div class=\"sk-estimator sk-toggleable\"><input class=\"sk-toggleable__control sk-hidden--visually\" id=\"sk-estimator-id-13\" type=\"checkbox\" ><label for=\"sk-estimator-id-13\" class=\"sk-toggleable__label sk-toggleable__label-arrow\">LGBMClassifier</label><div class=\"sk-toggleable__content\"><pre>LGBMClassifier(bagging_freq=0, boosting_type=&#x27;rf&#x27;,\n",
       "               colsample_bytree=0.5271056292188826, force_col_wise=True,\n",
       "               learning_rate=0.0035177130677962617, max_bin=184,\n",
       "               n_estimators=81, num_leaves=102, num_threads=1,\n",
       "               random_state=RandomState(MT19937) at 0x7FA0BA185C40,\n",
       "               reg_alpha=2.8552865967655805, reg_lambda=0.00325459871999461,\n",
       "               subsample=0.45336580978495056, verbose=-1)</pre></div></div></div></div></div></div></div>"
      ],
      "text/plain": [
       "Pipeline(steps=[('preprocess',\n",
       "                 Pipeline(steps=[('imputer',\n",
       "                                  PolarsColumnTransformer(steps=OrderedDict([('title_imp',\n",
       "                                                                              <functions.transformers.PolarsColumnTransformer.Step object at 0x7fa0b9767400>),\n",
       "                                                                             ('zip_code_imp',\n",
       "                                                                              <functions.transformers.PolarsColumnTransformer.Step object at 0x7fa0b9767100>),\n",
       "                                                                             ('state_imp',\n",
       "                                                                              <functions.transformers.PolarsColumnTransformer.Step ob...\n",
       "                 LGBMClassifier(bagging_freq=0, boosting_type='rf',\n",
       "                                colsample_bytree=0.5271056292188826,\n",
       "                                force_col_wise=True,\n",
       "                                learning_rate=0.0035177130677962617,\n",
       "                                max_bin=184, n_estimators=81, num_leaves=102,\n",
       "                                num_threads=1,\n",
       "                                random_state=RandomState(MT19937) at 0x7FA0BA185C40,\n",
       "                                reg_alpha=2.8552865967655805,\n",
       "                                reg_lambda=0.00325459871999461,\n",
       "                                subsample=0.45336580978495056, verbose=-1))])"
      ]
     },
     "execution_count": 24,
     "metadata": {},
     "output_type": "execute_result"
    }
   ],
   "source": [
    "best_pipeline.fit(X_train.vstack(X_val), pl.concat([y_train,y_val]))"
   ]
  },
  {
   "cell_type": "markdown",
   "metadata": {},
   "source": [
    "##### Loading the test data:"
   ]
  },
  {
   "cell_type": "code",
   "execution_count": 25,
   "metadata": {},
   "outputs": [],
   "source": [
    "data_test=pl.read_parquet('data/data_full_test.parquet')\n",
    "\n",
    "data_test=dmf.clean_accepted_rejected(data_test)\n",
    "data_test=feats.date_features_accepted_rejected(data_test,\"Application Date\")\n",
    "data_test=feats.title_text_features(data_test)\n",
    "\n",
    "X_test = data_test.drop(columns=[\"Policy Code\"])\n",
    "y_test = data_test[\"Policy Code\"]"
   ]
  },
  {
   "cell_type": "markdown",
   "metadata": {},
   "source": [
    "##### Testing the model on new data:"
   ]
  },
  {
   "cell_type": "code",
   "execution_count": 26,
   "metadata": {},
   "outputs": [
    {
     "name": "stdout",
     "output_type": "stream",
     "text": [
      "              precision    recall  f1-score   support\n",
      "\n",
      "           0       0.99      0.97      0.98   9496782\n",
      "           1       0.59      0.75      0.66    495242\n",
      "\n",
      "    accuracy                           0.96   9992024\n",
      "   macro avg       0.79      0.86      0.82   9992024\n",
      "weighted avg       0.97      0.96      0.96   9992024\n",
      "\n"
     ]
    }
   ],
   "source": [
    "final_preds = best_pipeline.predict(X_test)\n",
    "print(classification_report(data_test[\"Policy Code\"], final_preds))"
   ]
  },
  {
   "cell_type": "markdown",
   "metadata": {},
   "source": [
    "The model's performance remained consistent when tested on entirely new data from a different year, demonstrating its robustness."
   ]
  },
  {
   "cell_type": "markdown",
   "metadata": {},
   "source": [
    "##### Exporting the final model trained on all available data:"
   ]
  },
  {
   "cell_type": "code",
   "execution_count": 27,
   "metadata": {},
   "outputs": [
    {
     "data": {
      "text/plain": [
       "['trained_models/final_model_accepted_rejected.joblib']"
      ]
     },
     "execution_count": 27,
     "metadata": {},
     "output_type": "execute_result"
    }
   ],
   "source": [
    "best_pipeline.fit(X_train.vstack(X_val).vstack(X_test), pl.concat([y_train,y_val,y_test]))\n",
    "joblib.dump(best_pipeline,\"trained_models/final_model_accepted_rejected.joblib\")"
   ]
  }
 ],
 "metadata": {
  "kernelspec": {
   "display_name": "base",
   "language": "python",
   "name": "python3"
  },
  "language_info": {
   "codemirror_mode": {
    "name": "ipython",
    "version": 3
   },
   "file_extension": ".py",
   "mimetype": "text/x-python",
   "name": "python",
   "nbconvert_exporter": "python",
   "pygments_lexer": "ipython3",
   "version": "3.9.13"
  },
  "orig_nbformat": 4
 },
 "nbformat": 4,
 "nbformat_minor": 2
}
